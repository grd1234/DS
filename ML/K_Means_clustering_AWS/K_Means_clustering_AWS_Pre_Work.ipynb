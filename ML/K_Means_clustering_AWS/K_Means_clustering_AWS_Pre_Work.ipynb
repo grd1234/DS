{
  "cells": [
    {
      "cell_type": "markdown",
      "metadata": {
        "id": "l5l5rzrmdKwB"
      },
      "source": [
        "## Problem Statement"
      ]
    },
    {
      "cell_type": "markdown",
      "metadata": {
        "id": "oy_mEAJ8dKwE"
      },
      "source": [
        "### Context\n",
        "\n",
        "Education is fast becoming a very competitive sector with hundreds of institutions to choose from. It is a life-transforming experience for any student and it has to be a thoughtful decision. There are ranking agencies that do a survey of all the colleges to provide more insights to students. Agency RankForYou wants to leverage this year's survey to roll out an editorial article in leading newspapers, on the state of engineering education in the country. Head of PR (Public Relations) comes to you, the data scientist working at RankForYou, and asks you to come up with evidence-based insights for that article.\n",
        "\n",
        "### Objective\n",
        "\n",
        "As a data scientist working at RankForYou, you have been asked to identify the different types of engineering colleges in the country to better understand the state of affairs. The key questions that need to be answered are:\n",
        "- How many different types (clusters/segments) of colleges can be found from the data?\n",
        "- How do these different groups of colleges differ from each other?\n",
        "- Do you get slightly different solutions from two different techniques? How would you explain the difference?\n",
        "\n",
        "\n",
        "### Data Description\n",
        "\n",
        "The data contains survey results for 26 engineering colleges. The initial survey data has been summarized into a rating scale of 1-5 for different factors.\n",
        "\n",
        "**Factor rating index**\n",
        " - 1 - Very low\n",
        " - 2 - Low\n",
        " - 3 - Medium\n",
        " - 4 - High\n",
        " - 5 - Very high\n",
        " \n",
        "**Data Dictionary**\n",
        " - SR_NO: Serial Number\n",
        " - Engg_College: 26 Engineering colleges with pseudonyms A to Z\n",
        " - Teaching: Quality of teaching at the engineering college\n",
        " - Fees: Fees at the engineering college\n",
        " - Placements: Job placements after a student graduates from the engineering college\n",
        " - Internship: Student Internships at the engineering college\n",
        " - Infrastructure: Infrastructure of the engineering college"
      ]
    },
    {
      "cell_type": "markdown",
      "metadata": {
        "id": "D_9DAnaEdKwG"
      },
      "source": [
        "## Importing necessary libraries"
      ]
    },
    {
      "cell_type": "code",
      "execution_count": null,
      "metadata": {
        "id": "vKLykkTPdKwG"
      },
      "outputs": [],
      "source": [
        "# this will help in making the Python code more structured automatically (good coding practice)\n",
        "#%load_ext nb_black\n",
        "\n",
        "# Libraries to help with reading and manipulating data\n",
        "import numpy as np\n",
        "import pandas as pd\n",
        "\n",
        "# Libraries to help with data visualization\n",
        "import matplotlib.pyplot as plt\n",
        "import seaborn as sns\n",
        "\n",
        "# to scale the data using z-score\n",
        "from sklearn.preprocessing import StandardScaler\n",
        "\n",
        "# to compute distances\n",
        "from scipy.spatial.distance import cdist\n",
        "\n",
        "# to perform k-means clustering and compute silhouette scores\n",
        "from sklearn.cluster import KMeans\n",
        "from sklearn.metrics import silhouette_score\n",
        "\n",
        "# to visualize the elbow curve and silhouette scores\n",
        "from yellowbrick.cluster import KElbowVisualizer, SilhouetteVisualizer"
      ]
    },
    {
      "cell_type": "markdown",
      "metadata": {
        "id": "txUg8CZNeWvM"
      },
      "source": [
        "## Reading the Dataset"
      ]
    },
    {
      "cell_type": "code",
      "execution_count": null,
      "metadata": {
        "id": "TxInnBmZdKwI"
      },
      "outputs": [],
      "source": [
        "# loading the dataset\n",
        "data = pd.read_excel(\"/content/ECS.xlsx\")"
      ]
    },
    {
      "cell_type": "markdown",
      "metadata": {
        "id": "nevPnTEFeZoD"
      },
      "source": [
        "## Overview of the Dataset"
      ]
    },
    {
      "cell_type": "markdown",
      "metadata": {
        "id": "KhQ6GWxHWdBh"
      },
      "source": [
        "The initial steps to get an overview of any dataset is to: \n",
        "- observe the first few rows of the dataset, to check whether the dataset has been loaded properly or not\n",
        "- get information about the number of rows and columns in the dataset\n",
        "- find out the data types of the columns to ensure that data is stored in the preferred format and the value of each property is as expected.\n",
        "- check the statistical summary of the dataset to get an overview of the numerical columns of the data"
      ]
    },
    {
      "cell_type": "markdown",
      "metadata": {
        "id": "Bdi1886yWkZH"
      },
      "source": [
        "### Checking the shape of the dataset"
      ]
    },
    {
      "cell_type": "code",
      "execution_count": null,
      "metadata": {
        "colab": {
          "base_uri": "https://localhost:8080/"
        },
        "id": "pV8BwJAmdKwI",
        "outputId": "c629465b-7d46-478a-a630-ba1e921e4730",
        "scrolled": true
      },
      "outputs": [
        {
          "output_type": "execute_result",
          "data": {
            "text/plain": [
              "(26, 5)"
            ]
          },
          "metadata": {},
          "execution_count": 55
        }
      ],
      "source": [
        "data.shape"
      ]
    },
    {
      "cell_type": "markdown",
      "metadata": {
        "id": "Odpf_0HRdKwJ"
      },
      "source": [
        "* The dataset has 26 rows and 7 columns "
      ]
    },
    {
      "cell_type": "markdown",
      "metadata": {
        "id": "PdJ_cSpBXQ_E"
      },
      "source": [
        "### Displaying few rows of the dataset"
      ]
    },
    {
      "cell_type": "code",
      "execution_count": null,
      "metadata": {
        "colab": {
          "base_uri": "https://localhost:8080/",
          "height": 363
        },
        "id": "2lHbuxaPdKwJ",
        "outputId": "eefe1540-5c17-4023-af26-25293ac891ca"
      },
      "outputs": [
        {
          "output_type": "execute_result",
          "data": {
            "text/plain": [
              "    Teaching     Fees  Placements  Internship  Infrastructure\n",
              "18  0.173240  1.08965    0.742614    0.189358       -0.302061\n",
              "13  0.173240  1.08965    0.076822    0.189358        0.483298\n",
              "17  0.173240  0.32395    0.742614    0.189358       -0.302061\n",
              "3   1.974933  0.32395    1.408406    1.009911        0.483298\n",
              "22 -0.727607  1.08965   -1.254761   -1.451747       -1.872778\n",
              "10  0.173240  0.32395    0.076822    1.009911        1.268656\n",
              "19  0.173240  1.08965    0.076822   -0.631194       -0.302061\n",
              "20 -0.727607 -1.20745   -0.588970   -0.631194       -1.872778\n",
              "4  -0.727607  1.08965   -0.588970   -0.631194        1.268656\n",
              "2   1.074086  1.08965    1.408406    1.009911        1.268656"
            ],
            "text/html": [
              "\n",
              "  <div id=\"df-5ece458a-d1dd-4917-a6d3-b31fbf05f5c9\">\n",
              "    <div class=\"colab-df-container\">\n",
              "      <div>\n",
              "<style scoped>\n",
              "    .dataframe tbody tr th:only-of-type {\n",
              "        vertical-align: middle;\n",
              "    }\n",
              "\n",
              "    .dataframe tbody tr th {\n",
              "        vertical-align: top;\n",
              "    }\n",
              "\n",
              "    .dataframe thead th {\n",
              "        text-align: right;\n",
              "    }\n",
              "</style>\n",
              "<table border=\"1\" class=\"dataframe\">\n",
              "  <thead>\n",
              "    <tr style=\"text-align: right;\">\n",
              "      <th></th>\n",
              "      <th>Teaching</th>\n",
              "      <th>Fees</th>\n",
              "      <th>Placements</th>\n",
              "      <th>Internship</th>\n",
              "      <th>Infrastructure</th>\n",
              "    </tr>\n",
              "  </thead>\n",
              "  <tbody>\n",
              "    <tr>\n",
              "      <th>18</th>\n",
              "      <td>0.173240</td>\n",
              "      <td>1.08965</td>\n",
              "      <td>0.742614</td>\n",
              "      <td>0.189358</td>\n",
              "      <td>-0.302061</td>\n",
              "    </tr>\n",
              "    <tr>\n",
              "      <th>13</th>\n",
              "      <td>0.173240</td>\n",
              "      <td>1.08965</td>\n",
              "      <td>0.076822</td>\n",
              "      <td>0.189358</td>\n",
              "      <td>0.483298</td>\n",
              "    </tr>\n",
              "    <tr>\n",
              "      <th>17</th>\n",
              "      <td>0.173240</td>\n",
              "      <td>0.32395</td>\n",
              "      <td>0.742614</td>\n",
              "      <td>0.189358</td>\n",
              "      <td>-0.302061</td>\n",
              "    </tr>\n",
              "    <tr>\n",
              "      <th>3</th>\n",
              "      <td>1.974933</td>\n",
              "      <td>0.32395</td>\n",
              "      <td>1.408406</td>\n",
              "      <td>1.009911</td>\n",
              "      <td>0.483298</td>\n",
              "    </tr>\n",
              "    <tr>\n",
              "      <th>22</th>\n",
              "      <td>-0.727607</td>\n",
              "      <td>1.08965</td>\n",
              "      <td>-1.254761</td>\n",
              "      <td>-1.451747</td>\n",
              "      <td>-1.872778</td>\n",
              "    </tr>\n",
              "    <tr>\n",
              "      <th>10</th>\n",
              "      <td>0.173240</td>\n",
              "      <td>0.32395</td>\n",
              "      <td>0.076822</td>\n",
              "      <td>1.009911</td>\n",
              "      <td>1.268656</td>\n",
              "    </tr>\n",
              "    <tr>\n",
              "      <th>19</th>\n",
              "      <td>0.173240</td>\n",
              "      <td>1.08965</td>\n",
              "      <td>0.076822</td>\n",
              "      <td>-0.631194</td>\n",
              "      <td>-0.302061</td>\n",
              "    </tr>\n",
              "    <tr>\n",
              "      <th>20</th>\n",
              "      <td>-0.727607</td>\n",
              "      <td>-1.20745</td>\n",
              "      <td>-0.588970</td>\n",
              "      <td>-0.631194</td>\n",
              "      <td>-1.872778</td>\n",
              "    </tr>\n",
              "    <tr>\n",
              "      <th>4</th>\n",
              "      <td>-0.727607</td>\n",
              "      <td>1.08965</td>\n",
              "      <td>-0.588970</td>\n",
              "      <td>-0.631194</td>\n",
              "      <td>1.268656</td>\n",
              "    </tr>\n",
              "    <tr>\n",
              "      <th>2</th>\n",
              "      <td>1.074086</td>\n",
              "      <td>1.08965</td>\n",
              "      <td>1.408406</td>\n",
              "      <td>1.009911</td>\n",
              "      <td>1.268656</td>\n",
              "    </tr>\n",
              "  </tbody>\n",
              "</table>\n",
              "</div>\n",
              "      <button class=\"colab-df-convert\" onclick=\"convertToInteractive('df-5ece458a-d1dd-4917-a6d3-b31fbf05f5c9')\"\n",
              "              title=\"Convert this dataframe to an interactive table.\"\n",
              "              style=\"display:none;\">\n",
              "        \n",
              "  <svg xmlns=\"http://www.w3.org/2000/svg\" height=\"24px\"viewBox=\"0 0 24 24\"\n",
              "       width=\"24px\">\n",
              "    <path d=\"M0 0h24v24H0V0z\" fill=\"none\"/>\n",
              "    <path d=\"M18.56 5.44l.94 2.06.94-2.06 2.06-.94-2.06-.94-.94-2.06-.94 2.06-2.06.94zm-11 1L8.5 8.5l.94-2.06 2.06-.94-2.06-.94L8.5 2.5l-.94 2.06-2.06.94zm10 10l.94 2.06.94-2.06 2.06-.94-2.06-.94-.94-2.06-.94 2.06-2.06.94z\"/><path d=\"M17.41 7.96l-1.37-1.37c-.4-.4-.92-.59-1.43-.59-.52 0-1.04.2-1.43.59L10.3 9.45l-7.72 7.72c-.78.78-.78 2.05 0 2.83L4 21.41c.39.39.9.59 1.41.59.51 0 1.02-.2 1.41-.59l7.78-7.78 2.81-2.81c.8-.78.8-2.07 0-2.86zM5.41 20L4 18.59l7.72-7.72 1.47 1.35L5.41 20z\"/>\n",
              "  </svg>\n",
              "      </button>\n",
              "      \n",
              "  <style>\n",
              "    .colab-df-container {\n",
              "      display:flex;\n",
              "      flex-wrap:wrap;\n",
              "      gap: 12px;\n",
              "    }\n",
              "\n",
              "    .colab-df-convert {\n",
              "      background-color: #E8F0FE;\n",
              "      border: none;\n",
              "      border-radius: 50%;\n",
              "      cursor: pointer;\n",
              "      display: none;\n",
              "      fill: #1967D2;\n",
              "      height: 32px;\n",
              "      padding: 0 0 0 0;\n",
              "      width: 32px;\n",
              "    }\n",
              "\n",
              "    .colab-df-convert:hover {\n",
              "      background-color: #E2EBFA;\n",
              "      box-shadow: 0px 1px 2px rgba(60, 64, 67, 0.3), 0px 1px 3px 1px rgba(60, 64, 67, 0.15);\n",
              "      fill: #174EA6;\n",
              "    }\n",
              "\n",
              "    [theme=dark] .colab-df-convert {\n",
              "      background-color: #3B4455;\n",
              "      fill: #D2E3FC;\n",
              "    }\n",
              "\n",
              "    [theme=dark] .colab-df-convert:hover {\n",
              "      background-color: #434B5C;\n",
              "      box-shadow: 0px 1px 3px 1px rgba(0, 0, 0, 0.15);\n",
              "      filter: drop-shadow(0px 1px 2px rgba(0, 0, 0, 0.3));\n",
              "      fill: #FFFFFF;\n",
              "    }\n",
              "  </style>\n",
              "\n",
              "      <script>\n",
              "        const buttonEl =\n",
              "          document.querySelector('#df-5ece458a-d1dd-4917-a6d3-b31fbf05f5c9 button.colab-df-convert');\n",
              "        buttonEl.style.display =\n",
              "          google.colab.kernel.accessAllowed ? 'block' : 'none';\n",
              "\n",
              "        async function convertToInteractive(key) {\n",
              "          const element = document.querySelector('#df-5ece458a-d1dd-4917-a6d3-b31fbf05f5c9');\n",
              "          const dataTable =\n",
              "            await google.colab.kernel.invokeFunction('convertToInteractive',\n",
              "                                                     [key], {});\n",
              "          if (!dataTable) return;\n",
              "\n",
              "          const docLinkHtml = 'Like what you see? Visit the ' +\n",
              "            '<a target=\"_blank\" href=https://colab.research.google.com/notebooks/data_table.ipynb>data table notebook</a>'\n",
              "            + ' to learn more about interactive tables.';\n",
              "          element.innerHTML = '';\n",
              "          dataTable['output_type'] = 'display_data';\n",
              "          await google.colab.output.renderOutput(dataTable, element);\n",
              "          const docLink = document.createElement('div');\n",
              "          docLink.innerHTML = docLinkHtml;\n",
              "          element.appendChild(docLink);\n",
              "        }\n",
              "      </script>\n",
              "    </div>\n",
              "  </div>\n",
              "  "
            ]
          },
          "metadata": {},
          "execution_count": 56
        }
      ],
      "source": [
        "# viewing a random sample of the dataset\n",
        "data.sample(n=10, random_state=1)"
      ]
    },
    {
      "cell_type": "markdown",
      "metadata": {
        "id": "iFPp6lP1YDqG"
      },
      "source": [
        "### Creating a copy of original data"
      ]
    },
    {
      "cell_type": "code",
      "execution_count": null,
      "metadata": {
        "id": "9eTS1_7ydKwJ"
      },
      "outputs": [],
      "source": [
        "# copying the data to another variable to avoid any changes to original data\n",
        "df = data.copy()"
      ]
    },
    {
      "cell_type": "markdown",
      "metadata": {
        "id": "PwKMsT8eWuSc"
      },
      "source": [
        "### Checking the data types of the columns for the dataset"
      ]
    },
    {
      "cell_type": "code",
      "execution_count": null,
      "metadata": {
        "colab": {
          "base_uri": "https://localhost:8080/"
        },
        "id": "vOJra-z6dKwK",
        "outputId": "c3d6e582-c036-47a3-f4b9-f567174b7364"
      },
      "outputs": [
        {
          "output_type": "stream",
          "name": "stdout",
          "text": [
            "<class 'pandas.core.frame.DataFrame'>\n",
            "RangeIndex: 26 entries, 0 to 25\n",
            "Data columns (total 5 columns):\n",
            " #   Column          Non-Null Count  Dtype  \n",
            "---  ------          --------------  -----  \n",
            " 0   Teaching        26 non-null     float64\n",
            " 1   Fees            26 non-null     float64\n",
            " 2   Placements      26 non-null     float64\n",
            " 3   Internship      26 non-null     float64\n",
            " 4   Infrastructure  26 non-null     float64\n",
            "dtypes: float64(5)\n",
            "memory usage: 1.1 KB\n"
          ]
        }
      ],
      "source": [
        "df.info()"
      ]
    },
    {
      "cell_type": "markdown",
      "metadata": {
        "id": "A7k9TT7ndKwK"
      },
      "source": [
        "**Observations**\n",
        "\n",
        "- *Engg_College* is a categorical variable with 26 levels that indicate each college's name.\n",
        "- The 5 rating variables are of type *int* (integer)."
      ]
    },
    {
      "cell_type": "markdown",
      "metadata": {
        "id": "O9ts4p3DW0ZV"
      },
      "source": [
        "### Statistical summary of the dataset"
      ]
    },
    {
      "cell_type": "code",
      "execution_count": null,
      "metadata": {
        "colab": {
          "base_uri": "https://localhost:8080/",
          "height": 300
        },
        "id": "Is31nwz1dKwK",
        "outputId": "d2c0ab73-170b-4ee1-97fb-8b17d975eeab"
      },
      "outputs": [
        {
          "output_type": "execute_result",
          "data": {
            "text/plain": [
              "           Teaching          Fees    Placements    Internship  Infrastructure\n",
              "count  2.600000e+01  2.600000e+01  2.600000e+01  2.600000e+01    2.600000e+01\n",
              "mean   2.732857e-16 -9.394195e-17  2.135044e-16 -3.416071e-17   -5.124106e-17\n",
              "std    1.019804e+00  1.019804e+00  1.019804e+00  1.019804e+00    1.019804e+00\n",
              "min   -1.628453e+00 -1.973150e+00 -1.254761e+00 -1.451747e+00   -1.872778e+00\n",
              "25%   -7.276069e-01 -1.016025e+00 -1.088313e+00 -6.311944e-01   -3.020610e-01\n",
              "50%    1.732397e-01  3.239500e-01  7.682213e-02 -6.311944e-01   -3.020610e-01\n",
              "75%    1.732397e-01  1.089650e+00  7.426139e-01  1.009911e+00    1.072317e+00\n",
              "max    1.974933e+00  1.089650e+00  1.408406e+00  1.830464e+00    1.268656e+00"
            ],
            "text/html": [
              "\n",
              "  <div id=\"df-4addbe36-07b9-4dff-9c6c-fa38b2da737a\">\n",
              "    <div class=\"colab-df-container\">\n",
              "      <div>\n",
              "<style scoped>\n",
              "    .dataframe tbody tr th:only-of-type {\n",
              "        vertical-align: middle;\n",
              "    }\n",
              "\n",
              "    .dataframe tbody tr th {\n",
              "        vertical-align: top;\n",
              "    }\n",
              "\n",
              "    .dataframe thead th {\n",
              "        text-align: right;\n",
              "    }\n",
              "</style>\n",
              "<table border=\"1\" class=\"dataframe\">\n",
              "  <thead>\n",
              "    <tr style=\"text-align: right;\">\n",
              "      <th></th>\n",
              "      <th>Teaching</th>\n",
              "      <th>Fees</th>\n",
              "      <th>Placements</th>\n",
              "      <th>Internship</th>\n",
              "      <th>Infrastructure</th>\n",
              "    </tr>\n",
              "  </thead>\n",
              "  <tbody>\n",
              "    <tr>\n",
              "      <th>count</th>\n",
              "      <td>2.600000e+01</td>\n",
              "      <td>2.600000e+01</td>\n",
              "      <td>2.600000e+01</td>\n",
              "      <td>2.600000e+01</td>\n",
              "      <td>2.600000e+01</td>\n",
              "    </tr>\n",
              "    <tr>\n",
              "      <th>mean</th>\n",
              "      <td>2.732857e-16</td>\n",
              "      <td>-9.394195e-17</td>\n",
              "      <td>2.135044e-16</td>\n",
              "      <td>-3.416071e-17</td>\n",
              "      <td>-5.124106e-17</td>\n",
              "    </tr>\n",
              "    <tr>\n",
              "      <th>std</th>\n",
              "      <td>1.019804e+00</td>\n",
              "      <td>1.019804e+00</td>\n",
              "      <td>1.019804e+00</td>\n",
              "      <td>1.019804e+00</td>\n",
              "      <td>1.019804e+00</td>\n",
              "    </tr>\n",
              "    <tr>\n",
              "      <th>min</th>\n",
              "      <td>-1.628453e+00</td>\n",
              "      <td>-1.973150e+00</td>\n",
              "      <td>-1.254761e+00</td>\n",
              "      <td>-1.451747e+00</td>\n",
              "      <td>-1.872778e+00</td>\n",
              "    </tr>\n",
              "    <tr>\n",
              "      <th>25%</th>\n",
              "      <td>-7.276069e-01</td>\n",
              "      <td>-1.016025e+00</td>\n",
              "      <td>-1.088313e+00</td>\n",
              "      <td>-6.311944e-01</td>\n",
              "      <td>-3.020610e-01</td>\n",
              "    </tr>\n",
              "    <tr>\n",
              "      <th>50%</th>\n",
              "      <td>1.732397e-01</td>\n",
              "      <td>3.239500e-01</td>\n",
              "      <td>7.682213e-02</td>\n",
              "      <td>-6.311944e-01</td>\n",
              "      <td>-3.020610e-01</td>\n",
              "    </tr>\n",
              "    <tr>\n",
              "      <th>75%</th>\n",
              "      <td>1.732397e-01</td>\n",
              "      <td>1.089650e+00</td>\n",
              "      <td>7.426139e-01</td>\n",
              "      <td>1.009911e+00</td>\n",
              "      <td>1.072317e+00</td>\n",
              "    </tr>\n",
              "    <tr>\n",
              "      <th>max</th>\n",
              "      <td>1.974933e+00</td>\n",
              "      <td>1.089650e+00</td>\n",
              "      <td>1.408406e+00</td>\n",
              "      <td>1.830464e+00</td>\n",
              "      <td>1.268656e+00</td>\n",
              "    </tr>\n",
              "  </tbody>\n",
              "</table>\n",
              "</div>\n",
              "      <button class=\"colab-df-convert\" onclick=\"convertToInteractive('df-4addbe36-07b9-4dff-9c6c-fa38b2da737a')\"\n",
              "              title=\"Convert this dataframe to an interactive table.\"\n",
              "              style=\"display:none;\">\n",
              "        \n",
              "  <svg xmlns=\"http://www.w3.org/2000/svg\" height=\"24px\"viewBox=\"0 0 24 24\"\n",
              "       width=\"24px\">\n",
              "    <path d=\"M0 0h24v24H0V0z\" fill=\"none\"/>\n",
              "    <path d=\"M18.56 5.44l.94 2.06.94-2.06 2.06-.94-2.06-.94-.94-2.06-.94 2.06-2.06.94zm-11 1L8.5 8.5l.94-2.06 2.06-.94-2.06-.94L8.5 2.5l-.94 2.06-2.06.94zm10 10l.94 2.06.94-2.06 2.06-.94-2.06-.94-.94-2.06-.94 2.06-2.06.94z\"/><path d=\"M17.41 7.96l-1.37-1.37c-.4-.4-.92-.59-1.43-.59-.52 0-1.04.2-1.43.59L10.3 9.45l-7.72 7.72c-.78.78-.78 2.05 0 2.83L4 21.41c.39.39.9.59 1.41.59.51 0 1.02-.2 1.41-.59l7.78-7.78 2.81-2.81c.8-.78.8-2.07 0-2.86zM5.41 20L4 18.59l7.72-7.72 1.47 1.35L5.41 20z\"/>\n",
              "  </svg>\n",
              "      </button>\n",
              "      \n",
              "  <style>\n",
              "    .colab-df-container {\n",
              "      display:flex;\n",
              "      flex-wrap:wrap;\n",
              "      gap: 12px;\n",
              "    }\n",
              "\n",
              "    .colab-df-convert {\n",
              "      background-color: #E8F0FE;\n",
              "      border: none;\n",
              "      border-radius: 50%;\n",
              "      cursor: pointer;\n",
              "      display: none;\n",
              "      fill: #1967D2;\n",
              "      height: 32px;\n",
              "      padding: 0 0 0 0;\n",
              "      width: 32px;\n",
              "    }\n",
              "\n",
              "    .colab-df-convert:hover {\n",
              "      background-color: #E2EBFA;\n",
              "      box-shadow: 0px 1px 2px rgba(60, 64, 67, 0.3), 0px 1px 3px 1px rgba(60, 64, 67, 0.15);\n",
              "      fill: #174EA6;\n",
              "    }\n",
              "\n",
              "    [theme=dark] .colab-df-convert {\n",
              "      background-color: #3B4455;\n",
              "      fill: #D2E3FC;\n",
              "    }\n",
              "\n",
              "    [theme=dark] .colab-df-convert:hover {\n",
              "      background-color: #434B5C;\n",
              "      box-shadow: 0px 1px 3px 1px rgba(0, 0, 0, 0.15);\n",
              "      filter: drop-shadow(0px 1px 2px rgba(0, 0, 0, 0.3));\n",
              "      fill: #FFFFFF;\n",
              "    }\n",
              "  </style>\n",
              "\n",
              "      <script>\n",
              "        const buttonEl =\n",
              "          document.querySelector('#df-4addbe36-07b9-4dff-9c6c-fa38b2da737a button.colab-df-convert');\n",
              "        buttonEl.style.display =\n",
              "          google.colab.kernel.accessAllowed ? 'block' : 'none';\n",
              "\n",
              "        async function convertToInteractive(key) {\n",
              "          const element = document.querySelector('#df-4addbe36-07b9-4dff-9c6c-fa38b2da737a');\n",
              "          const dataTable =\n",
              "            await google.colab.kernel.invokeFunction('convertToInteractive',\n",
              "                                                     [key], {});\n",
              "          if (!dataTable) return;\n",
              "\n",
              "          const docLinkHtml = 'Like what you see? Visit the ' +\n",
              "            '<a target=\"_blank\" href=https://colab.research.google.com/notebooks/data_table.ipynb>data table notebook</a>'\n",
              "            + ' to learn more about interactive tables.';\n",
              "          element.innerHTML = '';\n",
              "          dataTable['output_type'] = 'display_data';\n",
              "          await google.colab.output.renderOutput(dataTable, element);\n",
              "          const docLink = document.createElement('div');\n",
              "          docLink.innerHTML = docLinkHtml;\n",
              "          element.appendChild(docLink);\n",
              "        }\n",
              "      </script>\n",
              "    </div>\n",
              "  </div>\n",
              "  "
            ]
          },
          "metadata": {},
          "execution_count": 59
        }
      ],
      "source": [
        "df.describe()"
      ]
    },
    {
      "cell_type": "markdown",
      "metadata": {
        "id": "u7GhkKlVdKwL"
      },
      "source": [
        "**Observations**\n",
        "\n",
        "- The median value of fees is 4, indicating that most of the engineering colleges have high fees.\n",
        "- The mean and median of other ratings lie between 2 and 3, except the mean infrastructure rating."
      ]
    },
    {
      "cell_type": "markdown",
      "metadata": {
        "id": "RwWsg107W7a4"
      },
      "source": [
        "### Checking for missing values"
      ]
    },
    {
      "cell_type": "code",
      "execution_count": null,
      "metadata": {
        "colab": {
          "base_uri": "https://localhost:8080/"
        },
        "id": "ciIBm14ddKwL",
        "outputId": "7eeb9842-c13f-43e1-a292-93e0aea19e66"
      },
      "outputs": [
        {
          "output_type": "execute_result",
          "data": {
            "text/plain": [
              "Teaching          0\n",
              "Fees              0\n",
              "Placements        0\n",
              "Internship        0\n",
              "Infrastructure    0\n",
              "dtype: int64"
            ]
          },
          "metadata": {},
          "execution_count": 60
        }
      ],
      "source": [
        "# checking for missing values\n",
        "df.isna().sum()"
      ]
    },
    {
      "cell_type": "markdown",
      "metadata": {
        "id": "gxX99dS2dKwL"
      },
      "source": [
        "- There are no missing values in our data"
      ]
    },
    {
      "cell_type": "code",
      "source": [
        "subset_scaled_df = df.copy()"
      ],
      "metadata": {
        "id": "wsrufb0OkgdE"
      },
      "execution_count": null,
      "outputs": []
    },
    {
      "cell_type": "markdown",
      "metadata": {
        "id": "d-SS4quAhHux"
      },
      "source": [
        "## K-means Clustering"
      ]
    },
    {
      "cell_type": "code",
      "execution_count": null,
      "metadata": {
        "colab": {
          "base_uri": "https://localhost:8080/",
          "height": 545
        },
        "id": "o1iB90JCdKwO",
        "outputId": "de8614ed-a05d-412e-cc26-730f495c9e6b"
      },
      "outputs": [
        {
          "output_type": "stream",
          "name": "stdout",
          "text": [
            "Number of Clusters: 1 \tAverage Distortion: 2.087990295998642\n",
            "Number of Clusters: 2 \tAverage Distortion: 1.6030760049686552\n",
            "Number of Clusters: 3 \tAverage Distortion: 1.3542868697697457\n",
            "Number of Clusters: 4 \tAverage Distortion: 1.1658645562214658\n",
            "Number of Clusters: 5 \tAverage Distortion: 1.0290612283501503\n",
            "Number of Clusters: 6 \tAverage Distortion: 0.9009138502482413\n",
            "Number of Clusters: 7 \tAverage Distortion: 0.8264522590017906\n",
            "Number of Clusters: 8 \tAverage Distortion: 0.7161563518185232\n"
          ]
        },
        {
          "output_type": "execute_result",
          "data": {
            "text/plain": [
              "Text(0.5, 1.0, 'Selecting k with the Elbow Method')"
            ]
          },
          "metadata": {},
          "execution_count": 62
        },
        {
          "output_type": "display_data",
          "data": {
            "text/plain": [
              "<Figure size 576x396 with 1 Axes>"
            ],
            "image/png": "[encoded data removed]"
          },
          "metadata": {}
        }
      ],
      "source": [
        "clusters = range(1, 9)\n",
        "meanDistortions = []\n",
        "\n",
        "for k in clusters:\n",
        "    model = KMeans(n_clusters=k)\n",
        "    model.fit(subset_scaled_df)\n",
        "    prediction = model.predict(subset_scaled_df)\n",
        "    distortion = (\n",
        "        sum(\n",
        "            np.min(cdist(subset_scaled_df, model.cluster_centers_, \"euclidean\"), axis=1)\n",
        "        )\n",
        "        / subset_scaled_df.shape[0]\n",
        "    )\n",
        "\n",
        "    meanDistortions.append(distortion)\n",
        "\n",
        "    print(\"Number of Clusters:\", k, \"\\tAverage Distortion:\", distortion)\n",
        "\n",
        "plt.plot(clusters, meanDistortions, \"bx-\")\n",
        "plt.xlabel(\"k\")\n",
        "plt.ylabel(\"Average Distortion\")\n",
        "plt.title(\"Selecting k with the Elbow Method\", fontsize=20)"
      ]
    },
    {
      "cell_type": "markdown",
      "metadata": {
        "id": "Vgc0kcihdKwO"
      },
      "source": [
        "**The appropriate value of k from the elbow curve seems to be 4 or 5.**"
      ]
    },
    {
      "cell_type": "markdown",
      "metadata": {
        "id": "WGPlOIZ0dKwO"
      },
      "source": [
        "### Let's check the silhouette scores"
      ]
    },
    {
      "cell_type": "code",
      "execution_count": null,
      "metadata": {
        "colab": {
          "base_uri": "https://localhost:8080/",
          "height": 510
        },
        "id": "6axrdBLydKwO",
        "outputId": "7b6e9150-faa5-45f0-a991-c5e545e7ef34"
      },
      "outputs": [
        {
          "output_type": "stream",
          "name": "stdout",
          "text": [
            "For n_clusters = 2, silhouette score is 0.3347415593639784\n",
            "For n_clusters = 3, silhouette score is 0.2896589939792401\n",
            "For n_clusters = 4, silhouette score is 0.3490226771698325\n",
            "For n_clusters = 5, silhouette score is 0.35784842110666754\n",
            "For n_clusters = 6, silhouette score is 0.37516064402744803\n",
            "For n_clusters = 7, silhouette score is 0.4082176357505546\n",
            "For n_clusters = 8, silhouette score is 0.3975512934421172\n",
            "For n_clusters = 9, silhouette score is 0.39102713851068926\n"
          ]
        },
        {
          "output_type": "execute_result",
          "data": {
            "text/plain": [
              "[<matplotlib.lines.Line2D at 0x7f501ee87cd0>]"
            ]
          },
          "metadata": {},
          "execution_count": 63
        },
        {
          "output_type": "display_data",
          "data": {
            "text/plain": [
              "<Figure size 576x396 with 1 Axes>"
            ],
            "image/png": "[encoded data removed]"
          },
          "metadata": {}
        }
      ],
      "source": [
        "sil_score = []\n",
        "cluster_list = list(range(2, 10))\n",
        "for n_clusters in cluster_list:\n",
        "    clusterer = KMeans(n_clusters=n_clusters)\n",
        "    preds = clusterer.fit_predict((subset_scaled_df))\n",
        "    # centers = clusterer.cluster_centers_\n",
        "    score = silhouette_score(subset_scaled_df, preds)\n",
        "    sil_score.append(score)\n",
        "    print(\"For n_clusters = {}, silhouette score is {}\".format(n_clusters, score))\n",
        "\n",
        "plt.plot(cluster_list, sil_score)"
      ]
    },
    {
      "cell_type": "markdown",
      "metadata": {
        "id": "ngxnrHYrdKwO"
      },
      "source": [
        "**From the silhouette scores, it seems that 7 is a good value of k.**"
      ]
    },
    {
      "cell_type": "code",
      "execution_count": null,
      "metadata": {
        "colab": {
          "base_uri": "https://localhost:8080/",
          "height": 394
        },
        "id": "HivQzuIbdKwO",
        "outputId": "c435c489-a7c1-46c8-e680-ce606e422182"
      },
      "outputs": [
        {
          "output_type": "display_data",
          "data": {
            "text/plain": [
              "<Figure size 576x396 with 1 Axes>"
            ],
            "image/png": "[encoded data removed]"
          },
          "metadata": {}
        },
        {
          "output_type": "execute_result",
          "data": {
            "text/plain": [
              "<matplotlib.axes._subplots.AxesSubplot at 0x7f501ee58fd0>"
            ]
          },
          "metadata": {},
          "execution_count": 64
        }
      ],
      "source": [
        "# finding optimal no. of clusters with silhouette coefficients\n",
        "visualizer = SilhouetteVisualizer(KMeans(7, random_state=1))\n",
        "visualizer.fit(subset_scaled_df)\n",
        "visualizer.show()"
      ]
    },
    {
      "cell_type": "code",
      "execution_count": null,
      "metadata": {
        "colab": {
          "base_uri": "https://localhost:8080/",
          "height": 394
        },
        "id": "pNgmB_VQdKwO",
        "outputId": "df10806c-2fd1-4cb2-e315-e00f2e18103d"
      },
      "outputs": [
        {
          "output_type": "display_data",
          "data": {
            "text/plain": [
              "<Figure size 576x396 with 1 Axes>"
            ],
            "image/png": "[encoded data removed]"
          },
          "metadata": {}
        },
        {
          "output_type": "execute_result",
          "data": {
            "text/plain": [
              "<matplotlib.axes._subplots.AxesSubplot at 0x7f501ee1c3d0>"
            ]
          },
          "metadata": {},
          "execution_count": 65
        }
      ],
      "source": [
        "# finding optimal no. of clusters with silhouette coefficients\n",
        "visualizer = SilhouetteVisualizer(KMeans(6, random_state=1))\n",
        "visualizer.fit(subset_scaled_df)\n",
        "visualizer.show()"
      ]
    },
    {
      "cell_type": "code",
      "execution_count": null,
      "metadata": {
        "colab": {
          "base_uri": "https://localhost:8080/",
          "height": 394
        },
        "id": "_VKGO6QSdKwO",
        "outputId": "78f93ca4-9642-430b-a37f-cd33d8a298c4"
      },
      "outputs": [
        {
          "output_type": "display_data",
          "data": {
            "text/plain": [
              "<Figure size 576x396 with 1 Axes>"
            ],
            "image/png": "[encoded data removed]"
          },
          "metadata": {}
        },
        {
          "output_type": "execute_result",
          "data": {
            "text/plain": [
              "<matplotlib.axes._subplots.AxesSubplot at 0x7f501eee74d0>"
            ]
          },
          "metadata": {},
          "execution_count": 66
        }
      ],
      "source": [
        "# finding optimal no. of clusters with silhouette coefficients\n",
        "visualizer = SilhouetteVisualizer(KMeans(5, random_state=1))\n",
        "visualizer.fit(subset_scaled_df)\n",
        "visualizer.show()"
      ]
    },
    {
      "cell_type": "code",
      "execution_count": null,
      "metadata": {
        "colab": {
          "base_uri": "https://localhost:8080/",
          "height": 394
        },
        "id": "ek6zYxkKdKwO",
        "outputId": "d1d4c09c-62c8-4b8b-b8a9-7e58e03acecd"
      },
      "outputs": [
        {
          "output_type": "display_data",
          "data": {
            "text/plain": [
              "<Figure size 576x396 with 1 Axes>"
            ],
            "image/png": "[encoded data removed]"
          },
          "metadata": {}
        },
        {
          "output_type": "execute_result",
          "data": {
            "text/plain": [
              "<matplotlib.axes._subplots.AxesSubplot at 0x7f501ecb5d50>"
            ]
          },
          "metadata": {},
          "execution_count": 67
        }
      ],
      "source": [
        "# finding optimal no. of clusters with silhouette coefficients\n",
        "visualizer = SilhouetteVisualizer(KMeans(4, random_state=1))\n",
        "visualizer.fit(subset_scaled_df)\n",
        "visualizer.show()"
      ]
    },
    {
      "cell_type": "markdown",
      "metadata": {
        "id": "UdiKSHXwZJa3"
      },
      "source": [
        "### Selecting final model"
      ]
    },
    {
      "cell_type": "markdown",
      "metadata": {
        "id": "xg_Lgf1DdKwP"
      },
      "source": [
        "**Let's take 5 as the appropriate no. of clusters as the silhouette score is high enough and there is knick at 5 in the elbow curve.**"
      ]
    },
    {
      "cell_type": "code",
      "execution_count": null,
      "metadata": {
        "colab": {
          "base_uri": "https://localhost:8080/"
        },
        "id": "1iADIC_1dKwP",
        "outputId": "5f5852f6-f2b4-4d46-ab88-60434365443c"
      },
      "outputs": [
        {
          "output_type": "execute_result",
          "data": {
            "text/plain": [
              "KMeans(n_clusters=5, random_state=0)"
            ]
          },
          "metadata": {},
          "execution_count": 68
        }
      ],
      "source": [
        "kmeans = KMeans(n_clusters=5, random_state=0)\n",
        "kmeans.fit(subset_scaled_df)"
      ]
    },
    {
      "cell_type": "code",
      "execution_count": null,
      "metadata": {
        "id": "DUFRx4yndKwP"
      },
      "outputs": [],
      "source": [
        "# adding kmeans cluster labels to the original dataframe\n",
        "df[\"K_means_segments\"] = kmeans.labels_"
      ]
    },
    {
      "cell_type": "markdown",
      "metadata": {
        "id": "YvRQl7NChU3o"
      },
      "source": [
        "## Cluster Profiling"
      ]
    },
    {
      "cell_type": "code",
      "execution_count": null,
      "metadata": {
        "id": "5v5VtsaPdKwP"
      },
      "outputs": [],
      "source": [
        "cluster_profile = df.groupby(\"K_means_segments\").mean()"
      ]
    },
    {
      "cell_type": "code",
      "execution_count": null,
      "metadata": {
        "id": "vE4v26W6dKwP"
      },
      "outputs": [],
      "source": [
        "cluster_profile[\"count_in_each_segment\"] = (\n",
        "    df.groupby(\"K_means_segments\")[\"Fees\"].count().values\n",
        ")"
      ]
    },
    {
      "cell_type": "code",
      "execution_count": null,
      "metadata": {
        "colab": {
          "base_uri": "https://localhost:8080/",
          "height": 237
        },
        "id": "FDOl4v-9dKwP",
        "outputId": "4f7aa887-e6ca-452b-8754-d75ecf659420"
      },
      "outputs": [
        {
          "output_type": "execute_result",
          "data": {
            "text/plain": [
              "<pandas.io.formats.style.Styler at 0x7f501ebfae50>"
            ],
            "text/html": [
              "<style type=\"text/css\">\n",
              "#T_5f3a2_row0_col0, #T_5f3a2_row0_col2, #T_5f3a2_row0_col3, #T_5f3a2_row0_col5, #T_5f3a2_row2_col1, #T_5f3a2_row2_col5, #T_5f3a2_row3_col4 {\n",
              "  background-color: lightgreen;\n",
              "}\n",
              "</style>\n",
              "<table id=\"T_5f3a2_\" class=\"dataframe\">\n",
              "  <thead>\n",
              "    <tr>\n",
              "      <th class=\"blank level0\" >&nbsp;</th>\n",
              "      <th class=\"col_heading level0 col0\" >Teaching</th>\n",
              "      <th class=\"col_heading level0 col1\" >Fees</th>\n",
              "      <th class=\"col_heading level0 col2\" >Placements</th>\n",
              "      <th class=\"col_heading level0 col3\" >Internship</th>\n",
              "      <th class=\"col_heading level0 col4\" >Infrastructure</th>\n",
              "      <th class=\"col_heading level0 col5\" >count_in_each_segment</th>\n",
              "    </tr>\n",
              "    <tr>\n",
              "      <th class=\"index_name level0\" >K_means_segments</th>\n",
              "      <th class=\"blank col0\" >&nbsp;</th>\n",
              "      <th class=\"blank col1\" >&nbsp;</th>\n",
              "      <th class=\"blank col2\" >&nbsp;</th>\n",
              "      <th class=\"blank col3\" >&nbsp;</th>\n",
              "      <th class=\"blank col4\" >&nbsp;</th>\n",
              "      <th class=\"blank col5\" >&nbsp;</th>\n",
              "    </tr>\n",
              "  </thead>\n",
              "  <tbody>\n",
              "    <tr>\n",
              "      <th id=\"T_5f3a2_level0_row0\" class=\"row_heading level0 row0\" >0</th>\n",
              "      <td id=\"T_5f3a2_row0_col0\" class=\"data row0 col0\" >1.074086</td>\n",
              "      <td id=\"T_5f3a2_row0_col1\" class=\"data row0 col1\" >0.036813</td>\n",
              "      <td id=\"T_5f3a2_row0_col2\" class=\"data row0 col2\" >0.992286</td>\n",
              "      <td id=\"T_5f3a2_row0_col3\" class=\"data row0 col3\" >1.317618</td>\n",
              "      <td id=\"T_5f3a2_row0_col4\" class=\"data row0 col4\" >0.679637</td>\n",
              "      <td id=\"T_5f3a2_row0_col5\" class=\"data row0 col5\" >8</td>\n",
              "    </tr>\n",
              "    <tr>\n",
              "      <th id=\"T_5f3a2_level0_row1\" class=\"row_heading level0 row1\" >1</th>\n",
              "      <td id=\"T_5f3a2_row1_col0\" class=\"data row1 col0\" >-1.328171</td>\n",
              "      <td id=\"T_5f3a2_row1_col1\" class=\"data row1 col1\" >0.579183</td>\n",
              "      <td id=\"T_5f3a2_row1_col2\" class=\"data row1 col2\" >-1.254761</td>\n",
              "      <td id=\"T_5f3a2_row1_col3\" class=\"data row1 col3\" >-1.178230</td>\n",
              "      <td id=\"T_5f3a2_row1_col4\" class=\"data row1 col4\" >-1.349206</td>\n",
              "      <td id=\"T_5f3a2_row1_col5\" class=\"data row1 col5\" >3</td>\n",
              "    </tr>\n",
              "    <tr>\n",
              "      <th id=\"T_5f3a2_level0_row2\" class=\"row_heading level0 row2\" >2</th>\n",
              "      <td id=\"T_5f3a2_row2_col0\" class=\"data row2 col0\" >-0.051972</td>\n",
              "      <td id=\"T_5f3a2_row2_col1\" class=\"data row2 col1\" >0.802513</td>\n",
              "      <td id=\"T_5f3a2_row2_col2\" class=\"data row2 col2\" >0.326494</td>\n",
              "      <td id=\"T_5f3a2_row2_col3\" class=\"data row2 col3\" >-0.220918</td>\n",
              "      <td id=\"T_5f3a2_row2_col4\" class=\"data row2 col4\" >0.090618</td>\n",
              "      <td id=\"T_5f3a2_row2_col5\" class=\"data row2 col5\" >8</td>\n",
              "    </tr>\n",
              "    <tr>\n",
              "      <th id=\"T_5f3a2_level0_row3\" class=\"row_heading level0 row3\" >3</th>\n",
              "      <td id=\"T_5f3a2_row3_col0\" class=\"data row3 col0\" >-1.628453</td>\n",
              "      <td id=\"T_5f3a2_row3_col1\" class=\"data row3 col1\" >-1.973150</td>\n",
              "      <td id=\"T_5f3a2_row3_col2\" class=\"data row3 col2\" >-1.254761</td>\n",
              "      <td id=\"T_5f3a2_row3_col3\" class=\"data row3 col3\" >-1.041471</td>\n",
              "      <td id=\"T_5f3a2_row3_col4\" class=\"data row3 col4\" >1.268656</td>\n",
              "      <td id=\"T_5f3a2_row3_col5\" class=\"data row3 col5\" >2</td>\n",
              "    </tr>\n",
              "    <tr>\n",
              "      <th id=\"T_5f3a2_level0_row4\" class=\"row_heading level0 row4\" >4</th>\n",
              "      <td id=\"T_5f3a2_row4_col0\" class=\"data row4 col0\" >-0.187099</td>\n",
              "      <td id=\"T_5f3a2_row4_col1\" class=\"data row4 col1\" >-0.901170</td>\n",
              "      <td id=\"T_5f3a2_row4_col2\" class=\"data row4 col2\" >-0.855286</td>\n",
              "      <td id=\"T_5f3a2_row4_col3\" class=\"data row4 col3\" >-0.631194</td>\n",
              "      <td id=\"T_5f3a2_row4_col4\" class=\"data row4 col4\" >-0.930348</td>\n",
              "      <td id=\"T_5f3a2_row4_col5\" class=\"data row4 col5\" >5</td>\n",
              "    </tr>\n",
              "  </tbody>\n",
              "</table>\n"
            ]
          },
          "metadata": {},
          "execution_count": 72
        }
      ],
      "source": [
        "# let's display cluster profiles\n",
        "cluster_profile.style.highlight_max(color=\"lightgreen\", axis=0)"
      ]
    },
    {
      "cell_type": "code",
      "source": [
        "# selecting numerical columns\n",
        "num_cols = df.select_dtypes(include=np.number).columns.tolist()"
      ],
      "metadata": {
        "id": "gmpT6Zzikx5K"
      },
      "execution_count": null,
      "outputs": []
    },
    {
      "cell_type": "code",
      "execution_count": null,
      "metadata": {
        "colab": {
          "base_uri": "https://localhost:8080/",
          "height": 713
        },
        "id": "zIshp4TEdKwP",
        "outputId": "cc17ebe4-a2d7-498f-b195-b2c609fbc3ac"
      },
      "outputs": [
        {
          "output_type": "display_data",
          "data": {
            "text/plain": [
              "<Figure size 1080x720 with 6 Axes>"
            ],
            "image/png": "[encoded data removed]"
          },
          "metadata": {}
        }
      ],
      "source": [
        "plt.figure(figsize=(15, 10))\n",
        "plt.suptitle(\"Boxplot of numerical variables for each cluster\")\n",
        "\n",
        "for i, variable in enumerate(num_cols):\n",
        "    plt.subplot(2, 3, i + 1)\n",
        "    sns.boxplot(data=df, x=\"K_means_segments\", y=variable)\n",
        "\n",
        "plt.tight_layout(pad=2.0)"
      ]
    },
    {
      "cell_type": "code",
      "execution_count": null,
      "metadata": {
        "colab": {
          "base_uri": "https://localhost:8080/",
          "height": 402
        },
        "id": "5RNce0rRdKwP",
        "outputId": "82fe074e-aabd-49e3-9c76-60cb14e2a72a"
      },
      "outputs": [
        {
          "output_type": "execute_result",
          "data": {
            "text/plain": [
              "<matplotlib.axes._subplots.AxesSubplot at 0x7f501ee2d510>"
            ]
          },
          "metadata": {},
          "execution_count": 75
        },
        {
          "output_type": "display_data",
          "data": {
            "text/plain": [
              "<Figure size 1080x432 with 1 Axes>"
            ],
            "image/png": "[encoded data removed]"
          },
          "metadata": {}
        }
      ],
      "source": [
        "df.groupby(\"K_means_segments\").mean().plot.bar(figsize=(15, 6))"
      ]
    },
    {
      "cell_type": "markdown",
      "metadata": {
        "id": "xhjwXztxhYE-"
      },
      "source": [
        "### Insights"
      ]
    },
    {
      "cell_type": "markdown",
      "metadata": {
        "id": "VsQBVANkdKwQ"
      },
      "source": [
        "- **Cluster 0**:\n",
        "    - Teaching ratings are high.\n",
        "    - Fees are moderate for colleges in this cluster.\n",
        "    - Placements ratings are very high.\n",
        "    - Internship ratings are very high.\n",
        "    - Infrastructure ratings are high to very high.\n",
        "\n",
        "\n",
        "- **Cluster 1**:\n",
        "    - Teaching ratings are low to moderate.\n",
        "    - Fees are high for colleges in this cluster.\n",
        "    - Placements ratings are very low.\n",
        "    - Internship ratings are very low to low.\n",
        "    - Infrastructure ratings are low to moderate.\n",
        "\n",
        "\n",
        "- **Cluster 2**:\n",
        "    - Teaching ratings are moderate.\n",
        "    - Fees range from high to very high for colleges in this cluster.\n",
        "    - Placements ratings are moderate to high, with a few lows and very highs.\n",
        "    - Internship ratings are low to moderate.\n",
        "    - Infrastructure ratings are moderate to high, with a few very highs.\n",
        "\n",
        "\n",
        "- **Cluster 3**:\n",
        "    - Teaching ratings are very low.\n",
        "    - Fees are very low for colleges in this cluster.\n",
        "    - Placements ratings are very low.\n",
        "    - Internship ratings are very low to low.\n",
        "    - Infrastructure ratings are very high.\n",
        "\n",
        "\n",
        "- **Cluster 4**:\n",
        "    - Teaching ratings are low to moderate.\n",
        "    - Fees range from low to moderate for most colleges in this cluster.\n",
        "    - Placements ratings are on the lower side.\n",
        "    - Internship ratings are low.\n",
        "    - Infrastructure ratings are low to moderate."
      ]
    },
    {
      "cell_type": "markdown",
      "metadata": {
        "id": "bsUwPkVMhcmr"
      },
      "source": [
        "## Business Insights and  Recommendations"
      ]
    },
    {
      "cell_type": "markdown",
      "metadata": {
        "id": "W9a4aU5PdKwQ"
      },
      "source": [
        "- **Cluster 0**: These are the Tier 1 Colleges and have excellent teaching, placements & internships while maintaining a moderate infrastructure and moderate fees. **Corporates looking for the best candidates can approach this cluster for placements and internships.**\n",
        "\n",
        "\n",
        "- **Cluster 2**: These are the Tier 2 Colleges which are just behind the Tier 1 colleges in terms of teaching and placements, but provide quite better infrastructure and are accordingly more expensive. **They have scope for improvements in teaching, placements, and internships, and should consider tie-ups with corporates and ed-tech and training organizations. Companies providing training programs to faculty and students should approach them.**\n",
        "\n",
        "\n",
        "- **Cluster 3**: These are the Tier 3 colleges which have very high fees and very good infrastructure, but do not offer proper value-for-money in terms of teaching and internships. **This cluster of colleges will need to concentrate more towards onboarding better faculty and securing tie-ups with corporates to improve placement opportunities.**\n",
        "\n",
        "\n",
        "- **Cluster 1** and **Cluster 4**: These are the poor performing colleges or new colleges. **These colleges will need to concentrate more on marketing and advertisements about their offerings to create awareness and attract students.**"
      ]
    },
    {
      "cell_type": "markdown",
      "metadata": {
        "id": "95uYYyrlZWVj"
      },
      "source": [
        "___"
      ]
    }
  ],
  "metadata": {
    "colab": {
      "collapsed_sections": [],
      "provenance": []
    },
    "kernelspec": {
      "display_name": "Python 3",
      "language": "python",
      "name": "python3"
    },
    "language_info": {
      "codemirror_mode": {
        "name": "ipython",
        "version": 3
      },
      "file_extension": ".py",
      "mimetype": "text/x-python",
      "name": "python",
      "nbconvert_exporter": "python",
      "pygments_lexer": "ipython3",
      "version": "3.8.8"
    }
  },
  "nbformat": 4,
  "nbformat_minor": 0
}