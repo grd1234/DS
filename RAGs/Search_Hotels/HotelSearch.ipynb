{
  "cells": [
    {
      "cell_type": "markdown",
      "metadata": {
        "id": "z3-Z1KKCCtSe"
      },
      "source": [
        "# Large Language Model Embeddings and Retrieval-Augmented Generation\n",
        "\n",
        "This module focuses on creating a complete Retrieval-Augmented Generation (RAG) system using modern NLP techniques, embedding models, and vector databases. The system allows users to search through text documents semantically and receive AI-generated answers based on relevant retrieved contexts.\n",
        "\n",
        "## Objective\n",
        "The main objective of this module is to demonstrate how to:\n",
        "1. Process and chunk text documents for efficient retrieval\n",
        "2. Generate high-quality embeddings using pre-trained models\n",
        "3. Store and query vector embeddings in a vector database (Qdrant)\n",
        "4. Implement a complete RAG pipeline by connecting retrieval with an LLM\n",
        "5. Create a user-friendly interface for interacting with the RAG system\n"
      ]
    },
    {
      "cell_type": "code",
      "execution_count": null,
      "metadata": {
        "colab": {
          "base_uri": "https://localhost:8080/",
          "height": 51
        },
        "id": "KkCmtrUHulOy",
        "outputId": "9313d9e2-f80d-401f-93b3-132f5f0df130"
      },
      "outputs": [
        {
          "data": {
            "text/html": [
              "\n",
              "    <style>\n",
              "      pre {\n",
              "          white-space: pre-wrap;  /* Enable word-wrapping in code/output blocks */\n",
              "      }\n",
              "    </style>\n",
              "    "
            ],
            "text/plain": [
              "<IPython.core.display.HTML object>"
            ]
          },
          "metadata": {},
          "output_type": "display_data"
        },
        {
          "data": {
            "text/html": [
              "\n",
              "    <style>\n",
              "      pre {\n",
              "          white-space: pre-wrap;  /* Enable word-wrapping in code/output blocks */\n",
              "      }\n",
              "    </style>\n",
              "    "
            ],
            "text/plain": [
              "<IPython.core.display.HTML object>"
            ]
          },
          "metadata": {},
          "output_type": "display_data"
        },
        {
          "data": {
            "text/html": [
              "\n",
              "    <style>\n",
              "      pre {\n",
              "          white-space: pre-wrap;  /* Enable word-wrapping in code/output blocks */\n",
              "      }\n",
              "    </style>\n",
              "    "
            ],
            "text/plain": [
              "<IPython.core.display.HTML object>"
            ]
          },
          "metadata": {},
          "output_type": "display_data"
        },
        {
          "name": "stdout",
          "output_type": "stream",
          "text": [
            "Drive already mounted at /content/drive; to attempt to forcibly remount, call drive.mount(\"/content/drive\", force_remount=True).\n"
          ]
        }
      ],
      "source": [
        "from google.colab import drive\n",
        "drive.mount('/content/drive')"
      ]
    },
    {
      "cell_type": "code",
      "execution_count": null,
      "metadata": {
        "colab": {
          "base_uri": "https://localhost:8080/",
          "height": 17
        },
        "id": "E6CB9uB9J-Sr",
        "outputId": "76f7c36c-6305-4ee1-9673-c8e0be5b27c6"
      },
      "outputs": [
        {
          "data": {
            "text/html": [
              "\n",
              "    <style>\n",
              "      pre {\n",
              "          white-space: pre-wrap;  /* Enable word-wrapping in code/output blocks */\n",
              "      }\n",
              "    </style>\n",
              "    "
            ],
            "text/plain": [
              "<IPython.core.display.HTML object>"
            ]
          },
          "metadata": {},
          "output_type": "display_data"
        },
        {
          "data": {
            "text/html": [
              "\n",
              "    <style>\n",
              "      pre {\n",
              "          white-space: pre-wrap;  /* Enable word-wrapping in code/output blocks */\n",
              "      }\n",
              "    </style>\n",
              "    "
            ],
            "text/plain": [
              "<IPython.core.display.HTML object>"
            ]
          },
          "metadata": {},
          "output_type": "display_data"
        },
        {
          "data": {
            "text/html": [
              "\n",
              "    <style>\n",
              "      pre {\n",
              "          white-space: pre-wrap;  /* Enable word-wrapping in code/output blocks */\n",
              "      }\n",
              "    </style>\n",
              "    "
            ],
            "text/plain": [
              "<IPython.core.display.HTML object>"
            ]
          },
          "metadata": {},
          "output_type": "display_data"
        }
      ],
      "source": [
        "# Define a function that sets custom CSS for the notebook output\n",
        "# This specific style makes <pre> blocks wrap text instead of overflowing in a single line\n",
        "def set_css():\n",
        "    display(HTML('''\n",
        "    <style>\n",
        "      pre {\n",
        "          white-space: pre-wrap;  /* Enable word-wrapping in code/output blocks */\n",
        "      }\n",
        "    </style>\n",
        "    '''))\n",
        "\n",
        "# Register the CSS-setting function to run automatically before each code cell runs\n",
        "# This ensures the styling stays applied throughout the notebook session\n",
        "get_ipython().events.register('pre_run_cell', set_css)"
      ]
    },
    {
      "cell_type": "code",
      "execution_count": null,
      "metadata": {
        "colab": {
          "base_uri": "https://localhost:8080/",
          "height": 17
        },
        "id": "0SvvTsP-30Bm",
        "outputId": "f77f1706-20d7-40c5-f734-ebd1dde5d85a"
      },
      "outputs": [
        {
          "data": {
            "text/html": [
              "\n",
              "    <style>\n",
              "      pre {\n",
              "          white-space: pre-wrap;  /* Enable word-wrapping in code/output blocks */\n",
              "      }\n",
              "    </style>\n",
              "    "
            ],
            "text/plain": [
              "<IPython.core.display.HTML object>"
            ]
          },
          "metadata": {},
          "output_type": "display_data"
        },
        {
          "data": {
            "text/html": [
              "\n",
              "    <style>\n",
              "      pre {\n",
              "          white-space: pre-wrap;  /* Enable word-wrapping in code/output blocks */\n",
              "      }\n",
              "    </style>\n",
              "    "
            ],
            "text/plain": [
              "<IPython.core.display.HTML object>"
            ]
          },
          "metadata": {},
          "output_type": "display_data"
        },
        {
          "data": {
            "text/html": [
              "\n",
              "    <style>\n",
              "      pre {\n",
              "          white-space: pre-wrap;  /* Enable word-wrapping in code/output blocks */\n",
              "      }\n",
              "    </style>\n",
              "    "
            ],
            "text/plain": [
              "<IPython.core.display.HTML object>"
            ]
          },
          "metadata": {},
          "output_type": "display_data"
        },
        {
          "data": {
            "text/html": [
              "\n",
              "    <style>\n",
              "      pre {\n",
              "          white-space: pre-wrap;  /* Enable word-wrapping in code/output blocks */\n",
              "      }\n",
              "    </style>\n",
              "    "
            ],
            "text/plain": [
              "<IPython.core.display.HTML object>"
            ]
          },
          "metadata": {},
          "output_type": "display_data"
        }
      ],
      "source": [
        "# Define a function that sets custom CSS for the notebook output\n",
        "# This specific style makes <pre> blocks wrap text instead of overflowing in a single line\n",
        "from IPython.display import display, HTML # Import HTML from IPython.display\n",
        "\n",
        "def set_css():\n",
        "    display(HTML('''\n",
        "    <style>\n",
        "      pre {\n",
        "          white-space: pre-wrap;  /* Enable word-wrapping in code/output blocks */\n",
        "      }\n",
        "    </style>\n",
        "    '''))\n",
        "\n",
        "# Register the CSS-setting function to run automatically before each code cell runs\n",
        "# This ensures the styling stays applied throughout the notebook session\n",
        "get_ipython().events.register('pre_run_cell', set_css)"
      ]
    },
    {
      "cell_type": "code",
      "execution_count": null,
      "metadata": {
        "colab": {
          "base_uri": "https://localhost:8080/",
          "height": 17
        },
        "id": "IjCDszI_KX0G",
        "outputId": "2064fba1-c886-4771-e71d-7db7df57fe2a"
      },
      "outputs": [
        {
          "data": {
            "text/html": [
              "\n",
              "    <style>\n",
              "      pre {\n",
              "          white-space: pre-wrap;  /* Enable word-wrapping in code/output blocks */\n",
              "      }\n",
              "    </style>\n",
              "    "
            ],
            "text/plain": [
              "<IPython.core.display.HTML object>"
            ]
          },
          "metadata": {},
          "output_type": "display_data"
        },
        {
          "data": {
            "text/html": [
              "\n",
              "    <style>\n",
              "      pre {\n",
              "          white-space: pre-wrap;  /* Enable word-wrapping in code/output blocks */\n",
              "      }\n",
              "    </style>\n",
              "    "
            ],
            "text/plain": [
              "<IPython.core.display.HTML object>"
            ]
          },
          "metadata": {},
          "output_type": "display_data"
        },
        {
          "data": {
            "text/html": [
              "\n",
              "    <style>\n",
              "      pre {\n",
              "          white-space: pre-wrap;  /* Enable word-wrapping in code/output blocks */\n",
              "      }\n",
              "    </style>\n",
              "    "
            ],
            "text/plain": [
              "<IPython.core.display.HTML object>"
            ]
          },
          "metadata": {},
          "output_type": "display_data"
        },
        {
          "data": {
            "text/html": [
              "\n",
              "    <style>\n",
              "      pre {\n",
              "          white-space: pre-wrap;  /* Enable word-wrapping in code/output blocks */\n",
              "      }\n",
              "    </style>\n",
              "    "
            ],
            "text/plain": [
              "<IPython.core.display.HTML object>"
            ]
          },
          "metadata": {},
          "output_type": "display_data"
        },
        {
          "data": {
            "text/html": [
              "\n",
              "    <style>\n",
              "      pre {\n",
              "          white-space: pre-wrap;  /* Enable word-wrapping in code/output blocks */\n",
              "      }\n",
              "    </style>\n",
              "    "
            ],
            "text/plain": [
              "<IPython.core.display.HTML object>"
            ]
          },
          "metadata": {},
          "output_type": "display_data"
        }
      ],
      "source": [
        "import markdown\n",
        "from IPython.display import display, HTML\n",
        "\n",
        "def render_markdown(md_text):\n",
        "    # Convert Markdown to HTML\n",
        "    html = markdown.markdown(md_text)\n",
        "    # Display the HTML\n",
        "    display(HTML(html))"
      ]
    },
    {
      "cell_type": "markdown",
      "metadata": {
        "id": "MHhuO8IoDyQA"
      },
      "source": [
        "## Setup and Dependencies"
      ]
    },
    {
      "cell_type": "code",
      "execution_count": null,
      "metadata": {
        "colab": {
          "base_uri": "https://localhost:8080/",
          "height": 1000
        },
        "id": "sJ1aqJD-CumT",
        "outputId": "24f3a4fc-2313-4db0-e42d-f0e82d99e19d"
      },
      "outputs": [
        {
          "data": {
            "text/html": [
              "\n",
              "    <style>\n",
              "      pre {\n",
              "          white-space: pre-wrap;  /* Enable word-wrapping in code/output blocks */\n",
              "      }\n",
              "    </style>\n",
              "    "
            ],
            "text/plain": [
              "<IPython.core.display.HTML object>"
            ]
          },
          "metadata": {},
          "output_type": "display_data"
        },
        {
          "data": {
            "text/html": [
              "\n",
              "    <style>\n",
              "      pre {\n",
              "          white-space: pre-wrap;  /* Enable word-wrapping in code/output blocks */\n",
              "      }\n",
              "    </style>\n",
              "    "
            ],
            "text/plain": [
              "<IPython.core.display.HTML object>"
            ]
          },
          "metadata": {},
          "output_type": "display_data"
        },
        {
          "data": {
            "text/html": [
              "\n",
              "    <style>\n",
              "      pre {\n",
              "          white-space: pre-wrap;  /* Enable word-wrapping in code/output blocks */\n",
              "      }\n",
              "    </style>\n",
              "    "
            ],
            "text/plain": [
              "<IPython.core.display.HTML object>"
            ]
          },
          "metadata": {},
          "output_type": "display_data"
        },
        {
          "data": {
            "text/html": [
              "\n",
              "    <style>\n",
              "      pre {\n",
              "          white-space: pre-wrap;  /* Enable word-wrapping in code/output blocks */\n",
              "      }\n",
              "    </style>\n",
              "    "
            ],
            "text/plain": [
              "<IPython.core.display.HTML object>"
            ]
          },
          "metadata": {},
          "output_type": "display_data"
        },
        {
          "data": {
            "text/html": [
              "\n",
              "    <style>\n",
              "      pre {\n",
              "          white-space: pre-wrap;  /* Enable word-wrapping in code/output blocks */\n",
              "      }\n",
              "    </style>\n",
              "    "
            ],
            "text/plain": [
              "<IPython.core.display.HTML object>"
            ]
          },
          "metadata": {},
          "output_type": "display_data"
        },
        {
          "name": "stdout",
          "output_type": "stream",
          "text": [
            "Requirement already satisfied: sentence_transformers in /usr/local/lib/python3.11/dist-packages (3.4.1)\n",
            "Requirement already satisfied: openai in /usr/local/lib/python3.11/dist-packages (1.77.0)\n",
            "Requirement already satisfied: transformers<5.0.0,>=4.41.0 in /usr/local/lib/python3.11/dist-packages (from sentence_transformers) (4.51.3)\n",
            "Requirement already satisfied: tqdm in /usr/local/lib/python3.11/dist-packages (from sentence_transformers) (4.67.1)\n",
            "Requirement already satisfied: torch>=1.11.0 in /usr/local/lib/python3.11/dist-packages (from sentence_transformers) (2.6.0+cu124)\n",
            "Requirement already satisfied: scikit-learn in /usr/local/lib/python3.11/dist-packages (from sentence_transformers) (1.6.1)\n",
            "Requirement already satisfied: scipy in /usr/local/lib/python3.11/dist-packages (from sentence_transformers) (1.15.2)\n",
            "Requirement already satisfied: huggingface-hub>=0.20.0 in /usr/local/lib/python3.11/dist-packages (from sentence_transformers) (0.30.2)\n",
            "Requirement already satisfied: Pillow in /usr/local/lib/python3.11/dist-packages (from sentence_transformers) (11.2.1)\n",
            "Requirement already satisfied: anyio<5,>=3.5.0 in /usr/local/lib/python3.11/dist-packages (from openai) (4.9.0)\n",
            "Requirement already satisfied: distro<2,>=1.7.0 in /usr/local/lib/python3.11/dist-packages (from openai) (1.9.0)\n",
            "Requirement already satisfied: httpx<1,>=0.23.0 in /usr/local/lib/python3.11/dist-packages (from openai) (0.28.1)\n",
            "Requirement already satisfied: jiter<1,>=0.4.0 in /usr/local/lib/python3.11/dist-packages (from openai) (0.9.0)\n",
            "Requirement already satisfied: pydantic<3,>=1.9.0 in /usr/local/lib/python3.11/dist-packages (from openai) (2.11.4)\n",
            "Requirement already satisfied: sniffio in /usr/local/lib/python3.11/dist-packages (from openai) (1.3.1)\n",
            "Requirement already satisfied: typing-extensions<5,>=4.11 in /usr/local/lib/python3.11/dist-packages (from openai) (4.13.2)\n",
            "Requirement already satisfied: idna>=2.8 in /usr/local/lib/python3.11/dist-packages (from anyio<5,>=3.5.0->openai) (3.10)\n",
            "Requirement already satisfied: certifi in /usr/local/lib/python3.11/dist-packages (from httpx<1,>=0.23.0->openai) (2025.4.26)\n",
            "Requirement already satisfied: httpcore==1.* in /usr/local/lib/python3.11/dist-packages (from httpx<1,>=0.23.0->openai) (1.0.9)\n",
            "Requirement already satisfied: h11>=0.16 in /usr/local/lib/python3.11/dist-packages (from httpcore==1.*->httpx<1,>=0.23.0->openai) (0.16.0)\n",
            "Requirement already satisfied: filelock in /usr/local/lib/python3.11/dist-packages (from huggingface-hub>=0.20.0->sentence_transformers) (3.18.0)\n",
            "Requirement already satisfied: fsspec>=2023.5.0 in /usr/local/lib/python3.11/dist-packages (from huggingface-hub>=0.20.0->sentence_transformers) (2025.3.2)\n",
            "Requirement already satisfied: packaging>=20.9 in /usr/local/lib/python3.11/dist-packages (from huggingface-hub>=0.20.0->sentence_transformers) (24.2)\n",
            "Requirement already satisfied: pyyaml>=5.1 in /usr/local/lib/python3.11/dist-packages (from huggingface-hub>=0.20.0->sentence_transformers) (6.0.2)\n",
            "Requirement already satisfied: requests in /usr/local/lib/python3.11/dist-packages (from huggingface-hub>=0.20.0->sentence_transformers) (2.32.3)\n",
            "Requirement already satisfied: annotated-types>=0.6.0 in /usr/local/lib/python3.11/dist-packages (from pydantic<3,>=1.9.0->openai) (0.7.0)\n",
            "Requirement already satisfied: pydantic-core==2.33.2 in /usr/local/lib/python3.11/dist-packages (from pydantic<3,>=1.9.0->openai) (2.33.2)\n",
            "Requirement already satisfied: typing-inspection>=0.4.0 in /usr/local/lib/python3.11/dist-packages (from pydantic<3,>=1.9.0->openai) (0.4.0)\n",
            "Requirement already satisfied: networkx in /usr/local/lib/python3.11/dist-packages (from torch>=1.11.0->sentence_transformers) (3.4.2)\n",
            "Requirement already satisfied: jinja2 in /usr/local/lib/python3.11/dist-packages (from torch>=1.11.0->sentence_transformers) (3.1.6)\n",
            "Requirement already satisfied: nvidia-cuda-nvrtc-cu12==12.4.127 in /usr/local/lib/python3.11/dist-packages (from torch>=1.11.0->sentence_transformers) (12.4.127)\n",
            "Requirement already satisfied: nvidia-cuda-runtime-cu12==12.4.127 in /usr/local/lib/python3.11/dist-packages (from torch>=1.11.0->sentence_transformers) (12.4.127)\n",
            "Requirement already satisfied: nvidia-cuda-cupti-cu12==12.4.127 in /usr/local/lib/python3.11/dist-packages (from torch>=1.11.0->sentence_transformers) (12.4.127)\n",
            "Requirement already satisfied: nvidia-cudnn-cu12==9.1.0.70 in /usr/local/lib/python3.11/dist-packages (from torch>=1.11.0->sentence_transformers) (9.1.0.70)\n",
            "Requirement already satisfied: nvidia-cublas-cu12==12.4.5.8 in /usr/local/lib/python3.11/dist-packages (from torch>=1.11.0->sentence_transformers) (12.4.5.8)\n",
            "Requirement already satisfied: nvidia-cufft-cu12==11.2.1.3 in /usr/local/lib/python3.11/dist-packages (from torch>=1.11.0->sentence_transformers) (11.2.1.3)\n",
            "Requirement already satisfied: nvidia-curand-cu12==10.3.5.147 in /usr/local/lib/python3.11/dist-packages (from torch>=1.11.0->sentence_transformers) (10.3.5.147)\n",
            "Requirement already satisfied: nvidia-cusolver-cu12==11.6.1.9 in /usr/local/lib/python3.11/dist-packages (from torch>=1.11.0->sentence_transformers) (11.6.1.9)\n",
            "Requirement already satisfied: nvidia-cusparse-cu12==12.3.1.170 in /usr/local/lib/python3.11/dist-packages (from torch>=1.11.0->sentence_transformers) (12.3.1.170)\n",
            "Requirement already satisfied: nvidia-cusparselt-cu12==0.6.2 in /usr/local/lib/python3.11/dist-packages (from torch>=1.11.0->sentence_transformers) (0.6.2)\n",
            "Requirement already satisfied: nvidia-nccl-cu12==2.21.5 in /usr/local/lib/python3.11/dist-packages (from torch>=1.11.0->sentence_transformers) (2.21.5)\n",
            "Requirement already satisfied: nvidia-nvtx-cu12==12.4.127 in /usr/local/lib/python3.11/dist-packages (from torch>=1.11.0->sentence_transformers) (12.4.127)\n",
            "Requirement already satisfied: nvidia-nvjitlink-cu12==12.4.127 in /usr/local/lib/python3.11/dist-packages (from torch>=1.11.0->sentence_transformers) (12.4.127)\n",
            "Requirement already satisfied: triton==3.2.0 in /usr/local/lib/python3.11/dist-packages (from torch>=1.11.0->sentence_transformers) (3.2.0)\n",
            "Requirement already satisfied: sympy==1.13.1 in /usr/local/lib/python3.11/dist-packages (from torch>=1.11.0->sentence_transformers) (1.13.1)\n",
            "Requirement already satisfied: mpmath<1.4,>=1.1.0 in /usr/local/lib/python3.11/dist-packages (from sympy==1.13.1->torch>=1.11.0->sentence_transformers) (1.3.0)\n",
            "Requirement already satisfied: numpy>=1.17 in /usr/local/lib/python3.11/dist-packages (from transformers<5.0.0,>=4.41.0->sentence_transformers) (2.0.2)\n",
            "Requirement already satisfied: regex!=2019.12.17 in /usr/local/lib/python3.11/dist-packages (from transformers<5.0.0,>=4.41.0->sentence_transformers) (2024.11.6)\n",
            "Requirement already satisfied: tokenizers<0.22,>=0.21 in /usr/local/lib/python3.11/dist-packages (from transformers<5.0.0,>=4.41.0->sentence_transformers) (0.21.1)\n",
            "Requirement already satisfied: safetensors>=0.4.3 in /usr/local/lib/python3.11/dist-packages (from transformers<5.0.0,>=4.41.0->sentence_transformers) (0.5.3)\n",
            "Requirement already satisfied: joblib>=1.2.0 in /usr/local/lib/python3.11/dist-packages (from scikit-learn->sentence_transformers) (1.4.2)\n",
            "Requirement already satisfied: threadpoolctl>=3.1.0 in /usr/local/lib/python3.11/dist-packages (from scikit-learn->sentence_transformers) (3.6.0)\n",
            "Requirement already satisfied: MarkupSafe>=2.0 in /usr/local/lib/python3.11/dist-packages (from jinja2->torch>=1.11.0->sentence_transformers) (3.0.2)\n",
            "Requirement already satisfied: charset-normalizer<4,>=2 in /usr/local/lib/python3.11/dist-packages (from requests->huggingface-hub>=0.20.0->sentence_transformers) (3.4.1)\n",
            "Requirement already satisfied: urllib3<3,>=1.21.1 in /usr/local/lib/python3.11/dist-packages (from requests->huggingface-hub>=0.20.0->sentence_transformers) (2.4.0)\n",
            "Requirement already satisfied: plotly in /usr/local/lib/python3.11/dist-packages (5.24.1)\n",
            "Requirement already satisfied: tenacity>=6.2.0 in /usr/local/lib/python3.11/dist-packages (from plotly) (9.1.2)\n",
            "Requirement already satisfied: packaging in /usr/local/lib/python3.11/dist-packages (from plotly) (24.2)\n",
            "Requirement already satisfied: matplotlib in /usr/local/lib/python3.11/dist-packages (3.10.0)\n",
            "Requirement already satisfied: contourpy>=1.0.1 in /usr/local/lib/python3.11/dist-packages (from matplotlib) (1.3.2)\n",
            "Requirement already satisfied: cycler>=0.10 in /usr/local/lib/python3.11/dist-packages (from matplotlib) (0.12.1)\n",
            "Requirement already satisfied: fonttools>=4.22.0 in /usr/local/lib/python3.11/dist-packages (from matplotlib) (4.57.0)\n",
            "Requirement already satisfied: kiwisolver>=1.3.1 in /usr/local/lib/python3.11/dist-packages (from matplotlib) (1.4.8)\n",
            "Requirement already satisfied: numpy>=1.23 in /usr/local/lib/python3.11/dist-packages (from matplotlib) (2.0.2)\n",
            "Requirement already satisfied: packaging>=20.0 in /usr/local/lib/python3.11/dist-packages (from matplotlib) (24.2)\n",
            "Requirement already satisfied: pillow>=8 in /usr/local/lib/python3.11/dist-packages (from matplotlib) (11.2.1)\n",
            "Requirement already satisfied: pyparsing>=2.3.1 in /usr/local/lib/python3.11/dist-packages (from matplotlib) (3.2.3)\n",
            "Requirement already satisfied: python-dateutil>=2.7 in /usr/local/lib/python3.11/dist-packages (from matplotlib) (2.9.0.post0)\n",
            "Requirement already satisfied: six>=1.5 in /usr/local/lib/python3.11/dist-packages (from python-dateutil>=2.7->matplotlib) (1.17.0)\n",
            "Requirement already satisfied: qdrant_client in /usr/local/lib/python3.11/dist-packages (1.14.2)\n",
            "Requirement already satisfied: grpcio>=1.41.0 in /usr/local/lib/python3.11/dist-packages (from qdrant_client) (1.71.0)\n",
            "Requirement already satisfied: httpx>=0.20.0 in /usr/local/lib/python3.11/dist-packages (from httpx[http2]>=0.20.0->qdrant_client) (0.28.1)\n",
            "Requirement already satisfied: numpy>=1.21 in /usr/local/lib/python3.11/dist-packages (from qdrant_client) (2.0.2)\n",
            "Requirement already satisfied: portalocker<3.0.0,>=2.7.0 in /usr/local/lib/python3.11/dist-packages (from qdrant_client) (2.10.1)\n",
            "Requirement already satisfied: protobuf>=3.20.0 in /usr/local/lib/python3.11/dist-packages (from qdrant_client) (5.29.4)\n",
            "Requirement already satisfied: pydantic!=2.0.*,!=2.1.*,!=2.2.0,>=1.10.8 in /usr/local/lib/python3.11/dist-packages (from qdrant_client) (2.11.4)\n",
            "Requirement already satisfied: urllib3<3,>=1.26.14 in /usr/local/lib/python3.11/dist-packages (from qdrant_client) (2.4.0)\n",
            "Requirement already satisfied: anyio in /usr/local/lib/python3.11/dist-packages (from httpx>=0.20.0->httpx[http2]>=0.20.0->qdrant_client) (4.9.0)\n",
            "Requirement already satisfied: certifi in /usr/local/lib/python3.11/dist-packages (from httpx>=0.20.0->httpx[http2]>=0.20.0->qdrant_client) (2025.4.26)\n",
            "Requirement already satisfied: httpcore==1.* in /usr/local/lib/python3.11/dist-packages (from httpx>=0.20.0->httpx[http2]>=0.20.0->qdrant_client) (1.0.9)\n",
            "Requirement already satisfied: idna in /usr/local/lib/python3.11/dist-packages (from httpx>=0.20.0->httpx[http2]>=0.20.0->qdrant_client) (3.10)\n",
            "Requirement already satisfied: h11>=0.16 in /usr/local/lib/python3.11/dist-packages (from httpcore==1.*->httpx>=0.20.0->httpx[http2]>=0.20.0->qdrant_client) (0.16.0)\n",
            "Requirement already satisfied: h2<5,>=3 in /usr/local/lib/python3.11/dist-packages (from httpx[http2]>=0.20.0->qdrant_client) (4.2.0)\n",
            "Requirement already satisfied: annotated-types>=0.6.0 in /usr/local/lib/python3.11/dist-packages (from pydantic!=2.0.*,!=2.1.*,!=2.2.0,>=1.10.8->qdrant_client) (0.7.0)\n",
            "Requirement already satisfied: pydantic-core==2.33.2 in /usr/local/lib/python3.11/dist-packages (from pydantic!=2.0.*,!=2.1.*,!=2.2.0,>=1.10.8->qdrant_client) (2.33.2)\n",
            "Requirement already satisfied: typing-extensions>=4.12.2 in /usr/local/lib/python3.11/dist-packages (from pydantic!=2.0.*,!=2.1.*,!=2.2.0,>=1.10.8->qdrant_client) (4.13.2)\n",
            "Requirement already satisfied: typing-inspection>=0.4.0 in /usr/local/lib/python3.11/dist-packages (from pydantic!=2.0.*,!=2.1.*,!=2.2.0,>=1.10.8->qdrant_client) (0.4.0)\n",
            "Requirement already satisfied: hyperframe<7,>=6.1 in /usr/local/lib/python3.11/dist-packages (from h2<5,>=3->httpx[http2]>=0.20.0->qdrant_client) (6.1.0)\n",
            "Requirement already satisfied: hpack<5,>=4.1 in /usr/local/lib/python3.11/dist-packages (from h2<5,>=3->httpx[http2]>=0.20.0->qdrant_client) (4.1.0)\n",
            "Requirement already satisfied: sniffio>=1.1 in /usr/local/lib/python3.11/dist-packages (from anyio->httpx>=0.20.0->httpx[http2]>=0.20.0->qdrant_client) (1.3.1)\n",
            "Requirement already satisfied: transformers in /usr/local/lib/python3.11/dist-packages (4.51.3)\n",
            "Requirement already satisfied: filelock in /usr/local/lib/python3.11/dist-packages (from transformers) (3.18.0)\n",
            "Requirement already satisfied: huggingface-hub<1.0,>=0.30.0 in /usr/local/lib/python3.11/dist-packages (from transformers) (0.30.2)\n",
            "Requirement already satisfied: numpy>=1.17 in /usr/local/lib/python3.11/dist-packages (from transformers) (2.0.2)\n",
            "Requirement already satisfied: packaging>=20.0 in /usr/local/lib/python3.11/dist-packages (from transformers) (24.2)\n",
            "Requirement already satisfied: pyyaml>=5.1 in /usr/local/lib/python3.11/dist-packages (from transformers) (6.0.2)\n",
            "Requirement already satisfied: regex!=2019.12.17 in /usr/local/lib/python3.11/dist-packages (from transformers) (2024.11.6)\n",
            "Requirement already satisfied: requests in /usr/local/lib/python3.11/dist-packages (from transformers) (2.32.3)\n",
            "Requirement already satisfied: tokenizers<0.22,>=0.21 in /usr/local/lib/python3.11/dist-packages (from transformers) (0.21.1)\n",
            "Requirement already satisfied: safetensors>=0.4.3 in /usr/local/lib/python3.11/dist-packages (from transformers) (0.5.3)\n",
            "Requirement already satisfied: tqdm>=4.27 in /usr/local/lib/python3.11/dist-packages (from transformers) (4.67.1)\n",
            "Requirement already satisfied: fsspec>=2023.5.0 in /usr/local/lib/python3.11/dist-packages (from huggingface-hub<1.0,>=0.30.0->transformers) (2025.3.2)\n",
            "Requirement already satisfied: typing-extensions>=3.7.4.3 in /usr/local/lib/python3.11/dist-packages (from huggingface-hub<1.0,>=0.30.0->transformers) (4.13.2)\n",
            "Requirement already satisfied: charset-normalizer<4,>=2 in /usr/local/lib/python3.11/dist-packages (from requests->transformers) (3.4.1)\n",
            "Requirement already satisfied: idna<4,>=2.5 in /usr/local/lib/python3.11/dist-packages (from requests->transformers) (3.10)\n",
            "Requirement already satisfied: urllib3<3,>=1.21.1 in /usr/local/lib/python3.11/dist-packages (from requests->transformers) (2.4.0)\n",
            "Requirement already satisfied: certifi>=2017.4.17 in /usr/local/lib/python3.11/dist-packages (from requests->transformers) (2025.4.26)\n"
          ]
        },
        {
          "data": {
            "text/plain": [
              "9223372036854775807"
            ]
          },
          "execution_count": 115,
          "metadata": {},
          "output_type": "execute_result"
        }
      ],
      "source": [
        "# Install the necessary libraries\n",
        "!pip install sentence_transformers openai\n",
        "!pip install plotly\n",
        "!pip install matplotlib\n",
        "!pip install -Uqqq rich openai gradio\n",
        "!pip install qdrant_client\n",
        "!pip install transformers\n",
        "\n",
        "# Import basic libraries\n",
        "import numpy as np\n",
        "import os, random\n",
        "from pathlib import Path\n",
        "from getpass import getpass\n",
        "from rich.markdown import Markdown\n",
        "import torch\n",
        "import sys\n",
        "import csv\n",
        "csv.field_size_limit(sys.maxsize)\n"
      ]
    },
    {
      "cell_type": "markdown",
      "metadata": {
        "id": "-bXxwyEzDsFh"
      },
      "source": [
        "## OpenAI-Compatible LLM Client Configuration"
      ]
    },
    {
      "cell_type": "code",
      "execution_count": null,
      "metadata": {
        "colab": {
          "base_uri": "https://localhost:8080/",
          "height": 17
        },
        "id": "xNFeSRiVCYxK",
        "outputId": "d0176a65-597b-4d4e-90d6-c4f28bf90f4c"
      },
      "outputs": [
        {
          "data": {
            "text/html": [
              "\n",
              "    <style>\n",
              "      pre {\n",
              "          white-space: pre-wrap;  /* Enable word-wrapping in code/output blocks */\n",
              "      }\n",
              "    </style>\n",
              "    "
            ],
            "text/plain": [
              "<IPython.core.display.HTML object>"
            ]
          },
          "metadata": {},
          "output_type": "display_data"
        },
        {
          "data": {
            "text/html": [
              "\n",
              "    <style>\n",
              "      pre {\n",
              "          white-space: pre-wrap;  /* Enable word-wrapping in code/output blocks */\n",
              "      }\n",
              "    </style>\n",
              "    "
            ],
            "text/plain": [
              "<IPython.core.display.HTML object>"
            ]
          },
          "metadata": {},
          "output_type": "display_data"
        },
        {
          "data": {
            "text/html": [
              "\n",
              "    <style>\n",
              "      pre {\n",
              "          white-space: pre-wrap;  /* Enable word-wrapping in code/output blocks */\n",
              "      }\n",
              "    </style>\n",
              "    "
            ],
            "text/plain": [
              "<IPython.core.display.HTML object>"
            ]
          },
          "metadata": {},
          "output_type": "display_data"
        },
        {
          "data": {
            "text/html": [
              "\n",
              "    <style>\n",
              "      pre {\n",
              "          white-space: pre-wrap;  /* Enable word-wrapping in code/output blocks */\n",
              "      }\n",
              "    </style>\n",
              "    "
            ],
            "text/plain": [
              "<IPython.core.display.HTML object>"
            ]
          },
          "metadata": {},
          "output_type": "display_data"
        },
        {
          "data": {
            "text/html": [
              "\n",
              "    <style>\n",
              "      pre {\n",
              "          white-space: pre-wrap;  /* Enable word-wrapping in code/output blocks */\n",
              "      }\n",
              "    </style>\n",
              "    "
            ],
            "text/plain": [
              "<IPython.core.display.HTML object>"
            ]
          },
          "metadata": {},
          "output_type": "display_data"
        }
      ],
      "source": [
        "# Retrieve API key securely from Colab user data\n",
        "from google.colab import userdata\n",
        "OPEN_ROUTER_API_KEY = userdata.get('first_open_router_ai_key')\n",
        "\n",
        "# Initialize OpenRouter client (OpenAI-compatible API)\n",
        "from openai import OpenAI\n",
        "open_router_client = OpenAI(\n",
        "  base_url=\"https://openrouter.ai/api/v1\",\n",
        "  api_key=OPEN_ROUTER_API_KEY,\n",
        ")\n"
      ]
    },
    {
      "cell_type": "markdown",
      "metadata": {
        "id": "zHAvXKCiDuQv"
      },
      "source": [
        "## Data Loading and Preparation"
      ]
    },
    {
      "cell_type": "code",
      "execution_count": null,
      "metadata": {
        "colab": {
          "base_uri": "https://localhost:8080/",
          "height": 17
        },
        "id": "5YdXsTbSQCnw",
        "outputId": "c0f39c19-27ce-4665-bd56-4d754e3e6078"
      },
      "outputs": [
        {
          "data": {
            "text/html": [
              "\n",
              "    <style>\n",
              "      pre {\n",
              "          white-space: pre-wrap;  /* Enable word-wrapping in code/output blocks */\n",
              "      }\n",
              "    </style>\n",
              "    "
            ],
            "text/plain": [
              "<IPython.core.display.HTML object>"
            ]
          },
          "metadata": {},
          "output_type": "display_data"
        },
        {
          "data": {
            "text/html": [
              "\n",
              "    <style>\n",
              "      pre {\n",
              "          white-space: pre-wrap;  /* Enable word-wrapping in code/output blocks */\n",
              "      }\n",
              "    </style>\n",
              "    "
            ],
            "text/plain": [
              "<IPython.core.display.HTML object>"
            ]
          },
          "metadata": {},
          "output_type": "display_data"
        },
        {
          "data": {
            "text/html": [
              "\n",
              "    <style>\n",
              "      pre {\n",
              "          white-space: pre-wrap;  /* Enable word-wrapping in code/output blocks */\n",
              "      }\n",
              "    </style>\n",
              "    "
            ],
            "text/plain": [
              "<IPython.core.display.HTML object>"
            ]
          },
          "metadata": {},
          "output_type": "display_data"
        },
        {
          "data": {
            "text/html": [
              "\n",
              "    <style>\n",
              "      pre {\n",
              "          white-space: pre-wrap;  /* Enable word-wrapping in code/output blocks */\n",
              "      }\n",
              "    </style>\n",
              "    "
            ],
            "text/plain": [
              "<IPython.core.display.HTML object>"
            ]
          },
          "metadata": {},
          "output_type": "display_data"
        },
        {
          "data": {
            "text/html": [
              "\n",
              "    <style>\n",
              "      pre {\n",
              "          white-space: pre-wrap;  /* Enable word-wrapping in code/output blocks */\n",
              "      }\n",
              "    </style>\n",
              "    "
            ],
            "text/plain": [
              "<IPython.core.display.HTML object>"
            ]
          },
          "metadata": {},
          "output_type": "display_data"
        }
      ],
      "source": [
        "import pandas as pd\n",
        "df = pd.read_csv('./hotels.csv')"
      ]
    },
    {
      "cell_type": "code",
      "execution_count": null,
      "metadata": {
        "colab": {
          "base_uri": "https://localhost:8080/",
          "height": 34
        },
        "id": "CG8Wm1GrvRLo",
        "outputId": "90104f0e-b198-4ea1-ab3d-ec76c1d94e85"
      },
      "outputs": [
        {
          "data": {
            "text/html": [
              "\n",
              "    <style>\n",
              "      pre {\n",
              "          white-space: pre-wrap;  /* Enable word-wrapping in code/output blocks */\n",
              "      }\n",
              "    </style>\n",
              "    "
            ],
            "text/plain": [
              "<IPython.core.display.HTML object>"
            ]
          },
          "metadata": {},
          "output_type": "display_data"
        },
        {
          "data": {
            "text/html": [
              "\n",
              "    <style>\n",
              "      pre {\n",
              "          white-space: pre-wrap;  /* Enable word-wrapping in code/output blocks */\n",
              "      }\n",
              "    </style>\n",
              "    "
            ],
            "text/plain": [
              "<IPython.core.display.HTML object>"
            ]
          },
          "metadata": {},
          "output_type": "display_data"
        },
        {
          "data": {
            "text/html": [
              "\n",
              "    <style>\n",
              "      pre {\n",
              "          white-space: pre-wrap;  /* Enable word-wrapping in code/output blocks */\n",
              "      }\n",
              "    </style>\n",
              "    "
            ],
            "text/plain": [
              "<IPython.core.display.HTML object>"
            ]
          },
          "metadata": {},
          "output_type": "display_data"
        },
        {
          "data": {
            "text/html": [
              "\n",
              "    <style>\n",
              "      pre {\n",
              "          white-space: pre-wrap;  /* Enable word-wrapping in code/output blocks */\n",
              "      }\n",
              "    </style>\n",
              "    "
            ],
            "text/plain": [
              "<IPython.core.display.HTML object>"
            ]
          },
          "metadata": {},
          "output_type": "display_data"
        },
        {
          "data": {
            "text/html": [
              "\n",
              "    <style>\n",
              "      pre {\n",
              "          white-space: pre-wrap;  /* Enable word-wrapping in code/output blocks */\n",
              "      }\n",
              "    </style>\n",
              "    "
            ],
            "text/plain": [
              "<IPython.core.display.HTML object>"
            ]
          },
          "metadata": {},
          "output_type": "display_data"
        },
        {
          "data": {
            "text/plain": [
              "(2511, 27)"
            ]
          },
          "execution_count": 118,
          "metadata": {},
          "output_type": "execute_result"
        }
      ],
      "source": [
        "df.shape"
      ]
    },
    {
      "cell_type": "code",
      "execution_count": null,
      "metadata": {
        "colab": {
          "base_uri": "https://localhost:8080/",
          "height": 484
        },
        "id": "TIfmn5lMms_3",
        "outputId": "ae08fb5b-d46a-44a1-9871-f45efb8bf363"
      },
      "outputs": [
        {
          "data": {
            "text/html": [
              "\n",
              "    <style>\n",
              "      pre {\n",
              "          white-space: pre-wrap;  /* Enable word-wrapping in code/output blocks */\n",
              "      }\n",
              "    </style>\n",
              "    "
            ],
            "text/plain": [
              "<IPython.core.display.HTML object>"
            ]
          },
          "metadata": {},
          "output_type": "display_data"
        },
        {
          "data": {
            "text/html": [
              "\n",
              "    <style>\n",
              "      pre {\n",
              "          white-space: pre-wrap;  /* Enable word-wrapping in code/output blocks */\n",
              "      }\n",
              "    </style>\n",
              "    "
            ],
            "text/plain": [
              "<IPython.core.display.HTML object>"
            ]
          },
          "metadata": {},
          "output_type": "display_data"
        },
        {
          "data": {
            "text/html": [
              "\n",
              "    <style>\n",
              "      pre {\n",
              "          white-space: pre-wrap;  /* Enable word-wrapping in code/output blocks */\n",
              "      }\n",
              "    </style>\n",
              "    "
            ],
            "text/plain": [
              "<IPython.core.display.HTML object>"
            ]
          },
          "metadata": {},
          "output_type": "display_data"
        },
        {
          "data": {
            "text/html": [
              "\n",
              "    <style>\n",
              "      pre {\n",
              "          white-space: pre-wrap;  /* Enable word-wrapping in code/output blocks */\n",
              "      }\n",
              "    </style>\n",
              "    "
            ],
            "text/plain": [
              "<IPython.core.display.HTML object>"
            ]
          },
          "metadata": {},
          "output_type": "display_data"
        },
        {
          "data": {
            "text/html": [
              "\n",
              "    <style>\n",
              "      pre {\n",
              "          white-space: pre-wrap;  /* Enable word-wrapping in code/output blocks */\n",
              "      }\n",
              "    </style>\n",
              "    "
            ],
            "text/plain": [
              "<IPython.core.display.HTML object>"
            ]
          },
          "metadata": {},
          "output_type": "display_data"
        },
        {
          "data": {
            "text/html": [
              "<div>\n",
              "<style scoped>\n",
              "    .dataframe tbody tr th:only-of-type {\n",
              "        vertical-align: middle;\n",
              "    }\n",
              "\n",
              "    .dataframe tbody tr th {\n",
              "        vertical-align: top;\n",
              "    }\n",
              "\n",
              "    .dataframe thead th {\n",
              "        text-align: right;\n",
              "    }\n",
              "</style>\n",
              "<table border=\"1\" class=\"dataframe\">\n",
              "  <thead>\n",
              "    <tr style=\"text-align: right;\">\n",
              "      <th></th>\n",
              "      <th>count</th>\n",
              "    </tr>\n",
              "    <tr>\n",
              "      <th>name</th>\n",
              "      <th></th>\n",
              "    </tr>\n",
              "  </thead>\n",
              "  <tbody>\n",
              "    <tr>\n",
              "      <th>Faena Miami Beach</th>\n",
              "      <td>45</td>\n",
              "    </tr>\n",
              "    <tr>\n",
              "      <th>1 Hotel South Beach</th>\n",
              "      <td>45</td>\n",
              "    </tr>\n",
              "    <tr>\n",
              "      <th>The Kent Hotel</th>\n",
              "      <td>45</td>\n",
              "    </tr>\n",
              "    <tr>\n",
              "      <th>The Goodtime Hotel</th>\n",
              "      <td>45</td>\n",
              "    </tr>\n",
              "    <tr>\n",
              "      <th>The Betsy South Beach</th>\n",
              "      <td>45</td>\n",
              "    </tr>\n",
              "    <tr>\n",
              "      <th>...</th>\n",
              "      <td>...</td>\n",
              "    </tr>\n",
              "    <tr>\n",
              "      <th>The Julia Hotel, Miami Beach</th>\n",
              "      <td>6</td>\n",
              "    </tr>\n",
              "    <tr>\n",
              "      <th>Bikini Lodge</th>\n",
              "      <td>4</td>\n",
              "    </tr>\n",
              "    <tr>\n",
              "      <th>Beach Park Hotel</th>\n",
              "      <td>4</td>\n",
              "    </tr>\n",
              "    <tr>\n",
              "      <th>Baltic Hotel</th>\n",
              "      <td>2</td>\n",
              "    </tr>\n",
              "    <tr>\n",
              "      <th>Sherry Frontenac Hotel</th>\n",
              "      <td>1</td>\n",
              "    </tr>\n",
              "  </tbody>\n",
              "</table>\n",
              "<p>65 rows × 1 columns</p>\n",
              "</div><br><label><b>dtype:</b> int64</label>"
            ],
            "text/plain": [
              "name\n",
              "Faena Miami Beach               45\n",
              "1 Hotel South Beach             45\n",
              "The Kent Hotel                  45\n",
              "The Goodtime Hotel              45\n",
              "The Betsy South Beach           45\n",
              "                                ..\n",
              "The Julia Hotel, Miami Beach     6\n",
              "Bikini Lodge                     4\n",
              "Beach Park Hotel                 4\n",
              "Baltic Hotel                     2\n",
              "Sherry Frontenac Hotel           1\n",
              "Name: count, Length: 65, dtype: int64"
            ]
          },
          "execution_count": 119,
          "metadata": {},
          "output_type": "execute_result"
        }
      ],
      "source": [
        "df['name'].value_counts()"
      ]
    },
    {
      "cell_type": "code",
      "execution_count": null,
      "metadata": {
        "colab": {
          "base_uri": "https://localhost:8080/",
          "height": 920
        },
        "id": "MKMIEmla5DKR",
        "outputId": "48f60f79-c83d-4166-9631-a883d06521ae"
      },
      "outputs": [
        {
          "data": {
            "text/html": [
              "\n",
              "    <style>\n",
              "      pre {\n",
              "          white-space: pre-wrap;  /* Enable word-wrapping in code/output blocks */\n",
              "      }\n",
              "    </style>\n",
              "    "
            ],
            "text/plain": [
              "<IPython.core.display.HTML object>"
            ]
          },
          "metadata": {},
          "output_type": "display_data"
        },
        {
          "data": {
            "text/html": [
              "\n",
              "    <style>\n",
              "      pre {\n",
              "          white-space: pre-wrap;  /* Enable word-wrapping in code/output blocks */\n",
              "      }\n",
              "    </style>\n",
              "    "
            ],
            "text/plain": [
              "<IPython.core.display.HTML object>"
            ]
          },
          "metadata": {},
          "output_type": "display_data"
        },
        {
          "data": {
            "text/html": [
              "\n",
              "    <style>\n",
              "      pre {\n",
              "          white-space: pre-wrap;  /* Enable word-wrapping in code/output blocks */\n",
              "      }\n",
              "    </style>\n",
              "    "
            ],
            "text/plain": [
              "<IPython.core.display.HTML object>"
            ]
          },
          "metadata": {},
          "output_type": "display_data"
        },
        {
          "data": {
            "text/html": [
              "\n",
              "    <style>\n",
              "      pre {\n",
              "          white-space: pre-wrap;  /* Enable word-wrapping in code/output blocks */\n",
              "      }\n",
              "    </style>\n",
              "    "
            ],
            "text/plain": [
              "<IPython.core.display.HTML object>"
            ]
          },
          "metadata": {},
          "output_type": "display_data"
        },
        {
          "data": {
            "text/html": [
              "\n",
              "    <style>\n",
              "      pre {\n",
              "          white-space: pre-wrap;  /* Enable word-wrapping in code/output blocks */\n",
              "      }\n",
              "    </style>\n",
              "    "
            ],
            "text/plain": [
              "<IPython.core.display.HTML object>"
            ]
          },
          "metadata": {},
          "output_type": "display_data"
        },
        {
          "data": {
            "text/html": [
              "<div>\n",
              "<style scoped>\n",
              "    .dataframe tbody tr th:only-of-type {\n",
              "        vertical-align: middle;\n",
              "    }\n",
              "\n",
              "    .dataframe tbody tr th {\n",
              "        vertical-align: top;\n",
              "    }\n",
              "\n",
              "    .dataframe thead th {\n",
              "        text-align: right;\n",
              "    }\n",
              "</style>\n",
              "<table border=\"1\" class=\"dataframe\">\n",
              "  <thead>\n",
              "    <tr style=\"text-align: right;\">\n",
              "      <th></th>\n",
              "      <th>0</th>\n",
              "    </tr>\n",
              "  </thead>\n",
              "  <tbody>\n",
              "    <tr>\n",
              "      <th>id</th>\n",
              "      <td>0</td>\n",
              "    </tr>\n",
              "    <tr>\n",
              "      <th>type</th>\n",
              "      <td>0</td>\n",
              "    </tr>\n",
              "    <tr>\n",
              "      <th>name</th>\n",
              "      <td>0</td>\n",
              "    </tr>\n",
              "    <tr>\n",
              "      <th>image</th>\n",
              "      <td>0</td>\n",
              "    </tr>\n",
              "    <tr>\n",
              "      <th>awards</th>\n",
              "      <td>0</td>\n",
              "    </tr>\n",
              "    <tr>\n",
              "      <th>rankingPosition</th>\n",
              "      <td>0</td>\n",
              "    </tr>\n",
              "    <tr>\n",
              "      <th>priceLevel</th>\n",
              "      <td>0</td>\n",
              "    </tr>\n",
              "    <tr>\n",
              "      <th>priceRange</th>\n",
              "      <td>0</td>\n",
              "    </tr>\n",
              "    <tr>\n",
              "      <th>category</th>\n",
              "      <td>0</td>\n",
              "    </tr>\n",
              "    <tr>\n",
              "      <th>rating</th>\n",
              "      <td>0</td>\n",
              "    </tr>\n",
              "    <tr>\n",
              "      <th>hotelClass</th>\n",
              "      <td>0</td>\n",
              "    </tr>\n",
              "    <tr>\n",
              "      <th>hotelClassAttribution</th>\n",
              "      <td>90</td>\n",
              "    </tr>\n",
              "    <tr>\n",
              "      <th>phone</th>\n",
              "      <td>45</td>\n",
              "    </tr>\n",
              "    <tr>\n",
              "      <th>address</th>\n",
              "      <td>0</td>\n",
              "    </tr>\n",
              "    <tr>\n",
              "      <th>email</th>\n",
              "      <td>446</td>\n",
              "    </tr>\n",
              "    <tr>\n",
              "      <th>amenities</th>\n",
              "      <td>0</td>\n",
              "    </tr>\n",
              "    <tr>\n",
              "      <th>numberOfRooms</th>\n",
              "      <td>0</td>\n",
              "    </tr>\n",
              "    <tr>\n",
              "      <th>prices</th>\n",
              "      <td>0</td>\n",
              "    </tr>\n",
              "    <tr>\n",
              "      <th>latitude</th>\n",
              "      <td>0</td>\n",
              "    </tr>\n",
              "    <tr>\n",
              "      <th>longitude</th>\n",
              "      <td>0</td>\n",
              "    </tr>\n",
              "    <tr>\n",
              "      <th>webUrl</th>\n",
              "      <td>0</td>\n",
              "    </tr>\n",
              "    <tr>\n",
              "      <th>website</th>\n",
              "      <td>0</td>\n",
              "    </tr>\n",
              "    <tr>\n",
              "      <th>rankingString</th>\n",
              "      <td>0</td>\n",
              "    </tr>\n",
              "    <tr>\n",
              "      <th>rankingDenominator</th>\n",
              "      <td>0</td>\n",
              "    </tr>\n",
              "    <tr>\n",
              "      <th>numberOfReviews</th>\n",
              "      <td>0</td>\n",
              "    </tr>\n",
              "    <tr>\n",
              "      <th>review</th>\n",
              "      <td>0</td>\n",
              "    </tr>\n",
              "    <tr>\n",
              "      <th>title</th>\n",
              "      <td>0</td>\n",
              "    </tr>\n",
              "  </tbody>\n",
              "</table>\n",
              "</div><br><label><b>dtype:</b> int64</label>"
            ],
            "text/plain": [
              "id                         0\n",
              "type                       0\n",
              "name                       0\n",
              "image                      0\n",
              "awards                     0\n",
              "rankingPosition            0\n",
              "priceLevel                 0\n",
              "priceRange                 0\n",
              "category                   0\n",
              "rating                     0\n",
              "hotelClass                 0\n",
              "hotelClassAttribution     90\n",
              "phone                     45\n",
              "address                    0\n",
              "email                    446\n",
              "amenities                  0\n",
              "numberOfRooms              0\n",
              "prices                     0\n",
              "latitude                   0\n",
              "longitude                  0\n",
              "webUrl                     0\n",
              "website                    0\n",
              "rankingString              0\n",
              "rankingDenominator         0\n",
              "numberOfReviews            0\n",
              "review                     0\n",
              "title                      0\n",
              "dtype: int64"
            ]
          },
          "execution_count": 120,
          "metadata": {},
          "output_type": "execute_result"
        }
      ],
      "source": [
        "df.isnull().sum()"
      ]
    },
    {
      "cell_type": "code",
      "execution_count": null,
      "metadata": {
        "colab": {
          "base_uri": "https://localhost:8080/",
          "height": 17
        },
        "id": "v52a5YtT5OxR",
        "outputId": "b8f30977-7c74-436c-c133-848a5c789b16"
      },
      "outputs": [
        {
          "data": {
            "text/html": [
              "\n",
              "    <style>\n",
              "      pre {\n",
              "          white-space: pre-wrap;  /* Enable word-wrapping in code/output blocks */\n",
              "      }\n",
              "    </style>\n",
              "    "
            ],
            "text/plain": [
              "<IPython.core.display.HTML object>"
            ]
          },
          "metadata": {},
          "output_type": "display_data"
        },
        {
          "data": {
            "text/html": [
              "\n",
              "    <style>\n",
              "      pre {\n",
              "          white-space: pre-wrap;  /* Enable word-wrapping in code/output blocks */\n",
              "      }\n",
              "    </style>\n",
              "    "
            ],
            "text/plain": [
              "<IPython.core.display.HTML object>"
            ]
          },
          "metadata": {},
          "output_type": "display_data"
        },
        {
          "data": {
            "text/html": [
              "\n",
              "    <style>\n",
              "      pre {\n",
              "          white-space: pre-wrap;  /* Enable word-wrapping in code/output blocks */\n",
              "      }\n",
              "    </style>\n",
              "    "
            ],
            "text/plain": [
              "<IPython.core.display.HTML object>"
            ]
          },
          "metadata": {},
          "output_type": "display_data"
        },
        {
          "data": {
            "text/html": [
              "\n",
              "    <style>\n",
              "      pre {\n",
              "          white-space: pre-wrap;  /* Enable word-wrapping in code/output blocks */\n",
              "      }\n",
              "    </style>\n",
              "    "
            ],
            "text/plain": [
              "<IPython.core.display.HTML object>"
            ]
          },
          "metadata": {},
          "output_type": "display_data"
        },
        {
          "data": {
            "text/html": [
              "\n",
              "    <style>\n",
              "      pre {\n",
              "          white-space: pre-wrap;  /* Enable word-wrapping in code/output blocks */\n",
              "      }\n",
              "    </style>\n",
              "    "
            ],
            "text/plain": [
              "<IPython.core.display.HTML object>"
            ]
          },
          "metadata": {},
          "output_type": "display_data"
        }
      ],
      "source": [
        "df_original = df.copy(deep=True)"
      ]
    },
    {
      "cell_type": "code",
      "execution_count": null,
      "metadata": {
        "colab": {
          "base_uri": "https://localhost:8080/",
          "height": 34
        },
        "id": "IKSwq6cG5XqD",
        "outputId": "fea49e70-52a7-4207-ad76-d347255d1154"
      },
      "outputs": [
        {
          "data": {
            "text/html": [
              "\n",
              "    <style>\n",
              "      pre {\n",
              "          white-space: pre-wrap;  /* Enable word-wrapping in code/output blocks */\n",
              "      }\n",
              "    </style>\n",
              "    "
            ],
            "text/plain": [
              "<IPython.core.display.HTML object>"
            ]
          },
          "metadata": {},
          "output_type": "display_data"
        },
        {
          "data": {
            "text/html": [
              "\n",
              "    <style>\n",
              "      pre {\n",
              "          white-space: pre-wrap;  /* Enable word-wrapping in code/output blocks */\n",
              "      }\n",
              "    </style>\n",
              "    "
            ],
            "text/plain": [
              "<IPython.core.display.HTML object>"
            ]
          },
          "metadata": {},
          "output_type": "display_data"
        },
        {
          "data": {
            "text/html": [
              "\n",
              "    <style>\n",
              "      pre {\n",
              "          white-space: pre-wrap;  /* Enable word-wrapping in code/output blocks */\n",
              "      }\n",
              "    </style>\n",
              "    "
            ],
            "text/plain": [
              "<IPython.core.display.HTML object>"
            ]
          },
          "metadata": {},
          "output_type": "display_data"
        },
        {
          "data": {
            "text/html": [
              "\n",
              "    <style>\n",
              "      pre {\n",
              "          white-space: pre-wrap;  /* Enable word-wrapping in code/output blocks */\n",
              "      }\n",
              "    </style>\n",
              "    "
            ],
            "text/plain": [
              "<IPython.core.display.HTML object>"
            ]
          },
          "metadata": {},
          "output_type": "display_data"
        },
        {
          "data": {
            "text/html": [
              "\n",
              "    <style>\n",
              "      pre {\n",
              "          white-space: pre-wrap;  /* Enable word-wrapping in code/output blocks */\n",
              "      }\n",
              "    </style>\n",
              "    "
            ],
            "text/plain": [
              "<IPython.core.display.HTML object>"
            ]
          },
          "metadata": {},
          "output_type": "display_data"
        },
        {
          "data": {
            "text/plain": [
              "(2511, 27)"
            ]
          },
          "execution_count": 122,
          "metadata": {},
          "output_type": "execute_result"
        }
      ],
      "source": [
        "df_original.shape"
      ]
    },
    {
      "cell_type": "code",
      "execution_count": null,
      "metadata": {
        "colab": {
          "base_uri": "https://localhost:8080/",
          "height": 595
        },
        "id": "y7ckHvIFQs_A",
        "outputId": "1eb83ef9-b0b3-4272-8d3b-c490a176eaad"
      },
      "outputs": [
        {
          "data": {
            "text/html": [
              "\n",
              "    <style>\n",
              "      pre {\n",
              "          white-space: pre-wrap;  /* Enable word-wrapping in code/output blocks */\n",
              "      }\n",
              "    </style>\n",
              "    "
            ],
            "text/plain": [
              "<IPython.core.display.HTML object>"
            ]
          },
          "metadata": {},
          "output_type": "display_data"
        },
        {
          "data": {
            "text/html": [
              "\n",
              "    <style>\n",
              "      pre {\n",
              "          white-space: pre-wrap;  /* Enable word-wrapping in code/output blocks */\n",
              "      }\n",
              "    </style>\n",
              "    "
            ],
            "text/plain": [
              "<IPython.core.display.HTML object>"
            ]
          },
          "metadata": {},
          "output_type": "display_data"
        },
        {
          "data": {
            "text/html": [
              "\n",
              "    <style>\n",
              "      pre {\n",
              "          white-space: pre-wrap;  /* Enable word-wrapping in code/output blocks */\n",
              "      }\n",
              "    </style>\n",
              "    "
            ],
            "text/plain": [
              "<IPython.core.display.HTML object>"
            ]
          },
          "metadata": {},
          "output_type": "display_data"
        },
        {
          "data": {
            "text/html": [
              "\n",
              "    <style>\n",
              "      pre {\n",
              "          white-space: pre-wrap;  /* Enable word-wrapping in code/output blocks */\n",
              "      }\n",
              "    </style>\n",
              "    "
            ],
            "text/plain": [
              "<IPython.core.display.HTML object>"
            ]
          },
          "metadata": {},
          "output_type": "display_data"
        },
        {
          "data": {
            "text/html": [
              "\n",
              "    <style>\n",
              "      pre {\n",
              "          white-space: pre-wrap;  /* Enable word-wrapping in code/output blocks */\n",
              "      }\n",
              "    </style>\n",
              "    "
            ],
            "text/plain": [
              "<IPython.core.display.HTML object>"
            ]
          },
          "metadata": {},
          "output_type": "display_data"
        },
        {
          "name": "stdout",
          "output_type": "stream",
          "text": [
            "<class 'pandas.core.frame.DataFrame'>\n",
            "RangeIndex: 2511 entries, 0 to 2510\n",
            "Data columns (total 27 columns):\n",
            " #   Column                 Non-Null Count  Dtype  \n",
            "---  ------                 --------------  -----  \n",
            " 0   id                     2511 non-null   int64  \n",
            " 1   type                   2511 non-null   object \n",
            " 2   name                   2511 non-null   object \n",
            " 3   image                  2511 non-null   object \n",
            " 4   awards                 2511 non-null   object \n",
            " 5   rankingPosition        2511 non-null   int64  \n",
            " 6   priceLevel             2511 non-null   object \n",
            " 7   priceRange             2511 non-null   object \n",
            " 8   category               2511 non-null   object \n",
            " 9   rating                 2511 non-null   float64\n",
            " 10  hotelClass             2511 non-null   float64\n",
            " 11  hotelClassAttribution  2421 non-null   object \n",
            " 12  phone                  2466 non-null   object \n",
            " 13  address                2511 non-null   object \n",
            " 14  email                  2065 non-null   object \n",
            " 15  amenities              2511 non-null   object \n",
            " 16  numberOfRooms          2511 non-null   int64  \n",
            " 17  prices                 2511 non-null   object \n",
            " 18  latitude               2511 non-null   float64\n",
            " 19  longitude              2511 non-null   float64\n",
            " 20  webUrl                 2511 non-null   object \n",
            " 21  website                2511 non-null   object \n",
            " 22  rankingString          2511 non-null   object \n",
            " 23  rankingDenominator     2511 non-null   int64  \n",
            " 24  numberOfReviews        2511 non-null   int64  \n",
            " 25  review                 2511 non-null   object \n",
            " 26  title                  2511 non-null   object \n",
            "dtypes: float64(4), int64(5), object(18)\n",
            "memory usage: 529.8+ KB\n"
          ]
        }
      ],
      "source": [
        "df.info()"
      ]
    },
    {
      "cell_type": "code",
      "execution_count": null,
      "metadata": {
        "colab": {
          "base_uri": "https://localhost:8080/",
          "height": 1000
        },
        "id": "-pczBhN24-i8",
        "outputId": "059b4197-c883-4522-bfa5-7a54a9656677"
      },
      "outputs": [
        {
          "data": {
            "text/html": [
              "\n",
              "    <style>\n",
              "      pre {\n",
              "          white-space: pre-wrap;  /* Enable word-wrapping in code/output blocks */\n",
              "      }\n",
              "    </style>\n",
              "    "
            ],
            "text/plain": [
              "<IPython.core.display.HTML object>"
            ]
          },
          "metadata": {},
          "output_type": "display_data"
        },
        {
          "data": {
            "text/html": [
              "\n",
              "    <style>\n",
              "      pre {\n",
              "          white-space: pre-wrap;  /* Enable word-wrapping in code/output blocks */\n",
              "      }\n",
              "    </style>\n",
              "    "
            ],
            "text/plain": [
              "<IPython.core.display.HTML object>"
            ]
          },
          "metadata": {},
          "output_type": "display_data"
        },
        {
          "data": {
            "text/html": [
              "\n",
              "    <style>\n",
              "      pre {\n",
              "          white-space: pre-wrap;  /* Enable word-wrapping in code/output blocks */\n",
              "      }\n",
              "    </style>\n",
              "    "
            ],
            "text/plain": [
              "<IPython.core.display.HTML object>"
            ]
          },
          "metadata": {},
          "output_type": "display_data"
        },
        {
          "data": {
            "text/html": [
              "\n",
              "    <style>\n",
              "      pre {\n",
              "          white-space: pre-wrap;  /* Enable word-wrapping in code/output blocks */\n",
              "      }\n",
              "    </style>\n",
              "    "
            ],
            "text/plain": [
              "<IPython.core.display.HTML object>"
            ]
          },
          "metadata": {},
          "output_type": "display_data"
        },
        {
          "data": {
            "text/html": [
              "\n",
              "    <style>\n",
              "      pre {\n",
              "          white-space: pre-wrap;  /* Enable word-wrapping in code/output blocks */\n",
              "      }\n",
              "    </style>\n",
              "    "
            ],
            "text/plain": [
              "<IPython.core.display.HTML object>"
            ]
          },
          "metadata": {},
          "output_type": "display_data"
        },
        {
          "data": {
            "application/vnd.google.colaboratory.intrinsic+json": {
              "type": "dataframe",
              "variable_name": "df"
            },
            "text/html": [
              "\n",
              "  <div id=\"df-4f84c6c4-e8b3-4d71-8e79-ce890b6e3f64\" class=\"colab-df-container\">\n",
              "    <div>\n",
              "<style scoped>\n",
              "    .dataframe tbody tr th:only-of-type {\n",
              "        vertical-align: middle;\n",
              "    }\n",
              "\n",
              "    .dataframe tbody tr th {\n",
              "        vertical-align: top;\n",
              "    }\n",
              "\n",
              "    .dataframe thead th {\n",
              "        text-align: right;\n",
              "    }\n",
              "</style>\n",
              "<table border=\"1\" class=\"dataframe\">\n",
              "  <thead>\n",
              "    <tr style=\"text-align: right;\">\n",
              "      <th></th>\n",
              "      <th>id</th>\n",
              "      <th>type</th>\n",
              "      <th>name</th>\n",
              "      <th>image</th>\n",
              "      <th>awards</th>\n",
              "      <th>rankingPosition</th>\n",
              "      <th>priceLevel</th>\n",
              "      <th>priceRange</th>\n",
              "      <th>category</th>\n",
              "      <th>rating</th>\n",
              "      <th>...</th>\n",
              "      <th>prices</th>\n",
              "      <th>latitude</th>\n",
              "      <th>longitude</th>\n",
              "      <th>webUrl</th>\n",
              "      <th>website</th>\n",
              "      <th>rankingString</th>\n",
              "      <th>rankingDenominator</th>\n",
              "      <th>numberOfReviews</th>\n",
              "      <th>review</th>\n",
              "      <th>title</th>\n",
              "    </tr>\n",
              "  </thead>\n",
              "  <tbody>\n",
              "    <tr>\n",
              "      <th>0</th>\n",
              "      <td>7787044</td>\n",
              "      <td>HOTEL</td>\n",
              "      <td>Faena Miami Beach</td>\n",
              "      <td>https://media-cdn.tripadvisor.com/media/photo-o/1d/78/a4/13/exterior-view.jpg</td>\n",
              "      <td>[]</td>\n",
              "      <td>5</td>\n",
              "      <td>$$$$</td>\n",
              "      <td>$729 - $1,426</td>\n",
              "      <td>hotel</td>\n",
              "      <td>4.5</td>\n",
              "      <td>...</td>\n",
              "      <td>[]</td>\n",
              "      <td>25.807375</td>\n",
              "      <td>-80.12364</td>\n",
              "      <td>https://www.tripadvisor.com/Hotel_Review-g34439-d7787044-Reviews-Faena_Miami_Beach-Miami_Beach_Florida.html</td>\n",
              "      <td>https://www.faena.com/miami-beach</td>\n",
              "      <td>#5 of 235 hotels in Miami Beach</td>\n",
              "      <td>235</td>\n",
              "      <td>2123</td>\n",
              "      <td>Hands down my absolute favorite hotel in South Beach—there’s no place I’d rather stay. I’ve been back four times in the past six months –each experience is better than the last and I always look forward to coming back. As impressive as the hotel is, the team of people are what make each stay exceptional. Everyone is so friendly and they go out of their way to ensure that I have a perfect stay every single time. Petar in particular always ensures that my stay is wonderful every time and gives me total peace of mind every time I stay there - I never have to worry about a thing and he goes above and beyond to provide excellent service.\\n\\nI’ve stayed at many hotels in South Beach/Miami and they’re in a league of their own.</td>\n",
              "      <td>My favorite hotel in Miami--Petar is the best!</td>\n",
              "    </tr>\n",
              "    <tr>\n",
              "      <th>1</th>\n",
              "      <td>7787044</td>\n",
              "      <td>HOTEL</td>\n",
              "      <td>Faena Miami Beach</td>\n",
              "      <td>https://media-cdn.tripadvisor.com/media/photo-o/1d/78/a4/13/exterior-view.jpg</td>\n",
              "      <td>[]</td>\n",
              "      <td>5</td>\n",
              "      <td>$$$$</td>\n",
              "      <td>$729 - $1,426</td>\n",
              "      <td>hotel</td>\n",
              "      <td>4.5</td>\n",
              "      <td>...</td>\n",
              "      <td>[]</td>\n",
              "      <td>25.807375</td>\n",
              "      <td>-80.12364</td>\n",
              "      <td>https://www.tripadvisor.com/Hotel_Review-g34439-d7787044-Reviews-Faena_Miami_Beach-Miami_Beach_Florida.html</td>\n",
              "      <td>https://www.faena.com/miami-beach</td>\n",
              "      <td>#5 of 235 hotels in Miami Beach</td>\n",
              "      <td>235</td>\n",
              "      <td>2123</td>\n",
              "      <td>There are not enough words to explain the sumptuousness and comfortable elegance you are treated to as a guest at Faena. Their holistic approach to relaxation and community is in paralleled. While every area was wonderful, standouts were Los Fuegos and the Spa. Their staff is magnificent and know how to care for your every whim. Thank you Solange for the welcome and checking!\\n\\nWe will be back!</td>\n",
              "      <td>Exquisite Stay</td>\n",
              "    </tr>\n",
              "  </tbody>\n",
              "</table>\n",
              "<p>2 rows × 27 columns</p>\n",
              "</div>\n",
              "    <div class=\"colab-df-buttons\">\n",
              "\n",
              "  <div class=\"colab-df-container\">\n",
              "    <button class=\"colab-df-convert\" onclick=\"convertToInteractive('df-4f84c6c4-e8b3-4d71-8e79-ce890b6e3f64')\"\n",
              "            title=\"Convert this dataframe to an interactive table.\"\n",
              "            style=\"display:none;\">\n",
              "\n",
              "  <svg xmlns=\"http://www.w3.org/2000/svg\" height=\"24px\" viewBox=\"0 -960 960 960\">\n",
              "    <path d=\"M120-120v-720h720v720H120Zm60-500h600v-160H180v160Zm220 220h160v-160H400v160Zm0 220h160v-160H400v160ZM180-400h160v-160H180v160Zm440 0h160v-160H620v160ZM180-180h160v-160H180v160Zm440 0h160v-160H620v160Z\"/>\n",
              "  </svg>\n",
              "    </button>\n",
              "\n",
              "  <style>\n",
              "    .colab-df-container {\n",
              "      display:flex;\n",
              "      gap: 12px;\n",
              "    }\n",
              "\n",
              "    .colab-df-convert {\n",
              "      background-color: #E8F0FE;\n",
              "      border: none;\n",
              "      border-radius: 50%;\n",
              "      cursor: pointer;\n",
              "      display: none;\n",
              "      fill: #1967D2;\n",
              "      height: 32px;\n",
              "      padding: 0 0 0 0;\n",
              "      width: 32px;\n",
              "    }\n",
              "\n",
              "    .colab-df-convert:hover {\n",
              "      background-color: #E2EBFA;\n",
              "      box-shadow: 0px 1px 2px rgba(60, 64, 67, 0.3), 0px 1px 3px 1px rgba(60, 64, 67, 0.15);\n",
              "      fill: #174EA6;\n",
              "    }\n",
              "\n",
              "    .colab-df-buttons div {\n",
              "      margin-bottom: 4px;\n",
              "    }\n",
              "\n",
              "    [theme=dark] .colab-df-convert {\n",
              "      background-color: #3B4455;\n",
              "      fill: #D2E3FC;\n",
              "    }\n",
              "\n",
              "    [theme=dark] .colab-df-convert:hover {\n",
              "      background-color: #434B5C;\n",
              "      box-shadow: 0px 1px 3px 1px rgba(0, 0, 0, 0.15);\n",
              "      filter: drop-shadow(0px 1px 2px rgba(0, 0, 0, 0.3));\n",
              "      fill: #FFFFFF;\n",
              "    }\n",
              "  </style>\n",
              "\n",
              "    <script>\n",
              "      const buttonEl =\n",
              "        document.querySelector('#df-4f84c6c4-e8b3-4d71-8e79-ce890b6e3f64 button.colab-df-convert');\n",
              "      buttonEl.style.display =\n",
              "        google.colab.kernel.accessAllowed ? 'block' : 'none';\n",
              "\n",
              "      async function convertToInteractive(key) {\n",
              "        const element = document.querySelector('#df-4f84c6c4-e8b3-4d71-8e79-ce890b6e3f64');\n",
              "        const dataTable =\n",
              "          await google.colab.kernel.invokeFunction('convertToInteractive',\n",
              "                                                    [key], {});\n",
              "        if (!dataTable) return;\n",
              "\n",
              "        const docLinkHtml = 'Like what you see? Visit the ' +\n",
              "          '<a target=\"_blank\" href=https://colab.research.google.com/notebooks/data_table.ipynb>data table notebook</a>'\n",
              "          + ' to learn more about interactive tables.';\n",
              "        element.innerHTML = '';\n",
              "        dataTable['output_type'] = 'display_data';\n",
              "        await google.colab.output.renderOutput(dataTable, element);\n",
              "        const docLink = document.createElement('div');\n",
              "        docLink.innerHTML = docLinkHtml;\n",
              "        element.appendChild(docLink);\n",
              "      }\n",
              "    </script>\n",
              "  </div>\n",
              "\n",
              "\n",
              "    <div id=\"df-372372e7-1413-4aa8-91ea-5b37eb4d9f10\">\n",
              "      <button class=\"colab-df-quickchart\" onclick=\"quickchart('df-372372e7-1413-4aa8-91ea-5b37eb4d9f10')\"\n",
              "                title=\"Suggest charts\"\n",
              "                style=\"display:none;\">\n",
              "\n",
              "<svg xmlns=\"http://www.w3.org/2000/svg\" height=\"24px\"viewBox=\"0 0 24 24\"\n",
              "     width=\"24px\">\n",
              "    <g>\n",
              "        <path d=\"M19 3H5c-1.1 0-2 .9-2 2v14c0 1.1.9 2 2 2h14c1.1 0 2-.9 2-2V5c0-1.1-.9-2-2-2zM9 17H7v-7h2v7zm4 0h-2V7h2v10zm4 0h-2v-4h2v4z\"/>\n",
              "    </g>\n",
              "</svg>\n",
              "      </button>\n",
              "\n",
              "<style>\n",
              "  .colab-df-quickchart {\n",
              "      --bg-color: #E8F0FE;\n",
              "      --fill-color: #1967D2;\n",
              "      --hover-bg-color: #E2EBFA;\n",
              "      --hover-fill-color: #174EA6;\n",
              "      --disabled-fill-color: #AAA;\n",
              "      --disabled-bg-color: #DDD;\n",
              "  }\n",
              "\n",
              "  [theme=dark] .colab-df-quickchart {\n",
              "      --bg-color: #3B4455;\n",
              "      --fill-color: #D2E3FC;\n",
              "      --hover-bg-color: #434B5C;\n",
              "      --hover-fill-color: #FFFFFF;\n",
              "      --disabled-bg-color: #3B4455;\n",
              "      --disabled-fill-color: #666;\n",
              "  }\n",
              "\n",
              "  .colab-df-quickchart {\n",
              "    background-color: var(--bg-color);\n",
              "    border: none;\n",
              "    border-radius: 50%;\n",
              "    cursor: pointer;\n",
              "    display: none;\n",
              "    fill: var(--fill-color);\n",
              "    height: 32px;\n",
              "    padding: 0;\n",
              "    width: 32px;\n",
              "  }\n",
              "\n",
              "  .colab-df-quickchart:hover {\n",
              "    background-color: var(--hover-bg-color);\n",
              "    box-shadow: 0 1px 2px rgba(60, 64, 67, 0.3), 0 1px 3px 1px rgba(60, 64, 67, 0.15);\n",
              "    fill: var(--button-hover-fill-color);\n",
              "  }\n",
              "\n",
              "  .colab-df-quickchart-complete:disabled,\n",
              "  .colab-df-quickchart-complete:disabled:hover {\n",
              "    background-color: var(--disabled-bg-color);\n",
              "    fill: var(--disabled-fill-color);\n",
              "    box-shadow: none;\n",
              "  }\n",
              "\n",
              "  .colab-df-spinner {\n",
              "    border: 2px solid var(--fill-color);\n",
              "    border-color: transparent;\n",
              "    border-bottom-color: var(--fill-color);\n",
              "    animation:\n",
              "      spin 1s steps(1) infinite;\n",
              "  }\n",
              "\n",
              "  @keyframes spin {\n",
              "    0% {\n",
              "      border-color: transparent;\n",
              "      border-bottom-color: var(--fill-color);\n",
              "      border-left-color: var(--fill-color);\n",
              "    }\n",
              "    20% {\n",
              "      border-color: transparent;\n",
              "      border-left-color: var(--fill-color);\n",
              "      border-top-color: var(--fill-color);\n",
              "    }\n",
              "    30% {\n",
              "      border-color: transparent;\n",
              "      border-left-color: var(--fill-color);\n",
              "      border-top-color: var(--fill-color);\n",
              "      border-right-color: var(--fill-color);\n",
              "    }\n",
              "    40% {\n",
              "      border-color: transparent;\n",
              "      border-right-color: var(--fill-color);\n",
              "      border-top-color: var(--fill-color);\n",
              "    }\n",
              "    60% {\n",
              "      border-color: transparent;\n",
              "      border-right-color: var(--fill-color);\n",
              "    }\n",
              "    80% {\n",
              "      border-color: transparent;\n",
              "      border-right-color: var(--fill-color);\n",
              "      border-bottom-color: var(--fill-color);\n",
              "    }\n",
              "    90% {\n",
              "      border-color: transparent;\n",
              "      border-bottom-color: var(--fill-color);\n",
              "    }\n",
              "  }\n",
              "</style>\n",
              "\n",
              "      <script>\n",
              "        async function quickchart(key) {\n",
              "          const quickchartButtonEl =\n",
              "            document.querySelector('#' + key + ' button');\n",
              "          quickchartButtonEl.disabled = true;  // To prevent multiple clicks.\n",
              "          quickchartButtonEl.classList.add('colab-df-spinner');\n",
              "          try {\n",
              "            const charts = await google.colab.kernel.invokeFunction(\n",
              "                'suggestCharts', [key], {});\n",
              "          } catch (error) {\n",
              "            console.error('Error during call to suggestCharts:', error);\n",
              "          }\n",
              "          quickchartButtonEl.classList.remove('colab-df-spinner');\n",
              "          quickchartButtonEl.classList.add('colab-df-quickchart-complete');\n",
              "        }\n",
              "        (() => {\n",
              "          let quickchartButtonEl =\n",
              "            document.querySelector('#df-372372e7-1413-4aa8-91ea-5b37eb4d9f10 button');\n",
              "          quickchartButtonEl.style.display =\n",
              "            google.colab.kernel.accessAllowed ? 'block' : 'none';\n",
              "        })();\n",
              "      </script>\n",
              "    </div>\n",
              "\n",
              "    </div>\n",
              "  </div>\n"
            ],
            "text/plain": [
              "        id   type               name  \\\n",
              "0  7787044  HOTEL  Faena Miami Beach   \n",
              "1  7787044  HOTEL  Faena Miami Beach   \n",
              "\n",
              "                                                                           image  \\\n",
              "0  https://media-cdn.tripadvisor.com/media/photo-o/1d/78/a4/13/exterior-view.jpg   \n",
              "1  https://media-cdn.tripadvisor.com/media/photo-o/1d/78/a4/13/exterior-view.jpg   \n",
              "\n",
              "  awards  rankingPosition priceLevel     priceRange category  rating  ...  \\\n",
              "0     []                5       $$$$  $729 - $1,426    hotel     4.5  ...   \n",
              "1     []                5       $$$$  $729 - $1,426    hotel     4.5  ...   \n",
              "\n",
              "   prices   latitude longitude  \\\n",
              "0      []  25.807375 -80.12364   \n",
              "1      []  25.807375 -80.12364   \n",
              "\n",
              "                                                                                                        webUrl  \\\n",
              "0  https://www.tripadvisor.com/Hotel_Review-g34439-d7787044-Reviews-Faena_Miami_Beach-Miami_Beach_Florida.html   \n",
              "1  https://www.tripadvisor.com/Hotel_Review-g34439-d7787044-Reviews-Faena_Miami_Beach-Miami_Beach_Florida.html   \n",
              "\n",
              "                             website                    rankingString  \\\n",
              "0  https://www.faena.com/miami-beach  #5 of 235 hotels in Miami Beach   \n",
              "1  https://www.faena.com/miami-beach  #5 of 235 hotels in Miami Beach   \n",
              "\n",
              "   rankingDenominator numberOfReviews  \\\n",
              "0                 235            2123   \n",
              "1                 235            2123   \n",
              "\n",
              "                                                                                                                                                                                                                                                                                                                                                                                                                                                                                                                                                                                                                                                                                                                                                      review  \\\n",
              "0  Hands down my absolute favorite hotel in South Beach—there’s no place I’d rather stay. I’ve been back four times in the past six months –each experience is better than the last and I always look forward to coming back. As impressive as the hotel is, the team of people are what make each stay exceptional. Everyone is so friendly and they go out of their way to ensure that I have a perfect stay every single time. Petar in particular always ensures that my stay is wonderful every time and gives me total peace of mind every time I stay there - I never have to worry about a thing and he goes above and beyond to provide excellent service.\\n\\nI’ve stayed at many hotels in South Beach/Miami and they’re in a league of their own.   \n",
              "1                                                                                                                                                                                                                                                                                                                                             There are not enough words to explain the sumptuousness and comfortable elegance you are treated to as a guest at Faena. Their holistic approach to relaxation and community is in paralleled. While every area was wonderful, standouts were Los Fuegos and the Spa. Their staff is magnificent and know how to care for your every whim. Thank you Solange for the welcome and checking!\\n\\nWe will be back!   \n",
              "\n",
              "                                            title  \n",
              "0  My favorite hotel in Miami--Petar is the best!  \n",
              "1                                  Exquisite Stay  \n",
              "\n",
              "[2 rows x 27 columns]"
            ]
          },
          "execution_count": 124,
          "metadata": {},
          "output_type": "execute_result"
        }
      ],
      "source": [
        "df.head(2)"
      ]
    },
    {
      "cell_type": "code",
      "execution_count": null,
      "metadata": {
        "colab": {
          "base_uri": "https://localhost:8080/",
          "height": 17
        },
        "id": "UwWEpE24RMWB",
        "outputId": "83271c63-c413-4fc4-a1df-2b1748046650"
      },
      "outputs": [
        {
          "data": {
            "text/html": [
              "\n",
              "    <style>\n",
              "      pre {\n",
              "          white-space: pre-wrap;  /* Enable word-wrapping in code/output blocks */\n",
              "      }\n",
              "    </style>\n",
              "    "
            ],
            "text/plain": [
              "<IPython.core.display.HTML object>"
            ]
          },
          "metadata": {},
          "output_type": "display_data"
        },
        {
          "data": {
            "text/html": [
              "\n",
              "    <style>\n",
              "      pre {\n",
              "          white-space: pre-wrap;  /* Enable word-wrapping in code/output blocks */\n",
              "      }\n",
              "    </style>\n",
              "    "
            ],
            "text/plain": [
              "<IPython.core.display.HTML object>"
            ]
          },
          "metadata": {},
          "output_type": "display_data"
        },
        {
          "data": {
            "text/html": [
              "\n",
              "    <style>\n",
              "      pre {\n",
              "          white-space: pre-wrap;  /* Enable word-wrapping in code/output blocks */\n",
              "      }\n",
              "    </style>\n",
              "    "
            ],
            "text/plain": [
              "<IPython.core.display.HTML object>"
            ]
          },
          "metadata": {},
          "output_type": "display_data"
        },
        {
          "data": {
            "text/html": [
              "\n",
              "    <style>\n",
              "      pre {\n",
              "          white-space: pre-wrap;  /* Enable word-wrapping in code/output blocks */\n",
              "      }\n",
              "    </style>\n",
              "    "
            ],
            "text/plain": [
              "<IPython.core.display.HTML object>"
            ]
          },
          "metadata": {},
          "output_type": "display_data"
        },
        {
          "data": {
            "text/html": [
              "\n",
              "    <style>\n",
              "      pre {\n",
              "          white-space: pre-wrap;  /* Enable word-wrapping in code/output blocks */\n",
              "      }\n",
              "    </style>\n",
              "    "
            ],
            "text/plain": [
              "<IPython.core.display.HTML object>"
            ]
          },
          "metadata": {},
          "output_type": "display_data"
        }
      ],
      "source": [
        "# Create a column named 'combined', which containes the titles of the different lodges, with the descriptions associated to it.\n",
        "# df[\"combined\"] = (\n",
        "#     \"Name: \" + df.name.str.strip()+\n",
        "#     \"; Review: \" + df.review.str.strip() +\n",
        "#     \"; Title: \" + df.title.str.strip() +\n",
        "#     \"; Rating: \" + df.rating.astype(str) +\n",
        "#     \"; PriceRange: \" + df.priceRange.astype(str)+\n",
        "#     \"; Website: \" + df.website.str.strip() +\n",
        "#     \"; Ranking: \" + df.rankingPosition.astype(str) +\n",
        "#     \"; Category: \" + df.category.str.strip() +\n",
        "#     \"; image: \" + df.image.str.strip()\n",
        "\n",
        "# )"
      ]
    },
    {
      "cell_type": "code",
      "execution_count": null,
      "metadata": {
        "colab": {
          "base_uri": "https://localhost:8080/",
          "height": 261
        },
        "id": "DURivNGvTnRT",
        "outputId": "3f63ef61-5184-4a05-c59e-33b39ad04489"
      },
      "outputs": [
        {
          "data": {
            "text/html": [
              "\n",
              "    <style>\n",
              "      pre {\n",
              "          white-space: pre-wrap;  /* Enable word-wrapping in code/output blocks */\n",
              "      }\n",
              "    </style>\n",
              "    "
            ],
            "text/plain": [
              "<IPython.core.display.HTML object>"
            ]
          },
          "metadata": {},
          "output_type": "display_data"
        },
        {
          "data": {
            "text/html": [
              "\n",
              "    <style>\n",
              "      pre {\n",
              "          white-space: pre-wrap;  /* Enable word-wrapping in code/output blocks */\n",
              "      }\n",
              "    </style>\n",
              "    "
            ],
            "text/plain": [
              "<IPython.core.display.HTML object>"
            ]
          },
          "metadata": {},
          "output_type": "display_data"
        },
        {
          "data": {
            "text/html": [
              "\n",
              "    <style>\n",
              "      pre {\n",
              "          white-space: pre-wrap;  /* Enable word-wrapping in code/output blocks */\n",
              "      }\n",
              "    </style>\n",
              "    "
            ],
            "text/plain": [
              "<IPython.core.display.HTML object>"
            ]
          },
          "metadata": {},
          "output_type": "display_data"
        },
        {
          "data": {
            "text/html": [
              "\n",
              "    <style>\n",
              "      pre {\n",
              "          white-space: pre-wrap;  /* Enable word-wrapping in code/output blocks */\n",
              "      }\n",
              "    </style>\n",
              "    "
            ],
            "text/plain": [
              "<IPython.core.display.HTML object>"
            ]
          },
          "metadata": {},
          "output_type": "display_data"
        },
        {
          "data": {
            "text/html": [
              "\n",
              "    <style>\n",
              "      pre {\n",
              "          white-space: pre-wrap;  /* Enable word-wrapping in code/output blocks */\n",
              "      }\n",
              "    </style>\n",
              "    "
            ],
            "text/plain": [
              "<IPython.core.display.HTML object>"
            ]
          },
          "metadata": {},
          "output_type": "display_data"
        },
        {
          "data": {
            "text/html": [
              "<div>\n",
              "<style scoped>\n",
              "    .dataframe tbody tr th:only-of-type {\n",
              "        vertical-align: middle;\n",
              "    }\n",
              "\n",
              "    .dataframe tbody tr th {\n",
              "        vertical-align: top;\n",
              "    }\n",
              "\n",
              "    .dataframe thead th {\n",
              "        text-align: right;\n",
              "    }\n",
              "</style>\n",
              "<table border=\"1\" class=\"dataframe\">\n",
              "  <thead>\n",
              "    <tr style=\"text-align: right;\">\n",
              "      <th></th>\n",
              "      <th>review</th>\n",
              "    </tr>\n",
              "  </thead>\n",
              "  <tbody>\n",
              "    <tr>\n",
              "      <th>1</th>\n",
              "      <td>There are not enough words to explain the sumptuousness and comfortable elegance you are treated to as a guest at Faena. Their holistic approach to relaxation and community is in paralleled. While every area was wonderful, standouts were Los Fuegos and the Spa. Their staff is magnificent and know how to care for your every whim. Thank you Solange for the welcome and checking!\\n\\nWe will be back!</td>\n",
              "    </tr>\n",
              "    <tr>\n",
              "      <th>2</th>\n",
              "      <td>I went for the Burlesque show which was absolutely amazing. The service was top tier. My bartender was Patty, my drinks were great, one of the best whiskey sours I've had. My server Tatiana was awesome, so sweet and attentive. I highly recommend the show if you get a chance and ask for Patty at the bar</td>\n",
              "    </tr>\n",
              "    <tr>\n",
              "      <th>3</th>\n",
              "      <td>Dana at Gitano made the night magical! He makes me want to fly to Miami from Chicago for dinner so he can be my server! The hotel is smart to have Dana as a brand ambassador!  Well done Faena Hotel for this!</td>\n",
              "    </tr>\n",
              "  </tbody>\n",
              "</table>\n",
              "</div><br><label><b>dtype:</b> object</label>"
            ],
            "text/plain": [
              "1    There are not enough words to explain the sumptuousness and comfortable elegance you are treated to as a guest at Faena. Their holistic approach to relaxation and community is in paralleled. While every area was wonderful, standouts were Los Fuegos and the Spa. Their staff is magnificent and know how to care for your every whim. Thank you Solange for the welcome and checking!\\n\\nWe will be back!\n",
              "2                                                                                                   I went for the Burlesque show which was absolutely amazing. The service was top tier. My bartender was Patty, my drinks were great, one of the best whiskey sours I've had. My server Tatiana was awesome, so sweet and attentive. I highly recommend the show if you get a chance and ask for Patty at the bar\n",
              "3                                                                                                                                                                                                   Dana at Gitano made the night magical! He makes me want to fly to Miami from Chicago for dinner so he can be my server! The hotel is smart to have Dana as a brand ambassador!  Well done Faena Hotel for this!\n",
              "Name: review, dtype: object"
            ]
          },
          "execution_count": 126,
          "metadata": {},
          "output_type": "execute_result"
        }
      ],
      "source": [
        "# Show full text without truncation\n",
        "pd.set_option('display.max_colwidth', None)\n",
        "df['review'][1:4]"
      ]
    },
    {
      "cell_type": "code",
      "execution_count": null,
      "metadata": {
        "colab": {
          "base_uri": "https://localhost:8080/",
          "height": 1000
        },
        "id": "EdyxNvgpTOR0",
        "outputId": "2444f9a3-48db-4999-bb8d-211950da7768"
      },
      "outputs": [
        {
          "data": {
            "text/html": [
              "\n",
              "    <style>\n",
              "      pre {\n",
              "          white-space: pre-wrap;  /* Enable word-wrapping in code/output blocks */\n",
              "      }\n",
              "    </style>\n",
              "    "
            ],
            "text/plain": [
              "<IPython.core.display.HTML object>"
            ]
          },
          "metadata": {},
          "output_type": "display_data"
        },
        {
          "data": {
            "text/html": [
              "\n",
              "    <style>\n",
              "      pre {\n",
              "          white-space: pre-wrap;  /* Enable word-wrapping in code/output blocks */\n",
              "      }\n",
              "    </style>\n",
              "    "
            ],
            "text/plain": [
              "<IPython.core.display.HTML object>"
            ]
          },
          "metadata": {},
          "output_type": "display_data"
        },
        {
          "data": {
            "text/html": [
              "\n",
              "    <style>\n",
              "      pre {\n",
              "          white-space: pre-wrap;  /* Enable word-wrapping in code/output blocks */\n",
              "      }\n",
              "    </style>\n",
              "    "
            ],
            "text/plain": [
              "<IPython.core.display.HTML object>"
            ]
          },
          "metadata": {},
          "output_type": "display_data"
        },
        {
          "data": {
            "text/html": [
              "\n",
              "    <style>\n",
              "      pre {\n",
              "          white-space: pre-wrap;  /* Enable word-wrapping in code/output blocks */\n",
              "      }\n",
              "    </style>\n",
              "    "
            ],
            "text/plain": [
              "<IPython.core.display.HTML object>"
            ]
          },
          "metadata": {},
          "output_type": "display_data"
        },
        {
          "data": {
            "text/html": [
              "\n",
              "    <style>\n",
              "      pre {\n",
              "          white-space: pre-wrap;  /* Enable word-wrapping in code/output blocks */\n",
              "      }\n",
              "    </style>\n",
              "    "
            ],
            "text/plain": [
              "<IPython.core.display.HTML object>"
            ]
          },
          "metadata": {},
          "output_type": "display_data"
        },
        {
          "data": {
            "application/vnd.google.colaboratory.intrinsic+json": {
              "type": "dataframe",
              "variable_name": "df"
            },
            "text/html": [
              "\n",
              "  <div id=\"df-d55f879f-3d61-48fc-ad47-059db7308227\" class=\"colab-df-container\">\n",
              "    <div>\n",
              "<style scoped>\n",
              "    .dataframe tbody tr th:only-of-type {\n",
              "        vertical-align: middle;\n",
              "    }\n",
              "\n",
              "    .dataframe tbody tr th {\n",
              "        vertical-align: top;\n",
              "    }\n",
              "\n",
              "    .dataframe thead th {\n",
              "        text-align: right;\n",
              "    }\n",
              "</style>\n",
              "<table border=\"1\" class=\"dataframe\">\n",
              "  <thead>\n",
              "    <tr style=\"text-align: right;\">\n",
              "      <th></th>\n",
              "      <th>0</th>\n",
              "      <th>1</th>\n",
              "    </tr>\n",
              "  </thead>\n",
              "  <tbody>\n",
              "    <tr>\n",
              "      <th>id</th>\n",
              "      <td>7787044</td>\n",
              "      <td>7787044</td>\n",
              "    </tr>\n",
              "    <tr>\n",
              "      <th>type</th>\n",
              "      <td>HOTEL</td>\n",
              "      <td>HOTEL</td>\n",
              "    </tr>\n",
              "    <tr>\n",
              "      <th>name</th>\n",
              "      <td>Faena Miami Beach</td>\n",
              "      <td>Faena Miami Beach</td>\n",
              "    </tr>\n",
              "    <tr>\n",
              "      <th>image</th>\n",
              "      <td>https://media-cdn.tripadvisor.com/media/photo-o/1d/78/a4/13/exterior-view.jpg</td>\n",
              "      <td>https://media-cdn.tripadvisor.com/media/photo-o/1d/78/a4/13/exterior-view.jpg</td>\n",
              "    </tr>\n",
              "    <tr>\n",
              "      <th>awards</th>\n",
              "      <td>[]</td>\n",
              "      <td>[]</td>\n",
              "    </tr>\n",
              "    <tr>\n",
              "      <th>rankingPosition</th>\n",
              "      <td>5</td>\n",
              "      <td>5</td>\n",
              "    </tr>\n",
              "    <tr>\n",
              "      <th>priceLevel</th>\n",
              "      <td>$$$$</td>\n",
              "      <td>$$$$</td>\n",
              "    </tr>\n",
              "    <tr>\n",
              "      <th>priceRange</th>\n",
              "      <td>$729 - $1,426</td>\n",
              "      <td>$729 - $1,426</td>\n",
              "    </tr>\n",
              "    <tr>\n",
              "      <th>category</th>\n",
              "      <td>hotel</td>\n",
              "      <td>hotel</td>\n",
              "    </tr>\n",
              "    <tr>\n",
              "      <th>rating</th>\n",
              "      <td>4.5</td>\n",
              "      <td>4.5</td>\n",
              "    </tr>\n",
              "    <tr>\n",
              "      <th>hotelClass</th>\n",
              "      <td>0.0</td>\n",
              "      <td>0.0</td>\n",
              "    </tr>\n",
              "    <tr>\n",
              "      <th>hotelClassAttribution</th>\n",
              "      <td>NaN</td>\n",
              "      <td>NaN</td>\n",
              "    </tr>\n",
              "    <tr>\n",
              "      <th>phone</th>\n",
              "      <td>13055348800</td>\n",
              "      <td>13055348800</td>\n",
              "    </tr>\n",
              "    <tr>\n",
              "      <th>address</th>\n",
              "      <td>3201 Collins Ave Faena District, Miami Beach, FL 33140-4023</td>\n",
              "      <td>3201 Collins Ave Faena District, Miami Beach, FL 33140-4023</td>\n",
              "    </tr>\n",
              "    <tr>\n",
              "      <th>email</th>\n",
              "      <td>reservations-miamibeach@faena.com</td>\n",
              "      <td>reservations-miamibeach@faena.com</td>\n",
              "    </tr>\n",
              "    <tr>\n",
              "      <th>amenities</th>\n",
              "      <td>[]</td>\n",
              "      <td>[]</td>\n",
              "    </tr>\n",
              "    <tr>\n",
              "      <th>numberOfRooms</th>\n",
              "      <td>179</td>\n",
              "      <td>179</td>\n",
              "    </tr>\n",
              "    <tr>\n",
              "      <th>prices</th>\n",
              "      <td>[]</td>\n",
              "      <td>[]</td>\n",
              "    </tr>\n",
              "    <tr>\n",
              "      <th>latitude</th>\n",
              "      <td>25.807375</td>\n",
              "      <td>25.807375</td>\n",
              "    </tr>\n",
              "    <tr>\n",
              "      <th>longitude</th>\n",
              "      <td>-80.12364</td>\n",
              "      <td>-80.12364</td>\n",
              "    </tr>\n",
              "    <tr>\n",
              "      <th>webUrl</th>\n",
              "      <td>https://www.tripadvisor.com/Hotel_Review-g34439-d7787044-Reviews-Faena_Miami_Beach-Miami_Beach_Florida.html</td>\n",
              "      <td>https://www.tripadvisor.com/Hotel_Review-g34439-d7787044-Reviews-Faena_Miami_Beach-Miami_Beach_Florida.html</td>\n",
              "    </tr>\n",
              "    <tr>\n",
              "      <th>website</th>\n",
              "      <td>https://www.faena.com/miami-beach</td>\n",
              "      <td>https://www.faena.com/miami-beach</td>\n",
              "    </tr>\n",
              "    <tr>\n",
              "      <th>rankingString</th>\n",
              "      <td>#5 of 235 hotels in Miami Beach</td>\n",
              "      <td>#5 of 235 hotels in Miami Beach</td>\n",
              "    </tr>\n",
              "    <tr>\n",
              "      <th>rankingDenominator</th>\n",
              "      <td>235</td>\n",
              "      <td>235</td>\n",
              "    </tr>\n",
              "    <tr>\n",
              "      <th>numberOfReviews</th>\n",
              "      <td>2123</td>\n",
              "      <td>2123</td>\n",
              "    </tr>\n",
              "    <tr>\n",
              "      <th>review</th>\n",
              "      <td>Hands down my absolute favorite hotel in South Beach—there’s no place I’d rather stay. I’ve been back four times in the past six months –each experience is better than the last and I always look forward to coming back. As impressive as the hotel is, the team of people are what make each stay exceptional. Everyone is so friendly and they go out of their way to ensure that I have a perfect stay every single time. Petar in particular always ensures that my stay is wonderful every time and gives me total peace of mind every time I stay there - I never have to worry about a thing and he goes above and beyond to provide excellent service.\\n\\nI’ve stayed at many hotels in South Beach/Miami and they’re in a league of their own.</td>\n",
              "      <td>There are not enough words to explain the sumptuousness and comfortable elegance you are treated to as a guest at Faena. Their holistic approach to relaxation and community is in paralleled. While every area was wonderful, standouts were Los Fuegos and the Spa. Their staff is magnificent and know how to care for your every whim. Thank you Solange for the welcome and checking!\\n\\nWe will be back!</td>\n",
              "    </tr>\n",
              "    <tr>\n",
              "      <th>title</th>\n",
              "      <td>My favorite hotel in Miami--Petar is the best!</td>\n",
              "      <td>Exquisite Stay</td>\n",
              "    </tr>\n",
              "  </tbody>\n",
              "</table>\n",
              "</div>\n",
              "    <div class=\"colab-df-buttons\">\n",
              "\n",
              "  <div class=\"colab-df-container\">\n",
              "    <button class=\"colab-df-convert\" onclick=\"convertToInteractive('df-d55f879f-3d61-48fc-ad47-059db7308227')\"\n",
              "            title=\"Convert this dataframe to an interactive table.\"\n",
              "            style=\"display:none;\">\n",
              "\n",
              "  <svg xmlns=\"http://www.w3.org/2000/svg\" height=\"24px\" viewBox=\"0 -960 960 960\">\n",
              "    <path d=\"M120-120v-720h720v720H120Zm60-500h600v-160H180v160Zm220 220h160v-160H400v160Zm0 220h160v-160H400v160ZM180-400h160v-160H180v160Zm440 0h160v-160H620v160ZM180-180h160v-160H180v160Zm440 0h160v-160H620v160Z\"/>\n",
              "  </svg>\n",
              "    </button>\n",
              "\n",
              "  <style>\n",
              "    .colab-df-container {\n",
              "      display:flex;\n",
              "      gap: 12px;\n",
              "    }\n",
              "\n",
              "    .colab-df-convert {\n",
              "      background-color: #E8F0FE;\n",
              "      border: none;\n",
              "      border-radius: 50%;\n",
              "      cursor: pointer;\n",
              "      display: none;\n",
              "      fill: #1967D2;\n",
              "      height: 32px;\n",
              "      padding: 0 0 0 0;\n",
              "      width: 32px;\n",
              "    }\n",
              "\n",
              "    .colab-df-convert:hover {\n",
              "      background-color: #E2EBFA;\n",
              "      box-shadow: 0px 1px 2px rgba(60, 64, 67, 0.3), 0px 1px 3px 1px rgba(60, 64, 67, 0.15);\n",
              "      fill: #174EA6;\n",
              "    }\n",
              "\n",
              "    .colab-df-buttons div {\n",
              "      margin-bottom: 4px;\n",
              "    }\n",
              "\n",
              "    [theme=dark] .colab-df-convert {\n",
              "      background-color: #3B4455;\n",
              "      fill: #D2E3FC;\n",
              "    }\n",
              "\n",
              "    [theme=dark] .colab-df-convert:hover {\n",
              "      background-color: #434B5C;\n",
              "      box-shadow: 0px 1px 3px 1px rgba(0, 0, 0, 0.15);\n",
              "      filter: drop-shadow(0px 1px 2px rgba(0, 0, 0, 0.3));\n",
              "      fill: #FFFFFF;\n",
              "    }\n",
              "  </style>\n",
              "\n",
              "    <script>\n",
              "      const buttonEl =\n",
              "        document.querySelector('#df-d55f879f-3d61-48fc-ad47-059db7308227 button.colab-df-convert');\n",
              "      buttonEl.style.display =\n",
              "        google.colab.kernel.accessAllowed ? 'block' : 'none';\n",
              "\n",
              "      async function convertToInteractive(key) {\n",
              "        const element = document.querySelector('#df-d55f879f-3d61-48fc-ad47-059db7308227');\n",
              "        const dataTable =\n",
              "          await google.colab.kernel.invokeFunction('convertToInteractive',\n",
              "                                                    [key], {});\n",
              "        if (!dataTable) return;\n",
              "\n",
              "        const docLinkHtml = 'Like what you see? Visit the ' +\n",
              "          '<a target=\"_blank\" href=https://colab.research.google.com/notebooks/data_table.ipynb>data table notebook</a>'\n",
              "          + ' to learn more about interactive tables.';\n",
              "        element.innerHTML = '';\n",
              "        dataTable['output_type'] = 'display_data';\n",
              "        await google.colab.output.renderOutput(dataTable, element);\n",
              "        const docLink = document.createElement('div');\n",
              "        docLink.innerHTML = docLinkHtml;\n",
              "        element.appendChild(docLink);\n",
              "      }\n",
              "    </script>\n",
              "  </div>\n",
              "\n",
              "\n",
              "    <div id=\"df-1a1aded2-e6ed-416b-886d-6792ada7baa5\">\n",
              "      <button class=\"colab-df-quickchart\" onclick=\"quickchart('df-1a1aded2-e6ed-416b-886d-6792ada7baa5')\"\n",
              "                title=\"Suggest charts\"\n",
              "                style=\"display:none;\">\n",
              "\n",
              "<svg xmlns=\"http://www.w3.org/2000/svg\" height=\"24px\"viewBox=\"0 0 24 24\"\n",
              "     width=\"24px\">\n",
              "    <g>\n",
              "        <path d=\"M19 3H5c-1.1 0-2 .9-2 2v14c0 1.1.9 2 2 2h14c1.1 0 2-.9 2-2V5c0-1.1-.9-2-2-2zM9 17H7v-7h2v7zm4 0h-2V7h2v10zm4 0h-2v-4h2v4z\"/>\n",
              "    </g>\n",
              "</svg>\n",
              "      </button>\n",
              "\n",
              "<style>\n",
              "  .colab-df-quickchart {\n",
              "      --bg-color: #E8F0FE;\n",
              "      --fill-color: #1967D2;\n",
              "      --hover-bg-color: #E2EBFA;\n",
              "      --hover-fill-color: #174EA6;\n",
              "      --disabled-fill-color: #AAA;\n",
              "      --disabled-bg-color: #DDD;\n",
              "  }\n",
              "\n",
              "  [theme=dark] .colab-df-quickchart {\n",
              "      --bg-color: #3B4455;\n",
              "      --fill-color: #D2E3FC;\n",
              "      --hover-bg-color: #434B5C;\n",
              "      --hover-fill-color: #FFFFFF;\n",
              "      --disabled-bg-color: #3B4455;\n",
              "      --disabled-fill-color: #666;\n",
              "  }\n",
              "\n",
              "  .colab-df-quickchart {\n",
              "    background-color: var(--bg-color);\n",
              "    border: none;\n",
              "    border-radius: 50%;\n",
              "    cursor: pointer;\n",
              "    display: none;\n",
              "    fill: var(--fill-color);\n",
              "    height: 32px;\n",
              "    padding: 0;\n",
              "    width: 32px;\n",
              "  }\n",
              "\n",
              "  .colab-df-quickchart:hover {\n",
              "    background-color: var(--hover-bg-color);\n",
              "    box-shadow: 0 1px 2px rgba(60, 64, 67, 0.3), 0 1px 3px 1px rgba(60, 64, 67, 0.15);\n",
              "    fill: var(--button-hover-fill-color);\n",
              "  }\n",
              "\n",
              "  .colab-df-quickchart-complete:disabled,\n",
              "  .colab-df-quickchart-complete:disabled:hover {\n",
              "    background-color: var(--disabled-bg-color);\n",
              "    fill: var(--disabled-fill-color);\n",
              "    box-shadow: none;\n",
              "  }\n",
              "\n",
              "  .colab-df-spinner {\n",
              "    border: 2px solid var(--fill-color);\n",
              "    border-color: transparent;\n",
              "    border-bottom-color: var(--fill-color);\n",
              "    animation:\n",
              "      spin 1s steps(1) infinite;\n",
              "  }\n",
              "\n",
              "  @keyframes spin {\n",
              "    0% {\n",
              "      border-color: transparent;\n",
              "      border-bottom-color: var(--fill-color);\n",
              "      border-left-color: var(--fill-color);\n",
              "    }\n",
              "    20% {\n",
              "      border-color: transparent;\n",
              "      border-left-color: var(--fill-color);\n",
              "      border-top-color: var(--fill-color);\n",
              "    }\n",
              "    30% {\n",
              "      border-color: transparent;\n",
              "      border-left-color: var(--fill-color);\n",
              "      border-top-color: var(--fill-color);\n",
              "      border-right-color: var(--fill-color);\n",
              "    }\n",
              "    40% {\n",
              "      border-color: transparent;\n",
              "      border-right-color: var(--fill-color);\n",
              "      border-top-color: var(--fill-color);\n",
              "    }\n",
              "    60% {\n",
              "      border-color: transparent;\n",
              "      border-right-color: var(--fill-color);\n",
              "    }\n",
              "    80% {\n",
              "      border-color: transparent;\n",
              "      border-right-color: var(--fill-color);\n",
              "      border-bottom-color: var(--fill-color);\n",
              "    }\n",
              "    90% {\n",
              "      border-color: transparent;\n",
              "      border-bottom-color: var(--fill-color);\n",
              "    }\n",
              "  }\n",
              "</style>\n",
              "\n",
              "      <script>\n",
              "        async function quickchart(key) {\n",
              "          const quickchartButtonEl =\n",
              "            document.querySelector('#' + key + ' button');\n",
              "          quickchartButtonEl.disabled = true;  // To prevent multiple clicks.\n",
              "          quickchartButtonEl.classList.add('colab-df-spinner');\n",
              "          try {\n",
              "            const charts = await google.colab.kernel.invokeFunction(\n",
              "                'suggestCharts', [key], {});\n",
              "          } catch (error) {\n",
              "            console.error('Error during call to suggestCharts:', error);\n",
              "          }\n",
              "          quickchartButtonEl.classList.remove('colab-df-spinner');\n",
              "          quickchartButtonEl.classList.add('colab-df-quickchart-complete');\n",
              "        }\n",
              "        (() => {\n",
              "          let quickchartButtonEl =\n",
              "            document.querySelector('#df-1a1aded2-e6ed-416b-886d-6792ada7baa5 button');\n",
              "          quickchartButtonEl.style.display =\n",
              "            google.colab.kernel.accessAllowed ? 'block' : 'none';\n",
              "        })();\n",
              "      </script>\n",
              "    </div>\n",
              "\n",
              "    </div>\n",
              "  </div>\n"
            ],
            "text/plain": [
              "                                                                                                                                                                                                                                                                                                                                                                                                                                                                                                                                                                                                                                                                                                                                                                               0  \\\n",
              "id                                                                                                                                                                                                                                                                                                                                                                                                                                                                                                                                                                                                                                                                                                                                                                       7787044   \n",
              "type                                                                                                                                                                                                                                                                                                                                                                                                                                                                                                                                                                                                                                                                                                                                                                       HOTEL   \n",
              "name                                                                                                                                                                                                                                                                                                                                                                                                                                                                                                                                                                                                                                                                                                                                                           Faena Miami Beach   \n",
              "image                                                                                                                                                                                                                                                                                                                                                                                                                                                                                                                                                                                                                                                                                              https://media-cdn.tripadvisor.com/media/photo-o/1d/78/a4/13/exterior-view.jpg   \n",
              "awards                                                                                                                                                                                                                                                                                                                                                                                                                                                                                                                                                                                                                                                                                                                                                                        []   \n",
              "rankingPosition                                                                                                                                                                                                                                                                                                                                                                                                                                                                                                                                                                                                                                                                                                                                                                5   \n",
              "priceLevel                                                                                                                                                                                                                                                                                                                                                                                                                                                                                                                                                                                                                                                                                                                                                                  $$$$   \n",
              "priceRange                                                                                                                                                                                                                                                                                                                                                                                                                                                                                                                                                                                                                                                                                                                                                         $729 - $1,426   \n",
              "category                                                                                                                                                                                                                                                                                                                                                                                                                                                                                                                                                                                                                                                                                                                                                                   hotel   \n",
              "rating                                                                                                                                                                                                                                                                                                                                                                                                                                                                                                                                                                                                                                                                                                                                                                       4.5   \n",
              "hotelClass                                                                                                                                                                                                                                                                                                                                                                                                                                                                                                                                                                                                                                                                                                                                                                   0.0   \n",
              "hotelClassAttribution                                                                                                                                                                                                                                                                                                                                                                                                                                                                                                                                                                                                                                                                                                                                                        NaN   \n",
              "phone                                                                                                                                                                                                                                                                                                                                                                                                                                                                                                                                                                                                                                                                                                                                                                13055348800   \n",
              "address                                                                                                                                                                                                                                                                                                                                                                                                                                                                                                                                                                                                                                                                                                              3201 Collins Ave Faena District, Miami Beach, FL 33140-4023   \n",
              "email                                                                                                                                                                                                                                                                                                                                                                                                                                                                                                                                                                                                                                                                                                                                          reservations-miamibeach@faena.com   \n",
              "amenities                                                                                                                                                                                                                                                                                                                                                                                                                                                                                                                                                                                                                                                                                                                                                                     []   \n",
              "numberOfRooms                                                                                                                                                                                                                                                                                                                                                                                                                                                                                                                                                                                                                                                                                                                                                                179   \n",
              "prices                                                                                                                                                                                                                                                                                                                                                                                                                                                                                                                                                                                                                                                                                                                                                                        []   \n",
              "latitude                                                                                                                                                                                                                                                                                                                                                                                                                                                                                                                                                                                                                                                                                                                                                               25.807375   \n",
              "longitude                                                                                                                                                                                                                                                                                                                                                                                                                                                                                                                                                                                                                                                                                                                                                              -80.12364   \n",
              "webUrl                                                                                                                                                                                                                                                                                                                                                                                                                                                                                                                                                                                                                                                               https://www.tripadvisor.com/Hotel_Review-g34439-d7787044-Reviews-Faena_Miami_Beach-Miami_Beach_Florida.html   \n",
              "website                                                                                                                                                                                                                                                                                                                                                                                                                                                                                                                                                                                                                                                                                                                                        https://www.faena.com/miami-beach   \n",
              "rankingString                                                                                                                                                                                                                                                                                                                                                                                                                                                                                                                                                                                                                                                                                                                                    #5 of 235 hotels in Miami Beach   \n",
              "rankingDenominator                                                                                                                                                                                                                                                                                                                                                                                                                                                                                                                                                                                                                                                                                                                                                           235   \n",
              "numberOfReviews                                                                                                                                                                                                                                                                                                                                                                                                                                                                                                                                                                                                                                                                                                                                                             2123   \n",
              "review                 Hands down my absolute favorite hotel in South Beach—there’s no place I’d rather stay. I’ve been back four times in the past six months –each experience is better than the last and I always look forward to coming back. As impressive as the hotel is, the team of people are what make each stay exceptional. Everyone is so friendly and they go out of their way to ensure that I have a perfect stay every single time. Petar in particular always ensures that my stay is wonderful every time and gives me total peace of mind every time I stay there - I never have to worry about a thing and he goes above and beyond to provide excellent service.\\n\\nI’ve stayed at many hotels in South Beach/Miami and they’re in a league of their own.   \n",
              "title                                                                                                                                                                                                                                                                                                                                                                                                                                                                                                                                                                                                                                                                                                                             My favorite hotel in Miami--Petar is the best!   \n",
              "\n",
              "                                                                                                                                                                                                                                                                                                                                                                                                                                    1  \n",
              "id                                                                                                                                                                                                                                                                                                                                                                                                                            7787044  \n",
              "type                                                                                                                                                                                                                                                                                                                                                                                                                            HOTEL  \n",
              "name                                                                                                                                                                                                                                                                                                                                                                                                                Faena Miami Beach  \n",
              "image                                                                                                                                                                                                                                                                                                                                                   https://media-cdn.tripadvisor.com/media/photo-o/1d/78/a4/13/exterior-view.jpg  \n",
              "awards                                                                                                                                                                                                                                                                                                                                                                                                                             []  \n",
              "rankingPosition                                                                                                                                                                                                                                                                                                                                                                                                                     5  \n",
              "priceLevel                                                                                                                                                                                                                                                                                                                                                                                                                       $$$$  \n",
              "priceRange                                                                                                                                                                                                                                                                                                                                                                                                              $729 - $1,426  \n",
              "category                                                                                                                                                                                                                                                                                                                                                                                                                        hotel  \n",
              "rating                                                                                                                                                                                                                                                                                                                                                                                                                            4.5  \n",
              "hotelClass                                                                                                                                                                                                                                                                                                                                                                                                                        0.0  \n",
              "hotelClassAttribution                                                                                                                                                                                                                                                                                                                                                                                                             NaN  \n",
              "phone                                                                                                                                                                                                                                                                                                                                                                                                                     13055348800  \n",
              "address                                                                                                                                                                                                                                                                                                                                                                   3201 Collins Ave Faena District, Miami Beach, FL 33140-4023  \n",
              "email                                                                                                                                                                                                                                                                                                                                                                                               reservations-miamibeach@faena.com  \n",
              "amenities                                                                                                                                                                                                                                                                                                                                                                                                                          []  \n",
              "numberOfRooms                                                                                                                                                                                                                                                                                                                                                                                                                     179  \n",
              "prices                                                                                                                                                                                                                                                                                                                                                                                                                             []  \n",
              "latitude                                                                                                                                                                                                                                                                                                                                                                                                                    25.807375  \n",
              "longitude                                                                                                                                                                                                                                                                                                                                                                                                                   -80.12364  \n",
              "webUrl                                                                                                                                                                                                                                                                                                                    https://www.tripadvisor.com/Hotel_Review-g34439-d7787044-Reviews-Faena_Miami_Beach-Miami_Beach_Florida.html  \n",
              "website                                                                                                                                                                                                                                                                                                                                                                                             https://www.faena.com/miami-beach  \n",
              "rankingString                                                                                                                                                                                                                                                                                                                                                                                         #5 of 235 hotels in Miami Beach  \n",
              "rankingDenominator                                                                                                                                                                                                                                                                                                                                                                                                                235  \n",
              "numberOfReviews                                                                                                                                                                                                                                                                                                                                                                                                                  2123  \n",
              "review                 There are not enough words to explain the sumptuousness and comfortable elegance you are treated to as a guest at Faena. Their holistic approach to relaxation and community is in paralleled. While every area was wonderful, standouts were Los Fuegos and the Spa. Their staff is magnificent and know how to care for your every whim. Thank you Solange for the welcome and checking!\\n\\nWe will be back!  \n",
              "title                                                                                                                                                                                                                                                                                                                                                                                                                  Exquisite Stay  "
            ]
          },
          "execution_count": 127,
          "metadata": {},
          "output_type": "execute_result"
        }
      ],
      "source": [
        "df.head(2).T"
      ]
    },
    {
      "cell_type": "code",
      "execution_count": null,
      "metadata": {
        "colab": {
          "base_uri": "https://localhost:8080/",
          "height": 1000
        },
        "id": "Ri44aPGqvFqK",
        "outputId": "4cff07b3-6150-4c78-f705-debe65365147"
      },
      "outputs": [
        {
          "data": {
            "text/html": [
              "\n",
              "    <style>\n",
              "      pre {\n",
              "          white-space: pre-wrap;  /* Enable word-wrapping in code/output blocks */\n",
              "      }\n",
              "    </style>\n",
              "    "
            ],
            "text/plain": [
              "<IPython.core.display.HTML object>"
            ]
          },
          "metadata": {},
          "output_type": "display_data"
        },
        {
          "data": {
            "text/html": [
              "\n",
              "    <style>\n",
              "      pre {\n",
              "          white-space: pre-wrap;  /* Enable word-wrapping in code/output blocks */\n",
              "      }\n",
              "    </style>\n",
              "    "
            ],
            "text/plain": [
              "<IPython.core.display.HTML object>"
            ]
          },
          "metadata": {},
          "output_type": "display_data"
        },
        {
          "data": {
            "text/html": [
              "\n",
              "    <style>\n",
              "      pre {\n",
              "          white-space: pre-wrap;  /* Enable word-wrapping in code/output blocks */\n",
              "      }\n",
              "    </style>\n",
              "    "
            ],
            "text/plain": [
              "<IPython.core.display.HTML object>"
            ]
          },
          "metadata": {},
          "output_type": "display_data"
        },
        {
          "data": {
            "text/html": [
              "\n",
              "    <style>\n",
              "      pre {\n",
              "          white-space: pre-wrap;  /* Enable word-wrapping in code/output blocks */\n",
              "      }\n",
              "    </style>\n",
              "    "
            ],
            "text/plain": [
              "<IPython.core.display.HTML object>"
            ]
          },
          "metadata": {},
          "output_type": "display_data"
        },
        {
          "data": {
            "text/html": [
              "\n",
              "    <style>\n",
              "      pre {\n",
              "          white-space: pre-wrap;  /* Enable word-wrapping in code/output blocks */\n",
              "      }\n",
              "    </style>\n",
              "    "
            ],
            "text/plain": [
              "<IPython.core.display.HTML object>"
            ]
          },
          "metadata": {},
          "output_type": "display_data"
        },
        {
          "data": {
            "application/vnd.google.colaboratory.intrinsic+json": {
              "type": "dataframe",
              "variable_name": "df_five"
            },
            "text/html": [
              "\n",
              "  <div id=\"df-e88a8db2-ab48-477a-84ce-e245d207ac59\" class=\"colab-df-container\">\n",
              "    <div>\n",
              "<style scoped>\n",
              "    .dataframe tbody tr th:only-of-type {\n",
              "        vertical-align: middle;\n",
              "    }\n",
              "\n",
              "    .dataframe tbody tr th {\n",
              "        vertical-align: top;\n",
              "    }\n",
              "\n",
              "    .dataframe thead th {\n",
              "        text-align: right;\n",
              "    }\n",
              "</style>\n",
              "<table border=\"1\" class=\"dataframe\">\n",
              "  <thead>\n",
              "    <tr style=\"text-align: right;\">\n",
              "      <th></th>\n",
              "      <th>id</th>\n",
              "      <th>type</th>\n",
              "      <th>name</th>\n",
              "      <th>image</th>\n",
              "      <th>awards</th>\n",
              "      <th>rankingPosition</th>\n",
              "      <th>priceLevel</th>\n",
              "      <th>priceRange</th>\n",
              "      <th>category</th>\n",
              "      <th>rating</th>\n",
              "      <th>...</th>\n",
              "      <th>prices</th>\n",
              "      <th>latitude</th>\n",
              "      <th>longitude</th>\n",
              "      <th>webUrl</th>\n",
              "      <th>website</th>\n",
              "      <th>rankingString</th>\n",
              "      <th>rankingDenominator</th>\n",
              "      <th>numberOfReviews</th>\n",
              "      <th>review</th>\n",
              "      <th>title</th>\n",
              "    </tr>\n",
              "  </thead>\n",
              "  <tbody>\n",
              "    <tr>\n",
              "      <th>0</th>\n",
              "      <td>7787044</td>\n",
              "      <td>HOTEL</td>\n",
              "      <td>Faena Miami Beach</td>\n",
              "      <td>https://media-cdn.tripadvisor.com/media/photo-o/1d/78/a4/13/exterior-view.jpg</td>\n",
              "      <td>[]</td>\n",
              "      <td>5</td>\n",
              "      <td>$$$$</td>\n",
              "      <td>$729 - $1,426</td>\n",
              "      <td>hotel</td>\n",
              "      <td>4.5</td>\n",
              "      <td>...</td>\n",
              "      <td>[]</td>\n",
              "      <td>25.807375</td>\n",
              "      <td>-80.12364</td>\n",
              "      <td>https://www.tripadvisor.com/Hotel_Review-g34439-d7787044-Reviews-Faena_Miami_Beach-Miami_Beach_Florida.html</td>\n",
              "      <td>https://www.faena.com/miami-beach</td>\n",
              "      <td>#5 of 235 hotels in Miami Beach</td>\n",
              "      <td>235</td>\n",
              "      <td>2123</td>\n",
              "      <td>Hands down my absolute favorite hotel in South Beach—there’s no place I’d rather stay. I’ve been back four times in the past six months –each experience is better than the last and I always look forward to coming back. As impressive as the hotel is, the team of people are what make each stay exceptional. Everyone is so friendly and they go out of their way to ensure that I have a perfect stay every single time. Petar in particular always ensures that my stay is wonderful every time and gives me total peace of mind every time I stay there - I never have to worry about a thing and he goes above and beyond to provide excellent service.\\n\\nI’ve stayed at many hotels in South Beach/Miami and they’re in a league of their own.</td>\n",
              "      <td>My favorite hotel in Miami--Petar is the best!</td>\n",
              "    </tr>\n",
              "    <tr>\n",
              "      <th>1</th>\n",
              "      <td>7787044</td>\n",
              "      <td>HOTEL</td>\n",
              "      <td>Faena Miami Beach</td>\n",
              "      <td>https://media-cdn.tripadvisor.com/media/photo-o/1d/78/a4/13/exterior-view.jpg</td>\n",
              "      <td>[]</td>\n",
              "      <td>5</td>\n",
              "      <td>$$$$</td>\n",
              "      <td>$729 - $1,426</td>\n",
              "      <td>hotel</td>\n",
              "      <td>4.5</td>\n",
              "      <td>...</td>\n",
              "      <td>[]</td>\n",
              "      <td>25.807375</td>\n",
              "      <td>-80.12364</td>\n",
              "      <td>https://www.tripadvisor.com/Hotel_Review-g34439-d7787044-Reviews-Faena_Miami_Beach-Miami_Beach_Florida.html</td>\n",
              "      <td>https://www.faena.com/miami-beach</td>\n",
              "      <td>#5 of 235 hotels in Miami Beach</td>\n",
              "      <td>235</td>\n",
              "      <td>2123</td>\n",
              "      <td>There are not enough words to explain the sumptuousness and comfortable elegance you are treated to as a guest at Faena. Their holistic approach to relaxation and community is in paralleled. While every area was wonderful, standouts were Los Fuegos and the Spa. Their staff is magnificent and know how to care for your every whim. Thank you Solange for the welcome and checking!\\n\\nWe will be back!</td>\n",
              "      <td>Exquisite Stay</td>\n",
              "    </tr>\n",
              "    <tr>\n",
              "      <th>2</th>\n",
              "      <td>7787044</td>\n",
              "      <td>HOTEL</td>\n",
              "      <td>Faena Miami Beach</td>\n",
              "      <td>https://media-cdn.tripadvisor.com/media/photo-o/1d/78/a4/13/exterior-view.jpg</td>\n",
              "      <td>[]</td>\n",
              "      <td>5</td>\n",
              "      <td>$$$$</td>\n",
              "      <td>$729 - $1,426</td>\n",
              "      <td>hotel</td>\n",
              "      <td>4.5</td>\n",
              "      <td>...</td>\n",
              "      <td>[]</td>\n",
              "      <td>25.807375</td>\n",
              "      <td>-80.12364</td>\n",
              "      <td>https://www.tripadvisor.com/Hotel_Review-g34439-d7787044-Reviews-Faena_Miami_Beach-Miami_Beach_Florida.html</td>\n",
              "      <td>https://www.faena.com/miami-beach</td>\n",
              "      <td>#5 of 235 hotels in Miami Beach</td>\n",
              "      <td>235</td>\n",
              "      <td>2123</td>\n",
              "      <td>I went for the Burlesque show which was absolutely amazing. The service was top tier. My bartender was Patty, my drinks were great, one of the best whiskey sours I've had. My server Tatiana was awesome, so sweet and attentive. I highly recommend the show if you get a chance and ask for Patty at the bar</td>\n",
              "      <td>Burlesqu Show</td>\n",
              "    </tr>\n",
              "    <tr>\n",
              "      <th>3</th>\n",
              "      <td>7787044</td>\n",
              "      <td>HOTEL</td>\n",
              "      <td>Faena Miami Beach</td>\n",
              "      <td>https://media-cdn.tripadvisor.com/media/photo-o/1d/78/a4/13/exterior-view.jpg</td>\n",
              "      <td>[]</td>\n",
              "      <td>5</td>\n",
              "      <td>$$$$</td>\n",
              "      <td>$729 - $1,426</td>\n",
              "      <td>hotel</td>\n",
              "      <td>4.5</td>\n",
              "      <td>...</td>\n",
              "      <td>[]</td>\n",
              "      <td>25.807375</td>\n",
              "      <td>-80.12364</td>\n",
              "      <td>https://www.tripadvisor.com/Hotel_Review-g34439-d7787044-Reviews-Faena_Miami_Beach-Miami_Beach_Florida.html</td>\n",
              "      <td>https://www.faena.com/miami-beach</td>\n",
              "      <td>#5 of 235 hotels in Miami Beach</td>\n",
              "      <td>235</td>\n",
              "      <td>2123</td>\n",
              "      <td>Dana at Gitano made the night magical! He makes me want to fly to Miami from Chicago for dinner so he can be my server! The hotel is smart to have Dana as a brand ambassador!  Well done Faena Hotel for this!</td>\n",
              "      <td>Dana at Gitano is a rockstar!</td>\n",
              "    </tr>\n",
              "    <tr>\n",
              "      <th>4</th>\n",
              "      <td>7787044</td>\n",
              "      <td>HOTEL</td>\n",
              "      <td>Faena Miami Beach</td>\n",
              "      <td>https://media-cdn.tripadvisor.com/media/photo-o/1d/78/a4/13/exterior-view.jpg</td>\n",
              "      <td>[]</td>\n",
              "      <td>5</td>\n",
              "      <td>$$$$</td>\n",
              "      <td>$729 - $1,426</td>\n",
              "      <td>hotel</td>\n",
              "      <td>4.5</td>\n",
              "      <td>...</td>\n",
              "      <td>[]</td>\n",
              "      <td>25.807375</td>\n",
              "      <td>-80.12364</td>\n",
              "      <td>https://www.tripadvisor.com/Hotel_Review-g34439-d7787044-Reviews-Faena_Miami_Beach-Miami_Beach_Florida.html</td>\n",
              "      <td>https://www.faena.com/miami-beach</td>\n",
              "      <td>#5 of 235 hotels in Miami Beach</td>\n",
              "      <td>235</td>\n",
              "      <td>2123</td>\n",
              "      <td>I would like to give our very very heartfelt thanks to Mr. Raúl  Díaz, the Reservations Supervisor  ! He was just so helpful and kind ! He just did an amazing Service ! So when ever you planning to go to Miami you have to stay at the Faena Miami and have to get in contact with Mr. Díaz !</td>\n",
              "      <td>Perfect Place</td>\n",
              "    </tr>\n",
              "  </tbody>\n",
              "</table>\n",
              "<p>5 rows × 26 columns</p>\n",
              "</div>\n",
              "    <div class=\"colab-df-buttons\">\n",
              "\n",
              "  <div class=\"colab-df-container\">\n",
              "    <button class=\"colab-df-convert\" onclick=\"convertToInteractive('df-e88a8db2-ab48-477a-84ce-e245d207ac59')\"\n",
              "            title=\"Convert this dataframe to an interactive table.\"\n",
              "            style=\"display:none;\">\n",
              "\n",
              "  <svg xmlns=\"http://www.w3.org/2000/svg\" height=\"24px\" viewBox=\"0 -960 960 960\">\n",
              "    <path d=\"M120-120v-720h720v720H120Zm60-500h600v-160H180v160Zm220 220h160v-160H400v160Zm0 220h160v-160H400v160ZM180-400h160v-160H180v160Zm440 0h160v-160H620v160ZM180-180h160v-160H180v160Zm440 0h160v-160H620v160Z\"/>\n",
              "  </svg>\n",
              "    </button>\n",
              "\n",
              "  <style>\n",
              "    .colab-df-container {\n",
              "      display:flex;\n",
              "      gap: 12px;\n",
              "    }\n",
              "\n",
              "    .colab-df-convert {\n",
              "      background-color: #E8F0FE;\n",
              "      border: none;\n",
              "      border-radius: 50%;\n",
              "      cursor: pointer;\n",
              "      display: none;\n",
              "      fill: #1967D2;\n",
              "      height: 32px;\n",
              "      padding: 0 0 0 0;\n",
              "      width: 32px;\n",
              "    }\n",
              "\n",
              "    .colab-df-convert:hover {\n",
              "      background-color: #E2EBFA;\n",
              "      box-shadow: 0px 1px 2px rgba(60, 64, 67, 0.3), 0px 1px 3px 1px rgba(60, 64, 67, 0.15);\n",
              "      fill: #174EA6;\n",
              "    }\n",
              "\n",
              "    .colab-df-buttons div {\n",
              "      margin-bottom: 4px;\n",
              "    }\n",
              "\n",
              "    [theme=dark] .colab-df-convert {\n",
              "      background-color: #3B4455;\n",
              "      fill: #D2E3FC;\n",
              "    }\n",
              "\n",
              "    [theme=dark] .colab-df-convert:hover {\n",
              "      background-color: #434B5C;\n",
              "      box-shadow: 0px 1px 3px 1px rgba(0, 0, 0, 0.15);\n",
              "      filter: drop-shadow(0px 1px 2px rgba(0, 0, 0, 0.3));\n",
              "      fill: #FFFFFF;\n",
              "    }\n",
              "  </style>\n",
              "\n",
              "    <script>\n",
              "      const buttonEl =\n",
              "        document.querySelector('#df-e88a8db2-ab48-477a-84ce-e245d207ac59 button.colab-df-convert');\n",
              "      buttonEl.style.display =\n",
              "        google.colab.kernel.accessAllowed ? 'block' : 'none';\n",
              "\n",
              "      async function convertToInteractive(key) {\n",
              "        const element = document.querySelector('#df-e88a8db2-ab48-477a-84ce-e245d207ac59');\n",
              "        const dataTable =\n",
              "          await google.colab.kernel.invokeFunction('convertToInteractive',\n",
              "                                                    [key], {});\n",
              "        if (!dataTable) return;\n",
              "\n",
              "        const docLinkHtml = 'Like what you see? Visit the ' +\n",
              "          '<a target=\"_blank\" href=https://colab.research.google.com/notebooks/data_table.ipynb>data table notebook</a>'\n",
              "          + ' to learn more about interactive tables.';\n",
              "        element.innerHTML = '';\n",
              "        dataTable['output_type'] = 'display_data';\n",
              "        await google.colab.output.renderOutput(dataTable, element);\n",
              "        const docLink = document.createElement('div');\n",
              "        docLink.innerHTML = docLinkHtml;\n",
              "        element.appendChild(docLink);\n",
              "      }\n",
              "    </script>\n",
              "  </div>\n",
              "\n",
              "\n",
              "    <div id=\"df-c0897baf-79b7-4e0c-b409-654ac436c504\">\n",
              "      <button class=\"colab-df-quickchart\" onclick=\"quickchart('df-c0897baf-79b7-4e0c-b409-654ac436c504')\"\n",
              "                title=\"Suggest charts\"\n",
              "                style=\"display:none;\">\n",
              "\n",
              "<svg xmlns=\"http://www.w3.org/2000/svg\" height=\"24px\"viewBox=\"0 0 24 24\"\n",
              "     width=\"24px\">\n",
              "    <g>\n",
              "        <path d=\"M19 3H5c-1.1 0-2 .9-2 2v14c0 1.1.9 2 2 2h14c1.1 0 2-.9 2-2V5c0-1.1-.9-2-2-2zM9 17H7v-7h2v7zm4 0h-2V7h2v10zm4 0h-2v-4h2v4z\"/>\n",
              "    </g>\n",
              "</svg>\n",
              "      </button>\n",
              "\n",
              "<style>\n",
              "  .colab-df-quickchart {\n",
              "      --bg-color: #E8F0FE;\n",
              "      --fill-color: #1967D2;\n",
              "      --hover-bg-color: #E2EBFA;\n",
              "      --hover-fill-color: #174EA6;\n",
              "      --disabled-fill-color: #AAA;\n",
              "      --disabled-bg-color: #DDD;\n",
              "  }\n",
              "\n",
              "  [theme=dark] .colab-df-quickchart {\n",
              "      --bg-color: #3B4455;\n",
              "      --fill-color: #D2E3FC;\n",
              "      --hover-bg-color: #434B5C;\n",
              "      --hover-fill-color: #FFFFFF;\n",
              "      --disabled-bg-color: #3B4455;\n",
              "      --disabled-fill-color: #666;\n",
              "  }\n",
              "\n",
              "  .colab-df-quickchart {\n",
              "    background-color: var(--bg-color);\n",
              "    border: none;\n",
              "    border-radius: 50%;\n",
              "    cursor: pointer;\n",
              "    display: none;\n",
              "    fill: var(--fill-color);\n",
              "    height: 32px;\n",
              "    padding: 0;\n",
              "    width: 32px;\n",
              "  }\n",
              "\n",
              "  .colab-df-quickchart:hover {\n",
              "    background-color: var(--hover-bg-color);\n",
              "    box-shadow: 0 1px 2px rgba(60, 64, 67, 0.3), 0 1px 3px 1px rgba(60, 64, 67, 0.15);\n",
              "    fill: var(--button-hover-fill-color);\n",
              "  }\n",
              "\n",
              "  .colab-df-quickchart-complete:disabled,\n",
              "  .colab-df-quickchart-complete:disabled:hover {\n",
              "    background-color: var(--disabled-bg-color);\n",
              "    fill: var(--disabled-fill-color);\n",
              "    box-shadow: none;\n",
              "  }\n",
              "\n",
              "  .colab-df-spinner {\n",
              "    border: 2px solid var(--fill-color);\n",
              "    border-color: transparent;\n",
              "    border-bottom-color: var(--fill-color);\n",
              "    animation:\n",
              "      spin 1s steps(1) infinite;\n",
              "  }\n",
              "\n",
              "  @keyframes spin {\n",
              "    0% {\n",
              "      border-color: transparent;\n",
              "      border-bottom-color: var(--fill-color);\n",
              "      border-left-color: var(--fill-color);\n",
              "    }\n",
              "    20% {\n",
              "      border-color: transparent;\n",
              "      border-left-color: var(--fill-color);\n",
              "      border-top-color: var(--fill-color);\n",
              "    }\n",
              "    30% {\n",
              "      border-color: transparent;\n",
              "      border-left-color: var(--fill-color);\n",
              "      border-top-color: var(--fill-color);\n",
              "      border-right-color: var(--fill-color);\n",
              "    }\n",
              "    40% {\n",
              "      border-color: transparent;\n",
              "      border-right-color: var(--fill-color);\n",
              "      border-top-color: var(--fill-color);\n",
              "    }\n",
              "    60% {\n",
              "      border-color: transparent;\n",
              "      border-right-color: var(--fill-color);\n",
              "    }\n",
              "    80% {\n",
              "      border-color: transparent;\n",
              "      border-right-color: var(--fill-color);\n",
              "      border-bottom-color: var(--fill-color);\n",
              "    }\n",
              "    90% {\n",
              "      border-color: transparent;\n",
              "      border-bottom-color: var(--fill-color);\n",
              "    }\n",
              "  }\n",
              "</style>\n",
              "\n",
              "      <script>\n",
              "        async function quickchart(key) {\n",
              "          const quickchartButtonEl =\n",
              "            document.querySelector('#' + key + ' button');\n",
              "          quickchartButtonEl.disabled = true;  // To prevent multiple clicks.\n",
              "          quickchartButtonEl.classList.add('colab-df-spinner');\n",
              "          try {\n",
              "            const charts = await google.colab.kernel.invokeFunction(\n",
              "                'suggestCharts', [key], {});\n",
              "          } catch (error) {\n",
              "            console.error('Error during call to suggestCharts:', error);\n",
              "          }\n",
              "          quickchartButtonEl.classList.remove('colab-df-spinner');\n",
              "          quickchartButtonEl.classList.add('colab-df-quickchart-complete');\n",
              "        }\n",
              "        (() => {\n",
              "          let quickchartButtonEl =\n",
              "            document.querySelector('#df-c0897baf-79b7-4e0c-b409-654ac436c504 button');\n",
              "          quickchartButtonEl.style.display =\n",
              "            google.colab.kernel.accessAllowed ? 'block' : 'none';\n",
              "        })();\n",
              "      </script>\n",
              "    </div>\n",
              "\n",
              "  <div id=\"id_b20eaa42-ae91-4f61-bf5d-038953a34b04\">\n",
              "    <style>\n",
              "      .colab-df-generate {\n",
              "        background-color: #E8F0FE;\n",
              "        border: none;\n",
              "        border-radius: 50%;\n",
              "        cursor: pointer;\n",
              "        display: none;\n",
              "        fill: #1967D2;\n",
              "        height: 32px;\n",
              "        padding: 0 0 0 0;\n",
              "        width: 32px;\n",
              "      }\n",
              "\n",
              "      .colab-df-generate:hover {\n",
              "        background-color: #E2EBFA;\n",
              "        box-shadow: 0px 1px 2px rgba(60, 64, 67, 0.3), 0px 1px 3px 1px rgba(60, 64, 67, 0.15);\n",
              "        fill: #174EA6;\n",
              "      }\n",
              "\n",
              "      [theme=dark] .colab-df-generate {\n",
              "        background-color: #3B4455;\n",
              "        fill: #D2E3FC;\n",
              "      }\n",
              "\n",
              "      [theme=dark] .colab-df-generate:hover {\n",
              "        background-color: #434B5C;\n",
              "        box-shadow: 0px 1px 3px 1px rgba(0, 0, 0, 0.15);\n",
              "        filter: drop-shadow(0px 1px 2px rgba(0, 0, 0, 0.3));\n",
              "        fill: #FFFFFF;\n",
              "      }\n",
              "    </style>\n",
              "    <button class=\"colab-df-generate\" onclick=\"generateWithVariable('df_five')\"\n",
              "            title=\"Generate code using this dataframe.\"\n",
              "            style=\"display:none;\">\n",
              "\n",
              "  <svg xmlns=\"http://www.w3.org/2000/svg\" height=\"24px\"viewBox=\"0 0 24 24\"\n",
              "       width=\"24px\">\n",
              "    <path d=\"M7,19H8.4L18.45,9,17,7.55,7,17.6ZM5,21V16.75L18.45,3.32a2,2,0,0,1,2.83,0l1.4,1.43a1.91,1.91,0,0,1,.58,1.4,1.91,1.91,0,0,1-.58,1.4L9.25,21ZM18.45,9,17,7.55Zm-12,3A5.31,5.31,0,0,0,4.9,8.1,5.31,5.31,0,0,0,1,6.5,5.31,5.31,0,0,0,4.9,4.9,5.31,5.31,0,0,0,6.5,1,5.31,5.31,0,0,0,8.1,4.9,5.31,5.31,0,0,0,12,6.5,5.46,5.46,0,0,0,6.5,12Z\"/>\n",
              "  </svg>\n",
              "    </button>\n",
              "    <script>\n",
              "      (() => {\n",
              "      const buttonEl =\n",
              "        document.querySelector('#id_b20eaa42-ae91-4f61-bf5d-038953a34b04 button.colab-df-generate');\n",
              "      buttonEl.style.display =\n",
              "        google.colab.kernel.accessAllowed ? 'block' : 'none';\n",
              "\n",
              "      buttonEl.onclick = () => {\n",
              "        google.colab.notebook.generateWithVariable('df_five');\n",
              "      }\n",
              "      })();\n",
              "    </script>\n",
              "  </div>\n",
              "\n",
              "    </div>\n",
              "  </div>\n"
            ],
            "text/plain": [
              "        id   type               name  \\\n",
              "0  7787044  HOTEL  Faena Miami Beach   \n",
              "1  7787044  HOTEL  Faena Miami Beach   \n",
              "2  7787044  HOTEL  Faena Miami Beach   \n",
              "3  7787044  HOTEL  Faena Miami Beach   \n",
              "4  7787044  HOTEL  Faena Miami Beach   \n",
              "\n",
              "                                                                           image  \\\n",
              "0  https://media-cdn.tripadvisor.com/media/photo-o/1d/78/a4/13/exterior-view.jpg   \n",
              "1  https://media-cdn.tripadvisor.com/media/photo-o/1d/78/a4/13/exterior-view.jpg   \n",
              "2  https://media-cdn.tripadvisor.com/media/photo-o/1d/78/a4/13/exterior-view.jpg   \n",
              "3  https://media-cdn.tripadvisor.com/media/photo-o/1d/78/a4/13/exterior-view.jpg   \n",
              "4  https://media-cdn.tripadvisor.com/media/photo-o/1d/78/a4/13/exterior-view.jpg   \n",
              "\n",
              "  awards  rankingPosition priceLevel     priceRange category  rating  ...  \\\n",
              "0     []                5       $$$$  $729 - $1,426    hotel     4.5  ...   \n",
              "1     []                5       $$$$  $729 - $1,426    hotel     4.5  ...   \n",
              "2     []                5       $$$$  $729 - $1,426    hotel     4.5  ...   \n",
              "3     []                5       $$$$  $729 - $1,426    hotel     4.5  ...   \n",
              "4     []                5       $$$$  $729 - $1,426    hotel     4.5  ...   \n",
              "\n",
              "   prices   latitude longitude  \\\n",
              "0      []  25.807375 -80.12364   \n",
              "1      []  25.807375 -80.12364   \n",
              "2      []  25.807375 -80.12364   \n",
              "3      []  25.807375 -80.12364   \n",
              "4      []  25.807375 -80.12364   \n",
              "\n",
              "                                                                                                        webUrl  \\\n",
              "0  https://www.tripadvisor.com/Hotel_Review-g34439-d7787044-Reviews-Faena_Miami_Beach-Miami_Beach_Florida.html   \n",
              "1  https://www.tripadvisor.com/Hotel_Review-g34439-d7787044-Reviews-Faena_Miami_Beach-Miami_Beach_Florida.html   \n",
              "2  https://www.tripadvisor.com/Hotel_Review-g34439-d7787044-Reviews-Faena_Miami_Beach-Miami_Beach_Florida.html   \n",
              "3  https://www.tripadvisor.com/Hotel_Review-g34439-d7787044-Reviews-Faena_Miami_Beach-Miami_Beach_Florida.html   \n",
              "4  https://www.tripadvisor.com/Hotel_Review-g34439-d7787044-Reviews-Faena_Miami_Beach-Miami_Beach_Florida.html   \n",
              "\n",
              "                             website                    rankingString  \\\n",
              "0  https://www.faena.com/miami-beach  #5 of 235 hotels in Miami Beach   \n",
              "1  https://www.faena.com/miami-beach  #5 of 235 hotels in Miami Beach   \n",
              "2  https://www.faena.com/miami-beach  #5 of 235 hotels in Miami Beach   \n",
              "3  https://www.faena.com/miami-beach  #5 of 235 hotels in Miami Beach   \n",
              "4  https://www.faena.com/miami-beach  #5 of 235 hotels in Miami Beach   \n",
              "\n",
              "  rankingDenominator  numberOfReviews  \\\n",
              "0                235             2123   \n",
              "1                235             2123   \n",
              "2                235             2123   \n",
              "3                235             2123   \n",
              "4                235             2123   \n",
              "\n",
              "                                                                                                                                                                                                                                                                                                                                                                                                                                                                                                                                                                                                                                                                                                                                                      review  \\\n",
              "0  Hands down my absolute favorite hotel in South Beach—there’s no place I’d rather stay. I’ve been back four times in the past six months –each experience is better than the last and I always look forward to coming back. As impressive as the hotel is, the team of people are what make each stay exceptional. Everyone is so friendly and they go out of their way to ensure that I have a perfect stay every single time. Petar in particular always ensures that my stay is wonderful every time and gives me total peace of mind every time I stay there - I never have to worry about a thing and he goes above and beyond to provide excellent service.\\n\\nI’ve stayed at many hotels in South Beach/Miami and they’re in a league of their own.   \n",
              "1                                                                                                                                                                                                                                                                                                                                             There are not enough words to explain the sumptuousness and comfortable elegance you are treated to as a guest at Faena. Their holistic approach to relaxation and community is in paralleled. While every area was wonderful, standouts were Los Fuegos and the Spa. Their staff is magnificent and know how to care for your every whim. Thank you Solange for the welcome and checking!\\n\\nWe will be back!   \n",
              "2                                                                                                                                                                                                                                                                                                                                                                                                                                            I went for the Burlesque show which was absolutely amazing. The service was top tier. My bartender was Patty, my drinks were great, one of the best whiskey sours I've had. My server Tatiana was awesome, so sweet and attentive. I highly recommend the show if you get a chance and ask for Patty at the bar   \n",
              "3                                                                                                                                                                                                                                                                                                                                                                                                                                                                                                                                            Dana at Gitano made the night magical! He makes me want to fly to Miami from Chicago for dinner so he can be my server! The hotel is smart to have Dana as a brand ambassador!  Well done Faena Hotel for this!   \n",
              "4                                                                                                                                                                                                                                                                                                                                                                                                                                                           I would like to give our very very heartfelt thanks to Mr. Raúl  Díaz, the Reservations Supervisor  ! He was just so helpful and kind ! He just did an amazing Service ! So when ever you planning to go to Miami you have to stay at the Faena Miami and have to get in contact with Mr. Díaz !   \n",
              "\n",
              "                                            title  \n",
              "0  My favorite hotel in Miami--Petar is the best!  \n",
              "1                                  Exquisite Stay  \n",
              "2                                   Burlesqu Show  \n",
              "3                   Dana at Gitano is a rockstar!  \n",
              "4                                   Perfect Place  \n",
              "\n",
              "[5 rows x 26 columns]"
            ]
          },
          "execution_count": 128,
          "metadata": {},
          "output_type": "execute_result"
        }
      ],
      "source": [
        "df_five = df[:5]  # Using only 5 rows for demonstration\n",
        "df_five = df_five.dropna(axis=1)  # Drop columns with null values\n",
        "\n",
        "# Prepare data with metadata for traceability\n",
        "data = []\n",
        "for row_num, row in df_five.iterrows():\n",
        "    content = \" \".join([f\"{col}: {row[col]}\" for col in df_five.columns])\n",
        "    data.append({\n",
        "        \"page_content\": content,\n",
        "        \"metadata\": {\n",
        "            \"source\": row[\"name\"],\n",
        "        }\n",
        "    })\n",
        "df_five"
      ]
    },
    {
      "cell_type": "markdown",
      "metadata": {
        "id": "B5Wfp4Z5D7Eo"
      },
      "source": [
        "## Document Chunking"
      ]
    },
    {
      "cell_type": "code",
      "execution_count": null,
      "metadata": {
        "colab": {
          "base_uri": "https://localhost:8080/",
          "height": 17
        },
        "id": "cnicbr6AD5jq",
        "outputId": "d620f0f1-a45b-4ca4-b427-e28be841a4cb"
      },
      "outputs": [
        {
          "data": {
            "text/html": [
              "\n",
              "    <style>\n",
              "      pre {\n",
              "          white-space: pre-wrap;  /* Enable word-wrapping in code/output blocks */\n",
              "      }\n",
              "    </style>\n",
              "    "
            ],
            "text/plain": [
              "<IPython.core.display.HTML object>"
            ]
          },
          "metadata": {},
          "output_type": "display_data"
        },
        {
          "data": {
            "text/html": [
              "\n",
              "    <style>\n",
              "      pre {\n",
              "          white-space: pre-wrap;  /* Enable word-wrapping in code/output blocks */\n",
              "      }\n",
              "    </style>\n",
              "    "
            ],
            "text/plain": [
              "<IPython.core.display.HTML object>"
            ]
          },
          "metadata": {},
          "output_type": "display_data"
        },
        {
          "data": {
            "text/html": [
              "\n",
              "    <style>\n",
              "      pre {\n",
              "          white-space: pre-wrap;  /* Enable word-wrapping in code/output blocks */\n",
              "      }\n",
              "    </style>\n",
              "    "
            ],
            "text/plain": [
              "<IPython.core.display.HTML object>"
            ]
          },
          "metadata": {},
          "output_type": "display_data"
        },
        {
          "data": {
            "text/html": [
              "\n",
              "    <style>\n",
              "      pre {\n",
              "          white-space: pre-wrap;  /* Enable word-wrapping in code/output blocks */\n",
              "      }\n",
              "    </style>\n",
              "    "
            ],
            "text/plain": [
              "<IPython.core.display.HTML object>"
            ]
          },
          "metadata": {},
          "output_type": "display_data"
        },
        {
          "data": {
            "text/html": [
              "\n",
              "    <style>\n",
              "      pre {\n",
              "          white-space: pre-wrap;  /* Enable word-wrapping in code/output blocks */\n",
              "      }\n",
              "    </style>\n",
              "    "
            ],
            "text/plain": [
              "<IPython.core.display.HTML object>"
            ]
          },
          "metadata": {},
          "output_type": "display_data"
        }
      ],
      "source": [
        "def simple_recursive_split(docs, chunk_size=1000, chunk_overlap=200, separators=None):\n",
        "    # Extract the main text and its associated metadata\n",
        "    text = docs[\"page_content\"]\n",
        "    metadata = docs[\"metadata\"]\n",
        "\n",
        "    # Set default separators if none are provided\n",
        "    if separators is None:\n",
        "        separators = [\"\\n\\n\", \"\\n\", \" \", \".\", \",\", \"\\uff0c\", \"\\u3001\", \"\\uff0e\", \"\\u3002\"]\n",
        "\n",
        "    # Helper function to recursively split text based on the separators\n",
        "    def split_with_separators(t):\n",
        "        # If the text is already within the chunk size, return it directly\n",
        "        if len(t) <= chunk_size:\n",
        "            return [t]\n",
        "\n",
        "        # Attempt splitting by each separator in order\n",
        "        for sep in separators:\n",
        "            if sep and sep in t:\n",
        "                parts = t.split(sep)\n",
        "                chunks = []\n",
        "                current = \"\"\n",
        "\n",
        "                # Build chunks without exceeding the maximum chunk size\n",
        "                for part in parts:\n",
        "                    part += sep  # Reattach the separator to preserve structure\n",
        "                    if len(current + part) <= chunk_size:\n",
        "                        current += part\n",
        "                    else:\n",
        "                        if current:\n",
        "                            chunks.append(current.strip())\n",
        "                        current = part  # Start a new chunk\n",
        "\n",
        "                # Add the final leftover chunk\n",
        "                if current:\n",
        "                    chunks.append(current.strip())\n",
        "\n",
        "                # Recursively re-split chunks that are still too large\n",
        "                result = []\n",
        "                for chunk in chunks:\n",
        "                    if len(chunk) > chunk_size:\n",
        "                        result.extend(split_with_separators(chunk))\n",
        "                    else:\n",
        "                        result.append(chunk)\n",
        "                return result\n",
        "\n",
        "        # Fallback: if no separators are effective, split the text by fixed character lengths\n",
        "        return [t[i:i + chunk_size] for i in range(0, len(t), chunk_size)]\n",
        "\n",
        "    # Split the original text\n",
        "    splits = split_with_separators(text)\n",
        "\n",
        "    # Add overlap between chunks to preserve context between adjacent segments\n",
        "    overlapped = []\n",
        "    for i, chunk in enumerate(splits):\n",
        "        if i == 0:\n",
        "            # First chunk, no overlap\n",
        "            overlapped.append({\n",
        "                \"page_content\": chunk,\n",
        "                \"metadata\": metadata\n",
        "            })\n",
        "        else:\n",
        "            # For subsequent chunks, add overlap from the end of the previous chunk\n",
        "            overlap = splits[i - 1][-chunk_overlap:]\n",
        "            overlapped.append({\n",
        "                \"page_content\": f\"{overlap} {chunk}\",\n",
        "                \"metadata\": metadata\n",
        "            })\n",
        "\n",
        "    return overlapped\n",
        "\n",
        "# Apply the chunking function to each document in the dataset\n",
        "# This flattens all chunks into a single list\n",
        "#texts = [chunk for doc in data for chunk in simple_recursive_split(doc, 2048, 50)]\n",
        "texts = [chunk for doc in data for chunk in simple_recursive_split(doc, 512, 50)]"
      ]
    },
    {
      "cell_type": "code",
      "execution_count": null,
      "metadata": {
        "colab": {
          "base_uri": "https://localhost:8080/",
          "height": 51
        },
        "id": "4e5PFukQEiTW",
        "outputId": "15f30962-46f8-428d-fa7a-efcadd15b08a"
      },
      "outputs": [
        {
          "data": {
            "text/html": [
              "\n",
              "    <style>\n",
              "      pre {\n",
              "          white-space: pre-wrap;  /* Enable word-wrapping in code/output blocks */\n",
              "      }\n",
              "    </style>\n",
              "    "
            ],
            "text/plain": [
              "<IPython.core.display.HTML object>"
            ]
          },
          "metadata": {},
          "output_type": "display_data"
        },
        {
          "data": {
            "text/html": [
              "\n",
              "    <style>\n",
              "      pre {\n",
              "          white-space: pre-wrap;  /* Enable word-wrapping in code/output blocks */\n",
              "      }\n",
              "    </style>\n",
              "    "
            ],
            "text/plain": [
              "<IPython.core.display.HTML object>"
            ]
          },
          "metadata": {},
          "output_type": "display_data"
        },
        {
          "data": {
            "text/html": [
              "\n",
              "    <style>\n",
              "      pre {\n",
              "          white-space: pre-wrap;  /* Enable word-wrapping in code/output blocks */\n",
              "      }\n",
              "    </style>\n",
              "    "
            ],
            "text/plain": [
              "<IPython.core.display.HTML object>"
            ]
          },
          "metadata": {},
          "output_type": "display_data"
        },
        {
          "data": {
            "text/html": [
              "\n",
              "    <style>\n",
              "      pre {\n",
              "          white-space: pre-wrap;  /* Enable word-wrapping in code/output blocks */\n",
              "      }\n",
              "    </style>\n",
              "    "
            ],
            "text/plain": [
              "<IPython.core.display.HTML object>"
            ]
          },
          "metadata": {},
          "output_type": "display_data"
        },
        {
          "data": {
            "text/html": [
              "\n",
              "    <style>\n",
              "      pre {\n",
              "          white-space: pre-wrap;  /* Enable word-wrapping in code/output blocks */\n",
              "      }\n",
              "    </style>\n",
              "    "
            ],
            "text/plain": [
              "<IPython.core.display.HTML object>"
            ]
          },
          "metadata": {},
          "output_type": "display_data"
        },
        {
          "name": "stdout",
          "output_type": "stream",
          "text": [
            "You now have 16 document(s) in your data\n",
            "There are 561 characters in your document\n"
          ]
        }
      ],
      "source": [
        "print (f'You now have {len(texts)} document(s) in your data')\n",
        "print (f'There are {len(texts[1][\"page_content\"])} characters in your document')"
      ]
    },
    {
      "cell_type": "markdown",
      "metadata": {
        "id": "_Hnxr21_EyCw"
      },
      "source": [
        "## Text Embedding Generation"
      ]
    },
    {
      "cell_type": "code",
      "execution_count": null,
      "metadata": {
        "colab": {
          "base_uri": "https://localhost:8080/",
          "height": 51
        },
        "id": "yD7a8lEFExEi",
        "outputId": "fe1784a5-a197-4dfa-f23b-bd0a1985c6bb"
      },
      "outputs": [
        {
          "data": {
            "text/html": [
              "\n",
              "    <style>\n",
              "      pre {\n",
              "          white-space: pre-wrap;  /* Enable word-wrapping in code/output blocks */\n",
              "      }\n",
              "    </style>\n",
              "    "
            ],
            "text/plain": [
              "<IPython.core.display.HTML object>"
            ]
          },
          "metadata": {},
          "output_type": "display_data"
        },
        {
          "data": {
            "text/html": [
              "\n",
              "    <style>\n",
              "      pre {\n",
              "          white-space: pre-wrap;  /* Enable word-wrapping in code/output blocks */\n",
              "      }\n",
              "    </style>\n",
              "    "
            ],
            "text/plain": [
              "<IPython.core.display.HTML object>"
            ]
          },
          "metadata": {},
          "output_type": "display_data"
        },
        {
          "data": {
            "text/html": [
              "\n",
              "    <style>\n",
              "      pre {\n",
              "          white-space: pre-wrap;  /* Enable word-wrapping in code/output blocks */\n",
              "      }\n",
              "    </style>\n",
              "    "
            ],
            "text/plain": [
              "<IPython.core.display.HTML object>"
            ]
          },
          "metadata": {},
          "output_type": "display_data"
        },
        {
          "data": {
            "text/html": [
              "\n",
              "    <style>\n",
              "      pre {\n",
              "          white-space: pre-wrap;  /* Enable word-wrapping in code/output blocks */\n",
              "      }\n",
              "    </style>\n",
              "    "
            ],
            "text/plain": [
              "<IPython.core.display.HTML object>"
            ]
          },
          "metadata": {},
          "output_type": "display_data"
        },
        {
          "data": {
            "text/html": [
              "\n",
              "    <style>\n",
              "      pre {\n",
              "          white-space: pre-wrap;  /* Enable word-wrapping in code/output blocks */\n",
              "      }\n",
              "    </style>\n",
              "    "
            ],
            "text/plain": [
              "<IPython.core.display.HTML object>"
            ]
          },
          "metadata": {},
          "output_type": "display_data"
        },
        {
          "name": "stderr",
          "output_type": "stream",
          "text": [
            "WARNING:transformers_modules.nomic-ai.nomic-bert-2048.7710840340a098cfb869c4f65e87cf2b1b70caca.modeling_hf_nomic_bert:<All keys matched successfully>\n"
          ]
        }
      ],
      "source": [
        "# Load embedding model from HuggingFace \"nomic-ai/nomic-embed-text-v1.5\"\n",
        "# code is asking for a Hugging Face (HF) token because you're trying\n",
        "# to download a model from Hugging Face's private or gated model repository,\n",
        "# specifically:\"nomic-ai/nomic-embed-text-v1.5\"\n",
        "\n",
        "\n",
        "from transformers import AutoTokenizer, AutoModel\n",
        "text_tokenizer = AutoTokenizer.from_pretrained(\"nomic-ai/nomic-embed-text-v1.5\", trust_remote_code=True)\n",
        "text_model = AutoModel.from_pretrained(\"nomic-ai/nomic-embed-text-v1.5\", trust_remote_code=True)\n",
        "\n",
        "# Function to generate embeddings from text\n",
        "def get_text_embeddings(text):\n",
        "    inputs = text_tokenizer(text, return_tensors=\"pt\", padding=True, truncation=True)\n",
        "    outputs = text_model(**inputs)\n",
        "    embeddings = outputs.last_hidden_state.mean(dim=1)\n",
        "    return embeddings[0].detach().numpy()\n",
        "\n",
        "\n",
        "\n"
      ]
    },
    {
      "cell_type": "markdown",
      "metadata": {
        "id": "X05JS3K0dFqN"
      },
      "source": [
        "### How did we get text_embeddings_size as 768?\n",
        "\n",
        "Even for short inputs like \"This is a test sentence.\", transformer models (like nomic-embed-text-v1.5) output a fixed-size embedding—in this case, a 768-dimensional vector. This happens because:\n",
        "\n",
        "The sentence is tokenized into smaller units.\n",
        "\n",
        "Each token is passed through the model to get a 768-dimensional representation.\n",
        "\n",
        "These are then averaged (mean pooling) to create a single 768-dimensional embedding for the whole sentence.\n",
        "\n",
        "The embedding size is determined by the model's architecture, not by the input length.\n",
        "\n",
        "\n",
        "\n",
        "\n",
        "\n",
        "\n",
        "\n",
        "\n"
      ]
    },
    {
      "cell_type": "code",
      "execution_count": null,
      "metadata": {
        "colab": {
          "base_uri": "https://localhost:8080/",
          "height": 51
        },
        "id": "qxhUeF4oZfow",
        "outputId": "b6693741-6ded-4bfe-fef5-c34f82c2c913"
      },
      "outputs": [
        {
          "data": {
            "text/html": [
              "\n",
              "    <style>\n",
              "      pre {\n",
              "          white-space: pre-wrap;  /* Enable word-wrapping in code/output blocks */\n",
              "      }\n",
              "    </style>\n",
              "    "
            ],
            "text/plain": [
              "<IPython.core.display.HTML object>"
            ]
          },
          "metadata": {},
          "output_type": "display_data"
        },
        {
          "data": {
            "text/html": [
              "\n",
              "    <style>\n",
              "      pre {\n",
              "          white-space: pre-wrap;  /* Enable word-wrapping in code/output blocks */\n",
              "      }\n",
              "    </style>\n",
              "    "
            ],
            "text/plain": [
              "<IPython.core.display.HTML object>"
            ]
          },
          "metadata": {},
          "output_type": "display_data"
        },
        {
          "data": {
            "text/html": [
              "\n",
              "    <style>\n",
              "      pre {\n",
              "          white-space: pre-wrap;  /* Enable word-wrapping in code/output blocks */\n",
              "      }\n",
              "    </style>\n",
              "    "
            ],
            "text/plain": [
              "<IPython.core.display.HTML object>"
            ]
          },
          "metadata": {},
          "output_type": "display_data"
        },
        {
          "data": {
            "text/html": [
              "\n",
              "    <style>\n",
              "      pre {\n",
              "          white-space: pre-wrap;  /* Enable word-wrapping in code/output blocks */\n",
              "      }\n",
              "    </style>\n",
              "    "
            ],
            "text/plain": [
              "<IPython.core.display.HTML object>"
            ]
          },
          "metadata": {},
          "output_type": "display_data"
        },
        {
          "data": {
            "text/html": [
              "\n",
              "    <style>\n",
              "      pre {\n",
              "          white-space: pre-wrap;  /* Enable word-wrapping in code/output blocks */\n",
              "      }\n",
              "    </style>\n",
              "    "
            ],
            "text/plain": [
              "<IPython.core.display.HTML object>"
            ]
          },
          "metadata": {},
          "output_type": "display_data"
        },
        {
          "name": "stdout",
          "output_type": "stream",
          "text": [
            "[ 1.2799692   0.40158355 -3.5162656  -0.3981321   1.5919138 ]\n",
            "768\n"
          ]
        }
      ],
      "source": [
        "# Example usage of the function\n",
        "text = \"This is a test sentence.\"\n",
        "\n",
        "# Get the embedding vector for the input text\n",
        "embeddings = get_text_embeddings(text)\n",
        "\n",
        "# Optionally, get the length of the embedding (number of dimensions)\n",
        "text_embeddings_size = len(embeddings)\n",
        "\n",
        "# Print the first 5 values of the embedding vector for inspection\n",
        "print(embeddings[:5])\n",
        "print(text_embeddings_size)"
      ]
    },
    {
      "cell_type": "code",
      "execution_count": null,
      "metadata": {
        "colab": {
          "base_uri": "https://localhost:8080/",
          "height": 17
        },
        "id": "PY7ArMe1E6F6",
        "outputId": "cc7380b0-8a86-4878-bb6e-57d40cd5d25a"
      },
      "outputs": [
        {
          "data": {
            "text/html": [
              "\n",
              "    <style>\n",
              "      pre {\n",
              "          white-space: pre-wrap;  /* Enable word-wrapping in code/output blocks */\n",
              "      }\n",
              "    </style>\n",
              "    "
            ],
            "text/plain": [
              "<IPython.core.display.HTML object>"
            ]
          },
          "metadata": {},
          "output_type": "display_data"
        },
        {
          "data": {
            "text/html": [
              "\n",
              "    <style>\n",
              "      pre {\n",
              "          white-space: pre-wrap;  /* Enable word-wrapping in code/output blocks */\n",
              "      }\n",
              "    </style>\n",
              "    "
            ],
            "text/plain": [
              "<IPython.core.display.HTML object>"
            ]
          },
          "metadata": {},
          "output_type": "display_data"
        },
        {
          "data": {
            "text/html": [
              "\n",
              "    <style>\n",
              "      pre {\n",
              "          white-space: pre-wrap;  /* Enable word-wrapping in code/output blocks */\n",
              "      }\n",
              "    </style>\n",
              "    "
            ],
            "text/plain": [
              "<IPython.core.display.HTML object>"
            ]
          },
          "metadata": {},
          "output_type": "display_data"
        },
        {
          "data": {
            "text/html": [
              "\n",
              "    <style>\n",
              "      pre {\n",
              "          white-space: pre-wrap;  /* Enable word-wrapping in code/output blocks */\n",
              "      }\n",
              "    </style>\n",
              "    "
            ],
            "text/plain": [
              "<IPython.core.display.HTML object>"
            ]
          },
          "metadata": {},
          "output_type": "display_data"
        },
        {
          "data": {
            "text/html": [
              "\n",
              "    <style>\n",
              "      pre {\n",
              "          white-space: pre-wrap;  /* Enable word-wrapping in code/output blocks */\n",
              "      }\n",
              "    </style>\n",
              "    "
            ],
            "text/plain": [
              "<IPython.core.display.HTML object>"
            ]
          },
          "metadata": {},
          "output_type": "display_data"
        }
      ],
      "source": [
        "# Generate embeddings for all chunks\n",
        "text_embeded = [get_text_embeddings(document[\"page_content\"]) for document in texts]"
      ]
    },
    {
      "cell_type": "code",
      "execution_count": null,
      "metadata": {
        "colab": {
          "base_uri": "https://localhost:8080/",
          "height": 34
        },
        "id": "uC6HTDIjZSdu",
        "outputId": "4c45530c-6b18-4c16-a942-2117b500461a"
      },
      "outputs": [
        {
          "data": {
            "text/html": [
              "\n",
              "    <style>\n",
              "      pre {\n",
              "          white-space: pre-wrap;  /* Enable word-wrapping in code/output blocks */\n",
              "      }\n",
              "    </style>\n",
              "    "
            ],
            "text/plain": [
              "<IPython.core.display.HTML object>"
            ]
          },
          "metadata": {},
          "output_type": "display_data"
        },
        {
          "data": {
            "text/html": [
              "\n",
              "    <style>\n",
              "      pre {\n",
              "          white-space: pre-wrap;  /* Enable word-wrapping in code/output blocks */\n",
              "      }\n",
              "    </style>\n",
              "    "
            ],
            "text/plain": [
              "<IPython.core.display.HTML object>"
            ]
          },
          "metadata": {},
          "output_type": "display_data"
        },
        {
          "data": {
            "text/html": [
              "\n",
              "    <style>\n",
              "      pre {\n",
              "          white-space: pre-wrap;  /* Enable word-wrapping in code/output blocks */\n",
              "      }\n",
              "    </style>\n",
              "    "
            ],
            "text/plain": [
              "<IPython.core.display.HTML object>"
            ]
          },
          "metadata": {},
          "output_type": "display_data"
        },
        {
          "data": {
            "text/html": [
              "\n",
              "    <style>\n",
              "      pre {\n",
              "          white-space: pre-wrap;  /* Enable word-wrapping in code/output blocks */\n",
              "      }\n",
              "    </style>\n",
              "    "
            ],
            "text/plain": [
              "<IPython.core.display.HTML object>"
            ]
          },
          "metadata": {},
          "output_type": "display_data"
        },
        {
          "data": {
            "text/html": [
              "\n",
              "    <style>\n",
              "      pre {\n",
              "          white-space: pre-wrap;  /* Enable word-wrapping in code/output blocks */\n",
              "      }\n",
              "    </style>\n",
              "    "
            ],
            "text/plain": [
              "<IPython.core.display.HTML object>"
            ]
          },
          "metadata": {},
          "output_type": "display_data"
        },
        {
          "data": {
            "text/plain": [
              "16"
            ]
          },
          "execution_count": 134,
          "metadata": {},
          "output_type": "execute_result"
        }
      ],
      "source": [
        "len(text_embeded)"
      ]
    },
    {
      "cell_type": "code",
      "execution_count": null,
      "metadata": {
        "colab": {
          "base_uri": "https://localhost:8080/",
          "height": 34
        },
        "id": "4viFbFaQf3S5",
        "outputId": "40020c92-4943-4ca3-a55a-5887f1f2d4d3"
      },
      "outputs": [
        {
          "data": {
            "text/html": [
              "\n",
              "    <style>\n",
              "      pre {\n",
              "          white-space: pre-wrap;  /* Enable word-wrapping in code/output blocks */\n",
              "      }\n",
              "    </style>\n",
              "    "
            ],
            "text/plain": [
              "<IPython.core.display.HTML object>"
            ]
          },
          "metadata": {},
          "output_type": "display_data"
        },
        {
          "data": {
            "text/html": [
              "\n",
              "    <style>\n",
              "      pre {\n",
              "          white-space: pre-wrap;  /* Enable word-wrapping in code/output blocks */\n",
              "      }\n",
              "    </style>\n",
              "    "
            ],
            "text/plain": [
              "<IPython.core.display.HTML object>"
            ]
          },
          "metadata": {},
          "output_type": "display_data"
        },
        {
          "data": {
            "text/html": [
              "\n",
              "    <style>\n",
              "      pre {\n",
              "          white-space: pre-wrap;  /* Enable word-wrapping in code/output blocks */\n",
              "      }\n",
              "    </style>\n",
              "    "
            ],
            "text/plain": [
              "<IPython.core.display.HTML object>"
            ]
          },
          "metadata": {},
          "output_type": "display_data"
        },
        {
          "data": {
            "text/html": [
              "\n",
              "    <style>\n",
              "      pre {\n",
              "          white-space: pre-wrap;  /* Enable word-wrapping in code/output blocks */\n",
              "      }\n",
              "    </style>\n",
              "    "
            ],
            "text/plain": [
              "<IPython.core.display.HTML object>"
            ]
          },
          "metadata": {},
          "output_type": "display_data"
        },
        {
          "data": {
            "text/html": [
              "\n",
              "    <style>\n",
              "      pre {\n",
              "          white-space: pre-wrap;  /* Enable word-wrapping in code/output blocks */\n",
              "      }\n",
              "    </style>\n",
              "    "
            ],
            "text/plain": [
              "<IPython.core.display.HTML object>"
            ]
          },
          "metadata": {},
          "output_type": "display_data"
        },
        {
          "data": {
            "text/plain": [
              "(768,)"
            ]
          },
          "execution_count": 135,
          "metadata": {},
          "output_type": "execute_result"
        }
      ],
      "source": [
        "text_embeded[0].shape"
      ]
    },
    {
      "cell_type": "code",
      "execution_count": null,
      "metadata": {
        "colab": {
          "base_uri": "https://localhost:8080/",
          "height": 1000
        },
        "id": "POC0AKTLZtF8",
        "outputId": "a46245fe-b731-4e23-97b1-60274bb4cf7b"
      },
      "outputs": [
        {
          "data": {
            "text/html": [
              "\n",
              "    <style>\n",
              "      pre {\n",
              "          white-space: pre-wrap;  /* Enable word-wrapping in code/output blocks */\n",
              "      }\n",
              "    </style>\n",
              "    "
            ],
            "text/plain": [
              "<IPython.core.display.HTML object>"
            ]
          },
          "metadata": {},
          "output_type": "display_data"
        },
        {
          "data": {
            "text/html": [
              "\n",
              "    <style>\n",
              "      pre {\n",
              "          white-space: pre-wrap;  /* Enable word-wrapping in code/output blocks */\n",
              "      }\n",
              "    </style>\n",
              "    "
            ],
            "text/plain": [
              "<IPython.core.display.HTML object>"
            ]
          },
          "metadata": {},
          "output_type": "display_data"
        },
        {
          "data": {
            "text/html": [
              "\n",
              "    <style>\n",
              "      pre {\n",
              "          white-space: pre-wrap;  /* Enable word-wrapping in code/output blocks */\n",
              "      }\n",
              "    </style>\n",
              "    "
            ],
            "text/plain": [
              "<IPython.core.display.HTML object>"
            ]
          },
          "metadata": {},
          "output_type": "display_data"
        },
        {
          "data": {
            "text/html": [
              "\n",
              "    <style>\n",
              "      pre {\n",
              "          white-space: pre-wrap;  /* Enable word-wrapping in code/output blocks */\n",
              "      }\n",
              "    </style>\n",
              "    "
            ],
            "text/plain": [
              "<IPython.core.display.HTML object>"
            ]
          },
          "metadata": {},
          "output_type": "display_data"
        },
        {
          "data": {
            "text/html": [
              "\n",
              "    <style>\n",
              "      pre {\n",
              "          white-space: pre-wrap;  /* Enable word-wrapping in code/output blocks */\n",
              "      }\n",
              "    </style>\n",
              "    "
            ],
            "text/plain": [
              "<IPython.core.display.HTML object>"
            ]
          },
          "metadata": {},
          "output_type": "display_data"
        },
        {
          "name": "stdout",
          "output_type": "stream",
          "text": [
            "[array([-1.24075592e-01,  1.38791895e+00, -3.15292311e+00, -4.48979825e-01,\n",
            "        7.45368242e-01, -1.73579752e-01,  6.49689138e-01,  3.01164120e-01,\n",
            "       -1.99683815e-01, -6.49454653e-01, -5.71183801e-01, -6.35601044e-01,\n",
            "        1.52062416e+00, -2.42449999e-01,  1.05806664e-01, -6.39356196e-01,\n",
            "       -1.25471783e+00, -3.11308742e-01,  1.39914349e-01, -1.07381904e+00,\n",
            "       -8.00950885e-01, -6.19494140e-01, -1.14544237e+00,  8.29612434e-01,\n",
            "        8.24180007e-01,  6.60494566e-01,  9.07017589e-01,  1.01916826e+00,\n",
            "       -1.67121613e+00, -7.43911505e-01, -4.92422193e-01,  2.46891618e-01,\n",
            "        2.14848012e-01, -4.07480955e-01, -6.42710090e-01, -9.21196043e-01,\n",
            "       -4.47947860e-01,  8.39062691e-01, -5.04525959e-01,  7.48336256e-01,\n",
            "        1.22581947e+00, -5.46440063e-03,  8.59550774e-01,  2.75464326e-01,\n",
            "       -2.03297883e-01, -6.35120749e-01,  2.66190529e-01,  2.02401206e-01,\n",
            "        5.70763767e-01,  1.10834754e+00, -7.39857601e-03,  9.19452131e-01,\n",
            "        1.00824988e+00,  5.56622326e-01,  1.84030831e-01,  2.86131799e-02,\n",
            "       -4.31541532e-01,  9.89795268e-01, -4.73916739e-01,  8.10845912e-01,\n",
            "        1.62216067e+00,  4.60132211e-01,  8.98162782e-01,  1.82123804e+00,\n",
            "        1.42281199e+00,  1.78971589e-01, -8.78821194e-01,  9.19960260e-01,\n",
            "       -9.55707729e-02, -1.19987297e+00,  8.33807051e-01, -3.69162649e-01,\n",
            "       -4.16903049e-01,  4.94539171e-01, -1.38306642e+00,  4.99240041e-01,\n",
            "       -1.28875136e+00, -6.34123981e-01, -9.32345390e-01,  5.79699218e-01,\n",
            "        4.69529718e-01,  5.44137895e-01,  4.51858401e-01, -1.39258361e+00,\n",
            "        3.98934662e-01,  5.70497155e-01, -1.39975801e-01, -5.30890763e-01,\n",
            "        1.40057236e-01,  1.12406187e-01, -1.82394892e-01,  7.20116615e-01,\n",
            "        2.96932966e-01,  1.58920109e-01, -4.73181754e-01,  1.28205621e+00,\n",
            "       -2.20152922e-03,  2.13265419e-02, -3.24980497e-01, -1.07461154e+00,\n",
            "        2.05006331e-01, -2.48744637e-01,  3.45677435e-01,  8.90328139e-02,\n",
            "        1.73818827e-01,  1.16026139e+00, -3.67266349e-02,  6.08940423e-01,\n",
            "       -2.76548386e-01, -2.22908974e-01,  1.30894125e-01,  6.62947958e-03,\n",
            "        2.86928952e-01, -4.43781853e-01, -1.73357561e-01, -4.63795453e-01,\n",
            "        9.83389676e-01, -2.90811807e-01,  1.23238891e-01,  1.63037032e-01,\n",
            "        3.00824940e-01, -3.37697268e-01,  3.30141783e-01,  1.22645104e+00,\n",
            "        3.61517102e-01, -2.89470285e-01, -1.69509724e-01,  4.55104709e-01,\n",
            "        3.02388340e-01, -8.47824454e-01, -9.66823459e-01, -5.68168461e-01,\n",
            "        4.22270179e-01,  2.54857421e-01,  3.72485787e-01,  4.51886542e-02,\n",
            "        6.81874812e-01, -8.07388067e-01,  1.42336443e-01,  4.46532220e-01,\n",
            "        3.85700554e-01,  1.15376329e+00,  1.00261116e+00, -9.63809371e-01,\n",
            "       -4.13106769e-01, -1.13360548e+00,  4.97203767e-01, -2.78572768e-01,\n",
            "        2.57071316e-01,  2.36646891e-01,  3.04633081e-01, -2.41378769e-01,\n",
            "       -3.06115568e-01,  5.76956809e-01, -1.08909518e-01, -8.81436646e-01,\n",
            "       -6.07289016e-01,  5.27989388e-01,  7.66188085e-01,  1.46061659e+00,\n",
            "        1.22425175e+00,  5.42409420e-01, -5.49152911e-01,  4.46028113e-01,\n",
            "       -3.74696702e-01, -1.22470784e+00, -7.47283757e-01,  7.55696058e-01,\n",
            "       -5.95269442e-01, -3.81676525e-01, -5.06744206e-01,  3.65602136e-01,\n",
            "        8.16752136e-01, -1.78669378e-01,  6.62313819e-01, -5.67928180e-02,\n",
            "       -3.26928467e-01, -3.95959839e-02, -2.25317553e-01, -1.57443464e-01,\n",
            "        1.01715994e+00, -6.50606215e-01,  6.14718258e-01,  1.31949079e+00,\n",
            "       -5.56792438e-01, -3.75778168e-01, -3.45962524e-01, -2.85065830e-01,\n",
            "        1.46900624e-01, -5.97607851e-01,  3.57226998e-01,  3.34592104e-01,\n",
            "       -9.95216966e-01,  2.48379081e-01,  6.34499192e-02,  1.92557439e-01,\n",
            "        3.86020422e-01, -3.17920983e-01,  2.98422068e-01, -2.15420619e-01,\n",
            "       -3.30389105e-02,  2.11833999e-01,  2.45604827e-03,  7.81183004e-01,\n",
            "       -7.50873566e-01,  2.76608437e-01, -2.97628939e-01, -2.16260672e-01,\n",
            "       -2.55780041e-01,  9.17465150e-01, -2.32908756e-01, -9.50902820e-01,\n",
            "       -5.67742705e-01,  2.01368898e-01,  9.41894948e-01, -5.28168201e-01,\n",
            "        4.69514549e-01, -4.17515814e-01,  3.97446066e-01,  2.61429429e-01,\n",
            "        7.89436817e-01,  2.47692883e-01,  8.03658903e-01,  4.33253855e-01,\n",
            "        8.27972353e-01,  4.18645054e-01, -8.49805772e-01, -3.58374029e-01,\n",
            "       -1.77801922e-01, -4.14359160e-02, -7.80027434e-02, -1.34973538e+00,\n",
            "        8.50429595e-01,  9.25439656e-01,  2.08448306e-01,  5.57940900e-01,\n",
            "        2.85345167e-01,  8.61718953e-01,  4.27134987e-03,  1.53274853e-02,\n",
            "       -8.51120770e-01,  7.07386494e-01, -6.98173940e-01, -1.55149579e-01,\n",
            "       -1.04519236e+00,  4.14630145e-01, -6.19386494e-01, -6.13820195e-01,\n",
            "        8.08244765e-01,  5.20248532e-01,  1.72553986e-01, -3.59744191e-01,\n",
            "        1.43924832e+00,  1.72036457e+00, -1.01586483e-01,  4.21147086e-02,\n",
            "       -1.28971875e-01,  7.91049957e-01,  2.02770546e-01,  1.13838583e-01,\n",
            "        4.32591081e-01, -1.40804398e+00,  1.26416898e+00, -1.32235086e+00,\n",
            "       -6.65374458e-01, -3.07518214e-01, -6.83068633e-01,  3.47109735e-01,\n",
            "        7.93894529e-02, -7.53187478e-01,  3.83481175e-01,  9.38964784e-01,\n",
            "        7.23496437e-01,  6.70616806e-01,  1.70549586e-01, -3.18484187e-01,\n",
            "        2.95803666e-01, -3.85644168e-01, -6.60936356e-01,  4.65821654e-01,\n",
            "        3.99724156e-01, -1.08210278e+00, -6.68283045e-01,  4.78042871e-01,\n",
            "        3.43879908e-01,  6.20765626e-01,  6.34173810e-01,  7.89169908e-01,\n",
            "        6.43256307e-01, -3.11432667e-02,  5.82091272e-01, -2.34086979e-02,\n",
            "       -1.23459913e-01,  4.95353937e-02,  3.18966568e-01, -3.29941809e-01,\n",
            "        1.39605975e+00,  1.72572896e-01,  5.67684948e-01, -1.83277404e+00,\n",
            "        3.07951689e-01, -5.69463968e-02,  5.89419723e-01,  3.85017872e-01,\n",
            "       -9.72956538e-01,  3.81368458e-01,  2.86749154e-01,  2.74232149e-01,\n",
            "       -3.67490947e-01, -7.34360635e-01, -1.09047270e+00, -6.31326079e-01,\n",
            "       -3.60040516e-02,  1.64251655e-01, -4.53062020e-02,  4.87354845e-01,\n",
            "        2.87443846e-01, -2.40326464e-01,  6.43234968e-01,  3.74483913e-01,\n",
            "        3.24680716e-01, -5.62219918e-01, -1.28739452e+00,  4.65607308e-02,\n",
            "        2.21135050e-01,  5.89815080e-01,  8.51680040e-01,  7.04216242e-01,\n",
            "       -5.14747679e-01,  3.40850294e-01,  3.68537724e-01, -4.44115967e-01,\n",
            "        1.79198116e-01, -1.07049370e+00, -5.40380597e-01,  6.09936118e-02,\n",
            "       -6.89205229e-01,  5.54801524e-01,  1.48482159e-01,  4.62687969e-01,\n",
            "        4.21297878e-01,  2.16452643e-01, -9.10045430e-02, -1.63146687e+00,\n",
            "        2.13572234e-01, -2.45830730e-01, -1.00308090e-01, -5.13398588e-01,\n",
            "        1.43919855e-01,  8.28158557e-01, -5.79467475e-01, -8.24740946e-01,\n",
            "       -1.32996708e-01,  9.06166673e-01,  4.14423615e-01, -3.70477498e-01,\n",
            "       -9.31436941e-02,  1.34842485e-01, -3.26969415e-01,  4.53843057e-01,\n",
            "        1.75089967e+00,  7.09282458e-01,  5.94303310e-01, -5.59414804e-01,\n",
            "        4.53453869e-01,  3.55480641e-01,  5.53920329e-01, -2.75838852e-01,\n",
            "        3.47659409e-01,  1.61789227e-02,  1.93776980e-01,  4.03493971e-01,\n",
            "        8.84829313e-02, -8.00951302e-01, -1.62486687e-01,  5.82639754e-01,\n",
            "       -1.36210299e+00,  6.54159486e-02,  5.38944378e-02,  6.45190358e-01,\n",
            "        2.32981816e-01, -3.94463778e-01,  5.93393862e-01,  5.23209274e-01,\n",
            "        3.76702636e-01, -8.08108151e-01, -2.31647164e-01, -1.27105033e+00,\n",
            "        1.01685852e-01,  2.55880058e-01, -1.39205828e-01, -4.16170359e-01,\n",
            "        2.17269033e-01,  3.74577075e-01,  5.39556205e-01, -2.61067897e-01,\n",
            "        1.09300828e+00,  5.23357987e-01, -1.30083740e+00,  9.73586857e-01,\n",
            "       -7.57029474e-01, -1.06454635e+00,  1.52373910e-02, -1.08876638e-01,\n",
            "        1.82924509e-01,  2.44693577e-01, -8.23157787e-01, -9.68499720e-01,\n",
            "       -4.89715606e-01,  4.92056429e-01,  1.35432571e-01,  7.02531457e-01,\n",
            "        3.50827873e-01, -1.11078358e+00,  3.93193841e-01,  1.21100891e+00,\n",
            "        2.34302714e-01, -5.39558232e-01,  6.49737597e-01, -3.88241947e-01,\n",
            "        1.23877630e-01,  4.65951473e-01,  2.24759728e-01, -6.88643038e-01,\n",
            "        5.21842182e-01, -1.91057265e-01,  6.56481028e-01,  1.12863457e+00,\n",
            "       -1.62371397e-01, -2.98304051e-01,  3.64656150e-01,  9.06465650e-01,\n",
            "       -6.30580708e-02,  3.47572535e-01,  2.75996238e-01,  3.12628716e-01,\n",
            "        1.01511359e-01,  2.32659340e-01,  1.23263359e+00,  6.70875013e-01,\n",
            "       -8.40169370e-01, -4.73104835e-01,  1.29202574e-01,  5.35857439e-01,\n",
            "        1.00767159e+00,  5.32229483e-01, -2.82492220e-01, -1.46494955e-01,\n",
            "       -6.13818206e-02,  3.63347858e-01,  9.69684541e-01, -2.85223663e-01,\n",
            "        8.50944579e-01,  1.95815817e-01,  6.37807548e-01, -1.46300721e+00,\n",
            "        3.66095342e-02,  3.45101058e-01,  5.77187777e-01,  2.31611505e-01,\n",
            "        8.49059463e-01,  9.02766705e-01, -1.61266625e+00,  2.59399638e-02,\n",
            "        1.19134910e-01, -2.22978696e-01,  6.59337580e-01, -4.46329743e-01,\n",
            "        1.30708501e-01,  4.59845126e-01, -4.26102847e-01,  7.20612705e-02,\n",
            "        1.55154064e-01, -1.20307279e+00, -4.79545206e-01,  3.01357478e-01,\n",
            "       -4.40198742e-02,  2.92838037e-01, -1.49302527e-01, -8.91849399e-02,\n",
            "       -4.49157923e-01, -3.78746867e-01, -1.21143913e+00, -7.56710291e-01,\n",
            "       -1.75235599e-01,  8.19903553e-01,  3.85120630e-01, -4.66937065e-01,\n",
            "       -1.28836945e-01,  1.92486852e-01, -6.35223150e-01, -6.29043356e-02,\n",
            "        5.53772561e-02,  8.42668593e-01, -8.45600069e-02, -6.54185832e-01,\n",
            "       -4.92825121e-01,  1.14637911e+00,  4.01726127e-01, -1.84129030e-01,\n",
            "        5.59163928e-01,  2.71003962e-01,  2.60583937e-01, -3.15661371e-01,\n",
            "        1.22708178e+00, -1.10042982e-01,  2.27317736e-02, -1.07193232e+00,\n",
            "        8.07809606e-02,  7.86302269e-01, -4.63992745e-01, -7.45039701e-01,\n",
            "       -2.46700794e-01, -5.84894538e-01,  1.19242764e+00, -8.26581836e-01,\n",
            "       -4.15327437e-02,  5.26282847e-01,  4.22979116e-01,  5.64934552e-01,\n",
            "        2.84864694e-01, -3.14215869e-01, -4.11493540e-01, -1.15576875e+00,\n",
            "       -1.76397192e+00,  1.11189890e+00,  8.94253135e-01, -1.66434002e+00,\n",
            "       -5.01546741e-01, -5.01291215e-01, -3.61757815e-01,  4.08704340e-01,\n",
            "       -1.18293440e+00, -3.38735878e-01, -3.49324316e-01, -1.84785441e-01,\n",
            "       -3.03734150e-02, -2.94701517e-01,  1.20419633e+00,  6.71948493e-01,\n",
            "       -5.79134107e-01, -9.54941154e-01, -5.31277955e-01, -2.76128441e-01,\n",
            "       -8.32946151e-02, -2.23625645e-01, -3.98065656e-01, -7.30974793e-01,\n",
            "       -8.84336174e-01,  7.71177351e-01,  5.08644760e-01, -1.01998711e+00,\n",
            "        8.85154486e-01, -5.96533597e-01,  9.52167690e-01, -1.12328041e+00,\n",
            "       -1.09130180e+00, -3.04031163e-01, -1.39132309e+00, -7.09033608e-01,\n",
            "       -1.30166486e-01, -5.18542528e-01,  9.55679357e-01,  1.02912343e+00,\n",
            "        4.93022621e-01, -3.26084495e-01,  3.90171856e-02,  1.28216036e-02,\n",
            "        2.94228345e-01,  1.02598658e-02, -6.44650638e-01, -1.45411146e+00,\n",
            "        1.54293343e-01, -7.09424853e-01,  1.06006968e+00, -3.74247223e-01,\n",
            "        7.96410739e-01,  3.75685119e-03, -6.13114893e-01, -6.66037738e-01,\n",
            "       -7.60723710e-01,  2.12305129e-01,  4.31320757e-01,  5.71872175e-01,\n",
            "        1.29281655e-01, -7.81744625e-03, -1.31073880e+00, -3.13749075e-01,\n",
            "       -1.43129206e+00, -8.98082078e-01,  7.30260909e-01,  4.53108281e-01,\n",
            "       -4.83417630e-01, -8.87565553e-01,  2.48740107e-01, -2.46281967e-01,\n",
            "        3.32985483e-02, -4.46796626e-01, -1.08115101e+00,  1.16039433e-01,\n",
            "        3.74929816e-01,  3.41178477e-01,  5.43150187e-01, -8.42305839e-01,\n",
            "        3.75961691e-01,  2.07122132e-01,  8.12838674e-02,  3.63817394e-01,\n",
            "       -6.65701985e-01, -2.06536278e-01,  1.27648997e+00,  3.63048166e-01,\n",
            "       -9.88746881e-01, -8.89819503e-01,  1.34055331e-01, -1.46397188e-01,\n",
            "        1.22554386e+00, -6.17950797e-01, -9.88696367e-02,  8.48830417e-02,\n",
            "        2.48451345e-02, -1.21370673e+00, -4.76319432e-01, -2.71694958e-01,\n",
            "        1.06041610e+00, -2.84286529e-01, -5.28756738e-01,  7.29133859e-02,\n",
            "       -4.19236302e-01,  9.09340024e-01, -4.03171569e-01, -1.39568019e+00,\n",
            "       -1.28448081e+00, -2.62375176e-01, -1.77707994e+00, -1.97406575e-01,\n",
            "       -4.77617949e-01,  5.81295133e-01,  2.84385055e-01,  6.91217959e-01,\n",
            "        2.97951363e-02, -8.65149975e-01, -4.29348320e-01,  2.80890137e-01,\n",
            "        1.03885150e+00, -1.05614555e+00,  8.18988740e-01, -3.01014692e-01,\n",
            "        1.22266471e+00,  9.54827547e-01,  1.69427896e+00,  3.11116762e-02,\n",
            "        5.18509328e-01,  5.39312959e-01,  4.31899935e-01, -7.18044639e-01,\n",
            "       -7.15612173e-01, -1.93398774e-01,  2.92034179e-01, -1.40470028e-01,\n",
            "        7.78686553e-02,  9.25704360e-01, -6.91868961e-01,  8.17351580e-01,\n",
            "        3.20308119e-01,  3.86221051e-01,  2.40500018e-01,  6.90436125e-01,\n",
            "       -8.11759710e-01, -5.32442927e-01,  9.06308740e-02, -1.46390900e-01,\n",
            "       -1.00143040e-02,  2.64785022e-01, -4.86521751e-01,  9.03565526e-01,\n",
            "       -8.28145165e-03, -4.49272692e-01, -3.20195287e-01,  3.78018379e-01,\n",
            "        6.40718400e-01,  5.74845791e-01, -2.51140356e-01, -7.69251168e-01,\n",
            "        2.61015028e-01,  1.16881981e-01,  3.61525953e-01, -6.77762210e-01,\n",
            "        6.54067993e-01, -3.09550226e-01, -8.95190120e-01, -1.39702654e+00,\n",
            "       -4.97337915e-02, -3.26549292e-01, -3.88113558e-01, -4.05555725e-01,\n",
            "        1.02484986e-01, -1.37225866e-01, -3.65703374e-01,  3.74360561e-01,\n",
            "       -5.67417145e-01,  3.18729699e-01,  1.11624157e+00,  3.19691062e-01,\n",
            "       -1.27962863e+00, -2.22600952e-01, -8.02529335e-01, -3.91041336e-04,\n",
            "       -3.73515576e-01, -2.35352010e-01,  3.77818912e-01, -4.59882051e-01,\n",
            "       -6.39599681e-01,  8.28515589e-01,  4.13716674e-01,  1.02169561e+00,\n",
            "        3.99264544e-01, -7.57205427e-01, -5.61544895e-01, -1.79595217e-01,\n",
            "        3.19774836e-01, -2.73335688e-02,  3.58142890e-02, -6.12327158e-01,\n",
            "       -2.16366842e-01, -7.57396162e-01,  2.20246091e-01, -7.54384339e-01,\n",
            "        5.05548060e-01, -1.20690249e-01, -6.21449769e-01, -5.27839780e-01,\n",
            "       -1.25133026e+00,  7.91659802e-02, -3.87110531e-01, -3.09841692e-01,\n",
            "       -9.13238823e-02, -9.26282644e-01, -2.16503382e-01, -9.23869252e-01,\n",
            "       -5.34783363e-01,  2.58695722e-01, -2.59971041e-02,  2.95063019e-01,\n",
            "        2.05998465e-01, -9.27765369e-02, -9.02777314e-01,  1.06569958e+00,\n",
            "        2.23659888e-01, -7.06013322e-01, -4.99821723e-01, -5.77063084e-01,\n",
            "       -7.00861812e-01,  1.21224195e-01,  3.16092342e-01,  1.07252514e+00,\n",
            "       -7.56489486e-02,  1.24395296e-01,  2.06263232e+00,  6.46950245e-01,\n",
            "        4.12522286e-01, -1.06246340e+00,  7.27614045e-01,  3.56562465e-01,\n",
            "       -2.28892237e-01, -6.74062788e-01, -2.12980464e-01, -7.67529249e-01],\n",
            "      dtype=float32)]\n"
          ]
        }
      ],
      "source": [
        "print(text_embeded[:1])"
      ]
    },
    {
      "cell_type": "markdown",
      "metadata": {
        "id": "fXheX7UrFvQJ"
      },
      "source": [
        "## Qdrant VectorDatabase"
      ]
    },
    {
      "cell_type": "markdown",
      "metadata": {
        "id": "csySiGPSgLUz"
      },
      "source": [
        "text_embeddings_size for Qdrant is still 768 as we are using the same model \"nomic-ai/nomic-embed-text-v1.5\""
      ]
    },
    {
      "cell_type": "code",
      "execution_count": null,
      "metadata": {
        "colab": {
          "base_uri": "https://localhost:8080/",
          "height": 34
        },
        "id": "__bhmEsrFyT-",
        "outputId": "778b7b00-200c-4dea-efd6-4d224a964738"
      },
      "outputs": [
        {
          "data": {
            "text/html": [
              "\n",
              "    <style>\n",
              "      pre {\n",
              "          white-space: pre-wrap;  /* Enable word-wrapping in code/output blocks */\n",
              "      }\n",
              "    </style>\n",
              "    "
            ],
            "text/plain": [
              "<IPython.core.display.HTML object>"
            ]
          },
          "metadata": {},
          "output_type": "display_data"
        },
        {
          "data": {
            "text/html": [
              "\n",
              "    <style>\n",
              "      pre {\n",
              "          white-space: pre-wrap;  /* Enable word-wrapping in code/output blocks */\n",
              "      }\n",
              "    </style>\n",
              "    "
            ],
            "text/plain": [
              "<IPython.core.display.HTML object>"
            ]
          },
          "metadata": {},
          "output_type": "display_data"
        },
        {
          "data": {
            "text/html": [
              "\n",
              "    <style>\n",
              "      pre {\n",
              "          white-space: pre-wrap;  /* Enable word-wrapping in code/output blocks */\n",
              "      }\n",
              "    </style>\n",
              "    "
            ],
            "text/plain": [
              "<IPython.core.display.HTML object>"
            ]
          },
          "metadata": {},
          "output_type": "display_data"
        },
        {
          "data": {
            "text/html": [
              "\n",
              "    <style>\n",
              "      pre {\n",
              "          white-space: pre-wrap;  /* Enable word-wrapping in code/output blocks */\n",
              "      }\n",
              "    </style>\n",
              "    "
            ],
            "text/plain": [
              "<IPython.core.display.HTML object>"
            ]
          },
          "metadata": {},
          "output_type": "display_data"
        },
        {
          "data": {
            "text/html": [
              "\n",
              "    <style>\n",
              "      pre {\n",
              "          white-space: pre-wrap;  /* Enable word-wrapping in code/output blocks */\n",
              "      }\n",
              "    </style>\n",
              "    "
            ],
            "text/plain": [
              "<IPython.core.display.HTML object>"
            ]
          },
          "metadata": {},
          "output_type": "display_data"
        },
        {
          "data": {
            "text/plain": [
              "768"
            ]
          },
          "execution_count": 137,
          "metadata": {},
          "output_type": "execute_result"
        }
      ],
      "source": [
        "# Import necessary modules from the Qdrant client library\n",
        "# Qdrant is a vector database that allows you to store and search high-dimensional vector embeddings efficiently\n",
        "from qdrant_client import QdrantClient, models\n",
        "\n",
        "# Create a new Qdrant client instance using in-memory storage\n",
        "# \":memory:\" means the data will be stored temporarily in RAM (not saved to disk)\n",
        "# Useful for testing or prototyping — everything is wiped when the program ends\n",
        "client = QdrantClient(\":memory:\")\n",
        "\n",
        "# Display the size (number of dimensions) of the text embeddings we generated earlier\n",
        "# This is important because Qdrant needs to know the exact size of each vector to create a collection\n",
        "text_embeddings_size"
      ]
    },
    {
      "cell_type": "code",
      "execution_count": null,
      "metadata": {
        "colab": {
          "base_uri": "https://localhost:8080/",
          "height": 34
        },
        "id": "xMsymZ6sF15X",
        "outputId": "da9530f3-7d80-499c-8e6d-34065569f508"
      },
      "outputs": [
        {
          "data": {
            "text/html": [
              "\n",
              "    <style>\n",
              "      pre {\n",
              "          white-space: pre-wrap;  /* Enable word-wrapping in code/output blocks */\n",
              "      }\n",
              "    </style>\n",
              "    "
            ],
            "text/plain": [
              "<IPython.core.display.HTML object>"
            ]
          },
          "metadata": {},
          "output_type": "display_data"
        },
        {
          "data": {
            "text/html": [
              "\n",
              "    <style>\n",
              "      pre {\n",
              "          white-space: pre-wrap;  /* Enable word-wrapping in code/output blocks */\n",
              "      }\n",
              "    </style>\n",
              "    "
            ],
            "text/plain": [
              "<IPython.core.display.HTML object>"
            ]
          },
          "metadata": {},
          "output_type": "display_data"
        },
        {
          "data": {
            "text/html": [
              "\n",
              "    <style>\n",
              "      pre {\n",
              "          white-space: pre-wrap;  /* Enable word-wrapping in code/output blocks */\n",
              "      }\n",
              "    </style>\n",
              "    "
            ],
            "text/plain": [
              "<IPython.core.display.HTML object>"
            ]
          },
          "metadata": {},
          "output_type": "display_data"
        },
        {
          "data": {
            "text/html": [
              "\n",
              "    <style>\n",
              "      pre {\n",
              "          white-space: pre-wrap;  /* Enable word-wrapping in code/output blocks */\n",
              "      }\n",
              "    </style>\n",
              "    "
            ],
            "text/plain": [
              "<IPython.core.display.HTML object>"
            ]
          },
          "metadata": {},
          "output_type": "display_data"
        },
        {
          "data": {
            "text/html": [
              "\n",
              "    <style>\n",
              "      pre {\n",
              "          white-space: pre-wrap;  /* Enable word-wrapping in code/output blocks */\n",
              "      }\n",
              "    </style>\n",
              "    "
            ],
            "text/plain": [
              "<IPython.core.display.HTML object>"
            ]
          },
          "metadata": {},
          "output_type": "display_data"
        },
        {
          "name": "stdout",
          "output_type": "stream",
          "text": [
            "Collection 'demo_collection' created successfully.\n"
          ]
        }
      ],
      "source": [
        "try:\n",
        "    # Define the name of the collection we want to manage in Qdrant.\n",
        "    # A collection in Qdrant is similar to a table in traditional databases —\n",
        "    # it stores a group of vectors and their associated metadata.\n",
        "    collection_name = \"demo_collection\"\n",
        "\n",
        "    # Check whether the collection already exists in Qdrant.\n",
        "    # This avoids attempting to create a collection with a name that's already taken.\n",
        "    if client.collection_exists(collection_name):\n",
        "        # If the collection already exists, delete it to ensure we're starting fresh.\n",
        "        # This is useful when we want to reset the state (e.g., during development or re-indexing).\n",
        "        client.delete_collection(collection_name=collection_name)\n",
        "\n",
        "        # Output a message confirming the collection was deleted successfully.\n",
        "        print(f\"Collection '{collection_name}' deleted successfully.\")\n",
        "\n",
        "    # Proceed to create a new collection regardless of whether it was previously deleted or not.\n",
        "    # This ensures we always end up with a clean, newly-created collection.\n",
        "    client.create_collection(\n",
        "        collection_name=collection_name,  # The name of the new collection being created\n",
        "\n",
        "        # Configure how vectors will be stored in this collection.\n",
        "        # This includes the dimensionality (size) and the distance metric used for similarity.\n",
        "        vectors_config=models.VectorParams(\n",
        "            size=text_embeddings_size,       # The number of dimensions in each vector.\n",
        "                                             # Must match the output size of your embedding model.\n",
        "            distance=models.Distance.COSINE  # The distance function used for comparing vectors.\n",
        "                                             # COSINE is commonly used for text embeddings as it measures angular similarity.\n",
        "        ),\n",
        "    )\n",
        "\n",
        "    # Print a confirmation that the collection was created successfully.\n",
        "    print(f\"Collection '{collection_name}' created successfully.\")\n",
        "\n",
        "except Exception as e:\n",
        "    # If any error occurs during the process (e.g., connection issues, invalid parameters),\n",
        "    # it will be caught here and the error message will be printed.\n",
        "    print(f\"An error occurred while setting up the collection: {e}\")\n"
      ]
    },
    {
      "cell_type": "code",
      "execution_count": null,
      "metadata": {
        "colab": {
          "base_uri": "https://localhost:8080/",
          "height": 17
        },
        "id": "WuZnPbMdF48F",
        "outputId": "c2d319a1-db4a-4694-dafc-a53d7817d280"
      },
      "outputs": [
        {
          "data": {
            "text/html": [
              "\n",
              "    <style>\n",
              "      pre {\n",
              "          white-space: pre-wrap;  /* Enable word-wrapping in code/output blocks */\n",
              "      }\n",
              "    </style>\n",
              "    "
            ],
            "text/plain": [
              "<IPython.core.display.HTML object>"
            ]
          },
          "metadata": {},
          "output_type": "display_data"
        },
        {
          "data": {
            "text/html": [
              "\n",
              "    <style>\n",
              "      pre {\n",
              "          white-space: pre-wrap;  /* Enable word-wrapping in code/output blocks */\n",
              "      }\n",
              "    </style>\n",
              "    "
            ],
            "text/plain": [
              "<IPython.core.display.HTML object>"
            ]
          },
          "metadata": {},
          "output_type": "display_data"
        },
        {
          "data": {
            "text/html": [
              "\n",
              "    <style>\n",
              "      pre {\n",
              "          white-space: pre-wrap;  /* Enable word-wrapping in code/output blocks */\n",
              "      }\n",
              "    </style>\n",
              "    "
            ],
            "text/plain": [
              "<IPython.core.display.HTML object>"
            ]
          },
          "metadata": {},
          "output_type": "display_data"
        },
        {
          "data": {
            "text/html": [
              "\n",
              "    <style>\n",
              "      pre {\n",
              "          white-space: pre-wrap;  /* Enable word-wrapping in code/output blocks */\n",
              "      }\n",
              "    </style>\n",
              "    "
            ],
            "text/plain": [
              "<IPython.core.display.HTML object>"
            ]
          },
          "metadata": {},
          "output_type": "display_data"
        },
        {
          "data": {
            "text/html": [
              "\n",
              "    <style>\n",
              "      pre {\n",
              "          white-space: pre-wrap;  /* Enable word-wrapping in code/output blocks */\n",
              "      }\n",
              "    </style>\n",
              "    "
            ],
            "text/plain": [
              "<IPython.core.display.HTML object>"
            ]
          },
          "metadata": {},
          "output_type": "display_data"
        }
      ],
      "source": [
        "\n",
        "# Import the `uuid4` function to generate unique IDs for each vector\n",
        "# These IDs help identify and retrieve individual points later\n",
        "from uuid import uuid4\n",
        "\n",
        "# Import NumPy to handle vector data formats (embeddings are stored as NumPy arrays)\n",
        "import numpy as np\n",
        "\n",
        "# Upload all our text embeddings to the \"demo_collection\" in Qdrant\n",
        "client.upload_points(\n",
        "    collection_name=\"demo_collection\",  # Target collection where we want to store our vectors\n",
        "\n",
        "    # Create a list of PointStruct objects, one for each text chunk\n",
        "    points=[\n",
        "        models.PointStruct(\n",
        "            id=str(uuid4()),  # Generate a unique ID for each point (as a string)\n",
        "\n",
        "            # Convert the embedding to a NumPy array, which is the expected format\n",
        "            vector=np.array(text_embeded[idx]),\n",
        "\n",
        "            # Attach payload — additional information stored with each vector\n",
        "            # This allows us to retrieve the original text and its metadata later\n",
        "            payload={\n",
        "                \"metadata\": doc[\"metadata\"],         # Source and row info\n",
        "                \"content\": doc[\"page_content\"]       # The full text chunk\n",
        "            }\n",
        "        )\n",
        "        for idx, doc in enumerate(texts)  # Loop through all texts and match them to their embeddings\n",
        "    ]\n",
        ")\n"
      ]
    },
    {
      "cell_type": "code",
      "execution_count": null,
      "metadata": {
        "colab": {
          "base_uri": "https://localhost:8080/",
          "height": 187
        },
        "id": "V4d0Lhksidpe",
        "outputId": "43bb76f9-c6b8-4ad1-cb6c-fefe6cc5bdd8"
      },
      "outputs": [
        {
          "data": {
            "text/html": [
              "\n",
              "    <style>\n",
              "      pre {\n",
              "          white-space: pre-wrap;  /* Enable word-wrapping in code/output blocks */\n",
              "      }\n",
              "    </style>\n",
              "    "
            ],
            "text/plain": [
              "<IPython.core.display.HTML object>"
            ]
          },
          "metadata": {},
          "output_type": "display_data"
        },
        {
          "data": {
            "text/html": [
              "\n",
              "    <style>\n",
              "      pre {\n",
              "          white-space: pre-wrap;  /* Enable word-wrapping in code/output blocks */\n",
              "      }\n",
              "    </style>\n",
              "    "
            ],
            "text/plain": [
              "<IPython.core.display.HTML object>"
            ]
          },
          "metadata": {},
          "output_type": "display_data"
        },
        {
          "data": {
            "text/html": [
              "\n",
              "    <style>\n",
              "      pre {\n",
              "          white-space: pre-wrap;  /* Enable word-wrapping in code/output blocks */\n",
              "      }\n",
              "    </style>\n",
              "    "
            ],
            "text/plain": [
              "<IPython.core.display.HTML object>"
            ]
          },
          "metadata": {},
          "output_type": "display_data"
        },
        {
          "data": {
            "text/html": [
              "\n",
              "    <style>\n",
              "      pre {\n",
              "          white-space: pre-wrap;  /* Enable word-wrapping in code/output blocks */\n",
              "      }\n",
              "    </style>\n",
              "    "
            ],
            "text/plain": [
              "<IPython.core.display.HTML object>"
            ]
          },
          "metadata": {},
          "output_type": "display_data"
        },
        {
          "data": {
            "text/html": [
              "\n",
              "    <style>\n",
              "      pre {\n",
              "          white-space: pre-wrap;  /* Enable word-wrapping in code/output blocks */\n",
              "      }\n",
              "    </style>\n",
              "    "
            ],
            "text/plain": [
              "<IPython.core.display.HTML object>"
            ]
          },
          "metadata": {},
          "output_type": "display_data"
        },
        {
          "name": "stdout",
          "output_type": "stream",
          "text": [
            "{'metadata': {'source': 'Faena Miami Beach'},\n",
            " 'page_content': 'id: 7787044 type: HOTEL name: Faena Miami Beach image: '\n",
            "                 'https://media-cdn.tripadvisor.com/media/photo-o/1d/78/a4/13/exterior-view.jpg '\n",
            "                 'awards: [] rankingPosition: 5 priceLevel: $$$$ priceRange: '\n",
            "                 '$729 - $1,426 category: hotel rating: 4.5 hotelClass: 0.0 '\n",
            "                 'phone: 13055348800 address: 3201 Collins Ave Faena District, '\n",
            "                 'Miami Beach, FL 33140-4023 email: '\n",
            "                 'reservations-miamibeach@faena.com amenities: [] '\n",
            "                 'numberOfRooms: 179 prices: [] latitude: 25.807375 longitude: '\n",
            "                 '-80.12364 webUrl:'}\n"
          ]
        }
      ],
      "source": [
        "from pprint import pprint  # for nicely formatted output\n",
        "\n",
        "pprint(texts[0])  # Show the first item\n"
      ]
    },
    {
      "cell_type": "code",
      "execution_count": null,
      "metadata": {
        "colab": {
          "base_uri": "https://localhost:8080/",
          "height": 629
        },
        "id": "q4Pf8bp7ikxe",
        "outputId": "47893cb7-d78f-4f47-e0c0-b91eb561db2d"
      },
      "outputs": [
        {
          "data": {
            "text/html": [
              "\n",
              "    <style>\n",
              "      pre {\n",
              "          white-space: pre-wrap;  /* Enable word-wrapping in code/output blocks */\n",
              "      }\n",
              "    </style>\n",
              "    "
            ],
            "text/plain": [
              "<IPython.core.display.HTML object>"
            ]
          },
          "metadata": {},
          "output_type": "display_data"
        },
        {
          "data": {
            "text/html": [
              "\n",
              "    <style>\n",
              "      pre {\n",
              "          white-space: pre-wrap;  /* Enable word-wrapping in code/output blocks */\n",
              "      }\n",
              "    </style>\n",
              "    "
            ],
            "text/plain": [
              "<IPython.core.display.HTML object>"
            ]
          },
          "metadata": {},
          "output_type": "display_data"
        },
        {
          "data": {
            "text/html": [
              "\n",
              "    <style>\n",
              "      pre {\n",
              "          white-space: pre-wrap;  /* Enable word-wrapping in code/output blocks */\n",
              "      }\n",
              "    </style>\n",
              "    "
            ],
            "text/plain": [
              "<IPython.core.display.HTML object>"
            ]
          },
          "metadata": {},
          "output_type": "display_data"
        },
        {
          "data": {
            "text/html": [
              "\n",
              "    <style>\n",
              "      pre {\n",
              "          white-space: pre-wrap;  /* Enable word-wrapping in code/output blocks */\n",
              "      }\n",
              "    </style>\n",
              "    "
            ],
            "text/plain": [
              "<IPython.core.display.HTML object>"
            ]
          },
          "metadata": {},
          "output_type": "display_data"
        },
        {
          "data": {
            "text/html": [
              "\n",
              "    <style>\n",
              "      pre {\n",
              "          white-space: pre-wrap;  /* Enable word-wrapping in code/output blocks */\n",
              "      }\n",
              "    </style>\n",
              "    "
            ],
            "text/plain": [
              "<IPython.core.display.HTML object>"
            ]
          },
          "metadata": {},
          "output_type": "display_data"
        },
        {
          "name": "stdout",
          "output_type": "stream",
          "text": [
            "\n",
            "Item 0:\n",
            "{'metadata': {'source': 'Faena Miami Beach'},\n",
            " 'page_content': 'id: 7787044 type: HOTEL name: Faena Miami Beach image: '\n",
            "                 'https://media-cdn.tripadvisor.com/media/photo-o/1d/78/a4/13/exterior-view.jpg '\n",
            "                 'awards: [] rankingPosition: 5 priceLevel: $$$$ priceRange: '\n",
            "                 '$729 - $1,426 category: hotel rating: 4.5 hotelClass: 0.0 '\n",
            "                 'phone: 13055348800 address: 3201 Collins Ave Faena District, '\n",
            "                 'Miami Beach, FL 33140-4023 email: '\n",
            "                 'reservations-miamibeach@faena.com amenities: [] '\n",
            "                 'numberOfRooms: 179 prices: [] latitude: 25.807375 longitude: '\n",
            "                 '-80.12364 webUrl:'}\n",
            "\n",
            "Item 1:\n",
            "{'metadata': {'source': 'Faena Miami Beach'},\n",
            " 'page_content': '] latitude: 25.807375 longitude: -80.12364 webUrl: '\n",
            "                 'https://www.tripadvisor.com/Hotel_Review-g34439-d7787044-Reviews-Faena_Miami_Beach-Miami_Beach_Florida.html '\n",
            "                 'website: https://www.faena.com/miami-beach rankingString: #5 '\n",
            "                 'of 235 hotels in Miami Beach rankingDenominator: 235 '\n",
            "                 'numberOfReviews: 2123 review: Hands down my absolute '\n",
            "                 'favorite hotel in South Beach—there’s no place I’d rather '\n",
            "                 'stay. I’ve been back four times in the past six months –each '\n",
            "                 'experience is better than the last and I always look forward '\n",
            "                 'to coming back. As impressive as the hotel is, the team'}\n",
            "\n",
            "Item 2:\n",
            "{'metadata': {'source': 'Faena Miami Beach'},\n",
            " 'page_content': 'ming back. As impressive as the hotel is, the team of people '\n",
            "                 'are what make each stay exceptional. Everyone is so friendly '\n",
            "                 'and they go out of their way to ensure that I have a perfect '\n",
            "                 'stay every single time. Petar in particular always ensures '\n",
            "                 'that my stay is wonderful every time and gives me total '\n",
            "                 'peace of mind every time I stay there - I never have to '\n",
            "                 'worry about a thing and he goes above and beyond to provide '\n",
            "                 'excellent service.'}\n"
          ]
        }
      ],
      "source": [
        "for i, item in enumerate(texts[:3]):\n",
        "    print(f\"\\nItem {i}:\")\n",
        "    pprint(item)\n"
      ]
    },
    {
      "cell_type": "code",
      "execution_count": null,
      "metadata": {
        "colab": {
          "base_uri": "https://localhost:8080/",
          "height": 51
        },
        "id": "zphjkhQTGE4U",
        "outputId": "a97ce6c4-3026-4c31-ebfa-48c625268068"
      },
      "outputs": [
        {
          "data": {
            "text/html": [
              "\n",
              "    <style>\n",
              "      pre {\n",
              "          white-space: pre-wrap;  /* Enable word-wrapping in code/output blocks */\n",
              "      }\n",
              "    </style>\n",
              "    "
            ],
            "text/plain": [
              "<IPython.core.display.HTML object>"
            ]
          },
          "metadata": {},
          "output_type": "display_data"
        },
        {
          "data": {
            "text/html": [
              "\n",
              "    <style>\n",
              "      pre {\n",
              "          white-space: pre-wrap;  /* Enable word-wrapping in code/output blocks */\n",
              "      }\n",
              "    </style>\n",
              "    "
            ],
            "text/plain": [
              "<IPython.core.display.HTML object>"
            ]
          },
          "metadata": {},
          "output_type": "display_data"
        },
        {
          "data": {
            "text/html": [
              "\n",
              "    <style>\n",
              "      pre {\n",
              "          white-space: pre-wrap;  /* Enable word-wrapping in code/output blocks */\n",
              "      }\n",
              "    </style>\n",
              "    "
            ],
            "text/plain": [
              "<IPython.core.display.HTML object>"
            ]
          },
          "metadata": {},
          "output_type": "display_data"
        },
        {
          "data": {
            "text/html": [
              "\n",
              "    <style>\n",
              "      pre {\n",
              "          white-space: pre-wrap;  /* Enable word-wrapping in code/output blocks */\n",
              "      }\n",
              "    </style>\n",
              "    "
            ],
            "text/plain": [
              "<IPython.core.display.HTML object>"
            ]
          },
          "metadata": {},
          "output_type": "display_data"
        },
        {
          "data": {
            "text/html": [
              "\n",
              "    <style>\n",
              "      pre {\n",
              "          white-space: pre-wrap;  /* Enable word-wrapping in code/output blocks */\n",
              "      }\n",
              "    </style>\n",
              "    "
            ],
            "text/plain": [
              "<IPython.core.display.HTML object>"
            ]
          },
          "metadata": {},
          "output_type": "display_data"
        },
        {
          "name": "stdout",
          "output_type": "stream",
          "text": [
            "Drive already mounted at /content/drive; to attempt to forcibly remount, call drive.mount(\"/content/drive\", force_remount=True).\n"
          ]
        }
      ],
      "source": [
        "# Import the Google Drive integration module for Google Colab\n",
        "from google.colab import drive\n",
        "\n",
        "# Mount your Google Drive to the Colab environment\n",
        "# This allows you to read from and write to files stored in your Drive\n",
        "# After running this, a link will appear asking for permission to access your Drive\n",
        "# Once authorized, your Drive will be available under '/content/drive'\n",
        "drive.mount('/content/drive')\n"
      ]
    },
    {
      "cell_type": "code",
      "execution_count": null,
      "metadata": {
        "colab": {
          "base_uri": "https://localhost:8080/",
          "height": 156
        },
        "id": "08yXLAhgGLzL",
        "outputId": "d226ab76-d84f-4270-e256-19c0f56669c6"
      },
      "outputs": [
        {
          "data": {
            "text/html": [
              "\n",
              "    <style>\n",
              "      pre {\n",
              "          white-space: pre-wrap;  /* Enable word-wrapping in code/output blocks */\n",
              "      }\n",
              "    </style>\n",
              "    "
            ],
            "text/plain": [
              "<IPython.core.display.HTML object>"
            ]
          },
          "metadata": {},
          "output_type": "display_data"
        },
        {
          "data": {
            "text/html": [
              "\n",
              "    <style>\n",
              "      pre {\n",
              "          white-space: pre-wrap;  /* Enable word-wrapping in code/output blocks */\n",
              "      }\n",
              "    </style>\n",
              "    "
            ],
            "text/plain": [
              "<IPython.core.display.HTML object>"
            ]
          },
          "metadata": {},
          "output_type": "display_data"
        },
        {
          "data": {
            "text/html": [
              "\n",
              "    <style>\n",
              "      pre {\n",
              "          white-space: pre-wrap;  /* Enable word-wrapping in code/output blocks */\n",
              "      }\n",
              "    </style>\n",
              "    "
            ],
            "text/plain": [
              "<IPython.core.display.HTML object>"
            ]
          },
          "metadata": {},
          "output_type": "display_data"
        },
        {
          "data": {
            "text/html": [
              "\n",
              "    <style>\n",
              "      pre {\n",
              "          white-space: pre-wrap;  /* Enable word-wrapping in code/output blocks */\n",
              "      }\n",
              "    </style>\n",
              "    "
            ],
            "text/plain": [
              "<IPython.core.display.HTML object>"
            ]
          },
          "metadata": {},
          "output_type": "display_data"
        },
        {
          "data": {
            "text/html": [
              "\n",
              "    <style>\n",
              "      pre {\n",
              "          white-space: pre-wrap;  /* Enable word-wrapping in code/output blocks */\n",
              "      }\n",
              "    </style>\n",
              "    "
            ],
            "text/plain": [
              "<IPython.core.display.HTML object>"
            ]
          },
          "metadata": {},
          "output_type": "display_data"
        },
        {
          "name": "stdout",
          "output_type": "stream",
          "text": [
            "Directory '/content/drive/MyDrive/Stanford_Continuing_Studies/TheAILeadershipSeries_BuildingandScalingSolutions/Semantic_Search/qdrant_data' removed successfully.\n",
            "Directory '/content/drive/MyDrive/Stanford_Continuing_Studies/TheAILeadershipSeries_BuildingandScalingSolutions/Semantic_Search/qdrant_data' created.\n",
            "Qdrant client initialized with fresh storage directory.\n"
          ]
        }
      ],
      "source": [
        "# Import necessary modules from the Qdrant client\n",
        "# QdrantClient allows us to interact with a Qdrant vector database (e.g., create collections, insert/query vectors)\n",
        "# models provides configuration classes for vector parameters, point operations, etc.\n",
        "from qdrant_client import QdrantClient, models\n",
        "\n",
        "# Import Python's built-in modules\n",
        "import os        # For file system operations like checking and creating directories\n",
        "import shutil    # For high-level file operations like removing entire directories\n",
        "\n",
        "# Define the local directory path where Qdrant should store its data\n",
        "# This is where vector collections and other database files will be saved\n",
        "# For Google Colab users, this may point to a mounted Google Drive location\n",
        "qdrant_data_dir = '/content/drive/MyDrive/Stanford_Continuing_Studies/TheAILeadershipSeries_BuildingandScalingSolutions/Semantic_Search/qdrant_data'\n",
        "\n",
        "# ----------------------------------------\n",
        "# Forcefully remove the directory if it exists\n",
        "# ----------------------------------------\n",
        "\n",
        "try:\n",
        "    # Remove the entire directory and its contents recursively\n",
        "    # This is useful when you want to reset the Qdrant database from scratch\n",
        "    shutil.rmtree(qdrant_data_dir)\n",
        "    print(f\"Directory '{qdrant_data_dir}' removed successfully.\")\n",
        "\n",
        "except FileNotFoundError:\n",
        "    # If the directory does not exist, no need to worry — just proceed\n",
        "    print(f\"Directory '{qdrant_data_dir}' not found. Proceeding to create it.\")\n",
        "\n",
        "except OSError as e:\n",
        "    # If there's a permission issue or the directory is in use, catch and report it\n",
        "    print(f\"Error removing directory '{qdrant_data_dir}': {e}\")\n",
        "\n",
        "# ----------------------------------------\n",
        "# Recreate the directory\n",
        "# ----------------------------------------\n",
        "\n",
        "# Create the directory (and any missing parent directories) if it doesn't exist\n",
        "# After deletion, this ensures a clean, fresh directory is in place for Qdrant\n",
        "os.makedirs(qdrant_data_dir, exist_ok=True)\n",
        "print(f\"Directory '{qdrant_data_dir}' created.\")\n",
        "\n",
        "# ----------------------------------------\n",
        "# Initialize Qdrant Client\n",
        "# ----------------------------------------\n",
        "\n",
        "# Initialize the Qdrant client, telling it to use the newly created directory for local storage\n",
        "# This setup will persist vector data across sessions (e.g., in Google Drive)\n",
        "client = QdrantClient(path=qdrant_data_dir)\n",
        "print(\"Qdrant client initialized with fresh storage directory.\")\n"
      ]
    },
    {
      "cell_type": "code",
      "execution_count": null,
      "metadata": {
        "colab": {
          "base_uri": "https://localhost:8080/",
          "height": 34
        },
        "id": "zqSubyo5D39X",
        "outputId": "e24f77d4-0eee-4244-e2a1-cb4e0d91cbe5"
      },
      "outputs": [
        {
          "data": {
            "text/html": [
              "\n",
              "    <style>\n",
              "      pre {\n",
              "          white-space: pre-wrap;  /* Enable word-wrapping in code/output blocks */\n",
              "      }\n",
              "    </style>\n",
              "    "
            ],
            "text/plain": [
              "<IPython.core.display.HTML object>"
            ]
          },
          "metadata": {},
          "output_type": "display_data"
        },
        {
          "data": {
            "text/html": [
              "\n",
              "    <style>\n",
              "      pre {\n",
              "          white-space: pre-wrap;  /* Enable word-wrapping in code/output blocks */\n",
              "      }\n",
              "    </style>\n",
              "    "
            ],
            "text/plain": [
              "<IPython.core.display.HTML object>"
            ]
          },
          "metadata": {},
          "output_type": "display_data"
        },
        {
          "data": {
            "text/html": [
              "\n",
              "    <style>\n",
              "      pre {\n",
              "          white-space: pre-wrap;  /* Enable word-wrapping in code/output blocks */\n",
              "      }\n",
              "    </style>\n",
              "    "
            ],
            "text/plain": [
              "<IPython.core.display.HTML object>"
            ]
          },
          "metadata": {},
          "output_type": "display_data"
        },
        {
          "data": {
            "text/html": [
              "\n",
              "    <style>\n",
              "      pre {\n",
              "          white-space: pre-wrap;  /* Enable word-wrapping in code/output blocks */\n",
              "      }\n",
              "    </style>\n",
              "    "
            ],
            "text/plain": [
              "<IPython.core.display.HTML object>"
            ]
          },
          "metadata": {},
          "output_type": "display_data"
        },
        {
          "data": {
            "text/html": [
              "\n",
              "    <style>\n",
              "      pre {\n",
              "          white-space: pre-wrap;  /* Enable word-wrapping in code/output blocks */\n",
              "      }\n",
              "    </style>\n",
              "    "
            ],
            "text/plain": [
              "<IPython.core.display.HTML object>"
            ]
          },
          "metadata": {},
          "output_type": "display_data"
        },
        {
          "name": "stdout",
          "output_type": "stream",
          "text": [
            "Collection 'demo_collection' created successfully.\n"
          ]
        }
      ],
      "source": [
        "try:\n",
        "    # Define the name of the collection we want to manage in Qdrant.\n",
        "    # A collection in Qdrant is similar to a table in traditional databases —\n",
        "    # it stores a group of vectors and their associated metadata.\n",
        "    collection_name = \"demo_collection\"\n",
        "\n",
        "    # Check whether the collection already exists in Qdrant.\n",
        "    # This avoids attempting to create a collection with a name that's already taken.\n",
        "    if client.collection_exists(collection_name):\n",
        "        # If the collection already exists, delete it to ensure we're starting fresh.\n",
        "        # This is useful when we want to reset the state (e.g., during development or re-indexing).\n",
        "        client.delete_collection(collection_name=collection_name)\n",
        "\n",
        "        # Output a message confirming the collection was deleted successfully.\n",
        "        print(f\"Collection '{collection_name}' deleted successfully.\")\n",
        "\n",
        "    # Proceed to create a new collection regardless of whether it was previously deleted or not.\n",
        "    # This ensures we always end up with a clean, newly-created collection.\n",
        "    client.create_collection(\n",
        "        collection_name=collection_name,  # The name of the new collection being created\n",
        "\n",
        "        # Configure how vectors will be stored in this collection.\n",
        "        # This includes the dimensionality (size) and the distance metric used for similarity.\n",
        "        vectors_config=models.VectorParams(\n",
        "            size=text_embeddings_size,       # The number of dimensions in each vector.\n",
        "                                             # Must match the output size of your embedding model.\n",
        "            distance=models.Distance.COSINE  # The distance function used for comparing vectors.\n",
        "                                             # COSINE is commonly used for text embeddings as it measures angular similarity.\n",
        "        ),\n",
        "    )\n",
        "\n",
        "    # Print a confirmation that the collection was created successfully.\n",
        "    print(f\"Collection '{collection_name}' created successfully.\")\n",
        "\n",
        "except Exception as e:\n",
        "    # If any error occurs during the process (e.g., connection issues, invalid parameters),\n",
        "    # it will be caught here and the error message will be printed.\n",
        "    print(f\"An error occurred while setting up the collection: {e}\")\n"
      ]
    },
    {
      "cell_type": "code",
      "execution_count": null,
      "metadata": {
        "colab": {
          "base_uri": "https://localhost:8080/",
          "height": 17
        },
        "id": "WQoHYriLGWtq",
        "outputId": "945b8211-2cae-4cd9-f928-326096be370c"
      },
      "outputs": [
        {
          "data": {
            "text/html": [
              "\n",
              "    <style>\n",
              "      pre {\n",
              "          white-space: pre-wrap;  /* Enable word-wrapping in code/output blocks */\n",
              "      }\n",
              "    </style>\n",
              "    "
            ],
            "text/plain": [
              "<IPython.core.display.HTML object>"
            ]
          },
          "metadata": {},
          "output_type": "display_data"
        },
        {
          "data": {
            "text/html": [
              "\n",
              "    <style>\n",
              "      pre {\n",
              "          white-space: pre-wrap;  /* Enable word-wrapping in code/output blocks */\n",
              "      }\n",
              "    </style>\n",
              "    "
            ],
            "text/plain": [
              "<IPython.core.display.HTML object>"
            ]
          },
          "metadata": {},
          "output_type": "display_data"
        },
        {
          "data": {
            "text/html": [
              "\n",
              "    <style>\n",
              "      pre {\n",
              "          white-space: pre-wrap;  /* Enable word-wrapping in code/output blocks */\n",
              "      }\n",
              "    </style>\n",
              "    "
            ],
            "text/plain": [
              "<IPython.core.display.HTML object>"
            ]
          },
          "metadata": {},
          "output_type": "display_data"
        },
        {
          "data": {
            "text/html": [
              "\n",
              "    <style>\n",
              "      pre {\n",
              "          white-space: pre-wrap;  /* Enable word-wrapping in code/output blocks */\n",
              "      }\n",
              "    </style>\n",
              "    "
            ],
            "text/plain": [
              "<IPython.core.display.HTML object>"
            ]
          },
          "metadata": {},
          "output_type": "display_data"
        },
        {
          "data": {
            "text/html": [
              "\n",
              "    <style>\n",
              "      pre {\n",
              "          white-space: pre-wrap;  /* Enable word-wrapping in code/output blocks */\n",
              "      }\n",
              "    </style>\n",
              "    "
            ],
            "text/plain": [
              "<IPython.core.display.HTML object>"
            ]
          },
          "metadata": {},
          "output_type": "display_data"
        }
      ],
      "source": [
        "\n",
        "\n",
        "# Import the `uuid4` function to generate unique IDs for each vector\n",
        "# These IDs help identify and retrieve individual points later\n",
        "from uuid import uuid4\n",
        "\n",
        "# Import NumPy to handle vector data formats (embeddings are stored as NumPy arrays)\n",
        "import numpy as np\n",
        "\n",
        "# Upload all our text embeddings to the \"demo_collection\" in Qdrant\n",
        "client.upload_points(\n",
        "    collection_name=\"demo_collection\",  # Target collection where we want to store our vectors\n",
        "\n",
        "    # Create a list of PointStruct objects, one for each text chunk\n",
        "    points=[\n",
        "        models.PointStruct(\n",
        "            id=str(uuid4()),  # Generate a unique ID for each point (as a string)\n",
        "\n",
        "            # Convert the embedding to a NumPy array, which is the expected format\n",
        "            vector=np.array(text_embeded[idx]),\n",
        "\n",
        "            # Attach payload — additional information stored with each vector\n",
        "            # This allows us to retrieve the original text and its metadata later\n",
        "            payload={\n",
        "                \"metadata\": doc[\"metadata\"],         # Source and row info\n",
        "                \"content\": doc[\"page_content\"]       # The full text chunk\n",
        "            }\n",
        "        )\n",
        "        for idx, doc in enumerate(texts)  # Loop through all texts and match them to their embeddings\n",
        "    ]\n",
        ")\n"
      ]
    },
    {
      "cell_type": "markdown",
      "metadata": {
        "id": "iHtM0SGyF9Kz"
      },
      "source": [
        "## Run Query"
      ]
    },
    {
      "cell_type": "code",
      "execution_count": null,
      "metadata": {
        "colab": {
          "base_uri": "https://localhost:8080/",
          "height": 17
        },
        "id": "KRpWsEnpF79Y",
        "outputId": "d254e28c-2321-4c46-9a0d-50a912e79023"
      },
      "outputs": [
        {
          "data": {
            "text/html": [
              "\n",
              "    <style>\n",
              "      pre {\n",
              "          white-space: pre-wrap;  /* Enable word-wrapping in code/output blocks */\n",
              "      }\n",
              "    </style>\n",
              "    "
            ],
            "text/plain": [
              "<IPython.core.display.HTML object>"
            ]
          },
          "metadata": {},
          "output_type": "display_data"
        },
        {
          "data": {
            "text/html": [
              "\n",
              "    <style>\n",
              "      pre {\n",
              "          white-space: pre-wrap;  /* Enable word-wrapping in code/output blocks */\n",
              "      }\n",
              "    </style>\n",
              "    "
            ],
            "text/plain": [
              "<IPython.core.display.HTML object>"
            ]
          },
          "metadata": {},
          "output_type": "display_data"
        },
        {
          "data": {
            "text/html": [
              "\n",
              "    <style>\n",
              "      pre {\n",
              "          white-space: pre-wrap;  /* Enable word-wrapping in code/output blocks */\n",
              "      }\n",
              "    </style>\n",
              "    "
            ],
            "text/plain": [
              "<IPython.core.display.HTML object>"
            ]
          },
          "metadata": {},
          "output_type": "display_data"
        },
        {
          "data": {
            "text/html": [
              "\n",
              "    <style>\n",
              "      pre {\n",
              "          white-space: pre-wrap;  /* Enable word-wrapping in code/output blocks */\n",
              "      }\n",
              "    </style>\n",
              "    "
            ],
            "text/plain": [
              "<IPython.core.display.HTML object>"
            ]
          },
          "metadata": {},
          "output_type": "display_data"
        },
        {
          "data": {
            "text/html": [
              "\n",
              "    <style>\n",
              "      pre {\n",
              "          white-space: pre-wrap;  /* Enable word-wrapping in code/output blocks */\n",
              "      }\n",
              "    </style>\n",
              "    "
            ],
            "text/plain": [
              "<IPython.core.display.HTML object>"
            ]
          },
          "metadata": {},
          "output_type": "display_data"
        }
      ],
      "source": [
        "# Create a query vector by embedding a sample search string\n",
        "# This string represents what you're looking for — in this case, something about \"hotel close to Miami Beach and great food nearby \"\n",
        "# The result is a vector in the same format as the ones stored in the Qdrant collection\n",
        "query = get_text_embeddings('hotel close to Miami Beach and great food nearby with in price range of $300 - $500')\n",
        "\n",
        "# Perform a similarity search in Qdrant using the query vector\n",
        "# This finds the most relevant text chunks (based on vector similarity)\n",
        "text_hits = client.query_points(\n",
        "    collection_name=\"demo_collection\",  # The name of the collection where vectors were stored\n",
        "    query=query,                         # The query vector — what we want to find similar results to\n",
        "    limit=3,                             # Limit the number of results to 3 most relevant chunks\n",
        ").points                                 # Extract only the list of matching points (each with vector + payload)\n"
      ]
    },
    {
      "cell_type": "code",
      "execution_count": null,
      "metadata": {
        "colab": {
          "base_uri": "https://localhost:8080/",
          "height": 374
        },
        "id": "8AU_jZE9IjLv",
        "outputId": "77b1f6fd-b13e-47c1-be90-4e271b81b52f"
      },
      "outputs": [
        {
          "data": {
            "text/html": [
              "\n",
              "    <style>\n",
              "      pre {\n",
              "          white-space: pre-wrap;  /* Enable word-wrapping in code/output blocks */\n",
              "      }\n",
              "    </style>\n",
              "    "
            ],
            "text/plain": [
              "<IPython.core.display.HTML object>"
            ]
          },
          "metadata": {},
          "output_type": "display_data"
        },
        {
          "data": {
            "text/html": [
              "\n",
              "    <style>\n",
              "      pre {\n",
              "          white-space: pre-wrap;  /* Enable word-wrapping in code/output blocks */\n",
              "      }\n",
              "    </style>\n",
              "    "
            ],
            "text/plain": [
              "<IPython.core.display.HTML object>"
            ]
          },
          "metadata": {},
          "output_type": "display_data"
        },
        {
          "data": {
            "text/html": [
              "\n",
              "    <style>\n",
              "      pre {\n",
              "          white-space: pre-wrap;  /* Enable word-wrapping in code/output blocks */\n",
              "      }\n",
              "    </style>\n",
              "    "
            ],
            "text/plain": [
              "<IPython.core.display.HTML object>"
            ]
          },
          "metadata": {},
          "output_type": "display_data"
        },
        {
          "data": {
            "text/html": [
              "\n",
              "    <style>\n",
              "      pre {\n",
              "          white-space: pre-wrap;  /* Enable word-wrapping in code/output blocks */\n",
              "      }\n",
              "    </style>\n",
              "    "
            ],
            "text/plain": [
              "<IPython.core.display.HTML object>"
            ]
          },
          "metadata": {},
          "output_type": "display_data"
        },
        {
          "data": {
            "text/html": [
              "\n",
              "    <style>\n",
              "      pre {\n",
              "          white-space: pre-wrap;  /* Enable word-wrapping in code/output blocks */\n",
              "      }\n",
              "    </style>\n",
              "    "
            ],
            "text/plain": [
              "<IPython.core.display.HTML object>"
            ]
          },
          "metadata": {},
          "output_type": "display_data"
        },
        {
          "data": {
            "text/plain": [
              "[ScoredPoint(id='e8662cec-b7c3-4aab-98d6-cad28721587d', version=0, score=0.7183349377879972, payload={'metadata': {'source': 'Faena Miami Beach'}, 'content': 'id: 7787044 type: HOTEL name: Faena Miami Beach image: https://media-cdn.tripadvisor.com/media/photo-o/1d/78/a4/13/exterior-view.jpg awards: [] rankingPosition: 5 priceLevel: $$$$ priceRange: $729 - $1,426 category: hotel rating: 4.5 hotelClass: 0.0 phone: 13055348800 address: 3201 Collins Ave Faena District, Miami Beach, FL 33140-4023 email: reservations-miamibeach@faena.com amenities: [] numberOfRooms: 179 prices: [] latitude: 25.807375 longitude: -80.12364 webUrl:'}, vector=None, shard_key=None, order_value=None),\n",
              " ScoredPoint(id='405ca85c-5072-48d8-b366-d4880c5e2b7a', version=0, score=0.7183349377879972, payload={'metadata': {'source': 'Faena Miami Beach'}, 'content': 'id: 7787044 type: HOTEL name: Faena Miami Beach image: https://media-cdn.tripadvisor.com/media/photo-o/1d/78/a4/13/exterior-view.jpg awards: [] rankingPosition: 5 priceLevel: $$$$ priceRange: $729 - $1,426 category: hotel rating: 4.5 hotelClass: 0.0 phone: 13055348800 address: 3201 Collins Ave Faena District, Miami Beach, FL 33140-4023 email: reservations-miamibeach@faena.com amenities: [] numberOfRooms: 179 prices: [] latitude: 25.807375 longitude: -80.12364 webUrl:'}, vector=None, shard_key=None, order_value=None),\n",
              " ScoredPoint(id='3b516c05-b305-40e8-a8a4-080e85ee30fc', version=0, score=0.7183349377879972, payload={'metadata': {'source': 'Faena Miami Beach'}, 'content': 'id: 7787044 type: HOTEL name: Faena Miami Beach image: https://media-cdn.tripadvisor.com/media/photo-o/1d/78/a4/13/exterior-view.jpg awards: [] rankingPosition: 5 priceLevel: $$$$ priceRange: $729 - $1,426 category: hotel rating: 4.5 hotelClass: 0.0 phone: 13055348800 address: 3201 Collins Ave Faena District, Miami Beach, FL 33140-4023 email: reservations-miamibeach@faena.com amenities: [] numberOfRooms: 179 prices: [] latitude: 25.807375 longitude: -80.12364 webUrl:'}, vector=None, shard_key=None, order_value=None)]"
            ]
          },
          "execution_count": 147,
          "metadata": {},
          "output_type": "execute_result"
        }
      ],
      "source": [
        "text_hits"
      ]
    },
    {
      "cell_type": "markdown",
      "metadata": {
        "id": "jDB9urV-IxM0"
      },
      "source": [
        "## We can start from here now!\n"
      ]
    },
    {
      "cell_type": "code",
      "execution_count": null,
      "metadata": {
        "colab": {
          "base_uri": "https://localhost:8080/",
          "height": 1000
        },
        "id": "Y3mNj8OjuZ7t",
        "outputId": "5df35696-2c4a-4cce-b827-b26463c27b39"
      },
      "outputs": [
        {
          "data": {
            "text/html": [
              "\n",
              "    <style>\n",
              "      pre {\n",
              "          white-space: pre-wrap;  /* Enable word-wrapping in code/output blocks */\n",
              "      }\n",
              "    </style>\n",
              "    "
            ],
            "text/plain": [
              "<IPython.core.display.HTML object>"
            ]
          },
          "metadata": {},
          "output_type": "display_data"
        },
        {
          "data": {
            "text/html": [
              "\n",
              "    <style>\n",
              "      pre {\n",
              "          white-space: pre-wrap;  /* Enable word-wrapping in code/output blocks */\n",
              "      }\n",
              "    </style>\n",
              "    "
            ],
            "text/plain": [
              "<IPython.core.display.HTML object>"
            ]
          },
          "metadata": {},
          "output_type": "display_data"
        },
        {
          "data": {
            "text/html": [
              "\n",
              "    <style>\n",
              "      pre {\n",
              "          white-space: pre-wrap;  /* Enable word-wrapping in code/output blocks */\n",
              "      }\n",
              "    </style>\n",
              "    "
            ],
            "text/plain": [
              "<IPython.core.display.HTML object>"
            ]
          },
          "metadata": {},
          "output_type": "display_data"
        },
        {
          "data": {
            "text/html": [
              "\n",
              "    <style>\n",
              "      pre {\n",
              "          white-space: pre-wrap;  /* Enable word-wrapping in code/output blocks */\n",
              "      }\n",
              "    </style>\n",
              "    "
            ],
            "text/plain": [
              "<IPython.core.display.HTML object>"
            ]
          },
          "metadata": {},
          "output_type": "display_data"
        },
        {
          "data": {
            "text/html": [
              "\n",
              "    <style>\n",
              "      pre {\n",
              "          white-space: pre-wrap;  /* Enable word-wrapping in code/output blocks */\n",
              "      }\n",
              "    </style>\n",
              "    "
            ],
            "text/plain": [
              "<IPython.core.display.HTML object>"
            ]
          },
          "metadata": {},
          "output_type": "display_data"
        },
        {
          "name": "stdout",
          "output_type": "stream",
          "text": [
            "Requirement already satisfied: qdrant_client in /usr/local/lib/python3.11/dist-packages (1.14.2)\n",
            "Requirement already satisfied: grpcio>=1.41.0 in /usr/local/lib/python3.11/dist-packages (from qdrant_client) (1.71.0)\n",
            "Requirement already satisfied: httpx>=0.20.0 in /usr/local/lib/python3.11/dist-packages (from httpx[http2]>=0.20.0->qdrant_client) (0.28.1)\n",
            "Requirement already satisfied: numpy>=1.21 in /usr/local/lib/python3.11/dist-packages (from qdrant_client) (2.0.2)\n",
            "Requirement already satisfied: portalocker<3.0.0,>=2.7.0 in /usr/local/lib/python3.11/dist-packages (from qdrant_client) (2.10.1)\n",
            "Requirement already satisfied: protobuf>=3.20.0 in /usr/local/lib/python3.11/dist-packages (from qdrant_client) (5.29.4)\n",
            "Requirement already satisfied: pydantic!=2.0.*,!=2.1.*,!=2.2.0,>=1.10.8 in /usr/local/lib/python3.11/dist-packages (from qdrant_client) (2.11.4)\n",
            "Requirement already satisfied: urllib3<3,>=1.26.14 in /usr/local/lib/python3.11/dist-packages (from qdrant_client) (2.4.0)\n",
            "Requirement already satisfied: anyio in /usr/local/lib/python3.11/dist-packages (from httpx>=0.20.0->httpx[http2]>=0.20.0->qdrant_client) (4.9.0)\n",
            "Requirement already satisfied: certifi in /usr/local/lib/python3.11/dist-packages (from httpx>=0.20.0->httpx[http2]>=0.20.0->qdrant_client) (2025.4.26)\n",
            "Requirement already satisfied: httpcore==1.* in /usr/local/lib/python3.11/dist-packages (from httpx>=0.20.0->httpx[http2]>=0.20.0->qdrant_client) (1.0.9)\n",
            "Requirement already satisfied: idna in /usr/local/lib/python3.11/dist-packages (from httpx>=0.20.0->httpx[http2]>=0.20.0->qdrant_client) (3.10)\n",
            "Requirement already satisfied: h11>=0.16 in /usr/local/lib/python3.11/dist-packages (from httpcore==1.*->httpx>=0.20.0->httpx[http2]>=0.20.0->qdrant_client) (0.16.0)\n",
            "Requirement already satisfied: h2<5,>=3 in /usr/local/lib/python3.11/dist-packages (from httpx[http2]>=0.20.0->qdrant_client) (4.2.0)\n",
            "Requirement already satisfied: annotated-types>=0.6.0 in /usr/local/lib/python3.11/dist-packages (from pydantic!=2.0.*,!=2.1.*,!=2.2.0,>=1.10.8->qdrant_client) (0.7.0)\n",
            "Requirement already satisfied: pydantic-core==2.33.2 in /usr/local/lib/python3.11/dist-packages (from pydantic!=2.0.*,!=2.1.*,!=2.2.0,>=1.10.8->qdrant_client) (2.33.2)\n",
            "Requirement already satisfied: typing-extensions>=4.12.2 in /usr/local/lib/python3.11/dist-packages (from pydantic!=2.0.*,!=2.1.*,!=2.2.0,>=1.10.8->qdrant_client) (4.13.2)\n",
            "Requirement already satisfied: typing-inspection>=0.4.0 in /usr/local/lib/python3.11/dist-packages (from pydantic!=2.0.*,!=2.1.*,!=2.2.0,>=1.10.8->qdrant_client) (0.4.0)\n",
            "Requirement already satisfied: hyperframe<7,>=6.1 in /usr/local/lib/python3.11/dist-packages (from h2<5,>=3->httpx[http2]>=0.20.0->qdrant_client) (6.1.0)\n",
            "Requirement already satisfied: hpack<5,>=4.1 in /usr/local/lib/python3.11/dist-packages (from h2<5,>=3->httpx[http2]>=0.20.0->qdrant_client) (4.1.0)\n",
            "Requirement already satisfied: sniffio>=1.1 in /usr/local/lib/python3.11/dist-packages (from anyio->httpx>=0.20.0->httpx[http2]>=0.20.0->qdrant_client) (1.3.1)\n",
            "Requirement already satisfied: openai in /usr/local/lib/python3.11/dist-packages (1.77.0)\n",
            "Requirement already satisfied: anyio<5,>=3.5.0 in /usr/local/lib/python3.11/dist-packages (from openai) (4.9.0)\n",
            "Requirement already satisfied: distro<2,>=1.7.0 in /usr/local/lib/python3.11/dist-packages (from openai) (1.9.0)\n",
            "Requirement already satisfied: httpx<1,>=0.23.0 in /usr/local/lib/python3.11/dist-packages (from openai) (0.28.1)\n",
            "Requirement already satisfied: jiter<1,>=0.4.0 in /usr/local/lib/python3.11/dist-packages (from openai) (0.9.0)\n",
            "Requirement already satisfied: pydantic<3,>=1.9.0 in /usr/local/lib/python3.11/dist-packages (from openai) (2.11.4)\n",
            "Requirement already satisfied: sniffio in /usr/local/lib/python3.11/dist-packages (from openai) (1.3.1)\n",
            "Requirement already satisfied: tqdm>4 in /usr/local/lib/python3.11/dist-packages (from openai) (4.67.1)\n",
            "Requirement already satisfied: typing-extensions<5,>=4.11 in /usr/local/lib/python3.11/dist-packages (from openai) (4.13.2)\n",
            "Requirement already satisfied: idna>=2.8 in /usr/local/lib/python3.11/dist-packages (from anyio<5,>=3.5.0->openai) (3.10)\n",
            "Requirement already satisfied: certifi in /usr/local/lib/python3.11/dist-packages (from httpx<1,>=0.23.0->openai) (2025.4.26)\n",
            "Requirement already satisfied: httpcore==1.* in /usr/local/lib/python3.11/dist-packages (from httpx<1,>=0.23.0->openai) (1.0.9)\n",
            "Requirement already satisfied: h11>=0.16 in /usr/local/lib/python3.11/dist-packages (from httpcore==1.*->httpx<1,>=0.23.0->openai) (0.16.0)\n",
            "Requirement already satisfied: annotated-types>=0.6.0 in /usr/local/lib/python3.11/dist-packages (from pydantic<3,>=1.9.0->openai) (0.7.0)\n",
            "Requirement already satisfied: pydantic-core==2.33.2 in /usr/local/lib/python3.11/dist-packages (from pydantic<3,>=1.9.0->openai) (2.33.2)\n",
            "Requirement already satisfied: typing-inspection>=0.4.0 in /usr/local/lib/python3.11/dist-packages (from pydantic<3,>=1.9.0->openai) (0.4.0)\n"
          ]
        }
      ],
      "source": [
        "!pip install qdrant_client\n",
        "!pip install openai"
      ]
    },
    {
      "cell_type": "code",
      "execution_count": null,
      "metadata": {
        "colab": {
          "base_uri": "https://localhost:8080/",
          "height": 51
        },
        "id": "u_Z1dKSzu4Rg",
        "outputId": "d9925ed0-5d31-43e3-bf8d-8967250be126"
      },
      "outputs": [
        {
          "data": {
            "text/html": [
              "\n",
              "    <style>\n",
              "      pre {\n",
              "          white-space: pre-wrap;  /* Enable word-wrapping in code/output blocks */\n",
              "      }\n",
              "    </style>\n",
              "    "
            ],
            "text/plain": [
              "<IPython.core.display.HTML object>"
            ]
          },
          "metadata": {},
          "output_type": "display_data"
        },
        {
          "data": {
            "text/html": [
              "\n",
              "    <style>\n",
              "      pre {\n",
              "          white-space: pre-wrap;  /* Enable word-wrapping in code/output blocks */\n",
              "      }\n",
              "    </style>\n",
              "    "
            ],
            "text/plain": [
              "<IPython.core.display.HTML object>"
            ]
          },
          "metadata": {},
          "output_type": "display_data"
        },
        {
          "data": {
            "text/html": [
              "\n",
              "    <style>\n",
              "      pre {\n",
              "          white-space: pre-wrap;  /* Enable word-wrapping in code/output blocks */\n",
              "      }\n",
              "    </style>\n",
              "    "
            ],
            "text/plain": [
              "<IPython.core.display.HTML object>"
            ]
          },
          "metadata": {},
          "output_type": "display_data"
        },
        {
          "data": {
            "text/html": [
              "\n",
              "    <style>\n",
              "      pre {\n",
              "          white-space: pre-wrap;  /* Enable word-wrapping in code/output blocks */\n",
              "      }\n",
              "    </style>\n",
              "    "
            ],
            "text/plain": [
              "<IPython.core.display.HTML object>"
            ]
          },
          "metadata": {},
          "output_type": "display_data"
        },
        {
          "data": {
            "text/html": [
              "\n",
              "    <style>\n",
              "      pre {\n",
              "          white-space: pre-wrap;  /* Enable word-wrapping in code/output blocks */\n",
              "      }\n",
              "    </style>\n",
              "    "
            ],
            "text/plain": [
              "<IPython.core.display.HTML object>"
            ]
          },
          "metadata": {},
          "output_type": "display_data"
        },
        {
          "name": "stdout",
          "output_type": "stream",
          "text": [
            "Drive already mounted at /content/drive; to attempt to forcibly remount, call drive.mount(\"/content/drive\", force_remount=True).\n"
          ]
        }
      ],
      "source": [
        "# Import the Google Drive integration module for Google Colab\n",
        "from google.colab import drive\n",
        "\n",
        "# Mount your Google Drive to the Colab environment\n",
        "# This allows you to read from and write to files stored in your Drive\n",
        "# After running this, a link will appear asking for permission to access your Drive\n",
        "# Once authorized, your Drive will be available under '/content/drive'\n",
        "drive.mount('/content/drive')"
      ]
    },
    {
      "cell_type": "code",
      "execution_count": null,
      "metadata": {
        "colab": {
          "base_uri": "https://localhost:8080/",
          "height": 17
        },
        "id": "sf7NR5nMI1N8",
        "outputId": "15c54269-f8c6-4978-ebf4-7b5bbb3e66e5"
      },
      "outputs": [
        {
          "data": {
            "text/html": [
              "\n",
              "    <style>\n",
              "      pre {\n",
              "          white-space: pre-wrap;  /* Enable word-wrapping in code/output blocks */\n",
              "      }\n",
              "    </style>\n",
              "    "
            ],
            "text/plain": [
              "<IPython.core.display.HTML object>"
            ]
          },
          "metadata": {},
          "output_type": "display_data"
        },
        {
          "data": {
            "text/html": [
              "\n",
              "    <style>\n",
              "      pre {\n",
              "          white-space: pre-wrap;  /* Enable word-wrapping in code/output blocks */\n",
              "      }\n",
              "    </style>\n",
              "    "
            ],
            "text/plain": [
              "<IPython.core.display.HTML object>"
            ]
          },
          "metadata": {},
          "output_type": "display_data"
        },
        {
          "data": {
            "text/html": [
              "\n",
              "    <style>\n",
              "      pre {\n",
              "          white-space: pre-wrap;  /* Enable word-wrapping in code/output blocks */\n",
              "      }\n",
              "    </style>\n",
              "    "
            ],
            "text/plain": [
              "<IPython.core.display.HTML object>"
            ]
          },
          "metadata": {},
          "output_type": "display_data"
        },
        {
          "data": {
            "text/html": [
              "\n",
              "    <style>\n",
              "      pre {\n",
              "          white-space: pre-wrap;  /* Enable word-wrapping in code/output blocks */\n",
              "      }\n",
              "    </style>\n",
              "    "
            ],
            "text/plain": [
              "<IPython.core.display.HTML object>"
            ]
          },
          "metadata": {},
          "output_type": "display_data"
        },
        {
          "data": {
            "text/html": [
              "\n",
              "    <style>\n",
              "      pre {\n",
              "          white-space: pre-wrap;  /* Enable word-wrapping in code/output blocks */\n",
              "      }\n",
              "    </style>\n",
              "    "
            ],
            "text/plain": [
              "<IPython.core.display.HTML object>"
            ]
          },
          "metadata": {},
          "output_type": "display_data"
        }
      ],
      "source": [
        "# Import the main Qdrant client class to connect and interact with a Qdrant vector database\n",
        "from qdrant_client import QdrantClient\n",
        "\n",
        "# Import specific classes used to configure how vectors are stored and compared in a collection\n",
        "from qdrant_client.http.models import Distance, VectorParams\n",
        "\n",
        "# Import the `userdata` module from Google Colab.\n",
        "from google.colab import userdata\n",
        "\n",
        "# This is used to send requests to OpenRouter, which gives access to various LLMs (large language models)\n",
        "from openai import OpenAI\n",
        "\n",
        "# Import HTML and display tools from IPython\n",
        "# These allow you to inject custom HTML or CSS into the notebook\n",
        "from IPython.display import HTML, display\n",
        "\n",
        "# Import necessary classes from the Hugging Face Transformers library\n",
        "# AutoTokenizer handles breaking text into tokens\n",
        "# AutoModel loads the pre-trained model used to compute vector embeddings\n",
        "from transformers import AutoTokenizer, AutoModel\n",
        "\n",
        "# Import the openai\n",
        "\n",
        "import openai"
      ]
    },
    {
      "cell_type": "markdown",
      "metadata": {
        "id": "Y4MxRUrZJNI8"
      },
      "source": [
        "**1. Define the Qdrant client first to connect to the vector database.**"
      ]
    },
    {
      "cell_type": "code",
      "execution_count": null,
      "metadata": {
        "colab": {
          "base_uri": "https://localhost:8080/",
          "height": 51
        },
        "id": "YfmVtDMKI6u8",
        "outputId": "12d50cdb-3547-4caf-8121-57cb5feab9b7"
      },
      "outputs": [
        {
          "data": {
            "text/html": [
              "\n",
              "    <style>\n",
              "      pre {\n",
              "          white-space: pre-wrap;  /* Enable word-wrapping in code/output blocks */\n",
              "      }\n",
              "    </style>\n",
              "    "
            ],
            "text/plain": [
              "<IPython.core.display.HTML object>"
            ]
          },
          "metadata": {},
          "output_type": "display_data"
        },
        {
          "data": {
            "text/html": [
              "\n",
              "    <style>\n",
              "      pre {\n",
              "          white-space: pre-wrap;  /* Enable word-wrapping in code/output blocks */\n",
              "      }\n",
              "    </style>\n",
              "    "
            ],
            "text/plain": [
              "<IPython.core.display.HTML object>"
            ]
          },
          "metadata": {},
          "output_type": "display_data"
        },
        {
          "data": {
            "text/html": [
              "\n",
              "    <style>\n",
              "      pre {\n",
              "          white-space: pre-wrap;  /* Enable word-wrapping in code/output blocks */\n",
              "      }\n",
              "    </style>\n",
              "    "
            ],
            "text/plain": [
              "<IPython.core.display.HTML object>"
            ]
          },
          "metadata": {},
          "output_type": "display_data"
        },
        {
          "data": {
            "text/html": [
              "\n",
              "    <style>\n",
              "      pre {\n",
              "          white-space: pre-wrap;  /* Enable word-wrapping in code/output blocks */\n",
              "      }\n",
              "    </style>\n",
              "    "
            ],
            "text/plain": [
              "<IPython.core.display.HTML object>"
            ]
          },
          "metadata": {},
          "output_type": "display_data"
        },
        {
          "data": {
            "text/html": [
              "\n",
              "    <style>\n",
              "      pre {\n",
              "          white-space: pre-wrap;  /* Enable word-wrapping in code/output blocks */\n",
              "      }\n",
              "    </style>\n",
              "    "
            ],
            "text/plain": [
              "<IPython.core.display.HTML object>"
            ]
          },
          "metadata": {},
          "output_type": "display_data"
        },
        {
          "name": "stdout",
          "output_type": "stream",
          "text": [
            "Qdrant is already initialized with this path in the current session.\n",
            "You don't need to create the client again — reuse the existing one.\n"
          ]
        }
      ],
      "source": [
        "# Attempt to initialize the Qdrant client\n",
        "try:\n",
        "    # Initialize the Qdrant client and set its storage path\n",
        "    # This stores and retrieves the vector database in the specified directory on disk\n",
        "    client = QdrantClient(path='/content/drive/MyDrive/Stanford_Continuing_Studies/TheAILeadershipSeries_BuildingandScalingSolutions/Semantic_Search/qdrant_data')\n",
        "\n",
        "except RuntimeError as e:\n",
        "    # Catch the specific error that occurs when the Qdrant client is already running with this path\n",
        "    if \"already accessed by another instance\" in str(e):\n",
        "        print(\"Qdrant is already initialized with this path in the current session.\")\n",
        "        print(\"You don't need to create the client again — reuse the existing one.\")\n",
        "    else:\n",
        "        # Re-raise the error if it's something else\n",
        "        raise\n"
      ]
    },
    {
      "cell_type": "markdown",
      "metadata": {
        "id": "SD5WB-pIJQ3l"
      },
      "source": [
        "**2. Define the OpenRouter client to serve as the language model (LLM) for the pipeline.**\n"
      ]
    },
    {
      "cell_type": "code",
      "execution_count": null,
      "metadata": {
        "colab": {
          "base_uri": "https://localhost:8080/",
          "height": 17
        },
        "id": "RhoJnpq1JSuL",
        "outputId": "a4cda2de-a7ce-4b6d-f053-3d6a73297d01"
      },
      "outputs": [
        {
          "data": {
            "text/html": [
              "\n",
              "    <style>\n",
              "      pre {\n",
              "          white-space: pre-wrap;  /* Enable word-wrapping in code/output blocks */\n",
              "      }\n",
              "    </style>\n",
              "    "
            ],
            "text/plain": [
              "<IPython.core.display.HTML object>"
            ]
          },
          "metadata": {},
          "output_type": "display_data"
        },
        {
          "data": {
            "text/html": [
              "\n",
              "    <style>\n",
              "      pre {\n",
              "          white-space: pre-wrap;  /* Enable word-wrapping in code/output blocks */\n",
              "      }\n",
              "    </style>\n",
              "    "
            ],
            "text/plain": [
              "<IPython.core.display.HTML object>"
            ]
          },
          "metadata": {},
          "output_type": "display_data"
        },
        {
          "data": {
            "text/html": [
              "\n",
              "    <style>\n",
              "      pre {\n",
              "          white-space: pre-wrap;  /* Enable word-wrapping in code/output blocks */\n",
              "      }\n",
              "    </style>\n",
              "    "
            ],
            "text/plain": [
              "<IPython.core.display.HTML object>"
            ]
          },
          "metadata": {},
          "output_type": "display_data"
        },
        {
          "data": {
            "text/html": [
              "\n",
              "    <style>\n",
              "      pre {\n",
              "          white-space: pre-wrap;  /* Enable word-wrapping in code/output blocks */\n",
              "      }\n",
              "    </style>\n",
              "    "
            ],
            "text/plain": [
              "<IPython.core.display.HTML object>"
            ]
          },
          "metadata": {},
          "output_type": "display_data"
        },
        {
          "data": {
            "text/html": [
              "\n",
              "    <style>\n",
              "      pre {\n",
              "          white-space: pre-wrap;  /* Enable word-wrapping in code/output blocks */\n",
              "      }\n",
              "    </style>\n",
              "    "
            ],
            "text/plain": [
              "<IPython.core.display.HTML object>"
            ]
          },
          "metadata": {},
          "output_type": "display_data"
        }
      ],
      "source": [
        "\n",
        "# Retrieve the value of a saved environment variable named 'OPEN_ROUTER_API_KEY'.\n",
        "\n",
        "OPEN_ROUTER_API_KEY = userdata.get('first_open_router_ai_key')\n",
        "\n",
        "\n",
        "\n",
        "# Initialize the OpenAI-compatible client, but point it to OpenRouter's API instead of OpenAI's\n",
        "# OpenRouter is a gateway to multiple LLMs like GPT, Claude, Mistral, and others, through one unified API\n",
        "\n",
        "open_router_client = OpenAI(\n",
        "    base_url=\"https://openrouter.ai/api/v1\",  # Set the API endpoint to OpenRouter (not OpenAI)\n",
        "    api_key=OPEN_ROUTER_API_KEY               # Use your OpenRouter API key for authentication\n",
        ")\n"
      ]
    },
    {
      "cell_type": "markdown",
      "metadata": {
        "id": "WBxyUf2HJZqL"
      },
      "source": [
        "**3. Import the same embedding model used during vector database creation to ensure consistency.**"
      ]
    },
    {
      "cell_type": "code",
      "execution_count": null,
      "metadata": {
        "colab": {
          "base_uri": "https://localhost:8080/",
          "height": 51
        },
        "id": "8sUJ24smJYl-",
        "outputId": "01941e7a-8359-4e1f-d575-2a79834292f2"
      },
      "outputs": [
        {
          "data": {
            "text/html": [
              "\n",
              "    <style>\n",
              "      pre {\n",
              "          white-space: pre-wrap;  /* Enable word-wrapping in code/output blocks */\n",
              "      }\n",
              "    </style>\n",
              "    "
            ],
            "text/plain": [
              "<IPython.core.display.HTML object>"
            ]
          },
          "metadata": {},
          "output_type": "display_data"
        },
        {
          "data": {
            "text/html": [
              "\n",
              "    <style>\n",
              "      pre {\n",
              "          white-space: pre-wrap;  /* Enable word-wrapping in code/output blocks */\n",
              "      }\n",
              "    </style>\n",
              "    "
            ],
            "text/plain": [
              "<IPython.core.display.HTML object>"
            ]
          },
          "metadata": {},
          "output_type": "display_data"
        },
        {
          "data": {
            "text/html": [
              "\n",
              "    <style>\n",
              "      pre {\n",
              "          white-space: pre-wrap;  /* Enable word-wrapping in code/output blocks */\n",
              "      }\n",
              "    </style>\n",
              "    "
            ],
            "text/plain": [
              "<IPython.core.display.HTML object>"
            ]
          },
          "metadata": {},
          "output_type": "display_data"
        },
        {
          "data": {
            "text/html": [
              "\n",
              "    <style>\n",
              "      pre {\n",
              "          white-space: pre-wrap;  /* Enable word-wrapping in code/output blocks */\n",
              "      }\n",
              "    </style>\n",
              "    "
            ],
            "text/plain": [
              "<IPython.core.display.HTML object>"
            ]
          },
          "metadata": {},
          "output_type": "display_data"
        },
        {
          "data": {
            "text/html": [
              "\n",
              "    <style>\n",
              "      pre {\n",
              "          white-space: pre-wrap;  /* Enable word-wrapping in code/output blocks */\n",
              "      }\n",
              "    </style>\n",
              "    "
            ],
            "text/plain": [
              "<IPython.core.display.HTML object>"
            ]
          },
          "metadata": {},
          "output_type": "display_data"
        },
        {
          "name": "stderr",
          "output_type": "stream",
          "text": [
            "WARNING:transformers_modules.nomic-ai.nomic-bert-2048.7710840340a098cfb869c4f65e87cf2b1b70caca.modeling_hf_nomic_bert:<All keys matched successfully>\n"
          ]
        }
      ],
      "source": [
        "\n",
        "\n",
        "# Load a pre-trained tokenizer and model designed for generating text embeddings\n",
        "# \"nomic-ai/nomic-embed-text-v1.5\" is a model specifically trained to turn text into high-quality vector representations\n",
        "# trust_remote_code=True allows use of any custom logic included with the model\n",
        "text_tokenizer = AutoTokenizer.from_pretrained(\"nomic-ai/nomic-embed-text-v1.5\", trust_remote_code=True)\n",
        "text_model = AutoModel.from_pretrained(\"nomic-ai/nomic-embed-text-v1.5\", trust_remote_code=True)\n",
        "\n",
        "# Define a function to convert input text into a fixed-size vector (embedding)\n",
        "def get_text_embeddings(text):\n",
        "    # Tokenize the input text and return it as PyTorch tensors\n",
        "    # padding=True: pad shorter sequences to ensure consistent length\n",
        "    # truncation=True: cut off text that is too long for the model\n",
        "    inputs = text_tokenizer(text, return_tensors=\"pt\", padding=True, truncation=True)\n",
        "\n",
        "    # Pass the tokenized input through the model to obtain output embeddings\n",
        "    outputs = text_model(**inputs)\n",
        "\n",
        "    # outputs.last_hidden_state contains embeddings for each token\n",
        "    # We take the mean across all tokens to get a single vector for the entire text\n",
        "    embeddings = outputs.last_hidden_state.mean(dim=1)\n",
        "\n",
        "    # Convert the result to a NumPy array and remove it from the computation graph\n",
        "    return embeddings[0].detach().numpy()\n"
      ]
    },
    {
      "cell_type": "markdown",
      "metadata": {
        "id": "cF8CSOOLJq3O"
      },
      "source": [
        "**4. Test the retrieval functions to ensure they're returning relevant results.**"
      ]
    },
    {
      "cell_type": "code",
      "execution_count": null,
      "metadata": {
        "colab": {
          "base_uri": "https://localhost:8080/",
          "height": 17
        },
        "id": "i1z2-94sJrNy",
        "outputId": "c1771b44-2f22-4c9d-e2b5-b928adea4df1"
      },
      "outputs": [
        {
          "data": {
            "text/html": [
              "\n",
              "    <style>\n",
              "      pre {\n",
              "          white-space: pre-wrap;  /* Enable word-wrapping in code/output blocks */\n",
              "      }\n",
              "    </style>\n",
              "    "
            ],
            "text/plain": [
              "<IPython.core.display.HTML object>"
            ]
          },
          "metadata": {},
          "output_type": "display_data"
        },
        {
          "data": {
            "text/html": [
              "\n",
              "    <style>\n",
              "      pre {\n",
              "          white-space: pre-wrap;  /* Enable word-wrapping in code/output blocks */\n",
              "      }\n",
              "    </style>\n",
              "    "
            ],
            "text/plain": [
              "<IPython.core.display.HTML object>"
            ]
          },
          "metadata": {},
          "output_type": "display_data"
        },
        {
          "data": {
            "text/html": [
              "\n",
              "    <style>\n",
              "      pre {\n",
              "          white-space: pre-wrap;  /* Enable word-wrapping in code/output blocks */\n",
              "      }\n",
              "    </style>\n",
              "    "
            ],
            "text/plain": [
              "<IPython.core.display.HTML object>"
            ]
          },
          "metadata": {},
          "output_type": "display_data"
        },
        {
          "data": {
            "text/html": [
              "\n",
              "    <style>\n",
              "      pre {\n",
              "          white-space: pre-wrap;  /* Enable word-wrapping in code/output blocks */\n",
              "      }\n",
              "    </style>\n",
              "    "
            ],
            "text/plain": [
              "<IPython.core.display.HTML object>"
            ]
          },
          "metadata": {},
          "output_type": "display_data"
        },
        {
          "data": {
            "text/html": [
              "\n",
              "    <style>\n",
              "      pre {\n",
              "          white-space: pre-wrap;  /* Enable word-wrapping in code/output blocks */\n",
              "      }\n",
              "    </style>\n",
              "    "
            ],
            "text/plain": [
              "<IPython.core.display.HTML object>"
            ]
          },
          "metadata": {},
          "output_type": "display_data"
        }
      ],
      "source": [
        "query = \"\"\"hotel close to Miami Beach and great food nearby\"\"\""
      ]
    },
    {
      "cell_type": "code",
      "execution_count": null,
      "metadata": {
        "colab": {
          "base_uri": "https://localhost:8080/",
          "height": 17
        },
        "id": "a0eluiVpJvbD",
        "outputId": "4927a4d9-9090-4597-9dc9-210557a2c8dd"
      },
      "outputs": [
        {
          "data": {
            "text/html": [
              "\n",
              "    <style>\n",
              "      pre {\n",
              "          white-space: pre-wrap;  /* Enable word-wrapping in code/output blocks */\n",
              "      }\n",
              "    </style>\n",
              "    "
            ],
            "text/plain": [
              "<IPython.core.display.HTML object>"
            ]
          },
          "metadata": {},
          "output_type": "display_data"
        },
        {
          "data": {
            "text/html": [
              "\n",
              "    <style>\n",
              "      pre {\n",
              "          white-space: pre-wrap;  /* Enable word-wrapping in code/output blocks */\n",
              "      }\n",
              "    </style>\n",
              "    "
            ],
            "text/plain": [
              "<IPython.core.display.HTML object>"
            ]
          },
          "metadata": {},
          "output_type": "display_data"
        },
        {
          "data": {
            "text/html": [
              "\n",
              "    <style>\n",
              "      pre {\n",
              "          white-space: pre-wrap;  /* Enable word-wrapping in code/output blocks */\n",
              "      }\n",
              "    </style>\n",
              "    "
            ],
            "text/plain": [
              "<IPython.core.display.HTML object>"
            ]
          },
          "metadata": {},
          "output_type": "display_data"
        },
        {
          "data": {
            "text/html": [
              "\n",
              "    <style>\n",
              "      pre {\n",
              "          white-space: pre-wrap;  /* Enable word-wrapping in code/output blocks */\n",
              "      }\n",
              "    </style>\n",
              "    "
            ],
            "text/plain": [
              "<IPython.core.display.HTML object>"
            ]
          },
          "metadata": {},
          "output_type": "display_data"
        },
        {
          "data": {
            "text/html": [
              "\n",
              "    <style>\n",
              "      pre {\n",
              "          white-space: pre-wrap;  /* Enable word-wrapping in code/output blocks */\n",
              "      }\n",
              "    </style>\n",
              "    "
            ],
            "text/plain": [
              "<IPython.core.display.HTML object>"
            ]
          },
          "metadata": {},
          "output_type": "display_data"
        }
      ],
      "source": [
        "# get query embedded\n",
        "query_em = get_text_embeddings(query)"
      ]
    },
    {
      "cell_type": "code",
      "execution_count": null,
      "metadata": {
        "colab": {
          "base_uri": "https://localhost:8080/",
          "height": 17
        },
        "id": "VNg2cn_8JxVq",
        "outputId": "749df307-bc15-4db8-bea9-eebf0a6d6969"
      },
      "outputs": [
        {
          "data": {
            "text/html": [
              "\n",
              "    <style>\n",
              "      pre {\n",
              "          white-space: pre-wrap;  /* Enable word-wrapping in code/output blocks */\n",
              "      }\n",
              "    </style>\n",
              "    "
            ],
            "text/plain": [
              "<IPython.core.display.HTML object>"
            ]
          },
          "metadata": {},
          "output_type": "display_data"
        },
        {
          "data": {
            "text/html": [
              "\n",
              "    <style>\n",
              "      pre {\n",
              "          white-space: pre-wrap;  /* Enable word-wrapping in code/output blocks */\n",
              "      }\n",
              "    </style>\n",
              "    "
            ],
            "text/plain": [
              "<IPython.core.display.HTML object>"
            ]
          },
          "metadata": {},
          "output_type": "display_data"
        },
        {
          "data": {
            "text/html": [
              "\n",
              "    <style>\n",
              "      pre {\n",
              "          white-space: pre-wrap;  /* Enable word-wrapping in code/output blocks */\n",
              "      }\n",
              "    </style>\n",
              "    "
            ],
            "text/plain": [
              "<IPython.core.display.HTML object>"
            ]
          },
          "metadata": {},
          "output_type": "display_data"
        },
        {
          "data": {
            "text/html": [
              "\n",
              "    <style>\n",
              "      pre {\n",
              "          white-space: pre-wrap;  /* Enable word-wrapping in code/output blocks */\n",
              "      }\n",
              "    </style>\n",
              "    "
            ],
            "text/plain": [
              "<IPython.core.display.HTML object>"
            ]
          },
          "metadata": {},
          "output_type": "display_data"
        },
        {
          "data": {
            "text/html": [
              "\n",
              "    <style>\n",
              "      pre {\n",
              "          white-space: pre-wrap;  /* Enable word-wrapping in code/output blocks */\n",
              "      }\n",
              "    </style>\n",
              "    "
            ],
            "text/plain": [
              "<IPython.core.display.HTML object>"
            ]
          },
          "metadata": {},
          "output_type": "display_data"
        }
      ],
      "source": [
        "text_hits = client.query_points(\n",
        "        collection_name=\"demo_collection\",\n",
        "        query=query_em,\n",
        "        limit=10,\n",
        "    ).points\n",
        "\n"
      ]
    },
    {
      "cell_type": "code",
      "execution_count": null,
      "metadata": {
        "colab": {
          "base_uri": "https://localhost:8080/",
          "height": 17
        },
        "id": "LWbD5XYlJ0BW",
        "outputId": "fd6002e8-d4e2-4138-e828-8927d18444f9"
      },
      "outputs": [
        {
          "data": {
            "text/html": [
              "\n",
              "    <style>\n",
              "      pre {\n",
              "          white-space: pre-wrap;  /* Enable word-wrapping in code/output blocks */\n",
              "      }\n",
              "    </style>\n",
              "    "
            ],
            "text/plain": [
              "<IPython.core.display.HTML object>"
            ]
          },
          "metadata": {},
          "output_type": "display_data"
        },
        {
          "data": {
            "text/html": [
              "\n",
              "    <style>\n",
              "      pre {\n",
              "          white-space: pre-wrap;  /* Enable word-wrapping in code/output blocks */\n",
              "      }\n",
              "    </style>\n",
              "    "
            ],
            "text/plain": [
              "<IPython.core.display.HTML object>"
            ]
          },
          "metadata": {},
          "output_type": "display_data"
        },
        {
          "data": {
            "text/html": [
              "\n",
              "    <style>\n",
              "      pre {\n",
              "          white-space: pre-wrap;  /* Enable word-wrapping in code/output blocks */\n",
              "      }\n",
              "    </style>\n",
              "    "
            ],
            "text/plain": [
              "<IPython.core.display.HTML object>"
            ]
          },
          "metadata": {},
          "output_type": "display_data"
        },
        {
          "data": {
            "text/html": [
              "\n",
              "    <style>\n",
              "      pre {\n",
              "          white-space: pre-wrap;  /* Enable word-wrapping in code/output blocks */\n",
              "      }\n",
              "    </style>\n",
              "    "
            ],
            "text/plain": [
              "<IPython.core.display.HTML object>"
            ]
          },
          "metadata": {},
          "output_type": "display_data"
        },
        {
          "data": {
            "text/html": [
              "\n",
              "    <style>\n",
              "      pre {\n",
              "          white-space: pre-wrap;  /* Enable word-wrapping in code/output blocks */\n",
              "      }\n",
              "    </style>\n",
              "    "
            ],
            "text/plain": [
              "<IPython.core.display.HTML object>"
            ]
          },
          "metadata": {},
          "output_type": "display_data"
        }
      ],
      "source": [
        "# Extract the original text content from each result returned by the similarity search\n",
        "# `text_hits` is a list of points returned by Qdrant's query\n",
        "# Each point has a `payload`, which contains metadata and the original text chunk\n",
        "\n",
        "contents = [point.payload['content'] for point in text_hits]"
      ]
    },
    {
      "cell_type": "code",
      "execution_count": null,
      "metadata": {
        "colab": {
          "base_uri": "https://localhost:8080/",
          "height": 952
        },
        "id": "ZRvPG59IJ2wJ",
        "outputId": "aab37ffb-cb52-4158-c699-24da328609d5"
      },
      "outputs": [
        {
          "data": {
            "text/html": [
              "\n",
              "    <style>\n",
              "      pre {\n",
              "          white-space: pre-wrap;  /* Enable word-wrapping in code/output blocks */\n",
              "      }\n",
              "    </style>\n",
              "    "
            ],
            "text/plain": [
              "<IPython.core.display.HTML object>"
            ]
          },
          "metadata": {},
          "output_type": "display_data"
        },
        {
          "data": {
            "text/html": [
              "\n",
              "    <style>\n",
              "      pre {\n",
              "          white-space: pre-wrap;  /* Enable word-wrapping in code/output blocks */\n",
              "      }\n",
              "    </style>\n",
              "    "
            ],
            "text/plain": [
              "<IPython.core.display.HTML object>"
            ]
          },
          "metadata": {},
          "output_type": "display_data"
        },
        {
          "data": {
            "text/html": [
              "\n",
              "    <style>\n",
              "      pre {\n",
              "          white-space: pre-wrap;  /* Enable word-wrapping in code/output blocks */\n",
              "      }\n",
              "    </style>\n",
              "    "
            ],
            "text/plain": [
              "<IPython.core.display.HTML object>"
            ]
          },
          "metadata": {},
          "output_type": "display_data"
        },
        {
          "data": {
            "text/html": [
              "\n",
              "    <style>\n",
              "      pre {\n",
              "          white-space: pre-wrap;  /* Enable word-wrapping in code/output blocks */\n",
              "      }\n",
              "    </style>\n",
              "    "
            ],
            "text/plain": [
              "<IPython.core.display.HTML object>"
            ]
          },
          "metadata": {},
          "output_type": "display_data"
        },
        {
          "data": {
            "text/html": [
              "\n",
              "    <style>\n",
              "      pre {\n",
              "          white-space: pre-wrap;  /* Enable word-wrapping in code/output blocks */\n",
              "      }\n",
              "    </style>\n",
              "    "
            ],
            "text/plain": [
              "<IPython.core.display.HTML object>"
            ]
          },
          "metadata": {},
          "output_type": "display_data"
        },
        {
          "data": {
            "text/plain": [
              "['] latitude: 25.807375 longitude: -80.12364 webUrl: https://www.tripadvisor.com/Hotel_Review-g34439-d7787044-Reviews-Faena_Miami_Beach-Miami_Beach_Florida.html website: https://www.faena.com/miami-beach rankingString: #5 of 235 hotels in Miami Beach rankingDenominator: 235 numberOfReviews: 2123 review: Hands down my absolute favorite hotel in South Beach—there’s no place I’d rather stay. I’ve been back four times in the past six months –each experience is better than the last and I always look forward to coming back. As impressive as the hotel is, the team',\n",
              " '] latitude: 25.807375 longitude: -80.12364 webUrl: https://www.tripadvisor.com/Hotel_Review-g34439-d7787044-Reviews-Faena_Miami_Beach-Miami_Beach_Florida.html website: https://www.faena.com/miami-beach rankingString: #5 of 235 hotels in Miami Beach rankingDenominator: 235 numberOfReviews: 2123 review: I would like to give our very very heartfelt thanks to Mr. Raúl  Díaz, the Reservations Supervisor  ! He was just so helpful and kind ! He just did an amazing Service ! So when ever you planning to go to Miami you have to stay at the Faena Miami and have to',\n",
              " '] latitude: 25.807375 longitude: -80.12364 webUrl: https://www.tripadvisor.com/Hotel_Review-g34439-d7787044-Reviews-Faena_Miami_Beach-Miami_Beach_Florida.html website: https://www.faena.com/miami-beach rankingString: #5 of 235 hotels in Miami Beach rankingDenominator: 235 numberOfReviews: 2123 review: There are not enough words to explain the sumptuousness and comfortable elegance you are treated to as a guest at Faena. Their holistic approach to relaxation and community is in paralleled. While every area was wonderful, standouts were Los Fuegos and the',\n",
              " '] latitude: 25.807375 longitude: -80.12364 webUrl: https://www.tripadvisor.com/Hotel_Review-g34439-d7787044-Reviews-Faena_Miami_Beach-Miami_Beach_Florida.html website: https://www.faena.com/miami-beach rankingString: #5 of 235 hotels in Miami Beach rankingDenominator: 235 numberOfReviews: 2123 review: Dana at Gitano made the night magical! He makes me want to fly to Miami from Chicago for dinner so he can be my server! The hotel is smart to have Dana as a brand ambassador!  Well done Faena Hotel for this! title: Dana at Gitano is a rockstar!',\n",
              " 'id: 7787044 type: HOTEL name: Faena Miami Beach image: https://media-cdn.tripadvisor.com/media/photo-o/1d/78/a4/13/exterior-view.jpg awards: [] rankingPosition: 5 priceLevel: $$$$ priceRange: $729 - $1,426 category: hotel rating: 4.5 hotelClass: 0.0 phone: 13055348800 address: 3201 Collins Ave Faena District, Miami Beach, FL 33140-4023 email: reservations-miamibeach@faena.com amenities: [] numberOfRooms: 179 prices: [] latitude: 25.807375 longitude: -80.12364 webUrl:',\n",
              " 'id: 7787044 type: HOTEL name: Faena Miami Beach image: https://media-cdn.tripadvisor.com/media/photo-o/1d/78/a4/13/exterior-view.jpg awards: [] rankingPosition: 5 priceLevel: $$$$ priceRange: $729 - $1,426 category: hotel rating: 4.5 hotelClass: 0.0 phone: 13055348800 address: 3201 Collins Ave Faena District, Miami Beach, FL 33140-4023 email: reservations-miamibeach@faena.com amenities: [] numberOfRooms: 179 prices: [] latitude: 25.807375 longitude: -80.12364 webUrl:',\n",
              " 'id: 7787044 type: HOTEL name: Faena Miami Beach image: https://media-cdn.tripadvisor.com/media/photo-o/1d/78/a4/13/exterior-view.jpg awards: [] rankingPosition: 5 priceLevel: $$$$ priceRange: $729 - $1,426 category: hotel rating: 4.5 hotelClass: 0.0 phone: 13055348800 address: 3201 Collins Ave Faena District, Miami Beach, FL 33140-4023 email: reservations-miamibeach@faena.com amenities: [] numberOfRooms: 179 prices: [] latitude: 25.807375 longitude: -80.12364 webUrl:',\n",
              " 'id: 7787044 type: HOTEL name: Faena Miami Beach image: https://media-cdn.tripadvisor.com/media/photo-o/1d/78/a4/13/exterior-view.jpg awards: [] rankingPosition: 5 priceLevel: $$$$ priceRange: $729 - $1,426 category: hotel rating: 4.5 hotelClass: 0.0 phone: 13055348800 address: 3201 Collins Ave Faena District, Miami Beach, FL 33140-4023 email: reservations-miamibeach@faena.com amenities: [] numberOfRooms: 179 prices: [] latitude: 25.807375 longitude: -80.12364 webUrl:',\n",
              " 'id: 7787044 type: HOTEL name: Faena Miami Beach image: https://media-cdn.tripadvisor.com/media/photo-o/1d/78/a4/13/exterior-view.jpg awards: [] rankingPosition: 5 priceLevel: $$$$ priceRange: $729 - $1,426 category: hotel rating: 4.5 hotelClass: 0.0 phone: 13055348800 address: 3201 Collins Ave Faena District, Miami Beach, FL 33140-4023 email: reservations-miamibeach@faena.com amenities: [] numberOfRooms: 179 prices: [] latitude: 25.807375 longitude: -80.12364 webUrl:',\n",
              " \"] latitude: 25.807375 longitude: -80.12364 webUrl: https://www.tripadvisor.com/Hotel_Review-g34439-d7787044-Reviews-Faena_Miami_Beach-Miami_Beach_Florida.html website: https://www.faena.com/miami-beach rankingString: #5 of 235 hotels in Miami Beach rankingDenominator: 235 numberOfReviews: 2123 review: I went for the Burlesque show which was absolutely amazing. The service was top tier. My bartender was Patty, my drinks were great, one of the best whiskey sours I've had. My server Tatiana was awesome, so sweet and attentive. I highly recommend the show if\"]"
            ]
          },
          "execution_count": 158,
          "metadata": {},
          "output_type": "execute_result"
        }
      ],
      "source": [
        "contents"
      ]
    },
    {
      "cell_type": "code",
      "execution_count": null,
      "metadata": {
        "colab": {
          "base_uri": "https://localhost:8080/",
          "height": 17
        },
        "id": "YmRD1vmCJ2Lk",
        "outputId": "31068124-7556-4ba6-aa39-a87e37286d9d"
      },
      "outputs": [
        {
          "data": {
            "text/html": [
              "\n",
              "    <style>\n",
              "      pre {\n",
              "          white-space: pre-wrap;  /* Enable word-wrapping in code/output blocks */\n",
              "      }\n",
              "    </style>\n",
              "    "
            ],
            "text/plain": [
              "<IPython.core.display.HTML object>"
            ]
          },
          "metadata": {},
          "output_type": "display_data"
        },
        {
          "data": {
            "text/html": [
              "\n",
              "    <style>\n",
              "      pre {\n",
              "          white-space: pre-wrap;  /* Enable word-wrapping in code/output blocks */\n",
              "      }\n",
              "    </style>\n",
              "    "
            ],
            "text/plain": [
              "<IPython.core.display.HTML object>"
            ]
          },
          "metadata": {},
          "output_type": "display_data"
        },
        {
          "data": {
            "text/html": [
              "\n",
              "    <style>\n",
              "      pre {\n",
              "          white-space: pre-wrap;  /* Enable word-wrapping in code/output blocks */\n",
              "      }\n",
              "    </style>\n",
              "    "
            ],
            "text/plain": [
              "<IPython.core.display.HTML object>"
            ]
          },
          "metadata": {},
          "output_type": "display_data"
        },
        {
          "data": {
            "text/html": [
              "\n",
              "    <style>\n",
              "      pre {\n",
              "          white-space: pre-wrap;  /* Enable word-wrapping in code/output blocks */\n",
              "      }\n",
              "    </style>\n",
              "    "
            ],
            "text/plain": [
              "<IPython.core.display.HTML object>"
            ]
          },
          "metadata": {},
          "output_type": "display_data"
        },
        {
          "data": {
            "text/html": [
              "\n",
              "    <style>\n",
              "      pre {\n",
              "          white-space: pre-wrap;  /* Enable word-wrapping in code/output blocks */\n",
              "      }\n",
              "    </style>\n",
              "    "
            ],
            "text/plain": [
              "<IPython.core.display.HTML object>"
            ]
          },
          "metadata": {},
          "output_type": "display_data"
        }
      ],
      "source": [
        "# Extract the metadata for each point returned by the similarity search\n",
        "# Each result (point) has a payload dictionary that includes metadata stored when uploading the vectors\n",
        "\n",
        "meta = [point.payload['metadata'] for point in text_hits]"
      ]
    },
    {
      "cell_type": "code",
      "execution_count": null,
      "metadata": {
        "colab": {
          "base_uri": "https://localhost:8080/",
          "height": 187
        },
        "id": "SfvQBxD5J5jH",
        "outputId": "5f04f07b-2ad4-4622-e45c-5f0fca1bcc9a"
      },
      "outputs": [
        {
          "data": {
            "text/html": [
              "\n",
              "    <style>\n",
              "      pre {\n",
              "          white-space: pre-wrap;  /* Enable word-wrapping in code/output blocks */\n",
              "      }\n",
              "    </style>\n",
              "    "
            ],
            "text/plain": [
              "<IPython.core.display.HTML object>"
            ]
          },
          "metadata": {},
          "output_type": "display_data"
        },
        {
          "data": {
            "text/html": [
              "\n",
              "    <style>\n",
              "      pre {\n",
              "          white-space: pre-wrap;  /* Enable word-wrapping in code/output blocks */\n",
              "      }\n",
              "    </style>\n",
              "    "
            ],
            "text/plain": [
              "<IPython.core.display.HTML object>"
            ]
          },
          "metadata": {},
          "output_type": "display_data"
        },
        {
          "data": {
            "text/html": [
              "\n",
              "    <style>\n",
              "      pre {\n",
              "          white-space: pre-wrap;  /* Enable word-wrapping in code/output blocks */\n",
              "      }\n",
              "    </style>\n",
              "    "
            ],
            "text/plain": [
              "<IPython.core.display.HTML object>"
            ]
          },
          "metadata": {},
          "output_type": "display_data"
        },
        {
          "data": {
            "text/html": [
              "\n",
              "    <style>\n",
              "      pre {\n",
              "          white-space: pre-wrap;  /* Enable word-wrapping in code/output blocks */\n",
              "      }\n",
              "    </style>\n",
              "    "
            ],
            "text/plain": [
              "<IPython.core.display.HTML object>"
            ]
          },
          "metadata": {},
          "output_type": "display_data"
        },
        {
          "data": {
            "text/html": [
              "\n",
              "    <style>\n",
              "      pre {\n",
              "          white-space: pre-wrap;  /* Enable word-wrapping in code/output blocks */\n",
              "      }\n",
              "    </style>\n",
              "    "
            ],
            "text/plain": [
              "<IPython.core.display.HTML object>"
            ]
          },
          "metadata": {},
          "output_type": "display_data"
        },
        {
          "data": {
            "text/plain": [
              "[{'source': 'Faena Miami Beach'},\n",
              " {'source': 'Faena Miami Beach'},\n",
              " {'source': 'Faena Miami Beach'},\n",
              " {'source': 'Faena Miami Beach'},\n",
              " {'source': 'Faena Miami Beach'},\n",
              " {'source': 'Faena Miami Beach'},\n",
              " {'source': 'Faena Miami Beach'},\n",
              " {'source': 'Faena Miami Beach'},\n",
              " {'source': 'Faena Miami Beach'},\n",
              " {'source': 'Faena Miami Beach'}]"
            ]
          },
          "execution_count": 160,
          "metadata": {},
          "output_type": "execute_result"
        }
      ],
      "source": [
        "meta"
      ]
    },
    {
      "cell_type": "code",
      "execution_count": null,
      "metadata": {
        "colab": {
          "base_uri": "https://localhost:8080/",
          "height": 1000
        },
        "id": "Q4_gN9EMJ6JG",
        "outputId": "341b4a55-3028-4259-877e-6d82df804521"
      },
      "outputs": [
        {
          "data": {
            "text/html": [
              "\n",
              "    <style>\n",
              "      pre {\n",
              "          white-space: pre-wrap;  /* Enable word-wrapping in code/output blocks */\n",
              "      }\n",
              "    </style>\n",
              "    "
            ],
            "text/plain": [
              "<IPython.core.display.HTML object>"
            ]
          },
          "metadata": {},
          "output_type": "display_data"
        },
        {
          "data": {
            "text/html": [
              "\n",
              "    <style>\n",
              "      pre {\n",
              "          white-space: pre-wrap;  /* Enable word-wrapping in code/output blocks */\n",
              "      }\n",
              "    </style>\n",
              "    "
            ],
            "text/plain": [
              "<IPython.core.display.HTML object>"
            ]
          },
          "metadata": {},
          "output_type": "display_data"
        },
        {
          "data": {
            "text/html": [
              "\n",
              "    <style>\n",
              "      pre {\n",
              "          white-space: pre-wrap;  /* Enable word-wrapping in code/output blocks */\n",
              "      }\n",
              "    </style>\n",
              "    "
            ],
            "text/plain": [
              "<IPython.core.display.HTML object>"
            ]
          },
          "metadata": {},
          "output_type": "display_data"
        },
        {
          "data": {
            "text/html": [
              "\n",
              "    <style>\n",
              "      pre {\n",
              "          white-space: pre-wrap;  /* Enable word-wrapping in code/output blocks */\n",
              "      }\n",
              "    </style>\n",
              "    "
            ],
            "text/plain": [
              "<IPython.core.display.HTML object>"
            ]
          },
          "metadata": {},
          "output_type": "display_data"
        },
        {
          "data": {
            "text/html": [
              "\n",
              "    <style>\n",
              "      pre {\n",
              "          white-space: pre-wrap;  /* Enable word-wrapping in code/output blocks */\n",
              "      }\n",
              "    </style>\n",
              "    "
            ],
            "text/plain": [
              "<IPython.core.display.HTML object>"
            ]
          },
          "metadata": {},
          "output_type": "display_data"
        },
        {
          "name": "stdout",
          "output_type": "stream",
          "text": [
            "] latitude: 25.807375 longitude: -80.12364 webUrl: https://www.tripadvisor.com/Hotel_Review-g34439-d7787044-Reviews-Faena_Miami_Beach-Miami_Beach_Florida.html website: https://www.faena.com/miami-beach rankingString: #5 of 235 hotels in Miami Beach rankingDenominator: 235 numberOfReviews: 2123 review: Hands down my absolute favorite hotel in South Beach—there’s no place I’d rather stay. I’ve been back four times in the past six months –each experience is better than the last and I always look forward to coming back. As impressive as the hotel is, the team\n",
            "###########\n",
            "] latitude: 25.807375 longitude: -80.12364 webUrl: https://www.tripadvisor.com/Hotel_Review-g34439-d7787044-Reviews-Faena_Miami_Beach-Miami_Beach_Florida.html website: https://www.faena.com/miami-beach rankingString: #5 of 235 hotels in Miami Beach rankingDenominator: 235 numberOfReviews: 2123 review: I would like to give our very very heartfelt thanks to Mr. Raúl  Díaz, the Reservations Supervisor  ! He was just so helpful and kind ! He just did an amazing Service ! So when ever you planning to go to Miami you have to stay at the Faena Miami and have to\n",
            "###########\n",
            "] latitude: 25.807375 longitude: -80.12364 webUrl: https://www.tripadvisor.com/Hotel_Review-g34439-d7787044-Reviews-Faena_Miami_Beach-Miami_Beach_Florida.html website: https://www.faena.com/miami-beach rankingString: #5 of 235 hotels in Miami Beach rankingDenominator: 235 numberOfReviews: 2123 review: There are not enough words to explain the sumptuousness and comfortable elegance you are treated to as a guest at Faena. Their holistic approach to relaxation and community is in paralleled. While every area was wonderful, standouts were Los Fuegos and the\n",
            "###########\n",
            "] latitude: 25.807375 longitude: -80.12364 webUrl: https://www.tripadvisor.com/Hotel_Review-g34439-d7787044-Reviews-Faena_Miami_Beach-Miami_Beach_Florida.html website: https://www.faena.com/miami-beach rankingString: #5 of 235 hotels in Miami Beach rankingDenominator: 235 numberOfReviews: 2123 review: Dana at Gitano made the night magical! He makes me want to fly to Miami from Chicago for dinner so he can be my server! The hotel is smart to have Dana as a brand ambassador!  Well done Faena Hotel for this! title: Dana at Gitano is a rockstar!\n",
            "###########\n",
            "id: 7787044 type: HOTEL name: Faena Miami Beach image: https://media-cdn.tripadvisor.com/media/photo-o/1d/78/a4/13/exterior-view.jpg awards: [] rankingPosition: 5 priceLevel: $$$$ priceRange: $729 - $1,426 category: hotel rating: 4.5 hotelClass: 0.0 phone: 13055348800 address: 3201 Collins Ave Faena District, Miami Beach, FL 33140-4023 email: reservations-miamibeach@faena.com amenities: [] numberOfRooms: 179 prices: [] latitude: 25.807375 longitude: -80.12364 webUrl:\n",
            "###########\n",
            "id: 7787044 type: HOTEL name: Faena Miami Beach image: https://media-cdn.tripadvisor.com/media/photo-o/1d/78/a4/13/exterior-view.jpg awards: [] rankingPosition: 5 priceLevel: $$$$ priceRange: $729 - $1,426 category: hotel rating: 4.5 hotelClass: 0.0 phone: 13055348800 address: 3201 Collins Ave Faena District, Miami Beach, FL 33140-4023 email: reservations-miamibeach@faena.com amenities: [] numberOfRooms: 179 prices: [] latitude: 25.807375 longitude: -80.12364 webUrl:\n",
            "###########\n",
            "id: 7787044 type: HOTEL name: Faena Miami Beach image: https://media-cdn.tripadvisor.com/media/photo-o/1d/78/a4/13/exterior-view.jpg awards: [] rankingPosition: 5 priceLevel: $$$$ priceRange: $729 - $1,426 category: hotel rating: 4.5 hotelClass: 0.0 phone: 13055348800 address: 3201 Collins Ave Faena District, Miami Beach, FL 33140-4023 email: reservations-miamibeach@faena.com amenities: [] numberOfRooms: 179 prices: [] latitude: 25.807375 longitude: -80.12364 webUrl:\n",
            "###########\n",
            "id: 7787044 type: HOTEL name: Faena Miami Beach image: https://media-cdn.tripadvisor.com/media/photo-o/1d/78/a4/13/exterior-view.jpg awards: [] rankingPosition: 5 priceLevel: $$$$ priceRange: $729 - $1,426 category: hotel rating: 4.5 hotelClass: 0.0 phone: 13055348800 address: 3201 Collins Ave Faena District, Miami Beach, FL 33140-4023 email: reservations-miamibeach@faena.com amenities: [] numberOfRooms: 179 prices: [] latitude: 25.807375 longitude: -80.12364 webUrl:\n",
            "###########\n",
            "id: 7787044 type: HOTEL name: Faena Miami Beach image: https://media-cdn.tripadvisor.com/media/photo-o/1d/78/a4/13/exterior-view.jpg awards: [] rankingPosition: 5 priceLevel: $$$$ priceRange: $729 - $1,426 category: hotel rating: 4.5 hotelClass: 0.0 phone: 13055348800 address: 3201 Collins Ave Faena District, Miami Beach, FL 33140-4023 email: reservations-miamibeach@faena.com amenities: [] numberOfRooms: 179 prices: [] latitude: 25.807375 longitude: -80.12364 webUrl:\n",
            "###########\n",
            "] latitude: 25.807375 longitude: -80.12364 webUrl: https://www.tripadvisor.com/Hotel_Review-g34439-d7787044-Reviews-Faena_Miami_Beach-Miami_Beach_Florida.html website: https://www.faena.com/miami-beach rankingString: #5 of 235 hotels in Miami Beach rankingDenominator: 235 numberOfReviews: 2123 review: I went for the Burlesque show which was absolutely amazing. The service was top tier. My bartender was Patty, my drinks were great, one of the best whiskey sours I've had. My server Tatiana was awesome, so sweet and attentive. I highly recommend the show if\n",
            "###########\n"
          ]
        }
      ],
      "source": [
        "# Loop through each text chunk in the `contents` list\n",
        "# These are the top-matching results returned by the Qdrant similarity search\n",
        "for i in contents:\n",
        "    # Print the actual text content\n",
        "    print(i)\n",
        "\n",
        "    # Print a separator line to clearly distinguish between different chunks\n",
        "    print('###########')\n"
      ]
    },
    {
      "cell_type": "markdown",
      "metadata": {
        "id": "nHXedMrOKHFM"
      },
      "source": [
        "**5. Create a retriever function to extract relevant chunks from the documents.**"
      ]
    },
    {
      "cell_type": "code",
      "execution_count": null,
      "metadata": {
        "colab": {
          "base_uri": "https://localhost:8080/",
          "height": 17
        },
        "id": "9EBXOh1oKHeh",
        "outputId": "3136fec8-3e3e-4d42-8950-ddf6f7deab22"
      },
      "outputs": [
        {
          "data": {
            "text/html": [
              "\n",
              "    <style>\n",
              "      pre {\n",
              "          white-space: pre-wrap;  /* Enable word-wrapping in code/output blocks */\n",
              "      }\n",
              "    </style>\n",
              "    "
            ],
            "text/plain": [
              "<IPython.core.display.HTML object>"
            ]
          },
          "metadata": {},
          "output_type": "display_data"
        },
        {
          "data": {
            "text/html": [
              "\n",
              "    <style>\n",
              "      pre {\n",
              "          white-space: pre-wrap;  /* Enable word-wrapping in code/output blocks */\n",
              "      }\n",
              "    </style>\n",
              "    "
            ],
            "text/plain": [
              "<IPython.core.display.HTML object>"
            ]
          },
          "metadata": {},
          "output_type": "display_data"
        },
        {
          "data": {
            "text/html": [
              "\n",
              "    <style>\n",
              "      pre {\n",
              "          white-space: pre-wrap;  /* Enable word-wrapping in code/output blocks */\n",
              "      }\n",
              "    </style>\n",
              "    "
            ],
            "text/plain": [
              "<IPython.core.display.HTML object>"
            ]
          },
          "metadata": {},
          "output_type": "display_data"
        },
        {
          "data": {
            "text/html": [
              "\n",
              "    <style>\n",
              "      pre {\n",
              "          white-space: pre-wrap;  /* Enable word-wrapping in code/output blocks */\n",
              "      }\n",
              "    </style>\n",
              "    "
            ],
            "text/plain": [
              "<IPython.core.display.HTML object>"
            ]
          },
          "metadata": {},
          "output_type": "display_data"
        },
        {
          "data": {
            "text/html": [
              "\n",
              "    <style>\n",
              "      pre {\n",
              "          white-space: pre-wrap;  /* Enable word-wrapping in code/output blocks */\n",
              "      }\n",
              "    </style>\n",
              "    "
            ],
            "text/plain": [
              "<IPython.core.display.HTML object>"
            ]
          },
          "metadata": {},
          "output_type": "display_data"
        }
      ],
      "source": [
        "# Define a function to search the Qdrant vector database using a natural language query\n",
        "def query_qdrant(query, qdrant_client, limit=5):\n",
        "    # Step 1: Convert the query text into an embedding (vector representation)\n",
        "    # This embedding will be compared with stored vectors in the collection\n",
        "    query_em = get_text_embeddings(query)\n",
        "\n",
        "    # Step 2: Query the Qdrant collection using the embedding\n",
        "    # This finds the top `limit` most similar text chunks based on vector similarity\n",
        "    text_hits = qdrant_client.query_points(\n",
        "        collection_name=\"demo_collection\",  # The name of the Qdrant collection to search\n",
        "        query=query_em,                     # The embedding of the input query\n",
        "        limit=limit                         # Number of top results to return\n",
        "    ).points                                 # Extract the matching points (results)\n",
        "\n",
        "    # Step 3: Prepare the results in a clean format (text + metadata)\n",
        "    results = []\n",
        "    for point in text_hits:\n",
        "        results.append({\n",
        "            'content': point.payload['content'],    # The original text content\n",
        "            'metadata': point.payload['metadata']   # Associated metadata (e.g., title, row number)\n",
        "        })\n",
        "\n",
        "    # Return the list of results\n",
        "    return results\n"
      ]
    },
    {
      "cell_type": "code",
      "execution_count": null,
      "metadata": {
        "colab": {
          "base_uri": "https://localhost:8080/",
          "height": 595
        },
        "id": "PI7WPLTxKNqg",
        "outputId": "7d3c20e9-75f0-4493-e6f7-95ded091b394"
      },
      "outputs": [
        {
          "data": {
            "text/html": [
              "\n",
              "    <style>\n",
              "      pre {\n",
              "          white-space: pre-wrap;  /* Enable word-wrapping in code/output blocks */\n",
              "      }\n",
              "    </style>\n",
              "    "
            ],
            "text/plain": [
              "<IPython.core.display.HTML object>"
            ]
          },
          "metadata": {},
          "output_type": "display_data"
        },
        {
          "data": {
            "text/html": [
              "\n",
              "    <style>\n",
              "      pre {\n",
              "          white-space: pre-wrap;  /* Enable word-wrapping in code/output blocks */\n",
              "      }\n",
              "    </style>\n",
              "    "
            ],
            "text/plain": [
              "<IPython.core.display.HTML object>"
            ]
          },
          "metadata": {},
          "output_type": "display_data"
        },
        {
          "data": {
            "text/html": [
              "\n",
              "    <style>\n",
              "      pre {\n",
              "          white-space: pre-wrap;  /* Enable word-wrapping in code/output blocks */\n",
              "      }\n",
              "    </style>\n",
              "    "
            ],
            "text/plain": [
              "<IPython.core.display.HTML object>"
            ]
          },
          "metadata": {},
          "output_type": "display_data"
        },
        {
          "data": {
            "text/html": [
              "\n",
              "    <style>\n",
              "      pre {\n",
              "          white-space: pre-wrap;  /* Enable word-wrapping in code/output blocks */\n",
              "      }\n",
              "    </style>\n",
              "    "
            ],
            "text/plain": [
              "<IPython.core.display.HTML object>"
            ]
          },
          "metadata": {},
          "output_type": "display_data"
        },
        {
          "data": {
            "text/html": [
              "\n",
              "    <style>\n",
              "      pre {\n",
              "          white-space: pre-wrap;  /* Enable word-wrapping in code/output blocks */\n",
              "      }\n",
              "    </style>\n",
              "    "
            ],
            "text/plain": [
              "<IPython.core.display.HTML object>"
            ]
          },
          "metadata": {},
          "output_type": "display_data"
        },
        {
          "data": {
            "text/plain": [
              "[{'content': '] latitude: 25.807375 longitude: -80.12364 webUrl: https://www.tripadvisor.com/Hotel_Review-g34439-d7787044-Reviews-Faena_Miami_Beach-Miami_Beach_Florida.html website: https://www.faena.com/miami-beach rankingString: #5 of 235 hotels in Miami Beach rankingDenominator: 235 numberOfReviews: 2123 review: Hands down my absolute favorite hotel in South Beach—there’s no place I’d rather stay. I’ve been back four times in the past six months –each experience is better than the last and I always look forward to coming back. As impressive as the hotel is, the team',\n",
              "  'metadata': {'source': 'Faena Miami Beach'}},\n",
              " {'content': '] latitude: 25.807375 longitude: -80.12364 webUrl: https://www.tripadvisor.com/Hotel_Review-g34439-d7787044-Reviews-Faena_Miami_Beach-Miami_Beach_Florida.html website: https://www.faena.com/miami-beach rankingString: #5 of 235 hotels in Miami Beach rankingDenominator: 235 numberOfReviews: 2123 review: I would like to give our very very heartfelt thanks to Mr. Raúl  Díaz, the Reservations Supervisor  ! He was just so helpful and kind ! He just did an amazing Service ! So when ever you planning to go to Miami you have to stay at the Faena Miami and have to',\n",
              "  'metadata': {'source': 'Faena Miami Beach'}},\n",
              " {'content': '] latitude: 25.807375 longitude: -80.12364 webUrl: https://www.tripadvisor.com/Hotel_Review-g34439-d7787044-Reviews-Faena_Miami_Beach-Miami_Beach_Florida.html website: https://www.faena.com/miami-beach rankingString: #5 of 235 hotels in Miami Beach rankingDenominator: 235 numberOfReviews: 2123 review: There are not enough words to explain the sumptuousness and comfortable elegance you are treated to as a guest at Faena. Their holistic approach to relaxation and community is in paralleled. While every area was wonderful, standouts were Los Fuegos and the',\n",
              "  'metadata': {'source': 'Faena Miami Beach'}},\n",
              " {'content': '] latitude: 25.807375 longitude: -80.12364 webUrl: https://www.tripadvisor.com/Hotel_Review-g34439-d7787044-Reviews-Faena_Miami_Beach-Miami_Beach_Florida.html website: https://www.faena.com/miami-beach rankingString: #5 of 235 hotels in Miami Beach rankingDenominator: 235 numberOfReviews: 2123 review: Dana at Gitano made the night magical! He makes me want to fly to Miami from Chicago for dinner so he can be my server! The hotel is smart to have Dana as a brand ambassador!  Well done Faena Hotel for this! title: Dana at Gitano is a rockstar!',\n",
              "  'metadata': {'source': 'Faena Miami Beach'}},\n",
              " {'content': 'id: 7787044 type: HOTEL name: Faena Miami Beach image: https://media-cdn.tripadvisor.com/media/photo-o/1d/78/a4/13/exterior-view.jpg awards: [] rankingPosition: 5 priceLevel: $$$$ priceRange: $729 - $1,426 category: hotel rating: 4.5 hotelClass: 0.0 phone: 13055348800 address: 3201 Collins Ave Faena District, Miami Beach, FL 33140-4023 email: reservations-miamibeach@faena.com amenities: [] numberOfRooms: 179 prices: [] latitude: 25.807375 longitude: -80.12364 webUrl:',\n",
              "  'metadata': {'source': 'Faena Miami Beach'}}]"
            ]
          },
          "execution_count": 163,
          "metadata": {},
          "output_type": "execute_result"
        }
      ],
      "source": [
        "query_qdrant(query, client)"
      ]
    },
    {
      "cell_type": "markdown",
      "metadata": {
        "id": "cBpR6ENvKR8v"
      },
      "source": [
        "**6. Now, let's integrate everything by combining our Retrieval functiom with the Language Model to complete our RAG (Retrieval-Augmented Generation) pipeline.**"
      ]
    },
    {
      "cell_type": "code",
      "execution_count": null,
      "metadata": {
        "colab": {
          "base_uri": "https://localhost:8080/",
          "height": 17
        },
        "id": "SaDz2BY-KOa8",
        "outputId": "5d364e77-ae51-45a4-e9fa-72711f7aa14a"
      },
      "outputs": [
        {
          "data": {
            "text/html": [
              "\n",
              "    <style>\n",
              "      pre {\n",
              "          white-space: pre-wrap;  /* Enable word-wrapping in code/output blocks */\n",
              "      }\n",
              "    </style>\n",
              "    "
            ],
            "text/plain": [
              "<IPython.core.display.HTML object>"
            ]
          },
          "metadata": {},
          "output_type": "display_data"
        },
        {
          "data": {
            "text/html": [
              "\n",
              "    <style>\n",
              "      pre {\n",
              "          white-space: pre-wrap;  /* Enable word-wrapping in code/output blocks */\n",
              "      }\n",
              "    </style>\n",
              "    "
            ],
            "text/plain": [
              "<IPython.core.display.HTML object>"
            ]
          },
          "metadata": {},
          "output_type": "display_data"
        },
        {
          "data": {
            "text/html": [
              "\n",
              "    <style>\n",
              "      pre {\n",
              "          white-space: pre-wrap;  /* Enable word-wrapping in code/output blocks */\n",
              "      }\n",
              "    </style>\n",
              "    "
            ],
            "text/plain": [
              "<IPython.core.display.HTML object>"
            ]
          },
          "metadata": {},
          "output_type": "display_data"
        },
        {
          "data": {
            "text/html": [
              "\n",
              "    <style>\n",
              "      pre {\n",
              "          white-space: pre-wrap;  /* Enable word-wrapping in code/output blocks */\n",
              "      }\n",
              "    </style>\n",
              "    "
            ],
            "text/plain": [
              "<IPython.core.display.HTML object>"
            ]
          },
          "metadata": {},
          "output_type": "display_data"
        },
        {
          "data": {
            "text/html": [
              "\n",
              "    <style>\n",
              "      pre {\n",
              "          white-space: pre-wrap;  /* Enable word-wrapping in code/output blocks */\n",
              "      }\n",
              "    </style>\n",
              "    "
            ],
            "text/plain": [
              "<IPython.core.display.HTML object>"
            ]
          },
          "metadata": {},
          "output_type": "display_data"
        }
      ],
      "source": [
        "# Define a function that uses a language model to generate an answer based on a user's query\n",
        "def generate_answer(query):\n",
        "    # Build the prompt that will be sent to the LLM\n",
        "    # The prompt includes:\n",
        "    # - Instructions to clean and format the answer\n",
        "    # - The user's original query\n",
        "    # - The context retrieved from Qdrant (via semantic search)\n",
        "    prompt = f\"\"\"\n",
        "    Based on the following query from a user, please generate a small answer\n",
        "    focusing on the original query and the response given. The answer should be paragraphs.\n",
        "    Remove the special characters and (/n), make the output clean and long.\n",
        "    Please cite source for each part as [1][2].\n",
        "    Just start with the answer, no need to give any salutations.\n",
        "\n",
        "    ###########\n",
        "    query:\n",
        "    \"{query}\"\n",
        "\n",
        "    ########\n",
        "\n",
        "    context:\n",
        "    \"{query_qdrant(query, client)}\"\n",
        "    #####\n",
        "\n",
        "    Return in Markdown format.\n",
        "    \"\"\"\n",
        "\n",
        "    # Send the prompt to the LLM using streaming mode\n",
        "    # This allows the response to be received in real-time, piece by piece\n",
        "    stream = open_router_client.chat.completions.create(\n",
        "        model=\"qwen/qwen3-8b:free\",  # Model to use (can be any OpenAI-compatible model)\n",
        "        messages=[\n",
        "            {\n",
        "                \"role\": \"user\",\n",
        "                \"content\": prompt,\n",
        "            },\n",
        "        ],\n",
        "        stream=True,  # Enable streaming so we get partial output as it generates\n",
        "    )\n",
        "\n",
        "    # Initialize a variable to hold the full response\n",
        "    output_text = \"\"\n",
        "\n",
        "    # Iterate through the streaming response chunks\n",
        "    for chunk in stream:\n",
        "        if chunk.choices[0].delta.content is not None:\n",
        "            content = chunk.choices[0].delta.content\n",
        "            output_text += content  # Append new content to the full output\n",
        "            print(content, end=\"\")  # Print each chunk live as it's received\n",
        "\n",
        "    # Return both the final answer and the context used (for reference or display)\n",
        "    return output_text, query_qdrant(query, client)\n"
      ]
    },
    {
      "cell_type": "code",
      "execution_count": null,
      "metadata": {
        "colab": {
          "base_uri": "https://localhost:8080/",
          "height": 238
        },
        "id": "qV4eIY9-KeT5",
        "outputId": "7f4e1a74-5720-40a6-a358-2294a0ba3115"
      },
      "outputs": [
        {
          "data": {
            "text/html": [
              "\n",
              "    <style>\n",
              "      pre {\n",
              "          white-space: pre-wrap;  /* Enable word-wrapping in code/output blocks */\n",
              "      }\n",
              "    </style>\n",
              "    "
            ],
            "text/plain": [
              "<IPython.core.display.HTML object>"
            ]
          },
          "metadata": {},
          "output_type": "display_data"
        },
        {
          "data": {
            "text/html": [
              "\n",
              "    <style>\n",
              "      pre {\n",
              "          white-space: pre-wrap;  /* Enable word-wrapping in code/output blocks */\n",
              "      }\n",
              "    </style>\n",
              "    "
            ],
            "text/plain": [
              "<IPython.core.display.HTML object>"
            ]
          },
          "metadata": {},
          "output_type": "display_data"
        },
        {
          "data": {
            "text/html": [
              "\n",
              "    <style>\n",
              "      pre {\n",
              "          white-space: pre-wrap;  /* Enable word-wrapping in code/output blocks */\n",
              "      }\n",
              "    </style>\n",
              "    "
            ],
            "text/plain": [
              "<IPython.core.display.HTML object>"
            ]
          },
          "metadata": {},
          "output_type": "display_data"
        },
        {
          "data": {
            "text/html": [
              "\n",
              "    <style>\n",
              "      pre {\n",
              "          white-space: pre-wrap;  /* Enable word-wrapping in code/output blocks */\n",
              "      }\n",
              "    </style>\n",
              "    "
            ],
            "text/plain": [
              "<IPython.core.display.HTML object>"
            ]
          },
          "metadata": {},
          "output_type": "display_data"
        },
        {
          "data": {
            "text/html": [
              "\n",
              "    <style>\n",
              "      pre {\n",
              "          white-space: pre-wrap;  /* Enable word-wrapping in code/output blocks */\n",
              "      }\n",
              "    </style>\n",
              "    "
            ],
            "text/plain": [
              "<IPython.core.display.HTML object>"
            ]
          },
          "metadata": {},
          "output_type": "display_data"
        },
        {
          "name": "stdout",
          "output_type": "stream",
          "text": [
            "Faena Miami Beach is a highly recommended hotel located in Miami Beach, Florida, at 3201 Collins Ave, Faena District [1]. It ranks #5 among 235 hotels in the area, with 2123 positive reviews from guests, reflecting its strong reputation for quality and service [1]. The hotel is situated in a prime location, offering easy access to Miami Beach's iconic attractions and vibrant dining scene. Numerous reviews praise the hotel's amenities, with particular emphasis on its culinary offerings. For instance, guests highlight the exceptional dining experience at Los Fuegos, a standout restaurant within the hotel, and commend the personalized service provided by staff members like Dana at Gitano, who is described as a \"rockstar\" for creating memorable dining moments [1]. Additionally, the hotel’s holistic approach to relaxation and community is frequently mentioned, with guests appreciating the blend of comfort and elegance in its facilities [1]. The Faena Miami Beach is also noted for its attentive staff, including Mr. Raúl Díaz, the Reservations Supervisor, who is praised for his kindness and professionalism [1]. Overall, the hotel’s combination of prime location, top-tier service, and exceptional food options makes it an ideal choice for travelers seeking both convenience and luxury in Miami Beach."
          ]
        }
      ],
      "source": [
        "response,sources = generate_answer(query)"
      ]
    },
    {
      "cell_type": "code",
      "execution_count": null,
      "metadata": {
        "colab": {
          "base_uri": "https://localhost:8080/",
          "height": 199
        },
        "id": "R08hGy5TKvN-",
        "outputId": "ed44a8f1-1ddf-42f4-b89b-c4c51e3c4a03"
      },
      "outputs": [
        {
          "data": {
            "text/html": [
              "\n",
              "    <style>\n",
              "      pre {\n",
              "          white-space: pre-wrap;  /* Enable word-wrapping in code/output blocks */\n",
              "      }\n",
              "    </style>\n",
              "    "
            ],
            "text/plain": [
              "<IPython.core.display.HTML object>"
            ]
          },
          "metadata": {},
          "output_type": "display_data"
        },
        {
          "data": {
            "text/html": [
              "\n",
              "    <style>\n",
              "      pre {\n",
              "          white-space: pre-wrap;  /* Enable word-wrapping in code/output blocks */\n",
              "      }\n",
              "    </style>\n",
              "    "
            ],
            "text/plain": [
              "<IPython.core.display.HTML object>"
            ]
          },
          "metadata": {},
          "output_type": "display_data"
        },
        {
          "data": {
            "text/html": [
              "\n",
              "    <style>\n",
              "      pre {\n",
              "          white-space: pre-wrap;  /* Enable word-wrapping in code/output blocks */\n",
              "      }\n",
              "    </style>\n",
              "    "
            ],
            "text/plain": [
              "<IPython.core.display.HTML object>"
            ]
          },
          "metadata": {},
          "output_type": "display_data"
        },
        {
          "data": {
            "text/html": [
              "\n",
              "    <style>\n",
              "      pre {\n",
              "          white-space: pre-wrap;  /* Enable word-wrapping in code/output blocks */\n",
              "      }\n",
              "    </style>\n",
              "    "
            ],
            "text/plain": [
              "<IPython.core.display.HTML object>"
            ]
          },
          "metadata": {},
          "output_type": "display_data"
        },
        {
          "data": {
            "text/html": [
              "\n",
              "    <style>\n",
              "      pre {\n",
              "          white-space: pre-wrap;  /* Enable word-wrapping in code/output blocks */\n",
              "      }\n",
              "    </style>\n",
              "    "
            ],
            "text/plain": [
              "<IPython.core.display.HTML object>"
            ]
          },
          "metadata": {},
          "output_type": "display_data"
        },
        {
          "data": {
            "text/html": [
              "<p>Faena Miami Beach is a highly recommended hotel located in Miami Beach, Florida, at 3201 Collins Ave, Faena District [1]. It ranks #5 among 235 hotels in the area, with 2123 positive reviews from guests, reflecting its strong reputation for quality and service [1]. The hotel is situated in a prime location, offering easy access to Miami Beach's iconic attractions and vibrant dining scene. Numerous reviews praise the hotel's amenities, with particular emphasis on its culinary offerings. For instance, guests highlight the exceptional dining experience at Los Fuegos, a standout restaurant within the hotel, and commend the personalized service provided by staff members like Dana at Gitano, who is described as a \"rockstar\" for creating memorable dining moments [1]. Additionally, the hotel’s holistic approach to relaxation and community is frequently mentioned, with guests appreciating the blend of comfort and elegance in its facilities [1]. The Faena Miami Beach is also noted for its attentive staff, including Mr. Raúl Díaz, the Reservations Supervisor, who is praised for his kindness and professionalism [1]. Overall, the hotel’s combination of prime location, top-tier service, and exceptional food options makes it an ideal choice for travelers seeking both convenience and luxury in Miami Beach.</p>"
            ],
            "text/plain": [
              "<IPython.core.display.HTML object>"
            ]
          },
          "metadata": {},
          "output_type": "display_data"
        }
      ],
      "source": [
        "#for markdown layout\n",
        "render_markdown(response)"
      ]
    },
    {
      "cell_type": "markdown",
      "metadata": {
        "id": "dMAcLhWBKyjB"
      },
      "source": [
        "## Time to Build a functional Gradio interface to interact with the RAG system."
      ]
    },
    {
      "cell_type": "code",
      "execution_count": null,
      "metadata": {
        "colab": {
          "base_uri": "https://localhost:8080/",
          "height": 17
        },
        "id": "DzlrpSQDKzir",
        "outputId": "f6e261e7-ec98-4afe-cbd1-d58ce0caa62c"
      },
      "outputs": [
        {
          "data": {
            "text/html": [
              "\n",
              "    <style>\n",
              "      pre {\n",
              "          white-space: pre-wrap;  /* Enable word-wrapping in code/output blocks */\n",
              "      }\n",
              "    </style>\n",
              "    "
            ],
            "text/plain": [
              "<IPython.core.display.HTML object>"
            ]
          },
          "metadata": {},
          "output_type": "display_data"
        },
        {
          "data": {
            "text/html": [
              "\n",
              "    <style>\n",
              "      pre {\n",
              "          white-space: pre-wrap;  /* Enable word-wrapping in code/output blocks */\n",
              "      }\n",
              "    </style>\n",
              "    "
            ],
            "text/plain": [
              "<IPython.core.display.HTML object>"
            ]
          },
          "metadata": {},
          "output_type": "display_data"
        },
        {
          "data": {
            "text/html": [
              "\n",
              "    <style>\n",
              "      pre {\n",
              "          white-space: pre-wrap;  /* Enable word-wrapping in code/output blocks */\n",
              "      }\n",
              "    </style>\n",
              "    "
            ],
            "text/plain": [
              "<IPython.core.display.HTML object>"
            ]
          },
          "metadata": {},
          "output_type": "display_data"
        },
        {
          "data": {
            "text/html": [
              "\n",
              "    <style>\n",
              "      pre {\n",
              "          white-space: pre-wrap;  /* Enable word-wrapping in code/output blocks */\n",
              "      }\n",
              "    </style>\n",
              "    "
            ],
            "text/plain": [
              "<IPython.core.display.HTML object>"
            ]
          },
          "metadata": {},
          "output_type": "display_data"
        },
        {
          "data": {
            "text/html": [
              "\n",
              "    <style>\n",
              "      pre {\n",
              "          white-space: pre-wrap;  /* Enable word-wrapping in code/output blocks */\n",
              "      }\n",
              "    </style>\n",
              "    "
            ],
            "text/plain": [
              "<IPython.core.display.HTML object>"
            ]
          },
          "metadata": {},
          "output_type": "display_data"
        }
      ],
      "source": [
        "import gradio as gr"
      ]
    },
    {
      "cell_type": "markdown",
      "metadata": {
        "id": "E6UjqV9lLFs-"
      },
      "source": [
        "**1. Redefine our RAG function**"
      ]
    },
    {
      "cell_type": "code",
      "execution_count": null,
      "metadata": {
        "colab": {
          "base_uri": "https://localhost:8080/",
          "height": 17
        },
        "id": "7m95aVNHK7O_",
        "outputId": "d44afb1a-13f9-4ed4-ad44-46de2a81e2a7"
      },
      "outputs": [
        {
          "data": {
            "text/html": [
              "\n",
              "    <style>\n",
              "      pre {\n",
              "          white-space: pre-wrap;  /* Enable word-wrapping in code/output blocks */\n",
              "      }\n",
              "    </style>\n",
              "    "
            ],
            "text/plain": [
              "<IPython.core.display.HTML object>"
            ]
          },
          "metadata": {},
          "output_type": "display_data"
        },
        {
          "data": {
            "text/html": [
              "\n",
              "    <style>\n",
              "      pre {\n",
              "          white-space: pre-wrap;  /* Enable word-wrapping in code/output blocks */\n",
              "      }\n",
              "    </style>\n",
              "    "
            ],
            "text/plain": [
              "<IPython.core.display.HTML object>"
            ]
          },
          "metadata": {},
          "output_type": "display_data"
        },
        {
          "data": {
            "text/html": [
              "\n",
              "    <style>\n",
              "      pre {\n",
              "          white-space: pre-wrap;  /* Enable word-wrapping in code/output blocks */\n",
              "      }\n",
              "    </style>\n",
              "    "
            ],
            "text/plain": [
              "<IPython.core.display.HTML object>"
            ]
          },
          "metadata": {},
          "output_type": "display_data"
        },
        {
          "data": {
            "text/html": [
              "\n",
              "    <style>\n",
              "      pre {\n",
              "          white-space: pre-wrap;  /* Enable word-wrapping in code/output blocks */\n",
              "      }\n",
              "    </style>\n",
              "    "
            ],
            "text/plain": [
              "<IPython.core.display.HTML object>"
            ]
          },
          "metadata": {},
          "output_type": "display_data"
        },
        {
          "data": {
            "text/html": [
              "\n",
              "    <style>\n",
              "      pre {\n",
              "          white-space: pre-wrap;  /* Enable word-wrapping in code/output blocks */\n",
              "      }\n",
              "    </style>\n",
              "    "
            ],
            "text/plain": [
              "<IPython.core.display.HTML object>"
            ]
          },
          "metadata": {},
          "output_type": "display_data"
        }
      ],
      "source": [
        "# Import OpenAI-compatible library (used here with OpenRouter)\n",
        "import openai\n",
        "\n",
        "# Define a function to generate a streamed answer to a user's query using an LLM\n",
        "# This version includes error handling and uses Python's `yield` to stream results back as they're generated\n",
        "def generate_answer(query):\n",
        "    # Step 1: Try to get relevant context from Qdrant (vector search)\n",
        "    try:\n",
        "        sources = query_qdrant(query, client)\n",
        "    except Exception as e:\n",
        "        # If something goes wrong (e.g., Qdrant is not running), return a fallback message\n",
        "        sources = [{\"error\": f\"Error retrieving sources: {str(e)}\"}]\n",
        "\n",
        "    # Step 2: Prepare the prompt for the language model\n",
        "    # Includes the user's question and the context retrieved from the vector database\n",
        "    prompt = f\"\"\"\n",
        "    Based on the following query from a user, please generate a small answer\n",
        "    focusing on the original query and the response given. The answer should be paragraphs.\n",
        "    Remove special characters and (/n); make the output clean and long.\n",
        "    Please cite source for each part as [1][2]. Just start with the answer — no salutations.\n",
        "\n",
        "    ###########\n",
        "    query:\n",
        "    \"{query}\"\n",
        "\n",
        "    ########\n",
        "\n",
        "    context:\n",
        "    \"{sources}\"\n",
        "    #####\n",
        "\n",
        "    Return in Markdown format.\n",
        "    \"\"\"\n",
        "\n",
        "    # Step 3: Send the prompt to the OpenRouter-compatible LLM (Qwen model)\n",
        "    stream = open_router_client.chat.completions.create(\n",
        "        model=\"qwen/qwen3-8b:free\",  # A free-to-use large language model hosted on OpenRouter\n",
        "        messages=[\n",
        "            {\n",
        "                \"role\": \"user\",\n",
        "                \"content\": prompt,\n",
        "            },\n",
        "        ],\n",
        "        stream=True,  # Enable streaming response\n",
        "    )\n",
        "\n",
        "    # Step 4: Stream and yield the generated content chunk by chunk\n",
        "    full_response = \"\"\n",
        "    for chunk in stream:\n",
        "        if chunk.choices[0].delta.content is not None:\n",
        "            content = chunk.choices[0].delta.content\n",
        "            full_response += content\n",
        "\n",
        "            # Yield lets us return partial results as they're received (for real-time feedback)\n",
        "            yield full_response\n"
      ]
    },
    {
      "cell_type": "markdown",
      "metadata": {
        "id": "yhA94_wtLP0Y"
      },
      "source": [
        "**2. Create a Demo Interface**"
      ]
    },
    {
      "cell_type": "code",
      "execution_count": null,
      "metadata": {
        "colab": {
          "base_uri": "https://localhost:8080/",
          "height": 606
        },
        "id": "qBKeIxdoLRKZ",
        "outputId": "67bfba87-d1b2-40a5-f2ca-ee26527f644a"
      },
      "outputs": [
        {
          "data": {
            "text/html": [
              "\n",
              "    <style>\n",
              "      pre {\n",
              "          white-space: pre-wrap;  /* Enable word-wrapping in code/output blocks */\n",
              "      }\n",
              "    </style>\n",
              "    "
            ],
            "text/plain": [
              "<IPython.core.display.HTML object>"
            ]
          },
          "metadata": {},
          "output_type": "display_data"
        },
        {
          "data": {
            "text/html": [
              "\n",
              "    <style>\n",
              "      pre {\n",
              "          white-space: pre-wrap;  /* Enable word-wrapping in code/output blocks */\n",
              "      }\n",
              "    </style>\n",
              "    "
            ],
            "text/plain": [
              "<IPython.core.display.HTML object>"
            ]
          },
          "metadata": {},
          "output_type": "display_data"
        },
        {
          "data": {
            "text/html": [
              "\n",
              "    <style>\n",
              "      pre {\n",
              "          white-space: pre-wrap;  /* Enable word-wrapping in code/output blocks */\n",
              "      }\n",
              "    </style>\n",
              "    "
            ],
            "text/plain": [
              "<IPython.core.display.HTML object>"
            ]
          },
          "metadata": {},
          "output_type": "display_data"
        },
        {
          "data": {
            "text/html": [
              "\n",
              "    <style>\n",
              "      pre {\n",
              "          white-space: pre-wrap;  /* Enable word-wrapping in code/output blocks */\n",
              "      }\n",
              "    </style>\n",
              "    "
            ],
            "text/plain": [
              "<IPython.core.display.HTML object>"
            ]
          },
          "metadata": {},
          "output_type": "display_data"
        },
        {
          "data": {
            "text/html": [
              "\n",
              "    <style>\n",
              "      pre {\n",
              "          white-space: pre-wrap;  /* Enable word-wrapping in code/output blocks */\n",
              "      }\n",
              "    </style>\n",
              "    "
            ],
            "text/plain": [
              "<IPython.core.display.HTML object>"
            ]
          },
          "metadata": {},
          "output_type": "display_data"
        },
        {
          "name": "stdout",
          "output_type": "stream",
          "text": [
            "Colab notebook detected. To show errors in colab notebook, set debug=True in launch()\n",
            "* Running on public URL: https://653945463ccfdeea14.gradio.live\n",
            "\n",
            "This share link expires in 1 week. For free permanent hosting and GPU upgrades, run `gradio deploy` from the terminal in the working directory to deploy to Hugging Face Spaces (https://huggingface.co/spaces)\n"
          ]
        },
        {
          "data": {
            "text/html": [
              "<div><iframe src=\"https://653945463ccfdeea14.gradio.live\" width=\"100%\" height=\"500\" allow=\"autoplay; camera; microphone; clipboard-read; clipboard-write;\" frameborder=\"0\" allowfullscreen></iframe></div>"
            ],
            "text/plain": [
              "<IPython.core.display.HTML object>"
            ]
          },
          "metadata": {},
          "output_type": "display_data"
        },
        {
          "data": {
            "text/plain": []
          },
          "execution_count": 170,
          "metadata": {},
          "output_type": "execute_result"
        }
      ],
      "source": [
        "# Define example inputs for the UI — users can click these to try predefined queries\n",
        "examples = [\n",
        "    [\"Affordable beachfront hotels in Miami with free breakfast\"],\n",
        "    [\"Luxury 5-star hotels near South Beach Miami\"],\n",
        "    [\"Pet-friendly hotels in downtown Miami with parking\"],\n",
        "    [\"Hotels in Miami close to the airport with free shuttle service\"],\n",
        "    [\"Family-friendly Miami hotels with pool and kid activities\"]\n",
        "]\n",
        "\n",
        "\n",
        "# Set up the Gradio interface\n",
        "# - fn: the function to call when user enters input (must be a generator if using yield)\n",
        "# - title: the name shown at the top of the web app\n",
        "# - inputs: defines the input component (in this case, a text box)\n",
        "# - outputs: defines what kind of output to display (Textbox with 3 lines labeled \"Response\")\n",
        "# - examples: preloaded example queries for users to click and run\n",
        "\n",
        "import gradio as gr\n",
        "\n",
        "demo = gr.Interface(\n",
        "    fn=generate_answer,  # The function that will process user input\n",
        "    title=\"Miami Hotels Search\",  # Title for the web app\n",
        "    inputs=\"text\",  # Single text input from the user\n",
        "    outputs=gr.components.Textbox(lines=3, label=\"Response\"),  # Output display\n",
        "    examples=examples,  # List of sample queries for users to try\n",
        "    live=False,  # Optional: set to True if you want real-time feedback as user types\n",
        ")\n",
        "\n",
        "# Launch the interface\n",
        "# - share=True gives you a public link (useful in Colab or for sharing with others)\n",
        "# - debug=True enables logging for error tracking\n",
        "demo.launch(share=True)\n"
      ]
    },
    {
      "cell_type": "markdown",
      "metadata": {
        "id": "FQBN4NTKMgKv"
      },
      "source": [
        "**3. Create a Demo Interface with Sources**"
      ]
    },
    {
      "cell_type": "code",
      "execution_count": null,
      "metadata": {
        "colab": {
          "base_uri": "https://localhost:8080/",
          "height": 660
        },
        "id": "cMiNSarNLtzg",
        "outputId": "4d346c7c-1b4c-4428-e253-8a7be989ed50"
      },
      "outputs": [
        {
          "data": {
            "text/html": [
              "\n",
              "    <style>\n",
              "      pre {\n",
              "          white-space: pre-wrap;  /* Enable word-wrapping in code/output blocks */\n",
              "      }\n",
              "    </style>\n",
              "    "
            ],
            "text/plain": [
              "<IPython.core.display.HTML object>"
            ]
          },
          "metadata": {},
          "output_type": "display_data"
        },
        {
          "data": {
            "text/html": [
              "\n",
              "    <style>\n",
              "      pre {\n",
              "          white-space: pre-wrap;  /* Enable word-wrapping in code/output blocks */\n",
              "      }\n",
              "    </style>\n",
              "    "
            ],
            "text/plain": [
              "<IPython.core.display.HTML object>"
            ]
          },
          "metadata": {},
          "output_type": "display_data"
        },
        {
          "name": "stdout",
          "output_type": "stream",
          "text": [
            "Colab notebook detected. This cell will run indefinitely so that you can see errors and logs. To turn off, set debug=False in launch().\n",
            "* Running on public URL: https://1cf7ef77b27a0f8adf.gradio.live\n",
            "\n",
            "This share link expires in 1 week. For free permanent hosting and GPU upgrades, run `gradio deploy` from the terminal in the working directory to deploy to Hugging Face Spaces (https://huggingface.co/spaces)\n"
          ]
        },
        {
          "data": {
            "text/html": [
              "<div><iframe src=\"https://1cf7ef77b27a0f8adf.gradio.live\" width=\"100%\" height=\"500\" allow=\"autoplay; camera; microphone; clipboard-read; clipboard-write;\" frameborder=\"0\" allowfullscreen></iframe></div>"
            ],
            "text/plain": [
              "<IPython.core.display.HTML object>"
            ]
          },
          "metadata": {},
          "output_type": "display_data"
        },
        {
          "name": "stdout",
          "output_type": "stream",
          "text": [
            "Keyboard interruption in main thread... closing server.\n",
            "Killing tunnel 127.0.0.1:7862 <> https://5a2149f8ed420fa886.gradio.live\n",
            "Killing tunnel 127.0.0.1:7863 <> https://1cf7ef77b27a0f8adf.gradio.live\n"
          ]
        },
        {
          "data": {
            "text/plain": []
          },
          "execution_count": 88,
          "metadata": {},
          "output_type": "execute_result"
        }
      ],
      "source": [
        "import json\n",
        "\n",
        "def generate_answer(query):\n",
        "    # First, get the sources\n",
        "    try:\n",
        "        sources = query_qdrant(query, client)\n",
        "    except Exception as e:\n",
        "        sources = [{\"error\": f\"Error retrieving sources: {str(e)}\"}]\n",
        "\n",
        "    # Convert the sources list to a string for the prompt\n",
        "    #sources_str = \"\\n\".join([f\"Source {i+1}: {source['content']}\" for i, source in enumerate(sources)])\n",
        "\n",
        "    prompt = f\"\"\"\n",
        "    Based on the following query from a user, please generate a small answer\n",
        "    focusing on the original query and the response given. The answer should be paragraphs\n",
        "    remove the special characters and (/n ), make the output clean and long. Please cite source for each part as [1][2]\n",
        "    Just start with the answer, no need to give any salutations\n",
        "\n",
        "    ###########\n",
        "    query:\n",
        "    \"{query}\"\n",
        "\n",
        "    ########\n",
        "\n",
        "    context:\n",
        "    \"{sources}\"\n",
        "    #####\n",
        "\n",
        "    Return in Markdown format.\n",
        "    \"\"\"\n",
        "\n",
        "    # Send the prompt to the OpenRouter-compatible LLM (Qwen model)\n",
        "    stream = open_router_client.chat.completions.create(\n",
        "        model=\"qwen/qwen3-8b:free\",  # A free-to-use large language model hosted on OpenRouter\n",
        "        messages=[\n",
        "            {\n",
        "                \"role\": \"user\",\n",
        "                \"content\": prompt,\n",
        "            },\n",
        "        ],\n",
        "        stream=True,  # Enable streaming response\n",
        "    )\n",
        "    # Convert sources to a proper JSON string for the JSON component\n",
        "    sources_json = json.dumps(sources)\n",
        "\n",
        "    # For Gradio streaming with multiple outputs\n",
        "    full_response = \"\"\n",
        "    for chunk in stream:\n",
        "        if chunk.choices[0].delta.content is not None:\n",
        "            content = chunk.choices[0].delta.content\n",
        "            full_response += content\n",
        "            # Return both the accumulated response and the sources as JSON string\n",
        "            yield full_response, sources_json\n",
        "\n",
        "    # In case the stream is empty, yield one final time\n",
        "    if not full_response:\n",
        "        yield \"No response generated\", sources_json\n",
        "\n",
        "examples = [\n",
        "    [\"Democrats in Senate\"],\n",
        "    [\"Climate Change Challenges in Europe\"],\n",
        "    [\"Philosophy in the world of Minimalism\"],\n",
        "    [\"Hate Speech vs Freedom of Speech\"],\n",
        "    [\"Articles by Noam Chomsky on US Politics\"],\n",
        "    [\"The importance of values and reflection\"]\n",
        "]\n",
        "\n",
        "demo = gr.Interface(\n",
        "    fn=generate_answer,\n",
        "    title=\"The Truth Serum\",\n",
        "    inputs=\"text\",\n",
        "    outputs=[\n",
        "        gr.components.Textbox(lines=8, label=\"Response\"),\n",
        "        gr.components.JSON(label=\"Sources\")\n",
        "    ],\n",
        "    examples=examples\n",
        ")\n",
        "\n",
        "demo.queue()\n",
        "demo.launch(share=True, debug=True)"
      ]
    },
    {
      "cell_type": "code",
      "execution_count": null,
      "metadata": {
        "id": "-NGxa_zvMFE2"
      },
      "outputs": [],
      "source": []
    }
  ],
  "metadata": {
    "accelerator": "GPU",
    "colab": {
      "gpuType": "T4",
      "provenance": []
    },
    "kernelspec": {
      "display_name": "Python 3",
      "name": "python3"
    },
    "language_info": {
      "name": "python"
    }
  },
  "nbformat": 4,
  "nbformat_minor": 0
}
