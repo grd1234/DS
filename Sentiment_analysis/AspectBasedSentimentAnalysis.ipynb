{
  "cells": [
    {
      "cell_type": "code",
      "execution_count": 16,
      "metadata": {
        "colab": {
          "base_uri": "https://localhost:8080/"
        },
        "id": "305LHtJphv9S",
        "outputId": "8f64fec9-fc45-49b7-d8b6-4e005179fe2b"
      },
      "outputs": [
        {
          "name": "stdout",
          "output_type": "stream",
          "text": [
            "Mounted at /content/drive\n"
          ]
        }
      ],
      "source": [
        "from google.colab import drive\n",
        "drive.mount('/content/drive')"
      ]
    },
    {
      "cell_type": "markdown",
      "metadata": {
        "id": "zJLtsQobpd0R"
      },
      "source": [
        "<center>\n",
        "<h1><b>Classification and Summarization with LLMs</b>\n",
        "</center>"
      ]
    },
    {
      "cell_type": "markdown",
      "metadata": {
        "id": "kNCeIToJPahi"
      },
      "source": [
        "## Business Scenario\n",
        "\n",
        "In this case study, we find ourselves in the role of data scientists at Apple. Our task is to support product managers in gathering feedback on MacBooks (and laptops in general) to enhance product design for the upcoming year. Our goal is to identify features to develop, retain, or phase out based on customer preferences. We aim to understand which features resonate with customers, identify areas for improvement, and address any concerns they may have. The primary sources of feedback are customer reviews on e-commerce platforms and YouTube reviews by influencers in the tech industry.\n",
        "\n",
        "To achieve this objective, we will undertake the following steps:\n",
        "\n",
        "1. Extract feedback from Amazon reviews and utilize aspect-based sentiment analysis to evaluate sentiment at a granular level, focusing on specific components such as the keyboard, CPU, etc. We will also gather insights about our product as well as competitors'.\n",
        "\n",
        "2. Extract feedback from tech influencers on YouTube by analyzing transcripts of their videos. This analysis will help us distill key points from their reviews, highlighting what they liked, what they found lacking, and their expectations for future iterations of the product."
      ]
    },
    {
      "cell_type": "markdown",
      "metadata": {
        "id": "CHMPXikbmX-d"
      },
      "source": [
        "# Setup"
      ]
    },
    {
      "cell_type": "code",
      "execution_count": 1,
      "metadata": {
        "colab": {
          "base_uri": "https://localhost:8080/"
        },
        "id": "QsJ76EL1XFha",
        "outputId": "b1879267-e6b9-423a-a1f6-3cea0dfe5c3f"
      },
      "outputs": [
        {
          "name": "stdout",
          "output_type": "stream",
          "text": [
            "\u001b[?25l   \u001b[90m━━━━━━━━━━━━━━━━━━━━━━━━━━━━━━━━━━━━━━━━\u001b[0m \u001b[32m0.0/311.2 kB\u001b[0m \u001b[31m?\u001b[0m eta \u001b[36m-:--:--\u001b[0m\r\u001b[2K   \u001b[90m━━━━━━━━━━━━━━━━━━━━━━━━━━━━━━━━━━━━━━━━\u001b[0m \u001b[32m311.2/311.2 kB\u001b[0m \u001b[31m10.7 MB/s\u001b[0m eta \u001b[36m0:00:00\u001b[0m\n",
            "\u001b[?25h"
          ]
        }
      ],
      "source": [
        "!pip install -q openai==1.23.2 datasets tiktoken"
      ]
    },
    {
      "cell_type": "markdown",
      "metadata": {
        "id": "7st-nMGCXFhb"
      },
      "source": [
        "# Authentication"
      ]
    },
    {
      "cell_type": "code",
      "execution_count": 11,
      "metadata": {
        "colab": {
          "base_uri": "https://localhost:8080/"
        },
        "id": "j_wNTNXtRBUa",
        "outputId": "cbb8ce66-4a3e-4ae7-dd3c-6c69086e3fc8"
      },
      "outputs": [
        {
          "name": "stdout",
          "output_type": "stream",
          "text": [
            "\u001b[?25l   \u001b[90m━━━━━━━━━━━━━━━━━━━━━━━━━━━━━━━━━━━━━━━━\u001b[0m \u001b[32m0.0/76.4 kB\u001b[0m \u001b[31m?\u001b[0m eta \u001b[36m-:--:--\u001b[0m\r\u001b[2K   \u001b[90m━━━━━━━━━━━━━━━━━━━━━━━━━━━━━━━━━━━━━━━━\u001b[0m \u001b[32m76.4/76.4 kB\u001b[0m \u001b[31m6.5 MB/s\u001b[0m eta \u001b[36m0:00:00\u001b[0m\n",
            "\u001b[?25h\u001b[31mERROR: pip's dependency resolver does not currently take into account all the packages that are installed. This behaviour is the source of the following dependency conflicts.\n",
            "google-genai 1.16.1 requires httpx<1.0.0,>=0.28.1, but you have httpx 0.27.2 which is incompatible.\u001b[0m\u001b[31m\n",
            "\u001b[0m"
          ]
        }
      ],
      "source": [
        "!pip install -q  httpx==0.27.2"
      ]
    },
    {
      "cell_type": "code",
      "execution_count": 18,
      "metadata": {
        "colab": {
          "base_uri": "https://localhost:8080/"
        },
        "id": "YcIUg7rmS5gT",
        "outputId": "fac8d83d-555c-465d-b83a-23dc8db71af3"
      },
      "outputs": [
        {
          "name": "stdout",
          "output_type": "stream",
          "text": [
            "Found existing installation: numpy 1.26.0\n",
            "Uninstalling numpy-1.26.0:\n",
            "  Successfully uninstalled numpy-1.26.0\n"
          ]
        }
      ],
      "source": [
        "!pip uninstall numpy -y"
      ]
    },
    {
      "cell_type": "code",
      "execution_count": 19,
      "metadata": {
        "colab": {
          "base_uri": "https://localhost:8080/"
        },
        "id": "nAyQE2rFSkbW",
        "outputId": "ee5d3dc2-979d-4051-b76c-4919be4b1307"
      },
      "outputs": [
        {
          "name": "stdout",
          "output_type": "stream",
          "text": [
            "\u001b[31mERROR: pip's dependency resolver does not currently take into account all the packages that are installed. This behaviour is the source of the following dependency conflicts.\n",
            "thinc 8.3.6 requires numpy<3.0.0,>=2.0.0, but you have numpy 1.26.0 which is incompatible.\u001b[0m\u001b[31m\n",
            "\u001b[0m"
          ]
        }
      ],
      "source": [
        "# Install the necessary libraries\n",
        "!pip install -q numpy==1.26.0 \\\n",
        "                httpx==0.27.2 \\\n",
        "                openai==1.23.2 \\\n",
        "                tiktoken==0.6.0 \\\n",
        "                datasets"
      ]
    },
    {
      "cell_type": "code",
      "execution_count": 20,
      "metadata": {
        "colab": {
          "base_uri": "https://localhost:8080/"
        },
        "id": "1G_TtZkDSymq",
        "outputId": "d4834395-320d-4626-ca09-e5c8e2e4fb55"
      },
      "outputs": [
        {
          "name": "stdout",
          "output_type": "stream",
          "text": [
            "Found existing installation: jax 0.5.2\n",
            "Uninstalling jax-0.5.2:\n",
            "  Successfully uninstalled jax-0.5.2\n",
            "Found existing installation: jaxlib 0.5.1\n",
            "Uninstalling jaxlib-0.5.1:\n",
            "  Successfully uninstalled jaxlib-0.5.1\n",
            "Found existing installation: thinc 8.3.6\n",
            "Uninstalling thinc-8.3.6:\n",
            "  Successfully uninstalled thinc-8.3.6\n",
            "Found existing installation: treescope 0.1.9\n",
            "Uninstalling treescope-0.1.9:\n",
            "  Successfully uninstalled treescope-0.1.9\n",
            "Found existing installation: pymc 5.22.0\n",
            "Uninstalling pymc-5.22.0:\n",
            "  Successfully uninstalled pymc-5.22.0\n",
            "Found existing installation: db-dtypes 1.4.3\n",
            "Uninstalling db-dtypes-1.4.3:\n",
            "  Successfully uninstalled db-dtypes-1.4.3\n",
            "Found existing installation: chex 0.1.89\n",
            "Uninstalling chex-0.1.89:\n",
            "  Successfully uninstalled chex-0.1.89\n",
            "Found existing installation: albumentations 2.0.7\n",
            "Uninstalling albumentations-2.0.7:\n",
            "  Successfully uninstalled albumentations-2.0.7\n",
            "Found existing installation: blosc2 3.3.3\n",
            "Uninstalling blosc2-3.3.3:\n",
            "  Successfully uninstalled blosc2-3.3.3\n",
            "Found existing installation: imbalanced-learn 0.13.0\n",
            "Uninstalling imbalanced-learn-0.13.0:\n",
            "  Successfully uninstalled imbalanced-learn-0.13.0\n",
            "Found existing installation: scikit-image 0.25.2\n",
            "Uninstalling scikit-image-0.25.2:\n",
            "  Successfully uninstalled scikit-image-0.25.2\n",
            "Found existing installation: bigframes 2.4.0\n",
            "Uninstalling bigframes-2.4.0:\n",
            "  Successfully uninstalled bigframes-2.4.0\n",
            "Found existing installation: albucore 0.0.24\n",
            "Uninstalling albucore-0.0.24:\n",
            "  Successfully uninstalled albucore-0.0.24\n",
            "Found existing installation: xarray 2025.3.1\n",
            "Uninstalling xarray-2025.3.1:\n",
            "  Successfully uninstalled xarray-2025.3.1\n",
            "Found existing installation: tensorflow 2.18.0\n",
            "Uninstalling tensorflow-2.18.0:\n",
            "  Successfully uninstalled tensorflow-2.18.0\n"
          ]
        }
      ],
      "source": [
        "!pip uninstall -y jax jaxlib thinc treescope pymc db-dtypes chex albumentations blosc2 imbalanced-learn scikit-image bigframes albucore xarray tensorflow"
      ]
    },
    {
      "cell_type": "code",
      "execution_count": 7,
      "metadata": {
        "id": "i1KH0-sNTGSm"
      },
      "outputs": [],
      "source": [
        "!pip install -q \\\n",
        "numpy==1.26.0 \\\n",
        "httpx==0.27.2 \\\n",
        "openai==1.23.2 \\\n",
        "tiktoken==0.6.0 \\\n",
        "datasets\n",
        "\n",
        "# Restart the runtime after installing libraries, other wise OpenAi client errors out with a Proxy error"
      ]
    },
    {
      "cell_type": "code",
      "execution_count": 42,
      "metadata": {
        "id": "CuPUZJZWWwoq"
      },
      "outputs": [],
      "source": [
        "# not required\n",
        "\n",
        "# !pip install -q --no-cache-dir \\\n",
        "#     numpy==1.26.0 \\\n",
        "#     httpx==0.27.2 \\\n",
        "#     openai==1.23.2 \\\n",
        "#     tiktoken==0.6.0 \\\n",
        "#     datasets"
      ]
    },
    {
      "cell_type": "code",
      "execution_count": 25,
      "metadata": {
        "colab": {
          "base_uri": "https://localhost:8080/"
        },
        "id": "BLMfdoXTi9_7",
        "outputId": "68658774-06b3-4781-8476-17164a2a4a44"
      },
      "outputs": [
        {
          "name": "stdout",
          "output_type": "stream",
          "text": [
            "Name: datasets\n",
            "Version: 2.14.4\n",
            "Summary: HuggingFace community-driven open-source library of datasets\n",
            "Home-page: https://github.com/huggingface/datasets\n",
            "Author: HuggingFace Inc.\n",
            "Author-email: thomas@huggingface.co\n",
            "License: Apache 2.0\n",
            "Location: /usr/local/lib/python3.11/dist-packages\n",
            "Requires: aiohttp, dill, fsspec, huggingface-hub, multiprocess, numpy, packaging, pandas, pyarrow, pyyaml, requests, tqdm, xxhash\n",
            "Required-by: torchtune\n"
          ]
        }
      ],
      "source": [
        "!pip show datasets"
      ]
    },
    {
      "cell_type": "code",
      "execution_count": 3,
      "metadata": {
        "id": "ajAftbDZiFHH"
      },
      "outputs": [],
      "source": [
        "import pandas as pd\n",
        "import numpy as np\n",
        "\n",
        "from openai import OpenAI\n",
        "from datasets import load_dataset\n",
        "import tiktoken\n",
        "import json\n",
        "import random\n",
        "\n",
        "from tqdm import tqdm\n",
        "from datasets import load_dataset\n",
        "from collections import Counter\n",
        "from sklearn.model_selection import train_test_split\n",
        "from sklearn.metrics import f1_score\n",
        "\n",
        "import os\n",
        "from google.colab import userdata\n",
        "\n",
        "os.environ['OPENAI_API_KEY']  = userdata.get('OPENAI_API_KEY')\n",
        "\n",
        "api_key = os.environ['OPENAI_API_KEY']\n",
        "#print(api_key)\n",
        "\n",
        "# restart the runtime after installing libraries and before creating openai client\n",
        "client = OpenAI(api_key=api_key)"
      ]
    },
    {
      "cell_type": "code",
      "execution_count": null,
      "metadata": {
        "id": "wLD7Yzd3WaNE"
      },
      "outputs": [],
      "source": [
        "import os\n",
        "print(os.environ.get('HTTP_PROXY'))\n",
        "print(os.environ.get('HTTPS_PROXY'))\n",
        "print(os.environ.get('ALL_PROXY'))"
      ]
    },
    {
      "cell_type": "code",
      "execution_count": 41,
      "metadata": {
        "colab": {
          "base_uri": "https://localhost:8080/"
        },
        "id": "Z-r-uc42WpR4",
        "outputId": "6e6344e0-0588-4aed-8398-9c15267ffd69"
      },
      "outputs": [
        {
          "name": "stdout",
          "output_type": "stream",
          "text": [
            "httpx client initialized successfully\n"
          ]
        }
      ],
      "source": [
        "import httpx\n",
        "\n",
        "try:\n",
        "    httpx_client = httpx.Client()\n",
        "    print(\"httpx client initialized successfully\")\n",
        "except TypeError as e:\n",
        "    print(f\"Error initializing httpx client: {e}\")"
      ]
    },
    {
      "cell_type": "code",
      "execution_count": 5,
      "metadata": {
        "colab": {
          "base_uri": "https://localhost:8080/"
        },
        "id": "pB9T2lj7s4Np",
        "outputId": "9079dd6f-6660-4b08-9347-3f111dcddcb1"
      },
      "outputs": [
        {
          "name": "stdout",
          "output_type": "stream",
          "text": [
            "Hello! How can I assist you today?\n"
          ]
        }
      ],
      "source": [
        "# Test the client after instantiating\n",
        "import os\n",
        "from openai import OpenAI\n",
        "\n",
        "api_key = os.environ['OPENAI_API_KEY']\n",
        "#print(api_key)\n",
        "\n",
        "client = OpenAI(api_key=api_key)\n",
        "\n",
        "response = client.chat.completions.create(\n",
        "    model=\"gpt-4\",\n",
        "    messages=[\n",
        "        {\"role\": \"user\", \"content\": \"Hello!\"}\n",
        "    ]\n",
        ")\n",
        "\n",
        "print(response.choices[0].message.content)\n"
      ]
    },
    {
      "cell_type": "markdown",
      "metadata": {
        "id": "6wazbQMLsnTv"
      },
      "source": [
        "We are going to choose the powerful gpt-3.5-turbo as our model for the following exercises."
      ]
    },
    {
      "cell_type": "code",
      "execution_count": 7,
      "metadata": {
        "id": "-r4-WKgxXFhp"
      },
      "outputs": [],
      "source": [
        "model_name = 'gpt-3.5-turbo'"
      ]
    },
    {
      "cell_type": "code",
      "execution_count": 8,
      "metadata": {
        "colab": {
          "base_uri": "https://localhost:8080/"
        },
        "id": "cnIXTh1aQfiC",
        "outputId": "d0bafcce-4851-4ac5-b4fe-2a0fabc510e4"
      },
      "outputs": [
        {
          "name": "stdout",
          "output_type": "stream",
          "text": [
            "Name: openai\n",
            "Version: 1.23.2\n",
            "Summary: The official Python library for the openai API\n",
            "Home-page: https://github.com/openai/openai-python\n",
            "Author: \n",
            "Author-email: OpenAI <support@openai.com>\n",
            "License: \n",
            "Location: /usr/local/lib/python3.11/dist-packages\n",
            "Requires: anyio, distro, httpx, pydantic, sniffio, tqdm, typing-extensions\n",
            "Required-by: \n"
          ]
        }
      ],
      "source": [
        "!pip show openai"
      ]
    },
    {
      "cell_type": "markdown",
      "metadata": {
        "id": "HQpkd5elTMhd"
      },
      "source": [
        "## Utilities"
      ]
    },
    {
      "cell_type": "markdown",
      "metadata": {
        "id": "6Ahq1w-z-xNi"
      },
      "source": [
        "Token counter to keep track of the completion window available in the prompt."
      ]
    },
    {
      "cell_type": "code",
      "execution_count": 9,
      "metadata": {
        "id": "A_3Z0s6P-xNi"
      },
      "outputs": [],
      "source": [
        "def num_tokens_from_messages(messages):\n",
        "\n",
        "    \"\"\"\n",
        "    Return the number of tokens used by a list of messages.\n",
        "    Adapted from the Open AI cookbook token counter\n",
        "    \"\"\"\n",
        "\n",
        "    encoding = tiktoken.encoding_for_model(\"gpt-3.5-turbo\")\n",
        "\n",
        "    # Each message is sandwiched with <|start|>role and <|end|>\n",
        "    # Hence, messages look like: <|start|>system or user or assistant{message}<|end|>\n",
        "\n",
        "    tokens_per_message = 3 # token1:<|start|>, token2:system(or user or assistant), token3:<|end|>\n",
        "\n",
        "    num_tokens = 0\n",
        "\n",
        "    for message in messages:\n",
        "        num_tokens += tokens_per_message\n",
        "        for key, value in message.items():\n",
        "            print(\"Value is: \", value)\n",
        "            num_tokens += len(encoding.encode(value))\n",
        "            #print(\"encoded numbers are: \", encoding.encode(value))\n",
        "            print(\"Encoded numbers for {} are: {}\".format(value, encoding.encode(value)))\n",
        "\n",
        "            print(f\"Encoded numbers for \\033[1m{value}\\033[0m are: {encoding.encode(value)}\")\n",
        "\n",
        "            print(f\"Encoded numbers for '{value}' are: {encoding.encode(value)}\")\n",
        "            print(num_tokens)\n",
        "\n",
        "    num_tokens += 3  # every reply is primed with <|start|>assistant<|message|>\n",
        "\n",
        "    return num_tokens"
      ]
    },
    {
      "cell_type": "code",
      "execution_count": 10,
      "metadata": {
        "id": "yIqV3pqstysU"
      },
      "outputs": [],
      "source": [
        "zero_shot_prompt = [{'role':'system', 'content':'What is this'}]"
      ]
    },
    {
      "cell_type": "code",
      "execution_count": 11,
      "metadata": {
        "colab": {
          "base_uri": "https://localhost:8080/"
        },
        "id": "LqsAjt6btyb_",
        "outputId": "daacb2bb-1421-4d57-907c-5d154a91f914"
      },
      "outputs": [
        {
          "name": "stdout",
          "output_type": "stream",
          "text": [
            "Value is:  system\n",
            "Encoded numbers for system are: [9125]\n",
            "Encoded numbers for \u001b[1msystem\u001b[0m are: [9125]\n",
            "Encoded numbers for 'system' are: [9125]\n",
            "4\n",
            "Value is:  What is this\n",
            "Encoded numbers for What is this are: [3923, 374, 420]\n",
            "Encoded numbers for \u001b[1mWhat is this\u001b[0m are: [3923, 374, 420]\n",
            "Encoded numbers for 'What is this' are: [3923, 374, 420]\n",
            "7\n"
          ]
        },
        {
          "data": {
            "text/plain": [
              "10"
            ]
          },
          "execution_count": 11,
          "metadata": {},
          "output_type": "execute_result"
        }
      ],
      "source": [
        "num_tokens_from_messages(zero_shot_prompt)"
      ]
    },
    {
      "cell_type": "markdown",
      "metadata": {
        "id": "gv84XeuqTsNH"
      },
      "source": [
        "# Auto-Label Classification"
      ]
    },
    {
      "cell_type": "markdown",
      "metadata": {
        "id": "-Ki6R-0mceLq"
      },
      "source": [
        "## Text $→$ Label generation"
      ]
    },
    {
      "cell_type": "markdown",
      "metadata": {
        "id": "RKh88OwuchsT"
      },
      "source": [
        "A Text $→$ label task (referred to henceforth as classification) involves the categorization of a given input text into a defined set of categories. There are three types of classification tasks:\n",
        "\n",
        "1. Binary classification: Input text is classified into one of two classes (typically negations). Spam detection & sentiment analysis are examples of binary classification.\n",
        "2. Multi-class classification: Input text is classified into one of more than two classes. Classifying a customer complaint as one of `critical`, `major` or `minor` is an example of multi-class classification (note that each input can be assigned only one class from the pool of defined classes).\n",
        "3. Multi-label classification: Input text is classified into one or more labels. Assigning themes to legal documents, such as `Intellectual Property Law`, `Tax Law`, and `Employment Law`, is an example of multi-label classification (note that each input can be assigned multiple classes).\n"
      ]
    },
    {
      "cell_type": "markdown",
      "metadata": {
        "id": "GCq_C_EqnUF4"
      },
      "source": [
        "# Problem 1: Component Wise Product Review Analysis"
      ]
    },
    {
      "cell_type": "markdown",
      "metadata": {
        "id": "gaQai_BE9icQ"
      },
      "source": [
        "In aspect-based sentiment analysis (ABSA), the aim is to identify the aspects of entities and the sentiment expressed for each aspect. The ultimate goal is to be able to generate a measure of polarity that explicitly accounts for the different aspects of the input. In this way, ABSA presents a nuanced version of the overall polarity of the sentiment expresses in the input. For effective ABSA, we should be able to generate appropriate themes and then assign sentiment to the portions of the input that correspond to this theme."
      ]
    },
    {
      "cell_type": "markdown",
      "metadata": {
        "id": "G7mYu24Nscny"
      },
      "source": [
        "With respect to our business problem, this would be getting a sentiment for different aspects of the laptop like keyboard, display, performance etc. By recieving sentiment for each aspect instead of gathering overall sentiment, we can find out which aspects of the product are being well recieved and which are not."
      ]
    },
    {
      "cell_type": "markdown",
      "metadata": {
        "id": "VAWpiRbJA5ME"
      },
      "source": [
        "### Step 1: Define objectives & Metrics"
      ]
    },
    {
      "cell_type": "markdown",
      "metadata": {
        "id": "CjayOsqGA-qa"
      },
      "source": [
        "Unlike a sentiment where we assign positive or negative sentiment to a review, with ABSA we have to consider the additional objective of identifying entities (if any) present in the review.\n",
        "\n",
        "To evaluate model performance, we judge the accuracy of the aspects + sentiment assignnment per aspect. Note that this is a much more stringent measure compared to the sentiment classification task we have seen so far. For example, if aspects identified by the LLM do not match the ground truth for a specific input, we count this prediction to be incorrect. A correct prediction is one where all the aspects are correctly idenfied and further the sentiment assignment for each aspect is also correctly identified (see figure below)."
      ]
    },
    {
      "cell_type": "markdown",
      "metadata": {
        "id": "UaAYhiEAF3ML"
      },
      "source": [
        "![image.png](data:image/png;base64,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)"
      ]
    },
    {
      "cell_type": "markdown",
      "metadata": {
        "id": "CVcZApvhuaz6"
      },
      "source": [
        "### Step 2: Assemble Data"
      ]
    },
    {
      "cell_type": "code",
      "execution_count": 20,
      "metadata": {
        "colab": {
          "base_uri": "https://localhost:8080/"
        },
        "id": "zVGJkDKmhn9f",
        "outputId": "53637b33-d4f3-47ee-8ad9-6711986af8cb"
      },
      "outputs": [
        {
          "name": "stdout",
          "output_type": "stream",
          "text": [
            "Filesystem      Size  Used Avail Use% Mounted on\n",
            "drive           100G   11G   90G  11% /content/drive\n"
          ]
        }
      ],
      "source": [
        "!df -h /content/drive/"
      ]
    },
    {
      "cell_type": "code",
      "execution_count": 21,
      "metadata": {
        "id": "nCmQh4fLhzhs"
      },
      "outputs": [],
      "source": [
        "custom_cache_path = \"/content/drive/MyDrive/tmp/huggingface_datasets_cache\"\n",
        "\n",
        "if not os.path.exists(custom_cache_path):\n",
        "    os.makedirs(custom_cache_path)"
      ]
    },
    {
      "cell_type": "code",
      "execution_count": null,
      "metadata": {
        "id": "t-7GSVc6av_G"
      },
      "outputs": [],
      "source": [
        "from datasets import load_dataset\n",
        "#from datasets.utils.file_utils import set_caching_enabled\n",
        "from datasets import disable_caching\n",
        "\n",
        "# Disable caching\n",
        "disable_caching()\n",
        "\n",
        "custom_cache_path = \"/content/drive/MyDrive/tmp/huggingface_datasets_cache\"\n",
        "\n",
        "if not os.path.exists(custom_cache_path):\n",
        "    os.makedirs(custom_cache_path)\n",
        "\n",
        "try:\n",
        "    ds = load_dataset(\"tomaarsen/setfit-absa-semeval-laptops\",\n",
        "                      cache_dir=custom_cache_path,\n",
        "                     download_mode=\"force_redownload\")\n",
        "    print(\"Dataset loaded successfully!\")\n",
        "except Exception as e:\n",
        "    print(f\"Download failed: {e}\")\n",
        "\n"
      ]
    },
    {
      "cell_type": "markdown",
      "metadata": {
        "id": "o3yDl8iVlmj9"
      },
      "source": [
        "# Load Train and Test data from .arrow files"
      ]
    },
    {
      "cell_type": "code",
      "execution_count": 29,
      "metadata": {
        "colab": {
          "base_uri": "https://localhost:8080/"
        },
        "id": "U1poq5DVkw-8",
        "outputId": "8ee8f7cf-45c5-4204-e7d8-31e73118a549"
      },
      "outputs": [
        {
          "name": "stdout",
          "output_type": "stream",
          "text": [
            "DataFrame shape: (2358, 4)\n",
            "Columns: ['text', 'span', 'label', 'ordinal']\n",
            "                                                text            span  \\\n",
            "0  I charge it at night and skip taking the cord ...            cord   \n",
            "1  I charge it at night and skip taking the cord ...    battery life   \n",
            "2  The tech guy then said the service center does...  service center   \n",
            "3  The tech guy then said the service center does...    \"sales\" team   \n",
            "4  The tech guy then said the service center does...        tech guy   \n",
            "\n",
            "      label  ordinal  \n",
            "0   neutral        0  \n",
            "1  positive        0  \n",
            "2  negative        0  \n",
            "3  negative        0  \n",
            "4   neutral        0  \n"
          ]
        }
      ],
      "source": [
        "\n",
        "from datasets import Dataset\n",
        "import pandas as pd\n",
        "\n",
        "dataset = Dataset.from_file('/content/drive/MyDrive/tmp/huggingface_datasets_cache/tomaarsen___setfit-absa-semeval-laptops/default/0.0.0/4474e2bd187176dc/setfit-absa-semeval-laptops-train.arrow')\n",
        "df_train = dataset.to_pandas()\n",
        "\n",
        "print(f\"DataFrame shape: {df_train.shape}\")\n",
        "print(f\"Columns: {df_train.columns.tolist()}\")\n",
        "print(df_train.head())\n"
      ]
    },
    {
      "cell_type": "code",
      "execution_count": 35,
      "metadata": {
        "colab": {
          "base_uri": "https://localhost:8080/"
        },
        "id": "dMDoOFsGl9wt",
        "outputId": "228b1306-251a-4243-b6c2-fc76fa43fb16"
      },
      "outputs": [
        {
          "name": "stdout",
          "output_type": "stream",
          "text": [
            "DataFrame shape: (2358, 4)\n",
            "Columns: ['text', 'span', 'label', 'ordinal']\n",
            "                                                text            span  \\\n",
            "0  I charge it at night and skip taking the cord ...            cord   \n",
            "1  I charge it at night and skip taking the cord ...    battery life   \n",
            "2  The tech guy then said the service center does...  service center   \n",
            "3  The tech guy then said the service center does...    \"sales\" team   \n",
            "4  The tech guy then said the service center does...        tech guy   \n",
            "\n",
            "      label  ordinal  \n",
            "0   neutral        0  \n",
            "1  positive        0  \n",
            "2  negative        0  \n",
            "3  negative        0  \n",
            "4   neutral        0  \n"
          ]
        }
      ],
      "source": [
        "dataset_test = Dataset.from_file('/content/drive/MyDrive/tmp/huggingface_datasets_cache/tomaarsen___setfit-absa-semeval-laptops/default/0.0.0/4474e2bd187176dc/setfit-absa-semeval-laptops-test.arrow')\n",
        "df_test = dataset.to_pandas()\n",
        "\n",
        "print(f\"DataFrame shape: {df_test.shape}\")\n",
        "print(f\"Columns: {df_test.columns.tolist()}\")\n",
        "print(df_test.head())"
      ]
    },
    {
      "cell_type": "markdown",
      "metadata": {
        "id": "7gFmmbpQgyoG"
      },
      "source": []
    },
    {
      "cell_type": "markdown",
      "metadata": {
        "id": "0CRtPEr_niWe"
      },
      "source": [
        "# Load Train and Test from .parquet files downloaded directly from huggingface"
      ]
    },
    {
      "cell_type": "code",
      "execution_count": 34,
      "metadata": {
        "colab": {
          "base_uri": "https://localhost:8080/"
        },
        "id": "aFfWUdYTnnFt",
        "outputId": "0d6e8a09-9c7c-4117-efb8-73807dd29304"
      },
      "outputs": [
        {
          "name": "stdout",
          "output_type": "stream",
          "text": [
            "Shape: (654, 4)\n",
            "Columns: ['text', 'span', 'label', 'ordinal']\n",
            "                                                text                   span  \\\n",
            "0  Boot time is super fast, around anywhere from ...              Boot time   \n",
            "1  tech support would not fix the problem unless ...           tech support   \n",
            "2                                   Set up was easy.                 Set up   \n",
            "3  Did not enjoy the new Windows 8 and touchscree...              Windows 8   \n",
            "4  Did not enjoy the new Windows 8 and touchscree...  touchscreen functions   \n",
            "\n",
            "  label  ordinal  \n",
            "0              0  \n",
            "1              0  \n",
            "2              0  \n",
            "3              0  \n",
            "4              0  \n"
          ]
        }
      ],
      "source": [
        "import pandas as pd\n",
        "\n",
        "# Read the parquet file\n",
        "laptop_reviews_test_df = pd.read_parquet('/content/drive/MyDrive/Adv-Python/week13_GenAI/week13_MLS/Apple_ABSA_Data_files/test-00000-of-00001.parquet')\n",
        "print(f\"Shape: {laptop_reviews_test_df.shape}\")\n",
        "print(f\"Columns: {laptop_reviews_test_df.columns.tolist()}\")\n",
        "print(laptop_reviews_test_df.head())"
      ]
    },
    {
      "cell_type": "code",
      "execution_count": 33,
      "metadata": {
        "colab": {
          "base_uri": "https://localhost:8080/"
        },
        "id": "TVUSWuZan7vY",
        "outputId": "63d56bcf-a913-44c8-900a-0a5c25440292"
      },
      "outputs": [
        {
          "name": "stdout",
          "output_type": "stream",
          "text": [
            "Shape: (2358, 4)\n",
            "Columns: ['text', 'span', 'label', 'ordinal']\n",
            "                                                text            span  \\\n",
            "0  I charge it at night and skip taking the cord ...            cord   \n",
            "1  I charge it at night and skip taking the cord ...    battery life   \n",
            "2  The tech guy then said the service center does...  service center   \n",
            "3  The tech guy then said the service center does...    \"sales\" team   \n",
            "4  The tech guy then said the service center does...        tech guy   \n",
            "\n",
            "      label  ordinal  \n",
            "0   neutral        0  \n",
            "1  positive        0  \n",
            "2  negative        0  \n",
            "3  negative        0  \n",
            "4   neutral        0  \n"
          ]
        }
      ],
      "source": [
        "# Read the parquet file\n",
        "laptop_reviews_train_df = pd.read_parquet('/content/drive/MyDrive/Adv-Python/week13_GenAI/week13_MLS/Apple_ABSA_Data_files/train-00000-of-00001.parquet')\n",
        "print(f\"Shape: {laptop_reviews_train_df.shape}\")\n",
        "print(f\"Columns: {laptop_reviews_train_df.columns.tolist()}\")\n",
        "print(laptop_reviews_train_df.head())"
      ]
    },
    {
      "cell_type": "code",
      "execution_count": null,
      "metadata": {
        "id": "F_jkEoJ7-tFJ"
      },
      "outputs": [],
      "source": [
        "#aspect_based_laptop_corpus = load_dataset(\"tomaarsen/setfit-absa-semeval-laptops\")"
      ]
    },
    {
      "cell_type": "code",
      "execution_count": null,
      "metadata": {
        "id": "33lWyN46-4Lc"
      },
      "outputs": [],
      "source": [
        "#aspect_based_laptop_corpus"
      ]
    },
    {
      "cell_type": "code",
      "execution_count": null,
      "metadata": {
        "id": "RXF94nrw9g0c"
      },
      "outputs": [],
      "source": [
        "#aspect_based_laptop_corpus.shape"
      ]
    },
    {
      "cell_type": "code",
      "execution_count": null,
      "metadata": {
        "id": "9mKHuxhP--si"
      },
      "outputs": [],
      "source": [
        "#laptop_reviews_train_df = aspect_based_laptop_corpus['train'].to_pandas()"
      ]
    },
    {
      "cell_type": "markdown",
      "metadata": {
        "id": "CG-C2iZ5aLPC"
      },
      "source": [
        "We carve out two sections of the data - one for examples and another for gold examples. We use the gold examples data to test our prompts later while we use the examples to create our few-shot prompt."
      ]
    },
    {
      "cell_type": "code",
      "execution_count": 36,
      "metadata": {
        "colab": {
          "base_uri": "https://localhost:8080/",
          "height": 359
        },
        "id": "8uwqmhNQuaz9",
        "outputId": "2570e93b-9e66-40ff-87a2-b1f186403760"
      },
      "outputs": [
        {
          "data": {
            "application/vnd.google.colaboratory.intrinsic+json": {
              "summary": "{\n  \"name\": \"laptop_reviews_train_df\",\n  \"rows\": 10,\n  \"fields\": [\n    {\n      \"column\": \"text\",\n      \"properties\": {\n        \"dtype\": \"string\",\n        \"num_unique_values\": 10,\n        \"samples\": [\n          \"But sitting on a lap or on a desk in front of you it looks more than big enough (this could be because Im used to my Lenovo 10 tablet now) plus this is a great size if I want to unplug the external keyboard, mouse, and monitor to take it with me when I take photos and video.\",\n          \"Additional caveat: the base installation comes with some Toshiba-specific software that may or may not be to a user's liking.\",\n          \") And printing from either word processor is an adventure.\"\n        ],\n        \"semantic_type\": \"\",\n        \"description\": \"\"\n      }\n    },\n    {\n      \"column\": \"span\",\n      \"properties\": {\n        \"dtype\": \"string\",\n        \"num_unique_values\": 10,\n        \"samples\": [\n          \"external keyboard\",\n          \"base installation\",\n          \"word processor\"\n        ],\n        \"semantic_type\": \"\",\n        \"description\": \"\"\n      }\n    },\n    {\n      \"column\": \"label\",\n      \"properties\": {\n        \"dtype\": \"category\",\n        \"num_unique_values\": 3,\n        \"samples\": [\n          \"positive\",\n          \"negative\",\n          \"neutral\"\n        ],\n        \"semantic_type\": \"\",\n        \"description\": \"\"\n      }\n    },\n    {\n      \"column\": \"ordinal\",\n      \"properties\": {\n        \"dtype\": \"number\",\n        \"std\": 0,\n        \"min\": 0,\n        \"max\": 0,\n        \"num_unique_values\": 1,\n        \"samples\": [\n          0\n        ],\n        \"semantic_type\": \"\",\n        \"description\": \"\"\n      }\n    }\n  ]\n}",
              "type": "dataframe"
            },
            "text/html": [
              "\n",
              "  <div id=\"df-bef5762e-192d-42ee-9934-b573771fb868\" class=\"colab-df-container\">\n",
              "    <div>\n",
              "<style scoped>\n",
              "    .dataframe tbody tr th:only-of-type {\n",
              "        vertical-align: middle;\n",
              "    }\n",
              "\n",
              "    .dataframe tbody tr th {\n",
              "        vertical-align: top;\n",
              "    }\n",
              "\n",
              "    .dataframe thead th {\n",
              "        text-align: right;\n",
              "    }\n",
              "</style>\n",
              "<table border=\"1\" class=\"dataframe\">\n",
              "  <thead>\n",
              "    <tr style=\"text-align: right;\">\n",
              "      <th></th>\n",
              "      <th>text</th>\n",
              "      <th>span</th>\n",
              "      <th>label</th>\n",
              "      <th>ordinal</th>\n",
              "    </tr>\n",
              "  </thead>\n",
              "  <tbody>\n",
              "    <tr>\n",
              "      <th>2243</th>\n",
              "      <td>The feel of this is better than the Toshiba, too.</td>\n",
              "      <td>feel</td>\n",
              "      <td>positive</td>\n",
              "      <td>0</td>\n",
              "    </tr>\n",
              "    <tr>\n",
              "      <th>238</th>\n",
              "      <td>Additional caveat: the base installation comes...</td>\n",
              "      <td>base installation</td>\n",
              "      <td>negative</td>\n",
              "      <td>0</td>\n",
              "    </tr>\n",
              "    <tr>\n",
              "      <th>2072</th>\n",
              "      <td>However, I love this particular Mac because it...</td>\n",
              "      <td>lighted keyboard</td>\n",
              "      <td>positive</td>\n",
              "      <td>0</td>\n",
              "    </tr>\n",
              "    <tr>\n",
              "      <th>145</th>\n",
              "      <td>I can render AVCHD movies with little effort, ...</td>\n",
              "      <td>quad core I7</td>\n",
              "      <td>positive</td>\n",
              "      <td>0</td>\n",
              "    </tr>\n",
              "    <tr>\n",
              "      <th>1573</th>\n",
              "      <td>It took several weeks just to get them to ackn...</td>\n",
              "      <td>warranty</td>\n",
              "      <td>negative</td>\n",
              "      <td>0</td>\n",
              "    </tr>\n",
              "    <tr>\n",
              "      <th>1871</th>\n",
              "      <td>) And printing from either word processor is a...</td>\n",
              "      <td>word processor</td>\n",
              "      <td>negative</td>\n",
              "      <td>0</td>\n",
              "    </tr>\n",
              "    <tr>\n",
              "      <th>2165</th>\n",
              "      <td>The first one sent: Touchpad didn't work The s...</td>\n",
              "      <td>Touchpad</td>\n",
              "      <td>negative</td>\n",
              "      <td>0</td>\n",
              "    </tr>\n",
              "    <tr>\n",
              "      <th>903</th>\n",
              "      <td>It did fairly well, other than it's poor perfo...</td>\n",
              "      <td>performance</td>\n",
              "      <td>negative</td>\n",
              "      <td>0</td>\n",
              "    </tr>\n",
              "    <tr>\n",
              "      <th>1926</th>\n",
              "      <td>But sitting on a lap or on a desk in front of ...</td>\n",
              "      <td>external keyboard</td>\n",
              "      <td>neutral</td>\n",
              "      <td>0</td>\n",
              "    </tr>\n",
              "    <tr>\n",
              "      <th>1741</th>\n",
              "      <td>I dual boot with Linux and that other security...</td>\n",
              "      <td>Linux</td>\n",
              "      <td>neutral</td>\n",
              "      <td>0</td>\n",
              "    </tr>\n",
              "  </tbody>\n",
              "</table>\n",
              "</div>\n",
              "    <div class=\"colab-df-buttons\">\n",
              "\n",
              "  <div class=\"colab-df-container\">\n",
              "    <button class=\"colab-df-convert\" onclick=\"convertToInteractive('df-bef5762e-192d-42ee-9934-b573771fb868')\"\n",
              "            title=\"Convert this dataframe to an interactive table.\"\n",
              "            style=\"display:none;\">\n",
              "\n",
              "  <svg xmlns=\"http://www.w3.org/2000/svg\" height=\"24px\" viewBox=\"0 -960 960 960\">\n",
              "    <path d=\"M120-120v-720h720v720H120Zm60-500h600v-160H180v160Zm220 220h160v-160H400v160Zm0 220h160v-160H400v160ZM180-400h160v-160H180v160Zm440 0h160v-160H620v160ZM180-180h160v-160H180v160Zm440 0h160v-160H620v160Z\"/>\n",
              "  </svg>\n",
              "    </button>\n",
              "\n",
              "  <style>\n",
              "    .colab-df-container {\n",
              "      display:flex;\n",
              "      gap: 12px;\n",
              "    }\n",
              "\n",
              "    .colab-df-convert {\n",
              "      background-color: #E8F0FE;\n",
              "      border: none;\n",
              "      border-radius: 50%;\n",
              "      cursor: pointer;\n",
              "      display: none;\n",
              "      fill: #1967D2;\n",
              "      height: 32px;\n",
              "      padding: 0 0 0 0;\n",
              "      width: 32px;\n",
              "    }\n",
              "\n",
              "    .colab-df-convert:hover {\n",
              "      background-color: #E2EBFA;\n",
              "      box-shadow: 0px 1px 2px rgba(60, 64, 67, 0.3), 0px 1px 3px 1px rgba(60, 64, 67, 0.15);\n",
              "      fill: #174EA6;\n",
              "    }\n",
              "\n",
              "    .colab-df-buttons div {\n",
              "      margin-bottom: 4px;\n",
              "    }\n",
              "\n",
              "    [theme=dark] .colab-df-convert {\n",
              "      background-color: #3B4455;\n",
              "      fill: #D2E3FC;\n",
              "    }\n",
              "\n",
              "    [theme=dark] .colab-df-convert:hover {\n",
              "      background-color: #434B5C;\n",
              "      box-shadow: 0px 1px 3px 1px rgba(0, 0, 0, 0.15);\n",
              "      filter: drop-shadow(0px 1px 2px rgba(0, 0, 0, 0.3));\n",
              "      fill: #FFFFFF;\n",
              "    }\n",
              "  </style>\n",
              "\n",
              "    <script>\n",
              "      const buttonEl =\n",
              "        document.querySelector('#df-bef5762e-192d-42ee-9934-b573771fb868 button.colab-df-convert');\n",
              "      buttonEl.style.display =\n",
              "        google.colab.kernel.accessAllowed ? 'block' : 'none';\n",
              "\n",
              "      async function convertToInteractive(key) {\n",
              "        const element = document.querySelector('#df-bef5762e-192d-42ee-9934-b573771fb868');\n",
              "        const dataTable =\n",
              "          await google.colab.kernel.invokeFunction('convertToInteractive',\n",
              "                                                    [key], {});\n",
              "        if (!dataTable) return;\n",
              "\n",
              "        const docLinkHtml = 'Like what you see? Visit the ' +\n",
              "          '<a target=\"_blank\" href=https://colab.research.google.com/notebooks/data_table.ipynb>data table notebook</a>'\n",
              "          + ' to learn more about interactive tables.';\n",
              "        element.innerHTML = '';\n",
              "        dataTable['output_type'] = 'display_data';\n",
              "        await google.colab.output.renderOutput(dataTable, element);\n",
              "        const docLink = document.createElement('div');\n",
              "        docLink.innerHTML = docLinkHtml;\n",
              "        element.appendChild(docLink);\n",
              "      }\n",
              "    </script>\n",
              "  </div>\n",
              "\n",
              "\n",
              "    <div id=\"df-19fefd69-db47-4616-9da1-fc780dd2840d\">\n",
              "      <button class=\"colab-df-quickchart\" onclick=\"quickchart('df-19fefd69-db47-4616-9da1-fc780dd2840d')\"\n",
              "                title=\"Suggest charts\"\n",
              "                style=\"display:none;\">\n",
              "\n",
              "<svg xmlns=\"http://www.w3.org/2000/svg\" height=\"24px\"viewBox=\"0 0 24 24\"\n",
              "     width=\"24px\">\n",
              "    <g>\n",
              "        <path d=\"M19 3H5c-1.1 0-2 .9-2 2v14c0 1.1.9 2 2 2h14c1.1 0 2-.9 2-2V5c0-1.1-.9-2-2-2zM9 17H7v-7h2v7zm4 0h-2V7h2v10zm4 0h-2v-4h2v4z\"/>\n",
              "    </g>\n",
              "</svg>\n",
              "      </button>\n",
              "\n",
              "<style>\n",
              "  .colab-df-quickchart {\n",
              "      --bg-color: #E8F0FE;\n",
              "      --fill-color: #1967D2;\n",
              "      --hover-bg-color: #E2EBFA;\n",
              "      --hover-fill-color: #174EA6;\n",
              "      --disabled-fill-color: #AAA;\n",
              "      --disabled-bg-color: #DDD;\n",
              "  }\n",
              "\n",
              "  [theme=dark] .colab-df-quickchart {\n",
              "      --bg-color: #3B4455;\n",
              "      --fill-color: #D2E3FC;\n",
              "      --hover-bg-color: #434B5C;\n",
              "      --hover-fill-color: #FFFFFF;\n",
              "      --disabled-bg-color: #3B4455;\n",
              "      --disabled-fill-color: #666;\n",
              "  }\n",
              "\n",
              "  .colab-df-quickchart {\n",
              "    background-color: var(--bg-color);\n",
              "    border: none;\n",
              "    border-radius: 50%;\n",
              "    cursor: pointer;\n",
              "    display: none;\n",
              "    fill: var(--fill-color);\n",
              "    height: 32px;\n",
              "    padding: 0;\n",
              "    width: 32px;\n",
              "  }\n",
              "\n",
              "  .colab-df-quickchart:hover {\n",
              "    background-color: var(--hover-bg-color);\n",
              "    box-shadow: 0 1px 2px rgba(60, 64, 67, 0.3), 0 1px 3px 1px rgba(60, 64, 67, 0.15);\n",
              "    fill: var(--button-hover-fill-color);\n",
              "  }\n",
              "\n",
              "  .colab-df-quickchart-complete:disabled,\n",
              "  .colab-df-quickchart-complete:disabled:hover {\n",
              "    background-color: var(--disabled-bg-color);\n",
              "    fill: var(--disabled-fill-color);\n",
              "    box-shadow: none;\n",
              "  }\n",
              "\n",
              "  .colab-df-spinner {\n",
              "    border: 2px solid var(--fill-color);\n",
              "    border-color: transparent;\n",
              "    border-bottom-color: var(--fill-color);\n",
              "    animation:\n",
              "      spin 1s steps(1) infinite;\n",
              "  }\n",
              "\n",
              "  @keyframes spin {\n",
              "    0% {\n",
              "      border-color: transparent;\n",
              "      border-bottom-color: var(--fill-color);\n",
              "      border-left-color: var(--fill-color);\n",
              "    }\n",
              "    20% {\n",
              "      border-color: transparent;\n",
              "      border-left-color: var(--fill-color);\n",
              "      border-top-color: var(--fill-color);\n",
              "    }\n",
              "    30% {\n",
              "      border-color: transparent;\n",
              "      border-left-color: var(--fill-color);\n",
              "      border-top-color: var(--fill-color);\n",
              "      border-right-color: var(--fill-color);\n",
              "    }\n",
              "    40% {\n",
              "      border-color: transparent;\n",
              "      border-right-color: var(--fill-color);\n",
              "      border-top-color: var(--fill-color);\n",
              "    }\n",
              "    60% {\n",
              "      border-color: transparent;\n",
              "      border-right-color: var(--fill-color);\n",
              "    }\n",
              "    80% {\n",
              "      border-color: transparent;\n",
              "      border-right-color: var(--fill-color);\n",
              "      border-bottom-color: var(--fill-color);\n",
              "    }\n",
              "    90% {\n",
              "      border-color: transparent;\n",
              "      border-bottom-color: var(--fill-color);\n",
              "    }\n",
              "  }\n",
              "</style>\n",
              "\n",
              "      <script>\n",
              "        async function quickchart(key) {\n",
              "          const quickchartButtonEl =\n",
              "            document.querySelector('#' + key + ' button');\n",
              "          quickchartButtonEl.disabled = true;  // To prevent multiple clicks.\n",
              "          quickchartButtonEl.classList.add('colab-df-spinner');\n",
              "          try {\n",
              "            const charts = await google.colab.kernel.invokeFunction(\n",
              "                'suggestCharts', [key], {});\n",
              "          } catch (error) {\n",
              "            console.error('Error during call to suggestCharts:', error);\n",
              "          }\n",
              "          quickchartButtonEl.classList.remove('colab-df-spinner');\n",
              "          quickchartButtonEl.classList.add('colab-df-quickchart-complete');\n",
              "        }\n",
              "        (() => {\n",
              "          let quickchartButtonEl =\n",
              "            document.querySelector('#df-19fefd69-db47-4616-9da1-fc780dd2840d button');\n",
              "          quickchartButtonEl.style.display =\n",
              "            google.colab.kernel.accessAllowed ? 'block' : 'none';\n",
              "        })();\n",
              "      </script>\n",
              "    </div>\n",
              "\n",
              "    </div>\n",
              "  </div>\n"
            ],
            "text/plain": [
              "                                                   text               span  \\\n",
              "2243  The feel of this is better than the Toshiba, too.               feel   \n",
              "238   Additional caveat: the base installation comes...  base installation   \n",
              "2072  However, I love this particular Mac because it...   lighted keyboard   \n",
              "145   I can render AVCHD movies with little effort, ...       quad core I7   \n",
              "1573  It took several weeks just to get them to ackn...           warranty   \n",
              "1871  ) And printing from either word processor is a...     word processor   \n",
              "2165  The first one sent: Touchpad didn't work The s...           Touchpad   \n",
              "903   It did fairly well, other than it's poor perfo...        performance   \n",
              "1926  But sitting on a lap or on a desk in front of ...  external keyboard   \n",
              "1741  I dual boot with Linux and that other security...              Linux   \n",
              "\n",
              "         label  ordinal  \n",
              "2243  positive        0  \n",
              "238   negative        0  \n",
              "2072  positive        0  \n",
              "145   positive        0  \n",
              "1573  negative        0  \n",
              "1871  negative        0  \n",
              "2165  negative        0  \n",
              "903   negative        0  \n",
              "1926   neutral        0  \n",
              "1741   neutral        0  "
            ]
          },
          "execution_count": 36,
          "metadata": {},
          "output_type": "execute_result"
        }
      ],
      "source": [
        "laptop_reviews_train_df.sample(10)"
      ]
    },
    {
      "cell_type": "code",
      "execution_count": 37,
      "metadata": {
        "colab": {
          "base_uri": "https://localhost:8080/"
        },
        "id": "tXCD5GgXulYZ",
        "outputId": "c42ff842-a6e1-4ee3-a0c3-2308d58a6ff6"
      },
      "outputs": [
        {
          "data": {
            "text/plain": [
              "array(['neutral', 'positive', 'negative', 'conflict'], dtype=object)"
            ]
          },
          "execution_count": 37,
          "metadata": {},
          "output_type": "execute_result"
        }
      ],
      "source": [
        "laptop_reviews_train_df.label.unique()"
      ]
    },
    {
      "cell_type": "markdown",
      "metadata": {
        "id": "bhYm0z_jvFKS"
      },
      "source": [
        "## Let's remove conflict from the labels as we are only concerned with the three sentiments."
      ]
    },
    {
      "cell_type": "code",
      "execution_count": 38,
      "metadata": {
        "colab": {
          "base_uri": "https://localhost:8080/"
        },
        "id": "TGbFLfel8lL9",
        "outputId": "12371b3a-026a-4d2c-86e2-8e1bc336652e"
      },
      "outputs": [
        {
          "data": {
            "text/plain": [
              "4"
            ]
          },
          "execution_count": 38,
          "metadata": {},
          "output_type": "execute_result"
        }
      ],
      "source": [
        "laptop_reviews_train_df.label.nunique()"
      ]
    },
    {
      "cell_type": "code",
      "execution_count": 39,
      "metadata": {
        "id": "wgwWBaAYvM7-"
      },
      "outputs": [],
      "source": [
        "laptop_reviews_train_df = laptop_reviews_train_df[laptop_reviews_train_df['label']!='conflict']"
      ]
    },
    {
      "cell_type": "code",
      "execution_count": 40,
      "metadata": {
        "id": "8wVuiUbMWCQR"
      },
      "outputs": [],
      "source": [
        "laptop_reviews_train_df['id'] = laptop_reviews_train_df.index"
      ]
    },
    {
      "cell_type": "markdown",
      "metadata": {
        "id": "CLXP-WA_MUJ4"
      },
      "source": [
        "In this dataset, the column span refers to the aspect being discussed in the review. Let's check the number of unique aspects discussed in the reviews."
      ]
    },
    {
      "cell_type": "code",
      "execution_count": 41,
      "metadata": {
        "colab": {
          "base_uri": "https://localhost:8080/",
          "height": 419
        },
        "id": "MX2KVwo0qNvg",
        "outputId": "b965483d-c199-41ed-dd4a-c95c0551ff86"
      },
      "outputs": [
        {
          "data": {
            "application/vnd.google.colaboratory.intrinsic+json": {
              "summary": "{\n  \"name\": \"laptop_reviews_train_df\",\n  \"rows\": 2313,\n  \"fields\": [\n    {\n      \"column\": \"text\",\n      \"properties\": {\n        \"dtype\": \"string\",\n        \"num_unique_values\": 1456,\n        \"samples\": [\n          \"It was super easy to set up and Is really easy to get used to.\",\n          \"While it was highly rated, would I like it? I tried the keyboard at the store, and it seemed ok.\",\n          \"It does not keep internet signals no matter where you bring it.\"\n        ],\n        \"semantic_type\": \"\",\n        \"description\": \"\"\n      }\n    },\n    {\n      \"column\": \"span\",\n      \"properties\": {\n        \"dtype\": \"category\",\n        \"num_unique_values\": 1031,\n        \"samples\": [\n          \"syncing\",\n          \"Keyboard\",\n          \"boots up\"\n        ],\n        \"semantic_type\": \"\",\n        \"description\": \"\"\n      }\n    },\n    {\n      \"column\": \"label\",\n      \"properties\": {\n        \"dtype\": \"category\",\n        \"num_unique_values\": 3,\n        \"samples\": [\n          \"neutral\",\n          \"positive\",\n          \"negative\"\n        ],\n        \"semantic_type\": \"\",\n        \"description\": \"\"\n      }\n    },\n    {\n      \"column\": \"ordinal\",\n      \"properties\": {\n        \"dtype\": \"number\",\n        \"std\": 0,\n        \"min\": 0,\n        \"max\": 2,\n        \"num_unique_values\": 3,\n        \"samples\": [\n          0,\n          1,\n          2\n        ],\n        \"semantic_type\": \"\",\n        \"description\": \"\"\n      }\n    },\n    {\n      \"column\": \"id\",\n      \"properties\": {\n        \"dtype\": \"number\",\n        \"std\": 682,\n        \"min\": 0,\n        \"max\": 2357,\n        \"num_unique_values\": 2313,\n        \"samples\": [\n          1687,\n          519,\n          1926\n        ],\n        \"semantic_type\": \"\",\n        \"description\": \"\"\n      }\n    }\n  ]\n}",
              "type": "dataframe",
              "variable_name": "laptop_reviews_train_df"
            },
            "text/html": [
              "\n",
              "  <div id=\"df-00c1c925-3807-4fc5-bc04-8553ee0d82e5\" class=\"colab-df-container\">\n",
              "    <div>\n",
              "<style scoped>\n",
              "    .dataframe tbody tr th:only-of-type {\n",
              "        vertical-align: middle;\n",
              "    }\n",
              "\n",
              "    .dataframe tbody tr th {\n",
              "        vertical-align: top;\n",
              "    }\n",
              "\n",
              "    .dataframe thead th {\n",
              "        text-align: right;\n",
              "    }\n",
              "</style>\n",
              "<table border=\"1\" class=\"dataframe\">\n",
              "  <thead>\n",
              "    <tr style=\"text-align: right;\">\n",
              "      <th></th>\n",
              "      <th>text</th>\n",
              "      <th>span</th>\n",
              "      <th>label</th>\n",
              "      <th>ordinal</th>\n",
              "      <th>id</th>\n",
              "    </tr>\n",
              "  </thead>\n",
              "  <tbody>\n",
              "    <tr>\n",
              "      <th>0</th>\n",
              "      <td>I charge it at night and skip taking the cord ...</td>\n",
              "      <td>cord</td>\n",
              "      <td>neutral</td>\n",
              "      <td>0</td>\n",
              "      <td>0</td>\n",
              "    </tr>\n",
              "    <tr>\n",
              "      <th>1</th>\n",
              "      <td>I charge it at night and skip taking the cord ...</td>\n",
              "      <td>battery life</td>\n",
              "      <td>positive</td>\n",
              "      <td>0</td>\n",
              "      <td>1</td>\n",
              "    </tr>\n",
              "    <tr>\n",
              "      <th>2</th>\n",
              "      <td>The tech guy then said the service center does...</td>\n",
              "      <td>service center</td>\n",
              "      <td>negative</td>\n",
              "      <td>0</td>\n",
              "      <td>2</td>\n",
              "    </tr>\n",
              "    <tr>\n",
              "      <th>3</th>\n",
              "      <td>The tech guy then said the service center does...</td>\n",
              "      <td>\"sales\" team</td>\n",
              "      <td>negative</td>\n",
              "      <td>0</td>\n",
              "      <td>3</td>\n",
              "    </tr>\n",
              "    <tr>\n",
              "      <th>4</th>\n",
              "      <td>The tech guy then said the service center does...</td>\n",
              "      <td>tech guy</td>\n",
              "      <td>neutral</td>\n",
              "      <td>0</td>\n",
              "      <td>4</td>\n",
              "    </tr>\n",
              "    <tr>\n",
              "      <th>...</th>\n",
              "      <td>...</td>\n",
              "      <td>...</td>\n",
              "      <td>...</td>\n",
              "      <td>...</td>\n",
              "      <td>...</td>\n",
              "    </tr>\n",
              "    <tr>\n",
              "      <th>2352</th>\n",
              "      <td>We also use Paralles so we can run virtual mac...</td>\n",
              "      <td>Windows 7 Home Premium</td>\n",
              "      <td>neutral</td>\n",
              "      <td>0</td>\n",
              "      <td>2352</td>\n",
              "    </tr>\n",
              "    <tr>\n",
              "      <th>2353</th>\n",
              "      <td>We also use Paralles so we can run virtual mac...</td>\n",
              "      <td>Windows Server Enterprise 2003</td>\n",
              "      <td>neutral</td>\n",
              "      <td>0</td>\n",
              "      <td>2353</td>\n",
              "    </tr>\n",
              "    <tr>\n",
              "      <th>2354</th>\n",
              "      <td>We also use Paralles so we can run virtual mac...</td>\n",
              "      <td>Windows Server 2008 Enterprise</td>\n",
              "      <td>neutral</td>\n",
              "      <td>0</td>\n",
              "      <td>2354</td>\n",
              "    </tr>\n",
              "    <tr>\n",
              "      <th>2356</th>\n",
              "      <td>How Toshiba handles the repair seems to vary, ...</td>\n",
              "      <td>repair</td>\n",
              "      <td>positive</td>\n",
              "      <td>1</td>\n",
              "      <td>2356</td>\n",
              "    </tr>\n",
              "    <tr>\n",
              "      <th>2357</th>\n",
              "      <td>I would like to use a different operating syst...</td>\n",
              "      <td>operating system</td>\n",
              "      <td>neutral</td>\n",
              "      <td>0</td>\n",
              "      <td>2357</td>\n",
              "    </tr>\n",
              "  </tbody>\n",
              "</table>\n",
              "<p>2313 rows × 5 columns</p>\n",
              "</div>\n",
              "    <div class=\"colab-df-buttons\">\n",
              "\n",
              "  <div class=\"colab-df-container\">\n",
              "    <button class=\"colab-df-convert\" onclick=\"convertToInteractive('df-00c1c925-3807-4fc5-bc04-8553ee0d82e5')\"\n",
              "            title=\"Convert this dataframe to an interactive table.\"\n",
              "            style=\"display:none;\">\n",
              "\n",
              "  <svg xmlns=\"http://www.w3.org/2000/svg\" height=\"24px\" viewBox=\"0 -960 960 960\">\n",
              "    <path d=\"M120-120v-720h720v720H120Zm60-500h600v-160H180v160Zm220 220h160v-160H400v160Zm0 220h160v-160H400v160ZM180-400h160v-160H180v160Zm440 0h160v-160H620v160ZM180-180h160v-160H180v160Zm440 0h160v-160H620v160Z\"/>\n",
              "  </svg>\n",
              "    </button>\n",
              "\n",
              "  <style>\n",
              "    .colab-df-container {\n",
              "      display:flex;\n",
              "      gap: 12px;\n",
              "    }\n",
              "\n",
              "    .colab-df-convert {\n",
              "      background-color: #E8F0FE;\n",
              "      border: none;\n",
              "      border-radius: 50%;\n",
              "      cursor: pointer;\n",
              "      display: none;\n",
              "      fill: #1967D2;\n",
              "      height: 32px;\n",
              "      padding: 0 0 0 0;\n",
              "      width: 32px;\n",
              "    }\n",
              "\n",
              "    .colab-df-convert:hover {\n",
              "      background-color: #E2EBFA;\n",
              "      box-shadow: 0px 1px 2px rgba(60, 64, 67, 0.3), 0px 1px 3px 1px rgba(60, 64, 67, 0.15);\n",
              "      fill: #174EA6;\n",
              "    }\n",
              "\n",
              "    .colab-df-buttons div {\n",
              "      margin-bottom: 4px;\n",
              "    }\n",
              "\n",
              "    [theme=dark] .colab-df-convert {\n",
              "      background-color: #3B4455;\n",
              "      fill: #D2E3FC;\n",
              "    }\n",
              "\n",
              "    [theme=dark] .colab-df-convert:hover {\n",
              "      background-color: #434B5C;\n",
              "      box-shadow: 0px 1px 3px 1px rgba(0, 0, 0, 0.15);\n",
              "      filter: drop-shadow(0px 1px 2px rgba(0, 0, 0, 0.3));\n",
              "      fill: #FFFFFF;\n",
              "    }\n",
              "  </style>\n",
              "\n",
              "    <script>\n",
              "      const buttonEl =\n",
              "        document.querySelector('#df-00c1c925-3807-4fc5-bc04-8553ee0d82e5 button.colab-df-convert');\n",
              "      buttonEl.style.display =\n",
              "        google.colab.kernel.accessAllowed ? 'block' : 'none';\n",
              "\n",
              "      async function convertToInteractive(key) {\n",
              "        const element = document.querySelector('#df-00c1c925-3807-4fc5-bc04-8553ee0d82e5');\n",
              "        const dataTable =\n",
              "          await google.colab.kernel.invokeFunction('convertToInteractive',\n",
              "                                                    [key], {});\n",
              "        if (!dataTable) return;\n",
              "\n",
              "        const docLinkHtml = 'Like what you see? Visit the ' +\n",
              "          '<a target=\"_blank\" href=https://colab.research.google.com/notebooks/data_table.ipynb>data table notebook</a>'\n",
              "          + ' to learn more about interactive tables.';\n",
              "        element.innerHTML = '';\n",
              "        dataTable['output_type'] = 'display_data';\n",
              "        await google.colab.output.renderOutput(dataTable, element);\n",
              "        const docLink = document.createElement('div');\n",
              "        docLink.innerHTML = docLinkHtml;\n",
              "        element.appendChild(docLink);\n",
              "      }\n",
              "    </script>\n",
              "  </div>\n",
              "\n",
              "\n",
              "    <div id=\"df-6ab55d15-02c8-40c7-9725-e8c2cb0a6ee1\">\n",
              "      <button class=\"colab-df-quickchart\" onclick=\"quickchart('df-6ab55d15-02c8-40c7-9725-e8c2cb0a6ee1')\"\n",
              "                title=\"Suggest charts\"\n",
              "                style=\"display:none;\">\n",
              "\n",
              "<svg xmlns=\"http://www.w3.org/2000/svg\" height=\"24px\"viewBox=\"0 0 24 24\"\n",
              "     width=\"24px\">\n",
              "    <g>\n",
              "        <path d=\"M19 3H5c-1.1 0-2 .9-2 2v14c0 1.1.9 2 2 2h14c1.1 0 2-.9 2-2V5c0-1.1-.9-2-2-2zM9 17H7v-7h2v7zm4 0h-2V7h2v10zm4 0h-2v-4h2v4z\"/>\n",
              "    </g>\n",
              "</svg>\n",
              "      </button>\n",
              "\n",
              "<style>\n",
              "  .colab-df-quickchart {\n",
              "      --bg-color: #E8F0FE;\n",
              "      --fill-color: #1967D2;\n",
              "      --hover-bg-color: #E2EBFA;\n",
              "      --hover-fill-color: #174EA6;\n",
              "      --disabled-fill-color: #AAA;\n",
              "      --disabled-bg-color: #DDD;\n",
              "  }\n",
              "\n",
              "  [theme=dark] .colab-df-quickchart {\n",
              "      --bg-color: #3B4455;\n",
              "      --fill-color: #D2E3FC;\n",
              "      --hover-bg-color: #434B5C;\n",
              "      --hover-fill-color: #FFFFFF;\n",
              "      --disabled-bg-color: #3B4455;\n",
              "      --disabled-fill-color: #666;\n",
              "  }\n",
              "\n",
              "  .colab-df-quickchart {\n",
              "    background-color: var(--bg-color);\n",
              "    border: none;\n",
              "    border-radius: 50%;\n",
              "    cursor: pointer;\n",
              "    display: none;\n",
              "    fill: var(--fill-color);\n",
              "    height: 32px;\n",
              "    padding: 0;\n",
              "    width: 32px;\n",
              "  }\n",
              "\n",
              "  .colab-df-quickchart:hover {\n",
              "    background-color: var(--hover-bg-color);\n",
              "    box-shadow: 0 1px 2px rgba(60, 64, 67, 0.3), 0 1px 3px 1px rgba(60, 64, 67, 0.15);\n",
              "    fill: var(--button-hover-fill-color);\n",
              "  }\n",
              "\n",
              "  .colab-df-quickchart-complete:disabled,\n",
              "  .colab-df-quickchart-complete:disabled:hover {\n",
              "    background-color: var(--disabled-bg-color);\n",
              "    fill: var(--disabled-fill-color);\n",
              "    box-shadow: none;\n",
              "  }\n",
              "\n",
              "  .colab-df-spinner {\n",
              "    border: 2px solid var(--fill-color);\n",
              "    border-color: transparent;\n",
              "    border-bottom-color: var(--fill-color);\n",
              "    animation:\n",
              "      spin 1s steps(1) infinite;\n",
              "  }\n",
              "\n",
              "  @keyframes spin {\n",
              "    0% {\n",
              "      border-color: transparent;\n",
              "      border-bottom-color: var(--fill-color);\n",
              "      border-left-color: var(--fill-color);\n",
              "    }\n",
              "    20% {\n",
              "      border-color: transparent;\n",
              "      border-left-color: var(--fill-color);\n",
              "      border-top-color: var(--fill-color);\n",
              "    }\n",
              "    30% {\n",
              "      border-color: transparent;\n",
              "      border-left-color: var(--fill-color);\n",
              "      border-top-color: var(--fill-color);\n",
              "      border-right-color: var(--fill-color);\n",
              "    }\n",
              "    40% {\n",
              "      border-color: transparent;\n",
              "      border-right-color: var(--fill-color);\n",
              "      border-top-color: var(--fill-color);\n",
              "    }\n",
              "    60% {\n",
              "      border-color: transparent;\n",
              "      border-right-color: var(--fill-color);\n",
              "    }\n",
              "    80% {\n",
              "      border-color: transparent;\n",
              "      border-right-color: var(--fill-color);\n",
              "      border-bottom-color: var(--fill-color);\n",
              "    }\n",
              "    90% {\n",
              "      border-color: transparent;\n",
              "      border-bottom-color: var(--fill-color);\n",
              "    }\n",
              "  }\n",
              "</style>\n",
              "\n",
              "      <script>\n",
              "        async function quickchart(key) {\n",
              "          const quickchartButtonEl =\n",
              "            document.querySelector('#' + key + ' button');\n",
              "          quickchartButtonEl.disabled = true;  // To prevent multiple clicks.\n",
              "          quickchartButtonEl.classList.add('colab-df-spinner');\n",
              "          try {\n",
              "            const charts = await google.colab.kernel.invokeFunction(\n",
              "                'suggestCharts', [key], {});\n",
              "          } catch (error) {\n",
              "            console.error('Error during call to suggestCharts:', error);\n",
              "          }\n",
              "          quickchartButtonEl.classList.remove('colab-df-spinner');\n",
              "          quickchartButtonEl.classList.add('colab-df-quickchart-complete');\n",
              "        }\n",
              "        (() => {\n",
              "          let quickchartButtonEl =\n",
              "            document.querySelector('#df-6ab55d15-02c8-40c7-9725-e8c2cb0a6ee1 button');\n",
              "          quickchartButtonEl.style.display =\n",
              "            google.colab.kernel.accessAllowed ? 'block' : 'none';\n",
              "        })();\n",
              "      </script>\n",
              "    </div>\n",
              "\n",
              "  <div id=\"id_def89b43-cb5a-4f10-8633-60cb54362cdb\">\n",
              "    <style>\n",
              "      .colab-df-generate {\n",
              "        background-color: #E8F0FE;\n",
              "        border: none;\n",
              "        border-radius: 50%;\n",
              "        cursor: pointer;\n",
              "        display: none;\n",
              "        fill: #1967D2;\n",
              "        height: 32px;\n",
              "        padding: 0 0 0 0;\n",
              "        width: 32px;\n",
              "      }\n",
              "\n",
              "      .colab-df-generate:hover {\n",
              "        background-color: #E2EBFA;\n",
              "        box-shadow: 0px 1px 2px rgba(60, 64, 67, 0.3), 0px 1px 3px 1px rgba(60, 64, 67, 0.15);\n",
              "        fill: #174EA6;\n",
              "      }\n",
              "\n",
              "      [theme=dark] .colab-df-generate {\n",
              "        background-color: #3B4455;\n",
              "        fill: #D2E3FC;\n",
              "      }\n",
              "\n",
              "      [theme=dark] .colab-df-generate:hover {\n",
              "        background-color: #434B5C;\n",
              "        box-shadow: 0px 1px 3px 1px rgba(0, 0, 0, 0.15);\n",
              "        filter: drop-shadow(0px 1px 2px rgba(0, 0, 0, 0.3));\n",
              "        fill: #FFFFFF;\n",
              "      }\n",
              "    </style>\n",
              "    <button class=\"colab-df-generate\" onclick=\"generateWithVariable('laptop_reviews_train_df')\"\n",
              "            title=\"Generate code using this dataframe.\"\n",
              "            style=\"display:none;\">\n",
              "\n",
              "  <svg xmlns=\"http://www.w3.org/2000/svg\" height=\"24px\"viewBox=\"0 0 24 24\"\n",
              "       width=\"24px\">\n",
              "    <path d=\"M7,19H8.4L18.45,9,17,7.55,7,17.6ZM5,21V16.75L18.45,3.32a2,2,0,0,1,2.83,0l1.4,1.43a1.91,1.91,0,0,1,.58,1.4,1.91,1.91,0,0,1-.58,1.4L9.25,21ZM18.45,9,17,7.55Zm-12,3A5.31,5.31,0,0,0,4.9,8.1,5.31,5.31,0,0,0,1,6.5,5.31,5.31,0,0,0,4.9,4.9,5.31,5.31,0,0,0,6.5,1,5.31,5.31,0,0,0,8.1,4.9,5.31,5.31,0,0,0,12,6.5,5.46,5.46,0,0,0,6.5,12Z\"/>\n",
              "  </svg>\n",
              "    </button>\n",
              "    <script>\n",
              "      (() => {\n",
              "      const buttonEl =\n",
              "        document.querySelector('#id_def89b43-cb5a-4f10-8633-60cb54362cdb button.colab-df-generate');\n",
              "      buttonEl.style.display =\n",
              "        google.colab.kernel.accessAllowed ? 'block' : 'none';\n",
              "\n",
              "      buttonEl.onclick = () => {\n",
              "        google.colab.notebook.generateWithVariable('laptop_reviews_train_df');\n",
              "      }\n",
              "      })();\n",
              "    </script>\n",
              "  </div>\n",
              "\n",
              "    </div>\n",
              "  </div>\n"
            ],
            "text/plain": [
              "                                                   text  \\\n",
              "0     I charge it at night and skip taking the cord ...   \n",
              "1     I charge it at night and skip taking the cord ...   \n",
              "2     The tech guy then said the service center does...   \n",
              "3     The tech guy then said the service center does...   \n",
              "4     The tech guy then said the service center does...   \n",
              "...                                                 ...   \n",
              "2352  We also use Paralles so we can run virtual mac...   \n",
              "2353  We also use Paralles so we can run virtual mac...   \n",
              "2354  We also use Paralles so we can run virtual mac...   \n",
              "2356  How Toshiba handles the repair seems to vary, ...   \n",
              "2357  I would like to use a different operating syst...   \n",
              "\n",
              "                                span     label  ordinal    id  \n",
              "0                               cord   neutral        0     0  \n",
              "1                       battery life  positive        0     1  \n",
              "2                     service center  negative        0     2  \n",
              "3                       \"sales\" team  negative        0     3  \n",
              "4                           tech guy   neutral        0     4  \n",
              "...                              ...       ...      ...   ...  \n",
              "2352          Windows 7 Home Premium   neutral        0  2352  \n",
              "2353  Windows Server Enterprise 2003   neutral        0  2353  \n",
              "2354  Windows Server 2008 Enterprise   neutral        0  2354  \n",
              "2356                          repair  positive        1  2356  \n",
              "2357                operating system   neutral        0  2357  \n",
              "\n",
              "[2313 rows x 5 columns]"
            ]
          },
          "execution_count": 41,
          "metadata": {},
          "output_type": "execute_result"
        }
      ],
      "source": [
        "laptop_reviews_train_df"
      ]
    },
    {
      "cell_type": "code",
      "execution_count": 42,
      "metadata": {
        "colab": {
          "base_uri": "https://localhost:8080/"
        },
        "id": "7JDcw2Xk8AuF",
        "outputId": "edf732df-1256-45a9-bf74-c3fa46b4ab99"
      },
      "outputs": [
        {
          "data": {
            "text/plain": [
              "array(['cord', 'battery life', 'service center', ...,\n",
              "       'Windows Server Enterprise 2003', 'Windows Server 2008 Enterprise',\n",
              "       'repair'], dtype=object)"
            ]
          },
          "execution_count": 42,
          "metadata": {},
          "output_type": "execute_result"
        }
      ],
      "source": [
        "laptop_reviews_train_df.span.unique()"
      ]
    },
    {
      "cell_type": "code",
      "execution_count": 43,
      "metadata": {
        "colab": {
          "base_uri": "https://localhost:8080/"
        },
        "id": "4zc7__rmkv7F",
        "outputId": "eb4be16d-8eab-4732-95ba-df3e7a986a8f"
      },
      "outputs": [
        {
          "data": {
            "text/plain": [
              "1031"
            ]
          },
          "execution_count": 43,
          "metadata": {},
          "output_type": "execute_result"
        }
      ],
      "source": [
        "laptop_reviews_train_df.span.nunique()"
      ]
    },
    {
      "cell_type": "code",
      "execution_count": 44,
      "metadata": {
        "id": "t0AclC4TTmss"
      },
      "outputs": [],
      "source": [
        "laptop_reviews_train_df.loc[:, 'span'] = laptop_reviews_train_df['span'].str.lower()"
      ]
    },
    {
      "cell_type": "code",
      "execution_count": 45,
      "metadata": {
        "colab": {
          "base_uri": "https://localhost:8080/"
        },
        "id": "TZknr97a8tPP",
        "outputId": "85142a75-d464-4403-93e3-a885b20d1c58"
      },
      "outputs": [
        {
          "data": {
            "text/plain": [
              "945"
            ]
          },
          "execution_count": 45,
          "metadata": {},
          "output_type": "execute_result"
        }
      ],
      "source": [
        "laptop_reviews_train_df.span.nunique()"
      ]
    },
    {
      "cell_type": "code",
      "execution_count": 46,
      "metadata": {
        "colab": {
          "base_uri": "https://localhost:8080/",
          "height": 204
        },
        "id": "EQdEYDey82-j",
        "outputId": "26970ca8-626a-4495-cd94-43b1c08e8155"
      },
      "outputs": [
        {
          "data": {
            "application/vnd.google.colaboratory.intrinsic+json": {
              "summary": "{\n  \"name\": \"laptop_reviews_train_df\",\n  \"rows\": 2313,\n  \"fields\": [\n    {\n      \"column\": \"text\",\n      \"properties\": {\n        \"dtype\": \"string\",\n        \"num_unique_values\": 1456,\n        \"samples\": [\n          \"It was super easy to set up and Is really easy to get used to.\",\n          \"While it was highly rated, would I like it? I tried the keyboard at the store, and it seemed ok.\",\n          \"It does not keep internet signals no matter where you bring it.\"\n        ],\n        \"semantic_type\": \"\",\n        \"description\": \"\"\n      }\n    },\n    {\n      \"column\": \"span\",\n      \"properties\": {\n        \"dtype\": \"category\",\n        \"num_unique_values\": 945,\n        \"samples\": [\n          \"casing\",\n          \"drivers/applications dvd\",\n          \"windows 7 home premium\"\n        ],\n        \"semantic_type\": \"\",\n        \"description\": \"\"\n      }\n    },\n    {\n      \"column\": \"label\",\n      \"properties\": {\n        \"dtype\": \"category\",\n        \"num_unique_values\": 3,\n        \"samples\": [\n          \"neutral\",\n          \"positive\",\n          \"negative\"\n        ],\n        \"semantic_type\": \"\",\n        \"description\": \"\"\n      }\n    },\n    {\n      \"column\": \"ordinal\",\n      \"properties\": {\n        \"dtype\": \"number\",\n        \"std\": 0,\n        \"min\": 0,\n        \"max\": 2,\n        \"num_unique_values\": 3,\n        \"samples\": [\n          0,\n          1,\n          2\n        ],\n        \"semantic_type\": \"\",\n        \"description\": \"\"\n      }\n    },\n    {\n      \"column\": \"id\",\n      \"properties\": {\n        \"dtype\": \"number\",\n        \"std\": 682,\n        \"min\": 0,\n        \"max\": 2357,\n        \"num_unique_values\": 2313,\n        \"samples\": [\n          1687,\n          519,\n          1926\n        ],\n        \"semantic_type\": \"\",\n        \"description\": \"\"\n      }\n    }\n  ]\n}",
              "type": "dataframe",
              "variable_name": "laptop_reviews_train_df"
            },
            "text/html": [
              "\n",
              "  <div id=\"df-b838373c-ef06-42ea-a0a8-ef6c157b9d4c\" class=\"colab-df-container\">\n",
              "    <div>\n",
              "<style scoped>\n",
              "    .dataframe tbody tr th:only-of-type {\n",
              "        vertical-align: middle;\n",
              "    }\n",
              "\n",
              "    .dataframe tbody tr th {\n",
              "        vertical-align: top;\n",
              "    }\n",
              "\n",
              "    .dataframe thead th {\n",
              "        text-align: right;\n",
              "    }\n",
              "</style>\n",
              "<table border=\"1\" class=\"dataframe\">\n",
              "  <thead>\n",
              "    <tr style=\"text-align: right;\">\n",
              "      <th></th>\n",
              "      <th>text</th>\n",
              "      <th>span</th>\n",
              "      <th>label</th>\n",
              "      <th>ordinal</th>\n",
              "      <th>id</th>\n",
              "    </tr>\n",
              "  </thead>\n",
              "  <tbody>\n",
              "    <tr>\n",
              "      <th>0</th>\n",
              "      <td>I charge it at night and skip taking the cord ...</td>\n",
              "      <td>cord</td>\n",
              "      <td>neutral</td>\n",
              "      <td>0</td>\n",
              "      <td>0</td>\n",
              "    </tr>\n",
              "    <tr>\n",
              "      <th>1</th>\n",
              "      <td>I charge it at night and skip taking the cord ...</td>\n",
              "      <td>battery life</td>\n",
              "      <td>positive</td>\n",
              "      <td>0</td>\n",
              "      <td>1</td>\n",
              "    </tr>\n",
              "    <tr>\n",
              "      <th>2</th>\n",
              "      <td>The tech guy then said the service center does...</td>\n",
              "      <td>service center</td>\n",
              "      <td>negative</td>\n",
              "      <td>0</td>\n",
              "      <td>2</td>\n",
              "    </tr>\n",
              "    <tr>\n",
              "      <th>3</th>\n",
              "      <td>The tech guy then said the service center does...</td>\n",
              "      <td>\"sales\" team</td>\n",
              "      <td>negative</td>\n",
              "      <td>0</td>\n",
              "      <td>3</td>\n",
              "    </tr>\n",
              "    <tr>\n",
              "      <th>4</th>\n",
              "      <td>The tech guy then said the service center does...</td>\n",
              "      <td>tech guy</td>\n",
              "      <td>neutral</td>\n",
              "      <td>0</td>\n",
              "      <td>4</td>\n",
              "    </tr>\n",
              "  </tbody>\n",
              "</table>\n",
              "</div>\n",
              "    <div class=\"colab-df-buttons\">\n",
              "\n",
              "  <div class=\"colab-df-container\">\n",
              "    <button class=\"colab-df-convert\" onclick=\"convertToInteractive('df-b838373c-ef06-42ea-a0a8-ef6c157b9d4c')\"\n",
              "            title=\"Convert this dataframe to an interactive table.\"\n",
              "            style=\"display:none;\">\n",
              "\n",
              "  <svg xmlns=\"http://www.w3.org/2000/svg\" height=\"24px\" viewBox=\"0 -960 960 960\">\n",
              "    <path d=\"M120-120v-720h720v720H120Zm60-500h600v-160H180v160Zm220 220h160v-160H400v160Zm0 220h160v-160H400v160ZM180-400h160v-160H180v160Zm440 0h160v-160H620v160ZM180-180h160v-160H180v160Zm440 0h160v-160H620v160Z\"/>\n",
              "  </svg>\n",
              "    </button>\n",
              "\n",
              "  <style>\n",
              "    .colab-df-container {\n",
              "      display:flex;\n",
              "      gap: 12px;\n",
              "    }\n",
              "\n",
              "    .colab-df-convert {\n",
              "      background-color: #E8F0FE;\n",
              "      border: none;\n",
              "      border-radius: 50%;\n",
              "      cursor: pointer;\n",
              "      display: none;\n",
              "      fill: #1967D2;\n",
              "      height: 32px;\n",
              "      padding: 0 0 0 0;\n",
              "      width: 32px;\n",
              "    }\n",
              "\n",
              "    .colab-df-convert:hover {\n",
              "      background-color: #E2EBFA;\n",
              "      box-shadow: 0px 1px 2px rgba(60, 64, 67, 0.3), 0px 1px 3px 1px rgba(60, 64, 67, 0.15);\n",
              "      fill: #174EA6;\n",
              "    }\n",
              "\n",
              "    .colab-df-buttons div {\n",
              "      margin-bottom: 4px;\n",
              "    }\n",
              "\n",
              "    [theme=dark] .colab-df-convert {\n",
              "      background-color: #3B4455;\n",
              "      fill: #D2E3FC;\n",
              "    }\n",
              "\n",
              "    [theme=dark] .colab-df-convert:hover {\n",
              "      background-color: #434B5C;\n",
              "      box-shadow: 0px 1px 3px 1px rgba(0, 0, 0, 0.15);\n",
              "      filter: drop-shadow(0px 1px 2px rgba(0, 0, 0, 0.3));\n",
              "      fill: #FFFFFF;\n",
              "    }\n",
              "  </style>\n",
              "\n",
              "    <script>\n",
              "      const buttonEl =\n",
              "        document.querySelector('#df-b838373c-ef06-42ea-a0a8-ef6c157b9d4c button.colab-df-convert');\n",
              "      buttonEl.style.display =\n",
              "        google.colab.kernel.accessAllowed ? 'block' : 'none';\n",
              "\n",
              "      async function convertToInteractive(key) {\n",
              "        const element = document.querySelector('#df-b838373c-ef06-42ea-a0a8-ef6c157b9d4c');\n",
              "        const dataTable =\n",
              "          await google.colab.kernel.invokeFunction('convertToInteractive',\n",
              "                                                    [key], {});\n",
              "        if (!dataTable) return;\n",
              "\n",
              "        const docLinkHtml = 'Like what you see? Visit the ' +\n",
              "          '<a target=\"_blank\" href=https://colab.research.google.com/notebooks/data_table.ipynb>data table notebook</a>'\n",
              "          + ' to learn more about interactive tables.';\n",
              "        element.innerHTML = '';\n",
              "        dataTable['output_type'] = 'display_data';\n",
              "        await google.colab.output.renderOutput(dataTable, element);\n",
              "        const docLink = document.createElement('div');\n",
              "        docLink.innerHTML = docLinkHtml;\n",
              "        element.appendChild(docLink);\n",
              "      }\n",
              "    </script>\n",
              "  </div>\n",
              "\n",
              "\n",
              "    <div id=\"df-7d8b6ef3-d329-4361-aa56-1492c3129799\">\n",
              "      <button class=\"colab-df-quickchart\" onclick=\"quickchart('df-7d8b6ef3-d329-4361-aa56-1492c3129799')\"\n",
              "                title=\"Suggest charts\"\n",
              "                style=\"display:none;\">\n",
              "\n",
              "<svg xmlns=\"http://www.w3.org/2000/svg\" height=\"24px\"viewBox=\"0 0 24 24\"\n",
              "     width=\"24px\">\n",
              "    <g>\n",
              "        <path d=\"M19 3H5c-1.1 0-2 .9-2 2v14c0 1.1.9 2 2 2h14c1.1 0 2-.9 2-2V5c0-1.1-.9-2-2-2zM9 17H7v-7h2v7zm4 0h-2V7h2v10zm4 0h-2v-4h2v4z\"/>\n",
              "    </g>\n",
              "</svg>\n",
              "      </button>\n",
              "\n",
              "<style>\n",
              "  .colab-df-quickchart {\n",
              "      --bg-color: #E8F0FE;\n",
              "      --fill-color: #1967D2;\n",
              "      --hover-bg-color: #E2EBFA;\n",
              "      --hover-fill-color: #174EA6;\n",
              "      --disabled-fill-color: #AAA;\n",
              "      --disabled-bg-color: #DDD;\n",
              "  }\n",
              "\n",
              "  [theme=dark] .colab-df-quickchart {\n",
              "      --bg-color: #3B4455;\n",
              "      --fill-color: #D2E3FC;\n",
              "      --hover-bg-color: #434B5C;\n",
              "      --hover-fill-color: #FFFFFF;\n",
              "      --disabled-bg-color: #3B4455;\n",
              "      --disabled-fill-color: #666;\n",
              "  }\n",
              "\n",
              "  .colab-df-quickchart {\n",
              "    background-color: var(--bg-color);\n",
              "    border: none;\n",
              "    border-radius: 50%;\n",
              "    cursor: pointer;\n",
              "    display: none;\n",
              "    fill: var(--fill-color);\n",
              "    height: 32px;\n",
              "    padding: 0;\n",
              "    width: 32px;\n",
              "  }\n",
              "\n",
              "  .colab-df-quickchart:hover {\n",
              "    background-color: var(--hover-bg-color);\n",
              "    box-shadow: 0 1px 2px rgba(60, 64, 67, 0.3), 0 1px 3px 1px rgba(60, 64, 67, 0.15);\n",
              "    fill: var(--button-hover-fill-color);\n",
              "  }\n",
              "\n",
              "  .colab-df-quickchart-complete:disabled,\n",
              "  .colab-df-quickchart-complete:disabled:hover {\n",
              "    background-color: var(--disabled-bg-color);\n",
              "    fill: var(--disabled-fill-color);\n",
              "    box-shadow: none;\n",
              "  }\n",
              "\n",
              "  .colab-df-spinner {\n",
              "    border: 2px solid var(--fill-color);\n",
              "    border-color: transparent;\n",
              "    border-bottom-color: var(--fill-color);\n",
              "    animation:\n",
              "      spin 1s steps(1) infinite;\n",
              "  }\n",
              "\n",
              "  @keyframes spin {\n",
              "    0% {\n",
              "      border-color: transparent;\n",
              "      border-bottom-color: var(--fill-color);\n",
              "      border-left-color: var(--fill-color);\n",
              "    }\n",
              "    20% {\n",
              "      border-color: transparent;\n",
              "      border-left-color: var(--fill-color);\n",
              "      border-top-color: var(--fill-color);\n",
              "    }\n",
              "    30% {\n",
              "      border-color: transparent;\n",
              "      border-left-color: var(--fill-color);\n",
              "      border-top-color: var(--fill-color);\n",
              "      border-right-color: var(--fill-color);\n",
              "    }\n",
              "    40% {\n",
              "      border-color: transparent;\n",
              "      border-right-color: var(--fill-color);\n",
              "      border-top-color: var(--fill-color);\n",
              "    }\n",
              "    60% {\n",
              "      border-color: transparent;\n",
              "      border-right-color: var(--fill-color);\n",
              "    }\n",
              "    80% {\n",
              "      border-color: transparent;\n",
              "      border-right-color: var(--fill-color);\n",
              "      border-bottom-color: var(--fill-color);\n",
              "    }\n",
              "    90% {\n",
              "      border-color: transparent;\n",
              "      border-bottom-color: var(--fill-color);\n",
              "    }\n",
              "  }\n",
              "</style>\n",
              "\n",
              "      <script>\n",
              "        async function quickchart(key) {\n",
              "          const quickchartButtonEl =\n",
              "            document.querySelector('#' + key + ' button');\n",
              "          quickchartButtonEl.disabled = true;  // To prevent multiple clicks.\n",
              "          quickchartButtonEl.classList.add('colab-df-spinner');\n",
              "          try {\n",
              "            const charts = await google.colab.kernel.invokeFunction(\n",
              "                'suggestCharts', [key], {});\n",
              "          } catch (error) {\n",
              "            console.error('Error during call to suggestCharts:', error);\n",
              "          }\n",
              "          quickchartButtonEl.classList.remove('colab-df-spinner');\n",
              "          quickchartButtonEl.classList.add('colab-df-quickchart-complete');\n",
              "        }\n",
              "        (() => {\n",
              "          let quickchartButtonEl =\n",
              "            document.querySelector('#df-7d8b6ef3-d329-4361-aa56-1492c3129799 button');\n",
              "          quickchartButtonEl.style.display =\n",
              "            google.colab.kernel.accessAllowed ? 'block' : 'none';\n",
              "        })();\n",
              "      </script>\n",
              "    </div>\n",
              "\n",
              "    </div>\n",
              "  </div>\n"
            ],
            "text/plain": [
              "                                                text            span  \\\n",
              "0  I charge it at night and skip taking the cord ...            cord   \n",
              "1  I charge it at night and skip taking the cord ...    battery life   \n",
              "2  The tech guy then said the service center does...  service center   \n",
              "3  The tech guy then said the service center does...    \"sales\" team   \n",
              "4  The tech guy then said the service center does...        tech guy   \n",
              "\n",
              "      label  ordinal  id  \n",
              "0   neutral        0   0  \n",
              "1  positive        0   1  \n",
              "2  negative        0   2  \n",
              "3  negative        0   3  \n",
              "4   neutral        0   4  "
            ]
          },
          "execution_count": 46,
          "metadata": {},
          "output_type": "execute_result"
        }
      ],
      "source": [
        "laptop_reviews_train_df.head()"
      ]
    },
    {
      "cell_type": "markdown",
      "metadata": {
        "id": "p1NJs7IU8EMF"
      },
      "source": []
    },
    {
      "cell_type": "markdown",
      "metadata": {
        "id": "p2M78M7CMeCp"
      },
      "source": [
        "There are way too many aspects. Most of them are infrequent and are useless for the business. Let's focus on top 6 aspects based on the frequency of the aspect. To do that let's check the top most frequent aspects."
      ]
    },
    {
      "cell_type": "code",
      "execution_count": 47,
      "metadata": {
        "colab": {
          "base_uri": "https://localhost:8080/",
          "height": 579
        },
        "id": "5UIopJTHk1FS",
        "outputId": "4369de90-b592-433b-ec3d-bf25760707bf"
      },
      "outputs": [
        {
          "data": {
            "text/html": [
              "<div>\n",
              "<style scoped>\n",
              "    .dataframe tbody tr th:only-of-type {\n",
              "        vertical-align: middle;\n",
              "    }\n",
              "\n",
              "    .dataframe tbody tr th {\n",
              "        vertical-align: top;\n",
              "    }\n",
              "\n",
              "    .dataframe thead th {\n",
              "        text-align: right;\n",
              "    }\n",
              "</style>\n",
              "<table border=\"1\" class=\"dataframe\">\n",
              "  <thead>\n",
              "    <tr style=\"text-align: right;\">\n",
              "      <th></th>\n",
              "      <th>count</th>\n",
              "    </tr>\n",
              "    <tr>\n",
              "      <th>span</th>\n",
              "      <th></th>\n",
              "    </tr>\n",
              "  </thead>\n",
              "  <tbody>\n",
              "    <tr>\n",
              "      <th>screen</th>\n",
              "      <td>60</td>\n",
              "    </tr>\n",
              "    <tr>\n",
              "      <th>price</th>\n",
              "      <td>56</td>\n",
              "    </tr>\n",
              "    <tr>\n",
              "      <th>use</th>\n",
              "      <td>53</td>\n",
              "    </tr>\n",
              "    <tr>\n",
              "      <th>battery life</th>\n",
              "      <td>52</td>\n",
              "    </tr>\n",
              "    <tr>\n",
              "      <th>keyboard</th>\n",
              "      <td>50</td>\n",
              "    </tr>\n",
              "    <tr>\n",
              "      <th>battery</th>\n",
              "      <td>47</td>\n",
              "    </tr>\n",
              "    <tr>\n",
              "      <th>programs</th>\n",
              "      <td>37</td>\n",
              "    </tr>\n",
              "    <tr>\n",
              "      <th>features</th>\n",
              "      <td>35</td>\n",
              "    </tr>\n",
              "    <tr>\n",
              "      <th>software</th>\n",
              "      <td>33</td>\n",
              "    </tr>\n",
              "    <tr>\n",
              "      <th>warranty</th>\n",
              "      <td>31</td>\n",
              "    </tr>\n",
              "    <tr>\n",
              "      <th>hard drive</th>\n",
              "      <td>30</td>\n",
              "    </tr>\n",
              "    <tr>\n",
              "      <th>windows</th>\n",
              "      <td>30</td>\n",
              "    </tr>\n",
              "    <tr>\n",
              "      <th>size</th>\n",
              "      <td>24</td>\n",
              "    </tr>\n",
              "    <tr>\n",
              "      <th>quality</th>\n",
              "      <td>23</td>\n",
              "    </tr>\n",
              "    <tr>\n",
              "      <th>performance</th>\n",
              "      <td>23</td>\n",
              "    </tr>\n",
              "  </tbody>\n",
              "</table>\n",
              "</div><br><label><b>dtype:</b> int64</label>"
            ],
            "text/plain": [
              "span\n",
              "screen          60\n",
              "price           56\n",
              "use             53\n",
              "battery life    52\n",
              "keyboard        50\n",
              "battery         47\n",
              "programs        37\n",
              "features        35\n",
              "software        33\n",
              "warranty        31\n",
              "hard drive      30\n",
              "windows         30\n",
              "size            24\n",
              "quality         23\n",
              "performance     23\n",
              "Name: count, dtype: int64"
            ]
          },
          "execution_count": 47,
          "metadata": {},
          "output_type": "execute_result"
        }
      ],
      "source": [
        "laptop_reviews_train_df.span.value_counts()[:15]"
      ]
    },
    {
      "cell_type": "markdown",
      "metadata": {
        "id": "Rl-KpMOyNVeB"
      },
      "source": [
        "We will focus on the following six aspects of the Laptops. These are among the most frequent and are important for the design decisions.\n",
        "\n",
        "1. Screen\n",
        "2. Price\n",
        "3. Battery Life\n",
        "4. Keyboard\n",
        "5. Programs\n",
        "6. Warranty\n",
        "    \n",
        "To do this, let's filter our dataset to contain only these aspects."
      ]
    },
    {
      "cell_type": "code",
      "execution_count": 48,
      "metadata": {
        "id": "kM1nMhevOefS"
      },
      "outputs": [],
      "source": [
        "aspects = ['screen', 'price', 'battery life', 'keyboard', 'programs', 'warranty']\n",
        "laptop_reviews_train_df = laptop_reviews_train_df[laptop_reviews_train_df['span'].isin(aspects)]"
      ]
    },
    {
      "cell_type": "code",
      "execution_count": 49,
      "metadata": {
        "colab": {
          "base_uri": "https://localhost:8080/"
        },
        "id": "g1lkSqekTS_0",
        "outputId": "f7d76659-2716-49ab-acb0-2c2d24da469d"
      },
      "outputs": [
        {
          "data": {
            "text/plain": [
              "array(['battery life', 'screen', 'price', 'warranty', 'keyboard',\n",
              "       'programs'], dtype=object)"
            ]
          },
          "execution_count": 49,
          "metadata": {},
          "output_type": "execute_result"
        }
      ],
      "source": [
        "laptop_reviews_train_df.span.unique()"
      ]
    },
    {
      "cell_type": "code",
      "execution_count": 50,
      "metadata": {
        "colab": {
          "base_uri": "https://localhost:8080/"
        },
        "id": "HpnRApBZ9YRC",
        "outputId": "00610ec4-b0f8-4749-a2eb-148b7bd9b6d3"
      },
      "outputs": [
        {
          "data": {
            "text/plain": [
              "(286, 5)"
            ]
          },
          "execution_count": 50,
          "metadata": {},
          "output_type": "execute_result"
        }
      ],
      "source": [
        "laptop_reviews_train_df.shape"
      ]
    },
    {
      "cell_type": "markdown",
      "metadata": {
        "id": "U4JhMYj-UHKm"
      },
      "source": [
        "Let's rename the column to aspect"
      ]
    },
    {
      "cell_type": "code",
      "execution_count": 51,
      "metadata": {
        "id": "ZCZILweJUGXZ"
      },
      "outputs": [],
      "source": [
        "laptop_reviews_train_df = laptop_reviews_train_df.rename(columns={'span': 'aspect'})"
      ]
    },
    {
      "cell_type": "code",
      "execution_count": 52,
      "metadata": {
        "id": "o6Im_eQeOfvx"
      },
      "outputs": [],
      "source": [
        "laptop_reviews_examples_df, laptop_reviews_gold_examples_df = train_test_split(\n",
        "    laptop_reviews_train_df, #<- the full dataset\n",
        "    test_size=0.2, #<- 50% random sample selected for gold examples\n",
        "    random_state=42 #<- ensures that the splits are the same for every session\n",
        ")"
      ]
    },
    {
      "cell_type": "code",
      "execution_count": 54,
      "metadata": {
        "colab": {
          "base_uri": "https://localhost:8080/"
        },
        "id": "YeFGYvTVtgSy",
        "outputId": "f9e29fe5-cbef-4928-bbc0-dd635c3e2e2b"
      },
      "outputs": [
        {
          "data": {
            "text/plain": [
              "(228, 5)"
            ]
          },
          "execution_count": 54,
          "metadata": {},
          "output_type": "execute_result"
        }
      ],
      "source": [
        "laptop_reviews_examples_df.shape"
      ]
    },
    {
      "cell_type": "code",
      "execution_count": 55,
      "metadata": {
        "colab": {
          "base_uri": "https://localhost:8080/"
        },
        "id": "1tH2C4f6tmo6",
        "outputId": "33a96efe-b319-4ea3-a895-3addc20761e8"
      },
      "outputs": [
        {
          "data": {
            "text/plain": [
              "Index(['text', 'aspect', 'label', 'ordinal', 'id'], dtype='object')"
            ]
          },
          "execution_count": 55,
          "metadata": {},
          "output_type": "execute_result"
        }
      ],
      "source": [
        "laptop_reviews_examples_df.columns"
      ]
    },
    {
      "cell_type": "code",
      "execution_count": 53,
      "metadata": {
        "colab": {
          "base_uri": "https://localhost:8080/"
        },
        "id": "sAjsJkEatbpH",
        "outputId": "a2bb0e43-0e7f-40ec-abea-e30b907f0504"
      },
      "outputs": [
        {
          "data": {
            "text/plain": [
              "(58, 5)"
            ]
          },
          "execution_count": 53,
          "metadata": {},
          "output_type": "execute_result"
        }
      ],
      "source": [
        "laptop_reviews_gold_examples_df.shape"
      ]
    },
    {
      "cell_type": "markdown",
      "metadata": {
        "id": "g8d1eVuYZX8o"
      },
      "source": [
        "To create this index, we start with a dictionary of aspects in  the task"
      ]
    },
    {
      "cell_type": "code",
      "execution_count": 56,
      "metadata": {
        "id": "xQ-b7FNuL9kU"
      },
      "outputs": [],
      "source": [
        "columns_to_select = [ 'text', 'aspect', 'label']"
      ]
    },
    {
      "cell_type": "code",
      "execution_count": 57,
      "metadata": {
        "id": "lT9gD4WZua0A"
      },
      "outputs": [],
      "source": [
        "gold_examples = json.loads((\n",
        "        laptop_reviews_gold_examples_df.loc[:, columns_to_select]\n",
        "                                           .sample(30, random_state=42) #<- ensures that gold examples are the same for every session\n",
        "                                           .to_json(orient='records')\n",
        "))"
      ]
    },
    {
      "cell_type": "code",
      "execution_count": 60,
      "metadata": {
        "colab": {
          "base_uri": "https://localhost:8080/"
        },
        "id": "OjOe2xfvt0HK",
        "outputId": "8519a255-b85c-43ca-b610-82a43a764bea"
      },
      "outputs": [
        {
          "data": {
            "text/plain": [
              "30"
            ]
          },
          "execution_count": 60,
          "metadata": {},
          "output_type": "execute_result"
        }
      ],
      "source": [
        "len(gold_examples)"
      ]
    },
    {
      "cell_type": "code",
      "execution_count": 58,
      "metadata": {
        "colab": {
          "base_uri": "https://localhost:8080/"
        },
        "id": "iulyR5NDMIT_",
        "outputId": "a448d524-ec96-4a0d-fc0b-ad5a8bafffbf"
      },
      "outputs": [
        {
          "data": {
            "text/plain": [
              "{'text': \"It has a 10 hour battery life when you're doing web browsing and word editing, making it perfect for the classroom or office, and in terms of gaming and movie playing it'll have a battery life of just over 5 hours.\",\n",
              " 'aspect': 'battery life',\n",
              " 'label': 'positive'}"
            ]
          },
          "execution_count": 58,
          "metadata": {},
          "output_type": "execute_result"
        }
      ],
      "source": [
        "gold_examples[0]"
      ]
    },
    {
      "cell_type": "markdown",
      "metadata": {
        "id": "nUKk7CF8ua0B"
      },
      "source": [
        "### Step 3: Derive Prompt"
      ]
    },
    {
      "cell_type": "markdown",
      "metadata": {
        "id": "QAIuLFnOGuxu"
      },
      "source": [
        "Now that we have done the preprocessing let's create zero-shot and few-shot prompts for our ABSA."
      ]
    },
    {
      "cell_type": "markdown",
      "metadata": {
        "id": "w28FzKHBua0C"
      },
      "source": [
        "#### Create prompts"
      ]
    },
    {
      "cell_type": "code",
      "execution_count": 61,
      "metadata": {
        "id": "7zaG2Yyrua0C"
      },
      "outputs": [],
      "source": [
        "user_message_template = \"\"\"```{laptop_review}```\"\"\""
      ]
    },
    {
      "cell_type": "markdown",
      "metadata": {
        "id": "qWy1pnDTua0C"
      },
      "source": [
        "**Zero-shot prompt**"
      ]
    },
    {
      "cell_type": "markdown",
      "metadata": {
        "id": "s8RL_Ox_1YqZ"
      },
      "source": [
        "Let's start with a zero shot prompt for ABSA. Later, we will explore few-shot prompt."
      ]
    },
    {
      "cell_type": "code",
      "execution_count": 62,
      "metadata": {
        "id": "SxP6rM3xua0D"
      },
      "outputs": [],
      "source": [
        "zero_shot_system_message = \"\"\"\n",
        "Perform aspect based sentiment analysis on laptop reviews presented in the input delimited by triple backticks, that is, ```.\n",
        "In each review there might be one or more of the following aspects: 'battery life', 'screen', 'keyboard', 'price', 'warranty','programs'.\n",
        "For each review presented as input:\n",
        "- Identify if there are any of the 6 aspects ('battery life', 'screen', 'keyboard', 'price', 'warranty', 'programs') present in the review.\n",
        "- Assign a sentiment polarity (positive, negative or neutral) for each aspect\n",
        "\n",
        "Arrange your response a JSON object with the following headers:\n",
        "- category:[list of aspects]\n",
        "- polarity:[list of corresponding polarities for each aspect]}\n",
        "write the whole sentiment - positive, negative or neutral and not just p,n\n",
        "\"\"\""
      ]
    },
    {
      "cell_type": "code",
      "execution_count": 63,
      "metadata": {
        "id": "N3qgVUfuua0D"
      },
      "outputs": [],
      "source": [
        "zero_shot_prompt = [{'role':'system', 'content': zero_shot_system_message}]"
      ]
    },
    {
      "cell_type": "code",
      "execution_count": 64,
      "metadata": {
        "colab": {
          "base_uri": "https://localhost:8080/"
        },
        "id": "h_GS6iC3ua0E",
        "outputId": "15827f58-d6a7-4178-e344-1a1882ef9c0b"
      },
      "outputs": [
        {
          "name": "stdout",
          "output_type": "stream",
          "text": [
            "Value is:  system\n",
            "Encoded numbers for system are: [9125]\n",
            "Encoded numbers for \u001b[1msystem\u001b[0m are: [9125]\n",
            "Encoded numbers for 'system' are: [9125]\n",
            "4\n",
            "Value is:  \n",
            "Perform aspect based sentiment analysis on laptop reviews presented in the input delimited by triple backticks, that is, ```.\n",
            "In each review there might be one or more of the following aspects: 'battery life', 'screen', 'keyboard', 'price', 'warranty','programs'.\n",
            "For each review presented as input:\n",
            "- Identify if there are any of the 6 aspects ('battery life', 'screen', 'keyboard', 'price', 'warranty', 'programs') present in the review.\n",
            "- Assign a sentiment polarity (positive, negative or neutral) for each aspect\n",
            "\n",
            "Arrange your response a JSON object with the following headers:\n",
            "- category:[list of aspects]\n",
            "- polarity:[list of corresponding polarities for each aspect]}\n",
            "write the whole sentiment - positive, negative or neutral and not just p,n\n",
            "\n",
            "Encoded numbers for \n",
            "Perform aspect based sentiment analysis on laptop reviews presented in the input delimited by triple backticks, that is, ```.\n",
            "In each review there might be one or more of the following aspects: 'battery life', 'screen', 'keyboard', 'price', 'warranty','programs'.\n",
            "For each review presented as input:\n",
            "- Identify if there are any of the 6 aspects ('battery life', 'screen', 'keyboard', 'price', 'warranty', 'programs') present in the review.\n",
            "- Assign a sentiment polarity (positive, negative or neutral) for each aspect\n",
            "\n",
            "Arrange your response a JSON object with the following headers:\n",
            "- category:[list of aspects]\n",
            "- polarity:[list of corresponding polarities for each aspect]}\n",
            "write the whole sentiment - positive, negative or neutral and not just p,n\n",
            " are: [198, 48051, 13189, 3196, 27065, 6492, 389, 21288, 8544, 10666, 304, 279, 1988, 86428, 555, 24657, 1203, 36178, 11, 430, 374, 11, 10103, 19154, 644, 1855, 3477, 1070, 2643, 387, 832, 477, 810, 315, 279, 2768, 13878, 25, 364, 75459, 2324, 518, 364, 8337, 518, 364, 42813, 518, 364, 6692, 518, 364, 86, 44290, 1882, 74053, 24482, 2520, 1855, 3477, 10666, 439, 1988, 512, 12, 65647, 422, 1070, 527, 904, 315, 279, 220, 21, 13878, 4417, 75459, 2324, 518, 364, 8337, 518, 364, 42813, 518, 364, 6692, 518, 364, 86, 44290, 518, 364, 74053, 873, 3118, 304, 279, 3477, 627, 12, 32739, 264, 27065, 76790, 320, 31587, 11, 8389, 477, 21277, 8, 369, 1855, 13189, 271, 80335, 701, 2077, 264, 4823, 1665, 449, 279, 2768, 7247, 512, 12, 5699, 7407, 1638, 315, 13878, 933, 12, 76790, 7407, 1638, 315, 12435, 25685, 1385, 369, 1855, 13189, 24333, 5040, 279, 4459, 27065, 482, 6928, 11, 8389, 477, 21277, 323, 539, 1120, 281, 10337, 198]\n",
            "Encoded numbers for \u001b[1m\n",
            "Perform aspect based sentiment analysis on laptop reviews presented in the input delimited by triple backticks, that is, ```.\n",
            "In each review there might be one or more of the following aspects: 'battery life', 'screen', 'keyboard', 'price', 'warranty','programs'.\n",
            "For each review presented as input:\n",
            "- Identify if there are any of the 6 aspects ('battery life', 'screen', 'keyboard', 'price', 'warranty', 'programs') present in the review.\n",
            "- Assign a sentiment polarity (positive, negative or neutral) for each aspect\n",
            "\n",
            "Arrange your response a JSON object with the following headers:\n",
            "- category:[list of aspects]\n",
            "- polarity:[list of corresponding polarities for each aspect]}\n",
            "write the whole sentiment - positive, negative or neutral and not just p,n\n",
            "\u001b[0m are: [198, 48051, 13189, 3196, 27065, 6492, 389, 21288, 8544, 10666, 304, 279, 1988, 86428, 555, 24657, 1203, 36178, 11, 430, 374, 11, 10103, 19154, 644, 1855, 3477, 1070, 2643, 387, 832, 477, 810, 315, 279, 2768, 13878, 25, 364, 75459, 2324, 518, 364, 8337, 518, 364, 42813, 518, 364, 6692, 518, 364, 86, 44290, 1882, 74053, 24482, 2520, 1855, 3477, 10666, 439, 1988, 512, 12, 65647, 422, 1070, 527, 904, 315, 279, 220, 21, 13878, 4417, 75459, 2324, 518, 364, 8337, 518, 364, 42813, 518, 364, 6692, 518, 364, 86, 44290, 518, 364, 74053, 873, 3118, 304, 279, 3477, 627, 12, 32739, 264, 27065, 76790, 320, 31587, 11, 8389, 477, 21277, 8, 369, 1855, 13189, 271, 80335, 701, 2077, 264, 4823, 1665, 449, 279, 2768, 7247, 512, 12, 5699, 7407, 1638, 315, 13878, 933, 12, 76790, 7407, 1638, 315, 12435, 25685, 1385, 369, 1855, 13189, 24333, 5040, 279, 4459, 27065, 482, 6928, 11, 8389, 477, 21277, 323, 539, 1120, 281, 10337, 198]\n",
            "Encoded numbers for '\n",
            "Perform aspect based sentiment analysis on laptop reviews presented in the input delimited by triple backticks, that is, ```.\n",
            "In each review there might be one or more of the following aspects: 'battery life', 'screen', 'keyboard', 'price', 'warranty','programs'.\n",
            "For each review presented as input:\n",
            "- Identify if there are any of the 6 aspects ('battery life', 'screen', 'keyboard', 'price', 'warranty', 'programs') present in the review.\n",
            "- Assign a sentiment polarity (positive, negative or neutral) for each aspect\n",
            "\n",
            "Arrange your response a JSON object with the following headers:\n",
            "- category:[list of aspects]\n",
            "- polarity:[list of corresponding polarities for each aspect]}\n",
            "write the whole sentiment - positive, negative or neutral and not just p,n\n",
            "' are: [198, 48051, 13189, 3196, 27065, 6492, 389, 21288, 8544, 10666, 304, 279, 1988, 86428, 555, 24657, 1203, 36178, 11, 430, 374, 11, 10103, 19154, 644, 1855, 3477, 1070, 2643, 387, 832, 477, 810, 315, 279, 2768, 13878, 25, 364, 75459, 2324, 518, 364, 8337, 518, 364, 42813, 518, 364, 6692, 518, 364, 86, 44290, 1882, 74053, 24482, 2520, 1855, 3477, 10666, 439, 1988, 512, 12, 65647, 422, 1070, 527, 904, 315, 279, 220, 21, 13878, 4417, 75459, 2324, 518, 364, 8337, 518, 364, 42813, 518, 364, 6692, 518, 364, 86, 44290, 518, 364, 74053, 873, 3118, 304, 279, 3477, 627, 12, 32739, 264, 27065, 76790, 320, 31587, 11, 8389, 477, 21277, 8, 369, 1855, 13189, 271, 80335, 701, 2077, 264, 4823, 1665, 449, 279, 2768, 7247, 512, 12, 5699, 7407, 1638, 315, 13878, 933, 12, 76790, 7407, 1638, 315, 12435, 25685, 1385, 369, 1855, 13189, 24333, 5040, 279, 4459, 27065, 482, 6928, 11, 8389, 477, 21277, 323, 539, 1120, 281, 10337, 198]\n",
            "166\n"
          ]
        },
        {
          "data": {
            "text/plain": [
              "169"
            ]
          },
          "execution_count": 64,
          "metadata": {},
          "output_type": "execute_result"
        }
      ],
      "source": [
        "num_tokens_from_messages(zero_shot_prompt)"
      ]
    },
    {
      "cell_type": "markdown",
      "metadata": {
        "id": "dGJtzvR41Yqb"
      },
      "source": [
        "Let's create the few-shot prompt right now before evaluating the zero-shot so that we can evaluate zero-shot and few-shot together."
      ]
    },
    {
      "cell_type": "markdown",
      "metadata": {
        "id": "znPALXDkua0E"
      },
      "source": [
        "**Few-shot prompt**"
      ]
    },
    {
      "cell_type": "markdown",
      "metadata": {
        "id": "a-o4hEim1Yqb"
      },
      "source": [
        "The system prompt stays the same as the zero-shot. We are only going to add few examples on top of the system prompt to create the few-shot prompt."
      ]
    },
    {
      "cell_type": "markdown",
      "metadata": {
        "id": "5yOoGmrsvE1U"
      },
      "source": [
        "## Hard coded few_shot_prompt"
      ]
    },
    {
      "cell_type": "code",
      "execution_count": 68,
      "metadata": {
        "id": "zGPRV6FLulXI"
      },
      "outputs": [],
      "source": [
        "\n",
        "# few_shot_system_message_2 = \"\"\"\n",
        "# You are an expert at aspect-based sentiment analysis for laptop reviews.\n",
        "\n",
        "# TASK: Analyze laptop reviews to identify specific aspects and their associated sentiments.\n",
        "\n",
        "# TARGET ASPECTS: Only analyze these 6 aspects when present in the review:\n",
        "# 1. 'battery life' - battery performance, duration, charging\n",
        "# 2. 'screen' - display quality, resolution, brightness, size\n",
        "# 3. 'keyboard' - typing experience, key feel, layout\n",
        "# 4. 'price' - cost, value, affordability, pricing\n",
        "# 5. 'warranty' - warranty coverage, support, service\n",
        "# 6. 'programs' - software, applications, pre-installed programs\n",
        "\n",
        "# SENTIMENT LABELS:\n",
        "# - positive: clearly favorable opinion\n",
        "# - negative: clearly unfavorable opinion\n",
        "# - neutral: mixed, moderate, or factual statement without clear sentiment\n",
        "\n",
        "# INSTRUCTIONS:\n",
        "# 1. Read the laptop review enclosed in triple backticks (```)\n",
        "# 2. Identify which of the 6 target aspects are mentioned or clearly implied\n",
        "# 3. Determine the sentiment for each identified aspect\n",
        "# 4. Return results as a JSON array of objects\n",
        "\n",
        "# OUTPUT FORMAT:\n",
        "# [\n",
        "#   {\n",
        "#     \"category\": \"[exact aspect name from the 6 categories]\",\n",
        "#     \"sentiment\": \"[positive/negative/neutral]\"\n",
        "#   }\n",
        "# ]\n",
        "\n",
        "# EXAMPLES:\n",
        "\n",
        "# Review: ```This laptop has terrible battery life, it only lasts 2 hours. However, the screen is crystal clear and vibrant.```\n",
        "# Response: [\n",
        "#   {\n",
        "#     \"category\": \"battery life\",\n",
        "#     \"sentiment\": \"negative\"\n",
        "#   },\n",
        "#   {\n",
        "#     \"category\": \"screen\",\n",
        "#     \"sentiment\": \"positive\"\n",
        "#   }\n",
        "# ]\n",
        "\n",
        "# Review: ```For $800, this is a decent machine. The keyboard is comfortable for long typing sessions.```\n",
        "# Response: [\n",
        "#   {\n",
        "#     \"category\": \"price\",\n",
        "#     \"sentiment\": \"positive\"\n",
        "#   },\n",
        "#   {\n",
        "#     \"category\": \"keyboard\",\n",
        "#     \"sentiment\": \"positive\"\n",
        "#   }\n",
        "# ]\n",
        "\n",
        "# Review: ```The warranty is standard - nothing special but covers the basics.```\n",
        "# Response: [\n",
        "#   {\n",
        "#     \"category\": \"warranty\",\n",
        "#     \"sentiment\": \"neutral\"\n",
        "#   }\n",
        "# ]\n",
        "\n",
        "# Review: ```Great laptop overall, very satisfied with my purchase.```\n",
        "# Response: []\n",
        "\n",
        "# Now analyze the following review:\n",
        "# \"\"\""
      ]
    },
    {
      "cell_type": "markdown",
      "metadata": {
        "id": "y7dSfOpjvNgi"
      },
      "source": [
        "## Dynamically generate few_shot_prompt"
      ]
    },
    {
      "cell_type": "code",
      "execution_count": 67,
      "metadata": {
        "id": "3HWjnfcxua0F"
      },
      "outputs": [],
      "source": [
        "few_shot_system_message = \"\"\"\n",
        "Perform aspect based sentiment analysis on laptop reviews presented in the input delimited by triple backticks, that is, ```.\n",
        "In each review there might be one or more of the following aspects: 'battery life', 'screen', 'keyboard', 'price', 'warranty','programs'.\n",
        "For each review presented as input:\n",
        "- Identify if there are any of the 6 aspects ('battery life', 'screen', 'keyboard', 'price', 'warranty', 'programs') present in the review.\n",
        "- Assign a sentiment polarity (positive, negative or neutral) for each aspect\n",
        "\n",
        "Arrange your response a JSON object with the following headers:\n",
        "{\n",
        "- category:[aspect]\n",
        "- sentiment:[Sentiment for aspect]}\n",
        "\"\"\""
      ]
    },
    {
      "cell_type": "markdown",
      "metadata": {
        "id": "pZwmKFNx-Z46"
      },
      "source": [
        "Let us now look at how we can assemble examples to go along with this few-shot system message and compose a few-shot prompt."
      ]
    },
    {
      "cell_type": "markdown",
      "metadata": {
        "id": "0F0eG8bI1Yqc"
      },
      "source": [
        "Let's create a function that create examples for each of the selected aspects so that we have examples representign each of the aspects."
      ]
    },
    {
      "cell_type": "code",
      "execution_count": 66,
      "metadata": {
        "id": "OmbPd9Mbua0L"
      },
      "outputs": [],
      "source": [
        "def create_examples(dataset, n=2):\n",
        "    # Define the columns to select from the dataset\n",
        "    columns_to_select = ['id', 'text','aspect', 'label']\n",
        "\n",
        "    # Initialize an empty list to store the ids of the examples\n",
        "    example_ids = []\n",
        "\n",
        "    # Initialize a dictionary to store the ids of the examples for each aspect\n",
        "    aspect_index = {\n",
        "        'battery life': [],\n",
        "        'screen': [],\n",
        "        'keyboard': [],\n",
        "        'price': [],\n",
        "        'warranty': [],\n",
        "        'programs': []\n",
        "    }\n",
        "\n",
        "    # Loop over the dataset\n",
        "    for id, aspect in zip(dataset.id, dataset.aspect.str.lower()):\n",
        "        # For each aspect in the aspect_index dictionary\n",
        "        for key in aspect_index.keys():\n",
        "            # If the aspect is in the current row's aspect\n",
        "            if key in aspect:\n",
        "                # Append the id of the row to the corresponding aspect in the aspect_index dictionary\n",
        "                aspect_index[key].append(id)\n",
        "\n",
        "    # For each aspect in the aspect_index dictionary\n",
        "    for key in aspect_index:\n",
        "        # Randomly select 'n' ids from the aspect's list and add them to the example_ids list\n",
        "        example_ids.extend(np.random.choice(aspect_index[key], n).tolist())\n",
        "\n",
        "    # Select the rows from the dataset that have their ids in the example_ids list\n",
        "    examples = dataset.loc[dataset.id.isin(example_ids), columns_to_select]\n",
        "\n",
        "    # Return the examples as a JSON string\n",
        "    return examples.to_json(orient='records')"
      ]
    },
    {
      "cell_type": "markdown",
      "metadata": {
        "id": "TUVYRwQ_1Yqd"
      },
      "source": [
        "Now, let's create a function that will automatically create a prompt from th system prompt and the examples we have created. We must make sure that the examples are evenly distributed. If they are not evenly distributed, the model might be biased to pick the statements or aspects that are most frequent or the ones that are at the end of the prompt."
      ]
    },
    {
      "cell_type": "code",
      "execution_count": 69,
      "metadata": {
        "id": "YbXyUSmUua0M"
      },
      "outputs": [],
      "source": [
        "def create_prompt(system_message, examples, user_message_template):\n",
        "    few_shot_prompt = [{'role':'system', 'content': system_message}]\n",
        "\n",
        "    # Add examples to the prompt after formating them.\n",
        "    for example in json.loads(examples):\n",
        "        example_input = example['text']\n",
        "        example_absa = example['aspect']\n",
        "        example_label = example['label']\n",
        "\n",
        "        few_shot_prompt.append(\n",
        "            {\n",
        "                'role': 'user',\n",
        "                'content': user_message_template.format(\n",
        "                    laptop_review=example_input\n",
        "                )\n",
        "            }\n",
        "        )\n",
        "\n",
        "        few_shot_prompt.append(\n",
        "            {\n",
        "                'role': 'assistant',\n",
        "                'content': json.dumps({\n",
        "                    \"category\": [example_absa],\n",
        "                    \"polarity\": [example_label]\n",
        "                })\n",
        "            }\n",
        "        )\n",
        "\n",
        "    return few_shot_prompt"
      ]
    },
    {
      "cell_type": "code",
      "execution_count": 70,
      "metadata": {
        "id": "RgqQb0l0ua0M"
      },
      "outputs": [],
      "source": [
        "examples = create_examples(laptop_reviews_train_df)\n",
        "few_shot_prompt = create_prompt(few_shot_system_message, examples, user_message_template)"
      ]
    },
    {
      "cell_type": "markdown",
      "metadata": {
        "id": "KBu6gJWJ1Yqd"
      },
      "source": [
        "Let's have a look at the examples and few-shot prompt we have createed."
      ]
    },
    {
      "cell_type": "code",
      "execution_count": 71,
      "metadata": {
        "colab": {
          "base_uri": "https://localhost:8080/",
          "height": 154
        },
        "id": "IPYlpIgoZjR5",
        "outputId": "16f7fc03-f190-4dcf-c6db-68f7586c9a92"
      },
      "outputs": [
        {
          "data": {
            "application/vnd.google.colaboratory.intrinsic+json": {
              "type": "string"
            },
            "text/plain": [
              "'[{\"id\":120,\"text\":\"The battery life seems to be very good, and have had no issues with it.\",\"aspect\":\"battery life\",\"label\":\"positive\"},{\"id\":183,\"text\":\"My favorite part of this computer is that it has a vga port so I can connect it to a bigger screen.\",\"aspect\":\"screen\",\"label\":\"neutral\"},{\"id\":456,\"text\":\"The battery life was shorter than expected.\",\"aspect\":\"battery life\",\"label\":\"negative\"},{\"id\":635,\"text\":\"The graphics were awful and the warranty isn\\'t even worth the cheap payment on the computer.\",\"aspect\":\"warranty\",\"label\":\"negative\"},{\"id\":681,\"text\":\"I like those programs better than Office and you can save your files to be completely compatible with the Office programs as well.\",\"aspect\":\"programs\",\"label\":\"positive\"},{\"id\":938,\"text\":\"At first, the computer seemed a great deal--seemingly high-end specs for a low, low price.\",\"aspect\":\"price\",\"label\":\"positive\"},{\"id\":1136,\"text\":\"For the same price, you get a lot more in the Asus....1920x1080 res.\",\"aspect\":\"price\",\"label\":\"negative\"},{\"id\":1282,\"text\":\"I am constantly trying to uninstall programs, clean cookies, and delete unused files.\",\"aspect\":\"programs\",\"label\":\"neutral\"},{\"id\":1574,\"text\":\"The keyboard is like no other laptop keyboard.\",\"aspect\":\"keyboard\",\"label\":\"neutral\"},{\"id\":1669,\"text\":\"THEN, one month after the warranty expired, the replacement charger went.\",\"aspect\":\"warranty\",\"label\":\"neutral\"},{\"id\":2046,\"text\":\"While it was highly rated, would I like it? I tried the keyboard at the store, and it seemed ok.\",\"aspect\":\"keyboard\",\"label\":\"neutral\"},{\"id\":2236,\"text\":\"The fact that the screen reacts to the lighting around you is an added luxury-when you are working around others in dark areas and want privacy or don\\'t want to bother them with bright lighting, it is very convenient to have a darker, softer lit screen.\",\"aspect\":\"screen\",\"label\":\"positive\"}]'"
            ]
          },
          "execution_count": 71,
          "metadata": {},
          "output_type": "execute_result"
        }
      ],
      "source": [
        "examples"
      ]
    },
    {
      "cell_type": "code",
      "execution_count": 72,
      "metadata": {
        "colab": {
          "base_uri": "https://localhost:8080/"
        },
        "id": "jd_SyrxNXfZM",
        "outputId": "41a588d6-5ae8-4762-d9aa-638008d59d2d"
      },
      "outputs": [
        {
          "data": {
            "text/plain": [
              "[{'role': 'system',\n",
              "  'content': \"\\nPerform aspect based sentiment analysis on laptop reviews presented in the input delimited by triple backticks, that is, ```.\\nIn each review there might be one or more of the following aspects: 'battery life', 'screen', 'keyboard', 'price', 'warranty','programs'.\\nFor each review presented as input:\\n- Identify if there are any of the 6 aspects ('battery life', 'screen', 'keyboard', 'price', 'warranty', 'programs') present in the review.\\n- Assign a sentiment polarity (positive, negative or neutral) for each aspect\\n\\nArrange your response a JSON object with the following headers:\\n{\\n- category:[aspect]\\n- sentiment:[Sentiment for aspect]}\\n\"},\n",
              " {'role': 'user',\n",
              "  'content': '```The battery life seems to be very good, and have had no issues with it.```'},\n",
              " {'role': 'assistant',\n",
              "  'content': '{\"category\": [\"battery life\"], \"polarity\": [\"positive\"]}'},\n",
              " {'role': 'user',\n",
              "  'content': '```My favorite part of this computer is that it has a vga port so I can connect it to a bigger screen.```'},\n",
              " {'role': 'assistant',\n",
              "  'content': '{\"category\": [\"screen\"], \"polarity\": [\"neutral\"]}'},\n",
              " {'role': 'user',\n",
              "  'content': '```The battery life was shorter than expected.```'},\n",
              " {'role': 'assistant',\n",
              "  'content': '{\"category\": [\"battery life\"], \"polarity\": [\"negative\"]}'},\n",
              " {'role': 'user',\n",
              "  'content': \"```The graphics were awful and the warranty isn't even worth the cheap payment on the computer.```\"},\n",
              " {'role': 'assistant',\n",
              "  'content': '{\"category\": [\"warranty\"], \"polarity\": [\"negative\"]}'},\n",
              " {'role': 'user',\n",
              "  'content': '```I like those programs better than Office and you can save your files to be completely compatible with the Office programs as well.```'},\n",
              " {'role': 'assistant',\n",
              "  'content': '{\"category\": [\"programs\"], \"polarity\": [\"positive\"]}'},\n",
              " {'role': 'user',\n",
              "  'content': '```At first, the computer seemed a great deal--seemingly high-end specs for a low, low price.```'},\n",
              " {'role': 'assistant',\n",
              "  'content': '{\"category\": [\"price\"], \"polarity\": [\"positive\"]}'},\n",
              " {'role': 'user',\n",
              "  'content': '```For the same price, you get a lot more in the Asus....1920x1080 res.```'},\n",
              " {'role': 'assistant',\n",
              "  'content': '{\"category\": [\"price\"], \"polarity\": [\"negative\"]}'},\n",
              " {'role': 'user',\n",
              "  'content': '```I am constantly trying to uninstall programs, clean cookies, and delete unused files.```'},\n",
              " {'role': 'assistant',\n",
              "  'content': '{\"category\": [\"programs\"], \"polarity\": [\"neutral\"]}'},\n",
              " {'role': 'user',\n",
              "  'content': '```The keyboard is like no other laptop keyboard.```'},\n",
              " {'role': 'assistant',\n",
              "  'content': '{\"category\": [\"keyboard\"], \"polarity\": [\"neutral\"]}'},\n",
              " {'role': 'user',\n",
              "  'content': '```THEN, one month after the warranty expired, the replacement charger went.```'},\n",
              " {'role': 'assistant',\n",
              "  'content': '{\"category\": [\"warranty\"], \"polarity\": [\"neutral\"]}'},\n",
              " {'role': 'user',\n",
              "  'content': '```While it was highly rated, would I like it? I tried the keyboard at the store, and it seemed ok.```'},\n",
              " {'role': 'assistant',\n",
              "  'content': '{\"category\": [\"keyboard\"], \"polarity\": [\"neutral\"]}'},\n",
              " {'role': 'user',\n",
              "  'content': \"```The fact that the screen reacts to the lighting around you is an added luxury-when you are working around others in dark areas and want privacy or don't want to bother them with bright lighting, it is very convenient to have a darker, softer lit screen.```\"},\n",
              " {'role': 'assistant',\n",
              "  'content': '{\"category\": [\"screen\"], \"polarity\": [\"positive\"]}'}]"
            ]
          },
          "execution_count": 72,
          "metadata": {},
          "output_type": "execute_result"
        }
      ],
      "source": [
        "few_shot_prompt"
      ]
    },
    {
      "cell_type": "markdown",
      "metadata": {
        "id": "rjkfaALj1Yqe"
      },
      "source": [
        "Now that we have both the zero-shot and few-shot prompts, let's evaluate them and check which one performs better."
      ]
    },
    {
      "cell_type": "markdown",
      "metadata": {
        "id": "epn5_Osdua0M"
      },
      "source": [
        "### Evaluate prompts"
      ]
    },
    {
      "cell_type": "markdown",
      "metadata": {
        "id": "8qLLngCXPyYl"
      },
      "source": [
        "Let's create a function that can evaluate our prompts by iterating through the gold_examples."
      ]
    },
    {
      "cell_type": "code",
      "execution_count": 73,
      "metadata": {
        "id": "QRkCwJBJua0N"
      },
      "outputs": [],
      "source": [
        "def evaluate_prompt(prompt, gold_examples, user_message_template):\n",
        "    total_predictions = 0\n",
        "    correct_predictions = 0\n",
        "\n",
        "    for example in gold_examples:\n",
        "\n",
        "        user_input = [\n",
        "            {\n",
        "                'role':'user',\n",
        "                'content': user_message_template.format(laptop_review=example['text'])\n",
        "            }\n",
        "        ]\n",
        "\n",
        "        try:\n",
        "            response = client.chat.completions.create(\n",
        "                model=model_name,\n",
        "                messages=prompt+user_input,\n",
        "                temperature=0,\n",
        "                response_format = {\"type\": \"json_object\"},\n",
        "\n",
        "            )\n",
        "            #print(user_input)\n",
        "            print(response.choices[0].message.content.strip())\n",
        "            prediction = json.loads(response.choices[0].message.content.strip())\n",
        "\n",
        "            categories = prediction['category']\n",
        "            polarities = prediction['polarity']\n",
        "\n",
        "            if example['aspect'] in categories:\n",
        "\n",
        "                index = categories.index(example['aspect'])\n",
        "\n",
        "                if polarities[index] == example['label']:\n",
        "                    correct_predictions += 1\n",
        "\n",
        "            total_predictions += 1\n",
        "\n",
        "        except Exception as e:\n",
        "            print(\"error\")\n",
        "            print(e)\n",
        "            continue\n",
        "\n",
        "    accuracy = correct_predictions / total_predictions if total_predictions > 0 else 0\n",
        "\n",
        "    return accuracy"
      ]
    },
    {
      "cell_type": "code",
      "execution_count": 74,
      "metadata": {
        "colab": {
          "base_uri": "https://localhost:8080/"
        },
        "id": "WHUEwhfZua0N",
        "outputId": "405df600-aaca-42e2-f75e-f2a20454502b"
      },
      "outputs": [
        {
          "name": "stdout",
          "output_type": "stream",
          "text": [
            "{\n",
            "    \"category\": [\"battery life\"],\n",
            "    \"polarity\": [\"positive\"]\n",
            "}\n",
            "{\n",
            "    \"category\": [\"screen\", \"keyboard\"],\n",
            "    \"polarity\": [\"positive\", \"positive\"]\n",
            "}\n",
            "{\n",
            "    \"category\": [\"warranty\"],\n",
            "    \"polarity\": [\"negative\"]\n",
            "}\n",
            "{\n",
            "  \"category\": [\"programs\"],\n",
            "  \"polarity\": [\"positive\"]\n",
            "}\n",
            "{\n",
            "    \"category\": [\"price\"],\n",
            "    \"polarity\": [\"negative\"]\n",
            "}\n",
            "{\n",
            "    \"category\": [\"battery life\"],\n",
            "    \"polarity\": [\"positive\"]\n",
            "}\n",
            "{\n",
            "    \"category\": [\"screen\"],\n",
            "    \"polarity\": [\"negative\"]\n",
            "}\n",
            "{\n",
            "    \"category\": [],\n",
            "    \"polarity\": []\n",
            "}\n",
            "{\n",
            "  \"category\": [\"screen\"],\n",
            "  \"polarity\": [\"positive\"]\n",
            "}\n",
            "{\n",
            "    \"category\": [\"programs\"],\n",
            "    \"polarity\": [\"neutral\"]\n",
            "}\n",
            "{\n",
            "    \"category\": [\"price\"],\n",
            "    \"polarity\": [\"positive\"]\n",
            "}\n",
            "{\n",
            "    \"category\": [\"price\"],\n",
            "    \"polarity\": [\"positive\"]\n",
            "}\n",
            "{\n",
            "    \"category\": [\"programs\"],\n",
            "    \"polarity\": [\"positive\"]\n",
            "}\n",
            "{\n",
            "  \"category\": [\"screen\", \"programs\"],\n",
            "  \"polarity\": [\"positive\", \"positive\"]\n",
            "}\n",
            "{\n",
            "    \"category\": [\"screen\"],\n",
            "    \"polarity\": [\"positive\"]\n",
            "}\n",
            "{\n",
            "    \"category\": [\"keyboard\", \"screen\"],\n",
            "    \"polarity\": [\"negative\", \"negative\"]\n",
            "}\n",
            "{\n",
            "  \"category\": [\"keyboard\"],\n",
            "  \"polarity\": [\"positive\"]\n",
            "}\n",
            "{\n",
            "    \"category\": [\"screen\"],\n",
            "    \"polarity\": [\"negative\"]\n",
            "}\n",
            "{\n",
            "  \"category\": [\"price\"],\n",
            "  \"polarity\": [\"positive\"]\n",
            "}\n",
            "{\n",
            "  \"category\": [\"price\"],\n",
            "  \"polarity\": [\"positive\"]\n",
            "}\n",
            "{\n",
            "  \"category\": [\"screen\"],\n",
            "  \"polarity\": [\"negative\"]\n",
            "}\n",
            "{\n",
            "    \"category\": [\"battery life\"],\n",
            "    \"polarity\": [\"positive\"]\n",
            "}\n",
            "{\n",
            "  \"category\": [\"warranty\"],\n",
            "  \"polarity\": [\"negative\"]\n",
            "}\n",
            "{\n",
            "    \"category\": [\"keyboard\"],\n",
            "    \"polarity\": [\"negative\"]\n",
            "}\n",
            "{\n",
            "    \"category\": [\"programs\"],\n",
            "    \"polarity\": [\"negative\"]\n",
            "}\n",
            "{\n",
            "    \"category\": [\"price\"],\n",
            "    \"polarity\": [\"negative\"]\n",
            "}\n",
            "{\n",
            "    \"category\": [\"screen\", \"keyboard\"],\n",
            "    \"polarity\": [\"positive\", \"positive\"]\n",
            "}\n",
            "{\n",
            "    \"category\": [\"keyboard\"],\n",
            "    \"polarity\": [\"negative\"]\n",
            "}\n",
            "{\n",
            "    \"category\": [\"keyboard\"],\n",
            "    \"polarity\": [\"negative\"]\n",
            "}\n",
            "{\n",
            "  \"category\": [\"programs\"],\n",
            "  \"polarity\": [\"positive\"]\n",
            "}\n"
          ]
        },
        {
          "data": {
            "text/plain": [
              "0.8666666666666667"
            ]
          },
          "execution_count": 74,
          "metadata": {},
          "output_type": "execute_result"
        }
      ],
      "source": [
        "evaluate_prompt(zero_shot_prompt, gold_examples, user_message_template)"
      ]
    },
    {
      "cell_type": "markdown",
      "metadata": {
        "id": "cgtXq-Y0dmuF"
      },
      "source": [
        "Although the model successfully conducts Aspect-Based Sentiment Analysis (ABSA), it does not generate the output in the desired format and hence is running into errors. Our request was for sentiments to be presented as a list within the dictionary; however, the model outputs a dictionary of sentiments nested within the output dictionary. Even the response format option cannot help us here. We have two potential approaches to rectify this issue: we can adjust the function to accommodate the model's output, or we can explore a few-shot approach to prompt the model to provide output in the specified format.\n",
        "\n",
        "Let's explore few-shot and check how it does."
      ]
    },
    {
      "cell_type": "code",
      "execution_count": 82,
      "metadata": {
        "id": "EJC7HNqlxrRz"
      },
      "outputs": [],
      "source": [
        "import pandas as pd\n",
        "import json\n",
        "\n",
        "def evaluate_prompt_and_save_output(prompt, gold_examples, user_message_template):\n",
        "    total_predictions = 0\n",
        "    correct_predictions = 0\n",
        "    results_data = []\n",
        "\n",
        "    for example in gold_examples:\n",
        "        user_input = [\n",
        "            {\n",
        "                'role':'user',\n",
        "                'content': user_message_template.format(laptop_review=example['text'])\n",
        "            }\n",
        "        ]\n",
        "        try:\n",
        "            response = client.chat.completions.create(\n",
        "                model=model_name,\n",
        "                messages=prompt+user_input,\n",
        "                temperature=0,\n",
        "                response_format = {\"type\": \"json_object\"},\n",
        "            )\n",
        "\n",
        "            prediction = json.loads(response.choices[0].message.content.strip())\n",
        "            categories = prediction['category']\n",
        "            polarities = prediction['polarity']\n",
        "\n",
        "            predicted_sentiment = None\n",
        "            if example['aspect'] in categories:\n",
        "                index = categories.index(example['aspect'])\n",
        "                predicted_sentiment = polarities[index]\n",
        "                if polarities[index] == example['label']:\n",
        "                    correct_predictions += 1\n",
        "                total_predictions += 1\n",
        "\n",
        "            results_data.append({\n",
        "                'text': example['text'],\n",
        "                'aspect': example['aspect'],\n",
        "                'gold_sentiment': example['label'],\n",
        "                'predicted_sentiment': predicted_sentiment,\n",
        "                'full_prediction': prediction\n",
        "            })\n",
        "\n",
        "        except Exception as e:\n",
        "            results_data.append({\n",
        "                'text': example['text'],\n",
        "                'aspect': example['aspect'],\n",
        "                'gold_sentiment': example['label'],\n",
        "                'predicted_sentiment': None,\n",
        "                'full_prediction': None\n",
        "            })\n",
        "            continue\n",
        "\n",
        "    results_df = pd.DataFrame(results_data)\n",
        "    accuracy = correct_predictions / total_predictions if total_predictions > 0 else 0\n",
        "    return accuracy, results_df"
      ]
    },
    {
      "cell_type": "code",
      "execution_count": 83,
      "metadata": {
        "colab": {
          "base_uri": "https://localhost:8080/",
          "height": 221
        },
        "id": "0vrk2aN1x4RJ",
        "outputId": "7391c3bc-0d18-4ed7-9917-a7dace6a6823"
      },
      "outputs": [
        {
          "name": "stdout",
          "output_type": "stream",
          "text": [
            "Accuracy: 0.896551724137931\n"
          ]
        },
        {
          "data": {
            "application/vnd.google.colaboratory.intrinsic+json": {
              "summary": "{\n  \"name\": \"results_df\",\n  \"rows\": 30,\n  \"fields\": [\n    {\n      \"column\": \"text\",\n      \"properties\": {\n        \"dtype\": \"string\",\n        \"num_unique_values\": 30,\n        \"samples\": [\n          \"I've also had to have the keyboard replaced at my expense.\",\n          \"Externally the keys on my keyboard are falling off, after a few uses the paint is rubbing off the button below the mouse pad and where the heals of my hands sit, and the screen has a terrible glare.\",\n          \"The keyboard is too slick.\"\n        ],\n        \"semantic_type\": \"\",\n        \"description\": \"\"\n      }\n    },\n    {\n      \"column\": \"aspect\",\n      \"properties\": {\n        \"dtype\": \"category\",\n        \"num_unique_values\": 6,\n        \"samples\": [\n          \"battery life\",\n          \"screen\",\n          \"keyboard\"\n        ],\n        \"semantic_type\": \"\",\n        \"description\": \"\"\n      }\n    },\n    {\n      \"column\": \"gold_sentiment\",\n      \"properties\": {\n        \"dtype\": \"category\",\n        \"num_unique_values\": 3,\n        \"samples\": [\n          \"positive\",\n          \"negative\",\n          \"neutral\"\n        ],\n        \"semantic_type\": \"\",\n        \"description\": \"\"\n      }\n    },\n    {\n      \"column\": \"predicted_sentiment\",\n      \"properties\": {\n        \"dtype\": \"category\",\n        \"num_unique_values\": 3,\n        \"samples\": [\n          \"positive\",\n          \"negative\",\n          \"neutral\"\n        ],\n        \"semantic_type\": \"\",\n        \"description\": \"\"\n      }\n    },\n    {\n      \"column\": \"full_prediction\",\n      \"properties\": {\n        \"dtype\": \"object\",\n        \"semantic_type\": \"\",\n        \"description\": \"\"\n      }\n    }\n  ]\n}",
              "type": "dataframe",
              "variable_name": "results_df"
            },
            "text/html": [
              "\n",
              "  <div id=\"df-2bb22f56-438b-4d7a-a526-cd76ed807e08\" class=\"colab-df-container\">\n",
              "    <div>\n",
              "<style scoped>\n",
              "    .dataframe tbody tr th:only-of-type {\n",
              "        vertical-align: middle;\n",
              "    }\n",
              "\n",
              "    .dataframe tbody tr th {\n",
              "        vertical-align: top;\n",
              "    }\n",
              "\n",
              "    .dataframe thead th {\n",
              "        text-align: right;\n",
              "    }\n",
              "</style>\n",
              "<table border=\"1\" class=\"dataframe\">\n",
              "  <thead>\n",
              "    <tr style=\"text-align: right;\">\n",
              "      <th></th>\n",
              "      <th>text</th>\n",
              "      <th>aspect</th>\n",
              "      <th>gold_sentiment</th>\n",
              "      <th>predicted_sentiment</th>\n",
              "      <th>full_prediction</th>\n",
              "    </tr>\n",
              "  </thead>\n",
              "  <tbody>\n",
              "    <tr>\n",
              "      <th>0</th>\n",
              "      <td>It has a 10 hour battery life when you're doin...</td>\n",
              "      <td>battery life</td>\n",
              "      <td>positive</td>\n",
              "      <td>positive</td>\n",
              "      <td>{'category': ['battery life'], 'polarity': ['p...</td>\n",
              "    </tr>\n",
              "    <tr>\n",
              "      <th>1</th>\n",
              "      <td>Screen, keyboard, and mouse: If you cant see y...</td>\n",
              "      <td>screen</td>\n",
              "      <td>positive</td>\n",
              "      <td>positive</td>\n",
              "      <td>{'category': ['screen', 'keyboard'], 'polarity...</td>\n",
              "    </tr>\n",
              "    <tr>\n",
              "      <th>2</th>\n",
              "      <td>They say sorry out of warranty.</td>\n",
              "      <td>warranty</td>\n",
              "      <td>negative</td>\n",
              "      <td>negative</td>\n",
              "      <td>{'category': ['warranty'], 'polarity': ['negat...</td>\n",
              "    </tr>\n",
              "    <tr>\n",
              "      <th>3</th>\n",
              "      <td>It is a much more streamlined system for addin...</td>\n",
              "      <td>programs</td>\n",
              "      <td>neutral</td>\n",
              "      <td>positive</td>\n",
              "      <td>{'category': ['programs'], 'polarity': ['posit...</td>\n",
              "    </tr>\n",
              "    <tr>\n",
              "      <th>4</th>\n",
              "      <td>I saw walmart had the same computer for about ...</td>\n",
              "      <td>price</td>\n",
              "      <td>negative</td>\n",
              "      <td>negative</td>\n",
              "      <td>{'category': ['price'], 'polarity': ['negative']}</td>\n",
              "    </tr>\n",
              "  </tbody>\n",
              "</table>\n",
              "</div>\n",
              "    <div class=\"colab-df-buttons\">\n",
              "\n",
              "  <div class=\"colab-df-container\">\n",
              "    <button class=\"colab-df-convert\" onclick=\"convertToInteractive('df-2bb22f56-438b-4d7a-a526-cd76ed807e08')\"\n",
              "            title=\"Convert this dataframe to an interactive table.\"\n",
              "            style=\"display:none;\">\n",
              "\n",
              "  <svg xmlns=\"http://www.w3.org/2000/svg\" height=\"24px\" viewBox=\"0 -960 960 960\">\n",
              "    <path d=\"M120-120v-720h720v720H120Zm60-500h600v-160H180v160Zm220 220h160v-160H400v160Zm0 220h160v-160H400v160ZM180-400h160v-160H180v160Zm440 0h160v-160H620v160ZM180-180h160v-160H180v160Zm440 0h160v-160H620v160Z\"/>\n",
              "  </svg>\n",
              "    </button>\n",
              "\n",
              "  <style>\n",
              "    .colab-df-container {\n",
              "      display:flex;\n",
              "      gap: 12px;\n",
              "    }\n",
              "\n",
              "    .colab-df-convert {\n",
              "      background-color: #E8F0FE;\n",
              "      border: none;\n",
              "      border-radius: 50%;\n",
              "      cursor: pointer;\n",
              "      display: none;\n",
              "      fill: #1967D2;\n",
              "      height: 32px;\n",
              "      padding: 0 0 0 0;\n",
              "      width: 32px;\n",
              "    }\n",
              "\n",
              "    .colab-df-convert:hover {\n",
              "      background-color: #E2EBFA;\n",
              "      box-shadow: 0px 1px 2px rgba(60, 64, 67, 0.3), 0px 1px 3px 1px rgba(60, 64, 67, 0.15);\n",
              "      fill: #174EA6;\n",
              "    }\n",
              "\n",
              "    .colab-df-buttons div {\n",
              "      margin-bottom: 4px;\n",
              "    }\n",
              "\n",
              "    [theme=dark] .colab-df-convert {\n",
              "      background-color: #3B4455;\n",
              "      fill: #D2E3FC;\n",
              "    }\n",
              "\n",
              "    [theme=dark] .colab-df-convert:hover {\n",
              "      background-color: #434B5C;\n",
              "      box-shadow: 0px 1px 3px 1px rgba(0, 0, 0, 0.15);\n",
              "      filter: drop-shadow(0px 1px 2px rgba(0, 0, 0, 0.3));\n",
              "      fill: #FFFFFF;\n",
              "    }\n",
              "  </style>\n",
              "\n",
              "    <script>\n",
              "      const buttonEl =\n",
              "        document.querySelector('#df-2bb22f56-438b-4d7a-a526-cd76ed807e08 button.colab-df-convert');\n",
              "      buttonEl.style.display =\n",
              "        google.colab.kernel.accessAllowed ? 'block' : 'none';\n",
              "\n",
              "      async function convertToInteractive(key) {\n",
              "        const element = document.querySelector('#df-2bb22f56-438b-4d7a-a526-cd76ed807e08');\n",
              "        const dataTable =\n",
              "          await google.colab.kernel.invokeFunction('convertToInteractive',\n",
              "                                                    [key], {});\n",
              "        if (!dataTable) return;\n",
              "\n",
              "        const docLinkHtml = 'Like what you see? Visit the ' +\n",
              "          '<a target=\"_blank\" href=https://colab.research.google.com/notebooks/data_table.ipynb>data table notebook</a>'\n",
              "          + ' to learn more about interactive tables.';\n",
              "        element.innerHTML = '';\n",
              "        dataTable['output_type'] = 'display_data';\n",
              "        await google.colab.output.renderOutput(dataTable, element);\n",
              "        const docLink = document.createElement('div');\n",
              "        docLink.innerHTML = docLinkHtml;\n",
              "        element.appendChild(docLink);\n",
              "      }\n",
              "    </script>\n",
              "  </div>\n",
              "\n",
              "\n",
              "    <div id=\"df-27d29404-60ea-4550-8488-70bd99310f24\">\n",
              "      <button class=\"colab-df-quickchart\" onclick=\"quickchart('df-27d29404-60ea-4550-8488-70bd99310f24')\"\n",
              "                title=\"Suggest charts\"\n",
              "                style=\"display:none;\">\n",
              "\n",
              "<svg xmlns=\"http://www.w3.org/2000/svg\" height=\"24px\"viewBox=\"0 0 24 24\"\n",
              "     width=\"24px\">\n",
              "    <g>\n",
              "        <path d=\"M19 3H5c-1.1 0-2 .9-2 2v14c0 1.1.9 2 2 2h14c1.1 0 2-.9 2-2V5c0-1.1-.9-2-2-2zM9 17H7v-7h2v7zm4 0h-2V7h2v10zm4 0h-2v-4h2v4z\"/>\n",
              "    </g>\n",
              "</svg>\n",
              "      </button>\n",
              "\n",
              "<style>\n",
              "  .colab-df-quickchart {\n",
              "      --bg-color: #E8F0FE;\n",
              "      --fill-color: #1967D2;\n",
              "      --hover-bg-color: #E2EBFA;\n",
              "      --hover-fill-color: #174EA6;\n",
              "      --disabled-fill-color: #AAA;\n",
              "      --disabled-bg-color: #DDD;\n",
              "  }\n",
              "\n",
              "  [theme=dark] .colab-df-quickchart {\n",
              "      --bg-color: #3B4455;\n",
              "      --fill-color: #D2E3FC;\n",
              "      --hover-bg-color: #434B5C;\n",
              "      --hover-fill-color: #FFFFFF;\n",
              "      --disabled-bg-color: #3B4455;\n",
              "      --disabled-fill-color: #666;\n",
              "  }\n",
              "\n",
              "  .colab-df-quickchart {\n",
              "    background-color: var(--bg-color);\n",
              "    border: none;\n",
              "    border-radius: 50%;\n",
              "    cursor: pointer;\n",
              "    display: none;\n",
              "    fill: var(--fill-color);\n",
              "    height: 32px;\n",
              "    padding: 0;\n",
              "    width: 32px;\n",
              "  }\n",
              "\n",
              "  .colab-df-quickchart:hover {\n",
              "    background-color: var(--hover-bg-color);\n",
              "    box-shadow: 0 1px 2px rgba(60, 64, 67, 0.3), 0 1px 3px 1px rgba(60, 64, 67, 0.15);\n",
              "    fill: var(--button-hover-fill-color);\n",
              "  }\n",
              "\n",
              "  .colab-df-quickchart-complete:disabled,\n",
              "  .colab-df-quickchart-complete:disabled:hover {\n",
              "    background-color: var(--disabled-bg-color);\n",
              "    fill: var(--disabled-fill-color);\n",
              "    box-shadow: none;\n",
              "  }\n",
              "\n",
              "  .colab-df-spinner {\n",
              "    border: 2px solid var(--fill-color);\n",
              "    border-color: transparent;\n",
              "    border-bottom-color: var(--fill-color);\n",
              "    animation:\n",
              "      spin 1s steps(1) infinite;\n",
              "  }\n",
              "\n",
              "  @keyframes spin {\n",
              "    0% {\n",
              "      border-color: transparent;\n",
              "      border-bottom-color: var(--fill-color);\n",
              "      border-left-color: var(--fill-color);\n",
              "    }\n",
              "    20% {\n",
              "      border-color: transparent;\n",
              "      border-left-color: var(--fill-color);\n",
              "      border-top-color: var(--fill-color);\n",
              "    }\n",
              "    30% {\n",
              "      border-color: transparent;\n",
              "      border-left-color: var(--fill-color);\n",
              "      border-top-color: var(--fill-color);\n",
              "      border-right-color: var(--fill-color);\n",
              "    }\n",
              "    40% {\n",
              "      border-color: transparent;\n",
              "      border-right-color: var(--fill-color);\n",
              "      border-top-color: var(--fill-color);\n",
              "    }\n",
              "    60% {\n",
              "      border-color: transparent;\n",
              "      border-right-color: var(--fill-color);\n",
              "    }\n",
              "    80% {\n",
              "      border-color: transparent;\n",
              "      border-right-color: var(--fill-color);\n",
              "      border-bottom-color: var(--fill-color);\n",
              "    }\n",
              "    90% {\n",
              "      border-color: transparent;\n",
              "      border-bottom-color: var(--fill-color);\n",
              "    }\n",
              "  }\n",
              "</style>\n",
              "\n",
              "      <script>\n",
              "        async function quickchart(key) {\n",
              "          const quickchartButtonEl =\n",
              "            document.querySelector('#' + key + ' button');\n",
              "          quickchartButtonEl.disabled = true;  // To prevent multiple clicks.\n",
              "          quickchartButtonEl.classList.add('colab-df-spinner');\n",
              "          try {\n",
              "            const charts = await google.colab.kernel.invokeFunction(\n",
              "                'suggestCharts', [key], {});\n",
              "          } catch (error) {\n",
              "            console.error('Error during call to suggestCharts:', error);\n",
              "          }\n",
              "          quickchartButtonEl.classList.remove('colab-df-spinner');\n",
              "          quickchartButtonEl.classList.add('colab-df-quickchart-complete');\n",
              "        }\n",
              "        (() => {\n",
              "          let quickchartButtonEl =\n",
              "            document.querySelector('#df-27d29404-60ea-4550-8488-70bd99310f24 button');\n",
              "          quickchartButtonEl.style.display =\n",
              "            google.colab.kernel.accessAllowed ? 'block' : 'none';\n",
              "        })();\n",
              "      </script>\n",
              "    </div>\n",
              "\n",
              "    </div>\n",
              "  </div>\n"
            ],
            "text/plain": [
              "                                                text        aspect  \\\n",
              "0  It has a 10 hour battery life when you're doin...  battery life   \n",
              "1  Screen, keyboard, and mouse: If you cant see y...        screen   \n",
              "2                    They say sorry out of warranty.      warranty   \n",
              "3  It is a much more streamlined system for addin...      programs   \n",
              "4  I saw walmart had the same computer for about ...         price   \n",
              "\n",
              "  gold_sentiment predicted_sentiment  \\\n",
              "0       positive            positive   \n",
              "1       positive            positive   \n",
              "2       negative            negative   \n",
              "3        neutral            positive   \n",
              "4       negative            negative   \n",
              "\n",
              "                                     full_prediction  \n",
              "0  {'category': ['battery life'], 'polarity': ['p...  \n",
              "1  {'category': ['screen', 'keyboard'], 'polarity...  \n",
              "2  {'category': ['warranty'], 'polarity': ['negat...  \n",
              "3  {'category': ['programs'], 'polarity': ['posit...  \n",
              "4  {'category': ['price'], 'polarity': ['negative']}  "
            ]
          },
          "execution_count": 83,
          "metadata": {},
          "output_type": "execute_result"
        }
      ],
      "source": [
        "accuracy, results_df = evaluate_prompt_and_save_output(zero_shot_prompt, gold_examples, user_message_template)\n",
        "\n",
        "print(f\"Accuracy: {accuracy}\")\n",
        "results_df.head()"
      ]
    },
    {
      "cell_type": "code",
      "execution_count": 88,
      "metadata": {
        "colab": {
          "base_uri": "https://localhost:8080/"
        },
        "id": "FlsE1O1Rz53L",
        "outputId": "869e0ce9-106f-4baf-c90f-3906f2c42141"
      },
      "outputs": [
        {
          "name": "stdout",
          "output_type": "stream",
          "text": [
            "Text: It is a much more streamlined system for adding programs, using the internet, and doing other things everyone does on a computer., \n",
            "Gold Sentiment: neutral, \n",
            "Predicted Sentiment: positive\n",
            "\n",
            "\n",
            "Text: Was very much worth the price i paid., \n",
            "Gold Sentiment: positive, \n",
            "Predicted Sentiment: None\n",
            "\n",
            "\n",
            "Text: Apparently under the screen there are 2 little screws and when the screen gets moved back and forth, they come loose., \n",
            "Gold Sentiment: neutral, \n",
            "Predicted Sentiment: negative\n",
            "\n",
            "\n",
            "Text: while the keyboard itself is alright, the plate around it is cheap plastic and makes a hollow sound when using the mouse command buttons., \n",
            "Gold Sentiment: positive, \n",
            "Predicted Sentiment: negative\n",
            "\n",
            "\n",
            "Total mismatches: 4\n"
          ]
        }
      ],
      "source": [
        "# Count of mismatches\n",
        "count = 0\n",
        "# Iterate through rows where 'gold_sentiment' does not match 'predicted_sentiment'\n",
        "for index, row in results_df[results_df['gold_sentiment'] != results_df['predicted_sentiment']].iterrows():\n",
        "    # Print the full text of the 'text' column, gold sentiment, and predicted sentiment\n",
        "    count = count + 1\n",
        "    print(f\"Text: {row['text']}, \\nGold Sentiment: {row['gold_sentiment']}, \\nPredicted Sentiment: {row['predicted_sentiment']}\\n\\n\")\n",
        "# Print the total count of mismatches\n",
        "print(f\"Total mismatches: {count}\")"
      ]
    },
    {
      "cell_type": "markdown",
      "metadata": {
        "id": "3YEfUeDv0ct4"
      },
      "source": [
        "## Test with few_shot_prompt"
      ]
    },
    {
      "cell_type": "code",
      "execution_count": 89,
      "metadata": {
        "colab": {
          "base_uri": "https://localhost:8080/",
          "height": 221
        },
        "id": "kE5R9t6j0aWp",
        "outputId": "8ba75890-ad2e-4a14-a778-fffdf5661050"
      },
      "outputs": [
        {
          "name": "stdout",
          "output_type": "stream",
          "text": [
            "Accuracy: 0.8333333333333334\n"
          ]
        },
        {
          "data": {
            "application/vnd.google.colaboratory.intrinsic+json": {
              "summary": "{\n  \"name\": \"results_df_fshp\",\n  \"rows\": 30,\n  \"fields\": [\n    {\n      \"column\": \"text\",\n      \"properties\": {\n        \"dtype\": \"string\",\n        \"num_unique_values\": 30,\n        \"samples\": [\n          \"I've also had to have the keyboard replaced at my expense.\",\n          \"Externally the keys on my keyboard are falling off, after a few uses the paint is rubbing off the button below the mouse pad and where the heals of my hands sit, and the screen has a terrible glare.\",\n          \"The keyboard is too slick.\"\n        ],\n        \"semantic_type\": \"\",\n        \"description\": \"\"\n      }\n    },\n    {\n      \"column\": \"aspect\",\n      \"properties\": {\n        \"dtype\": \"category\",\n        \"num_unique_values\": 6,\n        \"samples\": [\n          \"battery life\",\n          \"screen\",\n          \"keyboard\"\n        ],\n        \"semantic_type\": \"\",\n        \"description\": \"\"\n      }\n    },\n    {\n      \"column\": \"gold_sentiment\",\n      \"properties\": {\n        \"dtype\": \"category\",\n        \"num_unique_values\": 3,\n        \"samples\": [\n          \"positive\",\n          \"negative\",\n          \"neutral\"\n        ],\n        \"semantic_type\": \"\",\n        \"description\": \"\"\n      }\n    },\n    {\n      \"column\": \"predicted_sentiment\",\n      \"properties\": {\n        \"dtype\": \"category\",\n        \"num_unique_values\": 2,\n        \"samples\": [\n          \"negative\",\n          \"positive\"\n        ],\n        \"semantic_type\": \"\",\n        \"description\": \"\"\n      }\n    },\n    {\n      \"column\": \"full_prediction\",\n      \"properties\": {\n        \"dtype\": \"object\",\n        \"semantic_type\": \"\",\n        \"description\": \"\"\n      }\n    }\n  ]\n}",
              "type": "dataframe",
              "variable_name": "results_df_fshp"
            },
            "text/html": [
              "\n",
              "  <div id=\"df-2a94fb6a-8512-4081-9ae7-aa2a77667517\" class=\"colab-df-container\">\n",
              "    <div>\n",
              "<style scoped>\n",
              "    .dataframe tbody tr th:only-of-type {\n",
              "        vertical-align: middle;\n",
              "    }\n",
              "\n",
              "    .dataframe tbody tr th {\n",
              "        vertical-align: top;\n",
              "    }\n",
              "\n",
              "    .dataframe thead th {\n",
              "        text-align: right;\n",
              "    }\n",
              "</style>\n",
              "<table border=\"1\" class=\"dataframe\">\n",
              "  <thead>\n",
              "    <tr style=\"text-align: right;\">\n",
              "      <th></th>\n",
              "      <th>text</th>\n",
              "      <th>aspect</th>\n",
              "      <th>gold_sentiment</th>\n",
              "      <th>predicted_sentiment</th>\n",
              "      <th>full_prediction</th>\n",
              "    </tr>\n",
              "  </thead>\n",
              "  <tbody>\n",
              "    <tr>\n",
              "      <th>0</th>\n",
              "      <td>It has a 10 hour battery life when you're doin...</td>\n",
              "      <td>battery life</td>\n",
              "      <td>positive</td>\n",
              "      <td>positive</td>\n",
              "      <td>{'category': ['battery life'], 'polarity': ['p...</td>\n",
              "    </tr>\n",
              "    <tr>\n",
              "      <th>1</th>\n",
              "      <td>Screen, keyboard, and mouse: If you cant see y...</td>\n",
              "      <td>screen</td>\n",
              "      <td>positive</td>\n",
              "      <td>positive</td>\n",
              "      <td>{'category': ['screen', 'keyboard'], 'polarity...</td>\n",
              "    </tr>\n",
              "    <tr>\n",
              "      <th>2</th>\n",
              "      <td>They say sorry out of warranty.</td>\n",
              "      <td>warranty</td>\n",
              "      <td>negative</td>\n",
              "      <td>negative</td>\n",
              "      <td>{'category': ['warranty'], 'polarity': ['negat...</td>\n",
              "    </tr>\n",
              "    <tr>\n",
              "      <th>3</th>\n",
              "      <td>It is a much more streamlined system for addin...</td>\n",
              "      <td>programs</td>\n",
              "      <td>neutral</td>\n",
              "      <td>positive</td>\n",
              "      <td>{'category': ['programs'], 'polarity': ['posit...</td>\n",
              "    </tr>\n",
              "    <tr>\n",
              "      <th>4</th>\n",
              "      <td>I saw walmart had the same computer for about ...</td>\n",
              "      <td>price</td>\n",
              "      <td>negative</td>\n",
              "      <td>negative</td>\n",
              "      <td>{'category': ['price'], 'polarity': ['negative']}</td>\n",
              "    </tr>\n",
              "  </tbody>\n",
              "</table>\n",
              "</div>\n",
              "    <div class=\"colab-df-buttons\">\n",
              "\n",
              "  <div class=\"colab-df-container\">\n",
              "    <button class=\"colab-df-convert\" onclick=\"convertToInteractive('df-2a94fb6a-8512-4081-9ae7-aa2a77667517')\"\n",
              "            title=\"Convert this dataframe to an interactive table.\"\n",
              "            style=\"display:none;\">\n",
              "\n",
              "  <svg xmlns=\"http://www.w3.org/2000/svg\" height=\"24px\" viewBox=\"0 -960 960 960\">\n",
              "    <path d=\"M120-120v-720h720v720H120Zm60-500h600v-160H180v160Zm220 220h160v-160H400v160Zm0 220h160v-160H400v160ZM180-400h160v-160H180v160Zm440 0h160v-160H620v160ZM180-180h160v-160H180v160Zm440 0h160v-160H620v160Z\"/>\n",
              "  </svg>\n",
              "    </button>\n",
              "\n",
              "  <style>\n",
              "    .colab-df-container {\n",
              "      display:flex;\n",
              "      gap: 12px;\n",
              "    }\n",
              "\n",
              "    .colab-df-convert {\n",
              "      background-color: #E8F0FE;\n",
              "      border: none;\n",
              "      border-radius: 50%;\n",
              "      cursor: pointer;\n",
              "      display: none;\n",
              "      fill: #1967D2;\n",
              "      height: 32px;\n",
              "      padding: 0 0 0 0;\n",
              "      width: 32px;\n",
              "    }\n",
              "\n",
              "    .colab-df-convert:hover {\n",
              "      background-color: #E2EBFA;\n",
              "      box-shadow: 0px 1px 2px rgba(60, 64, 67, 0.3), 0px 1px 3px 1px rgba(60, 64, 67, 0.15);\n",
              "      fill: #174EA6;\n",
              "    }\n",
              "\n",
              "    .colab-df-buttons div {\n",
              "      margin-bottom: 4px;\n",
              "    }\n",
              "\n",
              "    [theme=dark] .colab-df-convert {\n",
              "      background-color: #3B4455;\n",
              "      fill: #D2E3FC;\n",
              "    }\n",
              "\n",
              "    [theme=dark] .colab-df-convert:hover {\n",
              "      background-color: #434B5C;\n",
              "      box-shadow: 0px 1px 3px 1px rgba(0, 0, 0, 0.15);\n",
              "      filter: drop-shadow(0px 1px 2px rgba(0, 0, 0, 0.3));\n",
              "      fill: #FFFFFF;\n",
              "    }\n",
              "  </style>\n",
              "\n",
              "    <script>\n",
              "      const buttonEl =\n",
              "        document.querySelector('#df-2a94fb6a-8512-4081-9ae7-aa2a77667517 button.colab-df-convert');\n",
              "      buttonEl.style.display =\n",
              "        google.colab.kernel.accessAllowed ? 'block' : 'none';\n",
              "\n",
              "      async function convertToInteractive(key) {\n",
              "        const element = document.querySelector('#df-2a94fb6a-8512-4081-9ae7-aa2a77667517');\n",
              "        const dataTable =\n",
              "          await google.colab.kernel.invokeFunction('convertToInteractive',\n",
              "                                                    [key], {});\n",
              "        if (!dataTable) return;\n",
              "\n",
              "        const docLinkHtml = 'Like what you see? Visit the ' +\n",
              "          '<a target=\"_blank\" href=https://colab.research.google.com/notebooks/data_table.ipynb>data table notebook</a>'\n",
              "          + ' to learn more about interactive tables.';\n",
              "        element.innerHTML = '';\n",
              "        dataTable['output_type'] = 'display_data';\n",
              "        await google.colab.output.renderOutput(dataTable, element);\n",
              "        const docLink = document.createElement('div');\n",
              "        docLink.innerHTML = docLinkHtml;\n",
              "        element.appendChild(docLink);\n",
              "      }\n",
              "    </script>\n",
              "  </div>\n",
              "\n",
              "\n",
              "    <div id=\"df-be1dac68-6ee2-4acc-b419-eb4a3dea2371\">\n",
              "      <button class=\"colab-df-quickchart\" onclick=\"quickchart('df-be1dac68-6ee2-4acc-b419-eb4a3dea2371')\"\n",
              "                title=\"Suggest charts\"\n",
              "                style=\"display:none;\">\n",
              "\n",
              "<svg xmlns=\"http://www.w3.org/2000/svg\" height=\"24px\"viewBox=\"0 0 24 24\"\n",
              "     width=\"24px\">\n",
              "    <g>\n",
              "        <path d=\"M19 3H5c-1.1 0-2 .9-2 2v14c0 1.1.9 2 2 2h14c1.1 0 2-.9 2-2V5c0-1.1-.9-2-2-2zM9 17H7v-7h2v7zm4 0h-2V7h2v10zm4 0h-2v-4h2v4z\"/>\n",
              "    </g>\n",
              "</svg>\n",
              "      </button>\n",
              "\n",
              "<style>\n",
              "  .colab-df-quickchart {\n",
              "      --bg-color: #E8F0FE;\n",
              "      --fill-color: #1967D2;\n",
              "      --hover-bg-color: #E2EBFA;\n",
              "      --hover-fill-color: #174EA6;\n",
              "      --disabled-fill-color: #AAA;\n",
              "      --disabled-bg-color: #DDD;\n",
              "  }\n",
              "\n",
              "  [theme=dark] .colab-df-quickchart {\n",
              "      --bg-color: #3B4455;\n",
              "      --fill-color: #D2E3FC;\n",
              "      --hover-bg-color: #434B5C;\n",
              "      --hover-fill-color: #FFFFFF;\n",
              "      --disabled-bg-color: #3B4455;\n",
              "      --disabled-fill-color: #666;\n",
              "  }\n",
              "\n",
              "  .colab-df-quickchart {\n",
              "    background-color: var(--bg-color);\n",
              "    border: none;\n",
              "    border-radius: 50%;\n",
              "    cursor: pointer;\n",
              "    display: none;\n",
              "    fill: var(--fill-color);\n",
              "    height: 32px;\n",
              "    padding: 0;\n",
              "    width: 32px;\n",
              "  }\n",
              "\n",
              "  .colab-df-quickchart:hover {\n",
              "    background-color: var(--hover-bg-color);\n",
              "    box-shadow: 0 1px 2px rgba(60, 64, 67, 0.3), 0 1px 3px 1px rgba(60, 64, 67, 0.15);\n",
              "    fill: var(--button-hover-fill-color);\n",
              "  }\n",
              "\n",
              "  .colab-df-quickchart-complete:disabled,\n",
              "  .colab-df-quickchart-complete:disabled:hover {\n",
              "    background-color: var(--disabled-bg-color);\n",
              "    fill: var(--disabled-fill-color);\n",
              "    box-shadow: none;\n",
              "  }\n",
              "\n",
              "  .colab-df-spinner {\n",
              "    border: 2px solid var(--fill-color);\n",
              "    border-color: transparent;\n",
              "    border-bottom-color: var(--fill-color);\n",
              "    animation:\n",
              "      spin 1s steps(1) infinite;\n",
              "  }\n",
              "\n",
              "  @keyframes spin {\n",
              "    0% {\n",
              "      border-color: transparent;\n",
              "      border-bottom-color: var(--fill-color);\n",
              "      border-left-color: var(--fill-color);\n",
              "    }\n",
              "    20% {\n",
              "      border-color: transparent;\n",
              "      border-left-color: var(--fill-color);\n",
              "      border-top-color: var(--fill-color);\n",
              "    }\n",
              "    30% {\n",
              "      border-color: transparent;\n",
              "      border-left-color: var(--fill-color);\n",
              "      border-top-color: var(--fill-color);\n",
              "      border-right-color: var(--fill-color);\n",
              "    }\n",
              "    40% {\n",
              "      border-color: transparent;\n",
              "      border-right-color: var(--fill-color);\n",
              "      border-top-color: var(--fill-color);\n",
              "    }\n",
              "    60% {\n",
              "      border-color: transparent;\n",
              "      border-right-color: var(--fill-color);\n",
              "    }\n",
              "    80% {\n",
              "      border-color: transparent;\n",
              "      border-right-color: var(--fill-color);\n",
              "      border-bottom-color: var(--fill-color);\n",
              "    }\n",
              "    90% {\n",
              "      border-color: transparent;\n",
              "      border-bottom-color: var(--fill-color);\n",
              "    }\n",
              "  }\n",
              "</style>\n",
              "\n",
              "      <script>\n",
              "        async function quickchart(key) {\n",
              "          const quickchartButtonEl =\n",
              "            document.querySelector('#' + key + ' button');\n",
              "          quickchartButtonEl.disabled = true;  // To prevent multiple clicks.\n",
              "          quickchartButtonEl.classList.add('colab-df-spinner');\n",
              "          try {\n",
              "            const charts = await google.colab.kernel.invokeFunction(\n",
              "                'suggestCharts', [key], {});\n",
              "          } catch (error) {\n",
              "            console.error('Error during call to suggestCharts:', error);\n",
              "          }\n",
              "          quickchartButtonEl.classList.remove('colab-df-spinner');\n",
              "          quickchartButtonEl.classList.add('colab-df-quickchart-complete');\n",
              "        }\n",
              "        (() => {\n",
              "          let quickchartButtonEl =\n",
              "            document.querySelector('#df-be1dac68-6ee2-4acc-b419-eb4a3dea2371 button');\n",
              "          quickchartButtonEl.style.display =\n",
              "            google.colab.kernel.accessAllowed ? 'block' : 'none';\n",
              "        })();\n",
              "      </script>\n",
              "    </div>\n",
              "\n",
              "    </div>\n",
              "  </div>\n"
            ],
            "text/plain": [
              "                                                text        aspect  \\\n",
              "0  It has a 10 hour battery life when you're doin...  battery life   \n",
              "1  Screen, keyboard, and mouse: If you cant see y...        screen   \n",
              "2                    They say sorry out of warranty.      warranty   \n",
              "3  It is a much more streamlined system for addin...      programs   \n",
              "4  I saw walmart had the same computer for about ...         price   \n",
              "\n",
              "  gold_sentiment predicted_sentiment  \\\n",
              "0       positive            positive   \n",
              "1       positive            positive   \n",
              "2       negative            negative   \n",
              "3        neutral            positive   \n",
              "4       negative            negative   \n",
              "\n",
              "                                     full_prediction  \n",
              "0  {'category': ['battery life'], 'polarity': ['p...  \n",
              "1  {'category': ['screen', 'keyboard'], 'polarity...  \n",
              "2  {'category': ['warranty'], 'polarity': ['negat...  \n",
              "3  {'category': ['programs'], 'polarity': ['posit...  \n",
              "4  {'category': ['price'], 'polarity': ['negative']}  "
            ]
          },
          "execution_count": 89,
          "metadata": {},
          "output_type": "execute_result"
        }
      ],
      "source": [
        "accuracy_fhsp, results_df_fshp = evaluate_prompt_and_save_output(few_shot_prompt, gold_examples, user_message_template)\n",
        "\n",
        "print(f\"Accuracy: {accuracy_fhsp}\")\n",
        "results_df_fshp.head()"
      ]
    },
    {
      "cell_type": "code",
      "execution_count": 90,
      "metadata": {
        "colab": {
          "base_uri": "https://localhost:8080/"
        },
        "id": "379zp_lW1Ara",
        "outputId": "4b4c527f-0e4c-4c7d-a4f9-cf56b66243d1"
      },
      "outputs": [
        {
          "name": "stdout",
          "output_type": "stream",
          "text": [
            "Text: It is a much more streamlined system for adding programs, using the internet, and doing other things everyone does on a computer., \n",
            "Gold Sentiment: neutral, \n",
            "Predicted Sentiment: positive\n",
            "\n",
            "\n",
            "Text: I am constantly trying to uninstall programs, clean cookies, and delete unused files., \n",
            "Gold Sentiment: neutral, \n",
            "Predicted Sentiment: negative\n",
            "\n",
            "\n",
            "Text: Apparently under the screen there are 2 little screws and when the screen gets moved back and forth, they come loose., \n",
            "Gold Sentiment: neutral, \n",
            "Predicted Sentiment: negative\n",
            "\n",
            "\n",
            "Text: Although the price is higher then Dell laptops, the Macbooks are worth the dough., \n",
            "Gold Sentiment: negative, \n",
            "Predicted Sentiment: positive\n",
            "\n",
            "\n",
            "Text: while the keyboard itself is alright, the plate around it is cheap plastic and makes a hollow sound when using the mouse command buttons., \n",
            "Gold Sentiment: positive, \n",
            "Predicted Sentiment: negative\n",
            "\n",
            "\n",
            "Total mismatches: 5\n"
          ]
        }
      ],
      "source": [
        "# Count of mismatches\n",
        "count = 0\n",
        "# Iterate through rows where 'gold_sentiment' does not match 'predicted_sentiment'\n",
        "for index, row in results_df_fshp[results_df_fshp['gold_sentiment'] != results_df_fshp['predicted_sentiment']].iterrows():\n",
        "    # Print the full text of the 'text' column, gold sentiment, and predicted sentiment\n",
        "    count = count + 1\n",
        "    print(f\"Text: {row['text']}, \\nGold Sentiment: {row['gold_sentiment']}, \\nPredicted Sentiment: {row['predicted_sentiment']}\\n\\n\")\n",
        "# Print the total count of mismatches\n",
        "print(f\"Total mismatches: {count}\")"
      ]
    },
    {
      "cell_type": "code",
      "execution_count": null,
      "metadata": {
        "id": "DXAE-aiqua0N"
      },
      "outputs": [],
      "source": [
        "#evaluate_prompt(few_shot_prompt, gold_examples, user_message_template)"
      ]
    },
    {
      "cell_type": "markdown",
      "metadata": {
        "id": "X5ZTbWDefEeQ"
      },
      "source": [
        "We can see that few-shot prompting does do a much better job. However, it is only outputting one sentiment even when there are multiple aspects detected (This might not be observable every iteration). We would ideally want the model to output individual sentiment for each aspect. Let's change the few-shot examples to modify the model behaviour. Since our data doesn't have multiple aspects, let's manually create a few-shot prompt in such a way that we add multiple aspects and multiple sentiments for some of the examples."
      ]
    },
    {
      "cell_type": "code",
      "execution_count": 91,
      "metadata": {
        "id": "Tr3FD0hmgsL2"
      },
      "outputs": [],
      "source": [
        "few_shot_manual_prompt =[\n",
        " {'role': 'system',\n",
        "  'content': \"\"\"\\nPerform aspect based sentiment analysis on laptop reviews presented in the input delimited by triple backticks,\n",
        "   that is, ```.\\nIn each review there might be one or more of the following aspects: 'battery life', 'screen', 'keyboard', 'price', 'warranty','programs'.\n",
        "   \\nFor each review presented as input:\\n- Identify if there are any of the 6 aspects ('battery life', 'screen', 'keyboard', 'price', 'warranty', 'programs') present in the review.\n",
        "   \\n- Assign a sentiment polarity (positive, negative or neutral) for each aspect\\n\n",
        "   If there are multiple aspects there should be a corresponding sentiment for each aspect.\n",
        "   \\nArrange your response a JSON object with the following headers:\\n{\\n- category:[aspect]\\n- sentiment:[Sentiment for aspect]}\\n\"\"\"},\n",
        " {'role': 'user',\n",
        "  'content': '```The keyboard feels good and I type just fine on it.```'},\n",
        " {'role': 'assistant',\n",
        "  'content': '{\"category\": [\"keyboard\"], \"polarity\": [\"positive\"]}'},\n",
        " {'role': 'user',\n",
        "  'content': '```It is loaded with programs that is of no good for the average user, that makes it run way to slow. I have had it for about a 1 1/2 and yes I have had an issue with it one month out of warranty.```'},\n",
        " {'role': 'assistant',\n",
        "  'content': '{\"category\": [\"programs\", \"warranty\"], \"polarity\": [\"negative\", \"neutral\"]}'},\n",
        " {'role': 'user',\n",
        "  'content': '```Overall the computer is very easy to use, the screen is perfect, great computer, my daughter loves.```'},\n",
        " {'role': 'assistant',\n",
        "  'content': '{\"category\": [\"screen\"], \"polarity\": [\"positive\"]}'},\n",
        " {'role': 'user',\n",
        "  'content': \"```It didn't take me long to get switched over to the Mac computer programs and navigation - it's been just fine and like the way this laptop functions much better.```\"},\n",
        " {'role': 'assistant',\n",
        "  'content': '{\"category\": [\"programs\"], \"polarity\": [\"positive\"]}'},\n",
        " {'role': 'user',\n",
        "  'content': \"```:-)If you buy this - don't go into it expecting 7 hrs of battery life, and you'll be perfectly satisfied. But Keyboard is reasonable size```\"},\n",
        " {'role': 'assistant',\n",
        "  'content': '{\"category\": [\"battery life\",\"keyboard\"], \"polarity\": [\"negative\",\"positive\"]}'},\n",
        " {'role': 'user',\n",
        "  'content': '```I wiped nearly everything off of it, installed OpenOffice and Firefox, and I am operating an incredibly efficient and useful machine for a great price.```'},\n",
        " {'role': 'assistant',\n",
        "  'content': '{\"category\": [\"price\"], \"polarity\": [\"positive\"]}'},\n",
        " {'role': 'user',\n",
        "  'content': \"```I use this for my tutoring business, and since I'm always bouncing from student to student, it is ideal for portability and battery life (yes, it gets the 8 hours as advertised!).```\"},\n",
        " {'role': 'assistant',\n",
        "  'content': '{\"category\": [\"battery life\"], \"polarity\": [\"positive\"]}'},\n",
        " {'role': 'user',\n",
        "  'content': '```The battery life sucked the juice from my laptop and when the extended life battery went out we were SOL there to, so much for that warranty covering all the products we purchased.```'},\n",
        " {'role': 'assistant',\n",
        "  'content': '{\"category\": [\"warranty\"], \"polarity\": [\"negative\"]}'},\n",
        " {'role': 'user',\n",
        "  'content': \"```The fact that the screen reacts to the lighting around you is an added luxury-when you are working around others in dark areas and want privacy or don't want to bother them with bright lighting, it is very convenient to have a darker, softer lit screen. And Price and purpose is awesome!```\"},\n",
        " {'role': 'assistant',\n",
        "  'content': '{\"category\": [\"screen\",\"price\"], \"polarity\": [\"positive\",\"positive\"]}'}]\n"
      ]
    },
    {
      "cell_type": "code",
      "execution_count": 93,
      "metadata": {
        "colab": {
          "base_uri": "https://localhost:8080/",
          "height": 221
        },
        "id": "NJC9uG1P1hE0",
        "outputId": "868ce176-9d5f-4ca4-e475-2b3dc3b1cf39"
      },
      "outputs": [
        {
          "name": "stdout",
          "output_type": "stream",
          "text": [
            "Accuracy: 0.8333333333333334\n"
          ]
        },
        {
          "data": {
            "application/vnd.google.colaboratory.intrinsic+json": {
              "summary": "{\n  \"name\": \"results_df_fshp_manual\",\n  \"rows\": 30,\n  \"fields\": [\n    {\n      \"column\": \"text\",\n      \"properties\": {\n        \"dtype\": \"string\",\n        \"num_unique_values\": 30,\n        \"samples\": [\n          \"I've also had to have the keyboard replaced at my expense.\",\n          \"Externally the keys on my keyboard are falling off, after a few uses the paint is rubbing off the button below the mouse pad and where the heals of my hands sit, and the screen has a terrible glare.\",\n          \"The keyboard is too slick.\"\n        ],\n        \"semantic_type\": \"\",\n        \"description\": \"\"\n      }\n    },\n    {\n      \"column\": \"aspect\",\n      \"properties\": {\n        \"dtype\": \"category\",\n        \"num_unique_values\": 6,\n        \"samples\": [\n          \"battery life\",\n          \"screen\",\n          \"keyboard\"\n        ],\n        \"semantic_type\": \"\",\n        \"description\": \"\"\n      }\n    },\n    {\n      \"column\": \"gold_sentiment\",\n      \"properties\": {\n        \"dtype\": \"category\",\n        \"num_unique_values\": 3,\n        \"samples\": [\n          \"positive\",\n          \"negative\",\n          \"neutral\"\n        ],\n        \"semantic_type\": \"\",\n        \"description\": \"\"\n      }\n    },\n    {\n      \"column\": \"predicted_sentiment\",\n      \"properties\": {\n        \"dtype\": \"category\",\n        \"num_unique_values\": 2,\n        \"samples\": [\n          \"negative\",\n          \"positive\"\n        ],\n        \"semantic_type\": \"\",\n        \"description\": \"\"\n      }\n    },\n    {\n      \"column\": \"full_prediction\",\n      \"properties\": {\n        \"dtype\": \"object\",\n        \"semantic_type\": \"\",\n        \"description\": \"\"\n      }\n    }\n  ]\n}",
              "type": "dataframe",
              "variable_name": "results_df_fshp_manual"
            },
            "text/html": [
              "\n",
              "  <div id=\"df-70f41416-bfd7-4cbb-84e6-b9c1172cf1ed\" class=\"colab-df-container\">\n",
              "    <div>\n",
              "<style scoped>\n",
              "    .dataframe tbody tr th:only-of-type {\n",
              "        vertical-align: middle;\n",
              "    }\n",
              "\n",
              "    .dataframe tbody tr th {\n",
              "        vertical-align: top;\n",
              "    }\n",
              "\n",
              "    .dataframe thead th {\n",
              "        text-align: right;\n",
              "    }\n",
              "</style>\n",
              "<table border=\"1\" class=\"dataframe\">\n",
              "  <thead>\n",
              "    <tr style=\"text-align: right;\">\n",
              "      <th></th>\n",
              "      <th>text</th>\n",
              "      <th>aspect</th>\n",
              "      <th>gold_sentiment</th>\n",
              "      <th>predicted_sentiment</th>\n",
              "      <th>full_prediction</th>\n",
              "    </tr>\n",
              "  </thead>\n",
              "  <tbody>\n",
              "    <tr>\n",
              "      <th>0</th>\n",
              "      <td>It has a 10 hour battery life when you're doin...</td>\n",
              "      <td>battery life</td>\n",
              "      <td>positive</td>\n",
              "      <td>positive</td>\n",
              "      <td>{'category': ['battery life'], 'polarity': ['p...</td>\n",
              "    </tr>\n",
              "    <tr>\n",
              "      <th>1</th>\n",
              "      <td>Screen, keyboard, and mouse: If you cant see y...</td>\n",
              "      <td>screen</td>\n",
              "      <td>positive</td>\n",
              "      <td>positive</td>\n",
              "      <td>{'category': ['screen', 'keyboard'], 'polarity...</td>\n",
              "    </tr>\n",
              "    <tr>\n",
              "      <th>2</th>\n",
              "      <td>They say sorry out of warranty.</td>\n",
              "      <td>warranty</td>\n",
              "      <td>negative</td>\n",
              "      <td>negative</td>\n",
              "      <td>{'category': ['warranty'], 'polarity': ['negat...</td>\n",
              "    </tr>\n",
              "    <tr>\n",
              "      <th>3</th>\n",
              "      <td>It is a much more streamlined system for addin...</td>\n",
              "      <td>programs</td>\n",
              "      <td>neutral</td>\n",
              "      <td>positive</td>\n",
              "      <td>{'category': ['programs'], 'polarity': ['posit...</td>\n",
              "    </tr>\n",
              "    <tr>\n",
              "      <th>4</th>\n",
              "      <td>I saw walmart had the same computer for about ...</td>\n",
              "      <td>price</td>\n",
              "      <td>negative</td>\n",
              "      <td>negative</td>\n",
              "      <td>{'category': ['price'], 'polarity': ['negative']}</td>\n",
              "    </tr>\n",
              "  </tbody>\n",
              "</table>\n",
              "</div>\n",
              "    <div class=\"colab-df-buttons\">\n",
              "\n",
              "  <div class=\"colab-df-container\">\n",
              "    <button class=\"colab-df-convert\" onclick=\"convertToInteractive('df-70f41416-bfd7-4cbb-84e6-b9c1172cf1ed')\"\n",
              "            title=\"Convert this dataframe to an interactive table.\"\n",
              "            style=\"display:none;\">\n",
              "\n",
              "  <svg xmlns=\"http://www.w3.org/2000/svg\" height=\"24px\" viewBox=\"0 -960 960 960\">\n",
              "    <path d=\"M120-120v-720h720v720H120Zm60-500h600v-160H180v160Zm220 220h160v-160H400v160Zm0 220h160v-160H400v160ZM180-400h160v-160H180v160Zm440 0h160v-160H620v160ZM180-180h160v-160H180v160Zm440 0h160v-160H620v160Z\"/>\n",
              "  </svg>\n",
              "    </button>\n",
              "\n",
              "  <style>\n",
              "    .colab-df-container {\n",
              "      display:flex;\n",
              "      gap: 12px;\n",
              "    }\n",
              "\n",
              "    .colab-df-convert {\n",
              "      background-color: #E8F0FE;\n",
              "      border: none;\n",
              "      border-radius: 50%;\n",
              "      cursor: pointer;\n",
              "      display: none;\n",
              "      fill: #1967D2;\n",
              "      height: 32px;\n",
              "      padding: 0 0 0 0;\n",
              "      width: 32px;\n",
              "    }\n",
              "\n",
              "    .colab-df-convert:hover {\n",
              "      background-color: #E2EBFA;\n",
              "      box-shadow: 0px 1px 2px rgba(60, 64, 67, 0.3), 0px 1px 3px 1px rgba(60, 64, 67, 0.15);\n",
              "      fill: #174EA6;\n",
              "    }\n",
              "\n",
              "    .colab-df-buttons div {\n",
              "      margin-bottom: 4px;\n",
              "    }\n",
              "\n",
              "    [theme=dark] .colab-df-convert {\n",
              "      background-color: #3B4455;\n",
              "      fill: #D2E3FC;\n",
              "    }\n",
              "\n",
              "    [theme=dark] .colab-df-convert:hover {\n",
              "      background-color: #434B5C;\n",
              "      box-shadow: 0px 1px 3px 1px rgba(0, 0, 0, 0.15);\n",
              "      filter: drop-shadow(0px 1px 2px rgba(0, 0, 0, 0.3));\n",
              "      fill: #FFFFFF;\n",
              "    }\n",
              "  </style>\n",
              "\n",
              "    <script>\n",
              "      const buttonEl =\n",
              "        document.querySelector('#df-70f41416-bfd7-4cbb-84e6-b9c1172cf1ed button.colab-df-convert');\n",
              "      buttonEl.style.display =\n",
              "        google.colab.kernel.accessAllowed ? 'block' : 'none';\n",
              "\n",
              "      async function convertToInteractive(key) {\n",
              "        const element = document.querySelector('#df-70f41416-bfd7-4cbb-84e6-b9c1172cf1ed');\n",
              "        const dataTable =\n",
              "          await google.colab.kernel.invokeFunction('convertToInteractive',\n",
              "                                                    [key], {});\n",
              "        if (!dataTable) return;\n",
              "\n",
              "        const docLinkHtml = 'Like what you see? Visit the ' +\n",
              "          '<a target=\"_blank\" href=https://colab.research.google.com/notebooks/data_table.ipynb>data table notebook</a>'\n",
              "          + ' to learn more about interactive tables.';\n",
              "        element.innerHTML = '';\n",
              "        dataTable['output_type'] = 'display_data';\n",
              "        await google.colab.output.renderOutput(dataTable, element);\n",
              "        const docLink = document.createElement('div');\n",
              "        docLink.innerHTML = docLinkHtml;\n",
              "        element.appendChild(docLink);\n",
              "      }\n",
              "    </script>\n",
              "  </div>\n",
              "\n",
              "\n",
              "    <div id=\"df-4632f305-d211-4f06-ba6f-1214dd5715c9\">\n",
              "      <button class=\"colab-df-quickchart\" onclick=\"quickchart('df-4632f305-d211-4f06-ba6f-1214dd5715c9')\"\n",
              "                title=\"Suggest charts\"\n",
              "                style=\"display:none;\">\n",
              "\n",
              "<svg xmlns=\"http://www.w3.org/2000/svg\" height=\"24px\"viewBox=\"0 0 24 24\"\n",
              "     width=\"24px\">\n",
              "    <g>\n",
              "        <path d=\"M19 3H5c-1.1 0-2 .9-2 2v14c0 1.1.9 2 2 2h14c1.1 0 2-.9 2-2V5c0-1.1-.9-2-2-2zM9 17H7v-7h2v7zm4 0h-2V7h2v10zm4 0h-2v-4h2v4z\"/>\n",
              "    </g>\n",
              "</svg>\n",
              "      </button>\n",
              "\n",
              "<style>\n",
              "  .colab-df-quickchart {\n",
              "      --bg-color: #E8F0FE;\n",
              "      --fill-color: #1967D2;\n",
              "      --hover-bg-color: #E2EBFA;\n",
              "      --hover-fill-color: #174EA6;\n",
              "      --disabled-fill-color: #AAA;\n",
              "      --disabled-bg-color: #DDD;\n",
              "  }\n",
              "\n",
              "  [theme=dark] .colab-df-quickchart {\n",
              "      --bg-color: #3B4455;\n",
              "      --fill-color: #D2E3FC;\n",
              "      --hover-bg-color: #434B5C;\n",
              "      --hover-fill-color: #FFFFFF;\n",
              "      --disabled-bg-color: #3B4455;\n",
              "      --disabled-fill-color: #666;\n",
              "  }\n",
              "\n",
              "  .colab-df-quickchart {\n",
              "    background-color: var(--bg-color);\n",
              "    border: none;\n",
              "    border-radius: 50%;\n",
              "    cursor: pointer;\n",
              "    display: none;\n",
              "    fill: var(--fill-color);\n",
              "    height: 32px;\n",
              "    padding: 0;\n",
              "    width: 32px;\n",
              "  }\n",
              "\n",
              "  .colab-df-quickchart:hover {\n",
              "    background-color: var(--hover-bg-color);\n",
              "    box-shadow: 0 1px 2px rgba(60, 64, 67, 0.3), 0 1px 3px 1px rgba(60, 64, 67, 0.15);\n",
              "    fill: var(--button-hover-fill-color);\n",
              "  }\n",
              "\n",
              "  .colab-df-quickchart-complete:disabled,\n",
              "  .colab-df-quickchart-complete:disabled:hover {\n",
              "    background-color: var(--disabled-bg-color);\n",
              "    fill: var(--disabled-fill-color);\n",
              "    box-shadow: none;\n",
              "  }\n",
              "\n",
              "  .colab-df-spinner {\n",
              "    border: 2px solid var(--fill-color);\n",
              "    border-color: transparent;\n",
              "    border-bottom-color: var(--fill-color);\n",
              "    animation:\n",
              "      spin 1s steps(1) infinite;\n",
              "  }\n",
              "\n",
              "  @keyframes spin {\n",
              "    0% {\n",
              "      border-color: transparent;\n",
              "      border-bottom-color: var(--fill-color);\n",
              "      border-left-color: var(--fill-color);\n",
              "    }\n",
              "    20% {\n",
              "      border-color: transparent;\n",
              "      border-left-color: var(--fill-color);\n",
              "      border-top-color: var(--fill-color);\n",
              "    }\n",
              "    30% {\n",
              "      border-color: transparent;\n",
              "      border-left-color: var(--fill-color);\n",
              "      border-top-color: var(--fill-color);\n",
              "      border-right-color: var(--fill-color);\n",
              "    }\n",
              "    40% {\n",
              "      border-color: transparent;\n",
              "      border-right-color: var(--fill-color);\n",
              "      border-top-color: var(--fill-color);\n",
              "    }\n",
              "    60% {\n",
              "      border-color: transparent;\n",
              "      border-right-color: var(--fill-color);\n",
              "    }\n",
              "    80% {\n",
              "      border-color: transparent;\n",
              "      border-right-color: var(--fill-color);\n",
              "      border-bottom-color: var(--fill-color);\n",
              "    }\n",
              "    90% {\n",
              "      border-color: transparent;\n",
              "      border-bottom-color: var(--fill-color);\n",
              "    }\n",
              "  }\n",
              "</style>\n",
              "\n",
              "      <script>\n",
              "        async function quickchart(key) {\n",
              "          const quickchartButtonEl =\n",
              "            document.querySelector('#' + key + ' button');\n",
              "          quickchartButtonEl.disabled = true;  // To prevent multiple clicks.\n",
              "          quickchartButtonEl.classList.add('colab-df-spinner');\n",
              "          try {\n",
              "            const charts = await google.colab.kernel.invokeFunction(\n",
              "                'suggestCharts', [key], {});\n",
              "          } catch (error) {\n",
              "            console.error('Error during call to suggestCharts:', error);\n",
              "          }\n",
              "          quickchartButtonEl.classList.remove('colab-df-spinner');\n",
              "          quickchartButtonEl.classList.add('colab-df-quickchart-complete');\n",
              "        }\n",
              "        (() => {\n",
              "          let quickchartButtonEl =\n",
              "            document.querySelector('#df-4632f305-d211-4f06-ba6f-1214dd5715c9 button');\n",
              "          quickchartButtonEl.style.display =\n",
              "            google.colab.kernel.accessAllowed ? 'block' : 'none';\n",
              "        })();\n",
              "      </script>\n",
              "    </div>\n",
              "\n",
              "    </div>\n",
              "  </div>\n"
            ],
            "text/plain": [
              "                                                text        aspect  \\\n",
              "0  It has a 10 hour battery life when you're doin...  battery life   \n",
              "1  Screen, keyboard, and mouse: If you cant see y...        screen   \n",
              "2                    They say sorry out of warranty.      warranty   \n",
              "3  It is a much more streamlined system for addin...      programs   \n",
              "4  I saw walmart had the same computer for about ...         price   \n",
              "\n",
              "  gold_sentiment predicted_sentiment  \\\n",
              "0       positive            positive   \n",
              "1       positive            positive   \n",
              "2       negative            negative   \n",
              "3        neutral            positive   \n",
              "4       negative            negative   \n",
              "\n",
              "                                     full_prediction  \n",
              "0  {'category': ['battery life'], 'polarity': ['p...  \n",
              "1  {'category': ['screen', 'keyboard'], 'polarity...  \n",
              "2  {'category': ['warranty'], 'polarity': ['negat...  \n",
              "3  {'category': ['programs'], 'polarity': ['posit...  \n",
              "4  {'category': ['price'], 'polarity': ['negative']}  "
            ]
          },
          "execution_count": 93,
          "metadata": {},
          "output_type": "execute_result"
        }
      ],
      "source": [
        "accuracy_fhsp_manual, results_df_fshp_manual = evaluate_prompt_and_save_output(few_shot_manual_prompt, gold_examples, user_message_template)\n",
        "\n",
        "print(f\"Accuracy: {accuracy_fhsp_manual}\")\n",
        "results_df_fshp_manual.head()"
      ]
    },
    {
      "cell_type": "code",
      "execution_count": null,
      "metadata": {
        "id": "idJWJPe7j955"
      },
      "outputs": [],
      "source": [
        "#evaluate_prompt(few_shot_manual_prompt, gold_examples, user_message_template)"
      ]
    },
    {
      "cell_type": "code",
      "execution_count": 94,
      "metadata": {
        "colab": {
          "base_uri": "https://localhost:8080/"
        },
        "id": "7wasVrfl1z1P",
        "outputId": "61f01043-d512-4b9c-c56a-c5bb5abcbd2d"
      },
      "outputs": [
        {
          "name": "stdout",
          "output_type": "stream",
          "text": [
            "Text: It is a much more streamlined system for adding programs, using the internet, and doing other things everyone does on a computer., \n",
            "Gold Sentiment: neutral, \n",
            "Predicted Sentiment: positive\n",
            "\n",
            "\n",
            "Text: I am constantly trying to uninstall programs, clean cookies, and delete unused files., \n",
            "Gold Sentiment: neutral, \n",
            "Predicted Sentiment: negative\n",
            "\n",
            "\n",
            "Text: Apparently under the screen there are 2 little screws and when the screen gets moved back and forth, they come loose., \n",
            "Gold Sentiment: neutral, \n",
            "Predicted Sentiment: negative\n",
            "\n",
            "\n",
            "Text: Although the price is higher then Dell laptops, the Macbooks are worth the dough., \n",
            "Gold Sentiment: negative, \n",
            "Predicted Sentiment: positive\n",
            "\n",
            "\n",
            "Text: while the keyboard itself is alright, the plate around it is cheap plastic and makes a hollow sound when using the mouse command buttons., \n",
            "Gold Sentiment: positive, \n",
            "Predicted Sentiment: negative\n",
            "\n",
            "\n",
            "Total mismatches: 5\n"
          ]
        }
      ],
      "source": [
        "# Count of mismatches\n",
        "count = 0\n",
        "# Iterate through rows where 'gold_sentiment' does not match 'predicted_sentiment'\n",
        "for index, row in results_df_fshp_manual[results_df_fshp_manual['gold_sentiment'] != results_df_fshp_manual['predicted_sentiment']].iterrows():\n",
        "    # Print the full text of the 'text' column, gold sentiment, and predicted sentiment\n",
        "    count = count + 1\n",
        "    print(f\"Text: {row['text']}, \\nGold Sentiment: {row['gold_sentiment']}, \\nPredicted Sentiment: {row['predicted_sentiment']}\\n\\n\")\n",
        "# Print the total count of mismatches\n",
        "print(f\"Total mismatches: {count}\")"
      ]
    },
    {
      "cell_type": "markdown",
      "metadata": {
        "id": "ZP0ph4tguh5Y"
      },
      "source": [
        "We can see that there is some improvement in the model's response. In some cases, we can see multiple sentiments where there are multiple aspects. Let's now check the performance across multiple runs."
      ]
    },
    {
      "cell_type": "code",
      "execution_count": 79,
      "metadata": {
        "id": "VEa-33bmua0O"
      },
      "outputs": [],
      "source": [
        "num_eval_runs = 5"
      ]
    },
    {
      "cell_type": "code",
      "execution_count": 80,
      "metadata": {
        "id": "rAnUMnXsua0O"
      },
      "outputs": [],
      "source": [
        "few_shot_performance = []"
      ]
    },
    {
      "cell_type": "code",
      "execution_count": 95,
      "metadata": {
        "colab": {
          "base_uri": "https://localhost:8080/"
        },
        "id": "mf7WSc1tua0O",
        "outputId": "6870e764-47e6-4836-e779-550ef0a76c1a"
      },
      "outputs": [
        {
          "name": "stderr",
          "output_type": "stream",
          "text": [
            "\r  0%|          | 0/5 [00:00<?, ?it/s]"
          ]
        },
        {
          "name": "stdout",
          "output_type": "stream",
          "text": [
            "{\"category\": [\"battery life\"], \"polarity\": [\"positive\"]}\n",
            "{\"category\": [\"screen\", \"keyboard\"], \"polarity\": [\"positive\", \"positive\"]}\n",
            "{\"category\": [\"warranty\"], \"polarity\": [\"negative\"]}\n",
            "{\"category\": [\"programs\"], \"polarity\": [\"positive\"]}\n",
            "{\"category\": [\"price\"], \"polarity\": [\"negative\"]}\n",
            "{\"category\": [\"battery life\"], \"polarity\": [\"positive\"]}\n",
            "{\"category\": [\"screen\"], \"polarity\": [\"negative\"]}\n",
            "{\"category\": [\"price\"], \"polarity\": [\"positive\"]}\n",
            "{\"category\": [\"screen\"], \"polarity\": [\"positive\"]}\n",
            "{\"category\": [\"programs\"], \"polarity\": [\"negative\"]}\n",
            "{\"category\": [\"price\"], \"polarity\": [\"positive\"]}\n",
            "{\"category\": [\"price\"], \"polarity\": [\"positive\"]}\n",
            "{\"category\": [\"programs\"], \"polarity\": [\"positive\"]}\n",
            "{\"category\": [\"screen\"], \"polarity\": [\"positive\"]}\n",
            "{\"category\": [\"screen\"], \"polarity\": [\"positive\"]}\n",
            "{\"category\": [\"keyboard\", \"screen\"], \"polarity\": [\"negative\", \"negative\"]}\n",
            "{\"category\": [\"keyboard\"], \"polarity\": [\"positive\"]}\n",
            "{\"category\": [\"screen\"], \"polarity\": [\"negative\"]}\n",
            "{\"category\": [\"price\"], \"polarity\": [\"positive\"]}\n",
            "{\"category\": [\"price\"], \"polarity\": [\"positive\"]}\n",
            "{\"category\": [\"screen\"], \"polarity\": [\"negative\"]}\n",
            "{\"category\": [\"battery life\"], \"polarity\": [\"positive\"]}\n",
            "{\"category\": [\"warranty\"], \"polarity\": [\"negative\"]}\n",
            "{\"category\": [\"keyboard\"], \"polarity\": [\"negative\"]}\n",
            "{\"category\": [\"programs\"], \"polarity\": [\"negative\"]}\n",
            "{\"category\": [\"price\"], \"polarity\": [\"positive\"]}\n",
            "{\"category\": [\"screen\", \"keyboard\"], \"polarity\": [\"positive\", \"positive\"]}\n",
            "{\"category\": [\"keyboard\"], \"polarity\": [\"negative\"]}\n",
            "{\"category\": [\"keyboard\"], \"polarity\": [\"negative\"]}\n"
          ]
        },
        {
          "name": "stderr",
          "output_type": "stream",
          "text": [
            "\r 20%|██        | 1/5 [00:22<01:28, 22.03s/it]"
          ]
        },
        {
          "name": "stdout",
          "output_type": "stream",
          "text": [
            "{\"category\": [\"programs\"], \"polarity\": [\"positive\"]}\n",
            "Accuracy: 0.8333333333333334\n",
            "\n",
            "\n",
            "\n",
            "{\"category\": [\"battery life\"], \"polarity\": [\"positive\"]}\n",
            "{\"category\": [\"screen\", \"keyboard\"], \"polarity\": [\"positive\", \"positive\"]}\n",
            "{\"category\": [\"warranty\"], \"polarity\": [\"negative\"]}\n",
            "{\"category\": [\"programs\"], \"polarity\": [\"positive\"]}\n",
            "{\"category\": [\"price\"], \"polarity\": [\"negative\"]}\n",
            "{\"category\": [\"battery life\"], \"polarity\": [\"positive\"]}\n",
            "{\"category\": [\"screen\"], \"polarity\": [\"negative\"]}\n",
            "{\"category\": [\"price\"], \"polarity\": [\"positive\"]}\n",
            "{\"category\": [\"screen\"], \"polarity\": [\"positive\"]}\n",
            "{\"category\": [\"programs\"], \"polarity\": [\"neutral\"]}\n",
            "{\"category\": [\"price\"], \"polarity\": [\"positive\"]}\n",
            "{\"category\": [\"price\"], \"polarity\": [\"positive\"]}\n",
            "{\"category\": [\"programs\"], \"polarity\": [\"positive\"]}\n",
            "{\"category\": [\"screen\"], \"polarity\": [\"positive\"]}\n",
            "{\"category\": [\"screen\"], \"polarity\": [\"positive\"]}\n",
            "{\"category\": [\"keyboard\", \"screen\"], \"polarity\": [\"negative\", \"negative\"]}\n",
            "{\"category\": [\"keyboard\"], \"polarity\": [\"positive\"]}\n",
            "{\"category\": [\"screen\"], \"polarity\": [\"negative\"]}\n",
            "{\"category\": [\"price\"], \"polarity\": [\"positive\"]}\n",
            "{\"category\": [\"price\"], \"polarity\": [\"positive\"]}\n",
            "{\"category\": [\"screen\"], \"polarity\": [\"negative\"]}\n",
            "{\"category\": [\"battery life\"], \"polarity\": [\"positive\"]}\n",
            "{\"category\": [\"warranty\"], \"polarity\": [\"negative\"]}\n",
            "{\"category\": [\"keyboard\"], \"polarity\": [\"negative\"]}\n",
            "{\"category\": [\"programs\"], \"polarity\": [\"negative\"]}\n",
            "{\"category\": [\"price\"], \"polarity\": [\"positive\"]}\n",
            "{\"category\": [\"screen\", \"keyboard\"], \"polarity\": [\"positive\", \"positive\"]}\n",
            "{\"category\": [\"keyboard\"], \"polarity\": [\"negative\"]}\n",
            "{\"category\": [\"keyboard\"], \"polarity\": [\"negative\"]}\n"
          ]
        },
        {
          "name": "stderr",
          "output_type": "stream",
          "text": [
            "\r 40%|████      | 2/5 [00:44<01:07, 22.42s/it]"
          ]
        },
        {
          "name": "stdout",
          "output_type": "stream",
          "text": [
            "{\"category\": [\"programs\"], \"polarity\": [\"positive\"]}\n",
            "Accuracy: 0.8666666666666667\n",
            "\n",
            "\n",
            "\n",
            "{\"category\": [\"battery life\"], \"polarity\": [\"positive\"]}\n",
            "{\"category\": [\"screen\", \"keyboard\"], \"polarity\": [\"positive\", \"positive\"]}\n",
            "{\"category\": [\"warranty\"], \"polarity\": [\"negative\"]}\n",
            "{\"category\": [\"programs\"], \"polarity\": [\"positive\"]}\n",
            "{\"category\": [\"price\"], \"polarity\": [\"negative\"]}\n",
            "{\"category\": [\"battery life\"], \"polarity\": [\"positive\"]}\n",
            "{\"category\": [\"screen\"], \"polarity\": [\"negative\"]}\n",
            "{\"category\": [\"price\"], \"polarity\": [\"positive\"]}\n",
            "{\"category\": [\"screen\"], \"polarity\": [\"positive\"]}\n",
            "{\"category\": [\"programs\"], \"polarity\": [\"neutral\"]}\n",
            "{\"category\": [\"price\"], \"polarity\": [\"positive\"]}\n",
            "{\"category\": [\"price\"], \"polarity\": [\"positive\"]}\n",
            "{\"category\": [\"programs\"], \"polarity\": [\"positive\"]}\n",
            "{\"category\": [\"screen\"], \"polarity\": [\"positive\"]}\n",
            "{\"category\": [\"screen\"], \"polarity\": [\"positive\"]}\n",
            "{\"category\": [\"keyboard\", \"screen\"], \"polarity\": [\"negative\", \"negative\"]}\n",
            "{\"category\": [\"keyboard\"], \"polarity\": [\"positive\"]}\n",
            "{\"category\": [\"screen\"], \"polarity\": [\"negative\"]}\n",
            "{\"category\": [\"price\"], \"polarity\": [\"positive\"]}\n",
            "{\"category\": [\"price\"], \"polarity\": [\"positive\"]}\n",
            "{\"category\": [\"screen\"], \"polarity\": [\"negative\"]}\n",
            "{\"category\": [\"battery life\"], \"polarity\": [\"positive\"]}\n",
            "{\"category\": [\"warranty\"], \"polarity\": [\"negative\"]}\n",
            "{\"category\": [\"keyboard\"], \"polarity\": [\"negative\"]}\n",
            "{\"category\": [\"programs\"], \"polarity\": [\"negative\"]}\n",
            "{\"category\": [\"price\"], \"polarity\": [\"positive\"]}\n",
            "{\"category\": [\"screen\", \"keyboard\"], \"polarity\": [\"positive\", \"positive\"]}\n",
            "{\"category\": [\"keyboard\"], \"polarity\": [\"negative\"]}\n",
            "{\"category\": [\"keyboard\"], \"polarity\": [\"negative\"]}\n"
          ]
        },
        {
          "name": "stderr",
          "output_type": "stream",
          "text": [
            "\r 60%|██████    | 3/5 [01:09<00:46, 23.46s/it]"
          ]
        },
        {
          "name": "stdout",
          "output_type": "stream",
          "text": [
            "{\"category\": [\"programs\"], \"polarity\": [\"positive\"]}\n",
            "Accuracy: 0.8666666666666667\n",
            "\n",
            "\n",
            "\n",
            "{\"category\": [\"battery life\"], \"polarity\": [\"positive\"]}\n",
            "{\"category\": [\"screen\", \"keyboard\"], \"polarity\": [\"positive\", \"positive\"]}\n",
            "{\"category\": [\"warranty\"], \"polarity\": [\"neutral\"]}\n",
            "{\"category\": [\"programs\"], \"polarity\": [\"positive\"]}\n",
            "{\"category\": [\"price\"], \"polarity\": [\"negative\"]}\n",
            "{\"category\": [\"battery life\"], \"polarity\": [\"positive\"]}\n",
            "{\"category\": [\"screen\"], \"polarity\": [\"negative\"]}\n",
            "{\"category\": [\"price\"], \"polarity\": [\"positive\"]}\n",
            "{\"category\": [\"screen\"], \"polarity\": [\"positive\"]}\n",
            "{\"category\": [\"programs\"], \"polarity\": [\"negative\"]}\n",
            "{\"category\": [\"price\"], \"polarity\": [\"positive\"]}\n",
            "{\"category\": [\"price\"], \"polarity\": [\"positive\"]}\n",
            "{\"category\": [\"programs\"], \"polarity\": [\"positive\"]}\n",
            "{\"category\": [\"screen\"], \"polarity\": [\"positive\"]}\n",
            "{\"category\": [\"screen\"], \"polarity\": [\"positive\"]}\n",
            "{\"category\": [\"keyboard\", \"screen\"], \"polarity\": [\"negative\", \"negative\"]}\n",
            "{\"category\": [\"keyboard\"], \"polarity\": [\"positive\"]}\n",
            "{\"category\": [\"screen\"], \"polarity\": [\"negative\"]}\n",
            "{\"category\": [\"price\"], \"polarity\": [\"positive\"]}\n",
            "{\"category\": [\"price\"], \"polarity\": [\"positive\"]}\n",
            "{\"category\": [\"screen\"], \"polarity\": [\"negative\"]}\n",
            "{\"category\": [\"battery life\"], \"polarity\": [\"positive\"]}\n",
            "{\"category\": [\"warranty\"], \"polarity\": [\"negative\"]}\n",
            "{\"category\": [\"keyboard\"], \"polarity\": [\"negative\"]}\n",
            "{\"category\": [\"programs\"], \"polarity\": [\"negative\"]}\n",
            "{\"category\": [\"price\"], \"polarity\": [\"positive\"]}\n",
            "{\"category\": [\"screen\", \"keyboard\"], \"polarity\": [\"positive\", \"positive\"]}\n",
            "{\"category\": [\"keyboard\"], \"polarity\": [\"negative\"]}\n",
            "{\"category\": [\"keyboard\"], \"polarity\": [\"negative\"]}\n"
          ]
        },
        {
          "name": "stderr",
          "output_type": "stream",
          "text": [
            "\r 80%|████████  | 4/5 [01:32<00:23, 23.40s/it]"
          ]
        },
        {
          "name": "stdout",
          "output_type": "stream",
          "text": [
            "{\"category\": [\"programs\"], \"polarity\": [\"positive\"]}\n",
            "Accuracy: 0.8\n",
            "\n",
            "\n",
            "\n",
            "{\"category\": [\"battery life\"], \"polarity\": [\"positive\"]}\n",
            "{\"category\": [\"screen\", \"keyboard\"], \"polarity\": [\"positive\", \"positive\"]}\n",
            "{\"category\": [\"warranty\"], \"polarity\": [\"negative\"]}\n",
            "{\"category\": [\"programs\"], \"polarity\": [\"positive\"]}\n",
            "{\"category\": [\"price\"], \"polarity\": [\"negative\"]}\n",
            "{\"category\": [\"battery life\"], \"polarity\": [\"positive\"]}\n",
            "{\"category\": [\"screen\"], \"polarity\": [\"negative\"]}\n",
            "{\"category\": [\"price\"], \"polarity\": [\"positive\"]}\n",
            "{\"category\": [\"screen\"], \"polarity\": [\"positive\"]}\n",
            "{\"category\": [\"programs\"], \"polarity\": [\"neutral\"]}\n",
            "{\"category\": [\"price\"], \"polarity\": [\"positive\"]}\n",
            "{\"category\": [\"price\"], \"polarity\": [\"positive\"]}\n",
            "{\"category\": [\"programs\"], \"polarity\": [\"positive\"]}\n",
            "{\"category\": [\"screen\"], \"polarity\": [\"positive\"]}\n",
            "{\"category\": [\"screen\"], \"polarity\": [\"positive\"]}\n",
            "{\"category\": [\"keyboard\", \"screen\"], \"polarity\": [\"negative\", \"negative\"]}\n",
            "{\"category\": [\"keyboard\"], \"polarity\": [\"positive\"]}\n",
            "{\"category\": [\"screen\"], \"polarity\": [\"negative\"]}\n",
            "{\"category\": [\"price\"], \"polarity\": [\"positive\"]}\n",
            "{\"category\": [\"price\"], \"polarity\": [\"positive\"]}\n",
            "{\"category\": [\"screen\"], \"polarity\": [\"neutral\"]}\n",
            "{\"category\": [\"battery life\"], \"polarity\": [\"positive\"]}\n",
            "{\"category\": [\"warranty\"], \"polarity\": [\"negative\"]}\n",
            "{\"category\": [\"keyboard\"], \"polarity\": [\"negative\"]}\n",
            "{\"category\": [\"programs\"], \"polarity\": [\"negative\"]}\n",
            "{\"category\": [\"price\"], \"polarity\": [\"positive\"]}\n",
            "{\"category\": [\"screen\", \"keyboard\"], \"polarity\": [\"positive\", \"positive\"]}\n",
            "{\"category\": [\"keyboard\"], \"polarity\": [\"negative\"]}\n",
            "{\"category\": [\"keyboard\"], \"polarity\": [\"negative\"]}\n"
          ]
        },
        {
          "name": "stderr",
          "output_type": "stream",
          "text": [
            "100%|██████████| 5/5 [01:54<00:00, 22.91s/it]"
          ]
        },
        {
          "name": "stdout",
          "output_type": "stream",
          "text": [
            "{\"category\": [\"programs\"], \"polarity\": [\"positive\"]}\n",
            "Accuracy: 0.9\n",
            "\n",
            "\n",
            "\n"
          ]
        },
        {
          "name": "stderr",
          "output_type": "stream",
          "text": [
            "\n"
          ]
        }
      ],
      "source": [
        "for _ in tqdm(range(num_eval_runs)):\n",
        "\n",
        "    # For each run create a new sample of examples for few shot prompting\n",
        "    examples = create_examples(laptop_reviews_train_df)\n",
        "\n",
        "    # Assemble the few shot prompt with these examples\n",
        "    few_shot_prompt = create_prompt(few_shot_system_message, examples, user_message_template)\n",
        "\n",
        "    # Evaluate prompt accuracy on gold examples\n",
        "    few_shot_accuracy = evaluate_prompt(few_shot_prompt, gold_examples, user_message_template)\n",
        "\n",
        "    few_shot_performance.append(few_shot_accuracy)\n",
        "\n",
        "    print(f\"Accuracy: {few_shot_accuracy}\")\n",
        "    print(\"\\n\\n\")"
      ]
    },
    {
      "cell_type": "code",
      "execution_count": 96,
      "metadata": {
        "colab": {
          "base_uri": "https://localhost:8080/"
        },
        "id": "3r9qZXIdua0O",
        "outputId": "c1786c5b-5fe0-40d1-a14f-73caea348e6d"
      },
      "outputs": [
        {
          "data": {
            "text/plain": [
              "(0.8466666666666667, 0.026666666666666658)"
            ]
          },
          "execution_count": 96,
          "metadata": {},
          "output_type": "execute_result"
        }
      ],
      "source": [
        "np.array(few_shot_performance).mean(), np.array(few_shot_performance).std()"
      ]
    },
    {
      "cell_type": "markdown",
      "metadata": {
        "id": "4Q0owe6p1Yqj"
      },
      "source": [
        "We can see how important few-shot prompting is. It is necessary in this case to get the output from LLM in the required format. Hence, few-shot-prompting is the obvious choice for this task. Stronger models will do a better job at outputting multiple sentiments for multiple aspects. However, they are very large and incur higher maintainance costs in terms of hardware."
      ]
    },
    {
      "cell_type": "markdown",
      "metadata": {
        "id": "xWvC5XtZ1Yqj"
      },
      "source": [
        "Using few-shot, we were able to get aspect based sentiments which can then be analysed by stakeholders to figure out what features of the product needs improvement."
      ]
    },
    {
      "cell_type": "markdown",
      "metadata": {
        "id": "aiwawi3i1Yqj"
      },
      "source": [
        "Let's move on to the Youtube tech channel review analysis. We need to understand from the youtube influencers the general opinon about our product. We need to understand which features are taken well by the users and which are not. This allows the product managers to make better design decisions."
      ]
    },
    {
      "cell_type": "markdown",
      "metadata": {
        "id": "4YbcE_CTntMs"
      },
      "source": [
        "# Problem 2: Youtube Tech-Channel Review Analysis"
      ]
    },
    {
      "cell_type": "markdown",
      "metadata": {
        "id": "buNfgeKCtJjB"
      },
      "source": [
        "Let's start with importing the dataset."
      ]
    },
    {
      "cell_type": "markdown",
      "metadata": {
        "id": "cLJGe2h3ck4o"
      },
      "source": [
        "## Step 1 - Importing Data"
      ]
    },
    {
      "cell_type": "code",
      "execution_count": 98,
      "metadata": {
        "id": "niebFlJixH1v"
      },
      "outputs": [],
      "source": [
        "transcripts = pd.read_csv(\"/content/drive/MyDrive/Adv-Python/week13_GenAI/week13_MLS/youtube_transcripts.csv\")"
      ]
    },
    {
      "cell_type": "code",
      "execution_count": 109,
      "metadata": {
        "colab": {
          "base_uri": "https://localhost:8080/"
        },
        "id": "bU_oYnNg6LVE",
        "outputId": "e6a8f8d3-2360-427f-a65a-7b6dcab07d59"
      },
      "outputs": [
        {
          "data": {
            "text/plain": [
              "(10, 3)"
            ]
          },
          "execution_count": 109,
          "metadata": {},
          "output_type": "execute_result"
        }
      ],
      "source": [
        "transcripts.shape"
      ]
    },
    {
      "cell_type": "code",
      "execution_count": 99,
      "metadata": {
        "colab": {
          "base_uri": "https://localhost:8080/",
          "height": 204
        },
        "id": "pkSeD3UixHy5",
        "outputId": "95c2d70f-3125-4a2c-9d1c-bb6b9f17f2a3"
      },
      "outputs": [
        {
          "data": {
            "application/vnd.google.colaboratory.intrinsic+json": {
              "summary": "{\n  \"name\": \"transcripts\",\n  \"rows\": 10,\n  \"fields\": [\n    {\n      \"column\": \"ID\",\n      \"properties\": {\n        \"dtype\": \"number\",\n        \"std\": 3,\n        \"min\": 1,\n        \"max\": 10,\n        \"num_unique_values\": 10,\n        \"samples\": [\n          9,\n          2,\n          6\n        ],\n        \"semantic_type\": \"\",\n        \"description\": \"\"\n      }\n    },\n    {\n      \"column\": \"Title\",\n      \"properties\": {\n        \"dtype\": \"string\",\n        \"num_unique_values\": 10,\n        \"samples\": [\n          \"Base model M2 MacBook Air 9 months later - How did it hold up??\",\n          \"15\\\" MacBook Air M2 Review: The Obvious Thing!\",\n          \"The M2 13in MacBook Air: A Year Later\"\n        ],\n        \"semantic_type\": \"\",\n        \"description\": \"\"\n      }\n    },\n    {\n      \"column\": \"transcript\",\n      \"properties\": {\n        \"dtype\": \"string\",\n        \"num_unique_values\": 10,\n        \"samples\": [\n          \"so nine months ago I picked up the base\\nmodel M2 MacBook Air and I loved it and\\nif you love something very much A lot\\ncan happen in nine months let's ramble\\nwhen I pull up they all on me like it\\nonce hey what's up guys it's great to\\nsee you all again and if you're new here\\nI'm Patrick and this is where I ramble\\nabout tech and other stuff so yeah when\\nthe M2 MacBook Air was announced in June\\nof last year I immediately picked one up\\nto review for the channel and I decided\\nto order the base model because that\\ntends to be the model most people are\\ninterested in and I wanted to see what\\nit was capable of the other reason I\\nwanted to review the base model\\nspecifically is that soon after the\\nlaunch some of the larger channels\\nstarted dropping videos about how\\nterrible the base model was and that you\\nshouldn't buy it and I thought those\\nreviews were incredibly unfair and this\\nis what I had to say about it nine\\nmonths ago oh my God the machine slows\\ndown when you run multiple streams of 8K\\nno people need to relax nine months\\nlater I said what I said and I stand by\\nit now we will get back to the\\nperformance issue a little later on in\\nthe video but first let's have a look at\\nhow this thing actually held up over\\ntime so the design in my opinion is\\nstill stunning I went for the midnight\\ncolor because let's be honest it is the\\nbest color Yes it smudges it smudges\\nvery very badly and if you have any kind\\nof ambition to keep this thing pristine\\nyou're gonna have to carry around a\\nmicrofiber cloth wherever you go but hey\\nat least that finally gives me a reason\\nto show off my Swanky Apple microfiber\\ncloth that came with my studio display\\nremember the hype when these came out\\nridiculous anyway it doesn't only smudge\\nit also scratches and it chips pretty\\neasily and that does seem to be\\nparticularly true for the midnight color\\nor maybe it just shows better on this\\ncolor I'm not sure with that said this\\none has hardly any scratches on it but\\nto be fair I kind of baby it I make sure\\nI always use some kind of bag or sleeve\\nwhen I bring it with me and I found the\\nperfect one to keep it safe this\\nzippered Sleeve by Harbor London has a\\nreally soft and thick lining so there's\\nno way you're going to scratch the\\nMacBook it's super light and the\\nexterior is made of recycled bottles so\\nyou don't need to panic about a bit of\\nrain or maybe a spilled drink I love how\\nthin the MacBook Air is and every time I\\ngrab it even after nine months I can't\\nbelieve how light this feels my\\nWorkhorse is a 14 inch M1 MacBook Pro\\nand even though that's a pretty compact\\nmachine as well this one feels like half\\na laptop compared to that the downside\\nof that is that it takes zero effort to\\nyank this one off the table and to be\\nhonest the rubber feet on the bottom do\\nabsolutely nothing to prevent that\\nthat's why I'm happy that the air comes\\nwith the new magsafe charging port and I\\nwould definitely advise you to use that\\nif there is any chance at all of\\ntripping over your wire with that said\\nI'm glad it also charges via USBC and\\nthat will give you fast charging as well\\nI'm super happy that Apple kept the full\\nrow of function keys but it does mean\\nthat there are no speaker grilles on the\\nchassis and you can definitely tell the\\nspeakers are decent for a laptop but\\nthey pale in comparison to the speakers\\non the MacBook Pro\\nforeign\\n[Music]\\n[Music]\\nthe liquid Retina display is nice but\\nagain it doesn't come close to the\\nliquid Retina xdr display on the MacBook\\nPro lineup the airs display has only 60\\nhertz refresh rate which is definitely\\nnoticeable and it tops out at 500 nits\\nwhich is fine for indoor use but not so\\ngreat in bright sunlight speaking of\\ndisplays if you're used to running a\\ndual monitor setup you're out of luck\\nwith the M2 MacBook Air of course there\\nare third-party workarounds but out of\\nthe box this MacBook supports a single\\nexternal display only for me personally\\nthat's totally fine while my M1 MacBook\\nPro is docked and hooked up to an\\nexternal display 99 of the time I use\\nthe M2 MacBook Air as an actual laptop\\nmost of the time my ideal use case is to\\ngrab it stick it in a bag and take it\\nwith me on trips and commutes and when I\\nget back to the office I hook it up to a\\nhub and the monitor I recently got this\\nthing here sent to me for review and\\nthis is what I call a base station I\\nwant to keep my desk setups as minimal\\nas possible and the Prisma 3 in 1 does\\nexactly that it functions as a\\nmulti-purpose shelving unit so I can\\nkeep all the stuff that I need often\\nlike pens memory cards my wallet you\\nname it I love that it has a lid so I\\ndon't need to look at all the\\nknickknacks cluttering up my desk right\\nnext to it is a charging station for my\\niPhone delivering 15 watts of power\\ngiving it a nice and quick charge but\\nthe coolest part for Tech nerds like you\\nand me is when you press this button\\nhere an entire functional Hub extends\\nout of the base station giving you all\\nsorts of ports including an SD card\\nwhich is of course great for creatives\\nand an HDMI port so this thing literally\\nfunctions as the Hub between my MacBook\\nAir and this huge 48 inch OLED display\\nwhich I will talk more about in a future\\nvideo so if you're into that kind of\\nstuff hit that subscribe button that\\nwould be much appreciated to top it all\\noff you can take the Hub part off of\\nthis thing toss it in the back alongside\\nthe MacBook Air and use it as a hub\\nwherever you go very cool product I'll\\nput a link in the description and let me\\nknow if you want me to review it for you\\nin a bit more detail so after nine\\nmonths how good is the base model well\\nthe short answer is that for basic users\\nit's absolutely fine the battery life is\\noutstanding at normal usage meaning not\\nrendering video files all day I easily\\nget 10 to 14 hours out of this thing\\nwhich is simply fantastic you can't\\ncomplain about that earlier in the video\\nI said that there was a real Trend\\nacross YouTube Tech channels of bashing\\nthe base model M2 MacBook Air but all\\nthat hate is based on unrealistic\\nscenarios where people would get the\\nbase model and then throw the most\\ninsane tasks added that even a MacBook\\nPro would struggle with that's simply\\nnot realistic with that said the base\\nmodel does have a bottleneck that can\\nslow down the machine when it's under\\nheavy load the reason for that is that\\nthe base model comes with only 8\\ngigabytes of unified memory and 256\\ngigabytes of storage and that storage is\\nbased on a single nand chip now if you\\ntry hard enough even as a regular user\\nyou can use up the 8 gigabytes of RAM by\\nkeeping open a lot of chrome tabs for\\nexample and a bunch of apps running in\\nthe background at the same time once the\\nMacBook does use all the ram it will use\\nthe SSD memory for swap purposes and\\nbecause the SSD is slower since it only\\nhas the one Nan chip the entire process\\nwill be slower there's also no fans in\\nthis machine and while that's very\\npleasant most of the time because it's\\nsuper quiet it can cause thermal\\nlimitations when the machine is under\\nstress now should you upgrade the SSD or\\nthe Ram from the base model if you do\\nneed to run more demanding tasks the\\nanswer to that is almost always Ram\\nwhile upgrading the SSD from the base\\nconfiguration will help with memory swap\\nyou'll still have only 8 gigabytes of\\nunified memory it's better to double the\\nram so there's little to no need for\\nswapping in the first place I did a\\nseparate video dedicated to answering\\njust that question so if you're\\ninterested that I'll put a link to that\\nvideo at the end of this one do not\\nupgrade the GPU course those are useful\\nfor long and heavy loads like video\\nediting and 3D work and that's just not\\nwhat this M2 error is good at it's not\\nwhat it was built to do if this is what\\nyou need get the M1 Pro or the M2 Pro if\\nthat's in your budget it has way more\\ncores it has two fans so the performance\\nwill be much better and the price\\ndifference with the M1 MacBook Pro after\\nupgrading the M2 MacBook Air is really\\nnot that big these days but again if\\nyou're a regular user you shouldn't even\\nbe worried about these things and the\\nbase model will serve you just fine and\\nwhen I'm using the M2 MacBook Pro myself\\nI know it's limitation so I use it for\\nnormal computer things I use it to\\nbrowse the web I love sitting on the\\ncouch with this thing on my lap and I\\nuse it for all kinds of office work I\\nhandle my emails I take care of my\\naccounts I do client work for my other\\nbusiness there's no video work or\\nanything like that involved 99 of what I\\nsent my clients in that business will be\\nin the form of PDFs and here I would\\nlike to give a huge shout out to you PDF\\nwhich is the best free pdf editing tool\\nout there and it is definitely my PDF\\napp of choice and thank you so much to\\nthem for sponsoring this part of the\\nvideo apart from the fact that it is a\\nsuper solid product you can also use it\\nacross platforms on Mac Windows IOS and\\nAndroid with just one license of course\\nyou can read and annotate PDFs but it\\ndoes much more than that it has a really\\npowerful editor on board which to me\\npersonally that is the most important\\nfeature I've tried a lot of editors over\\nthe years and usually it's the editing\\npart where it gets messy and things move\\nwhen you don't want them to updf is\\nsuper clean you just hover over the text\\nyou want to change and everything stays\\nexactly where it belongs of course it\\nalso lets you fill out forms which is\\nanother killer feature no matter what\\nbusiness you're in it has a super easy\\ninterface just a few clean toolbars and\\nwhat you see is what you get it's really\\neasy to organize Pages as well if you\\nneed to change the order and when you're\\ndone with the document you can either\\nsave it back as a PDF or export it to\\npretty much any file type you want\\nincluding Microsoft Word you can install\\nit for free and get the basic functions\\nor get a plan which is still a lot\\ncheaper than most other PDF editors plus\\nthere's a link in the description with a\\nsubstantial discount I believe it's like\\n50 off so definitely check that out so\\nguys what I've been trying to tell you\\nis that this M2 MacBook Air has been an\\nabsolute joy to use and I think you will\\nlove it too as long as we're being\\nhonest about what this is and don't have\\nunrealistic expectations of it this\\nmachine is absolutely lovely it's light\\nit looks great the battery life is\\nsuperb it's super quiet it runs the\\nlatest version of Mac OS and it does so\\nvery Snappy it's not going to be a\\nPowerhouse and if you need a machine to\\nrun your business and you're worried it\\nwon't be able to handle your tasks get a\\nMacBook Pro there is a reason why that\\none is called the pro and this one is\\ncalled the air guys if you enjoyed the\\nvideo please give it one of these it\\nreally does make it difference subscribe\\nfor more content thank you so much for\\nwatching and see you in the next one\\n\",\n          \"Intro\\n(upbeat music)\\n- What's up?\\nMKBHD here and welcome\\nto the 15-inch MacBook Air review.\\nThis laptop, thankfully, is exactly what you think it is.\\nIt's a MacBook Air, but bigger.\\nThis is the Tesla Model Y of laptops.\\nTesla Model Y\\nYou see the Tesla Model 3\\nwas the most important model for Tesla.\\nThey had other more expensive flagships,\\nbut this was the entry level,\\nattainable version for the masses,\\nand it quickly became their most recommended\\nand best-selling car.\\nAnd it's the way that most people got into Tesla\\nand formed their first Tesla experience.\\nBut sneakily, bigger cars are actually more popular\\nand in America especially, people can't help,\\nbut want a version that's a little bigger,\\na little higher off the ground.\\nSo they did the obvious thing and made Tesla model Y.\\nIt's built on the same platform as a Model 3,\\nbut a little bigger and a little higher off the ground\\nand pretty much instantly has rocketed up\\nto the top of the lineup to the point\\nwhere it's now the most popular new car on planet Earth.\\n(tape rewinding)\\nSee, the MacBook Air was the most important Mac for Apple.\\nI mean, they had other expensive flagships,\\nbut this was the most entry level\\nattainable model for the masses.\\nAnd it quickly became their most recommended\\nand best-selling Mac.\\nAnd it's the first way most people got into the Mac\\nand formed their first Mac OS experiences.\\nBut sneakily, bigger screens are actually,\\nthe most popular and in America especially,\\npeople can't help but want a version\\nwith a little bit of a bigger screen.\\nSo, they did the obvious thing\\nand made the 15-inch MacBook Air.\\nIt's built on the same platform as the 14-inch MacBook Air,\\nbut a little bit bigger screen,\\nand I predict it'll pretty much instantly\\nrocket to the top of the lineup\\nto the point where it is the most popular 15-inch laptop\\nand the most popular Mac on planet Earth.\\nWe kinda already know what the M2 MacBook Air is.\\nIf you haven't already seen it,\\nI'll link the review right below the light button\\nthat covers it.\\nMy only real questions going into the review\\nof the bigger one were,\\none, is there any real benefit to the bigger screen?\\nHow much better is it really?\\nAnd two, are there any other benefits\\nto getting a bigger laptop?\\nThe Bigger Screen\\nSo, I think the whole bigger screen thing is pretty clear.\\nThere are literally millions of people\\nwho today go into stores and ask for a 15-inch laptop,\\nand when they did, Apple would have to bring people\\nover to the 16-inch MacBook Pro as their cheapest option,\\nwhich starts at $2,500.\\nSo, now they have this.\\nNow, is there a dramatically more information\\nthat can fit on the screen?\\nNot really.\\nIs it a dramatically better quality display\\nthan the smaller one?\\nNah, it mostly just feels bigger.\\nBigger videos, bigger movies, bigger texts,\\nbigger windows, just just a little more room\\nfor everything to be a little bit bigger.\\nAnd you only pay for that really\\nwith a little bit of exercise as far as the laptop goes.\\nThis thing is still 11 and a half millimeters thin\\nand weighs 3.3 pounds.\\nIt's super slim.\\nIt's a quarter of a millimeter thicker\\nand half a pound heavier than the smaller MacBook Air,\\nwhich I kinda mentioned this earlier,\\nbut I forgot that basically,\\nalready has 14-inch diagonal screens\\nwith its thinner bezels.\\nSo, you can really just measure out\\n1.3 extra inches diagonally\\nto get to the proper 15.3 inch laptop size.\\nStill, it has decently thin bezels,\\nnot the thinnest in the world,\\nstill has the notch cutout for face ID.\\nI mean, sorry, no face ID.\\nIt has just a webcam and a microphone.\\nIt still just has touch ID on the keyboard\\nand nothing else about\\nthe display itself really has changed.\\nIt's the same tech, the same pixel density,\\nthe same brightness, 500 nits, 60 hertz.\\nIt's fine, the screen is fine.\\nIt's just bigger.\\nSo all right, now that the whole footprint\\nThe Bigger Build\\nof the laptop is also bigger,\\nwhat more can you get out of that?\\nFirst of all, sneaky, slightly bigger trackpad.\\nSo, the keyboard is the same size,\\nbut actually, the trackpad does get a little bit bigger,\\nwhich is nice.\\nKind of matches the larger display.\\nAnd also, there is more room inside for speakers.\\nSo, Apple's added not bigger speakers,\\nbut just actually, a second set of force-canceling woofers,\\nwhich would theoretically make the sound\\na little punchier, maybe add some bass.\\nAnd I can say it is louder.\\nIt does get louder overall\\nand have a bit more bass than the smaller MacBook Air,\\nbut it's not like game changing.\\nI'm impressed that they can get louder without distorting,\\nbut they are not close to the maybe\\nunfair 16-inch MacBook Pro speakers.\\nBut just to give you an idea of the context.\\nAlso, some people have noted it looks kind of weird\\nto have like no speaker grills\\nto the left and right of the keyboard,\\nbut the speakers are still in the same place\\nas they were on the smaller one.\\nup in the hinge of the MacBook Air.\\nAnd then there's also more room inside for bigger battery.\\nAnd my experience actually lines up pretty well\\nwith what Apple said, which is,\\nlook, it's the same chip set,\\nvery similar laptop, bigger screen\\nand bigger battery sort of cancel each other out.\\nAnd you end up with roughly\\nthe same battery life as a smaller machine.\\nAnd that's to say it's quite good,\\nfull workday of battery life pretty much guaranteed,\\nmultiple light days in a row.\\nNo problem.\\nSo, then the last thing I wanted to test is,\\nactually, is there a difference in performance\\nbetween the small M2 MacBook Air and the big one?\\nSince theoretically, there's just a little more room inside\\nfor a little extra thermal headroom.\\nThermals\\nLike there's no way it's significant,\\nbut these are very different sized laptops\\nand the old one when it was torn apart,\\ndidn't have a heatsink.\\nSo maybe there's room for\\na little passive heatsink in this one.\\nThey're both fan less, but I had to check it.\\nSo, in single core bursty performance,\\nI never expect to see any difference and I really didn't.\\nI ran off back to back Geekbench 6 benchmarks,\\nsmall drop off after the first one for each,\\nbut no noticeable difference.\\nBut then I ran back to back\\n10 minute Cinebench multi-core benchmarks,\\nwhich kind of just run continuously\\nto test some more reliable sustained workloads.\\nAnd there was a slightly bigger dip\\non the smaller M2 Air.\\nAnd so potentially, yes, over time\\nthis may add up to a bit more thermal throttling.\\nBut my conclusion is, you can see the numbers on paper,\\nbut this difference is unlikely to be noticeable.\\nLike I said, they're both running the M2 chip\\nand most behavior on laptops like this\\nis so bursty and short that\\nthey perform basically identically.\\nBut if you do happen to get into\\nthose long multi-minute sustained workloads in a row,\\nlike exporting a video, editing a video, gaming even,\\nthen maybe you'd notice\\na little bit more out of this bigger one over time.\\nBut you'll notice a bigger difference\\non the 14-inch MacBook Pro,\\nwhich is just a little bit above this one in price.\\nSo, if you know you're gonna be doing workloads like that\\nthen you probably are looking at a Pro laptop.\\nAnd matter of fact, let's just talk about\\nwhat I think is the biggest X-factor with this laptop.\\nThe biggest hurdle between this\\nand being the Tesla Model Y of laptops, is the price.\\nSo, this baseline version, this a little Starlight one,\\nwhich kind of almost matches this a little bit,\\nlittle sand color, starts at 1,299.\\nPrice\\nAnd that is the base version,\\nwhich you can't upgrade these laptops over time.\\nSo, you tend to wanna get as much as you can\\nout of the initial purchase.\\nThis base version only has eight gigs of shared memory\\nand 256 gigs of storage\\nthat can actually pretty quickly become a $1,700 laptop\\nwith just a few clicks to upgrade those things.\\nAnd that's pricey.\\nSo, there's a lot of Windows laptops that you can get\\nat that price that will probably do\\none specific thing better than this one,\\nwhether it's the XPF 15 with a nicer display\\nor the ROG Zephyrus,\\nwhich is gonna be better for gaming and has more ports.\\nYou can get flipping and folding laptops\\nthat spin over backwards and gaming laptops even.\\nBut none of them will be quite the package that this is,\\nwhich is a really thin and light\\ndaily 15-inch screen laptop,\\nlike this is kind of just\\nthe ultimate baseline for most people's activities.\\nSo, to have all those things sort of well-rounded into one,\\nthe thinness and lightness, the nice display,\\nthe great battery life,\\nthe impressive performance from the M2,\\nthat's what makes this the MacBook Air.\\nIt's got the A1 build quality,\\nit's got the color matching braided MagSafe cable,\\nwhich also connects to the 35 watt charging brick\\nwith dual USB-C ports,\\nwhich you could actually swap out\\nfor a slightly larger 70 watt brick\\nwith a single port for faster charging.\\nThat's a free swap on Apple site.\\nAnd of course, you can't forget the ecosystem stuff,\\nthe messages, the FaceTime, et cetera,\\nall the stuff that plugs into Apple's world.\\nDespite its potentially premium price,\\npeople will pounce on this popular pick.\\nThanks for watching.\\nCatch you guys the next one.\\nPeace.\\n(upbeat jazz music)\\n\",\n          \"Introduction\\nthe M2 MacBook Air is Apple's latest\\nMacBook Air redesign and now well it's a\\nyear old a lot can change within a\\nsingle year so let's talk about this\\nlaptop and whether you should consider\\nit or not let's get started the M2 2022\\nMacBook Air is Apple's cheapest laptop\\nwith their M2 chips despite that it does\\npack some pretty nice features but the\\nHow\\u2019s the Laptop Body after a Year?\\nmost standout feature on basically any\\nMacBook Air is\\nhow light that they are for the last\\nyear this thing has been tossed around\\nused everywhere and as much as I'd hate\\nto admit it even eaten around too not\\noften but but yeah it's been an absolute\\nWorkhorse it's thin light and every time\\nI begin to use my 14 inch MacBook Pro\\nagain I really miss how light the M2\\n13-inch air is it really feels like a\\nbig tablet instead of a laptop in your\\nhand and I really really like that using\\nit every day spoils you on how light it\\nreally is compared to the other MacBooks\\nto the point that I even sometimes\\nforget that I packed the laptop in my\\nbackpack but like I mentioned in the\\nlast video the Finish around the ports\\nare slowly chipping away to reveal a\\nmore bare silver look basically all the\\nlittle accidental Nicks and scratches on\\nthe body will show up over time so if\\nyou're not delicate with it the midnight\\nfinish will start to show signs of wear\\nand this laptop is still a massive\\nfingerprint magnet let me show you what\\nI mean I wiped it Down clean here and if\\nI just scrape my hand across it\\nyou'll see the streaks up here right\\nhere but some people actually like the\\nwear and tear look on the computer and\\nthinks it adds character I don't but you\\ndo you the rest of the body has held up\\npretty well and after 122 battery Cycles\\nthe M2 MacBook Air still has 97 of its\\nbattery capacity left and from my own\\npersonal experience I've had Max in the\\npast at the year mark actually start to\\nbreak down whether this be USB C ports\\nbeing non-responsive to webcams failing\\nit's a quick battery wear and so far I\\nreally haven't seen that with these M2\\nMacBook airs the laptop still functions\\nlike the day I bought it alright do\\ntreat it pretty delicately but there has\\nalso been some times when it's\\naccidentally falling off of tables or\\nbedsides because sometimes I use a USBC\\nport for charging and the robot vacuum\\nin my house snag the USBC cable pulling\\nthe laptop to the floor so learn from my\\nmistakes so it doesn't happen to you\\nwhile you can charge it through USBC you\\nprobably want to charge it through\\nmagsafe as much as possible because\\nmagsafe safely detaches once a certain\\namount of pressure is applied I said\\nearlier that the MacBook Air is really\\nreally light and while that is normally\\na really good thing it can also be a\\nnegative especially when the rubber feet\\non this laptop isn't all that great so\\nthis laptop feels like it's on ice\\nskates constantly so charging through\\nmagsafe would be my recommendation and\\nplus that opens up your other two ports\\nto be used for other things that you\\nmight want to plug into if you use this\\nM2 MacBook Air or any laptop in general\\nyou know how underwhelming the webcams\\ncan be that's where this video sponsor\\nthe Opel C1 comes into play the Opel C1\\nis a 4K webcam designed for Macs that\\nhas the approval of some of your\\nfavorite creators like MKBHD Sarah dichi\\nand Casey neistat this webcam has\\npremium feeling aluminum all around the\\nentire body it's premium looking and was\\nactually designed by Kenny sweet the guy\\nwho designed the first Beats by Dre and\\npixel watch I like how minimal it looks\\nwith no giant logos or crazy colors\\ndemon scrolling that comes out of the\\nopal C1 is fantastic and when you\\ncompare it to the image quality out of\\nthe MacBooks it just blows is my\\nmacbook's webcam out of the water but\\nthe real game changer is in the software\\nthe Opel composer the Opel composer can\\nbe used in conjunction with the Opel C1\\nto really tweak and dial in the image\\nyou want out of the webcam for that\\nperfect look like white balance how much\\nback rumbler you want or even adding in\\neffects the Stellar image quality and\\ncustomizability in this tiny premium\\nfeeling package makes it really hard for\\nme to look at my Max built-in webcam the\\nsame as I did before without\\nacknowledging that it's lacking all of\\nthese great features so you're\\ninterested in the opal C1 or want to\\nlearn more about it leave a link in the\\nvideo description box below anyway let's\\nWhat Upgrades Are Worth it?\\ntalk about the rest of the MacBook the\\nM2 MacBook Air that I've been showing on\\nthis screen and tossing around here is\\nthe base model version with eight gigs\\nof RAM and 256 gigabytes of storage now\\nthese sound and look limiting on paper\\nand the storage is half the speed of all\\nthe other storage sizes now the Target\\ndemographic who's buying this machine\\nwon't notice those differences but it's\\nworth noting the shortcomings of this\\nlab laptop in case you do fall out of\\nthe typical user for this kind of laptop\\nApple utilizes memory swapping on their\\napple silicon Max meaning once you fill\\nup your eight gigabytes of RAM with\\nthose 32 Chrome tabs you have open the\\nlaptop will begin treating your\\ncomputer's storage as extra Ram the\\nthing is RAM is super fast ssds have\\nbeen getting faster and they are way\\nfaster than just standard hard drives\\nbut it's still slower than Ram by having\\na slower SSD in the base model MacBook\\nAir you're more likely to experience\\nslowdowns especially if you're the type\\nof person to have a ton of apps open or\\ndo some intensive tasks also Ram is\\nmeant to be written to and wiped\\nconstantly and SSD is not meant to be as\\nfrequent as RAM think of ram like what\\nyou're remembering in the moment your\\nshort-term memory it's constantly\\nchanging versus your SSD which is more\\nlike a core memory of your embarrassing\\nfirst day of kindergarten it's there\\nit's always been there and it always\\nwill be so this memory swapping does\\nincrease wear on the max SSD and apple\\ndoes not make it easy to replace and\\nrepair a dead SSD on their laptops\\nespecially on their newer machines\\nunless you just so happen to double\\nmajor in medical surgery and Engineering\\nso if you have to make any upgrade to\\nthe M2 MacBook Air or any base model\\nMacBook with only 256 gigabytes of\\nstorage go for the 16 gigabytes of RAM\\nif you need more storage you can always\\njust buy an external SSD and it's much\\ncheaper than what Apple charges you for\\nthat storage upgrade you might have the\\nburden of carrying it around with you\\nbut it can outlive your laptop and can\\nalso be used on your next laptop too\\nHow\\u2019s the Base Model Performance after a Year?\\nokay enough about the physical features\\nand specs of the laptop how is it like\\nin everyday performance well see this\\nthing hasn't really let me down yet I\\nfind it really useful as a lightweight\\ncompanion for General productivity but I\\nalso end up using it kind of like a\\ntablet too like for watching YouTube\\nvideos video streaming or having\\nreference materials up when I'm playing\\nvideo games for when I can't figure out\\na puzzle that was designed for a 10 year\\nold I don't really use use the M2\\nMacBook Air much to get my YouTube stuff\\ndone because I have dedicated desktop\\nfor that but when I had to use it for\\nthose tasks it's handled my video\\nediting and photo editing just fine I\\ndon't think my video workflow is super\\nintensive just don't go expecting that\\nyou're gonna make the next hit\\nBlockbuster film on this laptop alone\\ngaming on this thing on another hand I\\njust wouldn't recommend at all not\\nbecause I can't handle some really light\\ngaming it's just that supports for games\\nfor the M series Max it's just not good\\nit's slowly getting better Apple has\\nbeen making some inroads on this but\\ndon't expect the game on here unless\\nit's using something like Remote Play or\\nsteam link the M2 Chip in this laptop\\ndoes not heat up in basic tasks in\\ngeneral productivity but it does get\\nwarm during charging or when I do\\nsomething more graphically intensive\\nlike video editing it's just the nature\\nof things this thing may be fanless but\\nit does get pretty warm I don't think\\nI've experienced a situation where this\\nlaptop was was hot also all these\\nnon-pro Macs only support One external\\nmonitor you don't really notice it with\\nthis MacBook Air since it's kind of a on\\nthe go type of machine anyway and I\\ndon't think I was ever in a situation\\nwhere I personally wanted to plug in\\nmore than a single external monitor to\\nthis thing but if you are you might want\\nto consider the MacBook Pro 14-inch\\ninstead now that's too rich for your\\nblood there are these docks that can\\nenable this through third-party software\\nbut that can be hit or miss and cost a\\ndecent chunk of change too so if you're\\nconsidering any Apple computer that\\ndoesn't have a pro Max or Ultra chip be\\nsure that you're okay with this one\\nexternal monitor limitation or else you\\nshould look at those machines instead so\\nConclusion - Would I Have Purchased This Again?\\nspeaking of other MacBooks what I have\\npurchased this M2 MacBook Air with\\nbasically all the knowledge that I know\\nnow a lot has happened in the last year\\nsince this 13-inch MacBook Air was\\nreleased Apple released a 15-inch\\nMacBook Air which is just this guy but a\\nlittle bit bigger you know what I'm\\nsaying wider you know what I'm saying\\nyeah and when doing that they lowered\\nthe price of the 13 inch down to just\\neleven hundred dollars that put it at\\njust 100 dollars more than the last\\ngeneration M1 MacBook Air and 200 less\\nthan the 15-inch MacBook Air and before\\nthis recent price cut I recommended the\\nM1 MacBook Air because it's budget\\nfriendly had some good enough\\nperformance and cost 200 less than the\\nM2 MacBook Air but now the M1 MacBook\\nAir feels kind of ancient that thing was\\nreleased in late 2020 and it's still for\\nsale and the M2 is only a little more in\\nterms of price for a bunch of nice\\nlittle quality of life upgrades like a\\nnewer design convenience and safety of\\nmagsafe charging and a faster chip these\\nslightly improved features make using it\\na little nicer and if you're using the\\nlaptop long term I think it's worth it\\nto just pay up the hundred dollars to\\nget the M2 MacBook Air since this newer\\nmachine will have software updates for a\\nlittle longer too I don't think I could\\nrecommend purchasing the M1 MacBook Air\\nnew anymore unless you find a really\\nreally good deal for it there have been\\nsome recently but this M2 MacBook Air\\nhas served my own uses perfectly fine\\nI'd recommend it for casual laptop users\\nfocused on productivity personal\\nentertainment and office type tasks this\\nmachine doing all those things is pretty\\ngood and even if you're a hobbyist\\nthat's getting into photo editing or\\nvideo editing this could still be a\\npretty good machine there's rumors of a\\nnewer model in October and if that's the\\ncase this one will be on sale for an\\neven better price or you can just wait\\nto get the latest version instead anyway\\nwhat do you personally think are you\\nconsidering buying this laptop with all\\nthe back to school deals and sales that\\nare going on right now are you waiting\\nfor the M3 version instead what other\\nlaptops are you looking at did this\\nlong-term review actually help you\\nbecause I'm not sure that I'm going to\\nkeep doing these like one year reviews\\nin the future unless they are actually\\npretty helpful they are then maybe I'll\\nkeep doing them leave all that in the\\ncomment section below and if you enjoyed\\nthis video give it a thumbs up and well\\ndon't forget to subscribe I'll see you\\nall next time bye\\n\"\n        ],\n        \"semantic_type\": \"\",\n        \"description\": \"\"\n      }\n    }\n  ]\n}",
              "type": "dataframe",
              "variable_name": "transcripts"
            },
            "text/html": [
              "\n",
              "  <div id=\"df-76a05605-2406-4f8a-ab66-bc5ed9347495\" class=\"colab-df-container\">\n",
              "    <div>\n",
              "<style scoped>\n",
              "    .dataframe tbody tr th:only-of-type {\n",
              "        vertical-align: middle;\n",
              "    }\n",
              "\n",
              "    .dataframe tbody tr th {\n",
              "        vertical-align: top;\n",
              "    }\n",
              "\n",
              "    .dataframe thead th {\n",
              "        text-align: right;\n",
              "    }\n",
              "</style>\n",
              "<table border=\"1\" class=\"dataframe\">\n",
              "  <thead>\n",
              "    <tr style=\"text-align: right;\">\n",
              "      <th></th>\n",
              "      <th>ID</th>\n",
              "      <th>Title</th>\n",
              "      <th>transcript</th>\n",
              "    </tr>\n",
              "  </thead>\n",
              "  <tbody>\n",
              "    <tr>\n",
              "      <th>0</th>\n",
              "      <td>1</td>\n",
              "      <td>Here's the Thing about the M3 Macbook Air...</td>\n",
              "      <td>Intro\\n(Intro music)\\n- That's crazy that the ...</td>\n",
              "    </tr>\n",
              "    <tr>\n",
              "      <th>1</th>\n",
              "      <td>2</td>\n",
              "      <td>15\" MacBook Air M2 Review: The Obvious Thing!</td>\n",
              "      <td>Intro\\n(upbeat music)\\n- What's up?\\nMKBHD her...</td>\n",
              "    </tr>\n",
              "    <tr>\n",
              "      <th>2</th>\n",
              "      <td>3</td>\n",
              "      <td>Apple finally got revenge - MacBook Air M2</td>\n",
              "      <td>this is a MacBook Air M1 it's an\\ninteresting ...</td>\n",
              "    </tr>\n",
              "    <tr>\n",
              "      <th>3</th>\n",
              "      <td>4</td>\n",
              "      <td>M2 MacBook Air Review: More Than a Refresh!</td>\n",
              "      <td>(upbeat music)\\n- All right, what's up? MKBHD ...</td>\n",
              "    </tr>\n",
              "    <tr>\n",
              "      <th>4</th>\n",
              "      <td>5</td>\n",
              "      <td>M2 MacBook Air vs. The Rest</td>\n",
              "      <td>i have an interesting story so two years\\n\\nag...</td>\n",
              "    </tr>\n",
              "  </tbody>\n",
              "</table>\n",
              "</div>\n",
              "    <div class=\"colab-df-buttons\">\n",
              "\n",
              "  <div class=\"colab-df-container\">\n",
              "    <button class=\"colab-df-convert\" onclick=\"convertToInteractive('df-76a05605-2406-4f8a-ab66-bc5ed9347495')\"\n",
              "            title=\"Convert this dataframe to an interactive table.\"\n",
              "            style=\"display:none;\">\n",
              "\n",
              "  <svg xmlns=\"http://www.w3.org/2000/svg\" height=\"24px\" viewBox=\"0 -960 960 960\">\n",
              "    <path d=\"M120-120v-720h720v720H120Zm60-500h600v-160H180v160Zm220 220h160v-160H400v160Zm0 220h160v-160H400v160ZM180-400h160v-160H180v160Zm440 0h160v-160H620v160ZM180-180h160v-160H180v160Zm440 0h160v-160H620v160Z\"/>\n",
              "  </svg>\n",
              "    </button>\n",
              "\n",
              "  <style>\n",
              "    .colab-df-container {\n",
              "      display:flex;\n",
              "      gap: 12px;\n",
              "    }\n",
              "\n",
              "    .colab-df-convert {\n",
              "      background-color: #E8F0FE;\n",
              "      border: none;\n",
              "      border-radius: 50%;\n",
              "      cursor: pointer;\n",
              "      display: none;\n",
              "      fill: #1967D2;\n",
              "      height: 32px;\n",
              "      padding: 0 0 0 0;\n",
              "      width: 32px;\n",
              "    }\n",
              "\n",
              "    .colab-df-convert:hover {\n",
              "      background-color: #E2EBFA;\n",
              "      box-shadow: 0px 1px 2px rgba(60, 64, 67, 0.3), 0px 1px 3px 1px rgba(60, 64, 67, 0.15);\n",
              "      fill: #174EA6;\n",
              "    }\n",
              "\n",
              "    .colab-df-buttons div {\n",
              "      margin-bottom: 4px;\n",
              "    }\n",
              "\n",
              "    [theme=dark] .colab-df-convert {\n",
              "      background-color: #3B4455;\n",
              "      fill: #D2E3FC;\n",
              "    }\n",
              "\n",
              "    [theme=dark] .colab-df-convert:hover {\n",
              "      background-color: #434B5C;\n",
              "      box-shadow: 0px 1px 3px 1px rgba(0, 0, 0, 0.15);\n",
              "      filter: drop-shadow(0px 1px 2px rgba(0, 0, 0, 0.3));\n",
              "      fill: #FFFFFF;\n",
              "    }\n",
              "  </style>\n",
              "\n",
              "    <script>\n",
              "      const buttonEl =\n",
              "        document.querySelector('#df-76a05605-2406-4f8a-ab66-bc5ed9347495 button.colab-df-convert');\n",
              "      buttonEl.style.display =\n",
              "        google.colab.kernel.accessAllowed ? 'block' : 'none';\n",
              "\n",
              "      async function convertToInteractive(key) {\n",
              "        const element = document.querySelector('#df-76a05605-2406-4f8a-ab66-bc5ed9347495');\n",
              "        const dataTable =\n",
              "          await google.colab.kernel.invokeFunction('convertToInteractive',\n",
              "                                                    [key], {});\n",
              "        if (!dataTable) return;\n",
              "\n",
              "        const docLinkHtml = 'Like what you see? Visit the ' +\n",
              "          '<a target=\"_blank\" href=https://colab.research.google.com/notebooks/data_table.ipynb>data table notebook</a>'\n",
              "          + ' to learn more about interactive tables.';\n",
              "        element.innerHTML = '';\n",
              "        dataTable['output_type'] = 'display_data';\n",
              "        await google.colab.output.renderOutput(dataTable, element);\n",
              "        const docLink = document.createElement('div');\n",
              "        docLink.innerHTML = docLinkHtml;\n",
              "        element.appendChild(docLink);\n",
              "      }\n",
              "    </script>\n",
              "  </div>\n",
              "\n",
              "\n",
              "    <div id=\"df-b01530a3-e150-4909-b2f2-3f22ca09c85e\">\n",
              "      <button class=\"colab-df-quickchart\" onclick=\"quickchart('df-b01530a3-e150-4909-b2f2-3f22ca09c85e')\"\n",
              "                title=\"Suggest charts\"\n",
              "                style=\"display:none;\">\n",
              "\n",
              "<svg xmlns=\"http://www.w3.org/2000/svg\" height=\"24px\"viewBox=\"0 0 24 24\"\n",
              "     width=\"24px\">\n",
              "    <g>\n",
              "        <path d=\"M19 3H5c-1.1 0-2 .9-2 2v14c0 1.1.9 2 2 2h14c1.1 0 2-.9 2-2V5c0-1.1-.9-2-2-2zM9 17H7v-7h2v7zm4 0h-2V7h2v10zm4 0h-2v-4h2v4z\"/>\n",
              "    </g>\n",
              "</svg>\n",
              "      </button>\n",
              "\n",
              "<style>\n",
              "  .colab-df-quickchart {\n",
              "      --bg-color: #E8F0FE;\n",
              "      --fill-color: #1967D2;\n",
              "      --hover-bg-color: #E2EBFA;\n",
              "      --hover-fill-color: #174EA6;\n",
              "      --disabled-fill-color: #AAA;\n",
              "      --disabled-bg-color: #DDD;\n",
              "  }\n",
              "\n",
              "  [theme=dark] .colab-df-quickchart {\n",
              "      --bg-color: #3B4455;\n",
              "      --fill-color: #D2E3FC;\n",
              "      --hover-bg-color: #434B5C;\n",
              "      --hover-fill-color: #FFFFFF;\n",
              "      --disabled-bg-color: #3B4455;\n",
              "      --disabled-fill-color: #666;\n",
              "  }\n",
              "\n",
              "  .colab-df-quickchart {\n",
              "    background-color: var(--bg-color);\n",
              "    border: none;\n",
              "    border-radius: 50%;\n",
              "    cursor: pointer;\n",
              "    display: none;\n",
              "    fill: var(--fill-color);\n",
              "    height: 32px;\n",
              "    padding: 0;\n",
              "    width: 32px;\n",
              "  }\n",
              "\n",
              "  .colab-df-quickchart:hover {\n",
              "    background-color: var(--hover-bg-color);\n",
              "    box-shadow: 0 1px 2px rgba(60, 64, 67, 0.3), 0 1px 3px 1px rgba(60, 64, 67, 0.15);\n",
              "    fill: var(--button-hover-fill-color);\n",
              "  }\n",
              "\n",
              "  .colab-df-quickchart-complete:disabled,\n",
              "  .colab-df-quickchart-complete:disabled:hover {\n",
              "    background-color: var(--disabled-bg-color);\n",
              "    fill: var(--disabled-fill-color);\n",
              "    box-shadow: none;\n",
              "  }\n",
              "\n",
              "  .colab-df-spinner {\n",
              "    border: 2px solid var(--fill-color);\n",
              "    border-color: transparent;\n",
              "    border-bottom-color: var(--fill-color);\n",
              "    animation:\n",
              "      spin 1s steps(1) infinite;\n",
              "  }\n",
              "\n",
              "  @keyframes spin {\n",
              "    0% {\n",
              "      border-color: transparent;\n",
              "      border-bottom-color: var(--fill-color);\n",
              "      border-left-color: var(--fill-color);\n",
              "    }\n",
              "    20% {\n",
              "      border-color: transparent;\n",
              "      border-left-color: var(--fill-color);\n",
              "      border-top-color: var(--fill-color);\n",
              "    }\n",
              "    30% {\n",
              "      border-color: transparent;\n",
              "      border-left-color: var(--fill-color);\n",
              "      border-top-color: var(--fill-color);\n",
              "      border-right-color: var(--fill-color);\n",
              "    }\n",
              "    40% {\n",
              "      border-color: transparent;\n",
              "      border-right-color: var(--fill-color);\n",
              "      border-top-color: var(--fill-color);\n",
              "    }\n",
              "    60% {\n",
              "      border-color: transparent;\n",
              "      border-right-color: var(--fill-color);\n",
              "    }\n",
              "    80% {\n",
              "      border-color: transparent;\n",
              "      border-right-color: var(--fill-color);\n",
              "      border-bottom-color: var(--fill-color);\n",
              "    }\n",
              "    90% {\n",
              "      border-color: transparent;\n",
              "      border-bottom-color: var(--fill-color);\n",
              "    }\n",
              "  }\n",
              "</style>\n",
              "\n",
              "      <script>\n",
              "        async function quickchart(key) {\n",
              "          const quickchartButtonEl =\n",
              "            document.querySelector('#' + key + ' button');\n",
              "          quickchartButtonEl.disabled = true;  // To prevent multiple clicks.\n",
              "          quickchartButtonEl.classList.add('colab-df-spinner');\n",
              "          try {\n",
              "            const charts = await google.colab.kernel.invokeFunction(\n",
              "                'suggestCharts', [key], {});\n",
              "          } catch (error) {\n",
              "            console.error('Error during call to suggestCharts:', error);\n",
              "          }\n",
              "          quickchartButtonEl.classList.remove('colab-df-spinner');\n",
              "          quickchartButtonEl.classList.add('colab-df-quickchart-complete');\n",
              "        }\n",
              "        (() => {\n",
              "          let quickchartButtonEl =\n",
              "            document.querySelector('#df-b01530a3-e150-4909-b2f2-3f22ca09c85e button');\n",
              "          quickchartButtonEl.style.display =\n",
              "            google.colab.kernel.accessAllowed ? 'block' : 'none';\n",
              "        })();\n",
              "      </script>\n",
              "    </div>\n",
              "\n",
              "    </div>\n",
              "  </div>\n"
            ],
            "text/plain": [
              "   ID                                          Title  \\\n",
              "0   1   Here's the Thing about the M3 Macbook Air...   \n",
              "1   2  15\" MacBook Air M2 Review: The Obvious Thing!   \n",
              "2   3     Apple finally got revenge - MacBook Air M2   \n",
              "3   4    M2 MacBook Air Review: More Than a Refresh!   \n",
              "4   5                    M2 MacBook Air vs. The Rest   \n",
              "\n",
              "                                          transcript  \n",
              "0  Intro\\n(Intro music)\\n- That's crazy that the ...  \n",
              "1  Intro\\n(upbeat music)\\n- What's up?\\nMKBHD her...  \n",
              "2  this is a MacBook Air M1 it's an\\ninteresting ...  \n",
              "3  (upbeat music)\\n- All right, what's up? MKBHD ...  \n",
              "4  i have an interesting story so two years\\n\\nag...  "
            ]
          },
          "execution_count": 99,
          "metadata": {},
          "output_type": "execute_result"
        }
      ],
      "source": [
        "transcripts.head()"
      ]
    },
    {
      "cell_type": "markdown",
      "metadata": {
        "id": "Ur4rJZoJVCEp"
      },
      "source": [
        "We have ten youtube transcritps on Macbook Air by various tech influencers. We are going to use this small dataset as a base to build our model. It is easy to see that the same process we build is scalable to large number of examples."
      ]
    },
    {
      "cell_type": "markdown",
      "metadata": {
        "id": "G2rovmqZXhCP"
      },
      "source": [
        "The product designers have come up with the following set of insights they want to extract from the transcripts.\n",
        "\n",
        "**'Liked Features':** List the features mentioned by the influencer that they liked or appreciated about the Apple laptops.\n",
        "\n",
        "**'Disliked Features':** List the features mentioned by the influencer that they disliked or had issues with about the Apple laptops.\n",
        "\n",
        "**'Future Requirements':** Identify any specific requirements or features that the influencer mentioned they would like to see in future Apple laptops.\n",
        "\n",
        "**'Overall Sentiment':** Identify the overall sentiment of the video. It should be a single word 'positive' or 'negative' or 'neutral'.\n",
        "\n",
        "**'Competitor Mention':** Identify any mentions of competitor laptops (e.g. Dell, HP, Lenovo) made by the influencer in the review.\n",
        "\n",
        "**'Competitor Sentiment':** Determine the sentiment expressed by the influencer towards competitor laptops (positive, negative, neutral).\n",
        "\n",
        "**'Feature Importance':** List down the most important features from top to bottom.\n",
        "\n",
        "**'Summary':** Provide a concise summary of the review, highlighting the key points and takeaways."
      ]
    },
    {
      "cell_type": "markdown",
      "metadata": {
        "id": "NSsLhVuw_pFR"
      },
      "source": [
        "## Step 2 - Create prompts"
      ]
    },
    {
      "cell_type": "code",
      "execution_count": 100,
      "metadata": {
        "id": "6sXawoYF_pFS"
      },
      "outputs": [],
      "source": [
        "user_message_template = \"\"\"```{transcript}```\"\"\""
      ]
    },
    {
      "cell_type": "markdown",
      "metadata": {
        "id": "Qa9mEO2R_pFS"
      },
      "source": [
        "**Zero-shot prompt**"
      ]
    },
    {
      "cell_type": "markdown",
      "metadata": {
        "id": "ILz-kx57qT6N"
      },
      "source": [
        "Let's create a zero shot prompt that extracts the required insights from the transcript.\n",
        "\n",
        "Let's check if we can achieve this with Zero-Shot Prompting."
      ]
    },
    {
      "cell_type": "code",
      "execution_count": 101,
      "metadata": {
        "id": "_2akrkxM_pFT"
      },
      "outputs": [],
      "source": [
        "zero_shot_system_message = \"\"\"You are a product manager reviewing market opinion on your product - Macbook Air.\n",
        "Analyze the provided YouTube transcript of a tech-influencer reviewing Apple laptops. Extract the following information:\n",
        "\n",
        "'Liked Features': List the features mentioned by the influencer that they liked or appreciated about the Apple laptops.\n",
        "'Disliked Features': List the features mentioned by the influencer that they disliked or had issues with about the Apple laptops.\n",
        "'Future Requirements': Identify any specific requirements or features that the influencer mentioned they would like to see in future Apple laptops.\n",
        "'Overall Sentiment': Identify the overall sentiment of the video. It should be a single word 'positive' or 'negative' or 'neutral'.\n",
        "'Competitor Mention': Identify any mentions of competitor laptops (e.g. Dell, HP, Lenovo) made by the influencer in the review.\n",
        "'Competitor Sentiment': Determine the sentiment expressed by the influencer towards competitor laptops (positive, negative, neutral).\n",
        "'Feature Importance': List down the most important features from top to bottom.\n",
        "'Summary': Provide a concise summary of the review, highlighting the key points and takeaways.\n",
        "Output Format:\n",
        "\n",
        "Return the extracted information in a JSON object with the following structure:\n",
        "\n",
        "The output should only have the json output enclosed in '{}'. Do not explain your answer.\n",
        "\n",
        "{\n",
        "  \"Liked Features\": [...],\n",
        "  \"Disliked Features\": [...],\n",
        "  \"Future Requirements\": [...],\n",
        "  \"Overall Sentiment\": \"...\"\n",
        "  \"Competitor Mention\": [...],\n",
        "  \"Competitor Sentiment\": \"...\",\n",
        "  \"Feature Importance\": {...},\n",
        "  \"Summary\": \"...\"\n",
        "}\n",
        "\n",
        "\"\"\""
      ]
    },
    {
      "cell_type": "code",
      "execution_count": 102,
      "metadata": {
        "id": "xE9VBlIL_pFT"
      },
      "outputs": [],
      "source": [
        "zero_shot_prompt = [{'role':'system', 'content': zero_shot_system_message}]"
      ]
    },
    {
      "cell_type": "markdown",
      "metadata": {
        "id": "-jZMRd7o1Yqo"
      },
      "source": [
        "Let's check the number of tokens our zero_shot_prompt takes. We need to keep a check on this to optimise our costs.\n"
      ]
    },
    {
      "cell_type": "code",
      "execution_count": 103,
      "metadata": {
        "colab": {
          "base_uri": "https://localhost:8080/"
        },
        "id": "pGjXndMT_pFT",
        "outputId": "e4c74556-103c-4664-8c25-902135782e38"
      },
      "outputs": [
        {
          "name": "stdout",
          "output_type": "stream",
          "text": [
            "Value is:  system\n",
            "Encoded numbers for system are: [9125]\n",
            "Encoded numbers for \u001b[1msystem\u001b[0m are: [9125]\n",
            "Encoded numbers for 'system' are: [9125]\n",
            "4\n",
            "Value is:  You are a product manager reviewing market opinion on your product - Macbook Air.\n",
            "Analyze the provided YouTube transcript of a tech-influencer reviewing Apple laptops. Extract the following information:\n",
            "\n",
            "'Liked Features': List the features mentioned by the influencer that they liked or appreciated about the Apple laptops.\n",
            "'Disliked Features': List the features mentioned by the influencer that they disliked or had issues with about the Apple laptops.\n",
            "'Future Requirements': Identify any specific requirements or features that the influencer mentioned they would like to see in future Apple laptops.\n",
            "'Overall Sentiment': Identify the overall sentiment of the video. It should be a single word 'positive' or 'negative' or 'neutral'.\n",
            "'Competitor Mention': Identify any mentions of competitor laptops (e.g. Dell, HP, Lenovo) made by the influencer in the review.\n",
            "'Competitor Sentiment': Determine the sentiment expressed by the influencer towards competitor laptops (positive, negative, neutral).\n",
            "'Feature Importance': List down the most important features from top to bottom.\n",
            "'Summary': Provide a concise summary of the review, highlighting the key points and takeaways.\n",
            "Output Format:\n",
            "\n",
            "Return the extracted information in a JSON object with the following structure:\n",
            "\n",
            "The output should only have the json output enclosed in '{}'. Do not explain your answer.\n",
            "\n",
            "{\n",
            "  \"Liked Features\": [...],\n",
            "  \"Disliked Features\": [...],\n",
            "  \"Future Requirements\": [...],\n",
            "  \"Overall Sentiment\": \"...\"\n",
            "  \"Competitor Mention\": [...],\n",
            "  \"Competitor Sentiment\": \"...\",\n",
            "  \"Feature Importance\": {...},\n",
            "  \"Summary\": \"...\"\n",
            "}\n",
            "\n",
            "\n",
            "Encoded numbers for You are a product manager reviewing market opinion on your product - Macbook Air.\n",
            "Analyze the provided YouTube transcript of a tech-influencer reviewing Apple laptops. Extract the following information:\n",
            "\n",
            "'Liked Features': List the features mentioned by the influencer that they liked or appreciated about the Apple laptops.\n",
            "'Disliked Features': List the features mentioned by the influencer that they disliked or had issues with about the Apple laptops.\n",
            "'Future Requirements': Identify any specific requirements or features that the influencer mentioned they would like to see in future Apple laptops.\n",
            "'Overall Sentiment': Identify the overall sentiment of the video. It should be a single word 'positive' or 'negative' or 'neutral'.\n",
            "'Competitor Mention': Identify any mentions of competitor laptops (e.g. Dell, HP, Lenovo) made by the influencer in the review.\n",
            "'Competitor Sentiment': Determine the sentiment expressed by the influencer towards competitor laptops (positive, negative, neutral).\n",
            "'Feature Importance': List down the most important features from top to bottom.\n",
            "'Summary': Provide a concise summary of the review, highlighting the key points and takeaways.\n",
            "Output Format:\n",
            "\n",
            "Return the extracted information in a JSON object with the following structure:\n",
            "\n",
            "The output should only have the json output enclosed in '{}'. Do not explain your answer.\n",
            "\n",
            "{\n",
            "  \"Liked Features\": [...],\n",
            "  \"Disliked Features\": [...],\n",
            "  \"Future Requirements\": [...],\n",
            "  \"Overall Sentiment\": \"...\"\n",
            "  \"Competitor Mention\": [...],\n",
            "  \"Competitor Sentiment\": \"...\",\n",
            "  \"Feature Importance\": {...},\n",
            "  \"Summary\": \"...\"\n",
            "}\n",
            "\n",
            " are: [2675, 527, 264, 2027, 6783, 34988, 3157, 9647, 389, 701, 2027, 482, 7553, 2239, 6690, 627, 2127, 56956, 279, 3984, 13674, 36815, 315, 264, 13312, 3502, 27256, 20099, 34988, 8325, 48985, 13, 23673, 279, 2768, 2038, 1473, 6, 77668, 20289, 1232, 1796, 279, 4519, 9932, 555, 279, 6791, 20099, 430, 814, 15262, 477, 26893, 922, 279, 8325, 48985, 627, 28805, 285, 44336, 20289, 1232, 1796, 279, 4519, 9932, 555, 279, 6791, 20099, 430, 814, 99733, 477, 1047, 4819, 449, 922, 279, 8325, 48985, 627, 6, 25184, 34884, 1232, 65647, 904, 3230, 8670, 477, 4519, 430, 279, 6791, 20099, 9932, 814, 1053, 1093, 311, 1518, 304, 3938, 8325, 48985, 627, 6, 28589, 24248, 3904, 1232, 65647, 279, 8244, 27065, 315, 279, 2835, 13, 1102, 1288, 387, 264, 3254, 3492, 364, 31587, 6, 477, 364, 43324, 6, 477, 364, 60668, 24482, 6, 76139, 1960, 86248, 1232, 65647, 904, 34945, 315, 43940, 48985, 320, 68, 1326, 13, 39424, 11, 12478, 11, 64799, 8, 1903, 555, 279, 6791, 20099, 304, 279, 3477, 627, 6, 76139, 1960, 24248, 3904, 1232, 31001, 279, 27065, 13605, 555, 279, 6791, 20099, 7119, 43940, 48985, 320, 31587, 11, 8389, 11, 21277, 4390, 6, 14180, 94100, 1232, 1796, 1523, 279, 1455, 3062, 4519, 505, 1948, 311, 5740, 627, 13575, 372, 1563, 1232, 40665, 264, 64694, 12399, 315, 279, 3477, 11, 39686, 279, 1401, 3585, 323, 1935, 40690, 627, 5207, 15392, 1473, 5715, 279, 28532, 2038, 304, 264, 4823, 1665, 449, 279, 2768, 6070, 1473, 791, 2612, 1288, 1193, 617, 279, 3024, 2612, 44910, 304, 34012, 4527, 3234, 539, 10552, 701, 4320, 382, 517, 220, 330, 77668, 20289, 794, 16702, 1282, 220, 330, 4944, 44336, 20289, 794, 16702, 1282, 220, 330, 25184, 34884, 794, 16702, 1282, 220, 330, 28589, 24248, 3904, 794, 330, 31538, 220, 330, 76139, 1960, 86248, 794, 16702, 1282, 220, 330, 76139, 1960, 24248, 3904, 794, 39813, 761, 220, 330, 14180, 94100, 794, 15263, 1613, 220, 330, 19791, 794, 330, 31538, 633]\n",
            "Encoded numbers for \u001b[1mYou are a product manager reviewing market opinion on your product - Macbook Air.\n",
            "Analyze the provided YouTube transcript of a tech-influencer reviewing Apple laptops. Extract the following information:\n",
            "\n",
            "'Liked Features': List the features mentioned by the influencer that they liked or appreciated about the Apple laptops.\n",
            "'Disliked Features': List the features mentioned by the influencer that they disliked or had issues with about the Apple laptops.\n",
            "'Future Requirements': Identify any specific requirements or features that the influencer mentioned they would like to see in future Apple laptops.\n",
            "'Overall Sentiment': Identify the overall sentiment of the video. It should be a single word 'positive' or 'negative' or 'neutral'.\n",
            "'Competitor Mention': Identify any mentions of competitor laptops (e.g. Dell, HP, Lenovo) made by the influencer in the review.\n",
            "'Competitor Sentiment': Determine the sentiment expressed by the influencer towards competitor laptops (positive, negative, neutral).\n",
            "'Feature Importance': List down the most important features from top to bottom.\n",
            "'Summary': Provide a concise summary of the review, highlighting the key points and takeaways.\n",
            "Output Format:\n",
            "\n",
            "Return the extracted information in a JSON object with the following structure:\n",
            "\n",
            "The output should only have the json output enclosed in '{}'. Do not explain your answer.\n",
            "\n",
            "{\n",
            "  \"Liked Features\": [...],\n",
            "  \"Disliked Features\": [...],\n",
            "  \"Future Requirements\": [...],\n",
            "  \"Overall Sentiment\": \"...\"\n",
            "  \"Competitor Mention\": [...],\n",
            "  \"Competitor Sentiment\": \"...\",\n",
            "  \"Feature Importance\": {...},\n",
            "  \"Summary\": \"...\"\n",
            "}\n",
            "\n",
            "\u001b[0m are: [2675, 527, 264, 2027, 6783, 34988, 3157, 9647, 389, 701, 2027, 482, 7553, 2239, 6690, 627, 2127, 56956, 279, 3984, 13674, 36815, 315, 264, 13312, 3502, 27256, 20099, 34988, 8325, 48985, 13, 23673, 279, 2768, 2038, 1473, 6, 77668, 20289, 1232, 1796, 279, 4519, 9932, 555, 279, 6791, 20099, 430, 814, 15262, 477, 26893, 922, 279, 8325, 48985, 627, 28805, 285, 44336, 20289, 1232, 1796, 279, 4519, 9932, 555, 279, 6791, 20099, 430, 814, 99733, 477, 1047, 4819, 449, 922, 279, 8325, 48985, 627, 6, 25184, 34884, 1232, 65647, 904, 3230, 8670, 477, 4519, 430, 279, 6791, 20099, 9932, 814, 1053, 1093, 311, 1518, 304, 3938, 8325, 48985, 627, 6, 28589, 24248, 3904, 1232, 65647, 279, 8244, 27065, 315, 279, 2835, 13, 1102, 1288, 387, 264, 3254, 3492, 364, 31587, 6, 477, 364, 43324, 6, 477, 364, 60668, 24482, 6, 76139, 1960, 86248, 1232, 65647, 904, 34945, 315, 43940, 48985, 320, 68, 1326, 13, 39424, 11, 12478, 11, 64799, 8, 1903, 555, 279, 6791, 20099, 304, 279, 3477, 627, 6, 76139, 1960, 24248, 3904, 1232, 31001, 279, 27065, 13605, 555, 279, 6791, 20099, 7119, 43940, 48985, 320, 31587, 11, 8389, 11, 21277, 4390, 6, 14180, 94100, 1232, 1796, 1523, 279, 1455, 3062, 4519, 505, 1948, 311, 5740, 627, 13575, 372, 1563, 1232, 40665, 264, 64694, 12399, 315, 279, 3477, 11, 39686, 279, 1401, 3585, 323, 1935, 40690, 627, 5207, 15392, 1473, 5715, 279, 28532, 2038, 304, 264, 4823, 1665, 449, 279, 2768, 6070, 1473, 791, 2612, 1288, 1193, 617, 279, 3024, 2612, 44910, 304, 34012, 4527, 3234, 539, 10552, 701, 4320, 382, 517, 220, 330, 77668, 20289, 794, 16702, 1282, 220, 330, 4944, 44336, 20289, 794, 16702, 1282, 220, 330, 25184, 34884, 794, 16702, 1282, 220, 330, 28589, 24248, 3904, 794, 330, 31538, 220, 330, 76139, 1960, 86248, 794, 16702, 1282, 220, 330, 76139, 1960, 24248, 3904, 794, 39813, 761, 220, 330, 14180, 94100, 794, 15263, 1613, 220, 330, 19791, 794, 330, 31538, 633]\n",
            "Encoded numbers for 'You are a product manager reviewing market opinion on your product - Macbook Air.\n",
            "Analyze the provided YouTube transcript of a tech-influencer reviewing Apple laptops. Extract the following information:\n",
            "\n",
            "'Liked Features': List the features mentioned by the influencer that they liked or appreciated about the Apple laptops.\n",
            "'Disliked Features': List the features mentioned by the influencer that they disliked or had issues with about the Apple laptops.\n",
            "'Future Requirements': Identify any specific requirements or features that the influencer mentioned they would like to see in future Apple laptops.\n",
            "'Overall Sentiment': Identify the overall sentiment of the video. It should be a single word 'positive' or 'negative' or 'neutral'.\n",
            "'Competitor Mention': Identify any mentions of competitor laptops (e.g. Dell, HP, Lenovo) made by the influencer in the review.\n",
            "'Competitor Sentiment': Determine the sentiment expressed by the influencer towards competitor laptops (positive, negative, neutral).\n",
            "'Feature Importance': List down the most important features from top to bottom.\n",
            "'Summary': Provide a concise summary of the review, highlighting the key points and takeaways.\n",
            "Output Format:\n",
            "\n",
            "Return the extracted information in a JSON object with the following structure:\n",
            "\n",
            "The output should only have the json output enclosed in '{}'. Do not explain your answer.\n",
            "\n",
            "{\n",
            "  \"Liked Features\": [...],\n",
            "  \"Disliked Features\": [...],\n",
            "  \"Future Requirements\": [...],\n",
            "  \"Overall Sentiment\": \"...\"\n",
            "  \"Competitor Mention\": [...],\n",
            "  \"Competitor Sentiment\": \"...\",\n",
            "  \"Feature Importance\": {...},\n",
            "  \"Summary\": \"...\"\n",
            "}\n",
            "\n",
            "' are: [2675, 527, 264, 2027, 6783, 34988, 3157, 9647, 389, 701, 2027, 482, 7553, 2239, 6690, 627, 2127, 56956, 279, 3984, 13674, 36815, 315, 264, 13312, 3502, 27256, 20099, 34988, 8325, 48985, 13, 23673, 279, 2768, 2038, 1473, 6, 77668, 20289, 1232, 1796, 279, 4519, 9932, 555, 279, 6791, 20099, 430, 814, 15262, 477, 26893, 922, 279, 8325, 48985, 627, 28805, 285, 44336, 20289, 1232, 1796, 279, 4519, 9932, 555, 279, 6791, 20099, 430, 814, 99733, 477, 1047, 4819, 449, 922, 279, 8325, 48985, 627, 6, 25184, 34884, 1232, 65647, 904, 3230, 8670, 477, 4519, 430, 279, 6791, 20099, 9932, 814, 1053, 1093, 311, 1518, 304, 3938, 8325, 48985, 627, 6, 28589, 24248, 3904, 1232, 65647, 279, 8244, 27065, 315, 279, 2835, 13, 1102, 1288, 387, 264, 3254, 3492, 364, 31587, 6, 477, 364, 43324, 6, 477, 364, 60668, 24482, 6, 76139, 1960, 86248, 1232, 65647, 904, 34945, 315, 43940, 48985, 320, 68, 1326, 13, 39424, 11, 12478, 11, 64799, 8, 1903, 555, 279, 6791, 20099, 304, 279, 3477, 627, 6, 76139, 1960, 24248, 3904, 1232, 31001, 279, 27065, 13605, 555, 279, 6791, 20099, 7119, 43940, 48985, 320, 31587, 11, 8389, 11, 21277, 4390, 6, 14180, 94100, 1232, 1796, 1523, 279, 1455, 3062, 4519, 505, 1948, 311, 5740, 627, 13575, 372, 1563, 1232, 40665, 264, 64694, 12399, 315, 279, 3477, 11, 39686, 279, 1401, 3585, 323, 1935, 40690, 627, 5207, 15392, 1473, 5715, 279, 28532, 2038, 304, 264, 4823, 1665, 449, 279, 2768, 6070, 1473, 791, 2612, 1288, 1193, 617, 279, 3024, 2612, 44910, 304, 34012, 4527, 3234, 539, 10552, 701, 4320, 382, 517, 220, 330, 77668, 20289, 794, 16702, 1282, 220, 330, 4944, 44336, 20289, 794, 16702, 1282, 220, 330, 25184, 34884, 794, 16702, 1282, 220, 330, 28589, 24248, 3904, 794, 330, 31538, 220, 330, 76139, 1960, 86248, 794, 16702, 1282, 220, 330, 76139, 1960, 24248, 3904, 794, 39813, 761, 220, 330, 14180, 94100, 794, 15263, 1613, 220, 330, 19791, 794, 330, 31538, 633]\n",
            "328\n"
          ]
        },
        {
          "data": {
            "text/plain": [
              "331"
            ]
          },
          "execution_count": 103,
          "metadata": {},
          "output_type": "execute_result"
        }
      ],
      "source": [
        "num_tokens_from_messages(zero_shot_prompt)"
      ]
    },
    {
      "cell_type": "code",
      "execution_count": 104,
      "metadata": {
        "colab": {
          "base_uri": "https://localhost:8080/"
        },
        "id": "bnrz58rtYqgY",
        "outputId": "6c84abc5-0992-416c-dfb9-0cfe2c86b4a4"
      },
      "outputs": [
        {
          "name": "stdout",
          "output_type": "stream",
          "text": [
            "[{'role': 'system', 'content': 'You are a product manager reviewing market opinion on your product - Macbook Air.\\nAnalyze the provided YouTube transcript of a tech-influencer reviewing Apple laptops. Extract the following information:\\n\\n\\'Liked Features\\': List the features mentioned by the influencer that they liked or appreciated about the Apple laptops.\\n\\'Disliked Features\\': List the features mentioned by the influencer that they disliked or had issues with about the Apple laptops.\\n\\'Future Requirements\\': Identify any specific requirements or features that the influencer mentioned they would like to see in future Apple laptops.\\n\\'Overall Sentiment\\': Identify the overall sentiment of the video. It should be a single word \\'positive\\' or \\'negative\\' or \\'neutral\\'.\\n\\'Competitor Mention\\': Identify any mentions of competitor laptops (e.g. Dell, HP, Lenovo) made by the influencer in the review.\\n\\'Competitor Sentiment\\': Determine the sentiment expressed by the influencer towards competitor laptops (positive, negative, neutral).\\n\\'Feature Importance\\': List down the most important features from top to bottom.\\n\\'Summary\\': Provide a concise summary of the review, highlighting the key points and takeaways.\\nOutput Format:\\n\\nReturn the extracted information in a JSON object with the following structure:\\n\\nThe output should only have the json output enclosed in \\'{}\\'. Do not explain your answer.\\n\\n{\\n  \"Liked Features\": [...],\\n  \"Disliked Features\": [...],\\n  \"Future Requirements\": [...],\\n  \"Overall Sentiment\": \"...\"\\n  \"Competitor Mention\": [...],\\n  \"Competitor Sentiment\": \"...\",\\n  \"Feature Importance\": {...},\\n  \"Summary\": \"...\"\\n}\\n\\n'}, {'role': 'user', 'content': \"Intro\\n(Intro music)\\n- That's crazy that the most interesting things\\nabout this new laptop are the reasons not to buy it.\\nSo the MacBook Air just got refreshed.\\nIt's a pretty simple update, maybe a boring one actually.\\nWhats New\\nThere's really only two things new.\\nIt has this new anodization on the outside,\\napparently a slightly more fingerprint resistant look to it.\\nAnd it has the new M3 chip inside.\\nSo the coating, I don't know,\\nit barely makes a difference if I'm being honest.\\nIt still gets fingerprints if you handle it regularly\\nwithout a skin or a case.\\nI would much rather depend on something like a skin\\nfrom channel sponsor Dbrand.\\nIt lets you break out from one of the three\\nreally simple colors and it's gonna hide fingerprints\\na million times better than any metal treatment ever could.\\nPlus these are real leather,\\nso they have a nice plush texture\\nand it'll patina over time.\\nSo I'll leave a link to this one below.\\nBut the other new thing is this M3 chip inside.\\nSo we've seen this M3 chip before, this is what Apple does.\\nThey put the same chip everywhere.\\nThis came out in October of last year\\nand they immediately put it in the new iMac.\\nAnd then we also got a new MacBook Pro that launched\\nwith this and the M3 PRO and the M3 Max.\\nSo okay, new M3 Apple silicon, third generation, great.\\nSo now we're finally getting this new base M3 chip\\nin the new MacBook Air, side note, why does it take so long?\\nI don't know, it feels like Apple kind of staggers it\\nprobably on purpose, but like it's the same chip everywhere.\\nThey've done the iMac, they've done the MacBook Pro\\nand MacBook Air, but the Mac Mini just staying\\non M2, kind of weird.\\nAlso the new iPad Pro still on M2.\\nWhen's that gonna get it?\\nAnyway, you already know that the MacBook Air\\nis the most popular Mac for a reason.\\nThis is the base like entry level Mac\\nthat most people are seeing\\nas the way to get into the Mac world.\\nAnd so the base MacBook Air has typically been one\\nof the easiest to recommend laptops in the world by design.\\nBut this one, interestingly, for two reasons, isn't.\\nPerformance\\nNow, this has nothing to do with performance of M3\\nor anything weird like that.\\nLike it's the performance you were expecting.\\nIf you look at benchmarks, it's right around that 10\\nto 20% improvement over M2\\ndepending on what you're doing.\\nDefinitely leans heavier\\non graphics improvements this generation.\\nAnd there's the rate tracing now finally.\\nSo any applications\\nor rendering that are taken advantage of that,\\nthat's gonna be a noticeable improvement for M3.\\nAnd it's clearly a more capable chip.\\nAnd also MacBook Airs, especially the 15 inch,\\njust constantly get great battery life across the board.\\nYou also get now dual external display support\\nwith the lid closed,\\nbut one external display with the laptop open.\\nAnd it also appears\\nthat the base storage on M3 is much improved.\\nSo this was one of those concerns from,\\nif you look back at M2,\\nyou know obviously Apple seeds reviewers\\nwith higher end MacBooks, so most of us aren't getting that.\\nBut if you look back at M2\\nthe base 256 gig model used a single SSD module instead\\nof two SSDs.\\nLong story short, that storage module was way slower\\nthan M1, like 50% slower on paper.\\nWould you have noticed if nobody told you\\nand had never benchmarked it?\\nMaybe, possibly not,\\nbut obviously it's a bummer having way slower storage\\non a new M2 and that extra time transferring large files,\\nthat adds up over time.\\nSo I'm happy to report that I've seen really good benchmarks\\non the base storage of the M3 Air.\\nIt appears that they fixed it, awesome.\\nSo what's the deal with this M3 Air then?\\nWhy am I saying it's not necessarily\\nthe best recommendation?\\nWell, historically, MacBook Air has been super easy\\nto recommend, but with this M3,\\nthey also lowered the price of M2 by a hundred bucks\\nand discontinued the M1.\\nPrice\\nSo now the lineup is M3 MacBook Air starts at 1099,\\nthen M2 MacBook Air starts at 999\\nand then M1, it's kind of gone from Apple,\\nbut you can still find stock\\nthat's left at like Walmart or Best Buy.\\nNow the thing about the MacBook Air being easy\\nto recommend is we're talking about regular people,\\nwhich it's very light, regular,\\nnormal usage like web browsing, listening to music, a bunch\\nof tabs open, work stuff, occasionally compiling\\nor rendering some small things, photo editing\\nand chopping a video or two sometimes,\\nbut really very light.\\nSo these people, like type of people\\nwho would buy a laptop at Walmart would be totally fine\\nwith the cheaper identical looking MacBook Air\\nwith the slightly slower M2 chip and slower storage.\\nI think they would be totally fine.\\nBut the other thing which I need to talk about\\nBase spec\\nis this whole base spec thing.\\nThis is not exactly new to the industry, but the base price\\nand the base spec has almost become like this weird fallacy.\\nLike I think it was Linus who did a video\\nabout how starting at is like the biggest lie in tech.\\nAnd he's right, it's not just tech,\\nlike the car industry does it all the time too.\\nStarting at, you know, this super low price,\\nbut nobody actually gets it at that price.\\nYou're not gonna get a totally bare base model car.\\nThe base price is really more to give you an idea\\nof how much you're about to spend\\nwhen you actually option it up the way you want to.\\nAnd the issue with these is Apple's markup prices\\nfor above base spec is crazy high.\\nApple markup\\nLike Apple charges way too much for the most basic upgrades.\\nObviously Apple Silicon computers are all a system\\non a chip, so they cannot be upgraded ever\\nafter you buy them, right?\\nSo once you buy it, you know, you're kind\\nof incentivized if you're gonna keep it for a long time\\nto splurge a little bit\\nand give yourself some extra headroom and future proof it\\nand bump up that spec.\\nBut Apple charges so much for bumping up that spec\\nthat the base price feels like kind of even more\\nof a lie than usual.\\nSo the MacBook Air starts in 2024,\\nagain, at eight gigs of shared RAM and 256 gigs of storage.\\nNow, ignoring the fact that the phone I'm using also has\\nmore than eight gigs of RAM\\nand 256 gigs of storage, if you want to upgrade to 16 gigs\\nof memory, the first available RAM upgrade, that's $200.\\nAnd if you wanna bump up to just the half a terabyte\\nof storage, that's another 200 more dollars.\\nCompared to to how much that actually costs Apple,\\nespecially at the scale that they're operating,\\nthat is just crazy, brutal, ridiculous pricing.\\nSo even if you do just that,\\nsuddenly the MacBook Air M3 is $1,500.\\nSo either you're cool with knowing you're actually buying\\na 1500 plus dollars MacBook Air or the real question is,\\nis the base spec in 2024 actually usable?\\nConclusion\\nAnd my take is actually sometimes yes, sometimes yes.\\nSo again, if you're the people I talked about earlier,\\nyou're you're buying a laptop from the showcase at Walmart\\nor Best Buy, you just need it to do the basic stuff\\nI mentioned earlier,\\nyou actually can do that with eight gigs\\nof shared memory, no problem.\\nThis might seem like a hot take,\\nbut I've spent a lot of time doing this stuff.\\nYou rarely actually get close to hitting the max\\nand hitting memory swap.\\nAnd even when you do, it's very much still fine.\\nIt's when you get into the heavier stuff like media encoding\\nor exporting or gaming that it's a whole nother story.\\nSo if you're watching this video,\\nyou already know which group of people you're in.\\nSo for that massive group of people who are doing a lot of\\nthat normal, baseline computing stuff,\\ndon't buy the new M3 MacBook Air.\\nYou can very easily get an M2 MacBook Air\\nand save your money.\\nMatter of fact, if you don't need the brighter display,\\nthe MagSafe, the external display support,\\nwhich you probably don't at this rate,\\nit's also a great idea to look into Best Buy\\nor Walmart's like six, $700 M1 MacBook Airs\\nthat they're selling right now.\\nI think Walmart first announced they would have it for 699\\nand then a few days later Best Buy announced\\nthat they'd sell it for 649, which is pretty sick.\\nSo clearly M3 is a much more capable overall chip\\nand brings the floor of a laptop up.\\nBut the way I see it, what Apple silicon has done\\nto Apple's lineup is it's brought down the minimum level\\nof machine that you can get away with doing your workflow.\\nDoes that make sense?\\nSo like me, I edit a lot of videos\\nand so I need a powerful machine for Final Cut Pro\\nand that sort of stuff, right?\\nSo for the longest time I could only use an Apple Desktop,\\nthe highest end iMac Pro, the Mac Pro, and I still will,\\nbut I am now able to use Mac Studio and I can actually edit.\\nI've had an M1 Max MacBook Pro for a while\\nand I've been editing on the go with a laptop,\\nwhich is a huge like enabler for me.\\nAnd the same sort of thing applies if you're doing like\\ngaming stuff or if you have a whole bunch of coding\\nand heavy, maybe even just encoding photos\\nor whatever you're doing at that level,\\nyou'd typically rely on a MacBook Pro.\\nBut with these new chips and with Apple silicon,\\nyou can do that on a high-end MacBook Air, which is again,\\na pretty sweet enabler.\\nSo that's what the new M3 MacBook Air is.\\nIf you do that sort of stuff, it's an amazing computer.\\nIt should be on your shortlist.\\nGreat all around, easy to recommend.\\nBut again, if you're doing the lightweight, normal stuff\\nand you need a MacBook Air, don't get this one.\\nGet the cheaper one.\\nOkay, that's it.\\nThanks for watching.\\nCatch you guys the next one, peace.\\n♪ It's the money, it's it's the money, it's the money♪\"}]\n"
          ]
        }
      ],
      "source": [
        "messages=[\n",
        "    {\"role\": \"system\", \"content\": zero_shot_system_message},\n",
        "    {\"role\": \"user\", \"content\": transcripts.transcript[0]}\n",
        "]\n",
        "print(messages)"
      ]
    },
    {
      "cell_type": "markdown",
      "metadata": {
        "id": "zmMascPqpY27"
      },
      "source": [
        "Let's test our prompt with a single example. If it turns out successful, we can run it through all the transcripts."
      ]
    },
    {
      "cell_type": "code",
      "execution_count": 105,
      "metadata": {
        "id": "YqM8C6EdYCKs"
      },
      "outputs": [],
      "source": [
        "response = client.chat.completions.create(\n",
        "    model=model_name,\n",
        "    messages=[\n",
        "        {\"role\": \"system\", \"content\": zero_shot_system_message},\n",
        "        {\"role\": \"user\", \"content\": transcripts.transcript[0]}\n",
        "    ],\n",
        "\n",
        "    response_format = {\"type\": \"json_object\"}\n",
        "    # Setting response format to json makes the LLM produce JSON objects and makes processing complex LLM outputs easy.\n",
        "    # This is an option available only for mistral models\n",
        ")"
      ]
    },
    {
      "cell_type": "code",
      "execution_count": 106,
      "metadata": {
        "colab": {
          "base_uri": "https://localhost:8080/"
        },
        "id": "RDKtNAzbZTkK",
        "outputId": "e7a5d0ee-8634-4069-fb9e-40aef918f51b"
      },
      "outputs": [
        {
          "name": "stdout",
          "output_type": "stream",
          "text": [
            "{\n",
            "  \"Liked Features\": [\"New M3 chip performance\", \"Improved battery life\", \"Dual external display support\", \"Improved base storage\"],\n",
            "  \"Disliked Features\": [\"Higher pricing for upgrades\", \"Base spec starting prices can be misleading\", \"Limited need for M3 chip for basic users\"],\n",
            "  \"Future Requirements\": [\"Lower pricing for upgrades\", \"Clarity on base spec pricing\"],\n",
            "  \"Overall Sentiment\": \"Neutral\",\n",
            "  \"Competitor Mention\": [\"Dell\", \"HP\", \"Lenovo\"],\n",
            "  \"Competitor Sentiment\": \"Neutral\",\n",
            "  \"Feature Importance\": {\n",
            "    \"Performance\": 4,\n",
            "    \"Price\": 3,\n",
            "    \"Storage\": 2,\n",
            "    \"Design\": 1\n",
            "  },\n",
            "  \"Summary\": \"The influencer appreciates the performance of the new M3 chip in the MacBook Air, along with improved battery life, dual external display support, and base storage. However, they express concerns about the higher pricing for upgrades, misleading base spec starting prices, and the limited need for the M3 chip for basic users. They suggest lower pricing for upgrades and more clarity on base spec pricing for future models.\"\n",
            "}\n"
          ]
        }
      ],
      "source": [
        "print(response.choices[0].message.content)"
      ]
    },
    {
      "cell_type": "markdown",
      "metadata": {
        "id": "Z7l1WCCmpmUe"
      },
      "source": [
        "Great! It works smoothly and is producing the output in the required format. We can go ahead and scale the process to all the examples."
      ]
    },
    {
      "cell_type": "code",
      "execution_count": 107,
      "metadata": {
        "id": "Ydi62b8cj-dV"
      },
      "outputs": [],
      "source": [
        "def json_to_dataframe(transcripts, client, model_name, zero_shot_system_message):\n",
        "\n",
        "    \"\"\"\n",
        "    Converts transcripts into a DataFrame by utilizing a language model to generate JSON responses.\n",
        "\n",
        "    Args:\n",
        "        transcripts (DataFrame): DataFrame containing transcripts.\n",
        "        client: Object representing the OpenAI API client.\n",
        "        model_name (str): Name of the language model to use for response generation.\n",
        "        zero_shot_system_message (str): System message for zero-shot learning.\n",
        "\n",
        "    Returns:\n",
        "        DataFrame: DataFrame containing JSON responses generated from the transcripts.\n",
        "    \"\"\"\n",
        "    # Initialize an empty list to store the JSON responses\n",
        "    json_responses = []\n",
        "\n",
        "    # Iterate over the transcripts in the DataFrame\n",
        "    for transcript in transcripts['transcript']:\n",
        "        # Create the messages list\n",
        "        messages = [\n",
        "            {\"role\": \"system\", \"content\": zero_shot_system_message},\n",
        "            {\"role\": \"user\", \"content\": transcript}\n",
        "        ]\n",
        "\n",
        "        # Get the chat completion\n",
        "        response = client.chat.completions.create(\n",
        "            model=model_name,\n",
        "            messages=messages,\n",
        "            response_format = {\"type\": \"json_object\"},\n",
        "            temperature = 0\n",
        "        )\n",
        "        # print(response.choices[0].message.content) # uncomment to check the response of the LLM individually for each transcript.\n",
        "        response = json.loads(response.choices[0].message.content.strip())\n",
        "        # Add the JSON response to the list\n",
        "        json_responses.append(response)\n",
        "\n",
        "    # Convert the list of JSON responses to a DataFrame\n",
        "    json_df = pd.DataFrame(json_responses)\n",
        "\n",
        "    return json_df"
      ]
    },
    {
      "cell_type": "code",
      "execution_count": 111,
      "metadata": {
        "colab": {
          "base_uri": "https://localhost:8080/"
        },
        "id": "OnbqWtu86WSG",
        "outputId": "122e81d9-6127-46aa-d660-16a04384b99c"
      },
      "outputs": [
        {
          "data": {
            "text/plain": [
              "(10, 3)"
            ]
          },
          "execution_count": 111,
          "metadata": {},
          "output_type": "execute_result"
        }
      ],
      "source": [
        "transcripts.shape"
      ]
    },
    {
      "cell_type": "code",
      "execution_count": 108,
      "metadata": {
        "id": "cluQobOVkgG0"
      },
      "outputs": [],
      "source": [
        "final = json_to_dataframe(transcripts,client,model_name, zero_shot_system_message)"
      ]
    },
    {
      "cell_type": "markdown",
      "metadata": {
        "id": "rwEuRNw2v3FS"
      },
      "source": [
        "Let's check the dataframe created from LLM outputs."
      ]
    },
    {
      "cell_type": "code",
      "execution_count": 110,
      "metadata": {
        "colab": {
          "base_uri": "https://localhost:8080/",
          "height": 784
        },
        "id": "UhyrQrfamuTd",
        "outputId": "8a819328-37c7-421f-aa24-e979c949ee6e"
      },
      "outputs": [
        {
          "data": {
            "application/vnd.google.colaboratory.intrinsic+json": {
              "summary": "{\n  \"name\": \"final\",\n  \"rows\": 10,\n  \"fields\": [\n    {\n      \"column\": \"Liked Features\",\n      \"properties\": {\n        \"dtype\": \"object\",\n        \"semantic_type\": \"\",\n        \"description\": \"\"\n      }\n    },\n    {\n      \"column\": \"Disliked Features\",\n      \"properties\": {\n        \"dtype\": \"object\",\n        \"semantic_type\": \"\",\n        \"description\": \"\"\n      }\n    },\n    {\n      \"column\": \"Future Requirements\",\n      \"properties\": {\n        \"dtype\": \"object\",\n        \"semantic_type\": \"\",\n        \"description\": \"\"\n      }\n    },\n    {\n      \"column\": \"Overall Sentiment\",\n      \"properties\": {\n        \"dtype\": \"category\",\n        \"num_unique_values\": 3,\n        \"samples\": [\n          \"Neutral\",\n          \"positive\",\n          \"Positive\"\n        ],\n        \"semantic_type\": \"\",\n        \"description\": \"\"\n      }\n    },\n    {\n      \"column\": \"Competitor Mention\",\n      \"properties\": {\n        \"dtype\": \"object\",\n        \"semantic_type\": \"\",\n        \"description\": \"\"\n      }\n    },\n    {\n      \"column\": \"Competitor Sentiment\",\n      \"properties\": {\n        \"dtype\": \"category\",\n        \"num_unique_values\": 2,\n        \"samples\": [\n          \"neutral\",\n          \"Neutral\"\n        ],\n        \"semantic_type\": \"\",\n        \"description\": \"\"\n      }\n    },\n    {\n      \"column\": \"Feature Importance\",\n      \"properties\": {\n        \"dtype\": \"object\",\n        \"semantic_type\": \"\",\n        \"description\": \"\"\n      }\n    },\n    {\n      \"column\": \"Summary\",\n      \"properties\": {\n        \"dtype\": \"string\",\n        \"num_unique_values\": 10,\n        \"samples\": [\n          \"The influencer had a positive overall sentiment towards the M2 MacBook Air, appreciating its design, battery life, portability, and key features like the MagSafe charging port and full row of function keys. They highlighted the limitations of the base model under heavy load due to 8GB RAM and thermal issues. The influencer recommended the MacBook Pro for heavier tasks. Additionally, they praised the uPDF PDF editing tool. Future requirements include improved durability, better external display support, enhanced speakers, addressing thermal limitations, and offering higher RAM configurations.\",\n          \"The influencer positively reviewed the 15-inch MacBook Air, highlighting its bigger screen, slightly bigger trackpad, additional speakers for louder sound, good battery life, and impressive performance from the M2 chip. They also appreciated the color matching braided MagSafe cable and ecosystem integration with Apple devices. However, they noted that the price could quickly increase with upgrades and highlighted the notable price difference compared to some Windows laptops. The influencer mentioned a potential requirement for better thermal management for sustained workloads in future models. Overall, the review was positive, with neutral mentions of competitors like XPF 15 and ROG Zephyrus.\"\n        ],\n        \"semantic_type\": \"\",\n        \"description\": \"\"\n      }\n    }\n  ]\n}",
              "type": "dataframe",
              "variable_name": "final"
            },
            "text/html": [
              "\n",
              "  <div id=\"df-a3fcc61d-900a-43f4-9e18-373b747fa10c\" class=\"colab-df-container\">\n",
              "    <div>\n",
              "<style scoped>\n",
              "    .dataframe tbody tr th:only-of-type {\n",
              "        vertical-align: middle;\n",
              "    }\n",
              "\n",
              "    .dataframe tbody tr th {\n",
              "        vertical-align: top;\n",
              "    }\n",
              "\n",
              "    .dataframe thead th {\n",
              "        text-align: right;\n",
              "    }\n",
              "</style>\n",
              "<table border=\"1\" class=\"dataframe\">\n",
              "  <thead>\n",
              "    <tr style=\"text-align: right;\">\n",
              "      <th></th>\n",
              "      <th>Liked Features</th>\n",
              "      <th>Disliked Features</th>\n",
              "      <th>Future Requirements</th>\n",
              "      <th>Overall Sentiment</th>\n",
              "      <th>Competitor Mention</th>\n",
              "      <th>Competitor Sentiment</th>\n",
              "      <th>Feature Importance</th>\n",
              "      <th>Summary</th>\n",
              "    </tr>\n",
              "  </thead>\n",
              "  <tbody>\n",
              "    <tr>\n",
              "      <th>0</th>\n",
              "      <td>[Improved battery life, Dual external display ...</td>\n",
              "      <td>[High markup prices for upgrades, Base spec ma...</td>\n",
              "      <td>[Lower pricing for upgrades, More value for ba...</td>\n",
              "      <td>Neutral</td>\n",
              "      <td>[Dell, HP, Lenovo]</td>\n",
              "      <td>Neutral</td>\n",
              "      <td>{'Improved battery life': 3, 'Dual external di...</td>\n",
              "      <td>The tech influencer reviewed the new MacBook A...</td>\n",
              "    </tr>\n",
              "    <tr>\n",
              "      <th>1</th>\n",
              "      <td>[Bigger screen for more room, Slightly bigger ...</td>\n",
              "      <td>[Price can quickly increase with upgrades, Lim...</td>\n",
              "      <td>[Potential for better thermal management for s...</td>\n",
              "      <td>positive</td>\n",
              "      <td>[XPF 15, ROG Zephyrus]</td>\n",
              "      <td>neutral</td>\n",
              "      <td>{'Bigger screen': 5, 'Good battery life': 4, '...</td>\n",
              "      <td>The influencer positively reviewed the 15-inch...</td>\n",
              "    </tr>\n",
              "    <tr>\n",
              "      <th>2</th>\n",
              "      <td>[Touch ID sensor, MagSafe port, Speaker qualit...</td>\n",
              "      <td>[Storage speed compared to previous model, Lac...</td>\n",
              "      <td>[Higher storage options, More memory (16GB as ...</td>\n",
              "      <td>Neutral</td>\n",
              "      <td>[Dell]</td>\n",
              "      <td>Neutral</td>\n",
              "      <td>{'Touch ID sensor': 5, 'Speaker quality': 4, '...</td>\n",
              "      <td>The tech-influencer reviewed the MacBook Air M...</td>\n",
              "    </tr>\n",
              "    <tr>\n",
              "      <th>3</th>\n",
              "      <td>[Redesigned shape for portability, Thinned out...</td>\n",
              "      <td>[Limited ports with only two USB-C Thunderbolt...</td>\n",
              "      <td>[USB-C port on both sides, Improved durability...</td>\n",
              "      <td>positive</td>\n",
              "      <td>[M1 MacBook Air, M2 MacBook Pro, 14 inch MacBo...</td>\n",
              "      <td>neutral</td>\n",
              "      <td>{'Battery Life': 5, 'Performance': 4, 'Design'...</td>\n",
              "      <td>The influencer appreciates the redesigned shap...</td>\n",
              "    </tr>\n",
              "    <tr>\n",
              "      <th>4</th>\n",
              "      <td>[Magsafe charging, Great keyboard with touch I...</td>\n",
              "      <td>[Expensive pricing, Throttling under heavy loa...</td>\n",
              "      <td>[Lower pricing for M2 MacBook Air to compete b...</td>\n",
              "      <td>Positive</td>\n",
              "      <td>[Dell XPS 13 Plus, Asus Zenbook S13, HP Aero13]</td>\n",
              "      <td>Neutral</td>\n",
              "      <td>{'Performance': 1, 'Battery Life': 2, 'Display...</td>\n",
              "      <td>The influencer praises the M2 MacBook Air for ...</td>\n",
              "    </tr>\n",
              "    <tr>\n",
              "      <th>5</th>\n",
              "      <td>[Lightweight design, Battery longevity, Magsaf...</td>\n",
              "      <td>[Rubber feet causing instability, Limited exte...</td>\n",
              "      <td>[Improved gaming support, Better external moni...</td>\n",
              "      <td>positive</td>\n",
              "      <td>[Dell, HP, Lenovo]</td>\n",
              "      <td>neutral</td>\n",
              "      <td>{'Lightweight design': 5, 'Battery longevity':...</td>\n",
              "      <td>The influencer appreciates the lightweight des...</td>\n",
              "    </tr>\n",
              "    <tr>\n",
              "      <th>6</th>\n",
              "      <td>[Design aesthetics, Color options, Keyboard, F...</td>\n",
              "      <td>[Fingerprint smudges on dark finish, Heat diss...</td>\n",
              "      <td>[Improved heat dissipation for sustained perfo...</td>\n",
              "      <td>Neutral</td>\n",
              "      <td>[Razer Blades]</td>\n",
              "      <td>Neutral</td>\n",
              "      <td>{'Design aesthetics': 5, 'Performance': 4, 'St...</td>\n",
              "      <td>The influencer appreciated the design aestheti...</td>\n",
              "    </tr>\n",
              "    <tr>\n",
              "      <th>7</th>\n",
              "      <td>[Thin and light design, Physical durability, A...</td>\n",
              "      <td>[Thunderbolt ports on the same side, Display n...</td>\n",
              "      <td>[Mini LED display, 120Hz display, Face ID, Imp...</td>\n",
              "      <td>positive</td>\n",
              "      <td>[Windows laptops, M1 MacBook Air, 13-inch MacB...</td>\n",
              "      <td>neutral</td>\n",
              "      <td>{'Thin and light design': 5, 'Battery life': 4...</td>\n",
              "      <td>The tech influencer had a positive experience ...</td>\n",
              "    </tr>\n",
              "    <tr>\n",
              "      <th>8</th>\n",
              "      <td>[Design, Battery life, Portability, MagSafe ch...</td>\n",
              "      <td>[Smudging and scratching issues with midnight ...</td>\n",
              "      <td>[Improved durability against scratches and smu...</td>\n",
              "      <td>positive</td>\n",
              "      <td>[MacBook Pro, M1 Pro, M2 Pro]</td>\n",
              "      <td>neutral</td>\n",
              "      <td>{'Battery life': 1, 'Portability': 2, 'Design'...</td>\n",
              "      <td>The influencer had a positive overall sentimen...</td>\n",
              "    </tr>\n",
              "    <tr>\n",
              "      <th>9</th>\n",
              "      <td>[Portability, Display quality, Performance for...</td>\n",
              "      <td>[Battery drain during heavy tasks, Limited por...</td>\n",
              "      <td>[Wi-Fi 6E support, Improved GPU performance fo...</td>\n",
              "      <td>positive</td>\n",
              "      <td>[]</td>\n",
              "      <td>neutral</td>\n",
              "      <td>{'Portability': 5, 'Display quality': 4, 'Perf...</td>\n",
              "      <td>The influencer praises the M2 MacBook Air for ...</td>\n",
              "    </tr>\n",
              "  </tbody>\n",
              "</table>\n",
              "</div>\n",
              "    <div class=\"colab-df-buttons\">\n",
              "\n",
              "  <div class=\"colab-df-container\">\n",
              "    <button class=\"colab-df-convert\" onclick=\"convertToInteractive('df-a3fcc61d-900a-43f4-9e18-373b747fa10c')\"\n",
              "            title=\"Convert this dataframe to an interactive table.\"\n",
              "            style=\"display:none;\">\n",
              "\n",
              "  <svg xmlns=\"http://www.w3.org/2000/svg\" height=\"24px\" viewBox=\"0 -960 960 960\">\n",
              "    <path d=\"M120-120v-720h720v720H120Zm60-500h600v-160H180v160Zm220 220h160v-160H400v160Zm0 220h160v-160H400v160ZM180-400h160v-160H180v160Zm440 0h160v-160H620v160ZM180-180h160v-160H180v160Zm440 0h160v-160H620v160Z\"/>\n",
              "  </svg>\n",
              "    </button>\n",
              "\n",
              "  <style>\n",
              "    .colab-df-container {\n",
              "      display:flex;\n",
              "      gap: 12px;\n",
              "    }\n",
              "\n",
              "    .colab-df-convert {\n",
              "      background-color: #E8F0FE;\n",
              "      border: none;\n",
              "      border-radius: 50%;\n",
              "      cursor: pointer;\n",
              "      display: none;\n",
              "      fill: #1967D2;\n",
              "      height: 32px;\n",
              "      padding: 0 0 0 0;\n",
              "      width: 32px;\n",
              "    }\n",
              "\n",
              "    .colab-df-convert:hover {\n",
              "      background-color: #E2EBFA;\n",
              "      box-shadow: 0px 1px 2px rgba(60, 64, 67, 0.3), 0px 1px 3px 1px rgba(60, 64, 67, 0.15);\n",
              "      fill: #174EA6;\n",
              "    }\n",
              "\n",
              "    .colab-df-buttons div {\n",
              "      margin-bottom: 4px;\n",
              "    }\n",
              "\n",
              "    [theme=dark] .colab-df-convert {\n",
              "      background-color: #3B4455;\n",
              "      fill: #D2E3FC;\n",
              "    }\n",
              "\n",
              "    [theme=dark] .colab-df-convert:hover {\n",
              "      background-color: #434B5C;\n",
              "      box-shadow: 0px 1px 3px 1px rgba(0, 0, 0, 0.15);\n",
              "      filter: drop-shadow(0px 1px 2px rgba(0, 0, 0, 0.3));\n",
              "      fill: #FFFFFF;\n",
              "    }\n",
              "  </style>\n",
              "\n",
              "    <script>\n",
              "      const buttonEl =\n",
              "        document.querySelector('#df-a3fcc61d-900a-43f4-9e18-373b747fa10c button.colab-df-convert');\n",
              "      buttonEl.style.display =\n",
              "        google.colab.kernel.accessAllowed ? 'block' : 'none';\n",
              "\n",
              "      async function convertToInteractive(key) {\n",
              "        const element = document.querySelector('#df-a3fcc61d-900a-43f4-9e18-373b747fa10c');\n",
              "        const dataTable =\n",
              "          await google.colab.kernel.invokeFunction('convertToInteractive',\n",
              "                                                    [key], {});\n",
              "        if (!dataTable) return;\n",
              "\n",
              "        const docLinkHtml = 'Like what you see? Visit the ' +\n",
              "          '<a target=\"_blank\" href=https://colab.research.google.com/notebooks/data_table.ipynb>data table notebook</a>'\n",
              "          + ' to learn more about interactive tables.';\n",
              "        element.innerHTML = '';\n",
              "        dataTable['output_type'] = 'display_data';\n",
              "        await google.colab.output.renderOutput(dataTable, element);\n",
              "        const docLink = document.createElement('div');\n",
              "        docLink.innerHTML = docLinkHtml;\n",
              "        element.appendChild(docLink);\n",
              "      }\n",
              "    </script>\n",
              "  </div>\n",
              "\n",
              "\n",
              "    <div id=\"df-8fcaaf4f-58d5-4e36-ba24-278612208f60\">\n",
              "      <button class=\"colab-df-quickchart\" onclick=\"quickchart('df-8fcaaf4f-58d5-4e36-ba24-278612208f60')\"\n",
              "                title=\"Suggest charts\"\n",
              "                style=\"display:none;\">\n",
              "\n",
              "<svg xmlns=\"http://www.w3.org/2000/svg\" height=\"24px\"viewBox=\"0 0 24 24\"\n",
              "     width=\"24px\">\n",
              "    <g>\n",
              "        <path d=\"M19 3H5c-1.1 0-2 .9-2 2v14c0 1.1.9 2 2 2h14c1.1 0 2-.9 2-2V5c0-1.1-.9-2-2-2zM9 17H7v-7h2v7zm4 0h-2V7h2v10zm4 0h-2v-4h2v4z\"/>\n",
              "    </g>\n",
              "</svg>\n",
              "      </button>\n",
              "\n",
              "<style>\n",
              "  .colab-df-quickchart {\n",
              "      --bg-color: #E8F0FE;\n",
              "      --fill-color: #1967D2;\n",
              "      --hover-bg-color: #E2EBFA;\n",
              "      --hover-fill-color: #174EA6;\n",
              "      --disabled-fill-color: #AAA;\n",
              "      --disabled-bg-color: #DDD;\n",
              "  }\n",
              "\n",
              "  [theme=dark] .colab-df-quickchart {\n",
              "      --bg-color: #3B4455;\n",
              "      --fill-color: #D2E3FC;\n",
              "      --hover-bg-color: #434B5C;\n",
              "      --hover-fill-color: #FFFFFF;\n",
              "      --disabled-bg-color: #3B4455;\n",
              "      --disabled-fill-color: #666;\n",
              "  }\n",
              "\n",
              "  .colab-df-quickchart {\n",
              "    background-color: var(--bg-color);\n",
              "    border: none;\n",
              "    border-radius: 50%;\n",
              "    cursor: pointer;\n",
              "    display: none;\n",
              "    fill: var(--fill-color);\n",
              "    height: 32px;\n",
              "    padding: 0;\n",
              "    width: 32px;\n",
              "  }\n",
              "\n",
              "  .colab-df-quickchart:hover {\n",
              "    background-color: var(--hover-bg-color);\n",
              "    box-shadow: 0 1px 2px rgba(60, 64, 67, 0.3), 0 1px 3px 1px rgba(60, 64, 67, 0.15);\n",
              "    fill: var(--button-hover-fill-color);\n",
              "  }\n",
              "\n",
              "  .colab-df-quickchart-complete:disabled,\n",
              "  .colab-df-quickchart-complete:disabled:hover {\n",
              "    background-color: var(--disabled-bg-color);\n",
              "    fill: var(--disabled-fill-color);\n",
              "    box-shadow: none;\n",
              "  }\n",
              "\n",
              "  .colab-df-spinner {\n",
              "    border: 2px solid var(--fill-color);\n",
              "    border-color: transparent;\n",
              "    border-bottom-color: var(--fill-color);\n",
              "    animation:\n",
              "      spin 1s steps(1) infinite;\n",
              "  }\n",
              "\n",
              "  @keyframes spin {\n",
              "    0% {\n",
              "      border-color: transparent;\n",
              "      border-bottom-color: var(--fill-color);\n",
              "      border-left-color: var(--fill-color);\n",
              "    }\n",
              "    20% {\n",
              "      border-color: transparent;\n",
              "      border-left-color: var(--fill-color);\n",
              "      border-top-color: var(--fill-color);\n",
              "    }\n",
              "    30% {\n",
              "      border-color: transparent;\n",
              "      border-left-color: var(--fill-color);\n",
              "      border-top-color: var(--fill-color);\n",
              "      border-right-color: var(--fill-color);\n",
              "    }\n",
              "    40% {\n",
              "      border-color: transparent;\n",
              "      border-right-color: var(--fill-color);\n",
              "      border-top-color: var(--fill-color);\n",
              "    }\n",
              "    60% {\n",
              "      border-color: transparent;\n",
              "      border-right-color: var(--fill-color);\n",
              "    }\n",
              "    80% {\n",
              "      border-color: transparent;\n",
              "      border-right-color: var(--fill-color);\n",
              "      border-bottom-color: var(--fill-color);\n",
              "    }\n",
              "    90% {\n",
              "      border-color: transparent;\n",
              "      border-bottom-color: var(--fill-color);\n",
              "    }\n",
              "  }\n",
              "</style>\n",
              "\n",
              "      <script>\n",
              "        async function quickchart(key) {\n",
              "          const quickchartButtonEl =\n",
              "            document.querySelector('#' + key + ' button');\n",
              "          quickchartButtonEl.disabled = true;  // To prevent multiple clicks.\n",
              "          quickchartButtonEl.classList.add('colab-df-spinner');\n",
              "          try {\n",
              "            const charts = await google.colab.kernel.invokeFunction(\n",
              "                'suggestCharts', [key], {});\n",
              "          } catch (error) {\n",
              "            console.error('Error during call to suggestCharts:', error);\n",
              "          }\n",
              "          quickchartButtonEl.classList.remove('colab-df-spinner');\n",
              "          quickchartButtonEl.classList.add('colab-df-quickchart-complete');\n",
              "        }\n",
              "        (() => {\n",
              "          let quickchartButtonEl =\n",
              "            document.querySelector('#df-8fcaaf4f-58d5-4e36-ba24-278612208f60 button');\n",
              "          quickchartButtonEl.style.display =\n",
              "            google.colab.kernel.accessAllowed ? 'block' : 'none';\n",
              "        })();\n",
              "      </script>\n",
              "    </div>\n",
              "\n",
              "  <div id=\"id_bd6a8278-19b7-494c-a1a9-cdf2785b7374\">\n",
              "    <style>\n",
              "      .colab-df-generate {\n",
              "        background-color: #E8F0FE;\n",
              "        border: none;\n",
              "        border-radius: 50%;\n",
              "        cursor: pointer;\n",
              "        display: none;\n",
              "        fill: #1967D2;\n",
              "        height: 32px;\n",
              "        padding: 0 0 0 0;\n",
              "        width: 32px;\n",
              "      }\n",
              "\n",
              "      .colab-df-generate:hover {\n",
              "        background-color: #E2EBFA;\n",
              "        box-shadow: 0px 1px 2px rgba(60, 64, 67, 0.3), 0px 1px 3px 1px rgba(60, 64, 67, 0.15);\n",
              "        fill: #174EA6;\n",
              "      }\n",
              "\n",
              "      [theme=dark] .colab-df-generate {\n",
              "        background-color: #3B4455;\n",
              "        fill: #D2E3FC;\n",
              "      }\n",
              "\n",
              "      [theme=dark] .colab-df-generate:hover {\n",
              "        background-color: #434B5C;\n",
              "        box-shadow: 0px 1px 3px 1px rgba(0, 0, 0, 0.15);\n",
              "        filter: drop-shadow(0px 1px 2px rgba(0, 0, 0, 0.3));\n",
              "        fill: #FFFFFF;\n",
              "      }\n",
              "    </style>\n",
              "    <button class=\"colab-df-generate\" onclick=\"generateWithVariable('final')\"\n",
              "            title=\"Generate code using this dataframe.\"\n",
              "            style=\"display:none;\">\n",
              "\n",
              "  <svg xmlns=\"http://www.w3.org/2000/svg\" height=\"24px\"viewBox=\"0 0 24 24\"\n",
              "       width=\"24px\">\n",
              "    <path d=\"M7,19H8.4L18.45,9,17,7.55,7,17.6ZM5,21V16.75L18.45,3.32a2,2,0,0,1,2.83,0l1.4,1.43a1.91,1.91,0,0,1,.58,1.4,1.91,1.91,0,0,1-.58,1.4L9.25,21ZM18.45,9,17,7.55Zm-12,3A5.31,5.31,0,0,0,4.9,8.1,5.31,5.31,0,0,0,1,6.5,5.31,5.31,0,0,0,4.9,4.9,5.31,5.31,0,0,0,6.5,1,5.31,5.31,0,0,0,8.1,4.9,5.31,5.31,0,0,0,12,6.5,5.46,5.46,0,0,0,6.5,12Z\"/>\n",
              "  </svg>\n",
              "    </button>\n",
              "    <script>\n",
              "      (() => {\n",
              "      const buttonEl =\n",
              "        document.querySelector('#id_bd6a8278-19b7-494c-a1a9-cdf2785b7374 button.colab-df-generate');\n",
              "      buttonEl.style.display =\n",
              "        google.colab.kernel.accessAllowed ? 'block' : 'none';\n",
              "\n",
              "      buttonEl.onclick = () => {\n",
              "        google.colab.notebook.generateWithVariable('final');\n",
              "      }\n",
              "      })();\n",
              "    </script>\n",
              "  </div>\n",
              "\n",
              "    </div>\n",
              "  </div>\n"
            ],
            "text/plain": [
              "                                      Liked Features  \\\n",
              "0  [Improved battery life, Dual external display ...   \n",
              "1  [Bigger screen for more room, Slightly bigger ...   \n",
              "2  [Touch ID sensor, MagSafe port, Speaker qualit...   \n",
              "3  [Redesigned shape for portability, Thinned out...   \n",
              "4  [Magsafe charging, Great keyboard with touch I...   \n",
              "5  [Lightweight design, Battery longevity, Magsaf...   \n",
              "6  [Design aesthetics, Color options, Keyboard, F...   \n",
              "7  [Thin and light design, Physical durability, A...   \n",
              "8  [Design, Battery life, Portability, MagSafe ch...   \n",
              "9  [Portability, Display quality, Performance for...   \n",
              "\n",
              "                                   Disliked Features  \\\n",
              "0  [High markup prices for upgrades, Base spec ma...   \n",
              "1  [Price can quickly increase with upgrades, Lim...   \n",
              "2  [Storage speed compared to previous model, Lac...   \n",
              "3  [Limited ports with only two USB-C Thunderbolt...   \n",
              "4  [Expensive pricing, Throttling under heavy loa...   \n",
              "5  [Rubber feet causing instability, Limited exte...   \n",
              "6  [Fingerprint smudges on dark finish, Heat diss...   \n",
              "7  [Thunderbolt ports on the same side, Display n...   \n",
              "8  [Smudging and scratching issues with midnight ...   \n",
              "9  [Battery drain during heavy tasks, Limited por...   \n",
              "\n",
              "                                 Future Requirements Overall Sentiment  \\\n",
              "0  [Lower pricing for upgrades, More value for ba...           Neutral   \n",
              "1  [Potential for better thermal management for s...          positive   \n",
              "2  [Higher storage options, More memory (16GB as ...           Neutral   \n",
              "3  [USB-C port on both sides, Improved durability...          positive   \n",
              "4  [Lower pricing for M2 MacBook Air to compete b...          Positive   \n",
              "5  [Improved gaming support, Better external moni...          positive   \n",
              "6  [Improved heat dissipation for sustained perfo...           Neutral   \n",
              "7  [Mini LED display, 120Hz display, Face ID, Imp...          positive   \n",
              "8  [Improved durability against scratches and smu...          positive   \n",
              "9  [Wi-Fi 6E support, Improved GPU performance fo...          positive   \n",
              "\n",
              "                                  Competitor Mention Competitor Sentiment  \\\n",
              "0                                 [Dell, HP, Lenovo]              Neutral   \n",
              "1                             [XPF 15, ROG Zephyrus]              neutral   \n",
              "2                                             [Dell]              Neutral   \n",
              "3  [M1 MacBook Air, M2 MacBook Pro, 14 inch MacBo...              neutral   \n",
              "4    [Dell XPS 13 Plus, Asus Zenbook S13, HP Aero13]              Neutral   \n",
              "5                                 [Dell, HP, Lenovo]              neutral   \n",
              "6                                     [Razer Blades]              Neutral   \n",
              "7  [Windows laptops, M1 MacBook Air, 13-inch MacB...              neutral   \n",
              "8                      [MacBook Pro, M1 Pro, M2 Pro]              neutral   \n",
              "9                                                 []              neutral   \n",
              "\n",
              "                                  Feature Importance  \\\n",
              "0  {'Improved battery life': 3, 'Dual external di...   \n",
              "1  {'Bigger screen': 5, 'Good battery life': 4, '...   \n",
              "2  {'Touch ID sensor': 5, 'Speaker quality': 4, '...   \n",
              "3  {'Battery Life': 5, 'Performance': 4, 'Design'...   \n",
              "4  {'Performance': 1, 'Battery Life': 2, 'Display...   \n",
              "5  {'Lightweight design': 5, 'Battery longevity':...   \n",
              "6  {'Design aesthetics': 5, 'Performance': 4, 'St...   \n",
              "7  {'Thin and light design': 5, 'Battery life': 4...   \n",
              "8  {'Battery life': 1, 'Portability': 2, 'Design'...   \n",
              "9  {'Portability': 5, 'Display quality': 4, 'Perf...   \n",
              "\n",
              "                                             Summary  \n",
              "0  The tech influencer reviewed the new MacBook A...  \n",
              "1  The influencer positively reviewed the 15-inch...  \n",
              "2  The tech-influencer reviewed the MacBook Air M...  \n",
              "3  The influencer appreciates the redesigned shap...  \n",
              "4  The influencer praises the M2 MacBook Air for ...  \n",
              "5  The influencer appreciates the lightweight des...  \n",
              "6  The influencer appreciated the design aestheti...  \n",
              "7  The tech influencer had a positive experience ...  \n",
              "8  The influencer had a positive overall sentimen...  \n",
              "9  The influencer praises the M2 MacBook Air for ...  "
            ]
          },
          "execution_count": 110,
          "metadata": {},
          "output_type": "execute_result"
        }
      ],
      "source": [
        "final"
      ]
    },
    {
      "cell_type": "markdown",
      "metadata": {
        "id": "LsQKnwHgwBt-"
      },
      "source": [
        "This looks good but it is difficult to manually judge the output given the transcripts are long. Let's evaluate the performance of the LLM to make sure our pipeline is doing a good job."
      ]
    },
    {
      "cell_type": "markdown",
      "metadata": {
        "id": "PLxCqVCVKy9R"
      },
      "source": [
        "### Step 3 - Evaluation"
      ]
    },
    {
      "cell_type": "markdown",
      "metadata": {
        "id": "Ce1yglT7IuDN"
      },
      "source": [
        "Let's use a bigger model to grade the responses provided by mixtral."
      ]
    },
    {
      "cell_type": "code",
      "execution_count": 112,
      "metadata": {
        "id": "_Mv-9eLKkO5q"
      },
      "outputs": [],
      "source": [
        "rater_model = \"gpt-3.5-turbo\""
      ]
    },
    {
      "cell_type": "markdown",
      "metadata": {
        "id": "yuXja7WS1Yqr"
      },
      "source": [
        "Let's create a step-by-step instruction for the rater model to perform rating."
      ]
    },
    {
      "cell_type": "code",
      "execution_count": 113,
      "metadata": {
        "id": "2dDxkZdyKSnh"
      },
      "outputs": [],
      "source": [
        "rater_system_message = \"\"\"\n",
        "You are tasked with rating AI-generated jsons of youtube transcripts based on the given metric.\n",
        "You will be presented a transcript and an AI generated json of the transcript as the input.\n",
        "In the input, the transcript will begin with ###transcript while the AI generated json will begin with ###json.\n",
        "\n",
        "Evaluation criteria:\n",
        "The task is to judge the extent to which the metric is followed by the summary.\n",
        "1 - The metric is not followed at all\n",
        "2 - The metric is followed only to a limited extent\n",
        "3 - The metric is followed to a good extent\n",
        "4 - The metric is followed mostly\n",
        "5 - The metric is followed completely\n",
        "\n",
        "Metric:\n",
        "For each heading in the json, check if the output in that heading is true to the transcript.\n",
        "The json should have all the following headings: [\"Liked Features\", \"Disliked Features\", \"Future Requirements\", \"Overall Sentiment\" \"Competitor Mention\", \"Competitor Sentiment\", \"Feature Importance\", \"Summary\"]\n",
        "The json should cover all the aspects that are majorly being discussed in the transcript.\n",
        "\n",
        "Instructions:\n",
        "1. First write down the steps that are needed to evaluate the output as per the metric.\n",
        "2. Give a step-by-step explanation if the output adheres to the metric considering the dialogues as the input.\n",
        "3. Next, evaluate the extent to which the metric is followed.\n",
        "4. Use the previous information to rate the output using the evaluaton criteria and assign a score.\n",
        "\"\"\""
      ]
    },
    {
      "cell_type": "code",
      "execution_count": 114,
      "metadata": {
        "id": "qAlT5npqh6PQ"
      },
      "outputs": [],
      "source": [
        "rater_user_message_template = \"\"\"\n",
        "###transcript\n",
        "{transcript}\n",
        "\n",
        "###json\n",
        "{output}\n",
        "\"\"\""
      ]
    },
    {
      "cell_type": "markdown",
      "metadata": {
        "id": "llDreQaI1Yqs"
      },
      "source": [
        "Let's iterate through our mixtral responses and get each one rated by Llama3."
      ]
    },
    {
      "cell_type": "code",
      "execution_count": 115,
      "metadata": {
        "colab": {
          "base_uri": "https://localhost:8080/"
        },
        "id": "MMkUTeM3nfsn",
        "outputId": "667a0fc4-3ac2-4074-810f-16e85a438166"
      },
      "outputs": [
        {
          "name": "stderr",
          "output_type": "stream",
          "text": [
            "10it [01:22,  8.24s/it]\n"
          ]
        }
      ],
      "source": [
        "ratings = []\n",
        "for transcript, output in tqdm(zip(transcripts.transcript, final.iterrows())):\n",
        "    # Iterated through the transcripts and the LLM responses stored in dataframe\n",
        "    # and rates each of them based on the specified metrics.\n",
        "    rater_prompt = [\n",
        "        {'role': 'system',\n",
        "         'content': rater_system_message\n",
        "        },\n",
        "        {\n",
        "            'role': 'user',\n",
        "            'content': rater_user_message_template.format(\n",
        "                transcript=transcript,\n",
        "                output=output\n",
        "            )\n",
        "        }\n",
        "    ]\n",
        "\n",
        "    response = client.chat.completions.create(\n",
        "        model=rater_model,\n",
        "        messages=rater_prompt\n",
        "    )\n",
        "    ratings.append(response.choices[0].message.content)"
      ]
    },
    {
      "cell_type": "markdown",
      "metadata": {
        "id": "9ywdKWLpcHxa"
      },
      "source": [
        "Let's check a rating provided by Llama - 3."
      ]
    },
    {
      "cell_type": "code",
      "execution_count": 116,
      "metadata": {
        "colab": {
          "base_uri": "https://localhost:8080/",
          "height": 154
        },
        "id": "ciGx8i_kO-1b",
        "outputId": "648e6228-da70-4bc7-d1ee-31d1c5c78c9e"
      },
      "outputs": [
        {
          "data": {
            "application/vnd.google.colaboratory.intrinsic+json": {
              "type": "string"
            },
            "text/plain": [
              "\"Instructions for evaluating the output:\\n1. Check if the Liked Features in the json match the positive aspects mentioned in the transcript.\\n2. Verify if the Disliked Features in the json correspond to the negative points discussed in the transcript.\\n3. Evaluate if the Future Requirements in the json align with the suggestions for improvement mentioned in the transcript.\\n4. Compare the Competitor Mention and Competitor Sentiment in the json with the competitor references and sentiments in the transcript.\\n5. Assess if the Overall Sentiment in the json reflects the general positive tone of the transcript.\\n6. Verify if the Feature Importance in the json accurately represents the importance of features discussed in the transcript.\\n7. Finally, check if the Summary in the json is a concise representation of the key points discussed in the transcript.\\n\\nStep-by-step explanation:\\n1. Liked Features: The json mentions features like Design, Battery life, Portability, MagSafe charging which are all positively discussed in the transcript. The Liked Features align well with the positive aspects highlighted in the transcript.\\n2. Disliked Features: The json correctly identifies the smudging and scratching issues with the midnight color MacBook Air, which is in line with the negative points raised in the transcript about the device easily getting scratched and smudged.\\n3. Future Requirements: The json suggests improved durability against scratches and smudges, which matches the recommendation for enhancing the product's robustness mentioned in the transcript.\\n4. Competitor Mention and Competitor Sentiment: The json mentions MacBook Pro, M1 Pro, and M2 Pro as competitors, which corresponds to the competitor references in the transcript. The Competitor Sentiment being neutral also aligns with the neutral comparison made in the transcript.\\n5. Overall Sentiment: The json states the Overall Sentiment as positive, which accurately reflects the generally positive tone of the transcript towards the M2 MacBook Air.\\n6. Feature Importance: The Feature Importance ranking provided in the json seems to be missing or incomplete in the given snippet. It should reflect the importance of features discussed in the transcript.\\n7. Summary: The Summary in the json briefly captures the positive sentiment towards the M2 MacBook Air mentioned in the transcript.\\n\\nExtent to which the metric is followed: 4 - The metric is followed mostly.\\n\\nTherefore, based on the evaluation criteria, the score for this output would be 4 - The metric is followed mostly.\""
            ]
          },
          "execution_count": 116,
          "metadata": {},
          "output_type": "execute_result"
        }
      ],
      "source": [
        "ratings[8]"
      ]
    },
    {
      "cell_type": "code",
      "execution_count": null,
      "metadata": {
        "id": "3xucx_Wt8-jL"
      },
      "outputs": [],
      "source": []
    },
    {
      "cell_type": "code",
      "execution_count": 118,
      "metadata": {
        "colab": {
          "base_uri": "https://localhost:8080/",
          "height": 1000
        },
        "id": "M-IIHhQhpHBM",
        "outputId": "b658db5e-711e-4784-83a3-4a0074898467"
      },
      "outputs": [
        {
          "data": {
            "application/vnd.google.colaboratory.intrinsic+json": {
              "summary": "{\n  \"name\": \"final\",\n  \"rows\": 10,\n  \"fields\": [\n    {\n      \"column\": \"Liked Features\",\n      \"properties\": {\n        \"dtype\": \"object\",\n        \"semantic_type\": \"\",\n        \"description\": \"\"\n      }\n    },\n    {\n      \"column\": \"Disliked Features\",\n      \"properties\": {\n        \"dtype\": \"object\",\n        \"semantic_type\": \"\",\n        \"description\": \"\"\n      }\n    },\n    {\n      \"column\": \"Future Requirements\",\n      \"properties\": {\n        \"dtype\": \"object\",\n        \"semantic_type\": \"\",\n        \"description\": \"\"\n      }\n    },\n    {\n      \"column\": \"Overall Sentiment\",\n      \"properties\": {\n        \"dtype\": \"category\",\n        \"num_unique_values\": 3,\n        \"samples\": [\n          \"Neutral\",\n          \"positive\",\n          \"Positive\"\n        ],\n        \"semantic_type\": \"\",\n        \"description\": \"\"\n      }\n    },\n    {\n      \"column\": \"Competitor Mention\",\n      \"properties\": {\n        \"dtype\": \"object\",\n        \"semantic_type\": \"\",\n        \"description\": \"\"\n      }\n    },\n    {\n      \"column\": \"Competitor Sentiment\",\n      \"properties\": {\n        \"dtype\": \"category\",\n        \"num_unique_values\": 2,\n        \"samples\": [\n          \"neutral\",\n          \"Neutral\"\n        ],\n        \"semantic_type\": \"\",\n        \"description\": \"\"\n      }\n    },\n    {\n      \"column\": \"Feature Importance\",\n      \"properties\": {\n        \"dtype\": \"object\",\n        \"semantic_type\": \"\",\n        \"description\": \"\"\n      }\n    },\n    {\n      \"column\": \"Summary\",\n      \"properties\": {\n        \"dtype\": \"string\",\n        \"num_unique_values\": 10,\n        \"samples\": [\n          \"The influencer had a positive overall sentiment towards the M2 MacBook Air, appreciating its design, battery life, portability, and key features like the MagSafe charging port and full row of function keys. They highlighted the limitations of the base model under heavy load due to 8GB RAM and thermal issues. The influencer recommended the MacBook Pro for heavier tasks. Additionally, they praised the uPDF PDF editing tool. Future requirements include improved durability, better external display support, enhanced speakers, addressing thermal limitations, and offering higher RAM configurations.\",\n          \"The influencer positively reviewed the 15-inch MacBook Air, highlighting its bigger screen, slightly bigger trackpad, additional speakers for louder sound, good battery life, and impressive performance from the M2 chip. They also appreciated the color matching braided MagSafe cable and ecosystem integration with Apple devices. However, they noted that the price could quickly increase with upgrades and highlighted the notable price difference compared to some Windows laptops. The influencer mentioned a potential requirement for better thermal management for sustained workloads in future models. Overall, the review was positive, with neutral mentions of competitors like XPF 15 and ROG Zephyrus.\"\n        ],\n        \"semantic_type\": \"\",\n        \"description\": \"\"\n      }\n    },\n    {\n      \"column\": \"rating\",\n      \"properties\": {\n        \"dtype\": \"string\",\n        \"num_unique_values\": 10,\n        \"samples\": [\n          \"Instructions for evaluating the output:\\n1. Check if the Liked Features in the json match the positive aspects mentioned in the transcript.\\n2. Verify if the Disliked Features in the json correspond to the negative points discussed in the transcript.\\n3. Evaluate if the Future Requirements in the json align with the suggestions for improvement mentioned in the transcript.\\n4. Compare the Competitor Mention and Competitor Sentiment in the json with the competitor references and sentiments in the transcript.\\n5. Assess if the Overall Sentiment in the json reflects the general positive tone of the transcript.\\n6. Verify if the Feature Importance in the json accurately represents the importance of features discussed in the transcript.\\n7. Finally, check if the Summary in the json is a concise representation of the key points discussed in the transcript.\\n\\nStep-by-step explanation:\\n1. Liked Features: The json mentions features like Design, Battery life, Portability, MagSafe charging which are all positively discussed in the transcript. The Liked Features align well with the positive aspects highlighted in the transcript.\\n2. Disliked Features: The json correctly identifies the smudging and scratching issues with the midnight color MacBook Air, which is in line with the negative points raised in the transcript about the device easily getting scratched and smudged.\\n3. Future Requirements: The json suggests improved durability against scratches and smudges, which matches the recommendation for enhancing the product's robustness mentioned in the transcript.\\n4. Competitor Mention and Competitor Sentiment: The json mentions MacBook Pro, M1 Pro, and M2 Pro as competitors, which corresponds to the competitor references in the transcript. The Competitor Sentiment being neutral also aligns with the neutral comparison made in the transcript.\\n5. Overall Sentiment: The json states the Overall Sentiment as positive, which accurately reflects the generally positive tone of the transcript towards the M2 MacBook Air.\\n6. Feature Importance: The Feature Importance ranking provided in the json seems to be missing or incomplete in the given snippet. It should reflect the importance of features discussed in the transcript.\\n7. Summary: The Summary in the json briefly captures the positive sentiment towards the M2 MacBook Air mentioned in the transcript.\\n\\nExtent to which the metric is followed: 4 - The metric is followed mostly.\\n\\nTherefore, based on the evaluation criteria, the score for this output would be 4 - The metric is followed mostly.\",\n          \"Steps to evaluate the output as per the metric:\\n1. Check if the \\\"Liked Features\\\" in the json align with the positive aspects mentioned in the transcript regarding the 15-inch MacBook Air.\\n2. Verify if the \\\"Disliked Features\\\" in the json match with the negative aspects discussed in the transcript, especially focusing on the price increasing with upgrades.\\n3. Confirm if the \\\"Future Requirements\\\" in the json coincide with any suggestions or potential improvements mentioned in the transcript.\\n4. Ensure that the \\\"Overall Sentiment\\\" in the json aligns with the general positive sentiment expressed towards the MacBook Air in the transcript.\\n5. Check if the \\\"Competitor Mention\\\" in the json includes the competitors like XPF 15 and ROG Zephyrus as discussed in the transcript.\\n6. Validate if the \\\"Competitor Sentiment\\\" in the json matches the neutral sentiment shown towards the competitors in the transcript.\\n7. Check if the \\\"Feature Importance\\\" in the json reflects the key features like the bigger screen, good battery life, and others highlighted in the transcript.\\n8. Verify if the \\\"Summary\\\" in the json provides a cohesive summary of the transcript's content, emphasizing the positive review of the 15-inch MacBook Air.\\n\\nExplanation:\\n- The Liked Features in the json mention the bigger screen providing more room, which aligns with the discussion in the transcript about the benefits of a larger display. Additionally, the mention of bigger text and windows corresponds to the transcript content. Therefore, this aspect is mostly followed.\\n- The Disliked Features in the json highlight the price increasing with upgrades, which is in line with the concern raised in the transcript about the base price and potential additional costs. Hence, this aspect is mostly followed.\\n- The Future Requirements in the json suggest potential better thermal management, which corresponds to the discussion in the transcript regarding thermal performance. Therefore, this aspect is mostly followed.\\n- The Overall Sentiment in the json reflects a positive sentiment towards the MacBook Air, which aligns with the overall positive tone of the transcript. Hence, this aspect is followed completely.\\n- The Competitor Mention in the json includes XPF 15 and ROG Zephyrus, as mentioned in the transcript in comparison with other laptops. This aspect is followed completely.\\n- The Competitor Sentiment in the json indicates a neutral sentiment towards the competitors, which matches the neutral tone towards other laptops in the transcript. Therefore, this aspect is followed completely.\\n- The Feature Importance in the json highlights key features like the bigger screen and good battery life, which correspond to the key features discussed in the transcript. This aspect is mostly followed.\\n- The Summary in the json provides a positive review of the 15-inch MacBook Air, summarizing the key points discussed in the transcript. This aspect is followed mostly.\\n\\nExtent to which the metric is followed: The output adheres well to the metric provided, covering all the required aspects based on the transcript content.\\n\\nRating: 5 - The metric is followed completely.\"\n        ],\n        \"semantic_type\": \"\",\n        \"description\": \"\"\n      }\n    }\n  ]\n}",
              "type": "dataframe",
              "variable_name": "final"
            },
            "text/html": [
              "\n",
              "  <div id=\"df-017f0383-a718-40a0-9b3a-38dc4923b1c9\" class=\"colab-df-container\">\n",
              "    <div>\n",
              "<style scoped>\n",
              "    .dataframe tbody tr th:only-of-type {\n",
              "        vertical-align: middle;\n",
              "    }\n",
              "\n",
              "    .dataframe tbody tr th {\n",
              "        vertical-align: top;\n",
              "    }\n",
              "\n",
              "    .dataframe thead th {\n",
              "        text-align: right;\n",
              "    }\n",
              "</style>\n",
              "<table border=\"1\" class=\"dataframe\">\n",
              "  <thead>\n",
              "    <tr style=\"text-align: right;\">\n",
              "      <th></th>\n",
              "      <th>Liked Features</th>\n",
              "      <th>Disliked Features</th>\n",
              "      <th>Future Requirements</th>\n",
              "      <th>Overall Sentiment</th>\n",
              "      <th>Competitor Mention</th>\n",
              "      <th>Competitor Sentiment</th>\n",
              "      <th>Feature Importance</th>\n",
              "      <th>Summary</th>\n",
              "      <th>rating</th>\n",
              "    </tr>\n",
              "  </thead>\n",
              "  <tbody>\n",
              "    <tr>\n",
              "      <th>0</th>\n",
              "      <td>[Improved battery life, Dual external display support, Improved base storage]</td>\n",
              "      <td>[High markup prices for upgrades, Base spec may not be sufficient for heavier tasks]</td>\n",
              "      <td>[Lower pricing for upgrades, More value for base spec]</td>\n",
              "      <td>Neutral</td>\n",
              "      <td>[Dell, HP, Lenovo]</td>\n",
              "      <td>Neutral</td>\n",
              "      <td>{'Improved battery life': 3, 'Dual external display support': 2, 'Improved base storage': 1, 'Lower pricing for upgrades': 1, 'More value for base spec': 1}</td>\n",
              "      <td>The tech influencer reviewed the new MacBook Air with the M3 chip, highlighting features like improved battery life, dual external display support, and better base storage. However, they criticized the high markup prices for upgrades and questioned the sufficiency of the base spec for heavier tasks. The influencer suggested that for basic usage, the M2 MacBook Air might be a more cost-effective option. They also discussed the impact of Apple silicon on the lineup, making high-end tasks possible on a MacBook Air. The overall sentiment of the review was neutral.</td>\n",
              "      <td>Steps to evaluate the output as per the metric:\\n1. Check if the \"Liked Features\" section in the json includes features mentioned positively in the transcript.\\n2. Verify if the \"Disliked Features\" section in the json includes features mentioned negatively in the transcript.\\n3. Confirm if the \"Future Requirements\" section in the json includes suggestions or desires discussed in the transcript.\\n4. Check if the \"Overall Sentiment\" in the json accurately represents the overall sentiment expressed in the transcript.\\n5. Determine if the \"Competitor Mention\" section in the json lists competitors mentioned in the transcript.\\n6. Ensure that the \"Competitor Sentiment\" in the json matches the sentiments expressed towards competitors in the transcript.\\n7. Assess if the \"Feature Importance\" section in the json reflects the importance assigned to features as discussed in the transcript.\\n8. Confirm if the \"Summary\" in the json provides a concise overview of the key points discussed in the transcript.\\n\\nExplanation:\\nThe Liked Features section in the json includes \"Improved battery life\" and \"Dual external display support,\" which are positively mentioned in the transcript. This aligns with the content of the transcript.\\n\\nThe Disliked Features section in the json mentions \"High markup prices for upgrades\" and \"Base spec markup,\" which are negatively discussed in the transcript. This indicates that the json accurately reflects the negative aspects highlighted in the transcript.\\n\\nThe Future Requirements section in the json recommends \"Lower pricing for upgrades\" and \"More value for base spec,\" which are suggestions provided in the transcript for improvement. This demonstrates that the json aligns with the desired future requirements mentioned in the transcript.\\n\\nThe Overall Sentiment in the json is stated as \"Neutral,\" which matches the overall neutral tone of the transcript. This indicates that the sentiment is accurately represented in the json.\\n\\nThe Competitor Mention section in the json lists competitors such as Dell, HP, and Lenovo, which are mentioned in the transcript. This shows that the json includes the relevant competitor information discussed in the transcript.\\n\\nThe Competitor Sentiment in the json is stated as \"Neutral,\" which corresponds to the neutral sentiment expressed towards competitors in the transcript. This shows that the sentiment towards competitors is accurately reflected in the json.\\n\\nThe Feature Importance section in the json provides a ranking of the importance of different features, which showcases the features' significance as discussed in the transcript. This indicates that the json aligns with the discussion on feature importance in the transcript.\\n\\nThe Summary in the json offers a brief overview of the key points discussed in the transcript, highlighting the review of the new MacBook Air by a tech influencer, which matches the content of the transcript.\\n\\nExtent to which the metric is followed: 5 - The metric is followed completely\\n\\nBased on the evaluation criteria, the score is: 5</td>\n",
              "    </tr>\n",
              "    <tr>\n",
              "      <th>1</th>\n",
              "      <td>[Bigger screen for more room, Slightly bigger trackpad, Additional set of speakers for louder sound, Good battery life, Impressive performance from the M2 chip, Color matching braided MagSafe cable, Ecosystem integration with Apple devices]</td>\n",
              "      <td>[Price can quickly increase with upgrades, Limited upgrade options, Notable price difference compared to some Windows laptops]</td>\n",
              "      <td>[Potential for better thermal management for sustained workloads]</td>\n",
              "      <td>positive</td>\n",
              "      <td>[XPF 15, ROG Zephyrus]</td>\n",
              "      <td>neutral</td>\n",
              "      <td>{'Bigger screen': 5, 'Good battery life': 4, 'Impressive performance': 4, 'Ecosystem integration': 3, 'Build quality': 3, 'Price': 2, 'Upgrade options': 2, 'Thermal management': 1}</td>\n",
              "      <td>The influencer positively reviewed the 15-inch MacBook Air, highlighting its bigger screen, slightly bigger trackpad, additional speakers for louder sound, good battery life, and impressive performance from the M2 chip. They also appreciated the color matching braided MagSafe cable and ecosystem integration with Apple devices. However, they noted that the price could quickly increase with upgrades and highlighted the notable price difference compared to some Windows laptops. The influencer mentioned a potential requirement for better thermal management for sustained workloads in future models. Overall, the review was positive, with neutral mentions of competitors like XPF 15 and ROG Zephyrus.</td>\n",
              "      <td>Steps to evaluate the output as per the metric:\\n1. Check if the \"Liked Features\" in the json align with the positive aspects mentioned in the transcript regarding the 15-inch MacBook Air.\\n2. Verify if the \"Disliked Features\" in the json match with the negative aspects discussed in the transcript, especially focusing on the price increasing with upgrades.\\n3. Confirm if the \"Future Requirements\" in the json coincide with any suggestions or potential improvements mentioned in the transcript.\\n4. Ensure that the \"Overall Sentiment\" in the json aligns with the general positive sentiment expressed towards the MacBook Air in the transcript.\\n5. Check if the \"Competitor Mention\" in the json includes the competitors like XPF 15 and ROG Zephyrus as discussed in the transcript.\\n6. Validate if the \"Competitor Sentiment\" in the json matches the neutral sentiment shown towards the competitors in the transcript.\\n7. Check if the \"Feature Importance\" in the json reflects the key features like the bigger screen, good battery life, and others highlighted in the transcript.\\n8. Verify if the \"Summary\" in the json provides a cohesive summary of the transcript's content, emphasizing the positive review of the 15-inch MacBook Air.\\n\\nExplanation:\\n- The Liked Features in the json mention the bigger screen providing more room, which aligns with the discussion in the transcript about the benefits of a larger display. Additionally, the mention of bigger text and windows corresponds to the transcript content. Therefore, this aspect is mostly followed.\\n- The Disliked Features in the json highlight the price increasing with upgrades, which is in line with the concern raised in the transcript about the base price and potential additional costs. Hence, this aspect is mostly followed.\\n- The Future Requirements in the json suggest potential better thermal management, which corresponds to the discussion in the transcript regarding thermal performance. Therefore, this aspect is mostly followed.\\n- The Overall Sentiment in the json reflects a positive sentiment towards the MacBook Air, which aligns with the overall positive tone of the transcript. Hence, this aspect is followed completely.\\n- The Competitor Mention in the json includes XPF 15 and ROG Zephyrus, as mentioned in the transcript in comparison with other laptops. This aspect is followed completely.\\n- The Competitor Sentiment in the json indicates a neutral sentiment towards the competitors, which matches the neutral tone towards other laptops in the transcript. Therefore, this aspect is followed completely.\\n- The Feature Importance in the json highlights key features like the bigger screen and good battery life, which correspond to the key features discussed in the transcript. This aspect is mostly followed.\\n- The Summary in the json provides a positive review of the 15-inch MacBook Air, summarizing the key points discussed in the transcript. This aspect is followed mostly.\\n\\nExtent to which the metric is followed: The output adheres well to the metric provided, covering all the required aspects based on the transcript content.\\n\\nRating: 5 - The metric is followed completely.</td>\n",
              "    </tr>\n",
              "    <tr>\n",
              "      <th>2</th>\n",
              "      <td>[Touch ID sensor, MagSafe port, Speaker quality, Design aesthetics, Internal design]</td>\n",
              "      <td>[Storage speed compared to previous model, Lack of fan for cooling, Pricing compared to MacBook Pro]</td>\n",
              "      <td>[Higher storage options, More memory (16GB as standard)]</td>\n",
              "      <td>Neutral</td>\n",
              "      <td>[Dell]</td>\n",
              "      <td>Neutral</td>\n",
              "      <td>{'Touch ID sensor': 5, 'Speaker quality': 4, 'Design aesthetics': 4, 'MagSafe port': 3, 'Storage speed': 3, 'Cooling system': 2, 'Pricing': 2, 'Memory options': 4}</td>\n",
              "      <td>The tech-influencer reviewed the MacBook Air M1 and M2 models, appreciating features like the Touch ID sensor, MagSafe port, speaker quality, design aesthetics, and internal design. However, they expressed concerns about the storage speed, lack of a fan for cooling, and pricing compared to the MacBook Pro. They suggested higher storage options and more memory for future models. The overall sentiment of the review was neutral, with a mention of Dell laptops in a neutral context.</td>\n",
              "      <td>Steps to evaluate the output as per the metric:\\n1. Compare the \"Liked Features\", \"Disliked Features\", \"Future Requirements\" mentioned in the json with the features, aspects, and requirements discussed in the transcript.\\n2. Check if the \"Overall Sentiment\" in the json (Neutral) aligns with the overall tone of the transcript.\\n3. Verify if the \"Competitor Mention\" (Dell) and \"Competitor Sentiment\" (Neutral) in the json matches any mentions or sentiments towards competitors in the transcript.\\n4. Evaluate the \"Feature Importance\" in the json based on the emphasis placed on different features in the transcript.\\n5. Examine the \"Summary\" provided in the json and assess if it accurately reflects the main points discussed in the transcript.\\n\\nExplanation based on the dialogues:\\n- Liked Features: The Liked Features mentioned in the json include the Touch ID sensor, MagSafe port, and Speaker quality. These features are also positively discussed in the transcript when the speaker talks about the touch ID sensor, MagSafe port, and performs a speaker test, indicating alignment between the transcript and the json.\\n- Disliked Features: The Disliked Features in the json include storage speed compared to the previous model and lack of certain features. The transcript discusses the storage speed difference between models, aligning with the json.\\n- Future Requirements: The Future Requirements in the json mention higher storage options and more memory, which are also discussed in the transcript in relation to upgrading the storage and memory for better performance.\\n- Overall Sentiment: The Overall Sentiment in the json is described as Neutral. The transcript provides a mix of positive and critical comments, which could lead to a neutral sentiment overall.\\n- Competitor Mention and Sentiment: The json mentions Dell as a competitor with a Neutral sentiment, which is not explicitly discussed in the transcript, indicating a slight deviation from the content.\\n- Feature Importance: The json rates features like the Touch ID sensor and speaker quality as important, which aligns with the emphasis placed on these features during the review in the transcript.\\n- Summary: The provided summary in the json captures the essence of the review, mentioning the MacBook Air M1 and relevant features discussed in the transcript.\\n\\nExtent to which the metric is followed: 4 - The output mostly follows the metric by covering the Liked Features, Disliked Features, Future Requirements, Overall Sentiment, Feature Importance, and providing a Summary that reflects the main points discussed in the transcript. However, the Competitor Mention and Sentiment could have been more closely tied to the actual content of the transcript.\\n\\nBased on the evaluation criteria:\\nRating: 4</td>\n",
              "    </tr>\n",
              "    <tr>\n",
              "      <th>3</th>\n",
              "      <td>[Redesigned shape for portability, Thinned out bezels and larger display, Improved 1080p webcam, Higher max brightness and lower minimum brightness display, Addition of MagSafe and fast charging, Long-lasting battery life, Good quality speakers]</td>\n",
              "      <td>[Limited ports with only two USB-C Thunderbolt 3 ports, Durability concerns with the Midnight color showing scratches and being a fingerprint magnet, Baseline version with slower SSD and lower memory capacity]</td>\n",
              "      <td>[USB-C port on both sides, Improved durability for the laptop color options, Better baseline storage and memory options]</td>\n",
              "      <td>positive</td>\n",
              "      <td>[M1 MacBook Air, M2 MacBook Pro, 14 inch MacBook Pro]</td>\n",
              "      <td>neutral</td>\n",
              "      <td>{'Battery Life': 5, 'Performance': 4, 'Design': 4, 'Display Quality': 3, 'Portability': 3, 'Storage and Memory': 2, 'Durability': 2, 'Price': 1}</td>\n",
              "      <td>The influencer appreciates the redesigned shape for portability, thinned bezels, larger display, improved webcam, better display brightness, addition of MagSafe, fast charging, long-lasting battery, and good speakers in the MacBook Air. However, they expressed concerns about limited ports, durability issues with the Midnight color, and the baseline version's slower SSD and lower memory capacity. The influencer suggests future improvements in port options, durability, and baseline storage and memory. Overall, the review is positive, highlighting the impressive performance of the M2 chip in the MacBook Air, but also noting the higher price point compared to the previous generation.</td>\n",
              "      <td>\\nSteps to evaluate the output:\\n\\n1. Check if the AI-generated json includes all the required headings: [\"Liked Features\", \"Disliked Features\", \"Future Requirements\", \"Overall Sentiment\", \"Competitor Mention\", \"Competitor Sentiment\", \"Feature Importance\", \"Summary\"].\\n2. Verify if the content under each heading in the json reflects accurate information based on the transcript.\\n3. Compare the details mentioned in the json with the key points discussed in the transcript to ensure they align correctly.\\n4. Evaluate if the json covers all the major aspects discussed in the transcript and provides a comprehensive summary of the content.\\n5. Assess the overall sentiment provided in the json to see if it correctly represents the influencer's opinion.\\n\\nExplanation of adherence to the metric:\\n\\n1. Liked Features: The json accurately mentions the redesigned shape for portability, thinned out bezels, notch with 1080p webcam, improved display with higher brightness levels, MagSafe charger, fast charging capability, and long-lasting battery life. These features align with the influencer's positive opinions on the design changes and improvements in the MacBook Air, as discussed in the transcript. It also includes details about the color-matching braided cable and the addition of Midnight color, reflecting the influencer's comments on the color options.\\n\\n2. Disliked Features: The json mentions the limited ports with only two USB-C Thunderbolt 3 ports, which corresponds to the influencer's statement about wanting USB-C on both sides and the restriction of one external monitor support. This aligns with the discussion in the transcript where the influencer expressed their wish for additional USB-C ports and more flexible monitor connectivity.\\n\\n3. Future Requirements: The json includes the future requirement of having a USB-C port on both sides and improved durability, which is in line with the influencer's suggestions for potential enhancements in the MacBook Air. This reflects the influencer's concerns about port placement and durability issues mentioned in the transcript.\\n\\n4. Overall Sentiment: The json correctly captures the overall positive sentiment towards the MacBook Air, as indicated by the influencer's favorable comments about the design changes, performance, and usability of the laptop. The positive sentiment expressed in the json matches the influencer's overall positive review of the device in the transcript.\\n\\n5. Competitor Mention and Competitor Sentiment: The json mentions competitors like the M1 MacBook Air, M2 MacBook Pro, and 14-inch MacBook Pro, which aligns with the influencer's comparison of different Apple laptop models in the transcript. The neutral sentiment towards competitors also corresponds to the informative nature of the discussions about the different models.\\n\\n6. Feature Importance: The json provides a detailed breakdown of feature importance, highlighting aspects like battery life, performance, and design. These features are consistent with the influencer's emphasis on battery longevity, performance improvements, and design changes in the MacBook Air during the review.\\n\\n7. Summary: The json offers a comprehensive summary that captures the influencer's key points about the MacBook Air, including the positive feedback on the redesigned shape, improved display, MagSafe charger, and long-lasting battery life. It effectively summarizes the influencer's review by highlighting the significant aspects of the laptop discussed in the transcript.\\n\\nBased on the evaluation of the output against the metric and the extent to which it aligns with the content of the transcript, the AI-generated json receives a rating of 5 - The metric is followed completely. The json effectively encapsulates the main features, sentiments, and discussions presented in the transcript, demonstrating a comprehensive understanding of the influencer's review of the MacBook Air.</td>\n",
              "    </tr>\n",
              "    <tr>\n",
              "      <th>4</th>\n",
              "      <td>[Magsafe charging, Great keyboard with touch ID, Solid trackpad, Fantastic display with 1080p webcam, Better CPU and GPU performance than M1, Replaceable storage, Good speakers]</td>\n",
              "      <td>[Expensive pricing, Throttling under heavy load, GPU performance not as good as Apple's Macbooks, Battery life not as good as Apple's Macbooks, Speakers on some models not particularly good]</td>\n",
              "      <td>[Lower pricing for M2 MacBook Air to compete better in the market]</td>\n",
              "      <td>Positive</td>\n",
              "      <td>[Dell XPS 13 Plus, Asus Zenbook S13, HP Aero13]</td>\n",
              "      <td>Neutral</td>\n",
              "      <td>{'Performance': 1, 'Battery Life': 2, 'Display Quality': 3, 'Build Quality': 4, 'Price': 5}</td>\n",
              "      <td>The influencer praises the M2 MacBook Air for its thin design, Magsafe charging, great keyboard, solid trackpad, fantastic display, and improved CPU and GPU performance over the M1. They also highlight some Windows alternatives like the Dell XPS 13 Plus, Asus Zenbook S13, and HP Aero13, mentioning their strengths and weaknesses. The influencer expresses a positive sentiment overall but suggests that lower pricing for the M2 MacBook Air could make it more competitive in the market.</td>\n",
              "      <td>Steps to evaluate the json based on the metric:\\n1. Check if the \"Liked Features\" mentioned in the json match the features discussed positively in the transcript.\\n2. Verify if the \"Disliked Features\" in the json align with the negative aspects highlighted in the transcript.\\n3. Assess if the \"Future Requirements\" listed in the json correspond to any suggestions or improvements mentioned in the transcript.\\n4. Confirm if the \"Overall Sentiment\" in the json reflects the general positive sentiment of the transcript.\\n5. Check if the competitors mentioned in the json match the laptops discussed in the transcript.\\n6. Confirm if the \"Competitor Sentiment\" accurately represents the neutral sentiment towards the competitors.\\n7. Evaluate if the \"Feature Importance\" in the json covers the key features and aspects emphasized in the transcript.\\n8. Verify if the \"Summary\" in the json provides an accurate overview of the main points and discussions in the transcript.\\n\\nExplanation of adherence to the metric:\\n- Liked Features: The json mentions liked features such as Magsafe charging, great keyboard, touch ID, and solid trackpad, which align with the positive aspects of the discussed laptops in the transcript. Therefore, this section aligns with the content of the transcript.\\n- Disliked Features: The disliked features include expensive pricing and throttling under heavy load, which correspond to the negative points highlighted in the transcript regarding the pricing and performance issues. Thus, this section also follows the content of the transcript.\\n- Future Requirements: The future requirements listed in the json suggest lower pricing for M2 MacBook Air to compete better, which reflects the suggestion mentioned in the transcript regarding pricing adjustments. Hence, this section also adheres to the content of the transcript.\\n- Overall Sentiment: The overall sentiment in the json is positive, which accurately represents the generally positive tone of the transcript towards the discussed laptops. Therefore, this section aligns with the sentiment of the transcript.\\n- Competitor Mention: The competitors mentioned in the json (Dell XPS 13 Plus, Asus Zenbook S13, HP Aero13) match the laptops discussed in the transcript, indicating alignment with the content.\\n- Competitor Sentiment: The competitor sentiment is mentioned as neutral, which is in line with the neutral comparison of competitors in the transcript. Thus, this section also follows the transcript content.\\n- Feature Importance: The feature importance section covers key aspects like performance, battery life, display, and others, reflecting the significant features discussed in the transcript. Hence, this section aligns with the content.\\n- Summary: The summary in the json provides an overview of the main points discussed in the transcript, including the praise for M2 MacBook Air and comparisons with other laptops, indicating alignment with the content.\\n\\nExtent to which the metric is followed: \\nGiven that the json accurately captures and represents the major aspects and sentiments discussed in the transcript, the metric is followed mostly if not completely. \\n\\nRating: 4</td>\n",
              "    </tr>\n",
              "  </tbody>\n",
              "</table>\n",
              "</div>\n",
              "    <div class=\"colab-df-buttons\">\n",
              "\n",
              "  <div class=\"colab-df-container\">\n",
              "    <button class=\"colab-df-convert\" onclick=\"convertToInteractive('df-017f0383-a718-40a0-9b3a-38dc4923b1c9')\"\n",
              "            title=\"Convert this dataframe to an interactive table.\"\n",
              "            style=\"display:none;\">\n",
              "\n",
              "  <svg xmlns=\"http://www.w3.org/2000/svg\" height=\"24px\" viewBox=\"0 -960 960 960\">\n",
              "    <path d=\"M120-120v-720h720v720H120Zm60-500h600v-160H180v160Zm220 220h160v-160H400v160Zm0 220h160v-160H400v160ZM180-400h160v-160H180v160Zm440 0h160v-160H620v160ZM180-180h160v-160H180v160Zm440 0h160v-160H620v160Z\"/>\n",
              "  </svg>\n",
              "    </button>\n",
              "\n",
              "  <style>\n",
              "    .colab-df-container {\n",
              "      display:flex;\n",
              "      gap: 12px;\n",
              "    }\n",
              "\n",
              "    .colab-df-convert {\n",
              "      background-color: #E8F0FE;\n",
              "      border: none;\n",
              "      border-radius: 50%;\n",
              "      cursor: pointer;\n",
              "      display: none;\n",
              "      fill: #1967D2;\n",
              "      height: 32px;\n",
              "      padding: 0 0 0 0;\n",
              "      width: 32px;\n",
              "    }\n",
              "\n",
              "    .colab-df-convert:hover {\n",
              "      background-color: #E2EBFA;\n",
              "      box-shadow: 0px 1px 2px rgba(60, 64, 67, 0.3), 0px 1px 3px 1px rgba(60, 64, 67, 0.15);\n",
              "      fill: #174EA6;\n",
              "    }\n",
              "\n",
              "    .colab-df-buttons div {\n",
              "      margin-bottom: 4px;\n",
              "    }\n",
              "\n",
              "    [theme=dark] .colab-df-convert {\n",
              "      background-color: #3B4455;\n",
              "      fill: #D2E3FC;\n",
              "    }\n",
              "\n",
              "    [theme=dark] .colab-df-convert:hover {\n",
              "      background-color: #434B5C;\n",
              "      box-shadow: 0px 1px 3px 1px rgba(0, 0, 0, 0.15);\n",
              "      filter: drop-shadow(0px 1px 2px rgba(0, 0, 0, 0.3));\n",
              "      fill: #FFFFFF;\n",
              "    }\n",
              "  </style>\n",
              "\n",
              "    <script>\n",
              "      const buttonEl =\n",
              "        document.querySelector('#df-017f0383-a718-40a0-9b3a-38dc4923b1c9 button.colab-df-convert');\n",
              "      buttonEl.style.display =\n",
              "        google.colab.kernel.accessAllowed ? 'block' : 'none';\n",
              "\n",
              "      async function convertToInteractive(key) {\n",
              "        const element = document.querySelector('#df-017f0383-a718-40a0-9b3a-38dc4923b1c9');\n",
              "        const dataTable =\n",
              "          await google.colab.kernel.invokeFunction('convertToInteractive',\n",
              "                                                    [key], {});\n",
              "        if (!dataTable) return;\n",
              "\n",
              "        const docLinkHtml = 'Like what you see? Visit the ' +\n",
              "          '<a target=\"_blank\" href=https://colab.research.google.com/notebooks/data_table.ipynb>data table notebook</a>'\n",
              "          + ' to learn more about interactive tables.';\n",
              "        element.innerHTML = '';\n",
              "        dataTable['output_type'] = 'display_data';\n",
              "        await google.colab.output.renderOutput(dataTable, element);\n",
              "        const docLink = document.createElement('div');\n",
              "        docLink.innerHTML = docLinkHtml;\n",
              "        element.appendChild(docLink);\n",
              "      }\n",
              "    </script>\n",
              "  </div>\n",
              "\n",
              "\n",
              "    <div id=\"df-72b7004d-c6aa-424d-b82c-02725f5e7bed\">\n",
              "      <button class=\"colab-df-quickchart\" onclick=\"quickchart('df-72b7004d-c6aa-424d-b82c-02725f5e7bed')\"\n",
              "                title=\"Suggest charts\"\n",
              "                style=\"display:none;\">\n",
              "\n",
              "<svg xmlns=\"http://www.w3.org/2000/svg\" height=\"24px\"viewBox=\"0 0 24 24\"\n",
              "     width=\"24px\">\n",
              "    <g>\n",
              "        <path d=\"M19 3H5c-1.1 0-2 .9-2 2v14c0 1.1.9 2 2 2h14c1.1 0 2-.9 2-2V5c0-1.1-.9-2-2-2zM9 17H7v-7h2v7zm4 0h-2V7h2v10zm4 0h-2v-4h2v4z\"/>\n",
              "    </g>\n",
              "</svg>\n",
              "      </button>\n",
              "\n",
              "<style>\n",
              "  .colab-df-quickchart {\n",
              "      --bg-color: #E8F0FE;\n",
              "      --fill-color: #1967D2;\n",
              "      --hover-bg-color: #E2EBFA;\n",
              "      --hover-fill-color: #174EA6;\n",
              "      --disabled-fill-color: #AAA;\n",
              "      --disabled-bg-color: #DDD;\n",
              "  }\n",
              "\n",
              "  [theme=dark] .colab-df-quickchart {\n",
              "      --bg-color: #3B4455;\n",
              "      --fill-color: #D2E3FC;\n",
              "      --hover-bg-color: #434B5C;\n",
              "      --hover-fill-color: #FFFFFF;\n",
              "      --disabled-bg-color: #3B4455;\n",
              "      --disabled-fill-color: #666;\n",
              "  }\n",
              "\n",
              "  .colab-df-quickchart {\n",
              "    background-color: var(--bg-color);\n",
              "    border: none;\n",
              "    border-radius: 50%;\n",
              "    cursor: pointer;\n",
              "    display: none;\n",
              "    fill: var(--fill-color);\n",
              "    height: 32px;\n",
              "    padding: 0;\n",
              "    width: 32px;\n",
              "  }\n",
              "\n",
              "  .colab-df-quickchart:hover {\n",
              "    background-color: var(--hover-bg-color);\n",
              "    box-shadow: 0 1px 2px rgba(60, 64, 67, 0.3), 0 1px 3px 1px rgba(60, 64, 67, 0.15);\n",
              "    fill: var(--button-hover-fill-color);\n",
              "  }\n",
              "\n",
              "  .colab-df-quickchart-complete:disabled,\n",
              "  .colab-df-quickchart-complete:disabled:hover {\n",
              "    background-color: var(--disabled-bg-color);\n",
              "    fill: var(--disabled-fill-color);\n",
              "    box-shadow: none;\n",
              "  }\n",
              "\n",
              "  .colab-df-spinner {\n",
              "    border: 2px solid var(--fill-color);\n",
              "    border-color: transparent;\n",
              "    border-bottom-color: var(--fill-color);\n",
              "    animation:\n",
              "      spin 1s steps(1) infinite;\n",
              "  }\n",
              "\n",
              "  @keyframes spin {\n",
              "    0% {\n",
              "      border-color: transparent;\n",
              "      border-bottom-color: var(--fill-color);\n",
              "      border-left-color: var(--fill-color);\n",
              "    }\n",
              "    20% {\n",
              "      border-color: transparent;\n",
              "      border-left-color: var(--fill-color);\n",
              "      border-top-color: var(--fill-color);\n",
              "    }\n",
              "    30% {\n",
              "      border-color: transparent;\n",
              "      border-left-color: var(--fill-color);\n",
              "      border-top-color: var(--fill-color);\n",
              "      border-right-color: var(--fill-color);\n",
              "    }\n",
              "    40% {\n",
              "      border-color: transparent;\n",
              "      border-right-color: var(--fill-color);\n",
              "      border-top-color: var(--fill-color);\n",
              "    }\n",
              "    60% {\n",
              "      border-color: transparent;\n",
              "      border-right-color: var(--fill-color);\n",
              "    }\n",
              "    80% {\n",
              "      border-color: transparent;\n",
              "      border-right-color: var(--fill-color);\n",
              "      border-bottom-color: var(--fill-color);\n",
              "    }\n",
              "    90% {\n",
              "      border-color: transparent;\n",
              "      border-bottom-color: var(--fill-color);\n",
              "    }\n",
              "  }\n",
              "</style>\n",
              "\n",
              "      <script>\n",
              "        async function quickchart(key) {\n",
              "          const quickchartButtonEl =\n",
              "            document.querySelector('#' + key + ' button');\n",
              "          quickchartButtonEl.disabled = true;  // To prevent multiple clicks.\n",
              "          quickchartButtonEl.classList.add('colab-df-spinner');\n",
              "          try {\n",
              "            const charts = await google.colab.kernel.invokeFunction(\n",
              "                'suggestCharts', [key], {});\n",
              "          } catch (error) {\n",
              "            console.error('Error during call to suggestCharts:', error);\n",
              "          }\n",
              "          quickchartButtonEl.classList.remove('colab-df-spinner');\n",
              "          quickchartButtonEl.classList.add('colab-df-quickchart-complete');\n",
              "        }\n",
              "        (() => {\n",
              "          let quickchartButtonEl =\n",
              "            document.querySelector('#df-72b7004d-c6aa-424d-b82c-02725f5e7bed button');\n",
              "          quickchartButtonEl.style.display =\n",
              "            google.colab.kernel.accessAllowed ? 'block' : 'none';\n",
              "        })();\n",
              "      </script>\n",
              "    </div>\n",
              "\n",
              "    </div>\n",
              "  </div>\n"
            ],
            "text/plain": [
              "                                                                                                                                                                                                                                          Liked Features  \\\n",
              "0                                                                                                                                                                          [Improved battery life, Dual external display support, Improved base storage]   \n",
              "1       [Bigger screen for more room, Slightly bigger trackpad, Additional set of speakers for louder sound, Good battery life, Impressive performance from the M2 chip, Color matching braided MagSafe cable, Ecosystem integration with Apple devices]   \n",
              "2                                                                                                                                                                   [Touch ID sensor, MagSafe port, Speaker quality, Design aesthetics, Internal design]   \n",
              "3  [Redesigned shape for portability, Thinned out bezels and larger display, Improved 1080p webcam, Higher max brightness and lower minimum brightness display, Addition of MagSafe and fast charging, Long-lasting battery life, Good quality speakers]   \n",
              "4                                                                      [Magsafe charging, Great keyboard with touch ID, Solid trackpad, Fantastic display with 1080p webcam, Better CPU and GPU performance than M1, Replaceable storage, Good speakers]   \n",
              "\n",
              "                                                                                                                                                                                                   Disliked Features  \\\n",
              "0                                                                                                                               [High markup prices for upgrades, Base spec may not be sufficient for heavier tasks]   \n",
              "1                                                                                     [Price can quickly increase with upgrades, Limited upgrade options, Notable price difference compared to some Windows laptops]   \n",
              "2                                                                                                               [Storage speed compared to previous model, Lack of fan for cooling, Pricing compared to MacBook Pro]   \n",
              "3  [Limited ports with only two USB-C Thunderbolt 3 ports, Durability concerns with the Midnight color showing scratches and being a fingerprint magnet, Baseline version with slower SSD and lower memory capacity]   \n",
              "4                     [Expensive pricing, Throttling under heavy load, GPU performance not as good as Apple's Macbooks, Battery life not as good as Apple's Macbooks, Speakers on some models not particularly good]   \n",
              "\n",
              "                                                                                                        Future Requirements  \\\n",
              "0                                                                    [Lower pricing for upgrades, More value for base spec]   \n",
              "1                                                         [Potential for better thermal management for sustained workloads]   \n",
              "2                                                                  [Higher storage options, More memory (16GB as standard)]   \n",
              "3  [USB-C port on both sides, Improved durability for the laptop color options, Better baseline storage and memory options]   \n",
              "4                                                        [Lower pricing for M2 MacBook Air to compete better in the market]   \n",
              "\n",
              "  Overall Sentiment                                     Competitor Mention  \\\n",
              "0           Neutral                                     [Dell, HP, Lenovo]   \n",
              "1          positive                                 [XPF 15, ROG Zephyrus]   \n",
              "2           Neutral                                                 [Dell]   \n",
              "3          positive  [M1 MacBook Air, M2 MacBook Pro, 14 inch MacBook Pro]   \n",
              "4          Positive        [Dell XPS 13 Plus, Asus Zenbook S13, HP Aero13]   \n",
              "\n",
              "  Competitor Sentiment  \\\n",
              "0              Neutral   \n",
              "1              neutral   \n",
              "2              Neutral   \n",
              "3              neutral   \n",
              "4              Neutral   \n",
              "\n",
              "                                                                                                                                                                     Feature Importance  \\\n",
              "0                          {'Improved battery life': 3, 'Dual external display support': 2, 'Improved base storage': 1, 'Lower pricing for upgrades': 1, 'More value for base spec': 1}   \n",
              "1  {'Bigger screen': 5, 'Good battery life': 4, 'Impressive performance': 4, 'Ecosystem integration': 3, 'Build quality': 3, 'Price': 2, 'Upgrade options': 2, 'Thermal management': 1}   \n",
              "2                   {'Touch ID sensor': 5, 'Speaker quality': 4, 'Design aesthetics': 4, 'MagSafe port': 3, 'Storage speed': 3, 'Cooling system': 2, 'Pricing': 2, 'Memory options': 4}   \n",
              "3                                      {'Battery Life': 5, 'Performance': 4, 'Design': 4, 'Display Quality': 3, 'Portability': 3, 'Storage and Memory': 2, 'Durability': 2, 'Price': 1}   \n",
              "4                                                                                           {'Performance': 1, 'Battery Life': 2, 'Display Quality': 3, 'Build Quality': 4, 'Price': 5}   \n",
              "\n",
              "                                                                                                                                                                                                                                                                                                                                                                                                                                                                                                                                                                                                                                                                                                                         Summary  \\\n",
              "0                                                                                                                                         The tech influencer reviewed the new MacBook Air with the M3 chip, highlighting features like improved battery life, dual external display support, and better base storage. However, they criticized the high markup prices for upgrades and questioned the sufficiency of the base spec for heavier tasks. The influencer suggested that for basic usage, the M2 MacBook Air might be a more cost-effective option. They also discussed the impact of Apple silicon on the lineup, making high-end tasks possible on a MacBook Air. The overall sentiment of the review was neutral.   \n",
              "1  The influencer positively reviewed the 15-inch MacBook Air, highlighting its bigger screen, slightly bigger trackpad, additional speakers for louder sound, good battery life, and impressive performance from the M2 chip. They also appreciated the color matching braided MagSafe cable and ecosystem integration with Apple devices. However, they noted that the price could quickly increase with upgrades and highlighted the notable price difference compared to some Windows laptops. The influencer mentioned a potential requirement for better thermal management for sustained workloads in future models. Overall, the review was positive, with neutral mentions of competitors like XPF 15 and ROG Zephyrus.   \n",
              "2                                                                                                                                                                                                                             The tech-influencer reviewed the MacBook Air M1 and M2 models, appreciating features like the Touch ID sensor, MagSafe port, speaker quality, design aesthetics, and internal design. However, they expressed concerns about the storage speed, lack of a fan for cooling, and pricing compared to the MacBook Pro. They suggested higher storage options and more memory for future models. The overall sentiment of the review was neutral, with a mention of Dell laptops in a neutral context.   \n",
              "3               The influencer appreciates the redesigned shape for portability, thinned bezels, larger display, improved webcam, better display brightness, addition of MagSafe, fast charging, long-lasting battery, and good speakers in the MacBook Air. However, they expressed concerns about limited ports, durability issues with the Midnight color, and the baseline version's slower SSD and lower memory capacity. The influencer suggests future improvements in port options, durability, and baseline storage and memory. Overall, the review is positive, highlighting the impressive performance of the M2 chip in the MacBook Air, but also noting the higher price point compared to the previous generation.   \n",
              "4                                                                                                                                                                                                                          The influencer praises the M2 MacBook Air for its thin design, Magsafe charging, great keyboard, solid trackpad, fantastic display, and improved CPU and GPU performance over the M1. They also highlight some Windows alternatives like the Dell XPS 13 Plus, Asus Zenbook S13, and HP Aero13, mentioning their strengths and weaknesses. The influencer expresses a positive sentiment overall but suggests that lower pricing for the M2 MacBook Air could make it more competitive in the market.   \n",
              "\n",
              "                                                                                                                                                                                                                                                                                                                                                                                                                                                                                                                                                                                                                                                                                                                                                                                                                                                                                                                                                                                                                                                                                                                                                                                                                                                                                                                                                                                                                                                                                                                                                                                                                                                                                                                                                                                                                                                                                                                                                                                                                                                                                                                                                                                                                                                                                                                                                                                                                                                                                                                                                                                                                                                                                                                                                                                                                                                                                                                                                                                                                                                                                                                                                                                                                                                                                                                                                                                                                                                                                                                                                                                                                                                                                                                                                                                                                                                                                                                                                                                                                                                                                                   rating  \n",
              "0                                                                                                                                                                                                                                                                                                                                                                                                                                                                                                                                                                                                                                                                                                                                                                                                                                                                                                     Steps to evaluate the output as per the metric:\\n1. Check if the \"Liked Features\" section in the json includes features mentioned positively in the transcript.\\n2. Verify if the \"Disliked Features\" section in the json includes features mentioned negatively in the transcript.\\n3. Confirm if the \"Future Requirements\" section in the json includes suggestions or desires discussed in the transcript.\\n4. Check if the \"Overall Sentiment\" in the json accurately represents the overall sentiment expressed in the transcript.\\n5. Determine if the \"Competitor Mention\" section in the json lists competitors mentioned in the transcript.\\n6. Ensure that the \"Competitor Sentiment\" in the json matches the sentiments expressed towards competitors in the transcript.\\n7. Assess if the \"Feature Importance\" section in the json reflects the importance assigned to features as discussed in the transcript.\\n8. Confirm if the \"Summary\" in the json provides a concise overview of the key points discussed in the transcript.\\n\\nExplanation:\\nThe Liked Features section in the json includes \"Improved battery life\" and \"Dual external display support,\" which are positively mentioned in the transcript. This aligns with the content of the transcript.\\n\\nThe Disliked Features section in the json mentions \"High markup prices for upgrades\" and \"Base spec markup,\" which are negatively discussed in the transcript. This indicates that the json accurately reflects the negative aspects highlighted in the transcript.\\n\\nThe Future Requirements section in the json recommends \"Lower pricing for upgrades\" and \"More value for base spec,\" which are suggestions provided in the transcript for improvement. This demonstrates that the json aligns with the desired future requirements mentioned in the transcript.\\n\\nThe Overall Sentiment in the json is stated as \"Neutral,\" which matches the overall neutral tone of the transcript. This indicates that the sentiment is accurately represented in the json.\\n\\nThe Competitor Mention section in the json lists competitors such as Dell, HP, and Lenovo, which are mentioned in the transcript. This shows that the json includes the relevant competitor information discussed in the transcript.\\n\\nThe Competitor Sentiment in the json is stated as \"Neutral,\" which corresponds to the neutral sentiment expressed towards competitors in the transcript. This shows that the sentiment towards competitors is accurately reflected in the json.\\n\\nThe Feature Importance section in the json provides a ranking of the importance of different features, which showcases the features' significance as discussed in the transcript. This indicates that the json aligns with the discussion on feature importance in the transcript.\\n\\nThe Summary in the json offers a brief overview of the key points discussed in the transcript, highlighting the review of the new MacBook Air by a tech influencer, which matches the content of the transcript.\\n\\nExtent to which the metric is followed: 5 - The metric is followed completely\\n\\nBased on the evaluation criteria, the score is: 5  \n",
              "1                                                                                                                                                                                                                                                                                                                                                                                                                                                                                                                                                                                                                                                                                                                                                                                                      Steps to evaluate the output as per the metric:\\n1. Check if the \"Liked Features\" in the json align with the positive aspects mentioned in the transcript regarding the 15-inch MacBook Air.\\n2. Verify if the \"Disliked Features\" in the json match with the negative aspects discussed in the transcript, especially focusing on the price increasing with upgrades.\\n3. Confirm if the \"Future Requirements\" in the json coincide with any suggestions or potential improvements mentioned in the transcript.\\n4. Ensure that the \"Overall Sentiment\" in the json aligns with the general positive sentiment expressed towards the MacBook Air in the transcript.\\n5. Check if the \"Competitor Mention\" in the json includes the competitors like XPF 15 and ROG Zephyrus as discussed in the transcript.\\n6. Validate if the \"Competitor Sentiment\" in the json matches the neutral sentiment shown towards the competitors in the transcript.\\n7. Check if the \"Feature Importance\" in the json reflects the key features like the bigger screen, good battery life, and others highlighted in the transcript.\\n8. Verify if the \"Summary\" in the json provides a cohesive summary of the transcript's content, emphasizing the positive review of the 15-inch MacBook Air.\\n\\nExplanation:\\n- The Liked Features in the json mention the bigger screen providing more room, which aligns with the discussion in the transcript about the benefits of a larger display. Additionally, the mention of bigger text and windows corresponds to the transcript content. Therefore, this aspect is mostly followed.\\n- The Disliked Features in the json highlight the price increasing with upgrades, which is in line with the concern raised in the transcript about the base price and potential additional costs. Hence, this aspect is mostly followed.\\n- The Future Requirements in the json suggest potential better thermal management, which corresponds to the discussion in the transcript regarding thermal performance. Therefore, this aspect is mostly followed.\\n- The Overall Sentiment in the json reflects a positive sentiment towards the MacBook Air, which aligns with the overall positive tone of the transcript. Hence, this aspect is followed completely.\\n- The Competitor Mention in the json includes XPF 15 and ROG Zephyrus, as mentioned in the transcript in comparison with other laptops. This aspect is followed completely.\\n- The Competitor Sentiment in the json indicates a neutral sentiment towards the competitors, which matches the neutral tone towards other laptops in the transcript. Therefore, this aspect is followed completely.\\n- The Feature Importance in the json highlights key features like the bigger screen and good battery life, which correspond to the key features discussed in the transcript. This aspect is mostly followed.\\n- The Summary in the json provides a positive review of the 15-inch MacBook Air, summarizing the key points discussed in the transcript. This aspect is followed mostly.\\n\\nExtent to which the metric is followed: The output adheres well to the metric provided, covering all the required aspects based on the transcript content.\\n\\nRating: 5 - The metric is followed completely.  \n",
              "2                                                                                                                                                                                                                                                                                                                                                                                                                                                                                                                                                                                                                                                                                                                                                                                                                                                                                                                                                                                                                                                                                                                                                                                                        Steps to evaluate the output as per the metric:\\n1. Compare the \"Liked Features\", \"Disliked Features\", \"Future Requirements\" mentioned in the json with the features, aspects, and requirements discussed in the transcript.\\n2. Check if the \"Overall Sentiment\" in the json (Neutral) aligns with the overall tone of the transcript.\\n3. Verify if the \"Competitor Mention\" (Dell) and \"Competitor Sentiment\" (Neutral) in the json matches any mentions or sentiments towards competitors in the transcript.\\n4. Evaluate the \"Feature Importance\" in the json based on the emphasis placed on different features in the transcript.\\n5. Examine the \"Summary\" provided in the json and assess if it accurately reflects the main points discussed in the transcript.\\n\\nExplanation based on the dialogues:\\n- Liked Features: The Liked Features mentioned in the json include the Touch ID sensor, MagSafe port, and Speaker quality. These features are also positively discussed in the transcript when the speaker talks about the touch ID sensor, MagSafe port, and performs a speaker test, indicating alignment between the transcript and the json.\\n- Disliked Features: The Disliked Features in the json include storage speed compared to the previous model and lack of certain features. The transcript discusses the storage speed difference between models, aligning with the json.\\n- Future Requirements: The Future Requirements in the json mention higher storage options and more memory, which are also discussed in the transcript in relation to upgrading the storage and memory for better performance.\\n- Overall Sentiment: The Overall Sentiment in the json is described as Neutral. The transcript provides a mix of positive and critical comments, which could lead to a neutral sentiment overall.\\n- Competitor Mention and Sentiment: The json mentions Dell as a competitor with a Neutral sentiment, which is not explicitly discussed in the transcript, indicating a slight deviation from the content.\\n- Feature Importance: The json rates features like the Touch ID sensor and speaker quality as important, which aligns with the emphasis placed on these features during the review in the transcript.\\n- Summary: The provided summary in the json captures the essence of the review, mentioning the MacBook Air M1 and relevant features discussed in the transcript.\\n\\nExtent to which the metric is followed: 4 - The output mostly follows the metric by covering the Liked Features, Disliked Features, Future Requirements, Overall Sentiment, Feature Importance, and providing a Summary that reflects the main points discussed in the transcript. However, the Competitor Mention and Sentiment could have been more closely tied to the actual content of the transcript.\\n\\nBased on the evaluation criteria:\\nRating: 4  \n",
              "3  \\nSteps to evaluate the output:\\n\\n1. Check if the AI-generated json includes all the required headings: [\"Liked Features\", \"Disliked Features\", \"Future Requirements\", \"Overall Sentiment\", \"Competitor Mention\", \"Competitor Sentiment\", \"Feature Importance\", \"Summary\"].\\n2. Verify if the content under each heading in the json reflects accurate information based on the transcript.\\n3. Compare the details mentioned in the json with the key points discussed in the transcript to ensure they align correctly.\\n4. Evaluate if the json covers all the major aspects discussed in the transcript and provides a comprehensive summary of the content.\\n5. Assess the overall sentiment provided in the json to see if it correctly represents the influencer's opinion.\\n\\nExplanation of adherence to the metric:\\n\\n1. Liked Features: The json accurately mentions the redesigned shape for portability, thinned out bezels, notch with 1080p webcam, improved display with higher brightness levels, MagSafe charger, fast charging capability, and long-lasting battery life. These features align with the influencer's positive opinions on the design changes and improvements in the MacBook Air, as discussed in the transcript. It also includes details about the color-matching braided cable and the addition of Midnight color, reflecting the influencer's comments on the color options.\\n\\n2. Disliked Features: The json mentions the limited ports with only two USB-C Thunderbolt 3 ports, which corresponds to the influencer's statement about wanting USB-C on both sides and the restriction of one external monitor support. This aligns with the discussion in the transcript where the influencer expressed their wish for additional USB-C ports and more flexible monitor connectivity.\\n\\n3. Future Requirements: The json includes the future requirement of having a USB-C port on both sides and improved durability, which is in line with the influencer's suggestions for potential enhancements in the MacBook Air. This reflects the influencer's concerns about port placement and durability issues mentioned in the transcript.\\n\\n4. Overall Sentiment: The json correctly captures the overall positive sentiment towards the MacBook Air, as indicated by the influencer's favorable comments about the design changes, performance, and usability of the laptop. The positive sentiment expressed in the json matches the influencer's overall positive review of the device in the transcript.\\n\\n5. Competitor Mention and Competitor Sentiment: The json mentions competitors like the M1 MacBook Air, M2 MacBook Pro, and 14-inch MacBook Pro, which aligns with the influencer's comparison of different Apple laptop models in the transcript. The neutral sentiment towards competitors also corresponds to the informative nature of the discussions about the different models.\\n\\n6. Feature Importance: The json provides a detailed breakdown of feature importance, highlighting aspects like battery life, performance, and design. These features are consistent with the influencer's emphasis on battery longevity, performance improvements, and design changes in the MacBook Air during the review.\\n\\n7. Summary: The json offers a comprehensive summary that captures the influencer's key points about the MacBook Air, including the positive feedback on the redesigned shape, improved display, MagSafe charger, and long-lasting battery life. It effectively summarizes the influencer's review by highlighting the significant aspects of the laptop discussed in the transcript.\\n\\nBased on the evaluation of the output against the metric and the extent to which it aligns with the content of the transcript, the AI-generated json receives a rating of 5 - The metric is followed completely. The json effectively encapsulates the main features, sentiments, and discussions presented in the transcript, demonstrating a comprehensive understanding of the influencer's review of the MacBook Air.  \n",
              "4                                                                                                                                                                                                                                                                                                                                                                                                                                                                                                                                                                                                                                                                                                                                                                                           Steps to evaluate the json based on the metric:\\n1. Check if the \"Liked Features\" mentioned in the json match the features discussed positively in the transcript.\\n2. Verify if the \"Disliked Features\" in the json align with the negative aspects highlighted in the transcript.\\n3. Assess if the \"Future Requirements\" listed in the json correspond to any suggestions or improvements mentioned in the transcript.\\n4. Confirm if the \"Overall Sentiment\" in the json reflects the general positive sentiment of the transcript.\\n5. Check if the competitors mentioned in the json match the laptops discussed in the transcript.\\n6. Confirm if the \"Competitor Sentiment\" accurately represents the neutral sentiment towards the competitors.\\n7. Evaluate if the \"Feature Importance\" in the json covers the key features and aspects emphasized in the transcript.\\n8. Verify if the \"Summary\" in the json provides an accurate overview of the main points and discussions in the transcript.\\n\\nExplanation of adherence to the metric:\\n- Liked Features: The json mentions liked features such as Magsafe charging, great keyboard, touch ID, and solid trackpad, which align with the positive aspects of the discussed laptops in the transcript. Therefore, this section aligns with the content of the transcript.\\n- Disliked Features: The disliked features include expensive pricing and throttling under heavy load, which correspond to the negative points highlighted in the transcript regarding the pricing and performance issues. Thus, this section also follows the content of the transcript.\\n- Future Requirements: The future requirements listed in the json suggest lower pricing for M2 MacBook Air to compete better, which reflects the suggestion mentioned in the transcript regarding pricing adjustments. Hence, this section also adheres to the content of the transcript.\\n- Overall Sentiment: The overall sentiment in the json is positive, which accurately represents the generally positive tone of the transcript towards the discussed laptops. Therefore, this section aligns with the sentiment of the transcript.\\n- Competitor Mention: The competitors mentioned in the json (Dell XPS 13 Plus, Asus Zenbook S13, HP Aero13) match the laptops discussed in the transcript, indicating alignment with the content.\\n- Competitor Sentiment: The competitor sentiment is mentioned as neutral, which is in line with the neutral comparison of competitors in the transcript. Thus, this section also follows the transcript content.\\n- Feature Importance: The feature importance section covers key aspects like performance, battery life, display, and others, reflecting the significant features discussed in the transcript. Hence, this section aligns with the content.\\n- Summary: The summary in the json provides an overview of the main points discussed in the transcript, including the praise for M2 MacBook Air and comparisons with other laptops, indicating alignment with the content.\\n\\nExtent to which the metric is followed: \\nGiven that the json accurately captures and represents the major aspects and sentiments discussed in the transcript, the metric is followed mostly if not completely. \\n\\nRating: 4  "
            ]
          },
          "execution_count": 118,
          "metadata": {},
          "output_type": "execute_result"
        }
      ],
      "source": [
        "\n",
        "final[\"rating\"] = ratings\n",
        "\n",
        "# Set pandas display options to show full column width\n",
        "pd.set_option('display.max_colwidth', None)\n",
        "\n",
        "final.head()"
      ]
    },
    {
      "cell_type": "code",
      "execution_count": 121,
      "metadata": {
        "colab": {
          "base_uri": "https://localhost:8080/"
        },
        "id": "MEi6VVs4-WVW",
        "outputId": "0bda95f5-c9cc-48a6-96f4-5db85fc4edc0"
      },
      "outputs": [
        {
          "name": "stdout",
          "output_type": "stream",
          "text": [
            "Steps to evaluate the output as per the metric:\n",
            "1. Check if the \"Liked Features\" section in the json includes features mentioned positively in the transcript.\n",
            "2. Verify if the \"Disliked Features\" section in the json includes features mentioned negatively in the transcript.\n",
            "3. Confirm if the \"Future Requirements\" section in the json includes suggestions or desires discussed in the transcript.\n",
            "4. Check if the \"Overall Sentiment\" in the json accurately represents the overall sentiment expressed in the transcript.\n",
            "5. Determine if the \"Competitor Mention\" section in the json lists competitors mentioned in the transcript.\n",
            "6. Ensure that the \"Competitor Sentiment\" in the json matches the sentiments expressed towards competitors in the transcript.\n",
            "7. Assess if the \"Feature Importance\" section in the json reflects the importance assigned to features as discussed in the transcript.\n",
            "8. Confirm if the \"Summary\" in the json provides a concise overview of the key points discussed in the transcript.\n",
            "\n",
            "Explanation:\n",
            "The Liked Features section in the json includes \"Improved battery life\" and \"Dual external display support,\" which are positively mentioned in the transcript. This aligns with the content of the transcript.\n",
            "\n",
            "The Disliked Features section in the json mentions \"High markup prices for upgrades\" and \"Base spec markup,\" which are negatively discussed in the transcript. This indicates that the json accurately reflects the negative aspects highlighted in the transcript.\n",
            "\n",
            "The Future Requirements section in the json recommends \"Lower pricing for upgrades\" and \"More value for base spec,\" which are suggestions provided in the transcript for improvement. This demonstrates that the json aligns with the desired future requirements mentioned in the transcript.\n",
            "\n",
            "The Overall Sentiment in the json is stated as \"Neutral,\" which matches the overall neutral tone of the transcript. This indicates that the sentiment is accurately represented in the json.\n",
            "\n",
            "The Competitor Mention section in the json lists competitors such as Dell, HP, and Lenovo, which are mentioned in the transcript. This shows that the json includes the relevant competitor information discussed in the transcript.\n",
            "\n",
            "The Competitor Sentiment in the json is stated as \"Neutral,\" which corresponds to the neutral sentiment expressed towards competitors in the transcript. This shows that the sentiment towards competitors is accurately reflected in the json.\n",
            "\n",
            "The Feature Importance section in the json provides a ranking of the importance of different features, which showcases the features' significance as discussed in the transcript. This indicates that the json aligns with the discussion on feature importance in the transcript.\n",
            "\n",
            "The Summary in the json offers a brief overview of the key points discussed in the transcript, highlighting the review of the new MacBook Air by a tech influencer, which matches the content of the transcript.\n",
            "\n",
            "Extent to which the metric is followed: 5 - The metric is followed completely\n",
            "\n",
            "Based on the evaluation criteria, the score is: 5\n"
          ]
        }
      ],
      "source": [
        "import json\n",
        "import pandas as pd\n",
        "\n",
        "# Display a specific row's rating as formatted JSON\n",
        "def display_rating_json(df, row_index):\n",
        "    rating_text = df.iloc[row_index][\"rating\"]\n",
        "    try:\n",
        "        # Try to parse as JSON\n",
        "        json_data = json.loads(rating_text)\n",
        "        print(json.dumps(json_data, indent=2))\n",
        "    except:\n",
        "        # If not valid JSON, just print the text\n",
        "        print(rating_text)\n",
        "\n",
        "\n",
        "display_rating_json(final, 0)  # Display first row's rating\n",
        "\n"
      ]
    },
    {
      "cell_type": "code",
      "execution_count": 122,
      "metadata": {
        "colab": {
          "base_uri": "https://localhost:8080/"
        },
        "id": "7n6Ap4mJ-cX1",
        "outputId": "67515e84-3039-4b15-8bcf-dc3dc95c6ad2"
      },
      "outputs": [
        {
          "name": "stdout",
          "output_type": "stream",
          "text": [
            "Row 0:\n",
            "--------------------------------------------------\n",
            "Steps to evaluate the output as per the metric:\n",
            "1. Check if the \"Liked Features\" section in the json includes features mentioned positively in the transcript.\n",
            "2. Verify if the \"Disliked Features\" section in the json includes features mentioned negatively in the transcript.\n",
            "3. Confirm if the \"Future Requirements\" section in the json includes suggestions or desires discussed in the transcript.\n",
            "4. Check if the \"Overall Sentiment\" in the json accurately represents the overall sentiment expressed in the transcript.\n",
            "5. Determine if the \"Competitor Mention\" section in the json lists competitors mentioned in the transcript.\n",
            "6. Ensure that the \"Competitor Sentiment\" in the json matches the sentiments expressed towards competitors in the transcript.\n",
            "7. Assess if the \"Feature Importance\" section in the json reflects the importance assigned to features as discussed in the transcript.\n",
            "8. Confirm if the \"Summary\" in the json provides a concise overview of the key points discussed in the transcript.\n",
            "\n",
            "Explanation:\n",
            "The Liked Features section in the json includes \"Improved battery life\" and \"Dual external display support,\" which are positively mentioned in the transcript. This aligns with the content of the transcript.\n",
            "\n",
            "The Disliked Features section in the json mentions \"High markup prices for upgrades\" and \"Base spec markup,\" which are negatively discussed in the transcript. This indicates that the json accurately reflects the negative aspects highlighted in the transcript.\n",
            "\n",
            "The Future Requirements section in the json recommends \"Lower pricing for upgrades\" and \"More value for base spec,\" which are suggestions provided in the transcript for improvement. This demonstrates that the json aligns with the desired future requirements mentioned in the transcript.\n",
            "\n",
            "The Overall Sentiment in the json is stated as \"Neutral,\" which matches the overall neutral tone of the transcript. This indicates that the sentiment is accurately represented in the json.\n",
            "\n",
            "The Competitor Mention section in the json lists competitors such as Dell, HP, and Lenovo, which are mentioned in the transcript. This shows that the json includes the relevant competitor information discussed in the transcript.\n",
            "\n",
            "The Competitor Sentiment in the json is stated as \"Neutral,\" which corresponds to the neutral sentiment expressed towards competitors in the transcript. This shows that the sentiment towards competitors is accurately reflected in the json.\n",
            "\n",
            "The Feature Importance section in the json provides a ranking of the importance of different features, which showcases the features' significance as discussed in the transcript. This indicates that the json aligns with the discussion on feature importance in the transcript.\n",
            "\n",
            "The Summary in the json offers a brief overview of the key points discussed in the transcript, highlighting the review of the new MacBook Air by a tech influencer, which matches the content of the transcript.\n",
            "\n",
            "Extent to which the metric is followed: 5 - The metric is followed completely\n",
            "\n",
            "Based on the evaluation criteria, the score is: 5\n",
            "\n",
            "\n",
            "Row 1:\n",
            "--------------------------------------------------\n",
            "Steps to evaluate the output as per the metric:\n",
            "1. Check if the \"Liked Features\" in the json align with the positive aspects mentioned in the transcript regarding the 15-inch MacBook Air.\n",
            "2. Verify if the \"Disliked Features\" in the json match with the negative aspects discussed in the transcript, especially focusing on the price increasing with upgrades.\n",
            "3. Confirm if the \"Future Requirements\" in the json coincide with any suggestions or potential improvements mentioned in the transcript.\n",
            "4. Ensure that the \"Overall Sentiment\" in the json aligns with the general positive sentiment expressed towards the MacBook Air in the transcript.\n",
            "5. Check if the \"Competitor Mention\" in the json includes the competitors like XPF 15 and ROG Zephyrus as discussed in the transcript.\n",
            "6. Validate if the \"Competitor Sentiment\" in the json matches the neutral sentiment shown towards the competitors in the transcript.\n",
            "7. Check if the \"Feature Importance\" in the json reflects the key features like the bigger screen, good battery life, and others highlighted in the transcript.\n",
            "8. Verify if the \"Summary\" in the json provides a cohesive summary of the transcript's content, emphasizing the positive review of the 15-inch MacBook Air.\n",
            "\n",
            "Explanation:\n",
            "- The Liked Features in the json mention the bigger screen providing more room, which aligns with the discussion in the transcript about the benefits of a larger display. Additionally, the mention of bigger text and windows corresponds to the transcript content. Therefore, this aspect is mostly followed.\n",
            "- The Disliked Features in the json highlight the price increasing with upgrades, which is in line with the concern raised in the transcript about the base price and potential additional costs. Hence, this aspect is mostly followed.\n",
            "- The Future Requirements in the json suggest potential better thermal management, which corresponds to the discussion in the transcript regarding thermal performance. Therefore, this aspect is mostly followed.\n",
            "- The Overall Sentiment in the json reflects a positive sentiment towards the MacBook Air, which aligns with the overall positive tone of the transcript. Hence, this aspect is followed completely.\n",
            "- The Competitor Mention in the json includes XPF 15 and ROG Zephyrus, as mentioned in the transcript in comparison with other laptops. This aspect is followed completely.\n",
            "- The Competitor Sentiment in the json indicates a neutral sentiment towards the competitors, which matches the neutral tone towards other laptops in the transcript. Therefore, this aspect is followed completely.\n",
            "- The Feature Importance in the json highlights key features like the bigger screen and good battery life, which correspond to the key features discussed in the transcript. This aspect is mostly followed.\n",
            "- The Summary in the json provides a positive review of the 15-inch MacBook Air, summarizing the key points discussed in the transcript. This aspect is followed mostly.\n",
            "\n",
            "Extent to which the metric is followed: The output adheres well to the metric provided, covering all the required aspects based on the transcript content.\n",
            "\n",
            "Rating: 5 - The metric is followed completely.\n",
            "\n",
            "\n",
            "Row 2:\n",
            "--------------------------------------------------\n",
            "Steps to evaluate the output as per the metric:\n",
            "1. Compare the \"Liked Features\", \"Disliked Features\", \"Future Requirements\" mentioned in the json with the features, aspects, and requirements discussed in the transcript.\n",
            "2. Check if the \"Overall Sentiment\" in the json (Neutral) aligns with the overall tone of the transcript.\n",
            "3. Verify if the \"Competitor Mention\" (Dell) and \"Competitor Sentiment\" (Neutral) in the json matches any mentions or sentiments towards competitors in the transcript.\n",
            "4. Evaluate the \"Feature Importance\" in the json based on the emphasis placed on different features in the transcript.\n",
            "5. Examine the \"Summary\" provided in the json and assess if it accurately reflects the main points discussed in the transcript.\n",
            "\n",
            "Explanation based on the dialogues:\n",
            "- Liked Features: The Liked Features mentioned in the json include the Touch ID sensor, MagSafe port, and Speaker quality. These features are also positively discussed in the transcript when the speaker talks about the touch ID sensor, MagSafe port, and performs a speaker test, indicating alignment between the transcript and the json.\n",
            "- Disliked Features: The Disliked Features in the json include storage speed compared to the previous model and lack of certain features. The transcript discusses the storage speed difference between models, aligning with the json.\n",
            "- Future Requirements: The Future Requirements in the json mention higher storage options and more memory, which are also discussed in the transcript in relation to upgrading the storage and memory for better performance.\n",
            "- Overall Sentiment: The Overall Sentiment in the json is described as Neutral. The transcript provides a mix of positive and critical comments, which could lead to a neutral sentiment overall.\n",
            "- Competitor Mention and Sentiment: The json mentions Dell as a competitor with a Neutral sentiment, which is not explicitly discussed in the transcript, indicating a slight deviation from the content.\n",
            "- Feature Importance: The json rates features like the Touch ID sensor and speaker quality as important, which aligns with the emphasis placed on these features during the review in the transcript.\n",
            "- Summary: The provided summary in the json captures the essence of the review, mentioning the MacBook Air M1 and relevant features discussed in the transcript.\n",
            "\n",
            "Extent to which the metric is followed: 4 - The output mostly follows the metric by covering the Liked Features, Disliked Features, Future Requirements, Overall Sentiment, Feature Importance, and providing a Summary that reflects the main points discussed in the transcript. However, the Competitor Mention and Sentiment could have been more closely tied to the actual content of the transcript.\n",
            "\n",
            "Based on the evaluation criteria:\n",
            "Rating: 4\n",
            "\n",
            "\n",
            "Row 3:\n",
            "--------------------------------------------------\n",
            "\n",
            "Steps to evaluate the output:\n",
            "\n",
            "1. Check if the AI-generated json includes all the required headings: [\"Liked Features\", \"Disliked Features\", \"Future Requirements\", \"Overall Sentiment\", \"Competitor Mention\", \"Competitor Sentiment\", \"Feature Importance\", \"Summary\"].\n",
            "2. Verify if the content under each heading in the json reflects accurate information based on the transcript.\n",
            "3. Compare the details mentioned in the json with the key points discussed in the transcript to ensure they align correctly.\n",
            "4. Evaluate if the json covers all the major aspects discussed in the transcript and provides a comprehensive summary of the content.\n",
            "5. Assess the overall sentiment provided in the json to see if it correctly represents the influencer's opinion.\n",
            "\n",
            "Explanation of adherence to the metric:\n",
            "\n",
            "1. Liked Features: The json accurately mentions the redesigned shape for portability, thinned out bezels, notch with 1080p webcam, improved display with higher brightness levels, MagSafe charger, fast charging capability, and long-lasting battery life. These features align with the influencer's positive opinions on the design changes and improvements in the MacBook Air, as discussed in the transcript. It also includes details about the color-matching braided cable and the addition of Midnight color, reflecting the influencer's comments on the color options.\n",
            "\n",
            "2. Disliked Features: The json mentions the limited ports with only two USB-C Thunderbolt 3 ports, which corresponds to the influencer's statement about wanting USB-C on both sides and the restriction of one external monitor support. This aligns with the discussion in the transcript where the influencer expressed their wish for additional USB-C ports and more flexible monitor connectivity.\n",
            "\n",
            "3. Future Requirements: The json includes the future requirement of having a USB-C port on both sides and improved durability, which is in line with the influencer's suggestions for potential enhancements in the MacBook Air. This reflects the influencer's concerns about port placement and durability issues mentioned in the transcript.\n",
            "\n",
            "4. Overall Sentiment: The json correctly captures the overall positive sentiment towards the MacBook Air, as indicated by the influencer's favorable comments about the design changes, performance, and usability of the laptop. The positive sentiment expressed in the json matches the influencer's overall positive review of the device in the transcript.\n",
            "\n",
            "5. Competitor Mention and Competitor Sentiment: The json mentions competitors like the M1 MacBook Air, M2 MacBook Pro, and 14-inch MacBook Pro, which aligns with the influencer's comparison of different Apple laptop models in the transcript. The neutral sentiment towards competitors also corresponds to the informative nature of the discussions about the different models.\n",
            "\n",
            "6. Feature Importance: The json provides a detailed breakdown of feature importance, highlighting aspects like battery life, performance, and design. These features are consistent with the influencer's emphasis on battery longevity, performance improvements, and design changes in the MacBook Air during the review.\n",
            "\n",
            "7. Summary: The json offers a comprehensive summary that captures the influencer's key points about the MacBook Air, including the positive feedback on the redesigned shape, improved display, MagSafe charger, and long-lasting battery life. It effectively summarizes the influencer's review by highlighting the significant aspects of the laptop discussed in the transcript.\n",
            "\n",
            "Based on the evaluation of the output against the metric and the extent to which it aligns with the content of the transcript, the AI-generated json receives a rating of 5 - The metric is followed completely. The json effectively encapsulates the main features, sentiments, and discussions presented in the transcript, demonstrating a comprehensive understanding of the influencer's review of the MacBook Air.\n",
            "\n",
            "\n",
            "Row 4:\n",
            "--------------------------------------------------\n",
            "Steps to evaluate the json based on the metric:\n",
            "1. Check if the \"Liked Features\" mentioned in the json match the features discussed positively in the transcript.\n",
            "2. Verify if the \"Disliked Features\" in the json align with the negative aspects highlighted in the transcript.\n",
            "3. Assess if the \"Future Requirements\" listed in the json correspond to any suggestions or improvements mentioned in the transcript.\n",
            "4. Confirm if the \"Overall Sentiment\" in the json reflects the general positive sentiment of the transcript.\n",
            "5. Check if the competitors mentioned in the json match the laptops discussed in the transcript.\n",
            "6. Confirm if the \"Competitor Sentiment\" accurately represents the neutral sentiment towards the competitors.\n",
            "7. Evaluate if the \"Feature Importance\" in the json covers the key features and aspects emphasized in the transcript.\n",
            "8. Verify if the \"Summary\" in the json provides an accurate overview of the main points and discussions in the transcript.\n",
            "\n",
            "Explanation of adherence to the metric:\n",
            "- Liked Features: The json mentions liked features such as Magsafe charging, great keyboard, touch ID, and solid trackpad, which align with the positive aspects of the discussed laptops in the transcript. Therefore, this section aligns with the content of the transcript.\n",
            "- Disliked Features: The disliked features include expensive pricing and throttling under heavy load, which correspond to the negative points highlighted in the transcript regarding the pricing and performance issues. Thus, this section also follows the content of the transcript.\n",
            "- Future Requirements: The future requirements listed in the json suggest lower pricing for M2 MacBook Air to compete better, which reflects the suggestion mentioned in the transcript regarding pricing adjustments. Hence, this section also adheres to the content of the transcript.\n",
            "- Overall Sentiment: The overall sentiment in the json is positive, which accurately represents the generally positive tone of the transcript towards the discussed laptops. Therefore, this section aligns with the sentiment of the transcript.\n",
            "- Competitor Mention: The competitors mentioned in the json (Dell XPS 13 Plus, Asus Zenbook S13, HP Aero13) match the laptops discussed in the transcript, indicating alignment with the content.\n",
            "- Competitor Sentiment: The competitor sentiment is mentioned as neutral, which is in line with the neutral comparison of competitors in the transcript. Thus, this section also follows the transcript content.\n",
            "- Feature Importance: The feature importance section covers key aspects like performance, battery life, display, and others, reflecting the significant features discussed in the transcript. Hence, this section aligns with the content.\n",
            "- Summary: The summary in the json provides an overview of the main points discussed in the transcript, including the praise for M2 MacBook Air and comparisons with other laptops, indicating alignment with the content.\n",
            "\n",
            "Extent to which the metric is followed: \n",
            "Given that the json accurately captures and represents the major aspects and sentiments discussed in the transcript, the metric is followed mostly if not completely. \n",
            "\n",
            "Rating: 4\n",
            "\n",
            "\n"
          ]
        }
      ],
      "source": [
        "# Pretty print all ratings\n",
        "def show_all_ratings_formatted(df):\n",
        "    for i, row in df.iterrows():\n",
        "        print(f\"Row {i}:\")\n",
        "        print(\"-\" * 50)\n",
        "        try:\n",
        "            json_data = json.loads(row[\"rating\"])\n",
        "            print(json.dumps(json_data, indent=2))\n",
        "        except:\n",
        "            print(row[\"rating\"])\n",
        "        print(\"\\n\")\n",
        "\n",
        "# Show first few ratings\n",
        "show_all_ratings_formatted(final.head())"
      ]
    },
    {
      "cell_type": "code",
      "execution_count": 119,
      "metadata": {
        "id": "wmbz1RN78-0f"
      },
      "outputs": [],
      "source": [
        "import re\n",
        "\n",
        "# Extract only the final score from the rating column\n",
        "def extract_score(rating_text):\n",
        "    if pd.isna(rating_text):\n",
        "        return None\n",
        "    # Look for \"Based on the evaluation criteria, the score is: X\" pattern\n",
        "    match = re.search(r'Based on the evaluation criteria, the score is:\\s*(\\d+)', str(rating_text))\n",
        "    if match:\n",
        "        return int(match.group(1))\n",
        "    # Alternative pattern: look for final number at the end\n",
        "    match = re.search(r'score is:\\s*(\\d+)\\.?$', str(rating_text))\n",
        "    if match:\n",
        "        return int(match.group(1))\n",
        "    return None\n",
        "\n"
      ]
    },
    {
      "cell_type": "code",
      "execution_count": null,
      "metadata": {
        "id": "9CohbbHV9A0b"
      },
      "outputs": [],
      "source": [
        "final[\"rating_score\"] = final[\"rating\"].apply(extract_score)\n",
        "final.head()"
      ]
    },
    {
      "cell_type": "markdown",
      "metadata": {
        "id": "8vfH3PWYq1_D"
      },
      "source": [
        "These detailed ratings could be used to diagnose issues with the prompt or the model used. You can iteratively improve the prompt to get the desired output quality."
      ]
    },
    {
      "cell_type": "markdown",
      "metadata": {
        "id": "vygAsK751Yqu"
      },
      "source": [
        "Our model seems to do a decent job as the ratings from Llama suggest. This process can further be scaled with a larger dataset of youtube trascripts.\n",
        "\n",
        "Together, the review analysis and transcript analysis provides important insights to the product managers regarding the market opinion on their product."
      ]
    },
    {
      "cell_type": "markdown",
      "metadata": {
        "id": "xtRLk9QxEHdC"
      },
      "source": [
        "**Power Ahead!**"
      ]
    }
  ],
  "metadata": {
    "accelerator": "GPU",
    "colab": {
      "gpuType": "T4",
      "provenance": []
    },
    "kernelspec": {
      "display_name": "Python 3",
      "name": "python3"
    },
    "language_info": {
      "codemirror_mode": {
        "name": "ipython",
        "version": 3
      },
      "file_extension": ".py",
      "mimetype": "text/x-python",
      "name": "python",
      "nbconvert_exporter": "python",
      "pygments_lexer": "ipython3",
      "version": "3.11.5"
    },
    "orig_nbformat": 4
  },
  "nbformat": 4,
  "nbformat_minor": 0
}
